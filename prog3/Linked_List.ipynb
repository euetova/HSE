{
 "cells": [
  {
   "cell_type": "code",
   "execution_count": 1,
   "metadata": {
    "collapsed": true
   },
   "outputs": [],
   "source": [
    "class Node:\n",
    "    def __init__(self, data, next=None):\n",
    "        self.data = data\n",
    "        self.next = next"
   ]
  },
  {
   "cell_type": "code",
   "execution_count": 2,
   "metadata": {
    "collapsed": false
   },
   "outputs": [],
   "source": [
    "class LinkedList:\n",
    "    def __init__(self, head=None):\n",
    "        self.head = head\n",
    "\n",
    "    def empty(self):\n",
    "        if self.head:\n",
    "            return False\n",
    "        return True\n",
    "\n",
    "    def printList(self):\n",
    "        node = self.head\n",
    "        while node:\n",
    "            print(node.data, end=\"->\")\n",
    "            node = node.next\n",
    "        print()\n",
    "\n",
    "    def push(self, data):\n",
    "        node = Node(data, next=self.head)\n",
    "        self.head = node\n",
    "\n",
    "    def append(self, data):\n",
    "        new_node = Node(data)\n",
    "        if not self.head:\n",
    "            self.head = new_node\n",
    "        else:\n",
    "            node = self.head\n",
    "            while node.next:\n",
    "                node = node.next\n",
    "            node.next = new_node\n",
    "            \n",
    "    def insert(self, index, value):\n",
    "        node = self.head\n",
    "        new_node = Node(value)\n",
    "        if index == self.size():\n",
    "            self.append(value)\n",
    "        elif index == 0:\n",
    "            new_node.next = self.head     \n",
    "            self.head = new_node            \n",
    "        else:\n",
    "            for i in range(index-1):\n",
    "                node = node.next\n",
    "            old_node = node.next\n",
    "            node.next = new_node\n",
    "            new_node.next = old_node\n",
    "    \n",
    "    def delete(self, value):\n",
    "        node = self.head\n",
    "        previous = None\n",
    "        while node.data != value:\n",
    "            previous = node\n",
    "            node = node.next\n",
    "        if previous == None:\n",
    "            self.head = node.next\n",
    "        else:\n",
    "            previous.next = node.next\n",
    "    \n",
    "    def size(self):\n",
    "        node = self.head\n",
    "        amount = 0\n",
    "        while node:\n",
    "            amount += 1\n",
    "            node = node.next\n",
    "        return amount\n",
    "    \n",
    "    def reverse(self):\n",
    "        node = self.head\n",
    "        previous = None\n",
    "        while(node is not None):\n",
    "            nxt = node.next\n",
    "            node.next = previous\n",
    "            previous = node\n",
    "            node = nxt\n",
    "        self.head = previous"
   ]
  },
  {
   "cell_type": "code",
   "execution_count": 3,
   "metadata": {
    "collapsed": false
   },
   "outputs": [
    {
     "name": "stdout",
     "output_type": "stream",
     "text": [
      "1->2->3->1->2->3->4->5->4->5->6->6->6->6->1->1->54->3->\n"
     ]
    }
   ],
   "source": [
    "n3 = Node(3)\n",
    "n2 = Node(2, next=n3)\n",
    "n1 = Node(1, next=n2)\n",
    "\n",
    "l = LinkedList(head=n1)\n",
    "for i in [1,2,3,4,5,4,5,6,6,6,6,1,1,54,3]:\n",
    "    l.append(i)\n",
    "l.printList()"
   ]
  },
  {
   "cell_type": "code",
   "execution_count": 4,
   "metadata": {
    "collapsed": false
   },
   "outputs": [
    {
     "data": {
      "text/plain": [
       "18"
      ]
     },
     "execution_count": 4,
     "metadata": {},
     "output_type": "execute_result"
    }
   ],
   "source": [
    "l.size()"
   ]
  },
  {
   "cell_type": "code",
   "execution_count": 5,
   "metadata": {
    "collapsed": false
   },
   "outputs": [
    {
     "name": "stdout",
     "output_type": "stream",
     "text": [
      "1->2->3->1->2->3->4->4->5->6->6->6->6->1->1->54->3->\n"
     ]
    }
   ],
   "source": [
    "l.delete(5)\n",
    "l.printList()"
   ]
  },
  {
   "cell_type": "code",
   "execution_count": 6,
   "metadata": {
    "collapsed": false
   },
   "outputs": [
    {
     "name": "stdout",
     "output_type": "stream",
     "text": [
      "1->2->15->3->1->2->3->4->4->5->6->6->6->6->1->1->54->3->\n"
     ]
    }
   ],
   "source": [
    "l.insert(2, 15)\n",
    "l.printList()"
   ]
  },
  {
   "cell_type": "code",
   "execution_count": 7,
   "metadata": {
    "collapsed": false
   },
   "outputs": [
    {
     "name": "stdout",
     "output_type": "stream",
     "text": [
      "30->1->2->15->3->1->2->3->4->4->5->6->6->6->6->1->1->54->3->\n"
     ]
    }
   ],
   "source": [
    "l.insert(0, 30)\n",
    "l.printList()"
   ]
  },
  {
   "cell_type": "code",
   "execution_count": 9,
   "metadata": {
    "collapsed": false
   },
   "outputs": [
    {
     "name": "stdout",
     "output_type": "stream",
     "text": [
      "30->1->2->15->3->1->2->3->4->4->5->6->6->6->6->1->1->54->3->25->\n"
     ]
    }
   ],
   "source": [
    "l.insert(19, 25)\n",
    "l.printList()"
   ]
  },
  {
   "cell_type": "code",
   "execution_count": 10,
   "metadata": {
    "collapsed": false
   },
   "outputs": [
    {
     "name": "stdout",
     "output_type": "stream",
     "text": [
      "25->3->54->1->1->6->6->6->6->5->4->4->3->2->1->3->15->2->1->30->\n"
     ]
    }
   ],
   "source": [
    "l.reverse()\n",
    "l.printList()"
   ]
  },
  {
   "cell_type": "code",
   "execution_count": null,
   "metadata": {
    "collapsed": true
   },
   "outputs": [],
   "source": []
  }
 ],
 "metadata": {
  "anaconda-cloud": {},
  "kernelspec": {
   "display_name": "Python [conda root]",
   "language": "python",
   "name": "conda-root-py"
  },
  "language_info": {
   "codemirror_mode": {
    "name": "ipython",
    "version": 3
   },
   "file_extension": ".py",
   "mimetype": "text/x-python",
   "name": "python",
   "nbconvert_exporter": "python",
   "pygments_lexer": "ipython3",
   "version": "3.5.2"
  }
 },
 "nbformat": 4,
 "nbformat_minor": 1
}
