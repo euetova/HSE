{
 "cells": [
  {
   "cell_type": "code",
   "execution_count": 1,
   "metadata": {
    "collapsed": true
   },
   "outputs": [],
   "source": [
    "import os\n",
    "import pandas as pd\n",
    "import numpy as np\n",
    "import pymorphy2\n",
    "import nltk\n",
    "from nltk.tokenize import WhitespaceTokenizer\n",
    "from string import punctuation"
   ]
  },
  {
   "cell_type": "code",
   "execution_count": 2,
   "metadata": {
    "collapsed": true
   },
   "outputs": [],
   "source": [
    "alltxt = ''         #все тексты в одной переменной\n",
    "\n",
    "for root, dirs, files in os.walk('.'):\n",
    "    for fname in files:\n",
    "        point = fname.rfind('.')\n",
    "        extension = fname[point + 1:]\n",
    "        if extension == 'txt':\n",
    "            file = open(root+'/'+fname, 'r+')\n",
    "            alltxt += file.read()\n",
    "            file.close()"
   ]
  },
  {
   "cell_type": "code",
   "execution_count": 3,
   "metadata": {
    "collapsed": false
   },
   "outputs": [],
   "source": [
    "def tokens(file):  # находит токены\n",
    "    exclude = set(punctuation + '0123456789'+'–—'+'«»')\n",
    "    file = ''.join(ch for ch in file if ch not in exclude)\n",
    "    tkns = WhitespaceTokenizer().tokenize(file.lower()) \n",
    "    return tkns"
   ]
  },
  {
   "cell_type": "code",
   "execution_count": 4,
   "metadata": {
    "collapsed": false
   },
   "outputs": [
    {
     "data": {
      "text/plain": [
       "138075"
      ]
     },
     "execution_count": 4,
     "metadata": {},
     "output_type": "execute_result"
    }
   ],
   "source": [
    "len(tokens(alltxt)) #количество токенов во всех текстах"
   ]
  },
  {
   "cell_type": "code",
   "execution_count": 5,
   "metadata": {
    "collapsed": true
   },
   "outputs": [],
   "source": [
    "def freq(file, word):\n",
    "    t = tokens(file)\n",
    "    k = 0\n",
    "    for i in t:\n",
    "        if i == word:\n",
    "            k += 1\n",
    "    return (k*1000000)/len(t)"
   ]
  },
  {
   "cell_type": "markdown",
   "metadata": {},
   "source": [
    "#### Частота ключевых слов в НЧСРЯ\n",
    "- 274 путь; путь; 357.3\n",
    "- 1626 ящик; ящик; 75.4\n",
    "- 692 берегу; берег; 164.7\n",
    "- 1281 волны; волна; 95.4\n",
    "- 12947 жемчуг; жемчуг; 5.1\n",
    "- 191 вода; вода; 484.4\n",
    "- мартышка; мартышка;-\n",
    "- грот; грот;-"
   ]
  },
  {
   "cell_type": "code",
   "execution_count": 6,
   "metadata": {
    "collapsed": false
   },
   "outputs": [
    {
     "name": "stdout",
     "output_type": "stream",
     "text": [
      "путь;  239.00054318305268\n",
      "ящик;  101.39416983523448\n",
      "берегу;  94.15172913271772\n",
      "волны;  94.15172913271772\n",
      "жемчуг;  28.969762810066992\n",
      "вода;  65.18196632265074\n",
      "мартышка;  246.24298388556943\n",
      "грот;  152.0912547528517\n"
     ]
    }
   ],
   "source": [
    "# В коллекции документов\n",
    "words = ['путь','ящик','берегу','волны','жемчуг','вода','мартышка','грот']\n",
    "for w in words:\n",
    "    print(w+'; ',freq(alltxt, w))"
   ]
  },
  {
   "cell_type": "code",
   "execution_count": 7,
   "metadata": {
    "collapsed": true
   },
   "outputs": [],
   "source": [
    "mintxt = open('mumi2.txt', 'r+').read()"
   ]
  },
  {
   "cell_type": "code",
   "execution_count": 8,
   "metadata": {
    "collapsed": false
   },
   "outputs": [
    {
     "name": "stdout",
     "output_type": "stream",
     "text": [
      "путь;  4896.626768226333\n",
      "ящик;  1088.139281828074\n",
      "берегу;  1632.208922742111\n",
      "волны;  1088.139281828074\n",
      "жемчуг;  1088.139281828074\n",
      "вода;  1088.139281828074\n",
      "мартышка;  7072.905331882481\n",
      "грот;  3808.487486398259\n"
     ]
    }
   ],
   "source": [
    "# В выбранном документе\n",
    "for w in words:\n",
    "    print(w+'; ',freq(mintxt, w))"
   ]
  },
  {
   "cell_type": "markdown",
   "metadata": {},
   "source": [
    "1) Есть ли среди выбранных вами ключевых слов редкие слова?\n",
    "Да, мартышка и грот\n",
    "\n",
    "2) Есть ли среди выбранных вами слов слова, вошедшие в топ 500 по частоте?\n",
    "Да, путь и вода\n",
    "\n",
    "3) К каким частям речи относятся выбранные вами слова, слов какой части речи больше?\n",
    "Существительные\n",
    "\n",
    "4) Какие слова встретились во всех или в большинстве документов? Каковы их грамматические характеристики\n",
    "если смотреть по тем словам, что я выбрала в качестве ключевых, то никаких выводов сделать нельзя. Потому что я выбрала только существительные. Потому что существительные лучше запоминаются, чем другие части речи.\n"
   ]
  },
  {
   "cell_type": "code",
   "execution_count": 9,
   "metadata": {
    "collapsed": false
   },
   "outputs": [
    {
     "name": "stdout",
     "output_type": "stream",
     "text": [
      "         mumi2 mumi ak1 ak5 fl3\n",
      "путь         1    1   0   1   1\n",
      "ящик         1    1   1   0   1\n",
      "мартышка     1    1   0   0   0\n",
      "берегу       1    1   0   0   0\n",
      "жемчуг       1    1   0   1   0\n",
      "грот         1    1   0   0   0\n",
      "вода         1    1   1   0   1\n",
      "мой          1    1   1   1   1\n",
      "очень        1    1   1   1   1\n",
      "он           1    1   1   1   1\n"
     ]
    }
   ],
   "source": [
    "# Задание 1.2.\n",
    "\n",
    "data = np.array([['','mumi2','mumi', 'ak1', 'ak5', 'fl3'],\n",
    "                ['путь',1,1,0,1,1],\n",
    "                ['ящик',1,1,1,0,1],\n",
    "                ['мартышка',1,1,0,0,0],\n",
    "                ['берегу',1,1,0,0,0],\n",
    "                ['жемчуг',1,1,0,1,0],\n",
    "                ['грот',1,1,0,0,0],\n",
    "                ['вода',1,1,1,0,1],\n",
    "                ['мой',1,1,1,1,1],            # высокочастотные слова\n",
    "                ['очень',1,1,1,1,1],\n",
    "                ['он',1,1,1,1,1]])\n",
    "                \n",
    "print(pd.DataFrame(data=data[1:,1:],\n",
    "                  index=data[1:,0],\n",
    "                  columns=data[0,1:]))"
   ]
  },
  {
   "cell_type": "markdown",
   "metadata": {},
   "source": [
    "##### Найдите тексты, удовлетворяющие запросу Word1&Word2&¬Word3\n",
    "fl3"
   ]
  },
  {
   "cell_type": "code",
   "execution_count": 21,
   "metadata": {
    "collapsed": false
   },
   "outputs": [
    {
     "name": "stdout",
     "output_type": "stream",
     "text": [
      "улыбнулось 1\n",
      "устроят 1\n"
     ]
    }
   ],
   "source": [
    "types_all = nltk.FreqDist(tokens(alltxt))\n",
    "for i in types_all.most_common()[-2:]:  # находим 2 редких слова в коллекции\n",
    "    print (i[0], i[1])"
   ]
  },
  {
   "cell_type": "code",
   "execution_count": 16,
   "metadata": {
    "collapsed": false
   },
   "outputs": [],
   "source": [
    "types_min = nltk.FreqDist(tokens(mintxt))\n",
    "for i in types_min.most_common():    # проверяем, встречаются ли эти слова в выбранном тексте\n",
    "    if i[0] == 'улыбнулось' or i[0] == 'устроят':\n",
    "        print(i[0], i[1])"
   ]
  },
  {
   "cell_type": "code",
   "execution_count": 15,
   "metadata": {
    "collapsed": false
   },
   "outputs": [
    {
     "data": {
      "text/plain": [
       "1838"
      ]
     },
     "execution_count": 15,
     "metadata": {},
     "output_type": "execute_result"
    }
   ],
   "source": [
    "len(tokens(mintxt))"
   ]
  },
  {
   "cell_type": "code",
   "execution_count": 19,
   "metadata": {
    "collapsed": false
   },
   "outputs": [],
   "source": [
    "def pymorf(types, leks):\n",
    "    morph = pymorphy2.MorphAnalyzer()\n",
    "    lemmata = nltk.FreqDist()\n",
    "    for t in types:\n",
    "        try:\n",
    "            l = morph.parse(t)[0].normal_form\n",
    "            if l in lemmata:\n",
    "                lemmata[l] += types[t]\n",
    "            else:\n",
    "                lemmata[l] = types[t]\n",
    "        except IndexError:\n",
    "            if t in lemmata:\n",
    "                lemmata[t] += types[t]\n",
    "            else:\n",
    "                lemmata[t] = types[t]\n",
    "\n",
    "    for i in lemmata.most_common():\n",
    "        for l in leks:\n",
    "            if l == i[0]:\n",
    "                print (i[0], i[1])"
   ]
  },
  {
   "cell_type": "code",
   "execution_count": 22,
   "metadata": {
    "collapsed": false
   },
   "outputs": [
    {
     "name": "stdout",
     "output_type": "stream",
     "text": [
      "быть 1793\n",
      "весь 1211\n",
      "путь 69\n",
      "вода 57\n",
      "улыбнуться 52\n",
      "волна 34\n",
      "устроить 29\n",
      "грот 29\n",
      "ящик 25\n",
      "жемчуг 10\n"
     ]
    }
   ],
   "source": [
    "leks_all = ['путь','ящик','волна','грот','жемчуг','вода','быть','весь','улыбнуться','устроить']\n",
    "pymorf(types_all, leks_all)"
   ]
  },
  {
   "cell_type": "code",
   "execution_count": 37,
   "metadata": {
    "collapsed": false
   },
   "outputs": [],
   "source": [
    "words4 = ['грот','жемчуг','быть','весь']\n",
    "df = pd.DataFrame(columns=words4)"
   ]
  },
  {
   "cell_type": "code",
   "execution_count": 58,
   "metadata": {
    "collapsed": false
   },
   "outputs": [
    {
     "name": "stdout",
     "output_type": "stream",
     "text": [
      "ak1.txt\n",
      "грот;  0.0\n",
      "жемчуг;  0.0\n",
      "быть;  2117.362371445856\n",
      "весь;  151.24016938898973\n",
      "\n",
      "ak2.txt\n",
      "грот;  0.0\n",
      "жемчуг;  0.0\n",
      "быть;  2961.082910321489\n",
      "весь;  282.0078962210942\n",
      "\n",
      "ak3.txt\n",
      "грот;  0.0\n",
      "жемчуг;  0.0\n",
      "быть;  2879.291251384275\n",
      "весь;  738.27980804725\n",
      "\n",
      "ak4.txt\n",
      "грот;  0.0\n",
      "жемчуг;  0.0\n",
      "быть;  1933.3456085435464\n",
      "весь;  460.3203829865586\n",
      "\n",
      "ak5.txt\n",
      "грот;  0.0\n",
      "жемчуг;  0.0\n",
      "быть;  2001.8350154308116\n",
      "весь;  417.04896154808574\n",
      "\n",
      "fl1.txt\n",
      "грот;  0.0\n",
      "жемчуг;  0.0\n",
      "быть;  626.0620695823271\n",
      "весь;  447.1871925588051\n",
      "\n",
      "fl2.txt\n",
      "грот;  0.0\n",
      "жемчуг;  0.0\n",
      "быть;  742.3170188548523\n",
      "весь;  395.9024100559212\n",
      "\n",
      "fl3.txt\n",
      "грот;  0.0\n",
      "жемчуг;  0.0\n",
      "быть;  872.8723735893759\n",
      "весь;  415.6535112330361\n",
      "\n",
      "mumi.txt\n",
      "грот;  2110.022607385079\n",
      "жемчуг;  301.4318010550113\n",
      "быть;  1055.0113036925395\n",
      "весь;  753.5795026375282\n",
      "\n",
      "mumi2.txt\n",
      "грот;  3808.487486398259\n",
      "жемчуг;  1088.139281828074\n",
      "быть;  1088.139281828074\n",
      "весь;  544.069640914037\n",
      "\n"
     ]
    }
   ],
   "source": [
    "for root, dirs, files in os.walk('.'):\n",
    "    for fname in files:\n",
    "        point = fname.rfind('.')\n",
    "        extension = fname[point + 1:]\n",
    "        if extension == 'txt':\n",
    "            file = open(root+'/'+fname, 'r+').read()\n",
    "            print(fname)\n",
    "            df.loc[fname] = 0\n",
    "            for w in words4:\n",
    "                f = freq(file, w)\n",
    "                print(w+'; ',f)\n",
    "                df[w][fname] = f\n",
    "            print()"
   ]
  },
  {
   "cell_type": "code",
   "execution_count": 59,
   "metadata": {
    "collapsed": false
   },
   "outputs": [
    {
     "data": {
      "text/html": [
       "<div>\n",
       "<table border=\"1\" class=\"dataframe\">\n",
       "  <thead>\n",
       "    <tr style=\"text-align: right;\">\n",
       "      <th></th>\n",
       "      <th>грот</th>\n",
       "      <th>жемчуг</th>\n",
       "      <th>быть</th>\n",
       "      <th>весь</th>\n",
       "    </tr>\n",
       "  </thead>\n",
       "  <tbody>\n",
       "    <tr>\n",
       "      <th>ak1.txt</th>\n",
       "      <td>0.000000</td>\n",
       "      <td>0.000000</td>\n",
       "      <td>2117.362371</td>\n",
       "      <td>151.240169</td>\n",
       "    </tr>\n",
       "    <tr>\n",
       "      <th>ak2.txt</th>\n",
       "      <td>0.000000</td>\n",
       "      <td>0.000000</td>\n",
       "      <td>2961.082910</td>\n",
       "      <td>282.007896</td>\n",
       "    </tr>\n",
       "    <tr>\n",
       "      <th>ak3.txt</th>\n",
       "      <td>0.000000</td>\n",
       "      <td>0.000000</td>\n",
       "      <td>2879.291251</td>\n",
       "      <td>738.279808</td>\n",
       "    </tr>\n",
       "    <tr>\n",
       "      <th>ak4.txt</th>\n",
       "      <td>0.000000</td>\n",
       "      <td>0.000000</td>\n",
       "      <td>1933.345609</td>\n",
       "      <td>460.320383</td>\n",
       "    </tr>\n",
       "    <tr>\n",
       "      <th>ak5.txt</th>\n",
       "      <td>0.000000</td>\n",
       "      <td>0.000000</td>\n",
       "      <td>2001.835015</td>\n",
       "      <td>417.048962</td>\n",
       "    </tr>\n",
       "    <tr>\n",
       "      <th>fl1.txt</th>\n",
       "      <td>0.000000</td>\n",
       "      <td>0.000000</td>\n",
       "      <td>626.062070</td>\n",
       "      <td>447.187193</td>\n",
       "    </tr>\n",
       "    <tr>\n",
       "      <th>fl2.txt</th>\n",
       "      <td>0.000000</td>\n",
       "      <td>0.000000</td>\n",
       "      <td>742.317019</td>\n",
       "      <td>395.902410</td>\n",
       "    </tr>\n",
       "    <tr>\n",
       "      <th>fl3.txt</th>\n",
       "      <td>0.000000</td>\n",
       "      <td>0.000000</td>\n",
       "      <td>872.872374</td>\n",
       "      <td>415.653511</td>\n",
       "    </tr>\n",
       "    <tr>\n",
       "      <th>mumi.txt</th>\n",
       "      <td>2110.022607</td>\n",
       "      <td>301.431801</td>\n",
       "      <td>1055.011304</td>\n",
       "      <td>753.579503</td>\n",
       "    </tr>\n",
       "    <tr>\n",
       "      <th>mumi2.txt</th>\n",
       "      <td>3808.487486</td>\n",
       "      <td>1088.139282</td>\n",
       "      <td>1088.139282</td>\n",
       "      <td>544.069641</td>\n",
       "    </tr>\n",
       "  </tbody>\n",
       "</table>\n",
       "</div>"
      ],
      "text/plain": [
       "                  грот       жемчуг         быть        весь\n",
       "ak1.txt       0.000000     0.000000  2117.362371  151.240169\n",
       "ak2.txt       0.000000     0.000000  2961.082910  282.007896\n",
       "ak3.txt       0.000000     0.000000  2879.291251  738.279808\n",
       "ak4.txt       0.000000     0.000000  1933.345609  460.320383\n",
       "ak5.txt       0.000000     0.000000  2001.835015  417.048962\n",
       "fl1.txt       0.000000     0.000000   626.062070  447.187193\n",
       "fl2.txt       0.000000     0.000000   742.317019  395.902410\n",
       "fl3.txt       0.000000     0.000000   872.872374  415.653511\n",
       "mumi.txt   2110.022607   301.431801  1055.011304  753.579503\n",
       "mumi2.txt  3808.487486  1088.139282  1088.139282  544.069641"
      ]
     },
     "execution_count": 59,
     "metadata": {},
     "output_type": "execute_result"
    }
   ],
   "source": [
    "df"
   ]
  },
  {
   "cell_type": "code",
   "execution_count": 60,
   "metadata": {
    "collapsed": true
   },
   "outputs": [],
   "source": [
    "%matplotlib inline\n",
    "import matplotlib.pyplot as plt"
   ]
  },
  {
   "cell_type": "code",
   "execution_count": 62,
   "metadata": {
    "collapsed": true
   },
   "outputs": [],
   "source": [
    "df = df.rename(columns={'грот': 'grot', 'жемчуг': 'zhemchug','быть': 'byt', 'весь': 'ves'})\n",
    "#иначе просто квдратики,вместо названий"
   ]
  },
  {
   "cell_type": "code",
   "execution_count": 65,
   "metadata": {
    "collapsed": false
   },
   "outputs": [
    {
     "data": {
      "text/plain": [
       "<matplotlib.axes._subplots.AxesSubplot at 0xe81ae90>"
      ]
     },
     "execution_count": 65,
     "metadata": {},
     "output_type": "execute_result"
    },
    {
     "data": {
      "image/png": "[encoded data removed]",
      "text/plain": [
       "<matplotlib.figure.Figure at 0xe81fa50>"
      ]
     },
     "metadata": {},
     "output_type": "display_data"
    }
   ],
   "source": [
    "f = plt.figure(figsize=(7,7))\n",
    "df.plot(ax=f.gca())"
   ]
  },
  {
   "cell_type": "markdown",
   "metadata": {},
   "source": [
    "Отличаются. Слова с большим tf.idf имеют imp выше в выбранном тексте и похожем на него, чем слова, взятые из частотного словаря"
   ]
  },
  {
   "cell_type": "code",
   "execution_count": null,
   "metadata": {
    "collapsed": true
   },
   "outputs": [],
   "source": []
  }
 ],
 "metadata": {
  "anaconda-cloud": {},
  "kernelspec": {
   "display_name": "Python [conda root]",
   "language": "python",
   "name": "conda-root-py"
  },
  "language_info": {
   "codemirror_mode": {
    "name": "ipython",
    "version": 3
   },
   "file_extension": ".py",
   "mimetype": "text/x-python",
   "name": "python",
   "nbconvert_exporter": "python",
   "pygments_lexer": "ipython3",
   "version": "3.5.2"
  }
 },
 "nbformat": 4,
 "nbformat_minor": 1
}
