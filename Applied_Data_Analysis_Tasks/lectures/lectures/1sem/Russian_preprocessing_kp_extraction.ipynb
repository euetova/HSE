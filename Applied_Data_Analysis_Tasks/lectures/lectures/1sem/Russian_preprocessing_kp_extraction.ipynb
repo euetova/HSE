{
 "cells": [
  {
   "cell_type": "markdown",
   "metadata": {},
   "source": [
    "# Предобработка текстов на русском языке. Извлечение ключевых слов и словосочетаний\n",
    "\n",
    "## Предобработка текстов на русском языке\n",
    "Для начала рассматриваем некоторое количество новостных сообщений, опубликованных в январе-феврале 2016 года, которые находятся в файле 'texts.json'. Мы считаем, что принципиальных различий между текстами нет, поэтому склеиваем их в один большой текст. "
   ]
  },
  {
   "cell_type": "code",
   "execution_count": 1,
   "metadata": {
    "collapsed": false
   },
   "outputs": [
    {
     "name": "stdout",
     "output_type": "stream",
     "text": [
      "N of texts 221\n"
     ]
    }
   ],
   "source": [
    "%matplotlib inline\n",
    "import json\n",
    "\n",
    "infile = '../data/texts.json'\n",
    "\n",
    "\n",
    "with open(infile) as data_file:    \n",
    "    data = json.load(data_file)\n",
    "collection = []\n",
    "for i in data['data']:\n",
    "    collection.append(i['text'])\n",
    "print 'N of texts', len(collection)\n",
    "merged_text = ' '.join(collection)"
   ]
  },
  {
   "cell_type": "code",
   "execution_count": 3,
   "metadata": {
    "collapsed": false
   },
   "outputs": [
    {
     "name": "stdout",
     "output_type": "stream",
     "text": [
      "как\n",
      "вам\n",
      "удалось\n",
      "дать\n",
      "настолько\n",
      "точный\n",
      "прогноз\n",
      "у\n",
      "меня\n",
      "же\n"
     ]
    }
   ],
   "source": [
    "import nltk\n",
    "from nltk.tokenize import WhitespaceTokenizer\n",
    "from string import punctuation\n",
    "exclude = set(punctuation + '0123456789'+u'–—'+u'«»')\n",
    "merged_text = ''.join(ch for ch in merged_text if ch not in exclude)\n",
    "tokens = WhitespaceTokenizer().tokenize(merged_text.lower())\n",
    "for i in tokens[:10]: print i "
   ]
  },
  {
   "cell_type": "markdown",
   "metadata": {},
   "source": [
    "Используем самый простой токенизатор из NLTK, который разбивает тексты на токены по пробелам. Удаляем символы пунктуации, цифры и несколько разных видов тире. Приводим текст к нижнему регистру – на этом стандартная и минимальная обработка текста заканчивается."
   ]
  },
  {
   "cell_type": "code",
   "execution_count": 27,
   "metadata": {
    "collapsed": false
   },
   "outputs": [
    {
     "name": "stdout",
     "output_type": "stream",
     "text": [
      "!\"#$%&'()*+,-./:;<=>?@[\\]^_`{|}~\n"
     ]
    }
   ],
   "source": [
    "print punctuation"
   ]
  },
  {
   "cell_type": "markdown",
   "metadata": {},
   "source": [
    "Токен – словоупотребление (слово + его место в тексте), тип – словоформа. Чтобы посчитать количество типов в тексте используем частотные словари NLTK."
   ]
  },
  {
   "cell_type": "code",
   "execution_count": 28,
   "metadata": {
    "collapsed": false
   },
   "outputs": [
    {
     "name": "stdout",
     "output_type": "stream",
     "text": [
      "N of tokens:  148084\n",
      "N of types: 27354\n",
      "<FreqDist with 27354 samples and 148084 outcomes>\n"
     ]
    }
   ],
   "source": [
    "print 'N of tokens: ', len(tokens)\n",
    "types = nltk.FreqDist(tokens)\n",
    "print 'N of types:', len(types)\n",
    "print types"
   ]
  },
  {
   "cell_type": "code",
   "execution_count": 29,
   "metadata": {
    "collapsed": false,
    "scrolled": true
   },
   "outputs": [
    {
     "name": "stdout",
     "output_type": "stream",
     "text": [
      "в 6124\n",
      "и 3733\n",
      "на 3359\n",
      "не 2036\n",
      "что 1691\n",
      "по 1686\n",
      "с 1510\n",
      "за 964\n",
      "это 799\n",
      "года 789\n",
      "к 748\n",
      "а 733\n",
      "для 708\n",
      "как 630\n",
      "от 598\n",
      "до 595\n",
      "но 591\n",
      "о 567\n",
      "из 543\n",
      "году 535\n"
     ]
    }
   ],
   "source": [
    "for i in types.most_common(20):\n",
    "     print i[0], i[1]"
   ]
  },
  {
   "cell_type": "markdown",
   "metadata": {},
   "source": [
    "Построим кривую Ципфа для текста и убедимся, что она выглядит правильно."
   ]
  },
  {
   "cell_type": "code",
   "execution_count": 30,
   "metadata": {
    "collapsed": false,
    "scrolled": true
   },
   "outputs": [
    {
     "data": {
      "image/png": "[encoded data removed]",
      "text/plain": [
       "<matplotlib.figure.Figure at 0x7f32b12f69d0>"
      ]
     },
     "metadata": {},
     "output_type": "display_data"
    }
   ],
   "source": [
    "import matplotlib.pyplot as plt\n",
    "fr = types.values()\n",
    "fr.sort(reverse=True)\n",
    "plt.plot(fr[:100])\n",
    "plt.ylabel('Type frequency')\n",
    "plt.xlabel('Type rank')\n",
    "plt.title(\"Zipf's law\")\n",
    "plt.show()"
   ]
  },
  {
   "cell_type": "markdown",
   "metadata": {},
   "source": [
    "Лемматизируем каждое слово с помощью PyMorphy2 и создаем частотный словарь лемм. "
   ]
  },
  {
   "cell_type": "code",
   "execution_count": 31,
   "metadata": {
    "collapsed": false
   },
   "outputs": [
    {
     "name": "stdout",
     "output_type": "stream",
     "text": [
      "N of lemmata: 13359\n",
      "в 6243\n",
      "и 3733\n",
      "на 3359\n",
      "не 2036\n",
      "год 1771\n",
      "что 1728\n",
      "по 1686\n",
      "с 1654\n",
      "это 1391\n",
      "быть 1368\n",
      "за 964\n",
      "рубль 951\n",
      "который 796\n",
      "к 756\n",
      "а 733\n",
      "о 730\n",
      "тот 715\n",
      "для 708\n",
      "он 684\n",
      "цена 641\n"
     ]
    }
   ],
   "source": [
    "import pymorphy2\n",
    "morph = pymorphy2.MorphAnalyzer()\n",
    "lemmata = nltk.FreqDist()\n",
    "for t in types:\n",
    "    try:\n",
    "        l = morph.parse(t)[0].normal_form\n",
    "        if l in lemmata:\n",
    "            lemmata[l] += types[t]\n",
    "        else:\n",
    "            lemmata[l] = types[t]\n",
    "    except IndexError:\n",
    "        if t in lemmata:\n",
    "            lemmata[t] += types[t]\n",
    "        else:\n",
    "            lemmata[t] = types[t]\n",
    "print 'N of lemmata:', len(lemmata)\n",
    "for i in lemmata.most_common(20):\n",
    "    print i[0], i[1]"
   ]
  },
  {
   "cell_type": "markdown",
   "metadata": {},
   "source": [
    "Но разве все слова нам нужны? Не нужны нам стоп-слова: предлоги, местоимения, союзы и кое-что еще. "
   ]
  },
  {
   "cell_type": "code",
   "execution_count": 32,
   "metadata": {
    "collapsed": false
   },
   "outputs": [
    {
     "name": "stdout",
     "output_type": "stream",
     "text": [
      "и в во не что он на я с со как а то все она так его но да ты к у же вы за бы по только ее мне было вот от меня еще нет о из ему теперь когда даже ну вдруг ли если уже или ни быть был него до вас нибудь опять уж вам ведь там потом себя ничего ей может они тут где есть надо ней для мы тебя их чем была сам чтоб без будто чего раз тоже себе под будет ж тогда кто этот того потому этого какой совсем ним здесь этом один почти мой тем чтобы нее сейчас были куда зачем всех никогда можно при наконец два об другой хоть после над больше тот через эти нас про всего них какая много разве три эту моя впрочем хорошо свою этой перед иногда лучше чуть том нельзя такой им более всегда конечно всю между\n"
     ]
    }
   ],
   "source": [
    "from nltk.corpus import stopwords\n",
    "for i in stopwords.words('russian'):\n",
    "    print i,\n",
    "mystopwords = stopwords.words('russian')+[u'это', u'иза', u'свой',u'млрд', u'млн',u'млна',u'тыс',u'трлн']"
   ]
  },
  {
   "cell_type": "markdown",
   "metadata": {},
   "source": [
    "Создаем список лемм без стоп-слов и снова обновляем частотный словарь."
   ]
  },
  {
   "cell_type": "code",
   "execution_count": 33,
   "metadata": {
    "collapsed": false
   },
   "outputs": [
    {
     "name": "stdout",
     "output_type": "stream",
     "text": [
      "год 1771\n",
      "рубль 951\n",
      "который 796\n",
      "цена 641\n",
      "мочь 615\n",
      "россия 563\n",
      "весь 533\n",
      "компания 466\n",
      "рынок 454\n",
      "нефть 453\n",
      "страна 431\n",
      "российский 429\n",
      "доллар 404\n",
      "экономика 337\n",
      "миллиард 336\n",
      "рост 333\n",
      "говорить 308\n",
      "банка 281\n",
      "ещё 277\n",
      "также 267\n"
     ]
    }
   ],
   "source": [
    "lemmata_no_sw = nltk.FreqDist()\n",
    "for l in lemmata:\n",
    "    if not l in mystopwords:\n",
    "        lemmata_no_sw[l] = lemmata[l]\n",
    "for i in lemmata_no_sw.most_common(20):\n",
    "    print i[0], i[1]"
   ]
  },
  {
   "cell_type": "markdown",
   "metadata": {},
   "source": [
    "А теперь посмотрим только на существительные и подумаем о них как о *ключевых словах*."
   ]
  },
  {
   "cell_type": "code",
   "execution_count": 34,
   "metadata": {
    "collapsed": false
   },
   "outputs": [
    {
     "name": "stdout",
     "output_type": "stream",
     "text": [
      "N of nouns: 6331\n",
      "год 1771\n",
      "рубль 951\n",
      "цена 641\n",
      "россия 563\n",
      "компания 466\n",
      "рынок 454\n",
      "нефть 453\n",
      "страна 431\n",
      "доллар 404\n",
      "экономика 337\n",
      "рост 333\n",
      "банка 281\n",
      "уровень 257\n",
      "правительство 224\n",
      "бюджет 223\n",
      "слово 222\n",
      "цб 222\n",
      "курс 220\n",
      "эксперт 215\n",
      "время 212\n"
     ]
    }
   ],
   "source": [
    "nouns = nltk.FreqDist()\n",
    "for t in types:\n",
    "    if not t in mystopwords:\n",
    "        try:\n",
    "            gram_info = morph.parse(t)[0]\n",
    "            if 'NOUN' in gram_info.tag:\n",
    "                l = gram_info.normal_form\n",
    "                if l in nouns:\n",
    "                    nouns[l] += types[t]\n",
    "                else:\n",
    "                    nouns[l] = types[t]\n",
    "        except IndexError:\n",
    "            pass\n",
    "print 'N of nouns:', len(nouns)\n",
    "for i in nouns.most_common(20):\n",
    "    print i[0], i[1]"
   ]
  },
  {
   "cell_type": "markdown",
   "metadata": {},
   "source": [
    "## Извлечение ключевых словосочетаний по шаблону\n",
    "\n",
    "Допустим, что ключевым может быть словосочетание, которое удовлетворяет хорошему грамматическому шаблону, например, СУЩ + СУЩ, ПРИЛ + СУЩ. Попробуем извлечь все такие пары слов из текста. Функция match() принимает на вход n-граму – последовательность из n слов и проверяет ее на соответствие каждому шаблону. "
   ]
  },
  {
   "cell_type": "code",
   "execution_count": 35,
   "metadata": {
    "collapsed": true
   },
   "outputs": [],
   "source": [
    "from itertools import product\n",
    "patterns = ['ADJF+NOUN','PRTS+NOUN','NOUN+NOUN']\n",
    "    \n",
    "def match(ngram, patterns = patterns):\n",
    "    index = []\n",
    "    for word in ngram:\n",
    "        if word in mystopwords:\n",
    "            return None\n",
    "        buf = [(p.normal_form, p.tag.POS) for p in morph.parse(word)]\n",
    "        index.append((word,buf)) \n",
    "    pos_tagging = product(*[ind[1] for ind in index])     \n",
    "    possible_patterns = map(lambda pos_tag: zip(*pos_tag), pos_tagging) \n",
    "    possible_patterns = map(lambda pattern: [pattern[0], map(lambda grammeme: grammeme, pattern[1])], possible_patterns)\n",
    "    possible_patterns = map(lambda pattern: (pattern[0], '+'.join(pattern[1])), possible_patterns)\n",
    "    for pattern in possible_patterns:\n",
    "       # print pattern\n",
    "        if pattern[1] in patterns:\n",
    "            return pattern\n",
    "\n",
    "    return None\n",
    "        "
   ]
  },
  {
   "cell_type": "markdown",
   "metadata": {},
   "source": [
    "Применяем функцию к тексту. Сразу виден существенный недостаток этой функции – словосочетания несогласованы."
   ]
  },
  {
   "cell_type": "code",
   "execution_count": 36,
   "metadata": {
    "collapsed": false
   },
   "outputs": [
    {
     "name": "stdout",
     "output_type": "stream",
     "text": [
      "прошлое год 143\n",
      "курс рубль 67\n",
      "декабрь год 65\n",
      "саудовский аравия 61\n",
      "январь год 53\n",
      "рост цена 49\n",
      "конец год 48\n",
      "нефтяной цена 48\n",
      "низкий цена 45\n",
      "итог год 45\n"
     ]
    }
   ],
   "source": [
    "pattern_coll2  = nltk.FreqDist() \n",
    "count = 0\n",
    "coll2 = nltk.FreqDist(nltk.bigrams(tokens))\n",
    "for c2 in coll2:\n",
    "    try:\n",
    "        p = match(c2)\n",
    "        if p != None:\n",
    "            collocation = ' '.join(p[0])\n",
    "            if collocation in pattern_coll2:\n",
    "                pattern_coll2[collocation] += coll2[c2]\n",
    "            else:\n",
    "                pattern_coll2[collocation] = coll2[c2]\n",
    "    except:\n",
    "        pass\n",
    "\n",
    "for c2 in pattern_coll2.most_common(10):\n",
    "    print c2[0], c2[1]"
   ]
  },
  {
   "cell_type": "markdown",
   "metadata": {},
   "source": [
    "Совсем несогласованы."
   ]
  },
  {
   "cell_type": "code",
   "execution_count": 37,
   "metadata": {
    "collapsed": false
   },
   "outputs": [
    {
     "name": "stdout",
     "output_type": "stream",
     "text": [
      "точный прогноз ADJF+NOUN\n",
      "весёлый музыка ADJF+NOUN\n"
     ]
    }
   ],
   "source": [
    "m = match([u'точный', u'прогноз'])\n",
    "print m[0][0], m[0][1], m[1]\n",
    "\n",
    "m = match([u'веселая', u'музыка'])\n",
    "print m[0][0], m[0][1], m[1]"
   ]
  },
  {
   "cell_type": "markdown",
   "metadata": {},
   "source": [
    "## Извлечение ключевых словосочетаний по статистическим мерам связности \n",
    "\n",
    "Используем реализацию из NLTK:\n",
    "* генерируем список биграм\n",
    "* удаляем биграмы, которые встречаются реже 3 раз\n",
    "* находим 20 биграм с максимальным значением статистического критерия\n",
    "\n",
    "Используем $t–score$."
   ]
  },
  {
   "cell_type": "code",
   "execution_count": 38,
   "metadata": {
    "collapsed": false
   },
   "outputs": [
    {
     "name": "stdout",
     "output_type": "stream",
     "text": [
      "в году\n",
      "на нефть\n",
      "при этом\n",
      "в том\n",
      "за баррель\n",
      "в россии\n",
      "цен на\n",
      "том что\n",
      "цены на\n",
      "то есть\n",
      "а также\n",
      "долл за\n",
      "том числе\n",
      "по итогам\n",
      "млрд рублей\n",
      "в этом\n",
      "за счет\n",
      "кроме того\n",
      "по данным\n",
      "прошлого года\n"
     ]
    }
   ],
   "source": [
    "from nltk.collocations import *\n",
    "bigram_measures = nltk.collocations.BigramAssocMeasures()\n",
    "finder = BigramCollocationFinder.from_words(tokens)\n",
    "finder.apply_freq_filter(3)\n",
    "tscore_ranking = finder.nbest(bigram_measures.student_t, 20)\n",
    "for i in tscore_ranking: print ' '.join(i)"
   ]
  },
  {
   "cell_type": "markdown",
   "metadata": {},
   "source": [
    "Удалим стоп-слова и повторим все шаги заново. "
   ]
  },
  {
   "cell_type": "code",
   "execution_count": 39,
   "metadata": {
    "collapsed": false
   },
   "outputs": [
    {
     "name": "stdout",
     "output_type": "stream",
     "text": [
      "прошлого года\n",
      "прошлом году\n",
      "первую очередь\n",
      "января года\n",
      "итогам года\n",
      "таким образом\n",
      "нефтяных цен\n",
      "саудовской аравии\n",
      "декабря года\n",
      "декабре года\n",
      "экономического роста\n",
      "курс рубля\n",
      "речь идет\n",
      "черного золота\n",
      "курса рубля\n",
      "саудовская аравия\n",
      "точки зрения\n",
      "владимир путин\n",
      "низких цен\n",
      "ближайшее время\n",
      "российской экономики\n",
      "месяцев года\n",
      "алексей улюкаев\n",
      "нефтяных котировок\n",
      "любом случае\n",
      "рост цен\n",
      "черное золото\n",
      "сих пор\n",
      "министр финансов\n",
      "настоящее время\n",
      "начале года\n",
      "начала года\n",
      "конце года\n",
      "риа новости\n",
      "дмитрий медведев\n",
      "курс доллара\n",
      "глава государства\n",
      "роста цен\n",
      "самом деле\n",
      "аналитического управления\n"
     ]
    }
   ],
   "source": [
    "finder.apply_word_filter(lambda w: w in mystopwords)\n",
    "tscore_ranking = finder.nbest(bigram_measures.student_t, 40)\n",
    "for i in tscore_ranking: print ' '.join(i)"
   ]
  },
  {
   "cell_type": "markdown",
   "metadata": {},
   "source": [
    "Используем  $PMI$."
   ]
  },
  {
   "cell_type": "code",
   "execution_count": 40,
   "metadata": {
    "collapsed": false
   },
   "outputs": [
    {
     "name": "stdout",
     "output_type": "stream",
     "text": [
      "liqui moly\n",
      "shanghai composite\n",
      "клаус шваб\n",
      "нижний новгород\n",
      "парниковых газов\n",
      "температура кристаллизации\n",
      "эксон нл\n",
      "electric power\n",
      "iron ore\n",
      "new york\n",
      "генеральная прокуратура\n",
      "ксения юдаева\n",
      "фридом финанс\n",
      "взлетная полоса\n",
      "ньюйоркская конвенция\n",
      "хасан рухани\n",
      "эммануэль ибе\n",
      "fashion consulting\n",
      "forex club\n",
      "kyushu electric\n",
      "merrill lynch\n",
      "qb finance\n",
      "анатолий аксаков\n",
      "биологически активных\n",
      "железную руду\n",
      "кристин лагард\n",
      "полезных ископаемых\n",
      "южного потока\n",
      "standard chartered\n",
      "активных добавок\n",
      "бытовой химии\n",
      "временная администрация\n",
      "естественных монополий\n",
      "парламентских выборов\n",
      "салем альбадри\n",
      "ore mining\n",
      "лук репчатый\n",
      "dp world\n",
      "jp morgan\n",
      "mfx broker\n"
     ]
    }
   ],
   "source": [
    "pmi_ranking =  finder.nbest(bigram_measures.pmi, 40)\n",
    "for i in pmi_ranking: print ' '.join(i)"
   ]
  },
  {
   "cell_type": "markdown",
   "metadata": {},
   "source": [
    "Используем $\\chi^2$."
   ]
  },
  {
   "cell_type": "code",
   "execution_count": 18,
   "metadata": {
    "collapsed": false
   },
   "outputs": [
    {
     "name": "stdout",
     "output_type": "stream",
     "text": [
      "electric power\n",
      "forex club\n",
      "iron ore\n",
      "liqui moly\n",
      "mfx broker\n",
      "new york\n",
      "qb finance\n",
      "shanghai composite\n",
      "генеральная прокуратура\n",
      "квадратного метра\n",
      "клаус шваб\n",
      "кристин лагард\n",
      "ксения юдаева\n",
      "нижний новгород\n",
      "парниковых газов\n",
      "температура кристаллизации\n",
      "фридом финанс\n",
      "эксон нл\n",
      "черное золото\n",
      "саудовская аравия\n"
     ]
    }
   ],
   "source": [
    "chi2_ranking =  finder.nbest(bigram_measures.chi_sq, 20)\n",
    "for i in chi2_ranking: print ' '.join(i).encode('utf8')"
   ]
  },
  {
   "cell_type": "markdown",
   "metadata": {},
   "source": [
    "Используем $LogLikelihood Ratio$, $LLR$."
   ]
  },
  {
   "cell_type": "code",
   "execution_count": 19,
   "metadata": {
    "collapsed": false
   },
   "outputs": [
    {
     "name": "stdout",
     "output_type": "stream",
     "text": [
      "прошлого года\n",
      "первую очередь\n",
      "прошлом году\n",
      "саудовской аравии\n",
      "таким образом\n",
      "черного золота\n",
      "саудовская аравия\n",
      "точки зрения\n",
      "речь идет\n",
      "нефтяных цен\n",
      "черное золото\n",
      "итогам года\n",
      "сих пор\n",
      "владимир путин\n",
      "января года\n",
      "экономического роста\n",
      "риа новости\n",
      "ближайшее время\n",
      "алексей улюкаев\n",
      "нефтяных котировок\n"
     ]
    }
   ],
   "source": [
    "llr_ranking = finder.nbest(bigram_measures.likelihood_ratio, 20)\n",
    "for i in llr_ranking: print ' '.join(i)"
   ]
  },
  {
   "cell_type": "markdown",
   "metadata": {},
   "source": [
    "Сравнение полученных ранжировок можно выполнить с помощью рангового коэффициента корреляции Спирмена.\n",
    "\n",
    "Определение (http://www.machinelearning.ru/)\n",
    "\n",
    "Заданы две выборки $x = (x_1,\\ldots,x_n)$, $y = (y_1,\\ldots,y_n)$.\n",
    "\n",
    "Вычисление корреляции Спирмена:\n",
    "\n",
    "Коэффициент корреляции Спирмена вычисляется по формуле:\n",
    "$\\rho=1-\\frac{6}{n(n-1)(n+1)}\\sum_{i=1}^n(R_i-S_i)^2$, где $R_i$ - ранг наблюдения $x_i$ в ряду $x$, $S_i$ - ранг наблюдения $y_i$ в ряду $y$."
   ]
  },
  {
   "cell_type": "code",
   "execution_count": 20,
   "metadata": {
    "collapsed": false
   },
   "outputs": [
    {
     "name": "stdout",
     "output_type": "stream",
     "text": [
      "0.0\n"
     ]
    }
   ],
   "source": [
    "from nltk.metrics.spearman import *\n",
    "pmi_ranks =  ranks_from_sequence(pmi_ranking)\n",
    "tscore_ranks = ranks_from_sequence(tscore_ranking)\n",
    "print spearman_correlation(pmi_ranks, tscore_ranks)"
   ]
  },
  {
   "cell_type": "code",
   "execution_count": 21,
   "metadata": {
    "collapsed": false
   },
   "outputs": [
    {
     "name": "stdout",
     "output_type": "stream",
     "text": [
      "0.133928571429\n"
     ]
    }
   ],
   "source": [
    "llr_ranks =  ranks_from_sequence(llr_ranking)\n",
    "tscore_ranks = ranks_from_sequence(tscore_ranking)\n",
    "print spearman_correlation(llr_ranks, tscore_ranks)"
   ]
  },
  {
   "cell_type": "code",
   "execution_count": 22,
   "metadata": {
    "collapsed": false
   },
   "outputs": [
    {
     "name": "stdout",
     "output_type": "stream",
     "text": [
      "долл баррель\n",
      "прошлого года\n",
      "нефть баррель\n",
      "прошлом году\n",
      "итогам года\n",
      "рублей рублей\n",
      "цен нефть\n",
      "долл долл\n",
      "руб руб\n",
      "цены нефть\n",
      "году году\n",
      "курс рубля\n",
      "первую очередь\n",
      "января года\n",
      "нефтяных цен\n",
      "нефть долл\n",
      "баррель долл\n",
      "рубля рубля\n",
      "таким образом\n",
      "конце года\n"
     ]
    }
   ],
   "source": [
    "from nltk.collocations import *\n",
    "bigram_measures = nltk.collocations.BigramAssocMeasures()\n",
    "finder = BigramCollocationFinder.from_words(tokens, window_size = 20)\n",
    "finder.apply_freq_filter(2)\n",
    "\n",
    "finder.apply_word_filter(lambda w: len(w) < 3 or w.lower() in mystopwords)\n",
    "\n",
    "tscore_ranking = finder.nbest(bigram_measures.student_t, 20)\n",
    "\n",
    "for i in tscore_ranking: print ' '.join(i)\n",
    "\n"
   ]
  },
  {
   "cell_type": "markdown",
   "metadata": {},
   "source": [
    "# Стемминг"
   ]
  },
  {
   "cell_type": "code",
   "execution_count": 23,
   "metadata": {
    "collapsed": false
   },
   "outputs": [
    {
     "name": "stdout",
     "output_type": "stream",
     "text": [
      "оптимизац\n"
     ]
    }
   ],
   "source": [
    "from nltk.stem.snowball import RussianStemmer\n",
    "stemmer = RussianStemmer()\n",
    "print stemmer.stem(u'оптимизация')"
   ]
  },
  {
   "cell_type": "markdown",
   "metadata": {},
   "source": [
    "Частотный словарь стемов (псевдооснов):"
   ]
  },
  {
   "cell_type": "code",
   "execution_count": 24,
   "metadata": {
    "collapsed": false
   },
   "outputs": [
    {
     "name": "stdout",
     "output_type": "stream",
     "text": [
      "год 1619\n",
      "котор 796\n",
      "рубл 764\n",
      "цен 651\n",
      "росс 565\n",
      "банк 481\n",
      "компан 467\n",
      "нефт 453\n",
      "стран 440\n",
      "российск 429\n",
      "говор 405\n",
      "так 359\n",
      "экономик 339\n",
      "рост 333\n",
      "рынк 331\n",
      "нов 299\n",
      "такж 267\n",
      "сам 263\n",
      "дан 261\n",
      "сво 248\n"
     ]
    }
   ],
   "source": [
    "stems = nltk.FreqDist()\n",
    "for t in types:\n",
    "    if not t in mystopwords:\n",
    "        stem = stemmer.stem(t)\n",
    "        if stem in stems:\n",
    "            stems[stem] += types[t]\n",
    "        else:\n",
    "            stems[stem] = types[t]\n",
    "for i in stems.most_common(20):\n",
    "    print i[0], i[1]"
   ]
  },
  {
   "cell_type": "markdown",
   "metadata": {
    "collapsed": true
   },
   "source": [
    "# Задание 1\n",
    "\n",
    "Найдите ключевые слова и словосочетания для произвольного текста с использованием грамматических шаблонов и хотя бы одной статистической меры связности. Прокомментируйте полученные результаты.\n",
    "\n",
    "# Задание 2 \n",
    "\n",
    "Напишите функцию concord(), которая принимает на вход:\n",
    "* несогласованное словосочетание\n",
    "* шаблон словосочетания\n",
    "и возвращает согласованное словосочетание.\n",
    "\n",
    "# Задание 3 \n",
    "\n",
    "Реализуйте TextRank и сравните результаты его применения с результами задания 1.\n"
   ]
  },
  {
   "cell_type": "markdown",
   "metadata": {},
   "source": [
    "# Литература\n",
    "\n",
    "* Manning & Shuetze: Ch. 5 – Collocations\n",
    "\n",
    "* NLTK Book: Collocations HOWTO http://www.nltk.org/howto/collocations.html\n",
    "\n",
    "* Е. В. Ягунова, Л. М. Пивоварова,  \"От конструкций к коллокациям\" – http://webground.su/data/lit/pivovarova_yagunova/Ot_kollokatsiy_k_konstruktsiyam.pdf\n"
   ]
  },
  {
   "cell_type": "code",
   "execution_count": null,
   "metadata": {
    "collapsed": true
   },
   "outputs": [],
   "source": []
  }
 ],
 "metadata": {
  "anaconda-cloud": {},
  "kernelspec": {
   "display_name": "Python [default]",
   "language": "python",
   "name": "python3"
  },
  "language_info": {
   "codemirror_mode": {
    "name": "ipython",
    "version": 3
   },
   "file_extension": ".py",
   "mimetype": "text/x-python",
   "name": "python",
   "nbconvert_exporter": "python",
   "pygments_lexer": "ipython3",
   "version": "3.5.2"
  },
  "name": "Russian_preprocessing_kp_extraction.ipynb"
 },
 "nbformat": 4,
 "nbformat_minor": 0
}
