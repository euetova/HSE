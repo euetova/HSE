{
 "cells": [
  {
   "cell_type": "markdown",
   "metadata": {},
   "source": [
    "# Мера контрастности tf-idf для выделения ключевых слов. Векторная модель текста. Снижение размерности в векторной модели. Совсем простой поиск\n",
    "\n",
    "\n",
    "## Мера контрастности $tf-idf$ для выделения ключевых слов\n",
    "\n",
    "Рассмотрим коллекцию текстов о ягуарах. Ягуар – это омоним, имеет несколько значений: животное, название напитка, название автомобильной марки, название фильма и модель швейной машины. На каждое из 5 значений слова у нас есть по 5 текстов. Для каждого из 5 значений слова мы можем найти в коллекции свои, специфические слова. \n",
    "\n",
    "Для начала объединим каждые 5 текстов в один текст, получим коллекцию из 5 текстов, каждый посвящен своему значению. "
   ]
  },
  {
   "cell_type": "code",
   "execution_count": 1,
   "metadata": {
    "collapsed": false,
    "scrolled": true
   },
   "outputs": [
    {
     "name": "stdout",
     "output_type": "stream",
     "text": [
      "Ягуар (Panthera onca) — вид хищных млекопитающих семейства кошачьих, один из четырёх представителей \n",
      "Jaguar (напиток) Jaguar Слабоалкогольный газированный энергетический напиток Алюминиевая банка напит\n",
      "Британская автомобилестроительная компания Jaguar Cars производит легковые автомобили Jaguar класса \n",
      "Франсис Вебер — это знаковая фигура во французском, да и в европейском кино в общем. Посудите сами: \n",
      "Инструкция для швейной машины Mini Jaguar Инструкция швейной машины Mini Jaguar Швейная машинка \"Мин\n",
      "5\n"
     ]
    }
   ],
   "source": [
    "path = '../data/jaguar'\n",
    "raw_collection = []\n",
    "for i in range(1,6):\n",
    "    cur_path = path + str(i) + '/'\n",
    "    cur_collection = []\n",
    "    for j in range(1,6):\n",
    "        lines = open(cur_path+str(j)+'.txt').readlines()\n",
    "        cur_collection.append(lines[0].decode('utf-8'))\n",
    "    merged_text = ' '.join(cur_collection)\n",
    "    print merged_text[:100]\n",
    "    raw_collection.append(merged_text)\n",
    "print len(raw_collection)"
   ]
  },
  {
   "cell_type": "markdown",
   "metadata": {
    "collapsed": true
   },
   "source": [
    "Проведем стандартную предобработку."
   ]
  },
  {
   "cell_type": "code",
   "execution_count": 5,
   "metadata": {
    "collapsed": false
   },
   "outputs": [],
   "source": [
    "from string import punctuation\n",
    "from nltk.corpus import stopwords\n",
    "from nltk.tokenize import WhitespaceTokenizer\n",
    "exclude = set(punctuation + u'0123456789[]—«»–')\n",
    "from pymorphy2 import MorphAnalyzer\n",
    "\n",
    "def preprocess(text):\n",
    "    buf = ''.join(ch for ch in text if ch not in exclude)\n",
    "    tokens = WhitespaceTokenizer().tokenize(buf.lower())\n",
    "    lemmatizer = MorphAnalyzer()\n",
    "    lemmas = []\n",
    "    for t in tokens[:]:\n",
    "        if not t in stopwords.words('russian'):\n",
    "            try:\n",
    "                lemma = lemmatizer.parse(t)[0].normal_form\n",
    "            except: \n",
    "                lemma = t\n",
    "#             print t, type(t), lemma\n",
    "            lemmas.append(lemma)\n",
    "    return lemmas\n",
    "\n",
    "# lemmatizer = MorphAnalyzer()    \n",
    "# print lemmatizer.parse(u'фильмы')[0].normal_form "
   ]
  },
  {
   "cell_type": "markdown",
   "metadata": {},
   "source": [
    "Используем реализации $tf-idf$ из NLTK для поиска ключевых слов в каждом тексте. Существенный недостаток этой реализации – скорость."
   ]
  },
  {
   "cell_type": "code",
   "execution_count": 6,
   "metadata": {
    "collapsed": false
   },
   "outputs": [
    {
     "name": "stdout",
     "output_type": "stream",
     "text": [
      "напиток 0.0466676002543\n",
      "алкоголь 0.0176280165655\n",
      "банка 0.0149838140807\n",
      "энергетический 0.0132210124242\n",
      "вред 0.0114582107676\n",
      "е 0.0105768099393\n",
      "организм 0.00969540911105\n",
      "слабоалкогольный 0.00969540911105\n",
      "печень 0.00881400828277\n",
      "краситель 0.00793260745449\n",
      "кофеин 0.00705120662622\n",
      "консервант 0.00705120662622\n",
      "вопрос 0.00705120662622\n",
      "содержимый 0.00705120662622\n",
      "содержание 0.00616980579794\n",
      "энергия 0.00616980579794\n",
      "давать 0.00616980579794\n",
      "алкогольный 0.00551982368599\n",
      "человек 0.00531527209833\n",
      "коктейль 0.00528840496966\n"
     ]
    }
   ],
   "source": [
    "collection = [preprocess(text) for text in raw_collection]\n",
    "from nltk.text import TextCollection\n",
    "from nltk.corpus import stopwords \n",
    "cur_text = 1\n",
    "buf = []\n",
    "corpus = TextCollection(collection)\n",
    "for i in set(collection[cur_text]):\n",
    "    buf.append([ i, corpus.tf_idf(i, collection[cur_text])])\n",
    "for i in sorted(buf,key=lambda l:l[1], reverse=True)[:20]:\n",
    "    print i[0], i[1]"
   ]
  },
  {
   "cell_type": "markdown",
   "metadata": {},
   "source": [
    "# Векторная модель текста\n",
    "\n",
    "Вернемся к исходным 25 текстам и снова проведем стандартную обработку. "
   ]
  },
  {
   "cell_type": "code",
   "execution_count": 7,
   "metadata": {
    "collapsed": false
   },
   "outputs": [
    {
     "name": "stdout",
     "output_type": "stream",
     "text": [
      "25\n"
     ]
    }
   ],
   "source": [
    "path = '../data/jaguar'\n",
    "raw_collection = []\n",
    "for i in range(1,6):\n",
    "    cur_path = path + str(i) + '/'\n",
    "    for j in range(1,6):\n",
    "        lines = open(cur_path+str(j)+'.txt').readlines()\n",
    "        raw_collection.append(lines[0].decode('utf-8'))\n",
    "print len(raw_collection)\n",
    "collection = [preprocess(text) for text in raw_collection]"
   ]
  },
  {
   "cell_type": "markdown",
   "metadata": {},
   "source": [
    "Теперь вычислим косинусную меру сходства между всеми текстами с помощью библиотеки gensim."
   ]
  },
  {
   "cell_type": "code",
   "execution_count": 21,
   "metadata": {
    "collapsed": false
   },
   "outputs": [
    {
     "name": "stdout",
     "output_type": "stream",
     "text": [
      "[[ 1.          0.22        0.40000001  0.31        0.25        0.04        0.04\n",
      "   0.05        0.03        0.05        0.03        0.02        0.03        0.03\n",
      "   0.01        0.05        0.03        0.01        0.03        0.05        0.01\n",
      "   0.01        0.02        0.02        0.04      ]\n",
      " [ 0.22        1.          0.22        0.28999999  0.18000001  0.01        0.03\n",
      "   0.03        0.02        0.02        0.01        0.01        0.01        0.02\n",
      "   0.01        0.02        0.03        0.02        0.02        0.04        0.01\n",
      "   0.03        0.01        0.02        0.03      ]\n",
      " [ 0.40000001  0.22        1.          0.34        0.23999999  0.02        0.02\n",
      "   0.03        0.01        0.02        0.01        0.01        0.01        0.02\n",
      "   0.01        0.02        0.02        0.01        0.02        0.03        0.01\n",
      "   0.01        0.01        0.01        0.03      ]\n",
      " [ 0.31        0.28999999  0.34        1.          0.22        0.02        0.02\n",
      "   0.03        0.01        0.02        0.01        0.01        0.01        0.02\n",
      "   0.01        0.03        0.02        0.01        0.02        0.04        0.01\n",
      "   0.01        0.01        0.01        0.03      ]\n",
      " [ 0.25        0.18000001  0.23999999  0.22        1.          0.02        0.01\n",
      "   0.02        0.          0.02        0.02        0.01        0.01        0.02\n",
      "   0.01        0.02        0.01        0.01        0.02        0.03        0.01\n",
      "   0.02        0.02        0.01        0.03      ]\n",
      " [ 0.04        0.01        0.02        0.02        0.02        1.          0.63\n",
      "   0.38999999  0.07        0.38        0.04        0.03        0.03        0.05\n",
      "   0.02        0.02        0.01        0.01        0.03        0.03        0.\n",
      "   0.          0.03        0.01        0.02      ]\n",
      " [ 0.04        0.03        0.02        0.02        0.01        0.63        1.\n",
      "   0.38        0.08        0.41999999  0.01        0.01        0.01        0.01\n",
      "   0.02        0.02        0.01        0.02        0.03        0.04        0.\n",
      "   0.01        0.01        0.01        0.01      ]\n",
      " [ 0.05        0.03        0.03        0.03        0.02        0.38999999\n",
      "   0.38        1.          0.08        0.54000002  0.07        0.03        0.04\n",
      "   0.04        0.02        0.02        0.03        0.01        0.03        0.03\n",
      "   0.01        0.02        0.05        0.02        0.03      ]\n",
      " [ 0.03        0.02        0.01        0.01        0.          0.07        0.08\n",
      "   0.08        1.          0.09        0.01        0.01        0.01        0.01\n",
      "   0.01        0.02        0.01        0.01        0.02        0.03        0.01\n",
      "   0.03        0.01        0.02        0.01      ]\n",
      " [ 0.05        0.02        0.02        0.02        0.02        0.38\n",
      "   0.41999999  0.54000002  0.09        1.          0.05        0.02        0.03\n",
      "   0.03        0.02        0.03        0.01        0.          0.04        0.02\n",
      "   0.          0.01        0.01        0.01        0.01      ]\n",
      " [ 0.03        0.01        0.01        0.01        0.02        0.04        0.01\n",
      "   0.07        0.01        0.05        1.          0.19        0.16        0.38\n",
      "   0.04        0.02        0.01        0.01        0.02        0.02        0.01\n",
      "   0.02        0.13        0.02        0.07      ]\n",
      " [ 0.02        0.01        0.01        0.01        0.01        0.03        0.01\n",
      "   0.03        0.01        0.02        0.19        1.          0.22\n",
      "   0.44999999  0.02        0.01        0.01        0.01        0.01        0.01\n",
      "   0.02        0.          0.06        0.01        0.05      ]\n",
      " [ 0.03        0.01        0.01        0.01        0.01        0.03        0.01\n",
      "   0.04        0.01        0.03        0.16        0.22        1.          0.25\n",
      "   0.19        0.01        0.01        0.          0.          0.02        0.01\n",
      "   0.02        0.05        0.02        0.04      ]\n",
      " [ 0.03        0.02        0.02        0.02        0.02        0.05        0.01\n",
      "   0.04        0.01        0.03        0.38        0.44999999  0.25        1.\n",
      "   0.05        0.02        0.01        0.01        0.01        0.02        0.02\n",
      "   0.02        0.13        0.02        0.08      ]\n",
      " [ 0.01        0.01        0.01        0.01        0.01        0.02        0.02\n",
      "   0.02        0.01        0.02        0.04        0.02        0.19        0.05\n",
      "   1.          0.01        0.01        0.01        0.02        0.01        0.01\n",
      "   0.01        0.04        0.02        0.02      ]\n",
      " [ 0.05        0.02        0.02        0.03        0.02        0.02        0.02\n",
      "   0.02        0.02        0.03        0.02        0.01        0.01        0.02\n",
      "   0.01        1.          0.15000001  0.07        0.17        0.27000001\n",
      "   0.01        0.02        0.01        0.02        0.01      ]\n",
      " [ 0.03        0.03        0.02        0.02        0.01        0.01        0.01\n",
      "   0.03        0.01        0.01        0.01        0.01        0.01        0.01\n",
      "   0.01        0.15000001  1.          0.11        0.17        0.31999999\n",
      "   0.          0.02        0.02        0.01        0.01      ]\n",
      " [ 0.01        0.02        0.01        0.01        0.01        0.01        0.02\n",
      "   0.01        0.01        0.          0.01        0.01        0.          0.01\n",
      "   0.01        0.07        0.11        1.          0.05        0.14        0.01\n",
      "   0.01        0.          0.          0.01      ]\n",
      " [ 0.03        0.02        0.02        0.02        0.02        0.03        0.03\n",
      "   0.03        0.02        0.04        0.02        0.01        0.          0.01\n",
      "   0.02        0.17        0.17        0.05        1.          0.22        0.\n",
      "   0.          0.          0.01        0.01      ]\n",
      " [ 0.05        0.04        0.03        0.04        0.03        0.03        0.04\n",
      "   0.03        0.03        0.02        0.02        0.01        0.02        0.02\n",
      "   0.01        0.27000001  0.31999999  0.14        0.22        1.          0.01\n",
      "   0.02        0.02        0.02        0.02      ]\n",
      " [ 0.01        0.01        0.01        0.01        0.01        0.          0.\n",
      "   0.01        0.01        0.          0.01        0.02        0.01        0.02\n",
      "   0.01        0.01        0.          0.01        0.          0.01        1.\n",
      "   0.12        0.09        0.16        0.25999999]\n",
      " [ 0.01        0.03        0.01        0.01        0.02        0.          0.01\n",
      "   0.02        0.03        0.01        0.02        0.          0.02        0.02\n",
      "   0.01        0.02        0.02        0.01        0.          0.02        0.12\n",
      "   1.          0.1         0.13        0.15000001]\n",
      " [ 0.02        0.01        0.01        0.01        0.02        0.03        0.01\n",
      "   0.05        0.01        0.01        0.13        0.06        0.05        0.13\n",
      "   0.04        0.01        0.02        0.          0.          0.02        0.09\n",
      "   0.1         1.          0.20999999  0.2       ]\n",
      " [ 0.02        0.02        0.01        0.01        0.01        0.01        0.01\n",
      "   0.02        0.02        0.01        0.02        0.01        0.02        0.02\n",
      "   0.02        0.02        0.01        0.          0.01        0.02        0.16\n",
      "   0.13        0.20999999  1.          0.41      ]\n",
      " [ 0.04        0.03        0.03        0.03        0.03        0.02        0.01\n",
      "   0.03        0.01        0.01        0.07        0.05        0.04        0.08\n",
      "   0.02        0.01        0.01        0.01        0.01        0.02\n",
      "   0.25999999  0.15000001  0.2         0.41        1.        ]]\n"
     ]
    }
   ],
   "source": [
    "from gensim import corpora, models, similarities\n",
    "import numpy as np\n",
    "\n",
    "dictionary = corpora.Dictionary(collection)\n",
    "corpus = [dictionary.doc2bow(t) for t in collection]\n",
    "tfidf = models.TfidfModel(corpus) \n",
    "corpus_tfidf = tfidf[corpus]\n",
    "index = similarities.MatrixSimilarity(tfidf[corpus])\n",
    "sims = index[corpus_tfidf]\n",
    "print np.around(sims, decimals = 2)\n"
   ]
  },
  {
   "cell_type": "markdown",
   "metadata": {},
   "source": [
    "Так как сама по себе матрица не очень понятна, построим по ней диаграмму близости. "
   ]
  },
  {
   "cell_type": "code",
   "execution_count": 22,
   "metadata": {
    "collapsed": false
   },
   "outputs": [
    {
     "data": {
      "image/png": "[encoded data removed]",
      "text/plain": [
       "<matplotlib.figure.Figure at 0x7f60af278b50>"
      ]
     },
     "metadata": {},
     "output_type": "display_data"
    }
   ],
   "source": [
    "from pylab import pcolor, show, colorbar, xticks, yticks\n",
    "%matplotlib inline\n",
    "\n",
    "pcolor(sims)\n",
    "colorbar()\n",
    "show()"
   ]
  },
  {
   "cell_type": "markdown",
   "metadata": {},
   "source": [
    "А теперь используем ЛСА, снизим количество размерностей до 10, пересчитаем и перерисуем матрицу близости."
   ]
  },
  {
   "cell_type": "code",
   "execution_count": 19,
   "metadata": {
    "collapsed": false
   },
   "outputs": [
    {
     "data": {
      "image/png": "[encoded data removed]",
      "text/plain": [
       "<matplotlib.figure.Figure at 0x7f60bfcafd90>"
      ]
     },
     "metadata": {},
     "output_type": "display_data"
    }
   ],
   "source": [
    "lsi = models.LsiModel(corpus, num_topics=10) \n",
    "corpus_lsi = lsi[corpus]\n",
    "index = similarities.MatrixSimilarity(lsi[corpus])\n",
    "sims = index[corpus_lsi]\n",
    "pcolor(sims)\n",
    "colorbar()\n",
    "show()"
   ]
  },
  {
   "cell_type": "markdown",
   "metadata": {},
   "source": [
    "# Задание 1\n",
    "\n",
    "Создайте собственную коллекцию текстов. Найдите ключевые слова для каждого текста по мере $tf-idf$. Объясните принцип создания коллекции и полученные результаты. \n",
    "\n",
    "# Задание 2\n",
    "\n",
    "Найдите ключевые биграммы для каждого текста по мере $tf-idf$. \n"
   ]
  },
  {
   "cell_type": "markdown",
   "metadata": {},
   "source": [
    "# Литература\n",
    "\n",
    "* Manning & Raghavan & Schütze (IRbook) – Ch. 6.2.2 – Tf-idf weighting (http://nlp.stanford.edu/IR-book/html/htmledition/tf-idf-weighting-1.html)\n",
    "\n",
    "* Manning & Raghavan & Schütze (IRbook) – Ch. 18 – Matrix decompositions and latent semantic indexing\n",
    "\n",
    "* NLTK (плохая документация):  http://www.nltk.org/api/nltk.html#nltk.text.TextCollection\n",
    "\n",
    "* http://www.tfidf.com/\n",
    "\n",
    "* Gensim (документация и туториал): https://radimrehurek.com/gensim/"
   ]
  },
  {
   "cell_type": "markdown",
   "metadata": {},
   "source": [
    "# Совсем простой поиск"
   ]
  },
  {
   "cell_type": "code",
   "execution_count": 23,
   "metadata": {
    "collapsed": false
   },
   "outputs": [
    {
     "name": "stdout",
     "output_type": "stream",
     "text": [
      "(22, 0.31049913)\n",
      "(20, 0.082851298)\n",
      "(14, 0.06384252)\n",
      "(24, 0.061500318)\n",
      "(21, 0.05592959)\n",
      "(12, 0.026284507)\n",
      "(23, 0.024860036)\n",
      "(11, 0.020495294)\n",
      "(10, 0.018246267)\n",
      "(13, 0.012472699)\n"
     ]
    }
   ],
   "source": [
    "doc = u\"машина\"\n",
    "vec_bow = dictionary.doc2bow(preprocess(doc))\n",
    "vec_tfidf = tfidf[vec_bow] \n",
    "sims = index[vec_tfidf]\n",
    "sim_list = sorted(enumerate(sims), key=lambda item: -item[1])\n",
    "for i in sim_list:\n",
    "    if i[1] > 0:\n",
    "        print i"
   ]
  },
  {
   "cell_type": "code",
   "execution_count": 24,
   "metadata": {
    "collapsed": false
   },
   "outputs": [
    {
     "name": "stdout",
     "output_type": "stream",
     "text": [
      "(12, 0.04919038)\n",
      "(21, 0.049018715)\n",
      "(0, 0.026228026)\n",
      "(2, 0.025527325)\n",
      "(8, 0.024278589)\n",
      "(13, 0.023342146)\n",
      "(18, 0.021240572)\n",
      "(19, 0.020806178)\n",
      "(15, 0.018771263)\n",
      "(24, 0.013058485)\n",
      "(1, 0.012685684)\n",
      "(6, 0.01104558)\n",
      "(23, 0.010894117)\n",
      "(4, 0.010166726)\n",
      "(3, 0.0085646911)\n",
      "(9, 0.0082896547)\n",
      "(5, 0.0042626057)\n",
      "(14, 0.0037854419)\n",
      "(10, 0.0028850231)\n",
      "(20, 0.0026609576)\n",
      "(17, 0.0025049341)\n",
      "(16, 0.0017894759)\n",
      "(11, 0.0016203149)\n"
     ]
    }
   ],
   "source": [
    "doc = u\"хороший ягуар\"\n",
    "vec_bow = dictionary.doc2bow(preprocess(doc))\n",
    "vec_tfidf = tfidf[vec_bow] \n",
    "sims = index[vec_tfidf]\n",
    "sim_list = sorted(enumerate(sims), key=lambda item: -item[1])\n",
    "for i in sim_list:\n",
    "    if i[1] > 0:\n",
    "        print i"
   ]
  },
  {
   "cell_type": "markdown",
   "metadata": {},
   "source": [
    "# Тематические модели"
   ]
  },
  {
   "cell_type": "code",
   "execution_count": 34,
   "metadata": {
    "collapsed": false
   },
   "outputs": [
    {
     "name": "stdout",
     "output_type": "stream",
     "text": [
      "0.614*\"ягуар\" + 0.216*\"год\" + 0.146*\"нитка\" + 0.141*\"напиток\" + 0.137*\"jaguar\" + 0.132*\"который\" + 0.129*\"свой\" + 0.121*\"человек\" + 0.120*\"швейный\" + 0.112*\"машинка\"\n",
      "***\n",
      "-0.341*\"нитка\" + -0.263*\"швейный\" + 0.261*\"ягуар\" + -0.241*\"машинка\" + -0.228*\"лапка\" + -0.209*\"машин\" + -0.182*\"строчка\" + -0.170*\"шпулька\" + -0.138*\"jaguar\" + -0.135*\"верхний\"\n",
      "***\n",
      "-0.390*\"фильм\" + 0.289*\"ягуар\" + -0.273*\"вебер\" + -0.241*\"это\" + -0.194*\"свой\" + -0.175*\"герой\" + -0.168*\"который\" + -0.139*\"перрен\" + -0.121*\"ришар\" + -0.119*\"дуэт\"\n",
      "***\n",
      "-0.322*\"jaguar\" + -0.321*\"год\" + 0.237*\"нитка\" + -0.213*\"модель\" + 0.188*\"фильм\" + -0.169*\"компания\" + -0.158*\"напиток\" + -0.145*\"автомобиль\" + 0.138*\"шпулька\" + 0.131*\"вебер\"\n",
      "***\n",
      "-0.701*\"напиток\" + -0.119*\"алкоголь\" + -0.119*\"банка\" + -0.099*\"энергетический\" + 0.099*\"машинка\" + -0.095*\"е\" + -0.092*\"вред\" + -0.090*\"человек\" + -0.087*\"нитка\" + -0.082*\"слабоалкогольный\"\n",
      "***\n"
     ]
    }
   ],
   "source": [
    "lsi = models.lsimodel.LsiModel(corpus=corpus, id2word=dictionary, num_topics = 10)\n",
    "for topic in lsi.print_topics(5):\n",
    "    print topic\n",
    "    print '***'"
   ]
  },
  {
   "cell_type": "code",
   "execution_count": 41,
   "metadata": {
    "collapsed": false
   },
   "outputs": [
    {
     "name": "stderr",
     "output_type": "stream",
     "text": [
      "WARNING:gensim.models.ldamodel:too few updates, training might not converge; consider increasing the number of passes or iterations to improve accuracy\n"
     ]
    },
    {
     "name": "stdout",
     "output_type": "stream",
     "text": [
      "0.014*ягуар + 0.007*jaguar + 0.007*год + 0.006*швейный + 0.005*который + 0.005*машинка + 0.004*машин + 0.004*свой + 0.004*модель + 0.004*строчка\n",
      "***\n",
      "0.024*ягуар + 0.008*год + 0.005*свой + 0.005*это + 0.004*нитка + 0.004*фильм + 0.004*животный + 0.004*человек + 0.004*который + 0.003*самка\n",
      "***\n",
      "0.014*ягуар + 0.009*год + 0.007*который + 0.006*jaguar + 0.005*модель + 0.005*фильм + 0.005*иметь + 0.004*напиток + 0.004*это + 0.004*автомобиль\n",
      "***\n",
      "0.015*ягуар + 0.012*напиток + 0.006*год + 0.005*это + 0.004*свой + 0.004*который + 0.004*jaguar + 0.003*один + 0.003*стать + 0.003*человек\n",
      "***\n",
      "0.016*ягуар + 0.005*напиток + 0.004*год + 0.004*человек + 0.004*пятно + 0.004*чёрный + 0.003*jaguar + 0.003*также + 0.002*вод + 0.002*это\n",
      "***\n"
     ]
    }
   ],
   "source": [
    "lda = models.ldamodel.LdaModel(corpus=corpus, id2word=dictionary, num_topics = 15)\n",
    "for topic in lda.print_topics(5):\n",
    "    print topic\n",
    "    print '***'"
   ]
  },
  {
   "cell_type": "code",
   "execution_count": null,
   "metadata": {
    "collapsed": true
   },
   "outputs": [],
   "source": [
    "\n",
    "\n"
   ]
  }
 ],
 "metadata": {
  "anaconda-cloud": {},
  "kernelspec": {
   "display_name": "Python [default]",
   "language": "python",
   "name": "python3"
  },
  "language_info": {
   "codemirror_mode": {
    "name": "ipython",
    "version": 3
   },
   "file_extension": ".py",
   "mimetype": "text/x-python",
   "name": "python",
   "nbconvert_exporter": "python",
   "pygments_lexer": "ipython3",
   "version": "3.5.2"
  },
  "name": "Russian_tf-idf_VSM.ipynb"
 },
 "nbformat": 4,
 "nbformat_minor": 0
}
