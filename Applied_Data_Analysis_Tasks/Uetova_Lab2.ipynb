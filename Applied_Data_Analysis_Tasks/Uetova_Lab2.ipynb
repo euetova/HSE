{
 "cells": [
  {
   "cell_type": "code",
   "execution_count": 2,
   "metadata": {
    "collapsed": false
   },
   "outputs": [],
   "source": [
    "import nltk\n",
    "from nltk.tokenize import sent_tokenize\n",
    "import pandas as pd       \n",
    "from bs4 import BeautifulSoup as bs  \n",
    "import re\n",
    "import time\n",
    "import gensim, logging\n",
    "logging.basicConfig(format='%(asctime)s : %(levelname)s : %(message)s', level=logging.INFO)"
   ]
  },
  {
   "cell_type": "code",
   "execution_count": 3,
   "metadata": {
    "collapsed": true
   },
   "outputs": [],
   "source": [
    "data = pd.read_csv(\"unlabeledTrainData.tsv\", header=0, delimiter=\"\\t\", quoting=3)"
   ]
  },
  {
   "cell_type": "code",
   "execution_count": 4,
   "metadata": {
    "collapsed": false
   },
   "outputs": [
    {
     "data": {
      "text/plain": [
       "array(['Unnamed: 0', 'review'], dtype=object)"
      ]
     },
     "execution_count": 4,
     "metadata": {},
     "output_type": "execute_result"
    }
   ],
   "source": [
    "data.columns.values"
   ]
  },
  {
   "cell_type": "code",
   "execution_count": 5,
   "metadata": {
    "collapsed": false
   },
   "outputs": [
    {
     "name": "stderr",
     "output_type": "stream",
     "text": [
      "2017-02-24 21:27:43,139 : INFO : collecting all words and their counts\n",
      "2017-02-24 21:27:43,142 : INFO : PROGRESS: at sentence #0, processed 0 words, keeping 0 word types\n",
      "2017-02-24 21:27:43,144 : INFO : collected 3 word types from a corpus of 4 raw words and 2 sentences\n",
      "2017-02-24 21:27:43,146 : INFO : Loading a fresh vocabulary\n",
      "2017-02-24 21:27:43,149 : INFO : min_count=1 retains 3 unique words (100% of original 3, drops 0)\n",
      "2017-02-24 21:27:43,151 : INFO : min_count=1 leaves 4 word corpus (100% of original 4, drops 0)\n",
      "2017-02-24 21:27:43,155 : INFO : deleting the raw counts dictionary of 3 items\n",
      "2017-02-24 21:27:43,159 : INFO : sample=0.001 downsamples 3 most-common words\n",
      "2017-02-24 21:27:43,161 : INFO : downsampling leaves estimated 0 word corpus (5.7% of prior 4)\n",
      "2017-02-24 21:27:43,163 : INFO : estimated required memory for 3 words and 100 dimensions: 3900 bytes\n",
      "2017-02-24 21:27:44,007 : INFO : resetting layer weights\n",
      "2017-02-24 21:27:44,017 : INFO : training model with 3 workers on 3 vocabulary and 100 features, using sg=0 hs=0 sample=0.001 negative=5 window=5\n",
      "2017-02-24 21:27:44,024 : INFO : expecting 2 sentences, matching count from corpus used for vocabulary survey\n",
      "2017-02-24 21:27:44,048 : INFO : worker thread finished; awaiting finish of 2 more threads\n",
      "2017-02-24 21:27:44,053 : INFO : worker thread finished; awaiting finish of 1 more threads\n",
      "2017-02-24 21:27:44,058 : INFO : worker thread finished; awaiting finish of 0 more threads\n",
      "2017-02-24 21:27:44,062 : INFO : training on 20 raw words (0 effective words) took 0.0s, 0 effective words/s\n",
      "2017-02-24 21:27:44,066 : WARNING : under 10 jobs per worker: consider setting a smaller `batch_words' for smoother alpha decay\n"
     ]
    }
   ],
   "source": [
    "sentences = [['first', 'sentence'], ['second', 'sentence']]\n",
    "\n",
    "model = gensim.models.Word2Vec(sentences, min_count=1)"
   ]
  },
  {
   "cell_type": "code",
   "execution_count": 6,
   "metadata": {
    "collapsed": false
   },
   "outputs": [
    {
     "name": "stdout",
     "output_type": "stream",
     "text": [
      "<__main__.MyText object at 0x0ECAB210>\n"
     ]
    }
   ],
   "source": [
    "class MyText(object):\n",
    "    def __iter__(self):\n",
    "        for line in data['review']:\n",
    "            sent = sent_tokenize(bs(line, \"lxml\").get_text())\n",
    "            for s in sent:\n",
    "                yield re.sub(\"[^a-zA-Z]\", \" \", s).lower().split()\n",
    "\n",
    "sentences = MyText()\n",
    "\n",
    "print(sentences)"
   ]
  },
  {
   "cell_type": "code",
   "execution_count": 9,
   "metadata": {
    "collapsed": false
   },
   "outputs": [
    {
     "name": "stderr",
     "output_type": "stream",
     "text": [
      "2017-02-24 21:29:10,421 : INFO : collecting all words and their counts\n",
      "2017-02-24 21:29:10,516 : INFO : PROGRESS: at sentence #0, processed 0 words, keeping 0 word types\n",
      "2017-02-24 21:29:14,615 : INFO : PROGRESS: at sentence #10000, processed 228198 words, keeping 17377 word types\n",
      "2017-02-24 21:29:18,810 : INFO : PROGRESS: at sentence #20000, processed 449975 words, keeping 24722 word types\n",
      "2017-02-24 21:29:22,946 : INFO : PROGRESS: at sentence #30000, processed 675665 words, keeping 29975 word types\n",
      "2017-02-24 21:29:27,387 : INFO : PROGRESS: at sentence #40000, processed 898998 words, keeping 34134 word types\n",
      "2017-02-24 21:29:31,238 : INFO : PROGRESS: at sentence #50000, processed 1120654 words, keeping 37709 word types\n",
      "2017-02-24 21:29:35,158 : INFO : PROGRESS: at sentence #60000, processed 1346245 words, keeping 40962 word types\n",
      "2017-02-24 21:29:39,111 : INFO : PROGRESS: at sentence #70000, processed 1573832 words, keeping 43914 word types\n",
      "2017-02-24 21:29:42,994 : INFO : PROGRESS: at sentence #80000, processed 1799439 words, keeping 46434 word types\n",
      "2017-02-24 21:29:46,853 : INFO : PROGRESS: at sentence #90000, processed 2016565 words, keeping 48683 word types\n",
      "2017-02-24 21:29:50,753 : INFO : PROGRESS: at sentence #100000, processed 2243759 words, keeping 50877 word types\n",
      "2017-02-24 21:29:54,621 : INFO : PROGRESS: at sentence #110000, processed 2469624 words, keeping 53043 word types\n",
      "2017-02-24 21:29:58,522 : INFO : PROGRESS: at sentence #120000, processed 2695895 words, keeping 55175 word types\n",
      "2017-02-24 21:30:02,278 : INFO : PROGRESS: at sentence #130000, processed 2922118 words, keeping 56955 word types\n",
      "2017-02-24 21:30:06,104 : INFO : PROGRESS: at sentence #140000, processed 3142310 words, keeping 58705 word types\n",
      "2017-02-24 21:30:10,081 : INFO : PROGRESS: at sentence #150000, processed 3363339 words, keeping 60411 word types\n",
      "2017-02-24 21:30:13,894 : INFO : PROGRESS: at sentence #160000, processed 3585693 words, keeping 62053 word types\n",
      "2017-02-24 21:30:17,766 : INFO : PROGRESS: at sentence #170000, processed 3815296 words, keeping 63671 word types\n",
      "2017-02-24 21:30:22,418 : INFO : PROGRESS: at sentence #180000, processed 4038176 words, keeping 65253 word types\n",
      "2017-02-24 21:30:26,461 : INFO : PROGRESS: at sentence #190000, processed 4267022 words, keeping 66831 word types\n",
      "2017-02-24 21:30:30,752 : INFO : PROGRESS: at sentence #200000, processed 4494287 words, keeping 68268 word types\n",
      "2017-02-24 21:30:35,155 : INFO : PROGRESS: at sentence #210000, processed 4722255 words, keeping 69650 word types\n",
      "2017-02-24 21:30:39,451 : INFO : PROGRESS: at sentence #220000, processed 4945171 words, keeping 71093 word types\n",
      "2017-02-24 21:30:46,379 : INFO : PROGRESS: at sentence #230000, processed 5167778 words, keeping 72353 word types\n",
      "2017-02-24 21:30:50,060 : INFO : PROGRESS: at sentence #240000, processed 5390201 words, keeping 73655 word types\n",
      "2017-02-24 21:30:54,789 : INFO : PROGRESS: at sentence #250000, processed 5614247 words, keeping 74936 word types\n",
      "2017-02-24 21:30:59,274 : INFO : PROGRESS: at sentence #260000, processed 5839153 words, keeping 76124 word types\n",
      "2017-02-24 21:31:03,319 : INFO : PROGRESS: at sentence #270000, processed 6062866 words, keeping 77321 word types\n",
      "2017-02-24 21:31:07,552 : INFO : PROGRESS: at sentence #280000, processed 6281297 words, keeping 78486 word types\n",
      "2017-02-24 21:31:12,034 : INFO : PROGRESS: at sentence #290000, processed 6508446 words, keeping 79649 word types\n",
      "2017-02-24 21:31:16,447 : INFO : PROGRESS: at sentence #300000, processed 6733295 words, keeping 80729 word types\n",
      "2017-02-24 21:31:21,774 : INFO : PROGRESS: at sentence #310000, processed 6958433 words, keeping 81829 word types\n",
      "2017-02-24 21:31:26,248 : INFO : PROGRESS: at sentence #320000, processed 7180746 words, keeping 82917 word types\n",
      "2017-02-24 21:31:34,605 : INFO : PROGRESS: at sentence #330000, processed 7404809 words, keeping 83961 word types\n",
      "2017-02-24 21:31:39,626 : INFO : PROGRESS: at sentence #340000, processed 7624619 words, keeping 85055 word types\n",
      "2017-02-24 21:31:44,056 : INFO : PROGRESS: at sentence #350000, processed 7850272 words, keeping 86073 word types\n",
      "2017-02-24 21:31:48,085 : INFO : PROGRESS: at sentence #360000, processed 8072707 words, keeping 87063 word types\n",
      "2017-02-24 21:31:52,104 : INFO : PROGRESS: at sentence #370000, processed 8294008 words, keeping 88042 word types\n",
      "2017-02-24 21:31:55,958 : INFO : PROGRESS: at sentence #380000, processed 8516346 words, keeping 89096 word types\n",
      "2017-02-24 21:31:59,864 : INFO : PROGRESS: at sentence #390000, processed 8740832 words, keeping 90034 word types\n",
      "2017-02-24 21:32:03,954 : INFO : PROGRESS: at sentence #400000, processed 8963865 words, keeping 90982 word types\n",
      "2017-02-24 21:32:07,840 : INFO : PROGRESS: at sentence #410000, processed 9191060 words, keeping 91906 word types\n",
      "2017-02-24 21:32:11,662 : INFO : PROGRESS: at sentence #420000, processed 9411879 words, keeping 92783 word types\n",
      "2017-02-24 21:32:16,311 : INFO : PROGRESS: at sentence #430000, processed 9636548 words, keeping 93743 word types\n",
      "2017-02-24 21:32:20,952 : INFO : PROGRESS: at sentence #440000, processed 9864043 words, keeping 94678 word types\n",
      "2017-02-24 21:32:24,862 : INFO : PROGRESS: at sentence #450000, processed 10087932 words, keeping 95505 word types\n",
      "2017-02-24 21:32:28,754 : INFO : PROGRESS: at sentence #460000, processed 10310981 words, keeping 96379 word types\n",
      "2017-02-24 21:32:32,819 : INFO : PROGRESS: at sentence #470000, processed 10533111 words, keeping 97205 word types\n",
      "2017-02-24 21:32:37,870 : INFO : PROGRESS: at sentence #480000, processed 10754634 words, keeping 98044 word types\n",
      "2017-02-24 21:32:42,257 : INFO : PROGRESS: at sentence #490000, processed 10973551 words, keeping 98869 word types\n",
      "2017-02-24 21:32:46,077 : INFO : PROGRESS: at sentence #500000, processed 11195103 words, keeping 99721 word types\n",
      "2017-02-24 21:32:50,085 : INFO : PROGRESS: at sentence #510000, processed 11422608 words, keeping 100581 word types\n",
      "2017-02-24 21:32:54,143 : INFO : PROGRESS: at sentence #520000, processed 11652255 words, keeping 101416 word types\n",
      "2017-02-24 21:32:58,117 : INFO : PROGRESS: at sentence #530000, processed 11875694 words, keeping 102289 word types\n",
      "2017-02-24 21:32:58,162 : INFO : collected 102295 word types from a corpus of 11877174 raw words and 530074 sentences\n",
      "2017-02-24 21:32:58,164 : INFO : Loading a fresh vocabulary\n",
      "2017-02-24 21:32:58,815 : INFO : min_count=5 retains 39729 unique words (38% of original 102295, drops 62566)\n",
      "2017-02-24 21:32:58,831 : INFO : min_count=5 leaves 11776232 word corpus (99% of original 11877174, drops 100942)\n",
      "2017-02-24 21:32:59,571 : INFO : deleting the raw counts dictionary of 102295 items\n",
      "2017-02-24 21:32:59,602 : INFO : sample=0.001 downsamples 48 most-common words\n",
      "2017-02-24 21:32:59,602 : INFO : downsampling leaves estimated 8812822 word corpus (74.8% of prior 11776232)\n",
      "2017-02-24 21:32:59,606 : INFO : estimated required memory for 39729 words and 100 dimensions: 51647700 bytes\n",
      "2017-02-24 21:33:00,718 : INFO : resetting layer weights\n",
      "2017-02-24 21:33:03,399 : INFO : training model with 3 workers on 39729 vocabulary and 100 features, using sg=0 hs=0 sample=0.001 negative=5 window=5\n",
      "2017-02-24 21:33:03,399 : INFO : expecting 530074 sentences, matching count from corpus used for vocabulary survey\n",
      "2017-02-24 21:33:04,538 : INFO : PROGRESS: at 0.02% examples, 6553 words/s, in_qsize 2, out_qsize 0\n",
      "2017-02-24 21:33:05,557 : INFO : PROGRESS: at 0.18% examples, 38141 words/s, in_qsize 0, out_qsize 0\n",
      "2017-02-24 21:33:06,619 : INFO : PROGRESS: at 0.27% examples, 37014 words/s, in_qsize 0, out_qsize 0\n",
      "2017-02-24 21:33:07,703 : INFO : PROGRESS: at 0.36% examples, 37998 words/s, in_qsize 0, out_qsize 0\n",
      "2017-02-24 21:33:08,845 : INFO : PROGRESS: at 0.47% examples, 38178 words/s, in_qsize 0, out_qsize 0\n",
      "2017-02-24 21:33:09,940 : INFO : PROGRESS: at 0.57% examples, 38532 words/s, in_qsize 0, out_qsize 0\n",
      "2017-02-24 21:33:11,058 : INFO : PROGRESS: at 0.67% examples, 38758 words/s, in_qsize 0, out_qsize 0\n",
      "2017-02-24 21:33:12,159 : INFO : PROGRESS: at 0.77% examples, 38966 words/s, in_qsize 0, out_qsize 0\n",
      "2017-02-24 21:33:13,281 : INFO : PROGRESS: at 0.87% examples, 39024 words/s, in_qsize 0, out_qsize 0\n",
      "2017-02-24 21:33:14,415 : INFO : PROGRESS: at 0.97% examples, 39028 words/s, in_qsize 0, out_qsize 0\n",
      "2017-02-24 21:33:15,557 : INFO : PROGRESS: at 1.07% examples, 39045 words/s, in_qsize 0, out_qsize 0\n",
      "2017-02-24 21:33:16,703 : INFO : PROGRESS: at 1.17% examples, 39024 words/s, in_qsize 0, out_qsize 0\n",
      "2017-02-24 21:33:17,822 : INFO : PROGRESS: at 1.27% examples, 39069 words/s, in_qsize 0, out_qsize 0\n",
      "2017-02-24 21:33:18,973 : INFO : PROGRESS: at 1.37% examples, 39043 words/s, in_qsize 0, out_qsize 0\n",
      "2017-02-24 21:33:20,104 : INFO : PROGRESS: at 1.47% examples, 39061 words/s, in_qsize 0, out_qsize 0\n",
      "2017-02-24 21:33:21,224 : INFO : PROGRESS: at 1.57% examples, 39112 words/s, in_qsize 0, out_qsize 0\n",
      "2017-02-24 21:33:22,381 : INFO : PROGRESS: at 1.68% examples, 39076 words/s, in_qsize 0, out_qsize 0\n",
      "2017-02-24 21:33:23,566 : INFO : PROGRESS: at 1.78% examples, 38970 words/s, in_qsize 0, out_qsize 0\n",
      "2017-02-24 21:33:24,716 : INFO : PROGRESS: at 1.88% examples, 38929 words/s, in_qsize 0, out_qsize 0\n",
      "2017-02-24 21:33:25,821 : INFO : PROGRESS: at 1.96% examples, 38668 words/s, in_qsize 0, out_qsize 0\n",
      "2017-02-24 21:33:27,012 : INFO : PROGRESS: at 2.06% examples, 38612 words/s, in_qsize 0, out_qsize 0\n",
      "2017-02-24 21:33:28,183 : INFO : PROGRESS: at 2.16% examples, 38565 words/s, in_qsize 0, out_qsize 0\n",
      "2017-02-24 21:33:29,382 : INFO : PROGRESS: at 2.27% examples, 38504 words/s, in_qsize 0, out_qsize 0\n",
      "2017-02-24 21:33:30,586 : INFO : PROGRESS: at 2.37% examples, 38433 words/s, in_qsize 0, out_qsize 0\n",
      "2017-02-24 21:33:31,589 : INFO : PROGRESS: at 2.45% examples, 38382 words/s, in_qsize 0, out_qsize 0\n",
      "2017-02-24 21:33:32,613 : INFO : PROGRESS: at 2.53% examples, 38298 words/s, in_qsize 0, out_qsize 0\n",
      "2017-02-24 21:33:33,722 : INFO : PROGRESS: at 2.63% examples, 38351 words/s, in_qsize 0, out_qsize 0\n",
      "2017-02-24 21:33:34,893 : INFO : PROGRESS: at 2.73% examples, 38355 words/s, in_qsize 0, out_qsize 0\n",
      "2017-02-24 21:33:35,939 : INFO : PROGRESS: at 2.81% examples, 38246 words/s, in_qsize 0, out_qsize 0\n",
      "2017-02-24 21:33:37,085 : INFO : PROGRESS: at 2.91% examples, 38271 words/s, in_qsize 0, out_qsize 0\n",
      "2017-02-24 21:33:38,207 : INFO : PROGRESS: at 3.01% examples, 38313 words/s, in_qsize 0, out_qsize 0\n",
      "2017-02-24 21:33:39,347 : INFO : PROGRESS: at 3.12% examples, 38324 words/s, in_qsize 0, out_qsize 0\n",
      "2017-02-24 21:33:40,511 : INFO : PROGRESS: at 3.22% examples, 38333 words/s, in_qsize 0, out_qsize 0\n",
      "2017-02-24 21:33:41,656 : INFO : PROGRESS: at 3.33% examples, 38346 words/s, in_qsize 0, out_qsize 0\n",
      "2017-02-24 21:33:42,808 : INFO : PROGRESS: at 3.43% examples, 38359 words/s, in_qsize 0, out_qsize 0\n",
      "2017-02-24 21:33:43,914 : INFO : PROGRESS: at 3.51% examples, 38226 words/s, in_qsize 0, out_qsize 0\n",
      "2017-02-24 21:33:45,031 : INFO : PROGRESS: at 3.61% examples, 38267 words/s, in_qsize 0, out_qsize 0\n",
      "2017-02-24 21:33:46,111 : INFO : PROGRESS: at 3.71% examples, 38331 words/s, in_qsize 0, out_qsize 0\n",
      "2017-02-24 21:33:47,188 : INFO : PROGRESS: at 3.79% examples, 38235 words/s, in_qsize 0, out_qsize 0\n",
      "2017-02-24 21:33:48,218 : INFO : PROGRESS: at 3.88% examples, 38176 words/s, in_qsize 0, out_qsize 0\n",
      "2017-02-24 21:33:49,228 : INFO : PROGRESS: at 3.96% examples, 38152 words/s, in_qsize 0, out_qsize 0\n",
      "2017-02-24 21:33:50,289 : INFO : PROGRESS: at 4.02% examples, 37919 words/s, in_qsize 0, out_qsize 0\n",
      "2017-02-24 21:33:51,327 : INFO : PROGRESS: at 4.09% examples, 37715 words/s, in_qsize 0, out_qsize 0\n",
      "2017-02-24 21:33:52,406 : INFO : PROGRESS: at 4.18% examples, 37637 words/s, in_qsize 0, out_qsize 0\n",
      "2017-02-24 21:33:53,505 : INFO : PROGRESS: at 4.26% examples, 37545 words/s, in_qsize 0, out_qsize 0\n",
      "2017-02-24 21:33:54,620 : INFO : PROGRESS: at 4.36% examples, 37590 words/s, in_qsize 0, out_qsize 0\n",
      "2017-02-24 21:33:55,825 : INFO : PROGRESS: at 4.46% examples, 37582 words/s, in_qsize 0, out_qsize 0\n",
      "2017-02-24 21:33:56,919 : INFO : PROGRESS: at 4.56% examples, 37640 words/s, in_qsize 0, out_qsize 0\n",
      "2017-02-24 21:33:58,099 : INFO : PROGRESS: at 4.66% examples, 37647 words/s, in_qsize 0, out_qsize 0\n",
      "2017-02-24 21:33:59,227 : INFO : PROGRESS: at 4.76% examples, 37681 words/s, in_qsize 0, out_qsize 0\n",
      "2017-02-24 21:34:00,391 : INFO : PROGRESS: at 4.86% examples, 37697 words/s, in_qsize 0, out_qsize 0\n",
      "2017-02-24 21:34:01,582 : INFO : PROGRESS: at 4.93% examples, 37434 words/s, in_qsize 0, out_qsize 0\n",
      "2017-02-24 21:34:02,656 : INFO : PROGRESS: at 5.01% examples, 37380 words/s, in_qsize 0, out_qsize 0\n",
      "2017-02-24 21:34:03,808 : INFO : PROGRESS: at 5.10% examples, 37279 words/s, in_qsize 0, out_qsize 0\n",
      "2017-02-24 21:34:04,936 : INFO : PROGRESS: at 5.18% examples, 37201 words/s, in_qsize 0, out_qsize 0\n",
      "2017-02-24 21:34:06,061 : INFO : PROGRESS: at 5.25% examples, 37003 words/s, in_qsize 0, out_qsize 0\n",
      "2017-02-24 21:34:07,134 : INFO : PROGRESS: at 5.34% examples, 36962 words/s, in_qsize 0, out_qsize 0\n",
      "2017-02-24 21:34:08,343 : INFO : PROGRESS: at 5.42% examples, 36845 words/s, in_qsize 0, out_qsize 0\n",
      "2017-02-24 21:34:09,504 : INFO : PROGRESS: at 5.49% examples, 36639 words/s, in_qsize 0, out_qsize 0\n",
      "2017-02-24 21:34:10,753 : INFO : PROGRESS: at 5.56% examples, 36407 words/s, in_qsize 0, out_qsize 0\n",
      "2017-02-24 21:34:11,938 : INFO : PROGRESS: at 5.63% examples, 36209 words/s, in_qsize 0, out_qsize 0\n",
      "2017-02-24 21:34:13,240 : INFO : PROGRESS: at 5.71% examples, 36060 words/s, in_qsize 0, out_qsize 0\n",
      "2017-02-24 21:34:14,366 : INFO : PROGRESS: at 5.80% examples, 36005 words/s, in_qsize 0, out_qsize 0\n",
      "2017-02-24 21:34:15,481 : INFO : PROGRESS: at 5.88% examples, 35966 words/s, in_qsize 0, out_qsize 0\n",
      "2017-02-24 21:34:16,618 : INFO : PROGRESS: at 5.98% examples, 36011 words/s, in_qsize 0, out_qsize 0\n",
      "2017-02-24 21:34:17,765 : INFO : PROGRESS: at 6.08% examples, 36055 words/s, in_qsize 0, out_qsize 0\n",
      "2017-02-24 21:34:18,919 : INFO : PROGRESS: at 6.18% examples, 36095 words/s, in_qsize 0, out_qsize 0\n",
      "2017-02-24 21:34:20,058 : INFO : PROGRESS: at 6.28% examples, 36138 words/s, in_qsize 0, out_qsize 0\n",
      "2017-02-24 21:34:21,160 : INFO : PROGRESS: at 6.38% examples, 36193 words/s, in_qsize 0, out_qsize 0\n",
      "2017-02-24 21:34:22,314 : INFO : PROGRESS: at 6.48% examples, 36230 words/s, in_qsize 0, out_qsize 0\n",
      "2017-02-24 21:34:23,446 : INFO : PROGRESS: at 6.58% examples, 36270 words/s, in_qsize 0, out_qsize 0\n",
      "2017-02-24 21:34:24,574 : INFO : PROGRESS: at 6.68% examples, 36320 words/s, in_qsize 0, out_qsize 0\n",
      "2017-02-24 21:34:25,582 : INFO : PROGRESS: at 6.77% examples, 36320 words/s, in_qsize 0, out_qsize 0\n",
      "2017-02-24 21:34:26,730 : INFO : PROGRESS: at 6.86% examples, 36351 words/s, in_qsize 0, out_qsize 0\n",
      "2017-02-24 21:34:27,848 : INFO : PROGRESS: at 6.96% examples, 36397 words/s, in_qsize 0, out_qsize 0\n",
      "2017-02-24 21:34:28,959 : INFO : PROGRESS: at 7.06% examples, 36446 words/s, in_qsize 0, out_qsize 0\n",
      "2017-02-24 21:34:30,082 : INFO : PROGRESS: at 7.16% examples, 36486 words/s, in_qsize 0, out_qsize 0\n",
      "2017-02-24 21:34:31,188 : INFO : PROGRESS: at 7.26% examples, 36533 words/s, in_qsize 0, out_qsize 0\n",
      "2017-02-24 21:34:32,253 : INFO : PROGRESS: at 7.34% examples, 36512 words/s, in_qsize 0, out_qsize 0\n",
      "2017-02-24 21:34:33,335 : INFO : PROGRESS: at 7.44% examples, 36568 words/s, in_qsize 0, out_qsize 0\n",
      "2017-02-24 21:34:34,498 : INFO : PROGRESS: at 7.54% examples, 36582 words/s, in_qsize 0, out_qsize 0\n",
      "2017-02-24 21:34:35,613 : INFO : PROGRESS: at 7.64% examples, 36628 words/s, in_qsize 0, out_qsize 0\n",
      "2017-02-24 21:34:36,685 : INFO : PROGRESS: at 7.74% examples, 36681 words/s, in_qsize 0, out_qsize 0\n",
      "2017-02-24 21:34:37,771 : INFO : PROGRESS: at 7.84% examples, 36733 words/s, in_qsize 0, out_qsize 0\n",
      "2017-02-24 21:34:38,921 : INFO : PROGRESS: at 7.94% examples, 36759 words/s, in_qsize 0, out_qsize 0\n",
      "2017-02-24 21:34:40,049 : INFO : PROGRESS: at 8.04% examples, 36785 words/s, in_qsize 0, out_qsize 0\n",
      "2017-02-24 21:34:41,213 : INFO : PROGRESS: at 8.14% examples, 36807 words/s, in_qsize 0, out_qsize 0\n",
      "2017-02-24 21:34:42,333 : INFO : PROGRESS: at 8.24% examples, 36841 words/s, in_qsize 0, out_qsize 0\n",
      "2017-02-24 21:34:43,501 : INFO : PROGRESS: at 8.34% examples, 36854 words/s, in_qsize 0, out_qsize 0\n",
      "2017-02-24 21:34:44,643 : INFO : PROGRESS: at 8.45% examples, 36881 words/s, in_qsize 0, out_qsize 0\n",
      "2017-02-24 21:34:45,755 : INFO : PROGRESS: at 8.55% examples, 36912 words/s, in_qsize 0, out_qsize 0\n",
      "2017-02-24 21:34:46,897 : INFO : PROGRESS: at 8.65% examples, 36937 words/s, in_qsize 0, out_qsize 0\n",
      "2017-02-24 21:34:48,046 : INFO : PROGRESS: at 8.75% examples, 36953 words/s, in_qsize 0, out_qsize 0\n",
      "2017-02-24 21:34:49,171 : INFO : PROGRESS: at 8.85% examples, 36986 words/s, in_qsize 0, out_qsize 0\n",
      "2017-02-24 21:34:50,276 : INFO : PROGRESS: at 8.96% examples, 37015 words/s, in_qsize 0, out_qsize 0\n",
      "2017-02-24 21:34:51,411 : INFO : PROGRESS: at 9.04% examples, 36973 words/s, in_qsize 0, out_qsize 0\n",
      "2017-02-24 21:34:52,547 : INFO : PROGRESS: at 9.14% examples, 36991 words/s, in_qsize 0, out_qsize 0\n",
      "2017-02-24 21:34:53,668 : INFO : PROGRESS: at 9.24% examples, 37021 words/s, in_qsize 0, out_qsize 0\n",
      "2017-02-24 21:34:54,809 : INFO : PROGRESS: at 9.34% examples, 37037 words/s, in_qsize 0, out_qsize 0\n",
      "2017-02-24 21:34:55,924 : INFO : PROGRESS: at 9.44% examples, 37065 words/s, in_qsize 0, out_qsize 0\n",
      "2017-02-24 21:34:57,077 : INFO : PROGRESS: at 9.54% examples, 37085 words/s, in_qsize 0, out_qsize 0\n",
      "2017-02-24 21:34:58,207 : INFO : PROGRESS: at 9.65% examples, 37107 words/s, in_qsize 0, out_qsize 0\n",
      "2017-02-24 21:34:59,290 : INFO : PROGRESS: at 9.74% examples, 37144 words/s, in_qsize 0, out_qsize 0\n",
      "2017-02-24 21:35:00,411 : INFO : PROGRESS: at 9.84% examples, 37168 words/s, in_qsize 0, out_qsize 0\n",
      "2017-02-24 21:35:01,594 : INFO : PROGRESS: at 9.95% examples, 37172 words/s, in_qsize 0, out_qsize 0\n",
      "2017-02-24 21:35:02,693 : INFO : PROGRESS: at 10.05% examples, 37202 words/s, in_qsize 0, out_qsize 0\n",
      "2017-02-24 21:35:03,815 : INFO : PROGRESS: at 10.15% examples, 37225 words/s, in_qsize 0, out_qsize 0\n",
      "2017-02-24 21:35:04,936 : INFO : PROGRESS: at 10.25% examples, 37245 words/s, in_qsize 0, out_qsize 0\n",
      "2017-02-24 21:35:06,084 : INFO : PROGRESS: at 10.35% examples, 37262 words/s, in_qsize 0, out_qsize 0\n",
      "2017-02-24 21:35:07,206 : INFO : PROGRESS: at 10.46% examples, 37282 words/s, in_qsize 0, out_qsize 0\n",
      "2017-02-24 21:35:08,348 : INFO : PROGRESS: at 10.56% examples, 37298 words/s, in_qsize 0, out_qsize 0\n",
      "2017-02-24 21:35:09,472 : INFO : PROGRESS: at 10.66% examples, 37315 words/s, in_qsize 0, out_qsize 0\n",
      "2017-02-24 21:35:10,529 : INFO : PROGRESS: at 10.74% examples, 37297 words/s, in_qsize 0, out_qsize 0\n",
      "2017-02-24 21:35:11,625 : INFO : PROGRESS: at 10.84% examples, 37323 words/s, in_qsize 0, out_qsize 0\n",
      "2017-02-24 21:35:12,757 : INFO : PROGRESS: at 10.94% examples, 37342 words/s, in_qsize 0, out_qsize 0\n",
      "2017-02-24 21:35:13,912 : INFO : PROGRESS: at 11.04% examples, 37352 words/s, in_qsize 0, out_qsize 0\n",
      "2017-02-24 21:35:15,034 : INFO : PROGRESS: at 11.14% examples, 37368 words/s, in_qsize 0, out_qsize 0\n",
      "2017-02-24 21:35:16,183 : INFO : PROGRESS: at 11.24% examples, 37385 words/s, in_qsize 0, out_qsize 0\n",
      "2017-02-24 21:35:17,298 : INFO : PROGRESS: at 11.34% examples, 37406 words/s, in_qsize 0, out_qsize 0\n",
      "2017-02-24 21:35:18,372 : INFO : PROGRESS: at 11.44% examples, 37437 words/s, in_qsize 0, out_qsize 0\n",
      "2017-02-24 21:35:19,487 : INFO : PROGRESS: at 11.54% examples, 37457 words/s, in_qsize 0, out_qsize 0\n",
      "2017-02-24 21:35:20,580 : INFO : PROGRESS: at 11.64% examples, 37481 words/s, in_qsize 0, out_qsize 0\n",
      "2017-02-24 21:35:21,715 : INFO : PROGRESS: at 11.74% examples, 37497 words/s, in_qsize 0, out_qsize 0\n",
      "2017-02-24 21:35:22,805 : INFO : PROGRESS: at 11.85% examples, 37524 words/s, in_qsize 0, out_qsize 0\n",
      "2017-02-24 21:35:23,955 : INFO : PROGRESS: at 11.95% examples, 37533 words/s, in_qsize 0, out_qsize 0\n",
      "2017-02-24 21:35:25,052 : INFO : PROGRESS: at 12.05% examples, 37557 words/s, in_qsize 0, out_qsize 0\n",
      "2017-02-24 21:35:26,228 : INFO : PROGRESS: at 12.15% examples, 37559 words/s, in_qsize 0, out_qsize 0\n",
      "2017-02-24 21:35:27,346 : INFO : PROGRESS: at 12.25% examples, 37575 words/s, in_qsize 0, out_qsize 0\n",
      "2017-02-24 21:35:28,474 : INFO : PROGRESS: at 12.35% examples, 37587 words/s, in_qsize 0, out_qsize 0\n",
      "2017-02-24 21:35:29,562 : INFO : PROGRESS: at 12.45% examples, 37615 words/s, in_qsize 0, out_qsize 0\n",
      "2017-02-24 21:35:30,624 : INFO : PROGRESS: at 12.54% examples, 37595 words/s, in_qsize 0, out_qsize 0\n",
      "2017-02-24 21:35:31,737 : INFO : PROGRESS: at 12.64% examples, 37613 words/s, in_qsize 0, out_qsize 0\n",
      "2017-02-24 21:35:32,930 : INFO : PROGRESS: at 12.75% examples, 37610 words/s, in_qsize 0, out_qsize 0\n",
      "2017-02-24 21:35:34,041 : INFO : PROGRESS: at 12.85% examples, 37629 words/s, in_qsize 0, out_qsize 0\n",
      "2017-02-24 21:35:35,133 : INFO : PROGRESS: at 12.95% examples, 37646 words/s, in_qsize 0, out_qsize 0\n",
      "2017-02-24 21:35:36,242 : INFO : PROGRESS: at 13.05% examples, 37665 words/s, in_qsize 0, out_qsize 0\n",
      "2017-02-24 21:35:37,411 : INFO : PROGRESS: at 13.15% examples, 37670 words/s, in_qsize 0, out_qsize 0\n",
      "2017-02-24 21:35:38,498 : INFO : PROGRESS: at 13.25% examples, 37693 words/s, in_qsize 0, out_qsize 0\n",
      "2017-02-24 21:35:39,613 : INFO : PROGRESS: at 13.35% examples, 37707 words/s, in_qsize 0, out_qsize 0\n",
      "2017-02-24 21:35:40,769 : INFO : PROGRESS: at 13.45% examples, 37715 words/s, in_qsize 0, out_qsize 0\n",
      "2017-02-24 21:35:41,958 : INFO : PROGRESS: at 13.55% examples, 37711 words/s, in_qsize 0, out_qsize 0\n",
      "2017-02-24 21:35:43,089 : INFO : PROGRESS: at 13.65% examples, 37724 words/s, in_qsize 0, out_qsize 0\n",
      "2017-02-24 21:35:44,169 : INFO : PROGRESS: at 13.75% examples, 37746 words/s, in_qsize 0, out_qsize 0\n",
      "2017-02-24 21:35:45,335 : INFO : PROGRESS: at 13.86% examples, 37752 words/s, in_qsize 0, out_qsize 0\n",
      "2017-02-24 21:35:46,461 : INFO : PROGRESS: at 13.96% examples, 37763 words/s, in_qsize 0, out_qsize 0\n",
      "2017-02-24 21:35:47,585 : INFO : PROGRESS: at 14.06% examples, 37772 words/s, in_qsize 0, out_qsize 0\n",
      "2017-02-24 21:35:48,722 : INFO : PROGRESS: at 14.16% examples, 37783 words/s, in_qsize 0, out_qsize 0\n",
      "2017-02-24 21:35:49,815 : INFO : PROGRESS: at 14.25% examples, 37759 words/s, in_qsize 0, out_qsize 0\n",
      "2017-02-24 21:35:50,924 : INFO : PROGRESS: at 14.35% examples, 37772 words/s, in_qsize 0, out_qsize 0\n",
      "2017-02-24 21:35:52,022 : INFO : PROGRESS: at 14.45% examples, 37791 words/s, in_qsize 0, out_qsize 0\n",
      "2017-02-24 21:35:53,154 : INFO : PROGRESS: at 14.55% examples, 37802 words/s, in_qsize 0, out_qsize 0\n",
      "2017-02-24 21:35:54,299 : INFO : PROGRESS: at 14.65% examples, 37809 words/s, in_qsize 0, out_qsize 0\n",
      "2017-02-24 21:35:55,415 : INFO : PROGRESS: at 14.76% examples, 37822 words/s, in_qsize 0, out_qsize 0\n",
      "2017-02-24 21:35:56,504 : INFO : PROGRESS: at 14.86% examples, 37839 words/s, in_qsize 0, out_qsize 0\n",
      "2017-02-24 21:35:57,739 : INFO : PROGRESS: at 14.96% examples, 37826 words/s, in_qsize 0, out_qsize 0\n",
      "2017-02-24 21:35:58,895 : INFO : PROGRESS: at 15.02% examples, 37746 words/s, in_qsize 0, out_qsize 0\n",
      "2017-02-24 21:36:00,045 : INFO : PROGRESS: at 15.11% examples, 37709 words/s, in_qsize 0, out_qsize 0\n",
      "2017-02-24 21:36:01,048 : INFO : PROGRESS: at 15.17% examples, 37663 words/s, in_qsize 0, out_qsize 0\n",
      "2017-02-24 21:36:02,138 : INFO : PROGRESS: at 15.22% examples, 37558 words/s, in_qsize 0, out_qsize 0\n",
      "2017-02-24 21:36:03,272 : INFO : PROGRESS: at 15.29% examples, 37484 words/s, in_qsize 0, out_qsize 0\n",
      "2017-02-24 21:36:04,433 : INFO : PROGRESS: at 15.38% examples, 37450 words/s, in_qsize 0, out_qsize 0\n",
      "2017-02-24 21:36:05,510 : INFO : PROGRESS: at 15.46% examples, 37432 words/s, in_qsize 0, out_qsize 0\n",
      "2017-02-24 21:36:06,587 : INFO : PROGRESS: at 15.54% examples, 37415 words/s, in_qsize 0, out_qsize 0\n",
      "2017-02-24 21:36:07,614 : INFO : PROGRESS: at 15.63% examples, 37405 words/s, in_qsize 0, out_qsize 0\n",
      "2017-02-24 21:36:08,734 : INFO : PROGRESS: at 15.71% examples, 37383 words/s, in_qsize 0, out_qsize 0\n",
      "2017-02-24 21:36:09,730 : INFO : PROGRESS: at 15.80% examples, 37378 words/s, in_qsize 0, out_qsize 0\n",
      "2017-02-24 21:36:10,887 : INFO : PROGRESS: at 15.90% examples, 37386 words/s, in_qsize 0, out_qsize 0\n",
      "2017-02-24 21:36:12,138 : INFO : PROGRESS: at 16.00% examples, 37374 words/s, in_qsize 0, out_qsize 0\n",
      "2017-02-24 21:36:13,243 : INFO : PROGRESS: at 16.10% examples, 37389 words/s, in_qsize 0, out_qsize 0\n",
      "2017-02-24 21:36:14,363 : INFO : PROGRESS: at 16.20% examples, 37403 words/s, in_qsize 0, out_qsize 0\n",
      "2017-02-24 21:36:15,508 : INFO : PROGRESS: at 16.30% examples, 37412 words/s, in_qsize 0, out_qsize 0\n",
      "2017-02-24 21:36:16,602 : INFO : PROGRESS: at 16.40% examples, 37429 words/s, in_qsize 0, out_qsize 0\n",
      "2017-02-24 21:36:17,750 : INFO : PROGRESS: at 16.50% examples, 37438 words/s, in_qsize 0, out_qsize 0\n",
      "2017-02-24 21:36:18,867 : INFO : PROGRESS: at 16.57% examples, 37376 words/s, in_qsize 0, out_qsize 0\n",
      "2017-02-24 21:36:19,876 : INFO : PROGRESS: at 16.63% examples, 37335 words/s, in_qsize 0, out_qsize 0\n",
      "2017-02-24 21:36:21,029 : INFO : PROGRESS: at 16.72% examples, 37303 words/s, in_qsize 0, out_qsize 0\n",
      "2017-02-24 21:36:22,074 : INFO : PROGRESS: at 16.81% examples, 37292 words/s, in_qsize 0, out_qsize 0\n",
      "2017-02-24 21:36:23,175 : INFO : PROGRESS: at 16.90% examples, 37308 words/s, in_qsize 0, out_qsize 0\n",
      "2017-02-24 21:36:24,306 : INFO : PROGRESS: at 17.00% examples, 37321 words/s, in_qsize 0, out_qsize 0\n",
      "2017-02-24 21:36:25,432 : INFO : PROGRESS: at 17.10% examples, 37331 words/s, in_qsize 0, out_qsize 0\n",
      "2017-02-24 21:36:26,565 : INFO : PROGRESS: at 17.21% examples, 37342 words/s, in_qsize 0, out_qsize 0\n",
      "2017-02-24 21:36:27,647 : INFO : PROGRESS: at 17.31% examples, 37362 words/s, in_qsize 0, out_qsize 0\n",
      "2017-02-24 21:36:28,753 : INFO : PROGRESS: at 17.41% examples, 37375 words/s, in_qsize 0, out_qsize 0\n",
      "2017-02-24 21:36:29,871 : INFO : PROGRESS: at 17.51% examples, 37388 words/s, in_qsize 0, out_qsize 0\n",
      "2017-02-24 21:36:30,946 : INFO : PROGRESS: at 17.61% examples, 37411 words/s, in_qsize 0, out_qsize 0\n",
      "2017-02-24 21:36:32,129 : INFO : PROGRESS: at 17.71% examples, 37411 words/s, in_qsize 0, out_qsize 0\n",
      "2017-02-24 21:36:33,188 : INFO : PROGRESS: at 17.80% examples, 37398 words/s, in_qsize 0, out_qsize 0\n",
      "2017-02-24 21:36:34,265 : INFO : PROGRESS: at 17.90% examples, 37416 words/s, in_qsize 0, out_qsize 0\n",
      "2017-02-24 21:36:35,363 : INFO : PROGRESS: at 18.00% examples, 37435 words/s, in_qsize 0, out_qsize 0\n",
      "2017-02-24 21:36:36,477 : INFO : PROGRESS: at 18.10% examples, 37447 words/s, in_qsize 0, out_qsize 0\n",
      "2017-02-24 21:36:37,582 : INFO : PROGRESS: at 18.21% examples, 37462 words/s, in_qsize 0, out_qsize 0\n",
      "2017-02-24 21:36:38,676 : INFO : PROGRESS: at 18.31% examples, 37478 words/s, in_qsize 0, out_qsize 0\n",
      "2017-02-24 21:36:39,766 : INFO : PROGRESS: at 18.41% examples, 37495 words/s, in_qsize 0, out_qsize 0\n",
      "2017-02-24 21:36:40,855 : INFO : PROGRESS: at 18.52% examples, 37510 words/s, in_qsize 0, out_qsize 0\n",
      "2017-02-24 21:36:41,949 : INFO : PROGRESS: at 18.62% examples, 37527 words/s, in_qsize 0, out_qsize 0\n",
      "2017-02-24 21:36:43,047 : INFO : PROGRESS: at 18.73% examples, 37539 words/s, in_qsize 0, out_qsize 0\n",
      "2017-02-24 21:36:44,138 : INFO : PROGRESS: at 18.82% examples, 37558 words/s, in_qsize 0, out_qsize 0\n",
      "2017-02-24 21:36:45,218 : INFO : PROGRESS: at 18.92% examples, 37574 words/s, in_qsize 0, out_qsize 0\n",
      "2017-02-24 21:36:46,322 : INFO : PROGRESS: at 19.02% examples, 37585 words/s, in_qsize 0, out_qsize 0\n",
      "2017-02-24 21:36:47,388 : INFO : PROGRESS: at 19.12% examples, 37604 words/s, in_qsize 0, out_qsize 0\n",
      "2017-02-24 21:36:48,463 : INFO : PROGRESS: at 19.22% examples, 37622 words/s, in_qsize 0, out_qsize 0\n",
      "2017-02-24 21:36:49,525 : INFO : PROGRESS: at 19.32% examples, 37643 words/s, in_qsize 0, out_qsize 0\n",
      "2017-02-24 21:36:50,625 : INFO : PROGRESS: at 19.42% examples, 37655 words/s, in_qsize 0, out_qsize 0\n",
      "2017-02-24 21:36:51,681 : INFO : PROGRESS: at 19.50% examples, 37643 words/s, in_qsize 0, out_qsize 0\n",
      "2017-02-24 21:36:52,771 : INFO : PROGRESS: at 19.60% examples, 37659 words/s, in_qsize 0, out_qsize 0\n",
      "2017-02-24 21:36:53,843 : INFO : PROGRESS: at 19.70% examples, 37675 words/s, in_qsize 0, out_qsize 0\n",
      "2017-02-24 21:36:54,915 : INFO : PROGRESS: at 19.80% examples, 37691 words/s, in_qsize 0, out_qsize 0\n",
      "2017-02-24 21:36:56,009 : INFO : PROGRESS: at 19.90% examples, 37705 words/s, in_qsize 0, out_qsize 0\n",
      "2017-02-24 21:36:57,119 : INFO : PROGRESS: at 20.00% examples, 37716 words/s, in_qsize 0, out_qsize 0\n",
      "2017-02-24 21:36:58,201 : INFO : PROGRESS: at 20.10% examples, 37730 words/s, in_qsize 0, out_qsize 0\n",
      "2017-02-24 21:36:59,288 : INFO : PROGRESS: at 20.20% examples, 37744 words/s, in_qsize 0, out_qsize 0\n",
      "2017-02-24 21:37:00,392 : INFO : PROGRESS: at 20.30% examples, 37756 words/s, in_qsize 0, out_qsize 0\n",
      "2017-02-24 21:37:01,426 : INFO : PROGRESS: at 20.40% examples, 37777 words/s, in_qsize 0, out_qsize 0\n",
      "2017-02-24 21:37:02,526 : INFO : PROGRESS: at 20.50% examples, 37792 words/s, in_qsize 0, out_qsize 0\n",
      "2017-02-24 21:37:03,571 : INFO : PROGRESS: at 20.60% examples, 37811 words/s, in_qsize 0, out_qsize 0\n",
      "2017-02-24 21:37:04,624 : INFO : PROGRESS: at 20.70% examples, 37832 words/s, in_qsize 0, out_qsize 0\n",
      "2017-02-24 21:37:05,737 : INFO : PROGRESS: at 20.80% examples, 37842 words/s, in_qsize 0, out_qsize 0\n",
      "2017-02-24 21:37:06,831 : INFO : PROGRESS: at 20.91% examples, 37853 words/s, in_qsize 0, out_qsize 0\n",
      "2017-02-24 21:37:07,975 : INFO : PROGRESS: at 21.01% examples, 37859 words/s, in_qsize 0, out_qsize 0\n",
      "2017-02-24 21:37:09,019 : INFO : PROGRESS: at 21.10% examples, 37877 words/s, in_qsize 0, out_qsize 0\n",
      "2017-02-24 21:37:10,059 : INFO : PROGRESS: at 21.19% examples, 37869 words/s, in_qsize 0, out_qsize 0\n",
      "2017-02-24 21:37:11,172 : INFO : PROGRESS: at 21.29% examples, 37880 words/s, in_qsize 0, out_qsize 0\n",
      "2017-02-24 21:37:12,294 : INFO : PROGRESS: at 21.39% examples, 37887 words/s, in_qsize 0, out_qsize 0\n",
      "2017-02-24 21:37:13,366 : INFO : PROGRESS: at 21.49% examples, 37901 words/s, in_qsize 0, out_qsize 0\n",
      "2017-02-24 21:37:14,457 : INFO : PROGRESS: at 21.59% examples, 37915 words/s, in_qsize 0, out_qsize 0\n",
      "2017-02-24 21:37:15,560 : INFO : PROGRESS: at 21.69% examples, 37927 words/s, in_qsize 0, out_qsize 0\n",
      "2017-02-24 21:37:16,693 : INFO : PROGRESS: at 21.80% examples, 37932 words/s, in_qsize 0, out_qsize 0\n",
      "2017-02-24 21:37:17,753 : INFO : PROGRESS: at 21.90% examples, 37949 words/s, in_qsize 0, out_qsize 0\n",
      "2017-02-24 21:37:18,838 : INFO : PROGRESS: at 21.99% examples, 37962 words/s, in_qsize 0, out_qsize 0\n",
      "2017-02-24 21:37:19,917 : INFO : PROGRESS: at 22.09% examples, 37975 words/s, in_qsize 0, out_qsize 0\n",
      "2017-02-24 21:37:21,018 : INFO : PROGRESS: at 22.20% examples, 37983 words/s, in_qsize 0, out_qsize 0\n",
      "2017-02-24 21:37:22,123 : INFO : PROGRESS: at 22.30% examples, 37994 words/s, in_qsize 0, out_qsize 0\n",
      "2017-02-24 21:37:23,260 : INFO : PROGRESS: at 22.40% examples, 37999 words/s, in_qsize 0, out_qsize 0\n",
      "2017-02-24 21:37:24,308 : INFO : PROGRESS: at 22.50% examples, 38014 words/s, in_qsize 0, out_qsize 0\n",
      "2017-02-24 21:37:25,416 : INFO : PROGRESS: at 22.60% examples, 38024 words/s, in_qsize 0, out_qsize 0\n",
      "2017-02-24 21:37:26,478 : INFO : PROGRESS: at 22.70% examples, 38041 words/s, in_qsize 0, out_qsize 0\n",
      "2017-02-24 21:37:27,578 : INFO : PROGRESS: at 22.80% examples, 38051 words/s, in_qsize 0, out_qsize 0\n",
      "2017-02-24 21:37:28,673 : INFO : PROGRESS: at 22.90% examples, 38061 words/s, in_qsize 0, out_qsize 0\n",
      "2017-02-24 21:37:29,721 : INFO : PROGRESS: at 22.98% examples, 38050 words/s, in_qsize 0, out_qsize 0\n",
      "2017-02-24 21:37:30,820 : INFO : PROGRESS: at 23.08% examples, 38062 words/s, in_qsize 0, out_qsize 0\n",
      "2017-02-24 21:37:31,895 : INFO : PROGRESS: at 23.19% examples, 38073 words/s, in_qsize 0, out_qsize 0\n",
      "2017-02-24 21:37:33,042 : INFO : PROGRESS: at 23.29% examples, 38079 words/s, in_qsize 0, out_qsize 0\n",
      "2017-02-24 21:37:34,140 : INFO : PROGRESS: at 23.40% examples, 38087 words/s, in_qsize 0, out_qsize 0\n",
      "2017-02-24 21:37:35,253 : INFO : PROGRESS: at 23.49% examples, 38095 words/s, in_qsize 0, out_qsize 0\n",
      "2017-02-24 21:37:36,318 : INFO : PROGRESS: at 23.60% examples, 38108 words/s, in_qsize 0, out_qsize 0\n",
      "2017-02-24 21:37:37,411 : INFO : PROGRESS: at 23.69% examples, 38119 words/s, in_qsize 0, out_qsize 0\n",
      "2017-02-24 21:37:38,520 : INFO : PROGRESS: at 23.79% examples, 38127 words/s, in_qsize 0, out_qsize 0\n",
      "2017-02-24 21:37:39,623 : INFO : PROGRESS: at 23.89% examples, 38135 words/s, in_qsize 0, out_qsize 0\n",
      "2017-02-24 21:37:40,682 : INFO : PROGRESS: at 23.99% examples, 38147 words/s, in_qsize 0, out_qsize 0\n",
      "2017-02-24 21:37:41,739 : INFO : PROGRESS: at 24.09% examples, 38163 words/s, in_qsize 0, out_qsize 0\n",
      "2017-02-24 21:37:42,862 : INFO : PROGRESS: at 24.20% examples, 38170 words/s, in_qsize 0, out_qsize 0\n",
      "2017-02-24 21:37:43,957 : INFO : PROGRESS: at 24.30% examples, 38178 words/s, in_qsize 0, out_qsize 0\n",
      "2017-02-24 21:37:45,053 : INFO : PROGRESS: at 24.39% examples, 38187 words/s, in_qsize 0, out_qsize 0\n",
      "2017-02-24 21:37:46,125 : INFO : PROGRESS: at 24.49% examples, 38199 words/s, in_qsize 0, out_qsize 0\n",
      "2017-02-24 21:37:47,237 : INFO : PROGRESS: at 24.59% examples, 38205 words/s, in_qsize 0, out_qsize 0\n",
      "2017-02-24 21:37:48,443 : INFO : PROGRESS: at 24.69% examples, 38200 words/s, in_qsize 0, out_qsize 0\n",
      "2017-02-24 21:37:49,516 : INFO : PROGRESS: at 24.79% examples, 38212 words/s, in_qsize 0, out_qsize 0\n",
      "2017-02-24 21:37:50,612 : INFO : PROGRESS: at 24.89% examples, 38221 words/s, in_qsize 0, out_qsize 0\n",
      "2017-02-24 21:37:51,694 : INFO : PROGRESS: at 24.99% examples, 38233 words/s, in_qsize 0, out_qsize 0\n",
      "2017-02-24 21:37:52,807 : INFO : PROGRESS: at 25.10% examples, 38239 words/s, in_qsize 0, out_qsize 0\n",
      "2017-02-24 21:37:53,903 : INFO : PROGRESS: at 25.20% examples, 38249 words/s, in_qsize 0, out_qsize 0\n",
      "2017-02-24 21:37:55,010 : INFO : PROGRESS: at 25.30% examples, 38255 words/s, in_qsize 0, out_qsize 0\n",
      "2017-02-24 21:37:56,113 : INFO : PROGRESS: at 25.40% examples, 38263 words/s, in_qsize 0, out_qsize 0\n",
      "2017-02-24 21:37:57,215 : INFO : PROGRESS: at 25.51% examples, 38270 words/s, in_qsize 0, out_qsize 0\n",
      "2017-02-24 21:37:58,321 : INFO : PROGRESS: at 25.61% examples, 38277 words/s, in_qsize 0, out_qsize 0\n",
      "2017-02-24 21:37:59,378 : INFO : PROGRESS: at 25.71% examples, 38293 words/s, in_qsize 0, out_qsize 0\n",
      "2017-02-24 21:38:00,461 : INFO : PROGRESS: at 25.81% examples, 38300 words/s, in_qsize 0, out_qsize 0\n",
      "2017-02-24 21:38:01,566 : INFO : PROGRESS: at 25.91% examples, 38309 words/s, in_qsize 0, out_qsize 0\n",
      "2017-02-24 21:38:02,677 : INFO : PROGRESS: at 26.01% examples, 38315 words/s, in_qsize 0, out_qsize 0\n",
      "2017-02-24 21:38:03,796 : INFO : PROGRESS: at 26.11% examples, 38321 words/s, in_qsize 0, out_qsize 0\n",
      "2017-02-24 21:38:04,862 : INFO : PROGRESS: at 26.21% examples, 38331 words/s, in_qsize 0, out_qsize 0\n",
      "2017-02-24 21:38:05,943 : INFO : PROGRESS: at 26.31% examples, 38342 words/s, in_qsize 0, out_qsize 0\n",
      "2017-02-24 21:38:07,054 : INFO : PROGRESS: at 26.41% examples, 38346 words/s, in_qsize 0, out_qsize 0\n",
      "2017-02-24 21:38:08,081 : INFO : PROGRESS: at 26.50% examples, 38338 words/s, in_qsize 0, out_qsize 0\n",
      "2017-02-24 21:38:09,157 : INFO : PROGRESS: at 26.60% examples, 38348 words/s, in_qsize 0, out_qsize 0\n",
      "2017-02-24 21:38:10,270 : INFO : PROGRESS: at 26.70% examples, 38355 words/s, in_qsize 0, out_qsize 0\n",
      "2017-02-24 21:38:11,357 : INFO : PROGRESS: at 26.80% examples, 38363 words/s, in_qsize 0, out_qsize 0\n",
      "2017-02-24 21:38:12,422 : INFO : PROGRESS: at 26.90% examples, 38374 words/s, in_qsize 0, out_qsize 0\n",
      "2017-02-24 21:38:13,488 : INFO : PROGRESS: at 27.00% examples, 38386 words/s, in_qsize 0, out_qsize 0\n",
      "2017-02-24 21:38:14,573 : INFO : PROGRESS: at 27.10% examples, 38394 words/s, in_qsize 0, out_qsize 0\n",
      "2017-02-24 21:38:15,667 : INFO : PROGRESS: at 27.19% examples, 38401 words/s, in_qsize 0, out_qsize 0\n",
      "2017-02-24 21:38:16,738 : INFO : PROGRESS: at 27.29% examples, 38411 words/s, in_qsize 0, out_qsize 0\n",
      "2017-02-24 21:38:17,822 : INFO : PROGRESS: at 27.39% examples, 38420 words/s, in_qsize 0, out_qsize 0\n",
      "2017-02-24 21:38:18,905 : INFO : PROGRESS: at 27.49% examples, 38431 words/s, in_qsize 0, out_qsize 0\n",
      "2017-02-24 21:38:20,012 : INFO : PROGRESS: at 27.59% examples, 38437 words/s, in_qsize 0, out_qsize 0\n",
      "2017-02-24 21:38:21,047 : INFO : PROGRESS: at 27.69% examples, 38451 words/s, in_qsize 0, out_qsize 0\n",
      "2017-02-24 21:38:22,123 : INFO : PROGRESS: at 27.79% examples, 38462 words/s, in_qsize 0, out_qsize 0\n",
      "2017-02-24 21:38:23,219 : INFO : PROGRESS: at 27.89% examples, 38469 words/s, in_qsize 0, out_qsize 0\n",
      "2017-02-24 21:38:24,284 : INFO : PROGRESS: at 27.99% examples, 38480 words/s, in_qsize 0, out_qsize 0\n",
      "2017-02-24 21:38:25,405 : INFO : PROGRESS: at 28.09% examples, 38484 words/s, in_qsize 0, out_qsize 0\n",
      "2017-02-24 21:38:26,485 : INFO : PROGRESS: at 28.20% examples, 38491 words/s, in_qsize 0, out_qsize 0\n",
      "2017-02-24 21:38:27,544 : INFO : PROGRESS: at 28.28% examples, 38481 words/s, in_qsize 0, out_qsize 0\n",
      "2017-02-24 21:38:28,696 : INFO : PROGRESS: at 28.38% examples, 38481 words/s, in_qsize 0, out_qsize 0\n",
      "2017-02-24 21:38:29,775 : INFO : PROGRESS: at 28.48% examples, 38490 words/s, in_qsize 0, out_qsize 0\n",
      "2017-02-24 21:38:30,860 : INFO : PROGRESS: at 28.58% examples, 38499 words/s, in_qsize 0, out_qsize 0\n",
      "2017-02-24 21:38:31,989 : INFO : PROGRESS: at 28.68% examples, 38502 words/s, in_qsize 0, out_qsize 0\n",
      "2017-02-24 21:38:33,088 : INFO : PROGRESS: at 28.79% examples, 38508 words/s, in_qsize 0, out_qsize 0\n",
      "2017-02-24 21:38:34,198 : INFO : PROGRESS: at 28.89% examples, 38514 words/s, in_qsize 0, out_qsize 0\n",
      "2017-02-24 21:38:35,266 : INFO : PROGRESS: at 28.99% examples, 38524 words/s, in_qsize 0, out_qsize 0\n",
      "2017-02-24 21:38:36,360 : INFO : PROGRESS: at 29.09% examples, 38531 words/s, in_qsize 0, out_qsize 0\n",
      "2017-02-24 21:38:37,519 : INFO : PROGRESS: at 29.19% examples, 38531 words/s, in_qsize 0, out_qsize 0\n",
      "2017-02-24 21:38:38,600 : INFO : PROGRESS: at 29.29% examples, 38539 words/s, in_qsize 0, out_qsize 0\n",
      "2017-02-24 21:38:39,633 : INFO : PROGRESS: at 29.38% examples, 38532 words/s, in_qsize 0, out_qsize 0\n",
      "2017-02-24 21:38:40,758 : INFO : PROGRESS: at 29.47% examples, 38535 words/s, in_qsize 0, out_qsize 0\n",
      "2017-02-24 21:38:41,838 : INFO : PROGRESS: at 29.58% examples, 38543 words/s, in_qsize 0, out_qsize 0\n",
      "2017-02-24 21:38:42,952 : INFO : PROGRESS: at 29.68% examples, 38548 words/s, in_qsize 0, out_qsize 0\n",
      "2017-02-24 21:38:43,957 : INFO : PROGRESS: at 29.76% examples, 38543 words/s, in_qsize 0, out_qsize 0\n",
      "2017-02-24 21:38:45,065 : INFO : PROGRESS: at 29.84% examples, 38526 words/s, in_qsize 0, out_qsize 0\n",
      "2017-02-24 21:38:46,281 : INFO : PROGRESS: at 29.91% examples, 38476 words/s, in_qsize 0, out_qsize 0\n",
      "2017-02-24 21:38:47,342 : INFO : PROGRESS: at 29.98% examples, 38444 words/s, in_qsize 0, out_qsize 0\n",
      "2017-02-24 21:38:48,536 : INFO : PROGRESS: at 30.06% examples, 38418 words/s, in_qsize 0, out_qsize 0\n",
      "2017-02-24 21:38:49,586 : INFO : PROGRESS: at 30.15% examples, 38408 words/s, in_qsize 0, out_qsize 0\n",
      "2017-02-24 21:38:50,761 : INFO : PROGRESS: at 30.23% examples, 38385 words/s, in_qsize 0, out_qsize 0\n",
      "2017-02-24 21:38:51,910 : INFO : PROGRESS: at 30.30% examples, 38344 words/s, in_qsize 0, out_qsize 0\n",
      "2017-02-24 21:38:53,077 : INFO : PROGRESS: at 30.39% examples, 38321 words/s, in_qsize 0, out_qsize 0\n",
      "2017-02-24 21:38:54,123 : INFO : PROGRESS: at 30.47% examples, 38312 words/s, in_qsize 0, out_qsize 0\n",
      "2017-02-24 21:38:55,139 : INFO : PROGRESS: at 30.56% examples, 38306 words/s, in_qsize 0, out_qsize 0\n",
      "2017-02-24 21:38:56,283 : INFO : PROGRESS: at 30.66% examples, 38309 words/s, in_qsize 0, out_qsize 0\n",
      "2017-02-24 21:38:57,296 : INFO : PROGRESS: at 30.74% examples, 38305 words/s, in_qsize 0, out_qsize 0\n",
      "2017-02-24 21:38:58,505 : INFO : PROGRESS: at 30.82% examples, 38278 words/s, in_qsize 0, out_qsize 0\n",
      "2017-02-24 21:38:59,595 : INFO : PROGRESS: at 30.91% examples, 38265 words/s, in_qsize 0, out_qsize 0\n",
      "2017-02-24 21:39:00,617 : INFO : PROGRESS: at 30.99% examples, 38260 words/s, in_qsize 0, out_qsize 0\n",
      "2017-02-24 21:39:01,646 : INFO : PROGRESS: at 31.08% examples, 38254 words/s, in_qsize 0, out_qsize 0\n",
      "2017-02-24 21:39:02,670 : INFO : PROGRESS: at 31.14% examples, 38228 words/s, in_qsize 0, out_qsize 0\n",
      "2017-02-24 21:39:03,711 : INFO : PROGRESS: at 31.23% examples, 38220 words/s, in_qsize 0, out_qsize 0\n",
      "2017-02-24 21:39:04,774 : INFO : PROGRESS: at 31.33% examples, 38230 words/s, in_qsize 0, out_qsize 0\n",
      "2017-02-24 21:39:05,903 : INFO : PROGRESS: at 31.43% examples, 38234 words/s, in_qsize 0, out_qsize 0\n",
      "2017-02-24 21:39:06,935 : INFO : PROGRESS: at 31.51% examples, 38228 words/s, in_qsize 0, out_qsize 0\n",
      "2017-02-24 21:39:08,086 : INFO : PROGRESS: at 31.59% examples, 38209 words/s, in_qsize 0, out_qsize 0\n",
      "2017-02-24 21:39:09,213 : INFO : PROGRESS: at 31.68% examples, 38192 words/s, in_qsize 0, out_qsize 0\n",
      "2017-02-24 21:39:10,615 : INFO : PROGRESS: at 31.76% examples, 38148 words/s, in_qsize 0, out_qsize 0\n",
      "2017-02-24 21:39:11,809 : INFO : PROGRESS: at 31.83% examples, 38105 words/s, in_qsize 0, out_qsize 0\n",
      "2017-02-24 21:39:12,834 : INFO : PROGRESS: at 31.90% examples, 38080 words/s, in_qsize 0, out_qsize 0\n",
      "2017-02-24 21:39:13,954 : INFO : PROGRESS: at 32.00% examples, 38084 words/s, in_qsize 0, out_qsize 0\n",
      "2017-02-24 21:39:15,143 : INFO : PROGRESS: at 32.10% examples, 38083 words/s, in_qsize 0, out_qsize 0\n",
      "2017-02-24 21:39:16,201 : INFO : PROGRESS: at 32.17% examples, 38054 words/s, in_qsize 0, out_qsize 0\n",
      "2017-02-24 21:39:17,362 : INFO : PROGRESS: at 32.23% examples, 38015 words/s, in_qsize 0, out_qsize 0\n",
      "2017-02-24 21:39:18,674 : INFO : PROGRESS: at 32.32% examples, 37980 words/s, in_qsize 0, out_qsize 0\n",
      "2017-02-24 21:39:19,813 : INFO : PROGRESS: at 32.40% examples, 37964 words/s, in_qsize 0, out_qsize 0\n",
      "2017-02-24 21:39:20,822 : INFO : PROGRESS: at 32.49% examples, 37961 words/s, in_qsize 0, out_qsize 0\n",
      "2017-02-24 21:39:21,903 : INFO : PROGRESS: at 32.56% examples, 37931 words/s, in_qsize 0, out_qsize 0\n",
      "2017-02-24 21:39:22,994 : INFO : PROGRESS: at 32.63% examples, 37901 words/s, in_qsize 0, out_qsize 0\n",
      "2017-02-24 21:39:24,142 : INFO : PROGRESS: at 32.71% examples, 37884 words/s, in_qsize 0, out_qsize 0\n",
      "2017-02-24 21:39:25,167 : INFO : PROGRESS: at 32.80% examples, 37879 words/s, in_qsize 0, out_qsize 0\n",
      "2017-02-24 21:39:26,202 : INFO : PROGRESS: at 32.87% examples, 37854 words/s, in_qsize 0, out_qsize 0\n",
      "2017-02-24 21:39:27,347 : INFO : PROGRESS: at 32.95% examples, 37836 words/s, in_qsize 0, out_qsize 0\n",
      "2017-02-24 21:39:28,536 : INFO : PROGRESS: at 33.03% examples, 37817 words/s, in_qsize 0, out_qsize 0\n",
      "2017-02-24 21:39:29,661 : INFO : PROGRESS: at 33.10% examples, 37783 words/s, in_qsize 0, out_qsize 0\n",
      "2017-02-24 21:39:30,849 : INFO : PROGRESS: at 33.20% examples, 37782 words/s, in_qsize 0, out_qsize 0\n",
      "2017-02-24 21:39:31,949 : INFO : PROGRESS: at 33.30% examples, 37790 words/s, in_qsize 0, out_qsize 0\n",
      "2017-02-24 21:39:33,103 : INFO : PROGRESS: at 33.40% examples, 37792 words/s, in_qsize 0, out_qsize 0\n",
      "2017-02-24 21:39:34,360 : INFO : PROGRESS: at 33.48% examples, 37765 words/s, in_qsize 0, out_qsize 0\n",
      "2017-02-24 21:39:35,409 : INFO : PROGRESS: at 33.53% examples, 37721 words/s, in_qsize 0, out_qsize 0\n",
      "2017-02-24 21:39:36,498 : INFO : PROGRESS: at 33.59% examples, 37672 words/s, in_qsize 0, out_qsize 0\n",
      "2017-02-24 21:39:37,604 : INFO : PROGRESS: at 33.67% examples, 37661 words/s, in_qsize 0, out_qsize 0\n",
      "2017-02-24 21:39:38,834 : INFO : PROGRESS: at 33.75% examples, 37638 words/s, in_qsize 0, out_qsize 0\n",
      "2017-02-24 21:39:39,964 : INFO : PROGRESS: at 33.82% examples, 37605 words/s, in_qsize 0, out_qsize 0\n",
      "2017-02-24 21:39:41,223 : INFO : PROGRESS: at 33.91% examples, 37579 words/s, in_qsize 0, out_qsize 0\n",
      "2017-02-24 21:39:42,228 : INFO : PROGRESS: at 33.99% examples, 37577 words/s, in_qsize 0, out_qsize 0\n",
      "2017-02-24 21:39:43,349 : INFO : PROGRESS: at 34.08% examples, 37564 words/s, in_qsize 0, out_qsize 0\n",
      "2017-02-24 21:39:44,461 : INFO : PROGRESS: at 34.16% examples, 37552 words/s, in_qsize 0, out_qsize 0\n",
      "2017-02-24 21:39:45,634 : INFO : PROGRESS: at 34.25% examples, 37535 words/s, in_qsize 0, out_qsize 0\n",
      "2017-02-24 21:39:46,752 : INFO : PROGRESS: at 34.33% examples, 37523 words/s, in_qsize 0, out_qsize 0\n",
      "2017-02-24 21:39:47,829 : INFO : PROGRESS: at 34.40% examples, 37496 words/s, in_qsize 0, out_qsize 0\n",
      "2017-02-24 21:39:48,955 : INFO : PROGRESS: at 34.48% examples, 37483 words/s, in_qsize 0, out_qsize 0\n",
      "2017-02-24 21:39:50,086 : INFO : PROGRESS: at 34.56% examples, 37470 words/s, in_qsize 0, out_qsize 0\n",
      "2017-02-24 21:39:51,237 : INFO : PROGRESS: at 34.65% examples, 37455 words/s, in_qsize 0, out_qsize 0\n",
      "2017-02-24 21:39:52,356 : INFO : PROGRESS: at 34.74% examples, 37443 words/s, in_qsize 0, out_qsize 0\n",
      "2017-02-24 21:39:53,418 : INFO : PROGRESS: at 34.82% examples, 37436 words/s, in_qsize 0, out_qsize 0\n",
      "2017-02-24 21:39:54,504 : INFO : PROGRESS: at 34.91% examples, 37427 words/s, in_qsize 0, out_qsize 0\n",
      "2017-02-24 21:39:55,662 : INFO : PROGRESS: at 34.99% examples, 37412 words/s, in_qsize 0, out_qsize 0\n",
      "2017-02-24 21:39:56,725 : INFO : PROGRESS: at 35.08% examples, 37405 words/s, in_qsize 0, out_qsize 0\n",
      "2017-02-24 21:39:57,905 : INFO : PROGRESS: at 35.17% examples, 37405 words/s, in_qsize 0, out_qsize 0\n",
      "2017-02-24 21:39:59,079 : INFO : PROGRESS: at 35.27% examples, 37407 words/s, in_qsize 0, out_qsize 0\n",
      "2017-02-24 21:40:00,203 : INFO : PROGRESS: at 35.36% examples, 37395 words/s, in_qsize 0, out_qsize 0\n",
      "2017-02-24 21:40:01,362 : INFO : PROGRESS: at 35.46% examples, 37398 words/s, in_qsize 0, out_qsize 0\n",
      "2017-02-24 21:40:02,509 : INFO : PROGRESS: at 35.56% examples, 37401 words/s, in_qsize 0, out_qsize 0\n",
      "2017-02-24 21:40:03,708 : INFO : PROGRESS: at 35.66% examples, 37401 words/s, in_qsize 0, out_qsize 0\n",
      "2017-02-24 21:40:04,900 : INFO : PROGRESS: at 35.76% examples, 37401 words/s, in_qsize 0, out_qsize 0\n",
      "2017-02-24 21:40:06,063 : INFO : PROGRESS: at 35.87% examples, 37403 words/s, in_qsize 0, out_qsize 0\n",
      "2017-02-24 21:40:07,240 : INFO : PROGRESS: at 35.97% examples, 37404 words/s, in_qsize 0, out_qsize 0\n",
      "2017-02-24 21:40:08,427 : INFO : PROGRESS: at 36.07% examples, 37403 words/s, in_qsize 0, out_qsize 0\n",
      "2017-02-24 21:40:09,641 : INFO : PROGRESS: at 36.17% examples, 37401 words/s, in_qsize 0, out_qsize 0\n",
      "2017-02-24 21:40:10,814 : INFO : PROGRESS: at 36.27% examples, 37403 words/s, in_qsize 0, out_qsize 0\n",
      "2017-02-24 21:40:11,964 : INFO : PROGRESS: at 36.35% examples, 37389 words/s, in_qsize 0, out_qsize 0\n",
      "2017-02-24 21:40:12,965 : INFO : PROGRESS: at 36.42% examples, 37371 words/s, in_qsize 0, out_qsize 0\n",
      "2017-02-24 21:40:14,100 : INFO : PROGRESS: at 36.50% examples, 37358 words/s, in_qsize 0, out_qsize 0\n",
      "2017-02-24 21:40:15,168 : INFO : PROGRESS: at 36.58% examples, 37351 words/s, in_qsize 0, out_qsize 0\n",
      "2017-02-24 21:40:16,295 : INFO : PROGRESS: at 36.67% examples, 37340 words/s, in_qsize 0, out_qsize 0\n",
      "2017-02-24 21:40:17,354 : INFO : PROGRESS: at 36.76% examples, 37334 words/s, in_qsize 0, out_qsize 0\n",
      "2017-02-24 21:40:18,492 : INFO : PROGRESS: at 36.85% examples, 37338 words/s, in_qsize 0, out_qsize 0\n",
      "2017-02-24 21:40:19,628 : INFO : PROGRESS: at 36.95% examples, 37343 words/s, in_qsize 0, out_qsize 0\n",
      "2017-02-24 21:40:20,681 : INFO : PROGRESS: at 37.03% examples, 37337 words/s, in_qsize 0, out_qsize 0\n",
      "2017-02-24 21:40:21,804 : INFO : PROGRESS: at 37.14% examples, 37344 words/s, in_qsize 0, out_qsize 0\n",
      "2017-02-24 21:40:22,911 : INFO : PROGRESS: at 37.24% examples, 37349 words/s, in_qsize 0, out_qsize 0\n",
      "2017-02-24 21:40:24,026 : INFO : PROGRESS: at 37.34% examples, 37357 words/s, in_qsize 0, out_qsize 0\n",
      "2017-02-24 21:40:25,207 : INFO : PROGRESS: at 37.44% examples, 37357 words/s, in_qsize 0, out_qsize 0\n",
      "2017-02-24 21:40:26,241 : INFO : PROGRESS: at 37.54% examples, 37370 words/s, in_qsize 0, out_qsize 0\n",
      "2017-02-24 21:40:27,364 : INFO : PROGRESS: at 37.64% examples, 37376 words/s, in_qsize 0, out_qsize 0\n",
      "2017-02-24 21:40:28,493 : INFO : PROGRESS: at 37.73% examples, 37364 words/s, in_qsize 0, out_qsize 0\n",
      "2017-02-24 21:40:29,654 : INFO : PROGRESS: at 37.82% examples, 37349 words/s, in_qsize 0, out_qsize 0\n",
      "2017-02-24 21:40:30,838 : INFO : PROGRESS: at 37.90% examples, 37334 words/s, in_qsize 0, out_qsize 0\n",
      "2017-02-24 21:40:31,948 : INFO : PROGRESS: at 37.98% examples, 37323 words/s, in_qsize 0, out_qsize 0\n",
      "2017-02-24 21:40:33,101 : INFO : PROGRESS: at 38.07% examples, 37311 words/s, in_qsize 0, out_qsize 0\n",
      "2017-02-24 21:40:34,233 : INFO : PROGRESS: at 38.14% examples, 37283 words/s, in_qsize 0, out_qsize 0\n",
      "2017-02-24 21:40:35,396 : INFO : PROGRESS: at 38.21% examples, 37253 words/s, in_qsize 0, out_qsize 0\n",
      "2017-02-24 21:40:36,438 : INFO : PROGRESS: at 38.28% examples, 37232 words/s, in_qsize 0, out_qsize 0\n",
      "2017-02-24 21:40:37,531 : INFO : PROGRESS: at 38.36% examples, 37224 words/s, in_qsize 0, out_qsize 0\n",
      "2017-02-24 21:40:38,567 : INFO : PROGRESS: at 38.45% examples, 37220 words/s, in_qsize 0, out_qsize 0\n",
      "2017-02-24 21:40:39,597 : INFO : PROGRESS: at 38.53% examples, 37218 words/s, in_qsize 0, out_qsize 0\n",
      "2017-02-24 21:40:40,655 : INFO : PROGRESS: at 38.62% examples, 37213 words/s, in_qsize 0, out_qsize 0\n",
      "2017-02-24 21:40:41,752 : INFO : PROGRESS: at 38.71% examples, 37204 words/s, in_qsize 0, out_qsize 0\n",
      "2017-02-24 21:40:42,871 : INFO : PROGRESS: at 38.77% examples, 37179 words/s, in_qsize 0, out_qsize 0\n",
      "2017-02-24 21:40:44,036 : INFO : PROGRESS: at 38.86% examples, 37165 words/s, in_qsize 0, out_qsize 0\n",
      "2017-02-24 21:40:45,226 : INFO : PROGRESS: at 38.94% examples, 37149 words/s, in_qsize 0, out_qsize 0\n",
      "2017-02-24 21:40:46,237 : INFO : PROGRESS: at 39.01% examples, 37132 words/s, in_qsize 0, out_qsize 0\n",
      "2017-02-24 21:40:47,310 : INFO : PROGRESS: at 39.09% examples, 37125 words/s, in_qsize 0, out_qsize 0\n",
      "2017-02-24 21:40:48,440 : INFO : PROGRESS: at 39.17% examples, 37115 words/s, in_qsize 0, out_qsize 0\n",
      "2017-02-24 21:40:49,532 : INFO : PROGRESS: at 39.25% examples, 37107 words/s, in_qsize 0, out_qsize 0\n",
      "2017-02-24 21:40:50,608 : INFO : PROGRESS: at 39.32% examples, 37085 words/s, in_qsize 0, out_qsize 0\n",
      "2017-02-24 21:40:51,759 : INFO : PROGRESS: at 39.40% examples, 37073 words/s, in_qsize 0, out_qsize 0\n",
      "2017-02-24 21:40:52,816 : INFO : PROGRESS: at 39.47% examples, 37052 words/s, in_qsize 0, out_qsize 0\n",
      "2017-02-24 21:40:54,013 : INFO : PROGRESS: at 39.55% examples, 37037 words/s, in_qsize 0, out_qsize 0\n",
      "2017-02-24 21:40:55,022 : INFO : PROGRESS: at 39.61% examples, 37020 words/s, in_qsize 0, out_qsize 0\n",
      "2017-02-24 21:40:56,046 : INFO : PROGRESS: at 39.68% examples, 37003 words/s, in_qsize 0, out_qsize 0\n",
      "2017-02-24 21:40:57,081 : INFO : PROGRESS: at 39.77% examples, 36999 words/s, in_qsize 0, out_qsize 0\n",
      "2017-02-24 21:40:58,311 : INFO : PROGRESS: at 39.86% examples, 36997 words/s, in_qsize 0, out_qsize 0\n",
      "2017-02-24 21:40:59,361 : INFO : PROGRESS: at 39.95% examples, 36993 words/s, in_qsize 0, out_qsize 0\n",
      "2017-02-24 21:41:00,551 : INFO : PROGRESS: at 40.02% examples, 36963 words/s, in_qsize 0, out_qsize 0\n",
      "2017-02-24 21:41:01,640 : INFO : PROGRESS: at 40.08% examples, 36941 words/s, in_qsize 0, out_qsize 0\n",
      "2017-02-24 21:41:02,811 : INFO : PROGRESS: at 40.18% examples, 36944 words/s, in_qsize 0, out_qsize 0\n",
      "2017-02-24 21:41:03,975 : INFO : PROGRESS: at 40.28% examples, 36946 words/s, in_qsize 0, out_qsize 0\n",
      "2017-02-24 21:41:04,995 : INFO : PROGRESS: at 40.36% examples, 36945 words/s, in_qsize 0, out_qsize 0\n",
      "2017-02-24 21:41:06,105 : INFO : PROGRESS: at 40.45% examples, 36936 words/s, in_qsize 0, out_qsize 0\n",
      "2017-02-24 21:41:07,206 : INFO : PROGRESS: at 40.53% examples, 36929 words/s, in_qsize 0, out_qsize 0\n",
      "2017-02-24 21:41:08,459 : INFO : PROGRESS: at 40.62% examples, 36910 words/s, in_qsize 0, out_qsize 0\n",
      "2017-02-24 21:41:09,538 : INFO : PROGRESS: at 40.70% examples, 36904 words/s, in_qsize 0, out_qsize 0\n",
      "2017-02-24 21:41:10,604 : INFO : PROGRESS: at 40.79% examples, 36899 words/s, in_qsize 0, out_qsize 0\n",
      "2017-02-24 21:41:11,781 : INFO : PROGRESS: at 40.89% examples, 36902 words/s, in_qsize 0, out_qsize 0\n",
      "2017-02-24 21:41:12,784 : INFO : PROGRESS: at 40.96% examples, 36887 words/s, in_qsize 0, out_qsize 0\n",
      "2017-02-24 21:41:13,788 : INFO : PROGRESS: at 41.02% examples, 36871 words/s, in_qsize 0, out_qsize 0\n",
      "2017-02-24 21:41:14,900 : INFO : PROGRESS: at 41.12% examples, 36878 words/s, in_qsize 0, out_qsize 0\n",
      "2017-02-24 21:41:16,124 : INFO : PROGRESS: at 41.21% examples, 36861 words/s, in_qsize 0, out_qsize 0\n",
      "2017-02-24 21:41:17,158 : INFO : PROGRESS: at 41.29% examples, 36859 words/s, in_qsize 0, out_qsize 0\n",
      "2017-02-24 21:41:18,216 : INFO : PROGRESS: at 41.37% examples, 36855 words/s, in_qsize 0, out_qsize 0\n",
      "2017-02-24 21:41:19,355 : INFO : PROGRESS: at 41.46% examples, 36844 words/s, in_qsize 0, out_qsize 0\n",
      "2017-02-24 21:41:20,570 : INFO : PROGRESS: at 41.53% examples, 36814 words/s, in_qsize 0, out_qsize 0\n",
      "2017-02-24 21:41:21,575 : INFO : PROGRESS: at 41.61% examples, 36814 words/s, in_qsize 0, out_qsize 0\n",
      "2017-02-24 21:41:22,770 : INFO : PROGRESS: at 41.71% examples, 36815 words/s, in_qsize 0, out_qsize 0\n",
      "2017-02-24 21:41:24,015 : INFO : PROGRESS: at 41.80% examples, 36797 words/s, in_qsize 0, out_qsize 0\n",
      "2017-02-24 21:41:25,136 : INFO : PROGRESS: at 41.88% examples, 36789 words/s, in_qsize 0, out_qsize 0\n",
      "2017-02-24 21:41:26,241 : INFO : PROGRESS: at 41.94% examples, 36767 words/s, in_qsize 0, out_qsize 0\n",
      "2017-02-24 21:41:27,394 : INFO : PROGRESS: at 42.01% examples, 36742 words/s, in_qsize 0, out_qsize 0\n",
      "2017-02-24 21:41:28,430 : INFO : PROGRESS: at 42.09% examples, 36739 words/s, in_qsize 0, out_qsize 0\n",
      "2017-02-24 21:41:29,460 : INFO : PROGRESS: at 42.16% examples, 36724 words/s, in_qsize 0, out_qsize 0\n",
      "2017-02-24 21:41:30,518 : INFO : PROGRESS: at 42.23% examples, 36705 words/s, in_qsize 0, out_qsize 0\n",
      "2017-02-24 21:41:31,821 : INFO : PROGRESS: at 42.34% examples, 36699 words/s, in_qsize 0, out_qsize 0\n",
      "2017-02-24 21:41:32,933 : INFO : PROGRESS: at 42.42% examples, 36691 words/s, in_qsize 0, out_qsize 0\n",
      "2017-02-24 21:41:33,963 : INFO : PROGRESS: at 42.50% examples, 36689 words/s, in_qsize 0, out_qsize 0\n",
      "2017-02-24 21:41:35,075 : INFO : PROGRESS: at 42.58% examples, 36682 words/s, in_qsize 0, out_qsize 0\n",
      "2017-02-24 21:41:36,171 : INFO : PROGRESS: at 42.66% examples, 36675 words/s, in_qsize 0, out_qsize 0\n",
      "2017-02-24 21:41:37,186 : INFO : PROGRESS: at 42.73% examples, 36662 words/s, in_qsize 0, out_qsize 0\n",
      "2017-02-24 21:41:38,267 : INFO : PROGRESS: at 42.82% examples, 36656 words/s, in_qsize 0, out_qsize 0\n",
      "2017-02-24 21:41:39,377 : INFO : PROGRESS: at 42.92% examples, 36663 words/s, in_qsize 0, out_qsize 0\n",
      "2017-02-24 21:41:40,448 : INFO : PROGRESS: at 43.01% examples, 36673 words/s, in_qsize 0, out_qsize 0\n",
      "2017-02-24 21:41:41,583 : INFO : PROGRESS: at 43.12% examples, 36679 words/s, in_qsize 0, out_qsize 0\n",
      "2017-02-24 21:41:42,688 : INFO : PROGRESS: at 43.20% examples, 36673 words/s, in_qsize 0, out_qsize 0\n",
      "2017-02-24 21:41:43,869 : INFO : PROGRESS: at 43.31% examples, 36674 words/s, in_qsize 0, out_qsize 0\n",
      "2017-02-24 21:41:45,134 : INFO : PROGRESS: at 43.41% examples, 36671 words/s, in_qsize 0, out_qsize 0\n",
      "2017-02-24 21:41:46,230 : INFO : PROGRESS: at 43.49% examples, 36664 words/s, in_qsize 0, out_qsize 0\n",
      "2017-02-24 21:41:47,377 : INFO : PROGRESS: at 43.60% examples, 36669 words/s, in_qsize 0, out_qsize 0\n",
      "2017-02-24 21:41:48,446 : INFO : PROGRESS: at 43.69% examples, 36679 words/s, in_qsize 0, out_qsize 0\n",
      "2017-02-24 21:41:49,546 : INFO : PROGRESS: at 43.79% examples, 36687 words/s, in_qsize 0, out_qsize 0\n",
      "2017-02-24 21:41:50,614 : INFO : PROGRESS: at 43.89% examples, 36696 words/s, in_qsize 0, out_qsize 0\n",
      "2017-02-24 21:41:51,705 : INFO : PROGRESS: at 43.99% examples, 36705 words/s, in_qsize 0, out_qsize 0\n",
      "2017-02-24 21:41:52,733 : INFO : PROGRESS: at 44.07% examples, 36703 words/s, in_qsize 0, out_qsize 0\n",
      "2017-02-24 21:41:53,827 : INFO : PROGRESS: at 44.18% examples, 36711 words/s, in_qsize 0, out_qsize 0\n",
      "2017-02-24 21:41:54,938 : INFO : PROGRESS: at 44.28% examples, 36718 words/s, in_qsize 0, out_qsize 0\n",
      "2017-02-24 21:41:56,027 : INFO : PROGRESS: at 44.38% examples, 36726 words/s, in_qsize 0, out_qsize 0\n",
      "2017-02-24 21:41:57,102 : INFO : PROGRESS: at 44.47% examples, 36735 words/s, in_qsize 0, out_qsize 0\n",
      "2017-02-24 21:41:58,205 : INFO : PROGRESS: at 44.58% examples, 36742 words/s, in_qsize 0, out_qsize 0\n",
      "2017-02-24 21:41:59,254 : INFO : PROGRESS: at 44.67% examples, 36754 words/s, in_qsize 0, out_qsize 0\n",
      "2017-02-24 21:42:00,331 : INFO : PROGRESS: at 44.78% examples, 36763 words/s, in_qsize 0, out_qsize 0\n",
      "2017-02-24 21:42:01,417 : INFO : PROGRESS: at 44.88% examples, 36771 words/s, in_qsize 0, out_qsize 0\n",
      "2017-02-24 21:42:02,495 : INFO : PROGRESS: at 44.98% examples, 36780 words/s, in_qsize 0, out_qsize 0\n",
      "2017-02-24 21:42:03,606 : INFO : PROGRESS: at 45.08% examples, 36787 words/s, in_qsize 0, out_qsize 0\n",
      "2017-02-24 21:42:04,736 : INFO : PROGRESS: at 45.18% examples, 36792 words/s, in_qsize 0, out_qsize 0\n",
      "2017-02-24 21:42:05,843 : INFO : PROGRESS: at 45.29% examples, 36798 words/s, in_qsize 0, out_qsize 0\n",
      "2017-02-24 21:42:06,945 : INFO : PROGRESS: at 45.39% examples, 36806 words/s, in_qsize 0, out_qsize 0\n",
      "2017-02-24 21:42:08,067 : INFO : PROGRESS: at 45.49% examples, 36811 words/s, in_qsize 0, out_qsize 0\n",
      "2017-02-24 21:42:09,158 : INFO : PROGRESS: at 45.59% examples, 36819 words/s, in_qsize 0, out_qsize 0\n",
      "2017-02-24 21:42:10,243 : INFO : PROGRESS: at 45.69% examples, 36828 words/s, in_qsize 0, out_qsize 0\n",
      "2017-02-24 21:42:11,355 : INFO : PROGRESS: at 45.80% examples, 36834 words/s, in_qsize 0, out_qsize 0\n",
      "2017-02-24 21:42:12,380 : INFO : PROGRESS: at 45.88% examples, 36833 words/s, in_qsize 0, out_qsize 0\n",
      "2017-02-24 21:42:13,495 : INFO : PROGRESS: at 45.98% examples, 36839 words/s, in_qsize 0, out_qsize 0\n",
      "2017-02-24 21:42:14,584 : INFO : PROGRESS: at 46.08% examples, 36846 words/s, in_qsize 0, out_qsize 0\n",
      "2017-02-24 21:42:15,649 : INFO : PROGRESS: at 46.18% examples, 36855 words/s, in_qsize 0, out_qsize 0\n",
      "2017-02-24 21:42:16,739 : INFO : PROGRESS: at 46.28% examples, 36863 words/s, in_qsize 0, out_qsize 0\n",
      "2017-02-24 21:42:17,848 : INFO : PROGRESS: at 46.38% examples, 36870 words/s, in_qsize 0, out_qsize 0\n",
      "2017-02-24 21:42:18,959 : INFO : PROGRESS: at 46.48% examples, 36876 words/s, in_qsize 0, out_qsize 0\n",
      "2017-02-24 21:42:20,067 : INFO : PROGRESS: at 46.58% examples, 36882 words/s, in_qsize 0, out_qsize 0\n",
      "2017-02-24 21:42:21,158 : INFO : PROGRESS: at 46.68% examples, 36891 words/s, in_qsize 0, out_qsize 0\n",
      "2017-02-24 21:42:22,239 : INFO : PROGRESS: at 46.78% examples, 36899 words/s, in_qsize 0, out_qsize 0\n",
      "2017-02-24 21:42:23,320 : INFO : PROGRESS: at 46.88% examples, 36906 words/s, in_qsize 0, out_qsize 0\n",
      "2017-02-24 21:42:24,371 : INFO : PROGRESS: at 46.98% examples, 36917 words/s, in_qsize 0, out_qsize 0\n",
      "2017-02-24 21:42:25,426 : INFO : PROGRESS: at 47.08% examples, 36926 words/s, in_qsize 0, out_qsize 0\n",
      "2017-02-24 21:42:26,509 : INFO : PROGRESS: at 47.18% examples, 36934 words/s, in_qsize 0, out_qsize 0\n",
      "2017-02-24 21:42:27,605 : INFO : PROGRESS: at 47.27% examples, 36941 words/s, in_qsize 0, out_qsize 0\n",
      "2017-02-24 21:42:28,655 : INFO : PROGRESS: at 47.37% examples, 36951 words/s, in_qsize 0, out_qsize 0\n",
      "2017-02-24 21:42:29,751 : INFO : PROGRESS: at 47.47% examples, 36958 words/s, in_qsize 0, out_qsize 0\n",
      "2017-02-24 21:42:30,895 : INFO : PROGRESS: at 47.57% examples, 36962 words/s, in_qsize 0, out_qsize 0\n",
      "2017-02-24 21:42:31,897 : INFO : PROGRESS: at 47.64% examples, 36949 words/s, in_qsize 0, out_qsize 0\n",
      "2017-02-24 21:42:32,988 : INFO : PROGRESS: at 47.72% examples, 36944 words/s, in_qsize 0, out_qsize 0\n",
      "2017-02-24 21:42:34,010 : INFO : PROGRESS: at 47.80% examples, 36943 words/s, in_qsize 0, out_qsize 0\n",
      "2017-02-24 21:42:35,226 : INFO : PROGRESS: at 47.89% examples, 36928 words/s, in_qsize 0, out_qsize 0\n",
      "2017-02-24 21:42:36,357 : INFO : PROGRESS: at 47.97% examples, 36920 words/s, in_qsize 0, out_qsize 0\n",
      "2017-02-24 21:42:37,420 : INFO : PROGRESS: at 48.06% examples, 36916 words/s, in_qsize 0, out_qsize 0\n",
      "2017-02-24 21:42:38,647 : INFO : PROGRESS: at 48.16% examples, 36915 words/s, in_qsize 0, out_qsize 0\n",
      "2017-02-24 21:42:39,699 : INFO : PROGRESS: at 48.24% examples, 36912 words/s, in_qsize 0, out_qsize 0\n",
      "2017-02-24 21:42:40,756 : INFO : PROGRESS: at 48.33% examples, 36908 words/s, in_qsize 0, out_qsize 0\n",
      "2017-02-24 21:42:41,964 : INFO : PROGRESS: at 48.43% examples, 36908 words/s, in_qsize 0, out_qsize 0\n",
      "2017-02-24 21:42:43,044 : INFO : PROGRESS: at 48.51% examples, 36904 words/s, in_qsize 0, out_qsize 0\n",
      "2017-02-24 21:42:44,299 : INFO : PROGRESS: at 48.61% examples, 36901 words/s, in_qsize 0, out_qsize 0\n",
      "2017-02-24 21:42:45,409 : INFO : PROGRESS: at 48.70% examples, 36893 words/s, in_qsize 0, out_qsize 0\n",
      "2017-02-24 21:42:46,578 : INFO : PROGRESS: at 48.80% examples, 36895 words/s, in_qsize 0, out_qsize 0\n",
      "2017-02-24 21:42:47,613 : INFO : PROGRESS: at 48.89% examples, 36894 words/s, in_qsize 0, out_qsize 0\n",
      "2017-02-24 21:42:48,660 : INFO : PROGRESS: at 48.97% examples, 36892 words/s, in_qsize 0, out_qsize 0\n",
      "2017-02-24 21:42:49,880 : INFO : PROGRESS: at 49.07% examples, 36890 words/s, in_qsize 0, out_qsize 0\n",
      "2017-02-24 21:42:51,053 : INFO : PROGRESS: at 49.17% examples, 36893 words/s, in_qsize 0, out_qsize 0\n",
      "2017-02-24 21:42:52,155 : INFO : PROGRESS: at 49.26% examples, 36887 words/s, in_qsize 0, out_qsize 0\n",
      "2017-02-24 21:42:53,297 : INFO : PROGRESS: at 49.34% examples, 36878 words/s, in_qsize 0, out_qsize 0\n",
      "2017-02-24 21:42:54,479 : INFO : PROGRESS: at 49.44% examples, 36880 words/s, in_qsize 0, out_qsize 0\n",
      "2017-02-24 21:42:55,548 : INFO : PROGRESS: at 49.53% examples, 36876 words/s, in_qsize 0, out_qsize 0\n",
      "2017-02-24 21:42:56,717 : INFO : PROGRESS: at 49.63% examples, 36878 words/s, in_qsize 0, out_qsize 0\n",
      "2017-02-24 21:42:57,742 : INFO : PROGRESS: at 49.71% examples, 36877 words/s, in_qsize 0, out_qsize 0\n",
      "2017-02-24 21:42:58,848 : INFO : PROGRESS: at 49.81% examples, 36883 words/s, in_qsize 0, out_qsize 0\n",
      "2017-02-24 21:43:00,005 : INFO : PROGRESS: at 49.89% examples, 36874 words/s, in_qsize 0, out_qsize 0\n",
      "2017-02-24 21:43:01,057 : INFO : PROGRESS: at 49.98% examples, 36871 words/s, in_qsize 0, out_qsize 0\n",
      "2017-02-24 21:43:02,194 : INFO : PROGRESS: at 50.08% examples, 36875 words/s, in_qsize 0, out_qsize 0\n",
      "2017-02-24 21:43:03,383 : INFO : PROGRESS: at 50.18% examples, 36876 words/s, in_qsize 0, out_qsize 0\n",
      "2017-02-24 21:43:04,413 : INFO : PROGRESS: at 50.27% examples, 36874 words/s, in_qsize 0, out_qsize 0\n",
      "2017-02-24 21:43:05,459 : INFO : PROGRESS: at 50.35% examples, 36872 words/s, in_qsize 0, out_qsize 0\n",
      "2017-02-24 21:43:06,522 : INFO : PROGRESS: at 50.44% examples, 36868 words/s, in_qsize 0, out_qsize 0\n",
      "2017-02-24 21:43:07,668 : INFO : PROGRESS: at 50.54% examples, 36872 words/s, in_qsize 0, out_qsize 0\n",
      "2017-02-24 21:43:08,736 : INFO : PROGRESS: at 50.64% examples, 36880 words/s, in_qsize 0, out_qsize 0\n",
      "2017-02-24 21:43:09,808 : INFO : PROGRESS: at 50.74% examples, 36888 words/s, in_qsize 0, out_qsize 0\n",
      "2017-02-24 21:43:10,842 : INFO : PROGRESS: at 50.82% examples, 36887 words/s, in_qsize 0, out_qsize 0\n",
      "2017-02-24 21:43:11,966 : INFO : PROGRESS: at 50.91% examples, 36879 words/s, in_qsize 0, out_qsize 0\n",
      "2017-02-24 21:43:13,081 : INFO : PROGRESS: at 50.99% examples, 36873 words/s, in_qsize 0, out_qsize 0\n",
      "2017-02-24 21:43:14,148 : INFO : PROGRESS: at 51.08% examples, 36869 words/s, in_qsize 0, out_qsize 0\n",
      "2017-02-24 21:43:15,226 : INFO : PROGRESS: at 51.14% examples, 36853 words/s, in_qsize 0, out_qsize 0\n",
      "2017-02-24 21:43:16,444 : INFO : PROGRESS: at 51.23% examples, 36840 words/s, in_qsize 0, out_qsize 0\n",
      "2017-02-24 21:43:17,526 : INFO : PROGRESS: at 51.31% examples, 36835 words/s, in_qsize 0, out_qsize 0\n",
      "2017-02-24 21:43:18,612 : INFO : PROGRESS: at 51.41% examples, 36842 words/s, in_qsize 0, out_qsize 0\n",
      "2017-02-24 21:43:19,660 : INFO : PROGRESS: at 51.49% examples, 36840 words/s, in_qsize 0, out_qsize 0\n",
      "2017-02-24 21:43:20,680 : INFO : PROGRESS: at 51.58% examples, 36839 words/s, in_qsize 0, out_qsize 0\n",
      "2017-02-24 21:43:21,778 : INFO : PROGRESS: at 51.66% examples, 36834 words/s, in_qsize 0, out_qsize 0\n",
      "2017-02-24 21:43:22,926 : INFO : PROGRESS: at 51.74% examples, 36825 words/s, in_qsize 0, out_qsize 0\n",
      "2017-02-24 21:43:23,945 : INFO : PROGRESS: at 51.83% examples, 36824 words/s, in_qsize 0, out_qsize 0\n",
      "2017-02-24 21:43:25,026 : INFO : PROGRESS: at 51.90% examples, 36809 words/s, in_qsize 0, out_qsize 0\n",
      "2017-02-24 21:43:26,107 : INFO : PROGRESS: at 51.98% examples, 36805 words/s, in_qsize 0, out_qsize 0\n",
      "2017-02-24 21:43:27,161 : INFO : PROGRESS: at 52.07% examples, 36801 words/s, in_qsize 0, out_qsize 0\n",
      "2017-02-24 21:43:28,255 : INFO : PROGRESS: at 52.15% examples, 36796 words/s, in_qsize 0, out_qsize 0\n",
      "2017-02-24 21:43:29,374 : INFO : PROGRESS: at 52.23% examples, 36789 words/s, in_qsize 0, out_qsize 0\n",
      "2017-02-24 21:43:30,409 : INFO : PROGRESS: at 52.28% examples, 36764 words/s, in_qsize 0, out_qsize 0\n",
      "2017-02-24 21:43:31,461 : INFO : PROGRESS: at 52.35% examples, 36750 words/s, in_qsize 0, out_qsize 0\n",
      "2017-02-24 21:43:32,765 : INFO : PROGRESS: at 52.44% examples, 36733 words/s, in_qsize 0, out_qsize 0\n",
      "2017-02-24 21:43:33,851 : INFO : PROGRESS: at 52.52% examples, 36728 words/s, in_qsize 0, out_qsize 0\n",
      "2017-02-24 21:43:35,041 : INFO : PROGRESS: at 52.61% examples, 36717 words/s, in_qsize 0, out_qsize 0\n",
      "2017-02-24 21:43:36,213 : INFO : PROGRESS: at 52.71% examples, 36720 words/s, in_qsize 0, out_qsize 0\n",
      "2017-02-24 21:43:37,251 : INFO : PROGRESS: at 52.80% examples, 36718 words/s, in_qsize 0, out_qsize 0\n",
      "2017-02-24 21:43:38,393 : INFO : PROGRESS: at 52.90% examples, 36722 words/s, in_qsize 0, out_qsize 0\n",
      "2017-02-24 21:43:39,553 : INFO : PROGRESS: at 52.98% examples, 36714 words/s, in_qsize 0, out_qsize 0\n",
      "2017-02-24 21:43:40,583 : INFO : PROGRESS: at 53.06% examples, 36712 words/s, in_qsize 0, out_qsize 0\n",
      "2017-02-24 21:43:41,592 : INFO : PROGRESS: at 53.15% examples, 36712 words/s, in_qsize 0, out_qsize 0\n",
      "2017-02-24 21:43:42,744 : INFO : PROGRESS: at 53.25% examples, 36716 words/s, in_qsize 0, out_qsize 0\n",
      "2017-02-24 21:43:43,888 : INFO : PROGRESS: at 53.35% examples, 36719 words/s, in_qsize 0, out_qsize 0\n",
      "2017-02-24 21:43:44,926 : INFO : PROGRESS: at 53.43% examples, 36718 words/s, in_qsize 0, out_qsize 0\n",
      "2017-02-24 21:43:45,978 : INFO : PROGRESS: at 53.51% examples, 36716 words/s, in_qsize 0, out_qsize 0\n",
      "2017-02-24 21:43:47,009 : INFO : PROGRESS: at 53.61% examples, 36714 words/s, in_qsize 0, out_qsize 0\n",
      "2017-02-24 21:43:48,151 : INFO : PROGRESS: at 53.70% examples, 36718 words/s, in_qsize 0, out_qsize 0\n",
      "2017-02-24 21:43:49,312 : INFO : PROGRESS: at 53.81% examples, 36721 words/s, in_qsize 0, out_qsize 0\n",
      "2017-02-24 21:43:50,485 : INFO : PROGRESS: at 53.91% examples, 36723 words/s, in_qsize 0, out_qsize 0\n",
      "2017-02-24 21:43:51,501 : INFO : PROGRESS: at 53.99% examples, 36722 words/s, in_qsize 0, out_qsize 0\n",
      "2017-02-24 21:43:52,672 : INFO : PROGRESS: at 54.08% examples, 36713 words/s, in_qsize 0, out_qsize 0\n",
      "2017-02-24 21:43:53,697 : INFO : PROGRESS: at 54.16% examples, 36712 words/s, in_qsize 0, out_qsize 0\n",
      "2017-02-24 21:43:54,854 : INFO : PROGRESS: at 54.25% examples, 36704 words/s, in_qsize 0, out_qsize 0\n",
      "2017-02-24 21:43:55,917 : INFO : PROGRESS: at 54.33% examples, 36701 words/s, in_qsize 0, out_qsize 0\n",
      "2017-02-24 21:43:57,057 : INFO : PROGRESS: at 54.43% examples, 36705 words/s, in_qsize 0, out_qsize 0\n",
      "2017-02-24 21:43:58,068 : INFO : PROGRESS: at 54.52% examples, 36705 words/s, in_qsize 0, out_qsize 0\n",
      "2017-02-24 21:43:59,124 : INFO : PROGRESS: at 54.60% examples, 36702 words/s, in_qsize 0, out_qsize 0\n",
      "2017-02-24 21:44:00,259 : INFO : PROGRESS: at 54.69% examples, 36695 words/s, in_qsize 0, out_qsize 0\n",
      "2017-02-24 21:44:01,316 : INFO : PROGRESS: at 54.77% examples, 36692 words/s, in_qsize 0, out_qsize 0\n",
      "2017-02-24 21:44:02,392 : INFO : PROGRESS: at 54.86% examples, 36688 words/s, in_qsize 0, out_qsize 0\n",
      "2017-02-24 21:44:03,459 : INFO : PROGRESS: at 54.94% examples, 36685 words/s, in_qsize 0, out_qsize 0\n",
      "2017-02-24 21:44:04,727 : INFO : PROGRESS: at 55.02% examples, 36671 words/s, in_qsize 0, out_qsize 0\n",
      "2017-02-24 21:44:05,853 : INFO : PROGRESS: at 55.09% examples, 36653 words/s, in_qsize 0, out_qsize 0\n",
      "2017-02-24 21:44:07,057 : INFO : PROGRESS: at 55.17% examples, 36643 words/s, in_qsize 0, out_qsize 0\n",
      "2017-02-24 21:44:08,106 : INFO : PROGRESS: at 55.26% examples, 36640 words/s, in_qsize 0, out_qsize 0\n",
      "2017-02-24 21:44:09,274 : INFO : PROGRESS: at 55.34% examples, 36632 words/s, in_qsize 0, out_qsize 0\n",
      "2017-02-24 21:44:10,440 : INFO : PROGRESS: at 55.44% examples, 36634 words/s, in_qsize 0, out_qsize 0\n",
      "2017-02-24 21:44:11,593 : INFO : PROGRESS: at 55.54% examples, 36637 words/s, in_qsize 0, out_qsize 0\n",
      "2017-02-24 21:44:12,765 : INFO : PROGRESS: at 55.64% examples, 36640 words/s, in_qsize 0, out_qsize 0\n",
      "2017-02-24 21:44:13,805 : INFO : PROGRESS: at 55.73% examples, 36639 words/s, in_qsize 0, out_qsize 0\n",
      "2017-02-24 21:44:14,914 : INFO : PROGRESS: at 55.82% examples, 36633 words/s, in_qsize 0, out_qsize 0\n",
      "2017-02-24 21:44:16,101 : INFO : PROGRESS: at 55.90% examples, 36624 words/s, in_qsize 0, out_qsize 0\n",
      "2017-02-24 21:44:17,164 : INFO : PROGRESS: at 55.98% examples, 36621 words/s, in_qsize 0, out_qsize 0\n",
      "2017-02-24 21:44:18,166 : INFO : PROGRESS: at 56.05% examples, 36611 words/s, in_qsize 0, out_qsize 0\n",
      "2017-02-24 21:44:19,424 : INFO : PROGRESS: at 56.14% examples, 36597 words/s, in_qsize 0, out_qsize 0\n",
      "2017-02-24 21:44:20,624 : INFO : PROGRESS: at 56.22% examples, 36587 words/s, in_qsize 0, out_qsize 0\n",
      "2017-02-24 21:44:21,814 : INFO : PROGRESS: at 56.30% examples, 36578 words/s, in_qsize 0, out_qsize 0\n",
      "2017-02-24 21:44:22,966 : INFO : PROGRESS: at 56.38% examples, 36570 words/s, in_qsize 0, out_qsize 0\n",
      "2017-02-24 21:44:24,197 : INFO : PROGRESS: at 56.46% examples, 36558 words/s, in_qsize 0, out_qsize 0\n",
      "2017-02-24 21:44:25,324 : INFO : PROGRESS: at 56.55% examples, 36552 words/s, in_qsize 0, out_qsize 0\n",
      "2017-02-24 21:44:26,478 : INFO : PROGRESS: at 56.63% examples, 36545 words/s, in_qsize 0, out_qsize 0\n",
      "2017-02-24 21:44:27,479 : INFO : PROGRESS: at 56.72% examples, 36545 words/s, in_qsize 0, out_qsize 0\n",
      "2017-02-24 21:44:28,569 : INFO : PROGRESS: at 56.82% examples, 36552 words/s, in_qsize 0, out_qsize 0\n",
      "2017-02-24 21:44:29,619 : INFO : PROGRESS: at 56.92% examples, 36560 words/s, in_qsize 0, out_qsize 0\n",
      "2017-02-24 21:44:30,735 : INFO : PROGRESS: at 57.02% examples, 36566 words/s, in_qsize 0, out_qsize 0\n",
      "2017-02-24 21:44:31,775 : INFO : PROGRESS: at 57.10% examples, 36564 words/s, in_qsize 0, out_qsize 0\n",
      "2017-02-24 21:44:32,871 : INFO : PROGRESS: at 57.21% examples, 36571 words/s, in_qsize 0, out_qsize 0\n",
      "2017-02-24 21:44:33,948 : INFO : PROGRESS: at 57.31% examples, 36578 words/s, in_qsize 0, out_qsize 0\n",
      "2017-02-24 21:44:35,072 : INFO : PROGRESS: at 57.41% examples, 36583 words/s, in_qsize 0, out_qsize 0\n",
      "2017-02-24 21:44:36,200 : INFO : PROGRESS: at 57.51% examples, 36587 words/s, in_qsize 0, out_qsize 0\n",
      "2017-02-24 21:44:37,234 : INFO : PROGRESS: at 57.61% examples, 36597 words/s, in_qsize 0, out_qsize 0\n",
      "2017-02-24 21:44:38,401 : INFO : PROGRESS: at 57.71% examples, 36600 words/s, in_qsize 0, out_qsize 0\n",
      "2017-02-24 21:44:39,628 : INFO : PROGRESS: at 57.82% examples, 36599 words/s, in_qsize 0, out_qsize 0\n",
      "2017-02-24 21:44:40,655 : INFO : PROGRESS: at 57.90% examples, 36598 words/s, in_qsize 0, out_qsize 0\n",
      "2017-02-24 21:44:41,807 : INFO : PROGRESS: at 58.00% examples, 36601 words/s, in_qsize 0, out_qsize 0\n",
      "2017-02-24 21:44:43,057 : INFO : PROGRESS: at 58.09% examples, 36589 words/s, in_qsize 0, out_qsize 0\n",
      "2017-02-24 21:44:44,207 : INFO : PROGRESS: at 58.16% examples, 36571 words/s, in_qsize 0, out_qsize 0\n",
      "2017-02-24 21:44:45,367 : INFO : PROGRESS: at 58.24% examples, 36564 words/s, in_qsize 0, out_qsize 0\n",
      "2017-02-24 21:44:46,471 : INFO : PROGRESS: at 58.33% examples, 36559 words/s, in_qsize 0, out_qsize 0\n",
      "2017-02-24 21:44:47,683 : INFO : PROGRESS: at 58.41% examples, 36549 words/s, in_qsize 0, out_qsize 0\n",
      "2017-02-24 21:44:48,853 : INFO : PROGRESS: at 58.50% examples, 36540 words/s, in_qsize 0, out_qsize 0\n",
      "2017-02-24 21:44:50,062 : INFO : PROGRESS: at 58.59% examples, 36530 words/s, in_qsize 0, out_qsize 0\n",
      "2017-02-24 21:44:51,063 : INFO : PROGRESS: at 58.66% examples, 36520 words/s, in_qsize 0, out_qsize 0\n",
      "2017-02-24 21:44:52,070 : INFO : PROGRESS: at 58.73% examples, 36510 words/s, in_qsize 0, out_qsize 0\n",
      "2017-02-24 21:44:53,098 : INFO : PROGRESS: at 58.81% examples, 36510 words/s, in_qsize 0, out_qsize 0\n",
      "2017-02-24 21:44:54,200 : INFO : PROGRESS: at 58.89% examples, 36505 words/s, in_qsize 0, out_qsize 0\n",
      "2017-02-24 21:44:55,388 : INFO : PROGRESS: at 58.99% examples, 36506 words/s, in_qsize 0, out_qsize 0\n",
      "2017-02-24 21:44:56,532 : INFO : PROGRESS: at 59.07% examples, 36499 words/s, in_qsize 0, out_qsize 0\n",
      "2017-02-24 21:44:57,693 : INFO : PROGRESS: at 59.17% examples, 36502 words/s, in_qsize 0, out_qsize 0\n",
      "2017-02-24 21:44:58,738 : INFO : PROGRESS: at 59.25% examples, 36500 words/s, in_qsize 0, out_qsize 0\n",
      "2017-02-24 21:44:59,976 : INFO : PROGRESS: at 59.33% examples, 36489 words/s, in_qsize 0, out_qsize 0\n",
      "2017-02-24 21:45:01,088 : INFO : PROGRESS: at 59.40% examples, 36473 words/s, in_qsize 0, out_qsize 0\n",
      "2017-02-24 21:45:02,277 : INFO : PROGRESS: at 59.49% examples, 36465 words/s, in_qsize 0, out_qsize 0\n",
      "2017-02-24 21:45:03,386 : INFO : PROGRESS: at 59.57% examples, 36460 words/s, in_qsize 0, out_qsize 0\n",
      "2017-02-24 21:45:04,529 : INFO : PROGRESS: at 59.65% examples, 36454 words/s, in_qsize 0, out_qsize 0\n",
      "2017-02-24 21:45:05,602 : INFO : PROGRESS: at 59.73% examples, 36450 words/s, in_qsize 0, out_qsize 0\n",
      "2017-02-24 21:45:06,794 : INFO : PROGRESS: at 59.83% examples, 36452 words/s, in_qsize 0, out_qsize 0\n",
      "2017-02-24 21:45:07,846 : INFO : PROGRESS: at 59.90% examples, 36439 words/s, in_qsize 0, out_qsize 0\n",
      "2017-02-24 21:45:09,003 : INFO : PROGRESS: at 59.97% examples, 36422 words/s, in_qsize 0, out_qsize 0\n",
      "2017-02-24 21:45:10,011 : INFO : PROGRESS: at 60.03% examples, 36412 words/s, in_qsize 0, out_qsize 0\n",
      "2017-02-24 21:45:11,284 : INFO : PROGRESS: at 60.12% examples, 36399 words/s, in_qsize 0, out_qsize 0\n",
      "2017-02-24 21:45:12,367 : INFO : PROGRESS: at 60.18% examples, 36386 words/s, in_qsize 0, out_qsize 0\n",
      "2017-02-24 21:45:13,399 : INFO : PROGRESS: at 60.25% examples, 36375 words/s, in_qsize 0, out_qsize 0\n",
      "2017-02-24 21:45:14,456 : INFO : PROGRESS: at 60.33% examples, 36373 words/s, in_qsize 0, out_qsize 0\n",
      "2017-02-24 21:45:15,492 : INFO : PROGRESS: at 60.41% examples, 36372 words/s, in_qsize 0, out_qsize 0\n",
      "2017-02-24 21:45:16,615 : INFO : PROGRESS: at 60.48% examples, 36357 words/s, in_qsize 0, out_qsize 0\n",
      "2017-02-24 21:45:17,727 : INFO : PROGRESS: at 60.55% examples, 36342 words/s, in_qsize 0, out_qsize 0\n",
      "2017-02-24 21:45:18,863 : INFO : PROGRESS: at 60.63% examples, 36336 words/s, in_qsize 0, out_qsize 0\n",
      "2017-02-24 21:45:19,878 : INFO : PROGRESS: at 60.72% examples, 36336 words/s, in_qsize 0, out_qsize 0\n",
      "2017-02-24 21:45:20,957 : INFO : PROGRESS: at 60.80% examples, 36333 words/s, in_qsize 0, out_qsize 0\n",
      "2017-02-24 21:45:22,052 : INFO : PROGRESS: at 60.89% examples, 36330 words/s, in_qsize 0, out_qsize 0\n",
      "2017-02-24 21:45:23,226 : INFO : PROGRESS: at 60.97% examples, 36322 words/s, in_qsize 0, out_qsize 0\n",
      "2017-02-24 21:45:24,311 : INFO : PROGRESS: at 61.06% examples, 36319 words/s, in_qsize 0, out_qsize 0\n",
      "2017-02-24 21:45:25,414 : INFO : PROGRESS: at 61.16% examples, 36325 words/s, in_qsize 0, out_qsize 0\n",
      "2017-02-24 21:45:26,576 : INFO : PROGRESS: at 61.24% examples, 36318 words/s, in_qsize 0, out_qsize 0\n",
      "2017-02-24 21:45:27,684 : INFO : PROGRESS: at 61.32% examples, 36314 words/s, in_qsize 0, out_qsize 0\n",
      "2017-02-24 21:45:28,827 : INFO : PROGRESS: at 61.41% examples, 36308 words/s, in_qsize 0, out_qsize 0\n",
      "2017-02-24 21:45:30,028 : INFO : PROGRESS: at 61.51% examples, 36309 words/s, in_qsize 0, out_qsize 0\n",
      "2017-02-24 21:45:31,191 : INFO : PROGRESS: at 61.61% examples, 36312 words/s, in_qsize 0, out_qsize 0\n",
      "2017-02-24 21:45:32,369 : INFO : PROGRESS: at 61.69% examples, 36304 words/s, in_qsize 0, out_qsize 0\n",
      "2017-02-24 21:45:33,592 : INFO : PROGRESS: at 61.78% examples, 36294 words/s, in_qsize 0, out_qsize 0\n",
      "2017-02-24 21:45:34,658 : INFO : PROGRESS: at 61.87% examples, 36292 words/s, in_qsize 0, out_qsize 0\n",
      "2017-02-24 21:45:35,744 : INFO : PROGRESS: at 61.96% examples, 36299 words/s, in_qsize 0, out_qsize 0\n",
      "2017-02-24 21:45:36,884 : INFO : PROGRESS: at 62.06% examples, 36302 words/s, in_qsize 0, out_qsize 0\n",
      "2017-02-24 21:45:37,895 : INFO : PROGRESS: at 62.15% examples, 36303 words/s, in_qsize 0, out_qsize 0\n",
      "2017-02-24 21:45:38,956 : INFO : PROGRESS: at 62.23% examples, 36301 words/s, in_qsize 0, out_qsize 0\n",
      "2017-02-24 21:45:40,228 : INFO : PROGRESS: at 62.34% examples, 36299 words/s, in_qsize 0, out_qsize 0\n",
      "2017-02-24 21:45:41,403 : INFO : PROGRESS: at 62.42% examples, 36291 words/s, in_qsize 0, out_qsize 0\n",
      "2017-02-24 21:45:42,477 : INFO : PROGRESS: at 62.50% examples, 36289 words/s, in_qsize 0, out_qsize 0\n",
      "2017-02-24 21:45:43,597 : INFO : PROGRESS: at 62.58% examples, 36284 words/s, in_qsize 0, out_qsize 0\n",
      "2017-02-24 21:45:44,692 : INFO : PROGRESS: at 62.66% examples, 36281 words/s, in_qsize 0, out_qsize 0\n",
      "2017-02-24 21:45:45,715 : INFO : PROGRESS: at 62.75% examples, 36280 words/s, in_qsize 0, out_qsize 0\n",
      "2017-02-24 21:45:46,809 : INFO : PROGRESS: at 62.83% examples, 36277 words/s, in_qsize 0, out_qsize 0\n",
      "2017-02-24 21:45:47,954 : INFO : PROGRESS: at 62.92% examples, 36271 words/s, in_qsize 0, out_qsize 0\n",
      "2017-02-24 21:45:49,058 : INFO : PROGRESS: at 63.00% examples, 36267 words/s, in_qsize 0, out_qsize 0\n",
      "2017-02-24 21:45:50,156 : INFO : PROGRESS: at 63.07% examples, 36254 words/s, in_qsize 0, out_qsize 0\n",
      "2017-02-24 21:45:51,381 : INFO : PROGRESS: at 63.15% examples, 36244 words/s, in_qsize 0, out_qsize 0\n",
      "2017-02-24 21:45:52,437 : INFO : PROGRESS: at 63.24% examples, 36243 words/s, in_qsize 0, out_qsize 0\n",
      "2017-02-24 21:45:53,548 : INFO : PROGRESS: at 63.33% examples, 36239 words/s, in_qsize 0, out_qsize 0\n",
      "2017-02-24 21:45:54,552 : INFO : PROGRESS: at 63.40% examples, 36230 words/s, in_qsize 0, out_qsize 0\n",
      "2017-02-24 21:45:55,558 : INFO : PROGRESS: at 63.46% examples, 36221 words/s, in_qsize 0, out_qsize 0\n",
      "2017-02-24 21:45:56,585 : INFO : PROGRESS: at 63.55% examples, 36221 words/s, in_qsize 0, out_qsize 0\n",
      "2017-02-24 21:45:57,658 : INFO : PROGRESS: at 63.64% examples, 36228 words/s, in_qsize 0, out_qsize 0\n",
      "2017-02-24 21:45:58,839 : INFO : PROGRESS: at 63.74% examples, 36230 words/s, in_qsize 0, out_qsize 0\n",
      "2017-02-24 21:46:00,003 : INFO : PROGRESS: at 63.84% examples, 36232 words/s, in_qsize 0, out_qsize 0\n",
      "2017-02-24 21:46:01,074 : INFO : PROGRESS: at 63.94% examples, 36239 words/s, in_qsize 0, out_qsize 0\n",
      "2017-02-24 21:46:02,241 : INFO : PROGRESS: at 64.04% examples, 36243 words/s, in_qsize 0, out_qsize 0\n",
      "2017-02-24 21:46:03,409 : INFO : PROGRESS: at 64.14% examples, 36245 words/s, in_qsize 0, out_qsize 0\n",
      "2017-02-24 21:46:04,546 : INFO : PROGRESS: at 64.25% examples, 36249 words/s, in_qsize 0, out_qsize 0\n",
      "2017-02-24 21:46:05,728 : INFO : PROGRESS: at 64.35% examples, 36251 words/s, in_qsize 0, out_qsize 0\n",
      "2017-02-24 21:46:06,814 : INFO : PROGRESS: at 64.44% examples, 36258 words/s, in_qsize 0, out_qsize 0\n",
      "2017-02-24 21:46:07,823 : INFO : PROGRESS: at 64.53% examples, 36258 words/s, in_qsize 0, out_qsize 0\n",
      "2017-02-24 21:46:08,995 : INFO : PROGRESS: at 64.62% examples, 36261 words/s, in_qsize 0, out_qsize 0\n",
      "2017-02-24 21:46:10,177 : INFO : PROGRESS: at 64.71% examples, 36254 words/s, in_qsize 0, out_qsize 0\n",
      "2017-02-24 21:46:11,252 : INFO : PROGRESS: at 64.78% examples, 36242 words/s, in_qsize 0, out_qsize 0\n",
      "2017-02-24 21:46:12,266 : INFO : PROGRESS: at 64.85% examples, 36233 words/s, in_qsize 0, out_qsize 0\n",
      "2017-02-24 21:46:13,307 : INFO : PROGRESS: at 64.91% examples, 36223 words/s, in_qsize 0, out_qsize 0\n",
      "2017-02-24 21:46:14,387 : INFO : PROGRESS: at 64.98% examples, 36211 words/s, in_qsize 0, out_qsize 0\n",
      "2017-02-24 21:46:15,517 : INFO : PROGRESS: at 65.07% examples, 36206 words/s, in_qsize 0, out_qsize 0\n",
      "2017-02-24 21:46:16,609 : INFO : PROGRESS: at 65.15% examples, 36202 words/s, in_qsize 0, out_qsize 0\n",
      "2017-02-24 21:46:17,724 : INFO : PROGRESS: at 65.23% examples, 36198 words/s, in_qsize 0, out_qsize 0\n",
      "2017-02-24 21:46:18,884 : INFO : PROGRESS: at 65.30% examples, 36182 words/s, in_qsize 0, out_qsize 0\n",
      "2017-02-24 21:46:20,063 : INFO : PROGRESS: at 65.40% examples, 36185 words/s, in_qsize 0, out_qsize 0\n",
      "2017-02-24 21:46:21,217 : INFO : PROGRESS: at 65.51% examples, 36187 words/s, in_qsize 0, out_qsize 0\n",
      "2017-02-24 21:46:22,333 : INFO : PROGRESS: at 65.61% examples, 36193 words/s, in_qsize 0, out_qsize 0\n",
      "2017-02-24 21:46:23,383 : INFO : PROGRESS: at 65.71% examples, 36201 words/s, in_qsize 0, out_qsize 0\n",
      "2017-02-24 21:46:24,432 : INFO : PROGRESS: at 65.80% examples, 36200 words/s, in_qsize 0, out_qsize 0\n",
      "2017-02-24 21:46:25,435 : INFO : PROGRESS: at 65.88% examples, 36200 words/s, in_qsize 0, out_qsize 0\n",
      "2017-02-24 21:46:26,482 : INFO : PROGRESS: at 65.96% examples, 36199 words/s, in_qsize 0, out_qsize 0\n",
      "2017-02-24 21:46:27,570 : INFO : PROGRESS: at 66.05% examples, 36197 words/s, in_qsize 0, out_qsize 0\n",
      "2017-02-24 21:46:28,764 : INFO : PROGRESS: at 66.14% examples, 36198 words/s, in_qsize 0, out_qsize 0\n",
      "2017-02-24 21:46:29,940 : INFO : PROGRESS: at 66.24% examples, 36201 words/s, in_qsize 0, out_qsize 0\n",
      "2017-02-24 21:46:31,061 : INFO : PROGRESS: at 66.34% examples, 36205 words/s, in_qsize 0, out_qsize 0\n",
      "2017-02-24 21:46:32,171 : INFO : PROGRESS: at 66.45% examples, 36210 words/s, in_qsize 0, out_qsize 0\n",
      "2017-02-24 21:46:33,234 : INFO : PROGRESS: at 66.55% examples, 36217 words/s, in_qsize 0, out_qsize 0\n",
      "2017-02-24 21:46:34,364 : INFO : PROGRESS: at 66.65% examples, 36222 words/s, in_qsize 0, out_qsize 0\n",
      "2017-02-24 21:46:35,437 : INFO : PROGRESS: at 66.75% examples, 36229 words/s, in_qsize 0, out_qsize 0\n",
      "2017-02-24 21:46:36,548 : INFO : PROGRESS: at 66.85% examples, 36234 words/s, in_qsize 0, out_qsize 0\n",
      "2017-02-24 21:46:37,680 : INFO : PROGRESS: at 66.95% examples, 36238 words/s, in_qsize 0, out_qsize 0\n",
      "2017-02-24 21:46:38,719 : INFO : PROGRESS: at 67.01% examples, 36228 words/s, in_qsize 0, out_qsize 0\n",
      "2017-02-24 21:46:39,763 : INFO : PROGRESS: at 67.10% examples, 36228 words/s, in_qsize 0, out_qsize 0\n",
      "2017-02-24 21:46:41,023 : INFO : PROGRESS: at 67.19% examples, 36226 words/s, in_qsize 0, out_qsize 0\n",
      "2017-02-24 21:46:42,108 : INFO : PROGRESS: at 67.26% examples, 36214 words/s, in_qsize 0, out_qsize 0\n",
      "2017-02-24 21:46:43,302 : INFO : PROGRESS: at 67.34% examples, 36207 words/s, in_qsize 0, out_qsize 0\n",
      "2017-02-24 21:46:44,509 : INFO : PROGRESS: at 67.42% examples, 36198 words/s, in_qsize 0, out_qsize 0\n",
      "2017-02-24 21:46:45,631 : INFO : PROGRESS: at 67.51% examples, 36194 words/s, in_qsize 0, out_qsize 0\n",
      "2017-02-24 21:46:46,649 : INFO : PROGRESS: at 67.59% examples, 36195 words/s, in_qsize 0, out_qsize 0\n",
      "2017-02-24 21:46:47,683 : INFO : PROGRESS: at 67.67% examples, 36194 words/s, in_qsize 0, out_qsize 0\n",
      "2017-02-24 21:46:48,704 : INFO : PROGRESS: at 67.75% examples, 36195 words/s, in_qsize 0, out_qsize 0\n",
      "2017-02-24 21:46:49,700 : INFO : PROGRESS: at 67.84% examples, 36195 words/s, in_qsize 0, out_qsize 0\n",
      "2017-02-24 21:46:50,831 : INFO : PROGRESS: at 67.94% examples, 36199 words/s, in_qsize 0, out_qsize 0\n",
      "2017-02-24 21:46:52,010 : INFO : PROGRESS: at 68.02% examples, 36193 words/s, in_qsize 0, out_qsize 0\n",
      "2017-02-24 21:46:53,068 : INFO : PROGRESS: at 68.11% examples, 36191 words/s, in_qsize 0, out_qsize 0\n",
      "2017-02-24 21:46:54,193 : INFO : PROGRESS: at 68.21% examples, 36195 words/s, in_qsize 0, out_qsize 0\n",
      "2017-02-24 21:46:55,318 : INFO : PROGRESS: at 68.31% examples, 36200 words/s, in_qsize 0, out_qsize 0\n",
      "2017-02-24 21:46:56,443 : INFO : PROGRESS: at 68.41% examples, 36205 words/s, in_qsize 0, out_qsize 0\n",
      "2017-02-24 21:46:57,568 : INFO : PROGRESS: at 68.51% examples, 36209 words/s, in_qsize 0, out_qsize 0\n",
      "2017-02-24 21:46:58,663 : INFO : PROGRESS: at 68.61% examples, 36215 words/s, in_qsize 0, out_qsize 0\n",
      "2017-02-24 21:46:59,724 : INFO : PROGRESS: at 68.70% examples, 36213 words/s, in_qsize 0, out_qsize 0\n",
      "2017-02-24 21:47:00,899 : INFO : PROGRESS: at 68.80% examples, 36216 words/s, in_qsize 0, out_qsize 0\n",
      "2017-02-24 21:47:01,994 : INFO : PROGRESS: at 68.90% examples, 36221 words/s, in_qsize 0, out_qsize 0\n",
      "2017-02-24 21:47:03,143 : INFO : PROGRESS: at 69.01% examples, 36225 words/s, in_qsize 0, out_qsize 0\n",
      "2017-02-24 21:47:04,265 : INFO : PROGRESS: at 69.09% examples, 36221 words/s, in_qsize 0, out_qsize 0\n",
      "2017-02-24 21:47:05,487 : INFO : PROGRESS: at 69.17% examples, 36212 words/s, in_qsize 0, out_qsize 0\n",
      "2017-02-24 21:47:06,639 : INFO : PROGRESS: at 69.26% examples, 36207 words/s, in_qsize 0, out_qsize 0\n",
      "2017-02-24 21:47:07,710 : INFO : PROGRESS: at 69.34% examples, 36204 words/s, in_qsize 0, out_qsize 0\n",
      "2017-02-24 21:47:08,903 : INFO : PROGRESS: at 69.43% examples, 36197 words/s, in_qsize 0, out_qsize 0\n",
      "2017-02-24 21:47:10,044 : INFO : PROGRESS: at 69.49% examples, 36183 words/s, in_qsize 0, out_qsize 0\n",
      "2017-02-24 21:47:11,145 : INFO : PROGRESS: at 69.58% examples, 36180 words/s, in_qsize 0, out_qsize 0\n",
      "2017-02-24 21:47:12,269 : INFO : PROGRESS: at 69.66% examples, 36176 words/s, in_qsize 0, out_qsize 0\n",
      "2017-02-24 21:47:13,320 : INFO : PROGRESS: at 69.74% examples, 36175 words/s, in_qsize 0, out_qsize 0\n",
      "2017-02-24 21:47:14,359 : INFO : PROGRESS: at 69.83% examples, 36174 words/s, in_qsize 0, out_qsize 0\n",
      "2017-02-24 21:47:15,386 : INFO : PROGRESS: at 69.91% examples, 36174 words/s, in_qsize 0, out_qsize 0\n",
      "2017-02-24 21:47:16,456 : INFO : PROGRESS: at 70.00% examples, 36172 words/s, in_qsize 0, out_qsize 0\n",
      "2017-02-24 21:47:17,564 : INFO : PROGRESS: at 70.09% examples, 36177 words/s, in_qsize 0, out_qsize 0\n",
      "2017-02-24 21:47:18,709 : INFO : PROGRESS: at 70.20% examples, 36181 words/s, in_qsize 0, out_qsize 0\n",
      "2017-02-24 21:47:19,745 : INFO : PROGRESS: at 70.28% examples, 36180 words/s, in_qsize 0, out_qsize 0\n",
      "2017-02-24 21:47:20,770 : INFO : PROGRESS: at 70.37% examples, 36180 words/s, in_qsize 0, out_qsize 0\n",
      "2017-02-24 21:47:21,814 : INFO : PROGRESS: at 70.44% examples, 36170 words/s, in_qsize 0, out_qsize 0\n",
      "2017-02-24 21:47:22,982 : INFO : PROGRESS: at 70.54% examples, 36172 words/s, in_qsize 0, out_qsize 0\n",
      "2017-02-24 21:47:24,021 : INFO : PROGRESS: at 70.63% examples, 36172 words/s, in_qsize 0, out_qsize 0\n",
      "2017-02-24 21:47:25,107 : INFO : PROGRESS: at 70.72% examples, 36179 words/s, in_qsize 0, out_qsize 0\n",
      "2017-02-24 21:47:26,262 : INFO : PROGRESS: at 70.82% examples, 36182 words/s, in_qsize 0, out_qsize 0\n",
      "2017-02-24 21:47:27,379 : INFO : PROGRESS: at 70.92% examples, 36186 words/s, in_qsize 0, out_qsize 0\n",
      "2017-02-24 21:47:28,522 : INFO : PROGRESS: at 71.03% examples, 36190 words/s, in_qsize 0, out_qsize 0\n",
      "2017-02-24 21:47:29,621 : INFO : PROGRESS: at 71.13% examples, 36196 words/s, in_qsize 0, out_qsize 0\n",
      "2017-02-24 21:47:30,746 : INFO : PROGRESS: at 71.23% examples, 36201 words/s, in_qsize 0, out_qsize 0\n",
      "2017-02-24 21:47:31,864 : INFO : PROGRESS: at 71.33% examples, 36205 words/s, in_qsize 0, out_qsize 0\n",
      "2017-02-24 21:47:32,922 : INFO : PROGRESS: at 71.43% examples, 36212 words/s, in_qsize 0, out_qsize 0\n",
      "2017-02-24 21:47:34,008 : INFO : PROGRESS: at 71.53% examples, 36218 words/s, in_qsize 0, out_qsize 0\n",
      "2017-02-24 21:47:35,087 : INFO : PROGRESS: at 71.62% examples, 36224 words/s, in_qsize 0, out_qsize 0\n",
      "2017-02-24 21:47:36,186 : INFO : PROGRESS: at 71.73% examples, 36230 words/s, in_qsize 0, out_qsize 0\n",
      "2017-02-24 21:47:37,320 : INFO : PROGRESS: at 71.83% examples, 36234 words/s, in_qsize 0, out_qsize 0\n",
      "2017-02-24 21:47:38,330 : INFO : PROGRESS: at 71.92% examples, 36234 words/s, in_qsize 0, out_qsize 0\n",
      "2017-02-24 21:47:39,419 : INFO : PROGRESS: at 72.00% examples, 36231 words/s, in_qsize 0, out_qsize 0\n",
      "2017-02-24 21:47:40,550 : INFO : PROGRESS: at 72.10% examples, 36235 words/s, in_qsize 0, out_qsize 0\n",
      "2017-02-24 21:47:41,594 : INFO : PROGRESS: at 72.18% examples, 36234 words/s, in_qsize 0, out_qsize 0\n",
      "2017-02-24 21:47:42,684 : INFO : PROGRESS: at 72.28% examples, 36240 words/s, in_qsize 0, out_qsize 0\n",
      "2017-02-24 21:47:43,760 : INFO : PROGRESS: at 72.39% examples, 36246 words/s, in_qsize 0, out_qsize 0\n",
      "2017-02-24 21:47:44,833 : INFO : PROGRESS: at 72.49% examples, 36252 words/s, in_qsize 0, out_qsize 0\n",
      "2017-02-24 21:47:45,900 : INFO : PROGRESS: at 72.59% examples, 36258 words/s, in_qsize 0, out_qsize 0\n",
      "2017-02-24 21:47:47,012 : INFO : PROGRESS: at 72.69% examples, 36263 words/s, in_qsize 0, out_qsize 0\n",
      "2017-02-24 21:47:48,122 : INFO : PROGRESS: at 72.80% examples, 36268 words/s, in_qsize 0, out_qsize 0\n",
      "2017-02-24 21:47:49,189 : INFO : PROGRESS: at 72.90% examples, 36274 words/s, in_qsize 0, out_qsize 0\n",
      "2017-02-24 21:47:50,288 : INFO : PROGRESS: at 73.00% examples, 36279 words/s, in_qsize 0, out_qsize 0\n",
      "2017-02-24 21:47:51,402 : INFO : PROGRESS: at 73.10% examples, 36284 words/s, in_qsize 0, out_qsize 0\n",
      "2017-02-24 21:47:52,437 : INFO : PROGRESS: at 73.18% examples, 36283 words/s, in_qsize 0, out_qsize 0\n",
      "2017-02-24 21:47:53,593 : INFO : PROGRESS: at 73.28% examples, 36286 words/s, in_qsize 0, out_qsize 0\n",
      "2017-02-24 21:47:54,698 : INFO : PROGRESS: at 73.38% examples, 36291 words/s, in_qsize 0, out_qsize 0\n",
      "2017-02-24 21:47:55,890 : INFO : PROGRESS: at 73.48% examples, 36293 words/s, in_qsize 0, out_qsize 0\n",
      "2017-02-24 21:47:56,966 : INFO : PROGRESS: at 73.57% examples, 36290 words/s, in_qsize 0, out_qsize 0\n",
      "2017-02-24 21:47:58,107 : INFO : PROGRESS: at 73.67% examples, 36294 words/s, in_qsize 0, out_qsize 0\n",
      "2017-02-24 21:47:59,287 : INFO : PROGRESS: at 73.77% examples, 36295 words/s, in_qsize 0, out_qsize 0\n",
      "2017-02-24 21:48:00,603 : INFO : PROGRESS: at 73.88% examples, 36292 words/s, in_qsize 0, out_qsize 0\n",
      "2017-02-24 21:48:01,617 : INFO : PROGRESS: at 73.96% examples, 36291 words/s, in_qsize 0, out_qsize 0\n",
      "2017-02-24 21:48:02,677 : INFO : PROGRESS: at 74.05% examples, 36290 words/s, in_qsize 0, out_qsize 0\n",
      "2017-02-24 21:48:03,762 : INFO : PROGRESS: at 74.13% examples, 36288 words/s, in_qsize 0, out_qsize 0\n",
      "2017-02-24 21:48:04,829 : INFO : PROGRESS: at 74.22% examples, 36286 words/s, in_qsize 0, out_qsize 0\n",
      "2017-02-24 21:48:05,901 : INFO : PROGRESS: at 74.30% examples, 36284 words/s, in_qsize 0, out_qsize 0\n",
      "2017-02-24 21:48:07,107 : INFO : PROGRESS: at 74.38% examples, 36277 words/s, in_qsize 0, out_qsize 0\n",
      "2017-02-24 21:48:08,120 : INFO : PROGRESS: at 74.46% examples, 36277 words/s, in_qsize 0, out_qsize 0\n",
      "2017-02-24 21:48:09,302 : INFO : PROGRESS: at 74.55% examples, 36270 words/s, in_qsize 0, out_qsize 0\n",
      "2017-02-24 21:48:10,315 : INFO : PROGRESS: at 74.62% examples, 36263 words/s, in_qsize 0, out_qsize 0\n",
      "2017-02-24 21:48:11,441 : INFO : PROGRESS: at 74.70% examples, 36258 words/s, in_qsize 0, out_qsize 0\n",
      "2017-02-24 21:48:12,598 : INFO : PROGRESS: at 74.79% examples, 36253 words/s, in_qsize 0, out_qsize 0\n",
      "2017-02-24 21:48:13,758 : INFO : PROGRESS: at 74.87% examples, 36247 words/s, in_qsize 0, out_qsize 0\n",
      "2017-02-24 21:48:14,883 : INFO : PROGRESS: at 74.96% examples, 36243 words/s, in_qsize 0, out_qsize 0\n",
      "2017-02-24 21:48:15,892 : INFO : PROGRESS: at 75.04% examples, 36243 words/s, in_qsize 0, out_qsize 0\n",
      "2017-02-24 21:48:17,018 : INFO : PROGRESS: at 75.12% examples, 36239 words/s, in_qsize 0, out_qsize 0\n",
      "2017-02-24 21:48:18,074 : INFO : PROGRESS: at 75.19% examples, 36230 words/s, in_qsize 0, out_qsize 0\n",
      "2017-02-24 21:48:19,171 : INFO : PROGRESS: at 75.27% examples, 36227 words/s, in_qsize 0, out_qsize 0\n",
      "2017-02-24 21:48:20,360 : INFO : PROGRESS: at 75.38% examples, 36228 words/s, in_qsize 0, out_qsize 0\n",
      "2017-02-24 21:48:21,430 : INFO : PROGRESS: at 75.47% examples, 36235 words/s, in_qsize 0, out_qsize 0\n",
      "2017-02-24 21:48:22,580 : INFO : PROGRESS: at 75.58% examples, 36238 words/s, in_qsize 0, out_qsize 0\n",
      "2017-02-24 21:48:23,780 : INFO : PROGRESS: at 75.68% examples, 36239 words/s, in_qsize 0, out_qsize 0\n",
      "2017-02-24 21:48:24,932 : INFO : PROGRESS: at 75.78% examples, 36242 words/s, in_qsize 0, out_qsize 0\n",
      "2017-02-24 21:48:26,062 : INFO : PROGRESS: at 75.88% examples, 36246 words/s, in_qsize 0, out_qsize 0\n",
      "2017-02-24 21:48:27,188 : INFO : PROGRESS: at 75.98% examples, 36250 words/s, in_qsize 0, out_qsize 0\n",
      "2017-02-24 21:48:28,287 : INFO : PROGRESS: at 76.08% examples, 36254 words/s, in_qsize 0, out_qsize 0\n",
      "2017-02-24 21:48:29,375 : INFO : PROGRESS: at 76.19% examples, 36260 words/s, in_qsize 0, out_qsize 0\n",
      "2017-02-24 21:48:30,466 : INFO : PROGRESS: at 76.29% examples, 36265 words/s, in_qsize 0, out_qsize 0\n",
      "2017-02-24 21:48:31,548 : INFO : PROGRESS: at 76.38% examples, 36271 words/s, in_qsize 0, out_qsize 0\n",
      "2017-02-24 21:48:32,649 : INFO : PROGRESS: at 76.48% examples, 36276 words/s, in_qsize 0, out_qsize 0\n",
      "2017-02-24 21:48:33,758 : INFO : PROGRESS: at 76.58% examples, 36280 words/s, in_qsize 0, out_qsize 0\n",
      "2017-02-24 21:48:34,851 : INFO : PROGRESS: at 76.69% examples, 36285 words/s, in_qsize 0, out_qsize 0\n",
      "2017-02-24 21:48:35,950 : INFO : PROGRESS: at 76.79% examples, 36290 words/s, in_qsize 0, out_qsize 0\n",
      "2017-02-24 21:48:37,020 : INFO : PROGRESS: at 76.88% examples, 36296 words/s, in_qsize 0, out_qsize 0\n",
      "2017-02-24 21:48:38,104 : INFO : PROGRESS: at 76.99% examples, 36301 words/s, in_qsize 0, out_qsize 0\n",
      "2017-02-24 21:48:39,221 : INFO : PROGRESS: at 77.09% examples, 36305 words/s, in_qsize 0, out_qsize 0\n",
      "2017-02-24 21:48:40,317 : INFO : PROGRESS: at 77.19% examples, 36311 words/s, in_qsize 0, out_qsize 0\n",
      "2017-02-24 21:48:41,411 : INFO : PROGRESS: at 77.29% examples, 36316 words/s, in_qsize 0, out_qsize 0\n",
      "2017-02-24 21:48:42,596 : INFO : PROGRESS: at 77.39% examples, 36317 words/s, in_qsize 0, out_qsize 0\n",
      "2017-02-24 21:48:43,854 : INFO : PROGRESS: at 77.44% examples, 36292 words/s, in_qsize 0, out_qsize 0\n",
      "2017-02-24 21:48:44,929 : INFO : PROGRESS: at 77.52% examples, 36290 words/s, in_qsize 0, out_qsize 0\n",
      "2017-02-24 21:48:46,224 : INFO : PROGRESS: at 77.61% examples, 36279 words/s, in_qsize 0, out_qsize 0\n",
      "2017-02-24 21:48:47,302 : INFO : PROGRESS: at 77.70% examples, 36278 words/s, in_qsize 0, out_qsize 0\n",
      "2017-02-24 21:48:48,580 : INFO : PROGRESS: at 77.78% examples, 36268 words/s, in_qsize 0, out_qsize 0\n",
      "2017-02-24 21:48:49,868 : INFO : PROGRESS: at 77.85% examples, 36250 words/s, in_qsize 0, out_qsize 0\n",
      "2017-02-24 21:48:50,938 : INFO : PROGRESS: at 77.92% examples, 36240 words/s, in_qsize 0, out_qsize 0\n",
      "2017-02-24 21:48:52,100 : INFO : PROGRESS: at 78.00% examples, 36235 words/s, in_qsize 0, out_qsize 0\n",
      "2017-02-24 21:48:53,131 : INFO : PROGRESS: at 78.09% examples, 36234 words/s, in_qsize 0, out_qsize 0\n",
      "2017-02-24 21:48:54,255 : INFO : PROGRESS: at 78.19% examples, 36239 words/s, in_qsize 0, out_qsize 0\n",
      "2017-02-24 21:48:55,380 : INFO : PROGRESS: at 78.28% examples, 36235 words/s, in_qsize 0, out_qsize 0\n",
      "2017-02-24 21:48:56,500 : INFO : PROGRESS: at 78.38% examples, 36238 words/s, in_qsize 0, out_qsize 0\n",
      "2017-02-24 21:48:57,637 : INFO : PROGRESS: at 78.48% examples, 36242 words/s, in_qsize 0, out_qsize 0\n",
      "2017-02-24 21:48:58,759 : INFO : PROGRESS: at 78.59% examples, 36246 words/s, in_qsize 0, out_qsize 0\n",
      "2017-02-24 21:48:59,839 : INFO : PROGRESS: at 78.68% examples, 36243 words/s, in_qsize 0, out_qsize 0\n",
      "2017-02-24 21:49:00,901 : INFO : PROGRESS: at 78.76% examples, 36242 words/s, in_qsize 0, out_qsize 0\n",
      "2017-02-24 21:49:01,944 : INFO : PROGRESS: at 78.84% examples, 36241 words/s, in_qsize 0, out_qsize 0\n",
      "2017-02-24 21:49:03,172 : INFO : PROGRESS: at 78.94% examples, 36241 words/s, in_qsize 0, out_qsize 0\n",
      "2017-02-24 21:49:04,222 : INFO : PROGRESS: at 79.02% examples, 36240 words/s, in_qsize 0, out_qsize 0\n",
      "2017-02-24 21:49:05,349 : INFO : PROGRESS: at 79.12% examples, 36243 words/s, in_qsize 0, out_qsize 0\n",
      "2017-02-24 21:49:06,414 : INFO : PROGRESS: at 79.19% examples, 36234 words/s, in_qsize 0, out_qsize 0\n",
      "2017-02-24 21:49:07,580 : INFO : PROGRESS: at 79.28% examples, 36236 words/s, in_qsize 0, out_qsize 0\n",
      "2017-02-24 21:49:08,725 : INFO : PROGRESS: at 79.38% examples, 36239 words/s, in_qsize 0, out_qsize 0\n",
      "2017-02-24 21:49:09,875 : INFO : PROGRESS: at 79.47% examples, 36235 words/s, in_qsize 0, out_qsize 0\n",
      "2017-02-24 21:49:10,990 : INFO : PROGRESS: at 79.55% examples, 36231 words/s, in_qsize 0, out_qsize 0\n",
      "2017-02-24 21:49:12,099 : INFO : PROGRESS: at 79.63% examples, 36227 words/s, in_qsize 0, out_qsize 0\n",
      "2017-02-24 21:49:13,268 : INFO : PROGRESS: at 79.72% examples, 36222 words/s, in_qsize 0, out_qsize 0\n",
      "2017-02-24 21:49:14,439 : INFO : PROGRESS: at 79.80% examples, 36217 words/s, in_qsize 0, out_qsize 0\n",
      "2017-02-24 21:49:15,560 : INFO : PROGRESS: at 79.86% examples, 36205 words/s, in_qsize 0, out_qsize 0\n",
      "2017-02-24 21:49:16,758 : INFO : PROGRESS: at 79.95% examples, 36198 words/s, in_qsize 0, out_qsize 0\n",
      "2017-02-24 21:49:17,916 : INFO : PROGRESS: at 80.03% examples, 36193 words/s, in_qsize 0, out_qsize 0\n",
      "2017-02-24 21:49:19,066 : INFO : PROGRESS: at 80.12% examples, 36189 words/s, in_qsize 0, out_qsize 0\n",
      "2017-02-24 21:49:20,165 : INFO : PROGRESS: at 80.20% examples, 36186 words/s, in_qsize 0, out_qsize 0\n",
      "2017-02-24 21:49:21,268 : INFO : PROGRESS: at 80.28% examples, 36183 words/s, in_qsize 0, out_qsize 0\n",
      "2017-02-24 21:49:22,359 : INFO : PROGRESS: at 80.36% examples, 36180 words/s, in_qsize 0, out_qsize 0\n",
      "2017-02-24 21:49:23,513 : INFO : PROGRESS: at 80.45% examples, 36175 words/s, in_qsize 0, out_qsize 0\n",
      "2017-02-24 21:49:24,547 : INFO : PROGRESS: at 80.53% examples, 36175 words/s, in_qsize 0, out_qsize 0\n",
      "2017-02-24 21:49:25,605 : INFO : PROGRESS: at 80.62% examples, 36173 words/s, in_qsize 0, out_qsize 0\n",
      "2017-02-24 21:49:26,699 : INFO : PROGRESS: at 80.70% examples, 36171 words/s, in_qsize 0, out_qsize 0\n",
      "2017-02-24 21:49:27,811 : INFO : PROGRESS: at 80.79% examples, 36168 words/s, in_qsize 0, out_qsize 0\n",
      "2017-02-24 21:49:28,833 : INFO : PROGRESS: at 80.87% examples, 36168 words/s, in_qsize 0, out_qsize 0\n",
      "2017-02-24 21:49:29,979 : INFO : PROGRESS: at 80.96% examples, 36164 words/s, in_qsize 0, out_qsize 0\n",
      "2017-02-24 21:49:31,153 : INFO : PROGRESS: at 81.06% examples, 36166 words/s, in_qsize 0, out_qsize 0\n",
      "2017-02-24 21:49:32,237 : INFO : PROGRESS: at 81.14% examples, 36163 words/s, in_qsize 0, out_qsize 0\n",
      "2017-02-24 21:49:33,540 : INFO : PROGRESS: at 81.22% examples, 36153 words/s, in_qsize 0, out_qsize 0\n",
      "2017-02-24 21:49:34,886 : INFO : PROGRESS: at 81.31% examples, 36141 words/s, in_qsize 0, out_qsize 0\n",
      "2017-02-24 21:49:36,323 : INFO : PROGRESS: at 81.36% examples, 36111 words/s, in_qsize 0, out_qsize 0\n",
      "2017-02-24 21:49:37,657 : INFO : PROGRESS: at 81.41% examples, 36085 words/s, in_qsize 0, out_qsize 0\n",
      "2017-02-24 21:49:38,737 : INFO : PROGRESS: at 81.44% examples, 36061 words/s, in_qsize 0, out_qsize 0\n",
      "2017-02-24 21:49:39,970 : INFO : PROGRESS: at 81.51% examples, 36046 words/s, in_qsize 0, out_qsize 0\n",
      "2017-02-24 21:49:41,072 : INFO : PROGRESS: at 81.59% examples, 36044 words/s, in_qsize 0, out_qsize 0\n",
      "2017-02-24 21:49:42,082 : INFO : PROGRESS: at 81.66% examples, 36037 words/s, in_qsize 0, out_qsize 0\n",
      "2017-02-24 21:49:43,093 : INFO : PROGRESS: at 81.75% examples, 36037 words/s, in_qsize 0, out_qsize 0\n",
      "2017-02-24 21:49:44,261 : INFO : PROGRESS: at 81.83% examples, 36033 words/s, in_qsize 0, out_qsize 0\n",
      "2017-02-24 21:49:45,303 : INFO : PROGRESS: at 81.91% examples, 36031 words/s, in_qsize 0, out_qsize 0\n",
      "2017-02-24 21:49:46,347 : INFO : PROGRESS: at 81.98% examples, 36024 words/s, in_qsize 0, out_qsize 0\n",
      "2017-02-24 21:49:47,479 : INFO : PROGRESS: at 82.05% examples, 36013 words/s, in_qsize 0, out_qsize 0\n",
      "2017-02-24 21:49:48,608 : INFO : PROGRESS: at 82.09% examples, 35994 words/s, in_qsize 0, out_qsize 0\n",
      "2017-02-24 21:49:49,903 : INFO : PROGRESS: at 82.15% examples, 35970 words/s, in_qsize 0, out_qsize 0\n",
      "2017-02-24 21:49:51,053 : INFO : PROGRESS: at 82.23% examples, 35966 words/s, in_qsize 0, out_qsize 0\n",
      "2017-02-24 21:49:52,066 : INFO : PROGRESS: at 82.32% examples, 35967 words/s, in_qsize 0, out_qsize 0\n",
      "2017-02-24 21:49:53,264 : INFO : PROGRESS: at 82.40% examples, 35961 words/s, in_qsize 0, out_qsize 0\n",
      "2017-02-24 21:49:54,315 : INFO : PROGRESS: at 82.48% examples, 35960 words/s, in_qsize 0, out_qsize 0\n",
      "2017-02-24 21:49:55,398 : INFO : PROGRESS: at 82.56% examples, 35958 words/s, in_qsize 0, out_qsize 0\n",
      "2017-02-24 21:49:56,512 : INFO : PROGRESS: at 82.65% examples, 35955 words/s, in_qsize 0, out_qsize 0\n",
      "2017-02-24 21:49:57,626 : INFO : PROGRESS: at 82.73% examples, 35951 words/s, in_qsize 0, out_qsize 0\n",
      "2017-02-24 21:49:59,058 : INFO : PROGRESS: at 82.78% examples, 35923 words/s, in_qsize 0, out_qsize 0\n",
      "2017-02-24 21:50:00,357 : INFO : PROGRESS: at 82.83% examples, 35899 words/s, in_qsize 0, out_qsize 0\n",
      "2017-02-24 21:50:01,596 : INFO : PROGRESS: at 82.90% examples, 35884 words/s, in_qsize 0, out_qsize 0\n",
      "2017-02-24 21:50:02,643 : INFO : PROGRESS: at 82.98% examples, 35884 words/s, in_qsize 0, out_qsize 0\n",
      "2017-02-24 21:50:03,754 : INFO : PROGRESS: at 83.07% examples, 35881 words/s, in_qsize 0, out_qsize 0\n",
      "2017-02-24 21:50:04,980 : INFO : PROGRESS: at 83.14% examples, 35867 words/s, in_qsize 0, out_qsize 0\n",
      "2017-02-24 21:50:05,996 : INFO : PROGRESS: at 83.20% examples, 35860 words/s, in_qsize 0, out_qsize 0\n",
      "2017-02-24 21:50:07,076 : INFO : PROGRESS: at 83.27% examples, 35851 words/s, in_qsize 0, out_qsize 0\n",
      "2017-02-24 21:50:08,179 : INFO : PROGRESS: at 83.36% examples, 35849 words/s, in_qsize 0, out_qsize 0\n",
      "2017-02-24 21:50:09,182 : INFO : PROGRESS: at 83.44% examples, 35850 words/s, in_qsize 0, out_qsize 0\n",
      "2017-02-24 21:50:10,205 : INFO : PROGRESS: at 83.53% examples, 35850 words/s, in_qsize 0, out_qsize 0\n",
      "2017-02-24 21:50:11,366 : INFO : PROGRESS: at 83.63% examples, 35853 words/s, in_qsize 0, out_qsize 0\n",
      "2017-02-24 21:50:12,413 : INFO : PROGRESS: at 83.71% examples, 35852 words/s, in_qsize 0, out_qsize 0\n",
      "2017-02-24 21:50:13,425 : INFO : PROGRESS: at 83.79% examples, 35853 words/s, in_qsize 0, out_qsize 0\n",
      "2017-02-24 21:50:14,466 : INFO : PROGRESS: at 83.88% examples, 35852 words/s, in_qsize 0, out_qsize 0\n",
      "2017-02-24 21:50:15,537 : INFO : PROGRESS: at 83.96% examples, 35851 words/s, in_qsize 0, out_qsize 0\n",
      "2017-02-24 21:50:16,557 : INFO : PROGRESS: at 84.04% examples, 35851 words/s, in_qsize 0, out_qsize 0\n",
      "2017-02-24 21:50:17,702 : INFO : PROGRESS: at 84.14% examples, 35854 words/s, in_qsize 0, out_qsize 0\n",
      "2017-02-24 21:50:18,868 : INFO : PROGRESS: at 84.21% examples, 35843 words/s, in_qsize 0, out_qsize 0\n",
      "2017-02-24 21:50:20,236 : INFO : PROGRESS: at 84.30% examples, 35831 words/s, in_qsize 0, out_qsize 0\n",
      "2017-02-24 21:50:21,442 : INFO : PROGRESS: at 84.38% examples, 35825 words/s, in_qsize 0, out_qsize 0\n",
      "2017-02-24 21:50:22,458 : INFO : PROGRESS: at 84.44% examples, 35819 words/s, in_qsize 0, out_qsize 0\n",
      "2017-02-24 21:50:23,461 : INFO : PROGRESS: at 84.51% examples, 35813 words/s, in_qsize 0, out_qsize 0\n",
      "2017-02-24 21:50:24,788 : INFO : PROGRESS: at 84.58% examples, 35796 words/s, in_qsize 0, out_qsize 0\n",
      "2017-02-24 21:50:25,944 : INFO : PROGRESS: at 84.64% examples, 35785 words/s, in_qsize 0, out_qsize 0\n",
      "2017-02-24 21:50:27,138 : INFO : PROGRESS: at 84.71% examples, 35772 words/s, in_qsize 0, out_qsize 0\n",
      "2017-02-24 21:50:28,839 : INFO : PROGRESS: at 84.76% examples, 35735 words/s, in_qsize 0, out_qsize 0\n",
      "2017-02-24 21:50:30,184 : INFO : PROGRESS: at 84.81% examples, 35711 words/s, in_qsize 0, out_qsize 0\n",
      "2017-02-24 21:50:31,299 : INFO : PROGRESS: at 84.88% examples, 35701 words/s, in_qsize 0, out_qsize 0\n",
      "2017-02-24 21:50:32,297 : INFO : PROGRESS: at 84.96% examples, 35702 words/s, in_qsize 0, out_qsize 0\n",
      "2017-02-24 21:50:33,443 : INFO : PROGRESS: at 85.05% examples, 35698 words/s, in_qsize 0, out_qsize 0\n",
      "2017-02-24 21:50:34,544 : INFO : PROGRESS: at 85.12% examples, 35689 words/s, in_qsize 0, out_qsize 0\n",
      "2017-02-24 21:50:35,606 : INFO : PROGRESS: at 85.18% examples, 35681 words/s, in_qsize 0, out_qsize 0\n",
      "2017-02-24 21:50:36,745 : INFO : PROGRESS: at 85.25% examples, 35671 words/s, in_qsize 0, out_qsize 0\n",
      "2017-02-24 21:50:37,908 : INFO : PROGRESS: at 85.32% examples, 35660 words/s, in_qsize 0, out_qsize 0\n",
      "2017-02-24 21:50:38,912 : INFO : PROGRESS: at 85.39% examples, 35654 words/s, in_qsize 0, out_qsize 0\n",
      "2017-02-24 21:50:40,201 : INFO : PROGRESS: at 85.46% examples, 35638 words/s, in_qsize 0, out_qsize 0\n",
      "2017-02-24 21:50:41,216 : INFO : PROGRESS: at 85.52% examples, 35632 words/s, in_qsize 0, out_qsize 0\n",
      "2017-02-24 21:50:42,247 : INFO : PROGRESS: at 85.59% examples, 35625 words/s, in_qsize 0, out_qsize 0\n",
      "2017-02-24 21:50:43,385 : INFO : PROGRESS: at 85.66% examples, 35615 words/s, in_qsize 0, out_qsize 0\n",
      "2017-02-24 21:50:44,704 : INFO : PROGRESS: at 85.73% examples, 35598 words/s, in_qsize 0, out_qsize 0\n",
      "2017-02-24 21:50:45,755 : INFO : PROGRESS: at 85.80% examples, 35591 words/s, in_qsize 0, out_qsize 0\n",
      "2017-02-24 21:50:46,855 : INFO : PROGRESS: at 85.88% examples, 35589 words/s, in_qsize 0, out_qsize 0\n",
      "2017-02-24 21:50:47,963 : INFO : PROGRESS: at 85.96% examples, 35586 words/s, in_qsize 0, out_qsize 0\n",
      "2017-02-24 21:50:49,031 : INFO : PROGRESS: at 86.05% examples, 35586 words/s, in_qsize 0, out_qsize 0\n",
      "2017-02-24 21:50:50,113 : INFO : PROGRESS: at 86.13% examples, 35584 words/s, in_qsize 0, out_qsize 0\n",
      "2017-02-24 21:50:51,116 : INFO : PROGRESS: at 86.21% examples, 35585 words/s, in_qsize 0, out_qsize 0\n",
      "2017-02-24 21:50:52,305 : INFO : PROGRESS: at 86.31% examples, 35587 words/s, in_qsize 0, out_qsize 0\n",
      "2017-02-24 21:50:53,457 : INFO : PROGRESS: at 86.39% examples, 35584 words/s, in_qsize 0, out_qsize 0\n",
      "2017-02-24 21:50:54,467 : INFO : PROGRESS: at 86.48% examples, 35585 words/s, in_qsize 0, out_qsize 0\n",
      "2017-02-24 21:50:55,621 : INFO : PROGRESS: at 86.56% examples, 35581 words/s, in_qsize 0, out_qsize 0\n",
      "2017-02-24 21:50:56,674 : INFO : PROGRESS: at 86.65% examples, 35581 words/s, in_qsize 0, out_qsize 0\n",
      "2017-02-24 21:50:57,886 : INFO : PROGRESS: at 86.73% examples, 35575 words/s, in_qsize 0, out_qsize 0\n",
      "2017-02-24 21:50:59,082 : INFO : PROGRESS: at 86.80% examples, 35563 words/s, in_qsize 0, out_qsize 0\n",
      "2017-02-24 21:51:00,280 : INFO : PROGRESS: at 86.86% examples, 35551 words/s, in_qsize 0, out_qsize 0\n",
      "2017-02-24 21:51:01,510 : INFO : PROGRESS: at 86.95% examples, 35545 words/s, in_qsize 0, out_qsize 0\n",
      "2017-02-24 21:51:02,540 : INFO : PROGRESS: at 87.03% examples, 35545 words/s, in_qsize 0, out_qsize 0\n",
      "2017-02-24 21:51:03,783 : INFO : PROGRESS: at 87.11% examples, 35538 words/s, in_qsize 0, out_qsize 0\n",
      "2017-02-24 21:51:04,891 : INFO : PROGRESS: at 87.19% examples, 35536 words/s, in_qsize 0, out_qsize 0\n",
      "2017-02-24 21:51:05,963 : INFO : PROGRESS: at 87.27% examples, 35535 words/s, in_qsize 0, out_qsize 0\n",
      "2017-02-24 21:51:07,045 : INFO : PROGRESS: at 87.36% examples, 35534 words/s, in_qsize 0, out_qsize 0\n",
      "2017-02-24 21:51:08,050 : INFO : PROGRESS: at 87.44% examples, 35535 words/s, in_qsize 0, out_qsize 0\n",
      "2017-02-24 21:51:09,108 : INFO : PROGRESS: at 87.52% examples, 35534 words/s, in_qsize 0, out_qsize 0\n",
      "2017-02-24 21:51:10,182 : INFO : PROGRESS: at 87.59% examples, 35527 words/s, in_qsize 0, out_qsize 0\n",
      "2017-02-24 21:51:11,217 : INFO : PROGRESS: at 87.67% examples, 35526 words/s, in_qsize 0, out_qsize 0\n",
      "2017-02-24 21:51:12,312 : INFO : PROGRESS: at 87.75% examples, 35525 words/s, in_qsize 0, out_qsize 0\n",
      "2017-02-24 21:51:13,457 : INFO : PROGRESS: at 87.80% examples, 35508 words/s, in_qsize 0, out_qsize 0\n",
      "2017-02-24 21:51:14,517 : INFO : PROGRESS: at 87.87% examples, 35501 words/s, in_qsize 0, out_qsize 0\n",
      "2017-02-24 21:51:15,625 : INFO : PROGRESS: at 87.90% examples, 35479 words/s, in_qsize 0, out_qsize 0\n",
      "2017-02-24 21:51:16,871 : INFO : PROGRESS: at 87.96% examples, 35458 words/s, in_qsize 0, out_qsize 0\n",
      "2017-02-24 21:51:17,876 : INFO : PROGRESS: at 88.01% examples, 35446 words/s, in_qsize 0, out_qsize 0\n",
      "2017-02-24 21:51:18,940 : INFO : PROGRESS: at 88.08% examples, 35439 words/s, in_qsize 0, out_qsize 0\n",
      "2017-02-24 21:51:20,487 : INFO : PROGRESS: at 88.14% examples, 35416 words/s, in_qsize 0, out_qsize 0\n",
      "2017-02-24 21:51:21,590 : INFO : PROGRESS: at 88.21% examples, 35407 words/s, in_qsize 0, out_qsize 0\n",
      "2017-02-24 21:51:22,613 : INFO : PROGRESS: at 88.29% examples, 35408 words/s, in_qsize 0, out_qsize 0\n",
      "2017-02-24 21:51:23,664 : INFO : PROGRESS: at 88.38% examples, 35408 words/s, in_qsize 0, out_qsize 0\n",
      "2017-02-24 21:51:26,342 : INFO : PROGRESS: at 88.45% examples, 35349 words/s, in_qsize 0, out_qsize 0\n",
      "2017-02-24 21:51:27,444 : INFO : PROGRESS: at 88.53% examples, 35347 words/s, in_qsize 0, out_qsize 0\n",
      "2017-02-24 21:51:28,635 : INFO : PROGRESS: at 88.63% examples, 35349 words/s, in_qsize 0, out_qsize 0\n",
      "2017-02-24 21:51:29,672 : INFO : PROGRESS: at 88.72% examples, 35350 words/s, in_qsize 0, out_qsize 0\n",
      "2017-02-24 21:51:30,682 : INFO : PROGRESS: at 88.80% examples, 35351 words/s, in_qsize 0, out_qsize 0\n",
      "2017-02-24 21:51:31,836 : INFO : PROGRESS: at 88.90% examples, 35354 words/s, in_qsize 0, out_qsize 0\n",
      "2017-02-24 21:51:32,861 : INFO : PROGRESS: at 88.99% examples, 35355 words/s, in_qsize 0, out_qsize 0\n",
      "2017-02-24 21:51:34,019 : INFO : PROGRESS: at 89.09% examples, 35358 words/s, in_qsize 0, out_qsize 0\n",
      "2017-02-24 21:51:35,067 : INFO : PROGRESS: at 89.17% examples, 35358 words/s, in_qsize 0, out_qsize 0\n",
      "2017-02-24 21:51:36,212 : INFO : PROGRESS: at 89.26% examples, 35355 words/s, in_qsize 0, out_qsize 0\n",
      "2017-02-24 21:51:37,273 : INFO : PROGRESS: at 89.34% examples, 35355 words/s, in_qsize 0, out_qsize 0\n",
      "2017-02-24 21:51:38,389 : INFO : PROGRESS: at 89.43% examples, 35352 words/s, in_qsize 0, out_qsize 0\n",
      "2017-02-24 21:51:39,488 : INFO : PROGRESS: at 89.51% examples, 35351 words/s, in_qsize 0, out_qsize 0\n",
      "2017-02-24 21:51:40,527 : INFO : PROGRESS: at 89.60% examples, 35351 words/s, in_qsize 0, out_qsize 0\n",
      "2017-02-24 21:51:41,570 : INFO : PROGRESS: at 89.68% examples, 35351 words/s, in_qsize 0, out_qsize 0\n",
      "2017-02-24 21:51:42,779 : INFO : PROGRESS: at 89.78% examples, 35353 words/s, in_qsize 0, out_qsize 0\n",
      "2017-02-24 21:51:43,824 : INFO : PROGRESS: at 89.86% examples, 35353 words/s, in_qsize 0, out_qsize 0\n",
      "2017-02-24 21:51:44,852 : INFO : PROGRESS: at 89.93% examples, 35347 words/s, in_qsize 0, out_qsize 0\n",
      "2017-02-24 21:51:45,891 : INFO : PROGRESS: at 90.02% examples, 35347 words/s, in_qsize 0, out_qsize 0\n",
      "2017-02-24 21:51:47,067 : INFO : PROGRESS: at 90.11% examples, 35349 words/s, in_qsize 0, out_qsize 0\n",
      "2017-02-24 21:51:48,197 : INFO : PROGRESS: at 90.20% examples, 35347 words/s, in_qsize 0, out_qsize 0\n",
      "2017-02-24 21:51:49,327 : INFO : PROGRESS: at 90.27% examples, 35338 words/s, in_qsize 0, out_qsize 0\n",
      "2017-02-24 21:51:50,421 : INFO : PROGRESS: at 90.35% examples, 35337 words/s, in_qsize 0, out_qsize 0\n",
      "2017-02-24 21:51:51,475 : INFO : PROGRESS: at 90.44% examples, 35337 words/s, in_qsize 0, out_qsize 0\n",
      "2017-02-24 21:51:52,554 : INFO : PROGRESS: at 90.53% examples, 35335 words/s, in_qsize 0, out_qsize 0\n",
      "2017-02-24 21:51:53,553 : INFO : PROGRESS: at 90.61% examples, 35336 words/s, in_qsize 0, out_qsize 0\n",
      "2017-02-24 21:51:54,668 : INFO : PROGRESS: at 90.69% examples, 35335 words/s, in_qsize 0, out_qsize 0\n",
      "2017-02-24 21:51:55,779 : INFO : PROGRESS: at 90.77% examples, 35333 words/s, in_qsize 0, out_qsize 0\n",
      "2017-02-24 21:51:56,932 : INFO : PROGRESS: at 90.86% examples, 35330 words/s, in_qsize 0, out_qsize 0\n",
      "2017-02-24 21:51:58,060 : INFO : PROGRESS: at 90.94% examples, 35327 words/s, in_qsize 0, out_qsize 0\n",
      "2017-02-24 21:51:59,239 : INFO : PROGRESS: at 91.03% examples, 35323 words/s, in_qsize 0, out_qsize 0\n",
      "2017-02-24 21:52:00,408 : INFO : PROGRESS: at 91.08% examples, 35306 words/s, in_qsize 0, out_qsize 0\n",
      "2017-02-24 21:52:01,504 : INFO : PROGRESS: at 91.16% examples, 35305 words/s, in_qsize 0, out_qsize 0\n",
      "2017-02-24 21:52:02,660 : INFO : PROGRESS: at 91.24% examples, 35302 words/s, in_qsize 0, out_qsize 0\n",
      "2017-02-24 21:52:03,864 : INFO : PROGRESS: at 91.33% examples, 35297 words/s, in_qsize 0, out_qsize 0\n",
      "2017-02-24 21:52:04,963 : INFO : PROGRESS: at 91.39% examples, 35289 words/s, in_qsize 0, out_qsize 0\n",
      "2017-02-24 21:52:06,135 : INFO : PROGRESS: at 91.47% examples, 35285 words/s, in_qsize 0, out_qsize 0\n",
      "2017-02-24 21:52:07,421 : INFO : PROGRESS: at 91.56% examples, 35278 words/s, in_qsize 0, out_qsize 0\n",
      "2017-02-24 21:52:08,527 : INFO : PROGRESS: at 91.62% examples, 35270 words/s, in_qsize 0, out_qsize 0\n",
      "2017-02-24 21:52:09,724 : INFO : PROGRESS: at 91.70% examples, 35259 words/s, in_qsize 0, out_qsize 0\n",
      "2017-02-24 21:52:10,790 : INFO : PROGRESS: at 91.76% examples, 35252 words/s, in_qsize 0, out_qsize 0\n",
      "2017-02-24 21:52:11,887 : INFO : PROGRESS: at 91.85% examples, 35250 words/s, in_qsize 0, out_qsize 0\n",
      "2017-02-24 21:52:13,180 : INFO : PROGRESS: at 91.93% examples, 35243 words/s, in_qsize 0, out_qsize 0\n",
      "2017-02-24 21:52:14,385 : INFO : PROGRESS: at 92.00% examples, 35232 words/s, in_qsize 0, out_qsize 0\n",
      "2017-02-24 21:52:15,530 : INFO : PROGRESS: at 92.07% examples, 35223 words/s, in_qsize 0, out_qsize 0\n",
      "2017-02-24 21:52:16,753 : INFO : PROGRESS: at 92.14% examples, 35211 words/s, in_qsize 0, out_qsize 0\n",
      "2017-02-24 21:52:17,830 : INFO : PROGRESS: at 92.20% examples, 35204 words/s, in_qsize 0, out_qsize 0\n",
      "2017-02-24 21:52:18,966 : INFO : PROGRESS: at 92.27% examples, 35195 words/s, in_qsize 0, out_qsize 0\n",
      "2017-02-24 21:52:20,039 : INFO : PROGRESS: at 92.34% examples, 35188 words/s, in_qsize 0, out_qsize 0\n",
      "2017-02-24 21:52:21,213 : INFO : PROGRESS: at 92.40% examples, 35178 words/s, in_qsize 0, out_qsize 0\n",
      "2017-02-24 21:52:22,430 : INFO : PROGRESS: at 92.47% examples, 35167 words/s, in_qsize 0, out_qsize 0\n",
      "2017-02-24 21:52:23,492 : INFO : PROGRESS: at 92.54% examples, 35160 words/s, in_qsize 0, out_qsize 0\n",
      "2017-02-24 21:52:24,662 : INFO : PROGRESS: at 92.61% examples, 35150 words/s, in_qsize 0, out_qsize 0\n",
      "2017-02-24 21:52:25,814 : INFO : PROGRESS: at 92.67% examples, 35141 words/s, in_qsize 0, out_qsize 0\n",
      "2017-02-24 21:52:26,844 : INFO : PROGRESS: at 92.73% examples, 35129 words/s, in_qsize 0, out_qsize 0\n",
      "2017-02-24 21:52:27,989 : INFO : PROGRESS: at 92.80% examples, 35120 words/s, in_qsize 0, out_qsize 0\n",
      "2017-02-24 21:52:29,078 : INFO : PROGRESS: at 92.87% examples, 35113 words/s, in_qsize 0, out_qsize 0\n",
      "2017-02-24 21:52:30,169 : INFO : PROGRESS: at 92.93% examples, 35105 words/s, in_qsize 0, out_qsize 0\n",
      "2017-02-24 21:52:31,332 : INFO : PROGRESS: at 93.00% examples, 35095 words/s, in_qsize 0, out_qsize 0\n",
      "2017-02-24 21:52:32,485 : INFO : PROGRESS: at 93.06% examples, 35086 words/s, in_qsize 0, out_qsize 0\n",
      "2017-02-24 21:52:33,664 : INFO : PROGRESS: at 93.13% examples, 35076 words/s, in_qsize 0, out_qsize 0\n",
      "2017-02-24 21:52:34,959 : INFO : PROGRESS: at 93.20% examples, 35062 words/s, in_qsize 0, out_qsize 0\n",
      "2017-02-24 21:52:36,113 : INFO : PROGRESS: at 93.27% examples, 35053 words/s, in_qsize 0, out_qsize 0\n",
      "2017-02-24 21:52:37,301 : INFO : PROGRESS: at 93.33% examples, 35043 words/s, in_qsize 0, out_qsize 0\n",
      "2017-02-24 21:52:38,606 : INFO : PROGRESS: at 93.40% examples, 35029 words/s, in_qsize 0, out_qsize 0\n",
      "2017-02-24 21:52:39,864 : INFO : PROGRESS: at 93.46% examples, 35017 words/s, in_qsize 0, out_qsize 0\n",
      "2017-02-24 21:52:40,938 : INFO : PROGRESS: at 93.51% examples, 35004 words/s, in_qsize 0, out_qsize 0\n",
      "2017-02-24 21:52:41,977 : INFO : PROGRESS: at 93.57% examples, 34992 words/s, in_qsize 0, out_qsize 0\n",
      "2017-02-24 21:52:43,143 : INFO : PROGRESS: at 93.64% examples, 34983 words/s, in_qsize 0, out_qsize 0\n",
      "2017-02-24 21:52:44,654 : INFO : PROGRESS: at 93.69% examples, 34957 words/s, in_qsize 0, out_qsize 0\n",
      "2017-02-24 21:52:46,469 : INFO : PROGRESS: at 93.72% examples, 34916 words/s, in_qsize 0, out_qsize 0\n",
      "2017-02-24 21:52:47,802 : INFO : PROGRESS: at 93.77% examples, 34895 words/s, in_qsize 0, out_qsize 0\n",
      "2017-02-24 21:52:48,887 : INFO : PROGRESS: at 93.84% examples, 34888 words/s, in_qsize 0, out_qsize 0\n",
      "2017-02-24 21:52:49,933 : INFO : PROGRESS: at 93.91% examples, 34882 words/s, in_qsize 0, out_qsize 0\n",
      "2017-02-24 21:52:51,146 : INFO : PROGRESS: at 93.98% examples, 34872 words/s, in_qsize 0, out_qsize 0\n",
      "2017-02-24 21:52:52,281 : INFO : PROGRESS: at 94.05% examples, 34863 words/s, in_qsize 0, out_qsize 0\n",
      "2017-02-24 21:52:53,470 : INFO : PROGRESS: at 94.11% examples, 34853 words/s, in_qsize 0, out_qsize 0\n",
      "2017-02-24 21:52:54,609 : INFO : PROGRESS: at 94.18% examples, 34845 words/s, in_qsize 0, out_qsize 0\n",
      "2017-02-24 21:52:55,812 : INFO : PROGRESS: at 94.25% examples, 34835 words/s, in_qsize 0, out_qsize 0\n",
      "2017-02-24 21:52:56,901 : INFO : PROGRESS: at 94.32% examples, 34828 words/s, in_qsize 0, out_qsize 0\n",
      "2017-02-24 21:52:58,193 : INFO : PROGRESS: at 94.38% examples, 34815 words/s, in_qsize 0, out_qsize 0\n",
      "2017-02-24 21:52:59,487 : INFO : PROGRESS: at 94.46% examples, 34808 words/s, in_qsize 0, out_qsize 0\n",
      "2017-02-24 21:53:00,592 : INFO : PROGRESS: at 94.55% examples, 34807 words/s, in_qsize 0, out_qsize 0\n",
      "2017-02-24 21:53:01,605 : INFO : PROGRESS: at 94.64% examples, 34809 words/s, in_qsize 0, out_qsize 0\n",
      "2017-02-24 21:53:02,966 : INFO : PROGRESS: at 94.70% examples, 34793 words/s, in_qsize 0, out_qsize 0\n",
      "2017-02-24 21:53:04,136 : INFO : PROGRESS: at 94.76% examples, 34778 words/s, in_qsize 0, out_qsize 0\n",
      "2017-02-24 21:53:05,250 : INFO : PROGRESS: at 94.81% examples, 34764 words/s, in_qsize 0, out_qsize 0\n",
      "2017-02-24 21:53:06,549 : INFO : PROGRESS: at 94.87% examples, 34751 words/s, in_qsize 0, out_qsize 0\n",
      "2017-02-24 21:53:07,710 : INFO : PROGRESS: at 94.94% examples, 34743 words/s, in_qsize 0, out_qsize 0\n",
      "2017-02-24 21:53:08,824 : INFO : PROGRESS: at 95.02% examples, 34741 words/s, in_qsize 0, out_qsize 0\n",
      "2017-02-24 21:53:09,913 : INFO : PROGRESS: at 95.11% examples, 34740 words/s, in_qsize 0, out_qsize 0\n",
      "2017-02-24 21:53:10,932 : INFO : PROGRESS: at 95.19% examples, 34742 words/s, in_qsize 0, out_qsize 0\n",
      "2017-02-24 21:53:12,084 : INFO : PROGRESS: at 95.27% examples, 34739 words/s, in_qsize 0, out_qsize 0\n",
      "2017-02-24 21:53:13,121 : INFO : PROGRESS: at 95.36% examples, 34740 words/s, in_qsize 0, out_qsize 0\n",
      "2017-02-24 21:53:14,129 : INFO : PROGRESS: at 95.44% examples, 34742 words/s, in_qsize 0, out_qsize 0\n",
      "2017-02-24 21:53:15,174 : INFO : PROGRESS: at 95.52% examples, 34743 words/s, in_qsize 0, out_qsize 0\n",
      "2017-02-24 21:53:16,204 : INFO : PROGRESS: at 95.61% examples, 34744 words/s, in_qsize 0, out_qsize 0\n",
      "2017-02-24 21:53:17,230 : INFO : PROGRESS: at 95.70% examples, 34745 words/s, in_qsize 0, out_qsize 0\n",
      "2017-02-24 21:53:18,245 : INFO : PROGRESS: at 95.78% examples, 34746 words/s, in_qsize 0, out_qsize 0\n",
      "2017-02-24 21:53:19,331 : INFO : PROGRESS: at 95.87% examples, 34746 words/s, in_qsize 0, out_qsize 0\n",
      "2017-02-24 21:53:20,536 : INFO : PROGRESS: at 95.94% examples, 34736 words/s, in_qsize 0, out_qsize 0\n",
      "2017-02-24 21:53:21,655 : INFO : PROGRESS: at 95.98% examples, 34722 words/s, in_qsize 0, out_qsize 0\n",
      "2017-02-24 21:53:22,687 : INFO : PROGRESS: at 96.05% examples, 34717 words/s, in_qsize 0, out_qsize 0\n",
      "2017-02-24 21:53:23,962 : INFO : PROGRESS: at 96.14% examples, 34711 words/s, in_qsize 0, out_qsize 0\n",
      "2017-02-24 21:53:25,158 : INFO : PROGRESS: at 96.20% examples, 34701 words/s, in_qsize 0, out_qsize 0\n",
      "2017-02-24 21:53:26,152 : INFO : PROGRESS: at 96.27% examples, 34697 words/s, in_qsize 0, out_qsize 0\n",
      "2017-02-24 21:53:27,248 : INFO : PROGRESS: at 96.33% examples, 34690 words/s, in_qsize 0, out_qsize 0\n",
      "2017-02-24 21:53:28,450 : INFO : PROGRESS: at 96.38% examples, 34674 words/s, in_qsize 0, out_qsize 0\n",
      "2017-02-24 21:53:29,623 : INFO : PROGRESS: at 96.48% examples, 34677 words/s, in_qsize 0, out_qsize 0\n",
      "2017-02-24 21:53:30,787 : INFO : PROGRESS: at 96.58% examples, 34681 words/s, in_qsize 0, out_qsize 0\n",
      "2017-02-24 21:53:31,950 : INFO : PROGRESS: at 96.69% examples, 34684 words/s, in_qsize 0, out_qsize 0\n",
      "2017-02-24 21:53:32,958 : INFO : PROGRESS: at 96.77% examples, 34686 words/s, in_qsize 0, out_qsize 0\n",
      "2017-02-24 21:53:34,064 : INFO : PROGRESS: at 96.87% examples, 34690 words/s, in_qsize 0, out_qsize 0\n",
      "2017-02-24 21:53:35,365 : INFO : PROGRESS: at 96.97% examples, 34690 words/s, in_qsize 0, out_qsize 0\n",
      "2017-02-24 21:53:36,555 : INFO : PROGRESS: at 97.07% examples, 34693 words/s, in_qsize 0, out_qsize 0\n",
      "2017-02-24 21:53:37,724 : INFO : PROGRESS: at 97.17% examples, 34696 words/s, in_qsize 0, out_qsize 0\n",
      "2017-02-24 21:53:38,903 : INFO : PROGRESS: at 97.27% examples, 34698 words/s, in_qsize 0, out_qsize 0\n",
      "2017-02-24 21:53:40,063 : INFO : PROGRESS: at 97.37% examples, 34702 words/s, in_qsize 0, out_qsize 0\n",
      "2017-02-24 21:53:41,264 : INFO : PROGRESS: at 97.48% examples, 34704 words/s, in_qsize 0, out_qsize 0\n",
      "2017-02-24 21:53:42,374 : INFO : PROGRESS: at 97.57% examples, 34709 words/s, in_qsize 0, out_qsize 0\n",
      "2017-02-24 21:53:43,384 : INFO : PROGRESS: at 97.66% examples, 34710 words/s, in_qsize 0, out_qsize 0\n",
      "2017-02-24 21:53:44,392 : INFO : PROGRESS: at 97.75% examples, 34712 words/s, in_qsize 0, out_qsize 0\n",
      "2017-02-24 21:53:45,385 : INFO : PROGRESS: at 97.83% examples, 34714 words/s, in_qsize 0, out_qsize 0\n",
      "2017-02-24 21:53:46,532 : INFO : PROGRESS: at 97.93% examples, 34717 words/s, in_qsize 0, out_qsize 0\n",
      "2017-02-24 21:53:47,684 : INFO : PROGRESS: at 98.03% examples, 34721 words/s, in_qsize 0, out_qsize 0\n",
      "2017-02-24 21:53:48,699 : INFO : PROGRESS: at 98.12% examples, 34723 words/s, in_qsize 0, out_qsize 0\n",
      "2017-02-24 21:53:49,851 : INFO : PROGRESS: at 98.23% examples, 34726 words/s, in_qsize 0, out_qsize 0\n",
      "2017-02-24 21:53:50,976 : INFO : PROGRESS: at 98.33% examples, 34730 words/s, in_qsize 0, out_qsize 0\n",
      "2017-02-24 21:53:52,072 : INFO : PROGRESS: at 98.43% examples, 34736 words/s, in_qsize 0, out_qsize 0\n",
      "2017-02-24 21:53:53,211 : INFO : PROGRESS: at 98.53% examples, 34740 words/s, in_qsize 0, out_qsize 0\n",
      "2017-02-24 21:53:54,309 : INFO : PROGRESS: at 98.64% examples, 34744 words/s, in_qsize 0, out_qsize 0\n",
      "2017-02-24 21:53:55,399 : INFO : PROGRESS: at 98.73% examples, 34744 words/s, in_qsize 0, out_qsize 0\n",
      "2017-02-24 21:53:56,476 : INFO : PROGRESS: at 98.82% examples, 34749 words/s, in_qsize 0, out_qsize 0\n",
      "2017-02-24 21:53:57,637 : INFO : PROGRESS: at 98.92% examples, 34753 words/s, in_qsize 0, out_qsize 0\n",
      "2017-02-24 21:53:58,687 : INFO : PROGRESS: at 99.01% examples, 34753 words/s, in_qsize 0, out_qsize 0\n",
      "2017-02-24 21:53:59,871 : INFO : PROGRESS: at 99.10% examples, 34755 words/s, in_qsize 0, out_qsize 0\n",
      "2017-02-24 21:54:01,039 : INFO : PROGRESS: at 99.20% examples, 34759 words/s, in_qsize 0, out_qsize 0\n",
      "2017-02-24 21:54:02,130 : INFO : PROGRESS: at 99.30% examples, 34763 words/s, in_qsize 0, out_qsize 0\n",
      "2017-02-24 21:54:03,250 : INFO : PROGRESS: at 99.40% examples, 34768 words/s, in_qsize 0, out_qsize 0\n",
      "2017-02-24 21:54:04,403 : INFO : PROGRESS: at 99.50% examples, 34771 words/s, in_qsize 0, out_qsize 0\n",
      "2017-02-24 21:54:05,481 : INFO : PROGRESS: at 99.58% examples, 34771 words/s, in_qsize 0, out_qsize 0\n",
      "2017-02-24 21:54:06,637 : INFO : PROGRESS: at 99.67% examples, 34768 words/s, in_qsize 0, out_qsize 0\n",
      "2017-02-24 21:54:07,726 : INFO : PROGRESS: at 99.75% examples, 34768 words/s, in_qsize 0, out_qsize 0\n",
      "2017-02-24 21:54:08,824 : INFO : PROGRESS: at 99.83% examples, 34767 words/s, in_qsize 0, out_qsize 0\n",
      "2017-02-24 21:54:09,989 : INFO : PROGRESS: at 99.91% examples, 34764 words/s, in_qsize 0, out_qsize 0\n",
      "2017-02-24 21:54:10,983 : INFO : worker thread finished; awaiting finish of 2 more threads\n",
      "2017-02-24 21:54:10,983 : INFO : worker thread finished; awaiting finish of 1 more threads\n",
      "2017-02-24 21:54:11,035 : INFO : PROGRESS: at 100.00% examples, 34764 words/s, in_qsize 0, out_qsize 1\n",
      "2017-02-24 21:54:11,037 : INFO : worker thread finished; awaiting finish of 0 more threads\n",
      "2017-02-24 21:54:11,039 : INFO : training on 59385870 raw words (44067259 effective words) took 1267.6s, 34764 effective words/s\n"
     ]
    },
    {
     "name": "stdout",
     "output_type": "stream",
     "text": [
      "1501.393883228302\n"
     ]
    }
   ],
   "source": [
    "t1 = time.time()\n",
    "model= gensim.models.Word2Vec(sentences)\n",
    "t2 = time.time()\n",
    "t = t2-t1\n",
    "print(t)"
   ]
  },
  {
   "cell_type": "code",
   "execution_count": 11,
   "metadata": {
    "collapsed": false
   },
   "outputs": [
    {
     "name": "stderr",
     "output_type": "stream",
     "text": [
      "2017-02-24 21:58:34,156 : INFO : precomputing L2-norms of word weight vectors\n"
     ]
    },
    {
     "data": {
      "text/plain": [
       "[('movie', 0.9499056935310364),\n",
       " ('picture', 0.7626062631607056),\n",
       " ('flick', 0.732008159160614),\n",
       " ('documentary', 0.7259095907211304),\n",
       " ('cinema', 0.6189287900924683),\n",
       " ('it', 0.6101078391075134),\n",
       " ('programme', 0.6067663431167603),\n",
       " ('films', 0.6020075678825378),\n",
       " ('sequel', 0.5947384238243103),\n",
       " ('movies', 0.5941490530967712)]"
      ]
     },
     "execution_count": 11,
     "metadata": {},
     "output_type": "execute_result"
    }
   ],
   "source": [
    "# задание 2\n",
    "# выбрала слова, бегло просмотрев несколько первых строк\n",
    "model.most_similar(\"film\")"
   ]
  },
  {
   "cell_type": "code",
   "execution_count": 12,
   "metadata": {
    "collapsed": false
   },
   "outputs": [
    {
     "data": {
      "text/plain": [
       "[('buff', 0.6540641784667969),\n",
       " ('fans', 0.6127549409866333),\n",
       " ('completist', 0.5612860918045044),\n",
       " ('connoisseur', 0.5273901224136353),\n",
       " ('fanatic', 0.4895195960998535),\n",
       " ('masterpiece', 0.4796307384967804),\n",
       " ('spoof', 0.46594181656837463),\n",
       " ('sucker', 0.46394383907318115),\n",
       " ('legend', 0.46030065417289734),\n",
       " ('fond', 0.44478410482406616)]"
      ]
     },
     "execution_count": 12,
     "metadata": {},
     "output_type": "execute_result"
    }
   ],
   "source": [
    "model.most_similar(\"fan\")"
   ]
  },
  {
   "cell_type": "code",
   "execution_count": 13,
   "metadata": {
    "collapsed": false
   },
   "outputs": [
    {
     "data": {
      "text/plain": [
       "[('playing', 0.6139358282089233),\n",
       " ('perform', 0.5961995124816895),\n",
       " ('act', 0.543910562992096),\n",
       " ('fit', 0.5374372601509094),\n",
       " ('portray', 0.5112156867980957),\n",
       " ('sing', 0.5047653913497925),\n",
       " ('played', 0.4999259412288666),\n",
       " ('lead', 0.49389350414276123),\n",
       " ('relate', 0.4869699478149414),\n",
       " ('identify', 0.48348310589790344)]"
      ]
     },
     "execution_count": 13,
     "metadata": {},
     "output_type": "execute_result"
    }
   ],
   "source": [
    "model.most_similar(\"play\")"
   ]
  },
  {
   "cell_type": "code",
   "execution_count": 14,
   "metadata": {
    "collapsed": false
   },
   "outputs": [
    {
     "data": {
      "text/plain": [
       "[('wonderful', 0.8268762230873108),\n",
       " ('fantastic', 0.8150574564933777),\n",
       " ('terrific', 0.795522153377533),\n",
       " ('fine', 0.769983172416687),\n",
       " ('good', 0.7594907283782959),\n",
       " ('brilliant', 0.7341601848602295),\n",
       " ('superb', 0.7110694050788879),\n",
       " ('excellent', 0.6959478855133057),\n",
       " ('marvelous', 0.6881554126739502),\n",
       " ('amazing', 0.6652554273605347)]"
      ]
     },
     "execution_count": 14,
     "metadata": {},
     "output_type": "execute_result"
    }
   ],
   "source": [
    "model.most_similar(\"great\")"
   ]
  },
  {
   "cell_type": "code",
   "execution_count": 15,
   "metadata": {
    "collapsed": false
   },
   "outputs": [
    {
     "data": {
      "text/plain": [
       "[('lame', 0.8379004001617432),\n",
       " ('stupid', 0.8317373991012573),\n",
       " ('cheesy', 0.8196803331375122),\n",
       " ('corny', 0.8038036823272705),\n",
       " ('dumb', 0.7994185090065002),\n",
       " ('ridiculous', 0.7833685874938965),\n",
       " ('childish', 0.7781951427459717),\n",
       " ('goofy', 0.7781282067298889),\n",
       " ('hokey', 0.7613279223442078),\n",
       " ('dull', 0.760836660861969)]"
      ]
     },
     "execution_count": 15,
     "metadata": {},
     "output_type": "execute_result"
    }
   ],
   "source": [
    "model.most_similar(\"silly\")"
   ]
  },
  {
   "cell_type": "code",
   "execution_count": 16,
   "metadata": {
    "collapsed": false
   },
   "outputs": [
    {
     "data": {
      "text/plain": [
       "[('country', 0.6904693841934204),\n",
       " ('society', 0.6834593415260315),\n",
       " ('nation', 0.6559563279151917),\n",
       " ('universe', 0.6545498371124268),\n",
       " ('life', 0.6152737140655518),\n",
       " ('japan', 0.607975959777832),\n",
       " ('population', 0.607711672782898),\n",
       " ('realm', 0.6042311191558838),\n",
       " ('civilization', 0.5942022800445557),\n",
       " ('existence', 0.5843759775161743)]"
      ]
     },
     "execution_count": 16,
     "metadata": {},
     "output_type": "execute_result"
    }
   ],
   "source": [
    "model.most_similar(\"world\")"
   ]
  },
  {
   "cell_type": "markdown",
   "metadata": {},
   "source": [
    "Да, слова найдены корректны. Почти все из них синонимы. Для каждого слово соотношение степени близости и является ли слово синонимом отличаются. Например, у \"world\" близкое слово \"japan\" с 0.625, но они не синонимы, а для \"film\" есть синоним \"cinema\" с 0.623. "
   ]
  },
  {
   "cell_type": "code",
   "execution_count": 17,
   "metadata": {
    "collapsed": false
   },
   "outputs": [
    {
     "data": {
      "text/plain": [
       "[('phantom', 0.45949897170066833),\n",
       " ('fare', 0.437703013420105),\n",
       " ('opera', 0.4376363754272461),\n",
       " ('horror', 0.43600013852119446),\n",
       " ('halloween', 0.4358224868774414),\n",
       " ('daytime', 0.4252411425113678),\n",
       " ('masterpiece', 0.42456740140914917),\n",
       " ('gothic', 0.42255085706710815),\n",
       " ('legend', 0.41233140230178833),\n",
       " ('dramas', 0.40997201204299927)]"
      ]
     },
     "execution_count": 17,
     "metadata": {},
     "output_type": "execute_result"
    }
   ],
   "source": [
    "# задание 3\n",
    "model.most_similar(positive=['scary', 'soap'], negative=['silly'])"
   ]
  },
  {
   "cell_type": "code",
   "execution_count": 19,
   "metadata": {
    "collapsed": false
   },
   "outputs": [
    {
     "data": {
      "text/plain": [
       "[('valley', 0.6182328462600708),\n",
       " ('mansion', 0.6084699034690857),\n",
       " ('secluded', 0.5923677682876587),\n",
       " ('town', 0.5892949104309082),\n",
       " ('island', 0.589085578918457),\n",
       " ('arizona', 0.5866891741752625),\n",
       " ('downtown', 0.5846503973007202),\n",
       " ('underground', 0.5764614343643188),\n",
       " ('park', 0.5673695802688599),\n",
       " ('warehouse', 0.5664241313934326)]"
      ]
     },
     "execution_count": 19,
     "metadata": {},
     "output_type": "execute_result"
    }
   ],
   "source": [
    "model.most_similar(positive=['animal', 'city'], negative=['human'])"
   ]
  },
  {
   "cell_type": "code",
   "execution_count": 20,
   "metadata": {
    "collapsed": false
   },
   "outputs": [
    {
     "data": {
      "text/plain": [
       "[('movie', 0.6753344535827637),\n",
       " ('drivel', 0.6442543864250183),\n",
       " ('flick', 0.621806263923645),\n",
       " ('mess', 0.6038336157798767),\n",
       " ('tripe', 0.6024227142333984),\n",
       " ('dud', 0.5924191474914551),\n",
       " ('tedious', 0.5733319520950317),\n",
       " ('garbage', 0.5609675645828247),\n",
       " ('dreck', 0.5489475131034851),\n",
       " ('stinker', 0.5425493717193604)]"
      ]
     },
     "execution_count": 20,
     "metadata": {},
     "output_type": "execute_result"
    }
   ],
   "source": [
    "model.most_similar(positive=['film', 'boring'], negative=['interesting'])"
   ]
  },
  {
   "cell_type": "code",
   "execution_count": 21,
   "metadata": {
    "collapsed": false
   },
   "outputs": [
    {
     "data": {
      "text/plain": [
       "[('hilarious', 0.6795250773429871),\n",
       " ('clever', 0.6707119941711426),\n",
       " ('amusing', 0.6337101459503174),\n",
       " ('scary', 0.632749617099762),\n",
       " ('humorous', 0.6013796925544739),\n",
       " ('entertaining', 0.5999511480331421),\n",
       " ('good', 0.5867054462432861),\n",
       " ('silly', 0.5838210582733154),\n",
       " ('cool', 0.5678896903991699),\n",
       " ('cheesy', 0.5621902942657471)]"
      ]
     },
     "execution_count": 21,
     "metadata": {},
     "output_type": "execute_result"
    }
   ],
   "source": [
    "model.most_similar(positive=['boy', 'funny'], negative=['girl'])"
   ]
  },
  {
   "cell_type": "code",
   "execution_count": 22,
   "metadata": {
    "collapsed": false
   },
   "outputs": [
    {
     "data": {
      "text/plain": [
       "[('comedy', 0.5938147306442261),\n",
       " ('humour', 0.551487386226654),\n",
       " ('humor', 0.5465669631958008),\n",
       " ('romance', 0.49884361028671265),\n",
       " ('slapstick', 0.4752295911312103),\n",
       " ('romp', 0.45490071177482605),\n",
       " ('melodrama', 0.4493786692619324),\n",
       " ('robe', 0.44691962003707886),\n",
       " ('adventure', 0.4455893039703369),\n",
       " ('pitch', 0.43946516513824463)]"
      ]
     },
     "execution_count": 22,
     "metadata": {},
     "output_type": "execute_result"
    }
   ],
   "source": [
    "model.most_similar(positive=['cat', 'horror'], negative=['zombie'])"
   ]
  },
  {
   "cell_type": "markdown",
   "metadata": {},
   "source": [
    "Не все мои ожидания подтвердились. Многие ожидаемые слова стоят не на первых местах, например, scary horror. Но, например, human - city, animal - valley получилось хорошо."
   ]
  },
  {
   "cell_type": "code",
   "execution_count": 23,
   "metadata": {
    "collapsed": false
   },
   "outputs": [
    {
     "data": {
      "text/plain": [
       "'butterfly'"
      ]
     },
     "execution_count": 23,
     "metadata": {},
     "output_type": "execute_result"
    }
   ],
   "source": [
    "# задание 4\n",
    "model.doesnt_match(\"film movie butterfly play\".split())"
   ]
  },
  {
   "cell_type": "code",
   "execution_count": 24,
   "metadata": {
    "collapsed": false
   },
   "outputs": [
    {
     "data": {
      "text/plain": [
       "'fan'"
      ]
     },
     "execution_count": 24,
     "metadata": {},
     "output_type": "execute_result"
    }
   ],
   "source": [
    "model.doesnt_match(\"great stupid fan happy\".split())"
   ]
  },
  {
   "cell_type": "code",
   "execution_count": 25,
   "metadata": {
    "collapsed": false
   },
   "outputs": [
    {
     "data": {
      "text/plain": [
       "'you'"
      ]
     },
     "execution_count": 25,
     "metadata": {},
     "output_type": "execute_result"
    }
   ],
   "source": [
    "model.doesnt_match(\"you man woman human\".split())"
   ]
  },
  {
   "cell_type": "code",
   "execution_count": 26,
   "metadata": {
    "collapsed": false
   },
   "outputs": [
    {
     "data": {
      "text/plain": [
       "'people'"
      ]
     },
     "execution_count": 26,
     "metadata": {},
     "output_type": "execute_result"
    }
   ],
   "source": [
    "model.doesnt_match(\"city world country people\".split())"
   ]
  },
  {
   "cell_type": "code",
   "execution_count": 27,
   "metadata": {
    "collapsed": false
   },
   "outputs": [
    {
     "data": {
      "text/plain": [
       "'cry'"
      ]
     },
     "execution_count": 27,
     "metadata": {},
     "output_type": "execute_result"
    }
   ],
   "source": [
    "model.doesnt_match(\"tell speak buy cry\".split())"
   ]
  },
  {
   "cell_type": "markdown",
   "metadata": {},
   "source": [
    "Неправильно нашел слово \"cry\", хотя оно, как мне казалось похоже на \"tell\" и \"speak\". Проверим"
   ]
  },
  {
   "cell_type": "code",
   "execution_count": 28,
   "metadata": {
    "collapsed": false
   },
   "outputs": [],
   "source": [
    "words = ['tell','speak','buy','cry']\n",
    "df = pd.DataFrame(columns=words)"
   ]
  },
  {
   "cell_type": "code",
   "execution_count": 29,
   "metadata": {
    "collapsed": true
   },
   "outputs": [],
   "source": [
    "for w in words:\n",
    "    df.loc[w] = 0"
   ]
  },
  {
   "cell_type": "code",
   "execution_count": 30,
   "metadata": {
    "collapsed": false
   },
   "outputs": [],
   "source": [
    "from itertools import combinations\n",
    "\n",
    "comb = list(combinations(words,2))"
   ]
  },
  {
   "cell_type": "code",
   "execution_count": 31,
   "metadata": {
    "collapsed": false
   },
   "outputs": [
    {
     "data": {
      "text/plain": [
       "[('tell', 'speak'),\n",
       " ('tell', 'buy'),\n",
       " ('tell', 'cry'),\n",
       " ('speak', 'buy'),\n",
       " ('speak', 'cry'),\n",
       " ('buy', 'cry')]"
      ]
     },
     "execution_count": 31,
     "metadata": {},
     "output_type": "execute_result"
    }
   ],
   "source": [
    "comb"
   ]
  },
  {
   "cell_type": "code",
   "execution_count": 32,
   "metadata": {
    "collapsed": true
   },
   "outputs": [],
   "source": [
    "for c in comb:\n",
    "    s = model.similarity(c[0], c[1])\n",
    "    df[c[0]][c[1]] = s\n",
    "    df[c[1]][c[0]] = s"
   ]
  },
  {
   "cell_type": "code",
   "execution_count": 33,
   "metadata": {
    "collapsed": false
   },
   "outputs": [
    {
     "data": {
      "text/html": [
       "<div>\n",
       "<table border=\"1\" class=\"dataframe\">\n",
       "  <thead>\n",
       "    <tr style=\"text-align: right;\">\n",
       "      <th></th>\n",
       "      <th>tell</th>\n",
       "      <th>speak</th>\n",
       "      <th>buy</th>\n",
       "      <th>cry</th>\n",
       "    </tr>\n",
       "  </thead>\n",
       "  <tbody>\n",
       "    <tr>\n",
       "      <th>tell</th>\n",
       "      <td>0.000000</td>\n",
       "      <td>0.526148</td>\n",
       "      <td>0.494277</td>\n",
       "      <td>0.340963</td>\n",
       "    </tr>\n",
       "    <tr>\n",
       "      <th>speak</th>\n",
       "      <td>0.526148</td>\n",
       "      <td>0.000000</td>\n",
       "      <td>0.362406</td>\n",
       "      <td>0.214772</td>\n",
       "    </tr>\n",
       "    <tr>\n",
       "      <th>buy</th>\n",
       "      <td>0.494277</td>\n",
       "      <td>0.362406</td>\n",
       "      <td>0.000000</td>\n",
       "      <td>0.387247</td>\n",
       "    </tr>\n",
       "    <tr>\n",
       "      <th>cry</th>\n",
       "      <td>0.340963</td>\n",
       "      <td>0.214772</td>\n",
       "      <td>0.387247</td>\n",
       "      <td>0.000000</td>\n",
       "    </tr>\n",
       "  </tbody>\n",
       "</table>\n",
       "</div>"
      ],
      "text/plain": [
       "           tell     speak       buy       cry\n",
       "tell   0.000000  0.526148  0.494277  0.340963\n",
       "speak  0.526148  0.000000  0.362406  0.214772\n",
       "buy    0.494277  0.362406  0.000000  0.387247\n",
       "cry    0.340963  0.214772  0.387247  0.000000"
      ]
     },
     "execution_count": 33,
     "metadata": {},
     "output_type": "execute_result"
    }
   ],
   "source": [
    "df"
   ]
  },
  {
   "cell_type": "markdown",
   "metadata": {},
   "source": [
    "Видим, что  \"tell\" и \"speak\" больше похожи на \"buy\", чем на \"cry\". Что странно. Возможно, у нас не совсем подходящие тексты."
   ]
  },
  {
   "cell_type": "code",
   "execution_count": 34,
   "metadata": {
    "collapsed": false
   },
   "outputs": [
    {
     "data": {
      "text/plain": [
       "[('movie', 0.9499056935310364),\n",
       " ('picture', 0.7626062631607056),\n",
       " ('flick', 0.732008159160614)]"
      ]
     },
     "execution_count": 34,
     "metadata": {},
     "output_type": "execute_result"
    }
   ],
   "source": [
    "# задание 5\n",
    "model.most_similar(\"film\", topn=3) # (1) movie 0 film"
   ]
  },
  {
   "cell_type": "code",
   "execution_count": 35,
   "metadata": {
    "collapsed": false
   },
   "outputs": [
    {
     "data": {
      "text/plain": [
       "[('film', 0.9499058723449707),\n",
       " ('flick', 0.7740179300308228),\n",
       " ('picture', 0.6767484545707703)]"
      ]
     },
     "execution_count": 35,
     "metadata": {},
     "output_type": "execute_result"
    }
   ],
   "source": [
    "model.most_similar(\"movie\", topn=3) #(2)film 0 movie"
   ]
  },
  {
   "cell_type": "markdown",
   "metadata": {},
   "source": [
    "коммутативность выполняется"
   ]
  },
  {
   "cell_type": "code",
   "execution_count": 36,
   "metadata": {
    "collapsed": false
   },
   "outputs": [
    {
     "data": {
      "text/plain": [
       "[('film', 0.7626063227653503),\n",
       " ('movie', 0.6767483949661255),\n",
       " ('flick', 0.5576415657997131)]"
      ]
     },
     "execution_count": 36,
     "metadata": {},
     "output_type": "execute_result"
    }
   ],
   "source": [
    "model.most_similar(\"picture\", topn=3) #(1) и (3)film 0 picture =>  (4) movie 0 picture"
   ]
  },
  {
   "cell_type": "markdown",
   "metadata": {},
   "source": [
    "транзитивность тоже выполняется"
   ]
  },
  {
   "cell_type": "code",
   "execution_count": 37,
   "metadata": {
    "collapsed": false
   },
   "outputs": [
    {
     "data": {
      "text/plain": [
       "[('wonderful', 0.8268762230873108),\n",
       " ('fantastic', 0.8150574564933777),\n",
       " ('terrific', 0.795522153377533)]"
      ]
     },
     "execution_count": 37,
     "metadata": {},
     "output_type": "execute_result"
    }
   ],
   "source": [
    "model.most_similar(\"great\", topn=3) # (1)terrific 0 great"
   ]
  },
  {
   "cell_type": "code",
   "execution_count": 38,
   "metadata": {
    "collapsed": false
   },
   "outputs": [
    {
     "data": {
      "text/plain": [
       "[('fantastic', 0.8911163210868835),\n",
       " ('superb', 0.8803567290306091),\n",
       " ('marvelous', 0.8600854277610779)]"
      ]
     },
     "execution_count": 38,
     "metadata": {},
     "output_type": "execute_result"
    }
   ],
   "source": [
    "model.most_similar(\"terrific\", topn=3) # (2)great нет в terrific"
   ]
  },
  {
   "cell_type": "markdown",
   "metadata": {},
   "source": [
    "коммутативность не выполняется"
   ]
  },
  {
   "cell_type": "code",
   "execution_count": 39,
   "metadata": {
    "collapsed": false
   },
   "outputs": [
    {
     "data": {
      "text/plain": [
       "[('decent', 0.7761076092720032),\n",
       " ('great', 0.7594907283782959),\n",
       " ('bad', 0.7429015040397644)]"
      ]
     },
     "execution_count": 39,
     "metadata": {},
     "output_type": "execute_result"
    }
   ],
   "source": [
    "model.most_similar(\"good\", topn=3) # (1) и (3)great 0 good не следует что (4)terrific 0 good"
   ]
  },
  {
   "cell_type": "markdown",
   "metadata": {},
   "source": [
    "транзитивность тоже не выполняется"
   ]
  },
  {
   "cell_type": "code",
   "execution_count": null,
   "metadata": {
    "collapsed": true
   },
   "outputs": [],
   "source": []
  }
 ],
 "metadata": {
  "anaconda-cloud": {},
  "kernelspec": {
   "display_name": "Python [conda root]",
   "language": "python",
   "name": "conda-root-py"
  },
  "language_info": {
   "codemirror_mode": {
    "name": "ipython",
    "version": 3
   },
   "file_extension": ".py",
   "mimetype": "text/x-python",
   "name": "python",
   "nbconvert_exporter": "python",
   "pygments_lexer": "ipython3",
   "version": "3.5.2"
  }
 },
 "nbformat": 4,
 "nbformat_minor": 1
}
