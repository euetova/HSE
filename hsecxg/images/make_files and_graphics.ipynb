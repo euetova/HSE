{
 "cells": [
  {
   "cell_type": "code",
   "execution_count": 1,
   "metadata": {
    "collapsed": true
   },
   "outputs": [],
   "source": [
    "import pandas as pd\n",
    "import numpy as np\n",
    "import re"
   ]
  },
  {
   "cell_type": "code",
   "execution_count": 2,
   "metadata": {
    "collapsed": false
   },
   "outputs": [
    {
     "data": {
      "text/html": [
       "<div>\n",
       "<style scoped>\n",
       "    .dataframe tbody tr th:only-of-type {\n",
       "        vertical-align: middle;\n",
       "    }\n",
       "\n",
       "    .dataframe tbody tr th {\n",
       "        vertical-align: top;\n",
       "    }\n",
       "\n",
       "    .dataframe thead th {\n",
       "        text-align: right;\n",
       "    }\n",
       "</style>\n",
       "<table border=\"1\" class=\"dataframe\">\n",
       "  <thead>\n",
       "    <tr style=\"text-align: right;\">\n",
       "      <th></th>\n",
       "      <th>sentence</th>\n",
       "      <th>original</th>\n",
       "      <th>corrected</th>\n",
       "      <th>Gov_Constr</th>\n",
       "      <th>Extra_Miss_Subst</th>\n",
       "      <th>Fusion_Transfer</th>\n",
       "      <th>level</th>\n",
       "      <th>before</th>\n",
       "      <th>constr_original</th>\n",
       "      <th>constr_corrected</th>\n",
       "      <th>constr</th>\n",
       "      <th>calque</th>\n",
       "      <th>author</th>\n",
       "      <th>genre</th>\n",
       "      <th>gender</th>\n",
       "      <th>course</th>\n",
       "      <th>text_type</th>\n",
       "      <th>words</th>\n",
       "      <th>sentences</th>\n",
       "      <th>language</th>\n",
       "    </tr>\n",
       "  </thead>\n",
       "  <tbody>\n",
       "    <tr>\n",
       "      <th>0</th>\n",
       "      <td>Я буду в июле весь месяц.</td>\n",
       "      <td>в  июле  весь  месяц</td>\n",
       "      <td>весь июль месяц,</td>\n",
       "      <td>Constr</td>\n",
       "      <td>Extra</td>\n",
       "      <td>Transfer</td>\n",
       "      <td>B1</td>\n",
       "      <td>c фр. \"j'y serai tout le mois en juillet\"</td>\n",
       "      <td>?</td>\n",
       "      <td>?</td>\n",
       "      <td>?</td>\n",
       "      <td>1</td>\n",
       "      <td>Sophia (native bulgare)</td>\n",
       "      <td>answers</td>\n",
       "      <td>ж</td>\n",
       "      <td>NaN</td>\n",
       "      <td>NaN</td>\n",
       "      <td>153</td>\n",
       "      <td>18</td>\n",
       "      <td>FL</td>\n",
       "    </tr>\n",
       "    <tr>\n",
       "      <th>1</th>\n",
       "      <td>Официальный язык России - русский, он принадле...</td>\n",
       "      <td>принадлежит  группе</td>\n",
       "      <td>принадлежит к группе</td>\n",
       "      <td>Gov</td>\n",
       "      <td>Miss</td>\n",
       "      <td>-</td>\n",
       "      <td>C1</td>\n",
       "      <td>D / к D; Verb</td>\n",
       "      <td>D</td>\n",
       "      <td>к D</td>\n",
       "      <td>Verb</td>\n",
       "      <td>0</td>\n",
       "      <td>Danuta (native slavic)</td>\n",
       "      <td>description</td>\n",
       "      <td>ж</td>\n",
       "      <td>NaN</td>\n",
       "      <td>NaN</td>\n",
       "      <td>165</td>\n",
       "      <td>20</td>\n",
       "      <td>FL</td>\n",
       "    </tr>\n",
       "  </tbody>\n",
       "</table>\n",
       "</div>"
      ],
      "text/plain": [
       "                                            sentence              original  \\\n",
       "0                          Я буду в июле весь месяц.  в  июле  весь  месяц   \n",
       "1  Официальный язык России - русский, он принадле...   принадлежит  группе   \n",
       "\n",
       "              corrected Gov_Constr Extra_Miss_Subst Fusion_Transfer level  \\\n",
       "0      весь июль месяц,     Constr            Extra        Transfer    B1   \n",
       "1  принадлежит к группе        Gov             Miss               -    C1   \n",
       "\n",
       "                                      before constr_original constr_corrected  \\\n",
       "0  c фр. \"j'y serai tout le mois en juillet\"               ?                ?   \n",
       "1                              D / к D; Verb               D              к D   \n",
       "\n",
       "  constr  calque                   author        genre gender course  \\\n",
       "0      ?       1  Sophia (native bulgare)      answers      ж    NaN   \n",
       "1   Verb       0   Danuta (native slavic)  description      ж    NaN   \n",
       "\n",
       "  text_type  words  sentences language  \n",
       "0       NaN    153         18       FL  \n",
       "1       NaN    165         20       FL  "
      ]
     },
     "execution_count": 2,
     "metadata": {},
     "output_type": "execute_result"
    }
   ],
   "source": [
    "# размеченный файл\n",
    "\n",
    "df = pd.read_excel('constructions.xlsx', sheet_name=0)\n",
    "df.head(2)"
   ]
  },
  {
   "cell_type": "code",
   "execution_count": 3,
   "metadata": {
    "collapsed": false
   },
   "outputs": [],
   "source": [
    "df = df[['Extra_Miss_Subst', 'sentence', 'original', 'corrected', 'Gov_Constr', 'Fusion_Transfer', 'level', 'before',\n",
    "       'constr_original', 'constr_corrected', 'constr', 'calque', 'author',\n",
    "       'genre', 'gender', 'course', 'text_type', 'words', 'sentences', 'language']]"
   ]
  },
  {
   "cell_type": "code",
   "execution_count": 4,
   "metadata": {
    "collapsed": false
   },
   "outputs": [
    {
     "data": {
      "text/html": [
       "<div>\n",
       "<style scoped>\n",
       "    .dataframe tbody tr th:only-of-type {\n",
       "        vertical-align: middle;\n",
       "    }\n",
       "\n",
       "    .dataframe tbody tr th {\n",
       "        vertical-align: top;\n",
       "    }\n",
       "\n",
       "    .dataframe thead th {\n",
       "        text-align: right;\n",
       "    }\n",
       "</style>\n",
       "<table border=\"1\" class=\"dataframe\">\n",
       "  <thead>\n",
       "    <tr style=\"text-align: right;\">\n",
       "      <th></th>\n",
       "      <th>Extra_Miss_Subst</th>\n",
       "      <th>Gov_Constr</th>\n",
       "      <th>Fusion_Transfer</th>\n",
       "      <th>level</th>\n",
       "      <th>constr_original</th>\n",
       "      <th>constr_corrected</th>\n",
       "      <th>constr</th>\n",
       "      <th>gender</th>\n",
       "      <th>language</th>\n",
       "    </tr>\n",
       "  </thead>\n",
       "  <tbody>\n",
       "    <tr>\n",
       "      <th>0</th>\n",
       "      <td>Extra</td>\n",
       "      <td>Constr</td>\n",
       "      <td>Transfer</td>\n",
       "      <td>B1</td>\n",
       "      <td>?</td>\n",
       "      <td>?</td>\n",
       "      <td>?</td>\n",
       "      <td>ж</td>\n",
       "      <td>FL</td>\n",
       "    </tr>\n",
       "    <tr>\n",
       "      <th>1</th>\n",
       "      <td>Miss</td>\n",
       "      <td>Gov</td>\n",
       "      <td>-</td>\n",
       "      <td>C1</td>\n",
       "      <td>D</td>\n",
       "      <td>к D</td>\n",
       "      <td>Verb</td>\n",
       "      <td>ж</td>\n",
       "      <td>FL</td>\n",
       "    </tr>\n",
       "    <tr>\n",
       "      <th>2</th>\n",
       "      <td>Miss</td>\n",
       "      <td>Gov</td>\n",
       "      <td>Transfer</td>\n",
       "      <td>B1</td>\n",
       "      <td>N</td>\n",
       "      <td>по D</td>\n",
       "      <td>Verb</td>\n",
       "      <td>ж</td>\n",
       "      <td>FL</td>\n",
       "    </tr>\n",
       "  </tbody>\n",
       "</table>\n",
       "</div>"
      ],
      "text/plain": [
       "  Extra_Miss_Subst Gov_Constr Fusion_Transfer level constr_original  \\\n",
       "0            Extra     Constr        Transfer    B1               ?   \n",
       "1             Miss        Gov               -    C1               D   \n",
       "2             Miss        Gov        Transfer    B1               N   \n",
       "\n",
       "  constr_corrected constr gender language  \n",
       "0                ?      ?      ж       FL  \n",
       "1              к D   Verb      ж       FL  \n",
       "2             по D   Verb      ж       FL  "
      ]
     },
     "execution_count": 4,
     "metadata": {},
     "output_type": "execute_result"
    }
   ],
   "source": [
    "# удаляем ненужные столбцы\n",
    "\n",
    "df = df.drop(['sentence', 'original', 'corrected', 'before', 'author', 'course', 'text_type', 'genre', 'calque', 'words', 'sentences'], axis=1)\n",
    "df.head(3)"
   ]
  },
  {
   "cell_type": "code",
   "execution_count": 5,
   "metadata": {
    "collapsed": false
   },
   "outputs": [],
   "source": [
    "columns = df.columns.values"
   ]
  },
  {
   "cell_type": "code",
   "execution_count": 6,
   "metadata": {
    "collapsed": true
   },
   "outputs": [],
   "source": [
    "# подправляем данные: убираем пробелы\n",
    "\n",
    "for col in columns:\n",
    "    df[col] = df[col].str.strip()"
   ]
  },
  {
   "cell_type": "code",
   "execution_count": 7,
   "metadata": {
    "collapsed": false
   },
   "outputs": [
    {
     "data": {
      "text/plain": [
       "Gov       401\n",
       "Constr    246\n",
       "Name: Gov_Constr, dtype: int64"
      ]
     },
     "execution_count": 7,
     "metadata": {},
     "output_type": "execute_result"
    }
   ],
   "source": [
    "df['Gov_Constr'].value_counts()"
   ]
  },
  {
   "cell_type": "code",
   "execution_count": 8,
   "metadata": {
    "collapsed": false
   },
   "outputs": [],
   "source": [
    "# делим столбцы constr_origianl и constr_corrected на столбцы с предлогом и стобцы с падежом\n",
    "\n",
    "prep_orig = []\n",
    "case_orig = []\n",
    "prep_corr = []\n",
    "case_corr = []\n",
    "\n",
    "\n",
    "orig = df['constr_original'].tolist()\n",
    "corr = df['constr_corrected'].tolist()\n",
    "\n",
    "for el in orig:\n",
    "    prep = re.findall('[а-я- ]', el)\n",
    "    prep = ''.join(prep).strip()\n",
    "    prep = '-' if prep == '' else prep\n",
    "    prep_orig.append(prep)\n",
    "    el = el.replace(prep, '')\n",
    "    case = re.findall('[A-Za-z ]', el)\n",
    "    case = ''.join(case).strip()\n",
    "    case = '-' if case == '' else case\n",
    "    case_orig.append(case)\n",
    "        \n",
    "for el in corr:\n",
    "    prep = re.findall('[а-я- ]', el)\n",
    "    prep = ''.join(prep).strip()\n",
    "    prep = '-' if prep == '' else prep\n",
    "    prep_corr.append(prep)\n",
    "    el = el.replace(prep, '')\n",
    "    case = re.findall('[A-Za-z ]', el)\n",
    "    case = ''.join(case).strip()\n",
    "    case = '-' if case == '' else case\n",
    "    case_corr.append(case)\n",
    "\n",
    "df['prep_orig'] = prep_orig\n",
    "df['case_orig'] = case_orig\n",
    "df['prep_corr'] = prep_corr\n",
    "df['case_corr'] = case_corr"
   ]
  },
  {
   "cell_type": "code",
   "execution_count": 9,
   "metadata": {
    "collapsed": false
   },
   "outputs": [
    {
     "data": {
      "text/html": [
       "<div>\n",
       "<style scoped>\n",
       "    .dataframe tbody tr th:only-of-type {\n",
       "        vertical-align: middle;\n",
       "    }\n",
       "\n",
       "    .dataframe tbody tr th {\n",
       "        vertical-align: top;\n",
       "    }\n",
       "\n",
       "    .dataframe thead th {\n",
       "        text-align: right;\n",
       "    }\n",
       "</style>\n",
       "<table border=\"1\" class=\"dataframe\">\n",
       "  <thead>\n",
       "    <tr style=\"text-align: right;\">\n",
       "      <th></th>\n",
       "      <th>Extra_Miss_Subst</th>\n",
       "      <th>Gov_Constr</th>\n",
       "      <th>Fusion_Transfer</th>\n",
       "      <th>level</th>\n",
       "      <th>constr_original</th>\n",
       "      <th>constr_corrected</th>\n",
       "      <th>constr</th>\n",
       "      <th>gender</th>\n",
       "      <th>language</th>\n",
       "      <th>prep_orig</th>\n",
       "      <th>case_orig</th>\n",
       "      <th>prep_corr</th>\n",
       "      <th>case_corr</th>\n",
       "    </tr>\n",
       "  </thead>\n",
       "  <tbody>\n",
       "    <tr>\n",
       "      <th>0</th>\n",
       "      <td>Miss</td>\n",
       "      <td>Gov</td>\n",
       "      <td>-</td>\n",
       "      <td>C1</td>\n",
       "      <td>D</td>\n",
       "      <td>к D</td>\n",
       "      <td>Verb</td>\n",
       "      <td>ж</td>\n",
       "      <td>FL</td>\n",
       "      <td>-</td>\n",
       "      <td>D</td>\n",
       "      <td>к</td>\n",
       "      <td>D</td>\n",
       "    </tr>\n",
       "    <tr>\n",
       "      <th>1</th>\n",
       "      <td>Miss</td>\n",
       "      <td>Gov</td>\n",
       "      <td>Transfer</td>\n",
       "      <td>B1</td>\n",
       "      <td>N</td>\n",
       "      <td>по D</td>\n",
       "      <td>Verb</td>\n",
       "      <td>ж</td>\n",
       "      <td>FL</td>\n",
       "      <td>-</td>\n",
       "      <td>N</td>\n",
       "      <td>по</td>\n",
       "      <td>D</td>\n",
       "    </tr>\n",
       "    <tr>\n",
       "      <th>2</th>\n",
       "      <td>Miss</td>\n",
       "      <td>Constr</td>\n",
       "      <td>-</td>\n",
       "      <td>B2</td>\n",
       "      <td>N</td>\n",
       "      <td>в L</td>\n",
       "      <td>place</td>\n",
       "      <td>ж</td>\n",
       "      <td>FL</td>\n",
       "      <td>-</td>\n",
       "      <td>N</td>\n",
       "      <td>в</td>\n",
       "      <td>L</td>\n",
       "    </tr>\n",
       "  </tbody>\n",
       "</table>\n",
       "</div>"
      ],
      "text/plain": [
       "  Extra_Miss_Subst Gov_Constr Fusion_Transfer level constr_original  \\\n",
       "0             Miss        Gov               -    C1               D   \n",
       "1             Miss        Gov        Transfer    B1               N   \n",
       "2             Miss     Constr               -    B2               N   \n",
       "\n",
       "  constr_corrected constr gender language prep_orig case_orig prep_corr  \\\n",
       "0              к D   Verb      ж       FL         -         D         к   \n",
       "1             по D   Verb      ж       FL         -         N        по   \n",
       "2              в L  place      ж       FL         -         N         в   \n",
       "\n",
       "  case_corr  \n",
       "0         D  \n",
       "1         D  \n",
       "2         L  "
      ]
     },
     "execution_count": 9,
     "metadata": {},
     "output_type": "execute_result"
    }
   ],
   "source": [
    "# удаляем ненужные строки:  значения '-' в стобце 'Extra_Miss_Subst', '?' в остальных\n",
    "\n",
    "df = df[df['Extra_Miss_Subst'] != '-']\n",
    "df = df[df.constr.str.contains('\\?') == False]\n",
    "df = df.replace({'?': np.nan}).dropna()\n",
    "df = df.reset_index(drop=True)\n",
    "df.head(3)"
   ]
  },
  {
   "cell_type": "code",
   "execution_count": 10,
   "metadata": {
    "collapsed": false
   },
   "outputs": [
    {
     "data": {
      "text/plain": [
       "456"
      ]
     },
     "execution_count": 10,
     "metadata": {},
     "output_type": "execute_result"
    }
   ],
   "source": [
    "len(df)"
   ]
  },
  {
   "cell_type": "code",
   "execution_count": 11,
   "metadata": {
    "collapsed": false
   },
   "outputs": [
    {
     "name": "stdout",
     "output_type": "stream",
     "text": [
      "-               185\n",
      "на               83\n",
      "в                46\n",
      "для              29\n",
      "о                18\n",
      "с                17\n",
      "за               14\n",
      "из               11\n",
      "по               11\n",
      "от                8\n",
      "к                 8\n",
      "во время          7\n",
      "после             4\n",
      "в течение         3\n",
      "из-за             3\n",
      "около             2\n",
      "у                 2\n",
      "а                 1\n",
      "над               1\n",
      "о чем угодно      1\n",
      "до                1\n",
      "через             1\n",
      "Name: prep_orig, dtype: int64 \n",
      "\n",
      "L         121\n",
      "N          85\n",
      "G          74\n",
      "A          62\n",
      "D          26\n",
      "Adv        24\n",
      "I          21\n",
      "V          17\n",
      "-          13\n",
      "c I         4\n",
      "A anim      4\n",
      "c G         3\n",
      "o L         1\n",
      "ADV         1\n",
      "Name: case_orig, dtype: int64 \n",
      "\n",
      "в                     131\n",
      "-                     104\n",
      "на                     66\n",
      "по                     34\n",
      "о                      25\n",
      "за                     16\n",
      "от                     11\n",
      "с                      11\n",
      "из                     10\n",
      "к                      10\n",
      "для                     7\n",
      "у                       7\n",
      "в течение               6\n",
      "чтобы                   3\n",
      "благодаря               3\n",
      "во время                2\n",
      "об                      2\n",
      "про                     2\n",
      "при                     1\n",
      "над                     1\n",
      "против чего угодно      1\n",
      "до                      1\n",
      "ради                    1\n",
      "рядом с                 1\n",
      "Name: prep_corr, dtype: int64 \n",
      "\n",
      "L         127\n",
      "A         109\n",
      "G          61\n",
      "D          52\n",
      "I          37\n",
      "Adv        33\n",
      "Conj V     14\n",
      "A anim      8\n",
      "-           6\n",
      "Conj        2\n",
      "c I         2\n",
      "onj V       2\n",
      "N           1\n",
      "V Conj      1\n",
      "I Adj       1\n",
      "Name: case_corr, dtype: int64 \n",
      "\n"
     ]
    }
   ],
   "source": [
    "#\n",
    "\n",
    "for col in ['prep_orig', 'case_orig', 'prep_corr', 'case_corr']:\n",
    "    print(df[col].value_counts(), '\\n')"
   ]
  },
  {
   "cell_type": "code",
   "execution_count": 12,
   "metadata": {
    "collapsed": true
   },
   "outputs": [],
   "source": [
    "# подправляем данные\n",
    "\n",
    "df.loc[df.prep_orig == 'а', 'prep_orig'] = 'на'\n",
    "df.loc[df.case_corr == 'onj V', 'case_corr'] = 'Conj V'\n",
    "df.loc[df.case_corr == 'c I', 'prep_corr'] = 'с'\n",
    "df.case_corr = df.case_corr.str.replace('c I', 'I')\n",
    "df.loc[df.case_orig == 'c I', 'prep_orig'] = 'с'\n",
    "df.case_orig = df.case_orig.str.replace('c I', 'I')\n",
    "df.loc[df.case_orig == 'c G', 'prep_orig'] = 'с'\n",
    "df.case_orig = df.case_orig.str.replace('c G', 'G')\n",
    "df.loc[df.case_orig == 'o L', 'prep_orig'] = 'о'\n",
    "df.case_orig = df.case_orig.str.replace('o L', 'L')"
   ]
  },
  {
   "cell_type": "code",
   "execution_count": 13,
   "metadata": {
    "collapsed": true
   },
   "outputs": [],
   "source": [
    "df = df.drop(['constr_original', 'constr_corrected'], axis=1)\n",
    "df = df.replace({'?': np.nan}).dropna()\n",
    "df = df.reset_index(drop=True)"
   ]
  },
  {
   "cell_type": "code",
   "execution_count": 14,
   "metadata": {
    "collapsed": true
   },
   "outputs": [],
   "source": [
    "# удаляем строки, где нет падежа\n",
    "\n",
    "df = df[df['case_corr'] != '-']\n",
    "df = df[df['case_orig'] != '-']\n",
    "df = df[df['constr'] != 'Verb или Noun']\n",
    "df = df.reset_index(drop=True)"
   ]
  },
  {
   "cell_type": "code",
   "execution_count": 15,
   "metadata": {
    "collapsed": false
   },
   "outputs": [
    {
     "name": "stdout",
     "output_type": "stream",
     "text": [
      "Subst    187\n",
      "Miss     176\n",
      "Extra     78\n",
      "Name: Extra_Miss_Subst, dtype: int64 \n",
      "\n",
      "Gov       292\n",
      "Constr    149\n",
      "Name: Gov_Constr, dtype: int64 \n",
      "\n",
      "-           336\n",
      "Transfer     76\n",
      "Fusion       29\n",
      "Name: Fusion_Transfer, dtype: int64 \n",
      "\n",
      "A2    200\n",
      "A1     80\n",
      "B1     79\n",
      "C1     54\n",
      "B2     17\n",
      "C2     11\n",
      "Name: level, dtype: int64 \n",
      "\n",
      "Verb       208\n",
      "time        95\n",
      "Noun        80\n",
      "place       33\n",
      "purpose     17\n",
      "Adj          4\n",
      "cause        3\n",
      "Adv          1\n",
      "Name: constr, dtype: int64 \n",
      "\n",
      "ж    343\n",
      "м     98\n",
      "Name: gender, dtype: int64 \n",
      "\n",
      "FL    385\n",
      "HL     56\n",
      "Name: language, dtype: int64 \n",
      "\n",
      "-            177\n",
      "на            81\n",
      "в             45\n",
      "для           25\n",
      "с             24\n",
      "о             19\n",
      "за            14\n",
      "из            11\n",
      "по            11\n",
      "от             8\n",
      "к              8\n",
      "во время       5\n",
      "в течение      3\n",
      "из-за          3\n",
      "около          2\n",
      "у              2\n",
      "над            1\n",
      "после          1\n",
      "до             1\n",
      "Name: prep_orig, dtype: int64 \n",
      "\n",
      "L         122\n",
      "N          84\n",
      "G          77\n",
      "A          61\n",
      "D          26\n",
      "I          25\n",
      "Adv        24\n",
      "V          17\n",
      "A anim      4\n",
      "ADV         1\n",
      "Name: case_orig, dtype: int64 \n",
      "\n",
      "в            129\n",
      "-             95\n",
      "на            65\n",
      "по            34\n",
      "о             25\n",
      "за            16\n",
      "с             13\n",
      "от            11\n",
      "к             10\n",
      "из             9\n",
      "для            7\n",
      "у              7\n",
      "в течение      6\n",
      "благодаря      3\n",
      "про            2\n",
      "во время       2\n",
      "об             2\n",
      "над            1\n",
      "при            1\n",
      "до             1\n",
      "ради           1\n",
      "рядом с        1\n",
      "Name: prep_corr, dtype: int64 \n",
      "\n",
      "L         126\n",
      "A         109\n",
      "G          60\n",
      "D          52\n",
      "I          39\n",
      "Adv        28\n",
      "Conj V     16\n",
      "A anim      8\n",
      "N           1\n",
      "V Conj      1\n",
      "I Adj       1\n",
      "Name: case_corr, dtype: int64 \n",
      "\n"
     ]
    }
   ],
   "source": [
    "columns = df.columns.values\n",
    "\n",
    "for col in columns:\n",
    "    print(df[col].value_counts(), '\\n')"
   ]
  },
  {
   "cell_type": "code",
   "execution_count": null,
   "metadata": {
    "collapsed": true
   },
   "outputs": [],
   "source": []
  },
  {
   "cell_type": "markdown",
   "metadata": {},
   "source": [
    "### Сохраняем csv"
   ]
  },
  {
   "cell_type": "code",
   "execution_count": 36,
   "metadata": {
    "collapsed": true
   },
   "outputs": [],
   "source": [
    "# датафрейм без колонок с предлогами\n",
    "\n",
    "data = df[['Gov_Constr', 'Extra_Miss_Subst', 'Fusion_Transfer', 'level', \n",
    "           'constr', 'gender', 'language', 'case_orig', 'case_corr']]"
   ]
  },
  {
   "cell_type": "code",
   "execution_count": 650,
   "metadata": {
    "collapsed": true
   },
   "outputs": [],
   "source": [
    "# сохраняем в csv\n",
    "\n",
    "data.to_csv('extra_miss_subst_with_prep.csv', sep='\\t', encoding='utf-8')"
   ]
  },
  {
   "cell_type": "code",
   "execution_count": 37,
   "metadata": {
    "collapsed": false
   },
   "outputs": [
    {
     "data": {
      "text/html": [
       "<div>\n",
       "<style scoped>\n",
       "    .dataframe tbody tr th:only-of-type {\n",
       "        vertical-align: middle;\n",
       "    }\n",
       "\n",
       "    .dataframe tbody tr th {\n",
       "        vertical-align: top;\n",
       "    }\n",
       "\n",
       "    .dataframe thead th {\n",
       "        text-align: right;\n",
       "    }\n",
       "</style>\n",
       "<table border=\"1\" class=\"dataframe\">\n",
       "  <thead>\n",
       "    <tr style=\"text-align: right;\">\n",
       "      <th></th>\n",
       "      <th>Gov_Constr</th>\n",
       "      <th>Extra_Miss_Subst</th>\n",
       "      <th>Fusion_Transfer</th>\n",
       "      <th>level</th>\n",
       "      <th>constr</th>\n",
       "      <th>gender</th>\n",
       "      <th>language</th>\n",
       "      <th>case_orig</th>\n",
       "      <th>case_corr</th>\n",
       "    </tr>\n",
       "  </thead>\n",
       "  <tbody>\n",
       "    <tr>\n",
       "      <th>0</th>\n",
       "      <td>Gov</td>\n",
       "      <td>Miss</td>\n",
       "      <td>-</td>\n",
       "      <td>C1</td>\n",
       "      <td>Verb</td>\n",
       "      <td>ж</td>\n",
       "      <td>FL</td>\n",
       "      <td>D</td>\n",
       "      <td>D</td>\n",
       "    </tr>\n",
       "    <tr>\n",
       "      <th>1</th>\n",
       "      <td>Gov</td>\n",
       "      <td>Miss</td>\n",
       "      <td>Transfer</td>\n",
       "      <td>B1</td>\n",
       "      <td>Verb</td>\n",
       "      <td>ж</td>\n",
       "      <td>FL</td>\n",
       "      <td>N</td>\n",
       "      <td>D</td>\n",
       "    </tr>\n",
       "    <tr>\n",
       "      <th>2</th>\n",
       "      <td>Constr</td>\n",
       "      <td>Miss</td>\n",
       "      <td>-</td>\n",
       "      <td>B2</td>\n",
       "      <td>place</td>\n",
       "      <td>ж</td>\n",
       "      <td>FL</td>\n",
       "      <td>N</td>\n",
       "      <td>L</td>\n",
       "    </tr>\n",
       "    <tr>\n",
       "      <th>3</th>\n",
       "      <td>Gov</td>\n",
       "      <td>Miss</td>\n",
       "      <td>-</td>\n",
       "      <td>A2</td>\n",
       "      <td>Verb</td>\n",
       "      <td>ж</td>\n",
       "      <td>FL</td>\n",
       "      <td>N</td>\n",
       "      <td>I</td>\n",
       "    </tr>\n",
       "    <tr>\n",
       "      <th>4</th>\n",
       "      <td>Gov</td>\n",
       "      <td>Subst</td>\n",
       "      <td>-</td>\n",
       "      <td>A1</td>\n",
       "      <td>Noun</td>\n",
       "      <td>ж</td>\n",
       "      <td>FL</td>\n",
       "      <td>L</td>\n",
       "      <td>L</td>\n",
       "    </tr>\n",
       "  </tbody>\n",
       "</table>\n",
       "</div>"
      ],
      "text/plain": [
       "  Gov_Constr Extra_Miss_Subst Fusion_Transfer level constr gender language  \\\n",
       "0        Gov             Miss               -    C1   Verb      ж       FL   \n",
       "1        Gov             Miss        Transfer    B1   Verb      ж       FL   \n",
       "2     Constr             Miss               -    B2  place      ж       FL   \n",
       "3        Gov             Miss               -    A2   Verb      ж       FL   \n",
       "4        Gov            Subst               -    A1   Noun      ж       FL   \n",
       "\n",
       "  case_orig case_corr  \n",
       "0         D         D  \n",
       "1         N         D  \n",
       "2         N         L  \n",
       "3         N         I  \n",
       "4         L         L  "
      ]
     },
     "execution_count": 37,
     "metadata": {},
     "output_type": "execute_result"
    }
   ],
   "source": [
    "data.head()"
   ]
  },
  {
   "cell_type": "code",
   "execution_count": 626,
   "metadata": {
    "collapsed": false
   },
   "outputs": [
    {
     "name": "stderr",
     "output_type": "stream",
     "text": [
      "E:\\programs\\Anaconda3\\lib\\site-packages\\ipykernel\\__main__.py:9: SettingWithCopyWarning: \n",
      "A value is trying to be set on a copy of a slice from a DataFrame.\n",
      "Try using .loc[row_indexer,col_indexer] = value instead\n",
      "\n",
      "See the caveats in the documentation: http://pandas.pydata.org/pandas-docs/stable/indexing.html#indexing-view-versus-copy\n"
     ]
    }
   ],
   "source": [
    "from sklearn import preprocessing\n",
    "\n",
    "label_encoder = preprocessing.LabelEncoder()\n",
    "\n",
    "columns = data.columns.values\n",
    "\n",
    "for i in columns:\n",
    "    df_labeled = label_encoder.fit_transform(data[i])\n",
    "    data[i] = df_labeled"
   ]
  },
  {
   "cell_type": "code",
   "execution_count": 634,
   "metadata": {
    "collapsed": true
   },
   "outputs": [],
   "source": [
    "data.to_csv('extra_miss_subst_label_enc.csv', sep='\\t', encoding='utf-8')"
   ]
  },
  {
   "cell_type": "code",
   "execution_count": null,
   "metadata": {
    "collapsed": true
   },
   "outputs": [],
   "source": []
  },
  {
   "cell_type": "code",
   "execution_count": 556,
   "metadata": {
    "collapsed": true
   },
   "outputs": [],
   "source": [
    "# extra subst with prep\n",
    "\n",
    "\n",
    "data = df[['Gov_Constr', 'Extra_Miss_Subst', 'Fusion_Transfer', 'level', \n",
    "           'constr', 'gender', 'language', 'prep_orig', 'case_orig', 'case_corr']]\n",
    "data = data[data['Extra_Miss_Subst'] != 'Miss']\n",
    "\n",
    "data.to_csv('extra_subst.csv', sep='\\t', encoding='utf-8')"
   ]
  },
  {
   "cell_type": "code",
   "execution_count": 554,
   "metadata": {
    "collapsed": true
   },
   "outputs": [],
   "source": [
    "# miss subst with prep\n",
    "\n",
    "\n",
    "data = df[['Gov_Constr', 'Extra_Miss_Subst', 'Fusion_Transfer', 'level', \n",
    "           'constr', 'gender', 'language', 'prep_corr', 'case_orig', 'case_corr']]\n",
    "data = data[data['Extra_Miss_Subst'] != 'Extra']\n",
    "\n",
    "data.to_csv('miss_subst.csv', sep='\\t', encoding='utf-8')"
   ]
  },
  {
   "cell_type": "code",
   "execution_count": null,
   "metadata": {
    "collapsed": true
   },
   "outputs": [],
   "source": []
  },
  {
   "cell_type": "code",
   "execution_count": 592,
   "metadata": {
    "collapsed": false
   },
   "outputs": [],
   "source": [
    "# miss\n",
    "\n",
    "df['miss'] = df['Extra_Miss_Subst'].map({'Miss': 'miss', 'Extra': 'not miss', 'Subst': 'not miss'})\n",
    "data = df[['Gov_Constr', 'miss', 'Fusion_Transfer', 'level', \n",
    "           'constr', 'gender', 'language', 'case_orig', 'case_corr']]"
   ]
  },
  {
   "cell_type": "code",
   "execution_count": 594,
   "metadata": {
    "collapsed": true
   },
   "outputs": [],
   "source": [
    "# сохраняем в csv\n",
    "\n",
    "data.to_csv('miss.csv', sep='\\t', encoding='utf-8')"
   ]
  },
  {
   "cell_type": "code",
   "execution_count": null,
   "metadata": {
    "collapsed": true
   },
   "outputs": [],
   "source": []
  },
  {
   "cell_type": "code",
   "execution_count": 595,
   "metadata": {
    "collapsed": true
   },
   "outputs": [],
   "source": [
    "# subst\n",
    "\n",
    "df['subst'] = df['Extra_Miss_Subst'].map({'Miss': 'not subst', 'Extra': 'not subst', 'Subst': 'subst'})\n",
    "data = df[['Gov_Constr', 'subst', 'Fusion_Transfer', 'level', \n",
    "           'constr', 'gender', 'language', 'case_orig', 'case_corr']]"
   ]
  },
  {
   "cell_type": "code",
   "execution_count": 597,
   "metadata": {
    "collapsed": true
   },
   "outputs": [],
   "source": [
    "data.to_csv('subst.csv', sep='\\t', encoding='utf-8')"
   ]
  },
  {
   "cell_type": "markdown",
   "metadata": {},
   "source": [
    "## Графики"
   ]
  },
  {
   "cell_type": "code",
   "execution_count": 16,
   "metadata": {
    "collapsed": false
   },
   "outputs": [],
   "source": [
    "import matplotlib.pyplot as plt\n",
    "%matplotlib inline\n",
    "from sklearn.tree import DecisionTreeClassifier, export_graphviz\n",
    "from graphviz import Source\n",
    "from IPython.display import SVG\n",
    "import seaborn as sns"
   ]
  },
  {
   "cell_type": "code",
   "execution_count": 42,
   "metadata": {
    "collapsed": false
   },
   "outputs": [
    {
     "name": "stderr",
     "output_type": "stream",
     "text": [
      "/home/katya/anaconda3/lib/python3.5/site-packages/seaborn/categorical.py:1428: FutureWarning: remove_na is deprecated and is a private function. Do not use.\n",
      "  stat_data = remove_na(group_data)\n"
     ]
    },
    {
     "data": {
      "image/png": "[encoded data removed]",
      "text/plain": [
       "<matplotlib.figure.Figure at 0x7f0c3309e978>"
      ]
     },
     "metadata": {},
     "output_type": "display_data"
    }
   ],
   "source": [
    "f, ax = plt.subplots(figsize=(8, 6))\n",
    "ax = sns.countplot(x=\"Extra_Miss_Subst\", data=df)\n",
    "\n",
    "for p in ax.patches: \n",
    "    ax.annotate(str(int(p.get_height())), (p.get_x()+p.get_width()/2., p.get_height()), ha='center')"
   ]
  },
  {
   "cell_type": "code",
   "execution_count": 41,
   "metadata": {
    "collapsed": false
   },
   "outputs": [
    {
     "name": "stderr",
     "output_type": "stream",
     "text": [
      "/home/katya/anaconda3/lib/python3.5/site-packages/seaborn/categorical.py:1468: FutureWarning: remove_na is deprecated and is a private function. Do not use.\n",
      "  stat_data = remove_na(group_data[hue_mask])\n"
     ]
    },
    {
     "data": {
      "image/png": "[encoded data removed]",
      "text/plain": [
       "<matplotlib.figure.Figure at 0x7f0c3b0537b8>"
      ]
     },
     "metadata": {},
     "output_type": "display_data"
    }
   ],
   "source": [
    "f, ax = plt.subplots(figsize=(8, 6))\n",
    "ax = sns.countplot(x=\"Extra_Miss_Subst\", data=df, hue=\"Gov_Constr\")\n",
    "\n",
    "for p in ax.patches: \n",
    "    ax.annotate(str(int(p.get_height())), (p.get_x()+p.get_width()/2., p.get_height()), ha='center')"
   ]
  },
  {
   "cell_type": "code",
   "execution_count": 43,
   "metadata": {
    "collapsed": false
   },
   "outputs": [
    {
     "name": "stderr",
     "output_type": "stream",
     "text": [
      "/home/katya/anaconda3/lib/python3.5/site-packages/seaborn/categorical.py:1468: FutureWarning: remove_na is deprecated and is a private function. Do not use.\n",
      "  stat_data = remove_na(group_data[hue_mask])\n"
     ]
    },
    {
     "data": {
      "image/png": "[encoded data removed]",
      "text/plain": [
       "<matplotlib.figure.Figure at 0x7f0c32fd7470>"
      ]
     },
     "metadata": {},
     "output_type": "display_data"
    }
   ],
   "source": [
    "f, ax = plt.subplots(figsize=(8, 6))\n",
    "ax = sns.countplot(x=\"Extra_Miss_Subst\", data=df, hue=\"Fusion_Transfer\")\n",
    "\n",
    "for p in ax.patches: \n",
    "    ax.annotate(str(int(p.get_height())), (p.get_x()+p.get_width()/2., p.get_height()), ha='center')"
   ]
  },
  {
   "cell_type": "code",
   "execution_count": 17,
   "metadata": {
    "collapsed": false
   },
   "outputs": [
    {
     "name": "stderr",
     "output_type": "stream",
     "text": [
      "/home/katya/anaconda3/lib/python3.5/site-packages/seaborn/categorical.py:1468: FutureWarning: remove_na is deprecated and is a private function. Do not use.\n",
      "  stat_data = remove_na(group_data[hue_mask])\n"
     ]
    },
    {
     "ename": "ValueError",
     "evalue": "cannot convert float NaN to integer",
     "output_type": "error",
     "traceback": [
      "\u001b[0;31m---------------------------------------------------------------------------\u001b[0m",
      "\u001b[0;31mValueError\u001b[0m                                Traceback (most recent call last)",
      "\u001b[0;32m<ipython-input-17-70597e4185d9>\u001b[0m in \u001b[0;36m<module>\u001b[0;34m()\u001b[0m\n\u001b[1;32m      3\u001b[0m \u001b[0;34m\u001b[0m\u001b[0m\n\u001b[1;32m      4\u001b[0m \u001b[0;32mfor\u001b[0m \u001b[0mp\u001b[0m \u001b[0;32min\u001b[0m \u001b[0max\u001b[0m\u001b[0;34m.\u001b[0m\u001b[0mpatches\u001b[0m\u001b[0;34m:\u001b[0m\u001b[0;34m\u001b[0m\u001b[0m\n\u001b[0;32m----> 5\u001b[0;31m     \u001b[0max\u001b[0m\u001b[0;34m.\u001b[0m\u001b[0mannotate\u001b[0m\u001b[0;34m(\u001b[0m\u001b[0mstr\u001b[0m\u001b[0;34m(\u001b[0m\u001b[0mint\u001b[0m\u001b[0;34m(\u001b[0m\u001b[0mp\u001b[0m\u001b[0;34m.\u001b[0m\u001b[0mget_height\u001b[0m\u001b[0;34m(\u001b[0m\u001b[0;34m)\u001b[0m\u001b[0;34m)\u001b[0m\u001b[0;34m)\u001b[0m\u001b[0;34m,\u001b[0m \u001b[0;34m(\u001b[0m\u001b[0mp\u001b[0m\u001b[0;34m.\u001b[0m\u001b[0mget_x\u001b[0m\u001b[0;34m(\u001b[0m\u001b[0;34m)\u001b[0m\u001b[0;34m+\u001b[0m\u001b[0mp\u001b[0m\u001b[0;34m.\u001b[0m\u001b[0mget_width\u001b[0m\u001b[0;34m(\u001b[0m\u001b[0;34m)\u001b[0m\u001b[0;34m/\u001b[0m\u001b[0;36m2.\u001b[0m\u001b[0;34m,\u001b[0m \u001b[0mp\u001b[0m\u001b[0;34m.\u001b[0m\u001b[0mget_height\u001b[0m\u001b[0;34m(\u001b[0m\u001b[0;34m)\u001b[0m\u001b[0;34m)\u001b[0m\u001b[0;34m,\u001b[0m \u001b[0mha\u001b[0m\u001b[0;34m=\u001b[0m\u001b[0;34m'center'\u001b[0m\u001b[0;34m)\u001b[0m\u001b[0;34m\u001b[0m\u001b[0m\n\u001b[0m",
      "\u001b[0;31mValueError\u001b[0m: cannot convert float NaN to integer"
     ]
    },
    {
     "data": {
      "image/png": "[encoded data removed]",
      "text/plain": [
       "<matplotlib.figure.Figure at 0x7fb186547a90>"
      ]
     },
     "metadata": {},
     "output_type": "display_data"
    }
   ],
   "source": [
    "f, ax = plt.subplots(figsize=(8, 6))\n",
    "ax = sns.countplot(x=\"Extra_Miss_Subst\", data=df, hue=\"level\")\n",
    "\n",
    "for p in ax.patches: \n",
    "    ax.annotate(str(int(p.get_height())), (p.get_x()+p.get_width()/2., p.get_height()), ha='center')"
   ]
  },
  {
   "cell_type": "code",
   "execution_count": 18,
   "metadata": {
    "collapsed": false
   },
   "outputs": [
    {
     "name": "stderr",
     "output_type": "stream",
     "text": [
      "/home/katya/anaconda3/lib/python3.5/site-packages/seaborn/categorical.py:1468: FutureWarning: remove_na is deprecated and is a private function. Do not use.\n",
      "  stat_data = remove_na(group_data[hue_mask])\n"
     ]
    },
    {
     "data": {
      "image/png": "[encoded data removed]",
      "text/plain": [
       "<matplotlib.figure.Figure at 0x7fb17e01bc18>"
      ]
     },
     "metadata": {},
     "output_type": "display_data"
    }
   ],
   "source": [
    "f, ax = plt.subplots(figsize=(8, 6))\n",
    "ax = sns.countplot(x=\"Extra_Miss_Subst\", data=df, hue=\"language\")\n",
    "\n",
    "for p in ax.patches: \n",
    "    ax.annotate(str(int(p.get_height())), (p.get_x()+p.get_width()/2., p.get_height()), ha='center')"
   ]
  },
  {
   "cell_type": "code",
   "execution_count": 19,
   "metadata": {
    "collapsed": false
   },
   "outputs": [
    {
     "name": "stderr",
     "output_type": "stream",
     "text": [
      "/home/katya/anaconda3/lib/python3.5/site-packages/seaborn/categorical.py:1468: FutureWarning: remove_na is deprecated and is a private function. Do not use.\n",
      "  stat_data = remove_na(group_data[hue_mask])\n"
     ]
    },
    {
     "data": {
      "image/png": "[encoded data removed]",
      "text/plain": [
       "<matplotlib.figure.Figure at 0x7fb17df2a630>"
      ]
     },
     "metadata": {},
     "output_type": "display_data"
    }
   ],
   "source": [
    "f, ax = plt.subplots(figsize=(8, 6))\n",
    "ax = sns.countplot(x=\"Extra_Miss_Subst\", data=df, hue=\"gender\")\n",
    "\n",
    "for p in ax.patches: \n",
    "    ax.annotate(str(int(p.get_height())), (p.get_x()+p.get_width()/2., p.get_height()), ha='center')"
   ]
  },
  {
   "cell_type": "code",
   "execution_count": 44,
   "metadata": {
    "collapsed": false
   },
   "outputs": [
    {
     "name": "stderr",
     "output_type": "stream",
     "text": [
      "/home/katya/anaconda3/lib/python3.5/site-packages/seaborn/categorical.py:1468: FutureWarning: remove_na is deprecated and is a private function. Do not use.\n",
      "  stat_data = remove_na(group_data[hue_mask])\n"
     ]
    },
    {
     "ename": "ValueError",
     "evalue": "cannot convert float NaN to integer",
     "output_type": "error",
     "traceback": [
      "\u001b[0;31m---------------------------------------------------------------------------\u001b[0m",
      "\u001b[0;31mValueError\u001b[0m                                Traceback (most recent call last)",
      "\u001b[0;32m<ipython-input-44-6b56bd2105f3>\u001b[0m in \u001b[0;36m<module>\u001b[0;34m()\u001b[0m\n\u001b[1;32m      3\u001b[0m \u001b[0;34m\u001b[0m\u001b[0m\n\u001b[1;32m      4\u001b[0m \u001b[0;32mfor\u001b[0m \u001b[0mp\u001b[0m \u001b[0;32min\u001b[0m \u001b[0max\u001b[0m\u001b[0;34m.\u001b[0m\u001b[0mpatches\u001b[0m\u001b[0;34m:\u001b[0m\u001b[0;34m\u001b[0m\u001b[0m\n\u001b[0;32m----> 5\u001b[0;31m     \u001b[0max\u001b[0m\u001b[0;34m.\u001b[0m\u001b[0mannotate\u001b[0m\u001b[0;34m(\u001b[0m\u001b[0mstr\u001b[0m\u001b[0;34m(\u001b[0m\u001b[0mint\u001b[0m\u001b[0;34m(\u001b[0m\u001b[0mp\u001b[0m\u001b[0;34m.\u001b[0m\u001b[0mget_height\u001b[0m\u001b[0;34m(\u001b[0m\u001b[0;34m)\u001b[0m\u001b[0;34m)\u001b[0m\u001b[0;34m)\u001b[0m\u001b[0;34m,\u001b[0m \u001b[0;34m(\u001b[0m\u001b[0mp\u001b[0m\u001b[0;34m.\u001b[0m\u001b[0mget_x\u001b[0m\u001b[0;34m(\u001b[0m\u001b[0;34m)\u001b[0m\u001b[0;34m+\u001b[0m\u001b[0mp\u001b[0m\u001b[0;34m.\u001b[0m\u001b[0mget_width\u001b[0m\u001b[0;34m(\u001b[0m\u001b[0;34m)\u001b[0m\u001b[0;34m/\u001b[0m\u001b[0;36m2.\u001b[0m\u001b[0;34m,\u001b[0m \u001b[0mp\u001b[0m\u001b[0;34m.\u001b[0m\u001b[0mget_height\u001b[0m\u001b[0;34m(\u001b[0m\u001b[0;34m)\u001b[0m\u001b[0;34m)\u001b[0m\u001b[0;34m,\u001b[0m \u001b[0mha\u001b[0m\u001b[0;34m=\u001b[0m\u001b[0;34m'center'\u001b[0m\u001b[0;34m)\u001b[0m\u001b[0;34m\u001b[0m\u001b[0m\n\u001b[0m",
      "\u001b[0;31mValueError\u001b[0m: cannot convert float NaN to integer"
     ]
    },
    {
     "data": {
      "image/png": "[encoded data removed]",
      "text/plain": [
       "<matplotlib.figure.Figure at 0x7f0c32ec0d30>"
      ]
     },
     "metadata": {},
     "output_type": "display_data"
    }
   ],
   "source": [
    "f, ax = plt.subplots(figsize=(8, 6))\n",
    "ax = sns.countplot(x=\"Extra_Miss_Subst\", data=df, hue=\"case_orig\")\n",
    "\n",
    "for p in ax.patches: \n",
    "    ax.annotate(str(int(p.get_height())), (p.get_x()+p.get_width()/2., p.get_height()), ha='center')"
   ]
  },
  {
   "cell_type": "code",
   "execution_count": 48,
   "metadata": {
    "collapsed": false
   },
   "outputs": [
    {
     "name": "stderr",
     "output_type": "stream",
     "text": [
      "/home/katya/anaconda3/lib/python3.5/site-packages/seaborn/categorical.py:1468: FutureWarning: remove_na is deprecated and is a private function. Do not use.\n",
      "  stat_data = remove_na(group_data[hue_mask])\n"
     ]
    },
    {
     "ename": "ValueError",
     "evalue": "cannot convert float NaN to integer",
     "output_type": "error",
     "traceback": [
      "\u001b[0;31m---------------------------------------------------------------------------\u001b[0m",
      "\u001b[0;31mValueError\u001b[0m                                Traceback (most recent call last)",
      "\u001b[0;32m<ipython-input-48-770b3f9e974d>\u001b[0m in \u001b[0;36m<module>\u001b[0;34m()\u001b[0m\n\u001b[1;32m      3\u001b[0m \u001b[0;34m\u001b[0m\u001b[0m\n\u001b[1;32m      4\u001b[0m \u001b[0;32mfor\u001b[0m \u001b[0mp\u001b[0m \u001b[0;32min\u001b[0m \u001b[0max\u001b[0m\u001b[0;34m.\u001b[0m\u001b[0mpatches\u001b[0m\u001b[0;34m:\u001b[0m\u001b[0;34m\u001b[0m\u001b[0m\n\u001b[0;32m----> 5\u001b[0;31m     \u001b[0max\u001b[0m\u001b[0;34m.\u001b[0m\u001b[0mannotate\u001b[0m\u001b[0;34m(\u001b[0m\u001b[0mstr\u001b[0m\u001b[0;34m(\u001b[0m\u001b[0mint\u001b[0m\u001b[0;34m(\u001b[0m\u001b[0mp\u001b[0m\u001b[0;34m.\u001b[0m\u001b[0mget_height\u001b[0m\u001b[0;34m(\u001b[0m\u001b[0;34m)\u001b[0m\u001b[0;34m)\u001b[0m\u001b[0;34m)\u001b[0m\u001b[0;34m,\u001b[0m \u001b[0;34m(\u001b[0m\u001b[0mp\u001b[0m\u001b[0;34m.\u001b[0m\u001b[0mget_x\u001b[0m\u001b[0;34m(\u001b[0m\u001b[0;34m)\u001b[0m\u001b[0;34m+\u001b[0m\u001b[0mp\u001b[0m\u001b[0;34m.\u001b[0m\u001b[0mget_width\u001b[0m\u001b[0;34m(\u001b[0m\u001b[0;34m)\u001b[0m\u001b[0;34m/\u001b[0m\u001b[0;36m2.\u001b[0m\u001b[0;34m,\u001b[0m \u001b[0mp\u001b[0m\u001b[0;34m.\u001b[0m\u001b[0mget_height\u001b[0m\u001b[0;34m(\u001b[0m\u001b[0;34m)\u001b[0m\u001b[0;34m)\u001b[0m\u001b[0;34m,\u001b[0m \u001b[0mha\u001b[0m\u001b[0;34m=\u001b[0m\u001b[0;34m'center'\u001b[0m\u001b[0;34m)\u001b[0m\u001b[0;34m\u001b[0m\u001b[0m\n\u001b[0m",
      "\u001b[0;31mValueError\u001b[0m: cannot convert float NaN to integer"
     ]
    },
    {
     "data": {
      "image/png": "[encoded data removed]",
      "text/plain": [
       "<matplotlib.figure.Figure at 0x7f0c32ae1e48>"
      ]
     },
     "metadata": {},
     "output_type": "display_data"
    }
   ],
   "source": [
    "f, ax = plt.subplots(figsize=(8, 6))\n",
    "ax = sns.countplot(x=\"Extra_Miss_Subst\", data=df, hue=\"case_corr\")\n",
    "\n",
    "for p in ax.patches: \n",
    "    ax.annotate(str(int(p.get_height())), (p.get_x()+p.get_width()/2., p.get_height()), ha='center')"
   ]
  },
  {
   "cell_type": "code",
   "execution_count": 49,
   "metadata": {
    "collapsed": false
   },
   "outputs": [
    {
     "name": "stderr",
     "output_type": "stream",
     "text": [
      "/home/katya/anaconda3/lib/python3.5/site-packages/seaborn/categorical.py:1468: FutureWarning: remove_na is deprecated and is a private function. Do not use.\n",
      "  stat_data = remove_na(group_data[hue_mask])\n"
     ]
    },
    {
     "ename": "ValueError",
     "evalue": "cannot convert float NaN to integer",
     "output_type": "error",
     "traceback": [
      "\u001b[0;31m---------------------------------------------------------------------------\u001b[0m",
      "\u001b[0;31mValueError\u001b[0m                                Traceback (most recent call last)",
      "\u001b[0;32m<ipython-input-49-d1997c031bc9>\u001b[0m in \u001b[0;36m<module>\u001b[0;34m()\u001b[0m\n\u001b[1;32m      3\u001b[0m \u001b[0;34m\u001b[0m\u001b[0m\n\u001b[1;32m      4\u001b[0m \u001b[0;32mfor\u001b[0m \u001b[0mp\u001b[0m \u001b[0;32min\u001b[0m \u001b[0max\u001b[0m\u001b[0;34m.\u001b[0m\u001b[0mpatches\u001b[0m\u001b[0;34m:\u001b[0m\u001b[0;34m\u001b[0m\u001b[0m\n\u001b[0;32m----> 5\u001b[0;31m     \u001b[0max\u001b[0m\u001b[0;34m.\u001b[0m\u001b[0mannotate\u001b[0m\u001b[0;34m(\u001b[0m\u001b[0mstr\u001b[0m\u001b[0;34m(\u001b[0m\u001b[0mint\u001b[0m\u001b[0;34m(\u001b[0m\u001b[0mp\u001b[0m\u001b[0;34m.\u001b[0m\u001b[0mget_height\u001b[0m\u001b[0;34m(\u001b[0m\u001b[0;34m)\u001b[0m\u001b[0;34m)\u001b[0m\u001b[0;34m)\u001b[0m\u001b[0;34m,\u001b[0m \u001b[0;34m(\u001b[0m\u001b[0mp\u001b[0m\u001b[0;34m.\u001b[0m\u001b[0mget_x\u001b[0m\u001b[0;34m(\u001b[0m\u001b[0;34m)\u001b[0m\u001b[0;34m+\u001b[0m\u001b[0mp\u001b[0m\u001b[0;34m.\u001b[0m\u001b[0mget_width\u001b[0m\u001b[0;34m(\u001b[0m\u001b[0;34m)\u001b[0m\u001b[0;34m/\u001b[0m\u001b[0;36m2.\u001b[0m\u001b[0;34m,\u001b[0m \u001b[0mp\u001b[0m\u001b[0;34m.\u001b[0m\u001b[0mget_height\u001b[0m\u001b[0;34m(\u001b[0m\u001b[0;34m)\u001b[0m\u001b[0;34m)\u001b[0m\u001b[0;34m,\u001b[0m \u001b[0mha\u001b[0m\u001b[0;34m=\u001b[0m\u001b[0;34m'center'\u001b[0m\u001b[0;34m)\u001b[0m\u001b[0;34m\u001b[0m\u001b[0m\n\u001b[0m",
      "\u001b[0;31mValueError\u001b[0m: cannot convert float NaN to integer"
     ]
    },
    {
     "data": {
      "image/png": "[encoded data removed]",
      "text/plain": [
       "<matplotlib.figure.Figure at 0x7f0c32a0ec18>"
      ]
     },
     "metadata": {},
     "output_type": "display_data"
    }
   ],
   "source": [
    "f, ax = plt.subplots(figsize=(10, 8))\n",
    "ax = sns.countplot(x=\"Extra_Miss_Subst\", data=df, hue=\"prep_orig\")\n",
    "\n",
    "for p in ax.patches: \n",
    "    ax.annotate(str(int(p.get_height())), (p.get_x()+p.get_width()/2., p.get_height()), ha='center')"
   ]
  },
  {
   "cell_type": "code",
   "execution_count": 46,
   "metadata": {
    "collapsed": false
   },
   "outputs": [
    {
     "name": "stderr",
     "output_type": "stream",
     "text": [
      "/home/katya/anaconda3/lib/python3.5/site-packages/seaborn/categorical.py:1468: FutureWarning: remove_na is deprecated and is a private function. Do not use.\n",
      "  stat_data = remove_na(group_data[hue_mask])\n"
     ]
    },
    {
     "ename": "ValueError",
     "evalue": "cannot convert float NaN to integer",
     "output_type": "error",
     "traceback": [
      "\u001b[0;31m---------------------------------------------------------------------------\u001b[0m",
      "\u001b[0;31mValueError\u001b[0m                                Traceback (most recent call last)",
      "\u001b[0;32m<ipython-input-46-6a2222ec1a22>\u001b[0m in \u001b[0;36m<module>\u001b[0;34m()\u001b[0m\n\u001b[1;32m      3\u001b[0m \u001b[0;34m\u001b[0m\u001b[0m\n\u001b[1;32m      4\u001b[0m \u001b[0;32mfor\u001b[0m \u001b[0mp\u001b[0m \u001b[0;32min\u001b[0m \u001b[0max\u001b[0m\u001b[0;34m.\u001b[0m\u001b[0mpatches\u001b[0m\u001b[0;34m:\u001b[0m\u001b[0;34m\u001b[0m\u001b[0m\n\u001b[0;32m----> 5\u001b[0;31m     \u001b[0max\u001b[0m\u001b[0;34m.\u001b[0m\u001b[0mannotate\u001b[0m\u001b[0;34m(\u001b[0m\u001b[0mstr\u001b[0m\u001b[0;34m(\u001b[0m\u001b[0mint\u001b[0m\u001b[0;34m(\u001b[0m\u001b[0mp\u001b[0m\u001b[0;34m.\u001b[0m\u001b[0mget_height\u001b[0m\u001b[0;34m(\u001b[0m\u001b[0;34m)\u001b[0m\u001b[0;34m)\u001b[0m\u001b[0;34m)\u001b[0m\u001b[0;34m,\u001b[0m \u001b[0;34m(\u001b[0m\u001b[0mp\u001b[0m\u001b[0;34m.\u001b[0m\u001b[0mget_x\u001b[0m\u001b[0;34m(\u001b[0m\u001b[0;34m)\u001b[0m\u001b[0;34m+\u001b[0m\u001b[0mp\u001b[0m\u001b[0;34m.\u001b[0m\u001b[0mget_width\u001b[0m\u001b[0;34m(\u001b[0m\u001b[0;34m)\u001b[0m\u001b[0;34m/\u001b[0m\u001b[0;36m2.\u001b[0m\u001b[0;34m,\u001b[0m \u001b[0mp\u001b[0m\u001b[0;34m.\u001b[0m\u001b[0mget_height\u001b[0m\u001b[0;34m(\u001b[0m\u001b[0;34m)\u001b[0m\u001b[0;34m)\u001b[0m\u001b[0;34m,\u001b[0m \u001b[0mha\u001b[0m\u001b[0;34m=\u001b[0m\u001b[0;34m'center'\u001b[0m\u001b[0;34m)\u001b[0m\u001b[0;34m\u001b[0m\u001b[0m\n\u001b[0m",
      "\u001b[0;31mValueError\u001b[0m: cannot convert float NaN to integer"
     ]
    },
    {
     "data": {
      "image/png": "[encoded data removed]",
      "text/plain": [
       "<matplotlib.figure.Figure at 0x7f0c32baac88>"
      ]
     },
     "metadata": {},
     "output_type": "display_data"
    }
   ],
   "source": [
    "f, ax = plt.subplots(figsize=(10, 8))\n",
    "ax = sns.countplot(x=\"Extra_Miss_Subst\", data=df, hue=\"prep_corr\")\n",
    "\n",
    "for p in ax.patches: \n",
    "    ax.annotate(str(int(p.get_height())), (p.get_x()+p.get_width()/2., p.get_height()), ha='center')"
   ]
  },
  {
   "cell_type": "code",
   "execution_count": 47,
   "metadata": {
    "collapsed": false,
    "scrolled": false
   },
   "outputs": [
    {
     "name": "stderr",
     "output_type": "stream",
     "text": [
      "/home/katya/anaconda3/lib/python3.5/site-packages/seaborn/categorical.py:1468: FutureWarning: remove_na is deprecated and is a private function. Do not use.\n",
      "  stat_data = remove_na(group_data[hue_mask])\n"
     ]
    },
    {
     "ename": "ValueError",
     "evalue": "cannot convert float NaN to integer",
     "output_type": "error",
     "traceback": [
      "\u001b[0;31m---------------------------------------------------------------------------\u001b[0m",
      "\u001b[0;31mValueError\u001b[0m                                Traceback (most recent call last)",
      "\u001b[0;32m<ipython-input-47-7cf862b6ae3b>\u001b[0m in \u001b[0;36m<module>\u001b[0;34m()\u001b[0m\n\u001b[1;32m      3\u001b[0m \u001b[0;34m\u001b[0m\u001b[0m\n\u001b[1;32m      4\u001b[0m \u001b[0;32mfor\u001b[0m \u001b[0mp\u001b[0m \u001b[0;32min\u001b[0m \u001b[0max\u001b[0m\u001b[0;34m.\u001b[0m\u001b[0mpatches\u001b[0m\u001b[0;34m:\u001b[0m\u001b[0;34m\u001b[0m\u001b[0m\n\u001b[0;32m----> 5\u001b[0;31m     \u001b[0max\u001b[0m\u001b[0;34m.\u001b[0m\u001b[0mannotate\u001b[0m\u001b[0;34m(\u001b[0m\u001b[0mstr\u001b[0m\u001b[0;34m(\u001b[0m\u001b[0mint\u001b[0m\u001b[0;34m(\u001b[0m\u001b[0mp\u001b[0m\u001b[0;34m.\u001b[0m\u001b[0mget_height\u001b[0m\u001b[0;34m(\u001b[0m\u001b[0;34m)\u001b[0m\u001b[0;34m)\u001b[0m\u001b[0;34m)\u001b[0m\u001b[0;34m,\u001b[0m \u001b[0;34m(\u001b[0m\u001b[0mp\u001b[0m\u001b[0;34m.\u001b[0m\u001b[0mget_x\u001b[0m\u001b[0;34m(\u001b[0m\u001b[0;34m)\u001b[0m\u001b[0;34m+\u001b[0m\u001b[0mp\u001b[0m\u001b[0;34m.\u001b[0m\u001b[0mget_width\u001b[0m\u001b[0;34m(\u001b[0m\u001b[0;34m)\u001b[0m\u001b[0;34m/\u001b[0m\u001b[0;36m2.\u001b[0m\u001b[0;34m,\u001b[0m \u001b[0mp\u001b[0m\u001b[0;34m.\u001b[0m\u001b[0mget_height\u001b[0m\u001b[0;34m(\u001b[0m\u001b[0;34m)\u001b[0m\u001b[0;34m)\u001b[0m\u001b[0;34m,\u001b[0m \u001b[0mha\u001b[0m\u001b[0;34m=\u001b[0m\u001b[0;34m'center'\u001b[0m\u001b[0;34m)\u001b[0m\u001b[0;34m\u001b[0m\u001b[0m\n\u001b[0m",
      "\u001b[0;31mValueError\u001b[0m: cannot convert float NaN to integer"
     ]
    },
    {
     "data": {
      "image/png": "[encoded data removed]",
      "text/plain": [
       "<matplotlib.figure.Figure at 0x7f0c3310b7b8>"
      ]
     },
     "metadata": {},
     "output_type": "display_data"
    }
   ],
   "source": [
    "f, ax = plt.subplots(figsize=(8, 6))\n",
    "ax = sns.countplot(x=\"Extra_Miss_Subst\", data=df, hue=\"constr\")\n",
    "\n",
    "for p in ax.patches: \n",
    "    ax.annotate(str(int(p.get_height())), (p.get_x()+p.get_width()/2., p.get_height()), ha='center')"
   ]
  },
  {
   "cell_type": "code",
   "execution_count": null,
   "metadata": {
    "collapsed": true
   },
   "outputs": [],
   "source": []
  }
 ],
 "metadata": {
  "anaconda-cloud": {},
  "kernelspec": {
   "display_name": "Python 3",
   "language": "python",
   "name": "python3"
  },
  "language_info": {
   "codemirror_mode": {
    "name": "ipython",
    "version": 3
   },
   "file_extension": ".py",
   "mimetype": "text/x-python",
   "name": "python",
   "nbconvert_exporter": "python",
   "pygments_lexer": "ipython3",
   "version": "3.5.3"
  }
 },
 "nbformat": 4,
 "nbformat_minor": 2
}
