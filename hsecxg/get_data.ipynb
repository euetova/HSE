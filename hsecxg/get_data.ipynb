{
 "cells": [
  {
   "cell_type": "code",
   "execution_count": 1,
   "metadata": {
    "collapsed": true
   },
   "outputs": [],
   "source": [
    "import pandas as pd\n",
    "import numpy as np\n",
    "import matplotlib.pyplot as plt\n",
    "%matplotlib inline\n",
    "from collections import Counter, defaultdict\n",
    "import tqdm\n",
    "import json\n",
    "import codecs"
   ]
  },
  {
   "cell_type": "code",
   "execution_count": 2,
   "metadata": {
    "collapsed": false
   },
   "outputs": [],
   "source": [
    "# файл с информацией о документах\n",
    "\n",
    "doc = pd.read_csv('annotator_document_11.12.csv', sep='^')"
   ]
  },
  {
   "cell_type": "code",
   "execution_count": 3,
   "metadata": {
    "collapsed": true
   },
   "outputs": [],
   "source": [
    "# файл с предложениями\n",
    "\n",
    "def open_csv_sent(file):\n",
    "    f = open(file, 'r', encoding = 'utf-8')\n",
    "    s = []\n",
    "    l = f.readlines()\n",
    "    f.close()\n",
    "    for i in l:\n",
    "        i = i.replace('\"\\n', '')\n",
    "        if 'NULL' in i:\n",
    "            i = i.replace('NULL', '\"NULL\"')\n",
    "        s.append(i[1:].split('\"#\"'))\n",
    "    return s"
   ]
  },
  {
   "cell_type": "code",
   "execution_count": 4,
   "metadata": {
    "collapsed": true
   },
   "outputs": [],
   "source": [
    "# файл с ошибками\n",
    "\n",
    "def open_csv_errors(file):\n",
    "    f = open(file, 'r', encoding = 'utf-8') \n",
    "    s = []\n",
    "    l = f.readlines()\n",
    "    f.close()\n",
    "    for i in l:\n",
    "        i = i.replace('\"\\n', '')\n",
    "        i = i.replace('##', '#\"\"#')\n",
    "        i = i.replace('#\\n', '#\"')\n",
    "        if 'NULL' in i:\n",
    "            i = i.replace('NULL', '\"NULL\"')\n",
    "        istr = i[1:].split('\"#\"')\n",
    "        if len(istr) == 13:\n",
    "            istr.append('')\n",
    "        s.append(istr)\n",
    "    return s"
   ]
  },
  {
   "cell_type": "code",
   "execution_count": 5,
   "metadata": {
    "collapsed": true
   },
   "outputs": [],
   "source": [
    "sent = open_csv_sent('annotator_sentence_11.12.csv')\n",
    "annot = open_csv_errors('annotator_annotation_18.12.csv')"
   ]
  },
  {
   "cell_type": "code",
   "execution_count": 6,
   "metadata": {
    "collapsed": true
   },
   "outputs": [],
   "source": [
    "doc_fr = doc.loc[doc['native'] == 'fr',]"
   ]
  },
  {
   "cell_type": "code",
   "execution_count": 222,
   "metadata": {
    "collapsed": true
   },
   "outputs": [],
   "source": [
    "#doc_an = doc_fr.loc[doc_fr['annotated'] == 1.0,]  # часть размеченных данных не помечена как размеченные\n",
    "doc_an = doc_fr\n",
    "doc_fl = doc_an.loc[doc_an['language_background'] == 'FL']\n",
    "doc_hl = doc_an.loc[doc_an['language_background'] == 'HL']"
   ]
  },
  {
   "cell_type": "code",
   "execution_count": 223,
   "metadata": {
    "collapsed": false
   },
   "outputs": [],
   "source": [
    "# достаем нужные предложения\n",
    "\n",
    "def get_sent():\n",
    "    d_id_fl = list(doc_fl['id']) \n",
    "    d_id_hl = list(doc_hl['id']) \n",
    "    \n",
    "    sent_fl = pd.DataFrame(columns = sent[0])\n",
    "    sent_hl = pd.DataFrame(columns = sent[0])\n",
    "    k = 0\n",
    "    m = 0\n",
    "    for s in tqdm.tqdm_notebook(sent):\n",
    "        try:\n",
    "            if int(s[2]) in d_id_fl:\n",
    "                sent_fl.loc[k] = s\n",
    "                k += 1\n",
    "            elif int(s[2]) in d_id_hl:\n",
    "                sent_hl.loc[m] = s\n",
    "                m += 1\n",
    "        except:\n",
    "            print(s)\n",
    "            \n",
    "    return sent_fl, sent_hl"
   ]
  },
  {
   "cell_type": "code",
   "execution_count": 224,
   "metadata": {
    "collapsed": false
   },
   "outputs": [
    {
     "name": "stdout",
     "output_type": "stream",
     "text": [
      "['id', 'text', 'doc_id_id', 'num', 'tagged', 'correct', 'temp', 'correct2']\n",
      "['107393\"##\"6339', '1\"###\"NULL\"#\\n']\n",
      "\n"
     ]
    }
   ],
   "source": [
    "sent_fl, sent_hl = get_sent()"
   ]
  },
  {
   "cell_type": "code",
   "execution_count": 225,
   "metadata": {
    "collapsed": true
   },
   "outputs": [],
   "source": [
    "# достаем нужные ошибки\n",
    "\n",
    "def get_errors():\n",
    "    sent_id_fl = list(sent_fl['id'])\n",
    "    sent_id_hl = list(sent_hl['id'])\n",
    "    \n",
    "    errors_fl = pd.DataFrame(columns = annot[0])\n",
    "    errors_hl = pd.DataFrame(columns = annot[0])\n",
    "    k = 0\n",
    "    m = 0\n",
    "    for e in tqdm.tqdm_notebook(annot):\n",
    "        try:\n",
    "            if e[2] in sent_id_fl:\n",
    "                errors_fl.loc[k] = e\n",
    "                k += 1\n",
    "            if e[2] in sent_id_hl:\n",
    "                errors_hl.loc[m] = e\n",
    "                m += 1\n",
    "        except IndexError:\n",
    "            print(e)\n",
    "            \n",
    "    return errors_fl, errors_hl"
   ]
  },
  {
   "cell_type": "code",
   "execution_count": 226,
   "metadata": {
    "collapsed": false
   },
   "outputs": [
    {
     "name": "stdout",
     "output_type": "stream",
     "text": [
      "\n"
     ]
    }
   ],
   "source": [
    "errors_fl, errors_hl = get_errors()"
   ]
  },
  {
   "cell_type": "markdown",
   "metadata": {},
   "source": [
    "## Количество текстов"
   ]
  },
  {
   "cell_type": "code",
   "execution_count": 227,
   "metadata": {
    "collapsed": false
   },
   "outputs": [
    {
     "data": {
      "text/plain": [
       "A2    159\n",
       "A1     71\n",
       "B1     59\n",
       "B2     27\n",
       "C1      9\n",
       "Name: level, dtype: int64"
      ]
     },
     "execution_count": 227,
     "metadata": {},
     "output_type": "execute_result"
    }
   ],
   "source": [
    "doc_fl['level'].value_counts()"
   ]
  },
  {
   "cell_type": "code",
   "execution_count": 228,
   "metadata": {
    "collapsed": false
   },
   "outputs": [
    {
     "data": {
      "text/plain": [
       "C2    62\n",
       "C1    36\n",
       "B2     8\n",
       "B1     6\n",
       "Name: level, dtype: int64"
      ]
     },
     "execution_count": 228,
     "metadata": {},
     "output_type": "execute_result"
    }
   ],
   "source": [
    "doc_hl['level'].value_counts()"
   ]
  },
  {
   "cell_type": "code",
   "execution_count": null,
   "metadata": {
    "collapsed": true
   },
   "outputs": [],
   "source": []
  },
  {
   "cell_type": "markdown",
   "metadata": {
    "collapsed": true
   },
   "source": [
    "**Смотрим какие есть теги. Lex и Morph не будем брать, т.к. это ошибки разметки и их мало.**"
   ]
  },
  {
   "cell_type": "code",
   "execution_count": 229,
   "metadata": {
    "collapsed": true
   },
   "outputs": [],
   "source": [
    "def get_tags():\n",
    "    tags_fl = list(errors_fl['tag'])\n",
    "    tags_hl = list(errors_hl['tag'])\n",
    "    prep_fl = defaultdict(int)\n",
    "    prep_hl = defaultdict(int)\n",
    "    \n",
    "    for t in tags_fl:\n",
    "        if 'Prep' in t:\n",
    "            prep_fl[t] += 1\n",
    "            \n",
    "    for t in tags_hl:\n",
    "        if 'Prep' in t:\n",
    "            prep_hl[t] += 1\n",
    "\n",
    "\n",
    "    return prep_fl, prep_hl"
   ]
  },
  {
   "cell_type": "code",
   "execution_count": 230,
   "metadata": {
    "collapsed": false
   },
   "outputs": [],
   "source": [
    "prep_fl, prep_hl = get_tags()"
   ]
  },
  {
   "cell_type": "code",
   "execution_count": 231,
   "metadata": {
    "collapsed": false
   },
   "outputs": [
    {
     "data": {
      "text/plain": [
       "defaultdict(int,\n",
       "            {'Lex, Const, Prep, Miss, Transfer': 1,\n",
       "             'Lex, Constr, Prep, Extra': 1,\n",
       "             'Lex, Constr, Prep, Subst': 9,\n",
       "             'Lex, Constr, Prep, Subst, Fusion': 2,\n",
       "             'Lex, Constr, Prep, Subst, Transfer': 1,\n",
       "             'Syntax, Constr, Prep': 12,\n",
       "             'Syntax, Constr, Prep, Extra': 2,\n",
       "             'Syntax, Constr, Prep, Extra, Fusion': 2,\n",
       "             'Syntax, Constr, Prep, Extra, Transfer': 16,\n",
       "             'Syntax, Constr, Prep, Fusion': 23,\n",
       "             'Syntax, Constr, Prep, Miss': 18,\n",
       "             'Syntax, Constr, Prep, Miss, Transfer': 12,\n",
       "             'Syntax, Constr, Prep, Subst': 77,\n",
       "             'Syntax, Constr, Prep, Subst, Fusion': 2,\n",
       "             'Syntax, Constr, Prep, Subst, Transfer': 16,\n",
       "             'Syntax, Constr, Prep, Transfer': 8,\n",
       "             'Syntax, Gov, Prep': 32,\n",
       "             'Syntax, Gov, Prep, Extra': 53,\n",
       "             'Syntax, Gov, Prep, Extra, Fusion': 10,\n",
       "             'Syntax, Gov, Prep, Extra, Fusion, Transfer': 1,\n",
       "             'Syntax, Gov, Prep, Extra, Transfer': 10,\n",
       "             'Syntax, Gov, Prep, Fusion': 16,\n",
       "             'Syntax, Gov, Prep, Miss': 141,\n",
       "             'Syntax, Gov, Prep, Miss, Fusion': 3,\n",
       "             'Syntax, Gov, Prep, Miss, Transfer': 24,\n",
       "             'Syntax, Gov, Prep, Subst': 86,\n",
       "             'Syntax, Gov, Prep, Subst, Fusion': 7,\n",
       "             'Syntax, Gov, Prep, Subst, Transfer': 13})"
      ]
     },
     "execution_count": 231,
     "metadata": {},
     "output_type": "execute_result"
    }
   ],
   "source": [
    "prep_fl"
   ]
  },
  {
   "cell_type": "code",
   "execution_count": 232,
   "metadata": {
    "collapsed": false
   },
   "outputs": [
    {
     "data": {
      "text/plain": [
       "defaultdict(int,\n",
       "            {'Lex, Constr, Prep, Subst': 2,\n",
       "             'Lex, Constr, Prep, Subst, Fusion': 1,\n",
       "             'Lex, Prep': 1,\n",
       "             'Morph, Altern, Prep': 1,\n",
       "             'Syntax, Const, Prep, Transfer': 1,\n",
       "             'Syntax, Constr, Prep': 2,\n",
       "             'Syntax, Constr, Prep, Miss': 4,\n",
       "             'Syntax, Constr, Prep, Miss, Transfer': 2,\n",
       "             'Syntax, Constr, Prep, Subst': 14,\n",
       "             'Syntax, Constr, Prep, Subst, Fusion': 3,\n",
       "             'Syntax, Constr, Prep, Transfer': 1,\n",
       "             'Syntax, Gov, Prep': 1,\n",
       "             'Syntax, Gov, Prep, Extra': 7,\n",
       "             'Syntax, Gov, Prep, Extra, Fusion': 2,\n",
       "             'Syntax, Gov, Prep, Extra, Transfer': 1,\n",
       "             'Syntax, Gov, Prep, Miss': 16,\n",
       "             'Syntax, Gov, Prep, Miss, Fusion': 1,\n",
       "             'Syntax, Gov, Prep, Miss, Transfer': 3,\n",
       "             'Syntax, Gov, Prep, Subst': 3,\n",
       "             'Syntax, Gov, Prep, Subst, Fusion': 1,\n",
       "             'Syntax, Gov, Prep, Subst, Transfer': 1})"
      ]
     },
     "execution_count": 232,
     "metadata": {},
     "output_type": "execute_result"
    }
   ],
   "source": [
    "prep_hl"
   ]
  },
  {
   "cell_type": "code",
   "execution_count": null,
   "metadata": {
    "collapsed": true
   },
   "outputs": [],
   "source": []
  },
  {
   "cell_type": "code",
   "execution_count": 258,
   "metadata": {
    "collapsed": false
   },
   "outputs": [],
   "source": [
    "# таблица с информацией по тегам\n",
    "\n",
    "def take_info(df, doc, sents, errors):\n",
    "    \n",
    "    tags = list(errors['tag'])\n",
    "    \n",
    "    new_data = []\n",
    "    for i in range(len(errors)):\n",
    "        try:\n",
    "            if 'Prep' in tags[i] and 'Lex' not in tags[i] and 'Morph' not in tags[i]:\n",
    "                data = errors.data[i].replace('\\\\\", ', '\" , ')\n",
    "                data = data.replace('\\\\\\\\', '\\\\')\n",
    "                data = json.loads(codecs.decode(data, 'unicode_escape'))\n",
    "                \n",
    "                t = tags[i].split(',')\n",
    "                gc = t[1]\n",
    "                ems = t[3] if len(t) > 3 else '-'    #transfer\n",
    "                ft = t[4] if len(t) == 5 else '-'\n",
    "                \n",
    "                sf = sents.loc[sents['id'] == errors['document_id'][i],]\n",
    "                l = doc.loc[doc_an['id'] == int(sf['doc_id_id']),]\n",
    "                level = list(l['level'])[0]\n",
    "                \n",
    "                sentence = list(sf['text'])[0]\n",
    "                \n",
    "                before = data['text']\n",
    "                \n",
    "                calque = 0\n",
    "                ind_fr = data['text'].find('фр')\n",
    "                if ind_fr != -1:\n",
    "                    calque = 1\n",
    "                    data['text'] = data['text'][:ind_fr - 2]\n",
    "\n",
    "                    \n",
    "                text = data['text'].split(';')\n",
    "                if '/' in text[0]:\n",
    "                    c_orig, c_cor = text[0].split('/')\n",
    "                    if ',' in c_cor:\n",
    "                        c_cor = c_cor.split(',')[0]\n",
    "                else:\n",
    "                    c_orig, c_cor = ['?', '?']\n",
    "                constr = text[1].strip() if len(text) > 1 else '?'\n",
    "                \n",
    "                author = list(l['author'])[0]\n",
    "                genre = list(l['genre'])[0]\n",
    "                gendre = list(l['gender'])[0]\n",
    "                course = list(l['course'])[0]\n",
    "                text_type = list(l['text_type'])[0]\n",
    "                words = int(l['words'])\n",
    "                sentences = int(l['sentences'])\n",
    "                \n",
    "                new_data.append([sentence, errors['quote'][i], errors['corr'][i], gc, ems, ft, level, before,\n",
    "                                 c_orig.strip(), c_cor.strip(), constr, calque,\n",
    "                                 author, genre, gendre, course, text_type, \n",
    "                                words, sentences])\n",
    "        except ValueError:\n",
    "            print(data)\n",
    "            print(text, '\\n')\n",
    "    \n",
    "    if new_data != []:\n",
    "        for i in range(len(new_data)):\n",
    "            df.loc[i] = new_data[i]\n",
    "    return df"
   ]
  },
  {
   "cell_type": "code",
   "execution_count": 259,
   "metadata": {
    "collapsed": false
   },
   "outputs": [],
   "source": [
    "bilan_fl = pd.DataFrame(columns = ['sentence', 'original', 'corrected', 'Gov/Constr', 'Extra/Miss/Subst', 'Fusion/Transfer/-', 'level',\n",
    "                                'before', 'constr original', 'constr corrected', 'constr', 'calque',\n",
    "                                    'author', 'genre', 'gender', 'course', 'text_type', 'words', 'sentences'])\n",
    "bilan_fl = take_info(bilan_fl, doc_fl, sent_fl, errors_fl)"
   ]
  },
  {
   "cell_type": "code",
   "execution_count": 260,
   "metadata": {
    "collapsed": true
   },
   "outputs": [],
   "source": [
    "bilan_hl = pd.DataFrame(columns = ['sentence', 'original', 'corrected', 'Gov/Constr', 'Extra/Miss/Subst', 'Fusion/Transfer/-', 'level',\n",
    "                                'before', 'constr original', 'constr corrected', 'constr', 'calque',\n",
    "                                    'author', 'genre', 'gender', 'course', 'text_type', 'words', 'sentences'])\n",
    "bilan_hl = take_info(bilan_hl, doc_hl, sent_hl, errors_hl)"
   ]
  },
  {
   "cell_type": "code",
   "execution_count": 261,
   "metadata": {
    "collapsed": false
   },
   "outputs": [
    {
     "data": {
      "text/html": [
       "<div>\n",
       "<style scoped>\n",
       "    .dataframe tbody tr th:only-of-type {\n",
       "        vertical-align: middle;\n",
       "    }\n",
       "\n",
       "    .dataframe tbody tr th {\n",
       "        vertical-align: top;\n",
       "    }\n",
       "\n",
       "    .dataframe thead th {\n",
       "        text-align: right;\n",
       "    }\n",
       "</style>\n",
       "<table border=\"1\" class=\"dataframe\">\n",
       "  <thead>\n",
       "    <tr style=\"text-align: right;\">\n",
       "      <th></th>\n",
       "      <th>sentence</th>\n",
       "      <th>original</th>\n",
       "      <th>corrected</th>\n",
       "      <th>Gov/Constr</th>\n",
       "      <th>Extra/Miss/Subst</th>\n",
       "      <th>Fusion/Transfer/-</th>\n",
       "      <th>level</th>\n",
       "      <th>before</th>\n",
       "      <th>constr original</th>\n",
       "      <th>constr corrected</th>\n",
       "      <th>constr</th>\n",
       "      <th>calque</th>\n",
       "      <th>author</th>\n",
       "      <th>genre</th>\n",
       "      <th>gender</th>\n",
       "      <th>course</th>\n",
       "      <th>text_type</th>\n",
       "      <th>words</th>\n",
       "      <th>sentences</th>\n",
       "    </tr>\n",
       "  </thead>\n",
       "  <tbody>\n",
       "    <tr>\n",
       "      <th>0</th>\n",
       "      <td>Я буду в июле весь месяц.</td>\n",
       "      <td>в  июле  весь  месяц</td>\n",
       "      <td>весь июль месяц,</td>\n",
       "      <td>Constr</td>\n",
       "      <td>Extra</td>\n",
       "      <td>Transfer</td>\n",
       "      <td>B1</td>\n",
       "      <td>c фр. \"j'y serai tout le mois en juillet\"</td>\n",
       "      <td>?</td>\n",
       "      <td>?</td>\n",
       "      <td>?</td>\n",
       "      <td>1</td>\n",
       "      <td>Sophia (native bulgare)</td>\n",
       "      <td>answers</td>\n",
       "      <td>ж</td>\n",
       "      <td>NaN</td>\n",
       "      <td>NaN</td>\n",
       "      <td>153</td>\n",
       "      <td>18</td>\n",
       "    </tr>\n",
       "    <tr>\n",
       "      <th>1</th>\n",
       "      <td>Официальный язык России - русский, он принадле...</td>\n",
       "      <td>принадлежит  группе</td>\n",
       "      <td>принадлежит к группе</td>\n",
       "      <td>Gov</td>\n",
       "      <td>Miss</td>\n",
       "      <td>-</td>\n",
       "      <td>C1</td>\n",
       "      <td>D / к D; Verb</td>\n",
       "      <td>D</td>\n",
       "      <td>к D</td>\n",
       "      <td>Verb</td>\n",
       "      <td>0</td>\n",
       "      <td>Danuta (native slavic)</td>\n",
       "      <td>description</td>\n",
       "      <td>ж</td>\n",
       "      <td>NaN</td>\n",
       "      <td>NaN</td>\n",
       "      <td>165</td>\n",
       "      <td>20</td>\n",
       "    </tr>\n",
       "    <tr>\n",
       "      <th>2</th>\n",
       "      <td>В соседнем здании, радио передавало музыку и д...</td>\n",
       "      <td>радио  передавало</td>\n",
       "      <td>по радио передавали</td>\n",
       "      <td>Gov</td>\n",
       "      <td>Miss</td>\n",
       "      <td>Transfer</td>\n",
       "      <td>B1</td>\n",
       "      <td>N / по D, с фр. \"la radio diffusait\"</td>\n",
       "      <td>N</td>\n",
       "      <td>по D</td>\n",
       "      <td>?</td>\n",
       "      <td>1</td>\n",
       "      <td>Geraldine T.</td>\n",
       "      <td>other</td>\n",
       "      <td>ж</td>\n",
       "      <td>NaN</td>\n",
       "      <td>NaN</td>\n",
       "      <td>160</td>\n",
       "      <td>12</td>\n",
       "    </tr>\n",
       "    <tr>\n",
       "      <th>3</th>\n",
       "      <td>Москва – 8,4 млн. чел.</td>\n",
       "      <td>Москва</td>\n",
       "      <td>В Москве</td>\n",
       "      <td>Constr</td>\n",
       "      <td>Miss</td>\n",
       "      <td>-</td>\n",
       "      <td>B2</td>\n",
       "      <td>N / в L</td>\n",
       "      <td>N</td>\n",
       "      <td>в L</td>\n",
       "      <td>?</td>\n",
       "      <td>0</td>\n",
       "      <td>Ewelina (native polish)</td>\n",
       "      <td>description</td>\n",
       "      <td>ж</td>\n",
       "      <td>L2 Expression écrite et géographie</td>\n",
       "      <td>NaN</td>\n",
       "      <td>234</td>\n",
       "      <td>23</td>\n",
       "    </tr>\n",
       "    <tr>\n",
       "      <th>4</th>\n",
       "      <td>Волки гнают муха, они наблюдают медведь.</td>\n",
       "      <td>гнают  муха</td>\n",
       "      <td>гонятся за мухой,</td>\n",
       "      <td>Gov</td>\n",
       "      <td>Miss</td>\n",
       "      <td>-</td>\n",
       "      <td>A2</td>\n",
       "      <td>N / за I; Verb</td>\n",
       "      <td>N</td>\n",
       "      <td>за I</td>\n",
       "      <td>Verb</td>\n",
       "      <td>0</td>\n",
       "      <td>Anaïs F.</td>\n",
       "      <td>description</td>\n",
       "      <td>ж</td>\n",
       "      <td>L3 Grammaire/Traduction</td>\n",
       "      <td>NaN</td>\n",
       "      <td>81</td>\n",
       "      <td>13</td>\n",
       "    </tr>\n",
       "  </tbody>\n",
       "</table>\n",
       "</div>"
      ],
      "text/plain": [
       "                                            sentence              original  \\\n",
       "0                          Я буду в июле весь месяц.  в  июле  весь  месяц   \n",
       "1  Официальный язык России - русский, он принадле...   принадлежит  группе   \n",
       "2  В соседнем здании, радио передавало музыку и д...     радио  передавало   \n",
       "3                             Москва – 8,4 млн. чел.                Москва   \n",
       "4           Волки гнают муха, они наблюдают медведь.           гнают  муха   \n",
       "\n",
       "              corrected Gov/Constr Extra/Miss/Subst Fusion/Transfer/- level  \\\n",
       "0      весь июль месяц,     Constr            Extra          Transfer    B1   \n",
       "1  принадлежит к группе        Gov             Miss                 -    C1   \n",
       "2  по радио передавали         Gov             Miss          Transfer    B1   \n",
       "3              В Москве     Constr             Miss                 -    B2   \n",
       "4     гонятся за мухой,        Gov             Miss                 -    A2   \n",
       "\n",
       "                                      before constr original constr corrected  \\\n",
       "0  c фр. \"j'y serai tout le mois en juillet\"               ?                ?   \n",
       "1                              D / к D; Verb               D              к D   \n",
       "2       N / по D, с фр. \"la radio diffusait\"               N             по D   \n",
       "3                                    N / в L               N              в L   \n",
       "4                             N / за I; Verb               N             за I   \n",
       "\n",
       "  constr calque                   author        genre gender  \\\n",
       "0      ?      1  Sophia (native bulgare)      answers      ж   \n",
       "1   Verb      0   Danuta (native slavic)  description      ж   \n",
       "2      ?      1             Geraldine T.        other      ж   \n",
       "3      ?      0  Ewelina (native polish)  description      ж   \n",
       "4   Verb      0                 Anaïs F.  description      ж   \n",
       "\n",
       "                               course text_type words sentences  \n",
       "0                                 NaN       NaN   153        18  \n",
       "1                                 NaN       NaN   165        20  \n",
       "2                                 NaN       NaN   160        12  \n",
       "3  L2 Expression écrite et géographie       NaN   234        23  \n",
       "4             L3 Grammaire/Traduction       NaN    81        13  "
      ]
     },
     "execution_count": 261,
     "metadata": {},
     "output_type": "execute_result"
    }
   ],
   "source": [
    "bilan_fl.head()"
   ]
  },
  {
   "cell_type": "code",
   "execution_count": 262,
   "metadata": {
    "collapsed": false
   },
   "outputs": [],
   "source": [
    "# сохраняем в xlsx\n",
    "\n",
    "xlWriter = pd.ExcelWriter('constructions_2.xlsx', engine='xlsxwriter')\n",
    "workbook = xlWriter.book\n",
    "bilan_fl.to_excel(xlWriter, sheet_name='fl')\n",
    "bilan_hl.to_excel(xlWriter, sheet_name='hl')\n",
    "xlWriter.save()"
   ]
  },
  {
   "cell_type": "code",
   "execution_count": null,
   "metadata": {
    "collapsed": true
   },
   "outputs": [],
   "source": []
  }
 ],
 "metadata": {
  "anaconda-cloud": {},
  "kernelspec": {
   "display_name": "Python 3",
   "language": "python",
   "name": "python3"
  },
  "language_info": {
   "codemirror_mode": {
    "name": "ipython",
    "version": 3
   },
   "file_extension": ".py",
   "mimetype": "text/x-python",
   "name": "python",
   "nbconvert_exporter": "python",
   "pygments_lexer": "ipython3",
   "version": "3.5.3"
  },
  "widgets": {
   "state": {
    "b1c77845d1d8452eaf85276f21cdfa52": {
     "views": [
      {
       "cell_index": 8
      }
     ]
    },
    "e003a1d34137485c9dff70a2c3ad2c37": {
     "views": [
      {
       "cell_index": 10
      }
     ]
    }
   },
   "version": "1.2.0"
  }
 },
 "nbformat": 4,
 "nbformat_minor": 1
}
