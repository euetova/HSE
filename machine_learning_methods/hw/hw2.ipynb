{
 "cells": [
  {
   "cell_type": "markdown",
   "metadata": {},
   "source": [
    "# Домашнее задание 2"
   ]
  },
  {
   "cell_type": "markdown",
   "metadata": {},
   "source": [
    "**Срок сдачи:** 23 октября 2016, 23:59 <br\\>\n",
    "\n",
    "При отправлении ДЗ на почту указывайте **фамилию** в названии файла, и тему письма оформляйте в следующем формате: <br\\>\n",
    "** [Maйнор 2016] ДЗ2 **<br\\>"
   ]
  },
  {
   "cell_type": "markdown",
   "metadata": {},
   "source": [
    "Прочтите статью [\"USING\tDATA\tMINING\tTO\tPREDICT\tSECONDARY SCHOOL\tSTUDENT\tALCOHOL\tCONSUMPTION\"](https://www.dropbox.com/s/054unjn4bfo0khj/STUDENT%20ALCOHOL%20CONSUMPTION.pdf?dl=0), загрузите [датасет](https://archive.ics.uci.edu/ml/datasets/STUDENT+ALCOHOL+CONSUMPTION#) и выполните следующие задания:"
   ]
  },
  {
   "cell_type": "markdown",
   "metadata": {},
   "source": [
    "# Работа с данными (4 балла)\n",
    "- Приведите описание признаков датасета на русском языке с указанием типа данных (1 балла)\n",
    "- Предобработка данных (3)\n",
    "    - Проверьте наличие пропусков. В случае наличия пропусков заполните их медианными значениями (1)\n",
    "    - Подсчитайте количество записей, у которых признак Medu имеет значение \"4\" (1)\n",
    "    - Преобразуйте все номинальные признаки в несколько признаков с бинарным значение (1)"
   ]
  },
  {
   "cell_type": "markdown",
   "metadata": {},
   "source": [
    "## Классификация (6 баллов)\n",
    "\n",
    "### Предписания\n",
    "- Используйте accuracy как основную меру качества\n",
    "- Классы в задаче несбалансированные. Для корректной кросс-валидации используйте стратифицированный способ разбиения на фолды [Stratified K-fold](http://scikit-learn.org/stable/modules/generated/sklearn.model_selection.StratifiedKFold.html#sklearn.model_selection.StratifiedKFold)"
   ]
  },
  {
   "cell_type": "markdown",
   "metadata": {},
   "source": [
    "### Задание\n",
    "1. Задайте RANDOM_SEED и случайным образом разделите выборку на обучающую и контрольную в пропорции 80/20. Этот же RANDOM_SEED используйте при кросс-валидации (0.5 балла)\n",
    "2. Random Forest (2 балла)\n",
    "    - В статье описано использование Random Forest для предсказания важности фактором вляющих на потребление алкоголя.\n",
    "    - Повторите эксперимент с использованием [RandomForest](http://scikit-learn.org/stable/modules/generated/sklearn.ensemble.RandomForestClassifier.html#sklearn.ensemble.RandomForestClassifier) и найдите наилучшие параметры с помощью кросс-валидации. (1 балл)\n",
    "    - Изобразите аналогичную таблицу важности признаков для наилучшей настройки метода (значения могут отличаться). (0.5 балла)\n",
    "    - Укажите значение accuracy для пяти наилучших настроек метода на контрольной выборке. (0.5 балла)\n",
    "\n",
    "3. GradientBoosting (2 балла)\n",
    "    - Обучите [GradientBoostingClassifier](http://scikit-learn.org/stable/modules/generated/sklearn.ensemble.GradientBoostingClassifier.html#sklearn.ensemble.GradientBoostingClassifier)  и найдите для него наилучшие параметры с помощью кросс-валидации. (0.5 балла)\n",
    "    - Изобразите таблицу важности признаков для наилучшей настройки метода. Отличается ли она от таблицы метода RandomForest. Почему? (1 балл)\n",
    "    - Укажите значение accuracy для пяти наилучших настроек метода. (0.5 балла)\n",
    "\n",
    "4. AdaBoost (1 балл)\n",
    "    - Обучите [AdaBoostClassifier](http://scikit-learn.org/stable/modules/generated/sklearn.ensemble.AdaBoostClassifier.html) и найдите для него наилучшие параметры с помощью кросс-валидации. (0.5 балла)\n",
    "    - Укажите значение accuracy для наилучших настроек метода. (0.5 балла)\n",
    "\n",
    "5. Какой из классификаторов оказался лучше? (0.5 балла)"
   ]
  },
  {
   "cell_type": "markdown",
   "metadata": {},
   "source": [
    "### Замечания\n",
    "\n",
    "- В работе следует использовать библиотеку scikit-learn версии 0.18 и scipy версии 0.18.1\n",
    "- Используйте данный Ipython Notebook при оформлении домашнего задания."
   ]
  }
 ],
 "metadata": {
  "kernelspec": {
   "display_name": "Python 3",
   "language": "python",
   "name": "python3"
  },
  "language_info": {
   "codemirror_mode": {
    "name": "ipython",
    "version": 3
   },
   "file_extension": ".py",
   "mimetype": "text/x-python",
   "name": "python",
   "nbconvert_exporter": "python",
   "pygments_lexer": "ipython3",
   "version": "3.5.1"
  }
 },
 "nbformat": 4,
 "nbformat_minor": 0
}
