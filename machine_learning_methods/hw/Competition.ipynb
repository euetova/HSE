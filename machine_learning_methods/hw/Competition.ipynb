{
 "cells": [
  {
   "cell_type": "code",
   "execution_count": 1,
   "metadata": {
    "collapsed": false
   },
   "outputs": [
    {
     "name": "stdout",
     "output_type": "stream",
     "text": [
      "Using matplotlib backend: TkAgg\n"
     ]
    }
   ],
   "source": [
    "import pandas as pd\n",
    "import numpy as np\n",
    "import matplotlib.pyplot as plt\n",
    "plt.style.use('ggplot')\n",
    "%matplotlib \n",
    "\n",
    "test_data = pd.read_csv('test_data.csv')\n",
    "train_data = pd.read_csv('train_data.csv')\n",
    "train_target = np.loadtxt('train_target.csv')"
   ]
  },
  {
   "cell_type": "code",
   "execution_count": 2,
   "metadata": {
    "collapsed": true
   },
   "outputs": [],
   "source": [
    "from sklearn.metrics import accuracy_score"
   ]
  },
  {
   "cell_type": "code",
   "execution_count": 3,
   "metadata": {
    "collapsed": true
   },
   "outputs": [],
   "source": [
    "test_data = test_data.drop(['Unnamed: 0'], axis=1)"
   ]
  },
  {
   "cell_type": "code",
   "execution_count": 4,
   "metadata": {
    "collapsed": false
   },
   "outputs": [
    {
     "name": "stdout",
     "output_type": "stream",
     "text": [
      "['job', 'marital', 'education', 'default', 'housing', 'loan', 'contact', 'month', 'day_of_week', 'poutcome'] \n",
      "\n",
      "['age', 'duration', 'campaign', 'pdays', 'previous', 'emp.var.rate', 'cons.price.idx', 'cons.conf.idx', 'euribor3m', 'nr.employed']\n"
     ]
    }
   ],
   "source": [
    "# выделим числовые и категориальные признаки\n",
    "\n",
    "categorical = [c for c in train_data.columns if train_data[c].dtype.name == 'object']\n",
    "numerical = [c for c in train_data.columns if train_data[c].dtype.name != 'object']\n",
    "\n",
    "print (categorical, '\\n')\n",
    "print (numerical)"
   ]
  },
  {
   "cell_type": "code",
   "execution_count": 5,
   "metadata": {
    "collapsed": false
   },
   "outputs": [
    {
     "data": {
      "text/html": [
       "<div>\n",
       "<table border=\"1\" class=\"dataframe\">\n",
       "  <thead>\n",
       "    <tr style=\"text-align: right;\">\n",
       "      <th></th>\n",
       "      <th>job</th>\n",
       "      <th>marital</th>\n",
       "      <th>education</th>\n",
       "      <th>default</th>\n",
       "      <th>housing</th>\n",
       "      <th>loan</th>\n",
       "      <th>contact</th>\n",
       "      <th>month</th>\n",
       "      <th>day_of_week</th>\n",
       "      <th>poutcome</th>\n",
       "    </tr>\n",
       "  </thead>\n",
       "  <tbody>\n",
       "    <tr>\n",
       "      <th>count</th>\n",
       "      <td>27595</td>\n",
       "      <td>27595</td>\n",
       "      <td>27595</td>\n",
       "      <td>27595</td>\n",
       "      <td>27595</td>\n",
       "      <td>27595</td>\n",
       "      <td>27595</td>\n",
       "      <td>27595</td>\n",
       "      <td>27595</td>\n",
       "      <td>27595</td>\n",
       "    </tr>\n",
       "    <tr>\n",
       "      <th>unique</th>\n",
       "      <td>12</td>\n",
       "      <td>4</td>\n",
       "      <td>8</td>\n",
       "      <td>3</td>\n",
       "      <td>3</td>\n",
       "      <td>3</td>\n",
       "      <td>2</td>\n",
       "      <td>10</td>\n",
       "      <td>5</td>\n",
       "      <td>3</td>\n",
       "    </tr>\n",
       "    <tr>\n",
       "      <th>top</th>\n",
       "      <td>admin.</td>\n",
       "      <td>married</td>\n",
       "      <td>university.degree</td>\n",
       "      <td>no</td>\n",
       "      <td>yes</td>\n",
       "      <td>no</td>\n",
       "      <td>cellular</td>\n",
       "      <td>may</td>\n",
       "      <td>thu</td>\n",
       "      <td>nonexistent</td>\n",
       "    </tr>\n",
       "    <tr>\n",
       "      <th>freq</th>\n",
       "      <td>6996</td>\n",
       "      <td>16692</td>\n",
       "      <td>8128</td>\n",
       "      <td>21800</td>\n",
       "      <td>14375</td>\n",
       "      <td>22763</td>\n",
       "      <td>17499</td>\n",
       "      <td>9126</td>\n",
       "      <td>5825</td>\n",
       "      <td>23842</td>\n",
       "    </tr>\n",
       "  </tbody>\n",
       "</table>\n",
       "</div>"
      ],
      "text/plain": [
       "           job  marital          education default housing   loan   contact  \\\n",
       "count    27595    27595              27595   27595   27595  27595     27595   \n",
       "unique      12        4                  8       3       3      3         2   \n",
       "top     admin.  married  university.degree      no     yes     no  cellular   \n",
       "freq      6996    16692               8128   21800   14375  22763     17499   \n",
       "\n",
       "        month day_of_week     poutcome  \n",
       "count   27595       27595        27595  \n",
       "unique     10           5            3  \n",
       "top       may         thu  nonexistent  \n",
       "freq     9126        5825        23842  "
      ]
     },
     "execution_count": 5,
     "metadata": {},
     "output_type": "execute_result"
    }
   ],
   "source": [
    "# описание категориальных признаков\n",
    "\n",
    "train_data[categorical].describe()"
   ]
  },
  {
   "cell_type": "code",
   "execution_count": 6,
   "metadata": {
    "collapsed": false
   },
   "outputs": [
    {
     "data": {
      "text/html": [
       "<div>\n",
       "<table border=\"1\" class=\"dataframe\">\n",
       "  <thead>\n",
       "    <tr style=\"text-align: right;\">\n",
       "      <th></th>\n",
       "      <th>age</th>\n",
       "      <th>duration</th>\n",
       "      <th>campaign</th>\n",
       "      <th>pdays</th>\n",
       "      <th>previous</th>\n",
       "      <th>emp.var.rate</th>\n",
       "      <th>cons.price.idx</th>\n",
       "      <th>cons.conf.idx</th>\n",
       "      <th>euribor3m</th>\n",
       "      <th>nr.employed</th>\n",
       "    </tr>\n",
       "  </thead>\n",
       "  <tbody>\n",
       "    <tr>\n",
       "      <th>count</th>\n",
       "      <td>27595.000000</td>\n",
       "      <td>27595.000000</td>\n",
       "      <td>27595.000000</td>\n",
       "      <td>27595.000000</td>\n",
       "      <td>27595.000000</td>\n",
       "      <td>27595.000000</td>\n",
       "      <td>27595.000000</td>\n",
       "      <td>27595.000000</td>\n",
       "      <td>27595.000000</td>\n",
       "      <td>27595.00000</td>\n",
       "    </tr>\n",
       "    <tr>\n",
       "      <th>mean</th>\n",
       "      <td>40.085994</td>\n",
       "      <td>258.874542</td>\n",
       "      <td>2.568328</td>\n",
       "      <td>962.693169</td>\n",
       "      <td>0.172024</td>\n",
       "      <td>0.087211</td>\n",
       "      <td>93.577443</td>\n",
       "      <td>-40.503026</td>\n",
       "      <td>3.628844</td>\n",
       "      <td>5167.31696</td>\n",
       "    </tr>\n",
       "    <tr>\n",
       "      <th>std</th>\n",
       "      <td>10.480548</td>\n",
       "      <td>260.511236</td>\n",
       "      <td>2.765561</td>\n",
       "      <td>186.371948</td>\n",
       "      <td>0.492548</td>\n",
       "      <td>1.567343</td>\n",
       "      <td>0.578193</td>\n",
       "      <td>4.616641</td>\n",
       "      <td>1.730084</td>\n",
       "      <td>72.22960</td>\n",
       "    </tr>\n",
       "    <tr>\n",
       "      <th>min</th>\n",
       "      <td>17.000000</td>\n",
       "      <td>0.000000</td>\n",
       "      <td>1.000000</td>\n",
       "      <td>0.000000</td>\n",
       "      <td>0.000000</td>\n",
       "      <td>-3.400000</td>\n",
       "      <td>92.201000</td>\n",
       "      <td>-50.800000</td>\n",
       "      <td>0.634000</td>\n",
       "      <td>4963.60000</td>\n",
       "    </tr>\n",
       "    <tr>\n",
       "      <th>25%</th>\n",
       "      <td>32.000000</td>\n",
       "      <td>101.000000</td>\n",
       "      <td>1.000000</td>\n",
       "      <td>999.000000</td>\n",
       "      <td>0.000000</td>\n",
       "      <td>-1.800000</td>\n",
       "      <td>93.075000</td>\n",
       "      <td>-42.700000</td>\n",
       "      <td>1.344000</td>\n",
       "      <td>5099.10000</td>\n",
       "    </tr>\n",
       "    <tr>\n",
       "      <th>50%</th>\n",
       "      <td>38.000000</td>\n",
       "      <td>179.000000</td>\n",
       "      <td>2.000000</td>\n",
       "      <td>999.000000</td>\n",
       "      <td>0.000000</td>\n",
       "      <td>1.100000</td>\n",
       "      <td>93.749000</td>\n",
       "      <td>-41.800000</td>\n",
       "      <td>4.857000</td>\n",
       "      <td>5191.00000</td>\n",
       "    </tr>\n",
       "    <tr>\n",
       "      <th>75%</th>\n",
       "      <td>47.000000</td>\n",
       "      <td>320.000000</td>\n",
       "      <td>3.000000</td>\n",
       "      <td>999.000000</td>\n",
       "      <td>0.000000</td>\n",
       "      <td>1.400000</td>\n",
       "      <td>93.994000</td>\n",
       "      <td>-36.400000</td>\n",
       "      <td>4.961000</td>\n",
       "      <td>5228.10000</td>\n",
       "    </tr>\n",
       "    <tr>\n",
       "      <th>max</th>\n",
       "      <td>94.000000</td>\n",
       "      <td>4199.000000</td>\n",
       "      <td>43.000000</td>\n",
       "      <td>999.000000</td>\n",
       "      <td>7.000000</td>\n",
       "      <td>1.400000</td>\n",
       "      <td>94.767000</td>\n",
       "      <td>-26.900000</td>\n",
       "      <td>5.045000</td>\n",
       "      <td>5228.10000</td>\n",
       "    </tr>\n",
       "  </tbody>\n",
       "</table>\n",
       "</div>"
      ],
      "text/plain": [
       "                age      duration      campaign         pdays      previous  \\\n",
       "count  27595.000000  27595.000000  27595.000000  27595.000000  27595.000000   \n",
       "mean      40.085994    258.874542      2.568328    962.693169      0.172024   \n",
       "std       10.480548    260.511236      2.765561    186.371948      0.492548   \n",
       "min       17.000000      0.000000      1.000000      0.000000      0.000000   \n",
       "25%       32.000000    101.000000      1.000000    999.000000      0.000000   \n",
       "50%       38.000000    179.000000      2.000000    999.000000      0.000000   \n",
       "75%       47.000000    320.000000      3.000000    999.000000      0.000000   \n",
       "max       94.000000   4199.000000     43.000000    999.000000      7.000000   \n",
       "\n",
       "       emp.var.rate  cons.price.idx  cons.conf.idx     euribor3m  nr.employed  \n",
       "count  27595.000000    27595.000000   27595.000000  27595.000000  27595.00000  \n",
       "mean       0.087211       93.577443     -40.503026      3.628844   5167.31696  \n",
       "std        1.567343        0.578193       4.616641      1.730084     72.22960  \n",
       "min       -3.400000       92.201000     -50.800000      0.634000   4963.60000  \n",
       "25%       -1.800000       93.075000     -42.700000      1.344000   5099.10000  \n",
       "50%        1.100000       93.749000     -41.800000      4.857000   5191.00000  \n",
       "75%        1.400000       93.994000     -36.400000      4.961000   5228.10000  \n",
       "max        1.400000       94.767000     -26.900000      5.045000   5228.10000  "
      ]
     },
     "execution_count": 6,
     "metadata": {},
     "output_type": "execute_result"
    }
   ],
   "source": [
    "# описание числовых признаков\n",
    "\n",
    "train_data.describe()"
   ]
  },
  {
   "cell_type": "code",
   "execution_count": 7,
   "metadata": {
    "collapsed": false
   },
   "outputs": [
    {
     "data": {
      "text/html": [
       "<div>\n",
       "<table border=\"1\" class=\"dataframe\">\n",
       "  <thead>\n",
       "    <tr style=\"text-align: right;\">\n",
       "      <th></th>\n",
       "      <th>age</th>\n",
       "      <th>duration</th>\n",
       "      <th>campaign</th>\n",
       "      <th>pdays</th>\n",
       "      <th>previous</th>\n",
       "      <th>emp.var.rate</th>\n",
       "      <th>cons.price.idx</th>\n",
       "      <th>cons.conf.idx</th>\n",
       "      <th>euribor3m</th>\n",
       "      <th>nr.employed</th>\n",
       "    </tr>\n",
       "  </thead>\n",
       "  <tbody>\n",
       "    <tr>\n",
       "      <th>age</th>\n",
       "      <td>1.000000</td>\n",
       "      <td>0.001599</td>\n",
       "      <td>0.003293</td>\n",
       "      <td>-0.033785</td>\n",
       "      <td>0.028606</td>\n",
       "      <td>-0.008147</td>\n",
       "      <td>-0.003434</td>\n",
       "      <td>0.127855</td>\n",
       "      <td>0.002453</td>\n",
       "      <td>-0.027026</td>\n",
       "    </tr>\n",
       "    <tr>\n",
       "      <th>duration</th>\n",
       "      <td>0.001599</td>\n",
       "      <td>1.000000</td>\n",
       "      <td>-0.075007</td>\n",
       "      <td>-0.044087</td>\n",
       "      <td>0.020867</td>\n",
       "      <td>-0.034308</td>\n",
       "      <td>0.001166</td>\n",
       "      <td>-0.012445</td>\n",
       "      <td>-0.039330</td>\n",
       "      <td>-0.049034</td>\n",
       "    </tr>\n",
       "    <tr>\n",
       "      <th>campaign</th>\n",
       "      <td>0.003293</td>\n",
       "      <td>-0.075007</td>\n",
       "      <td>1.000000</td>\n",
       "      <td>0.054159</td>\n",
       "      <td>-0.081778</td>\n",
       "      <td>0.152108</td>\n",
       "      <td>0.129243</td>\n",
       "      <td>-0.014175</td>\n",
       "      <td>0.136463</td>\n",
       "      <td>0.144706</td>\n",
       "    </tr>\n",
       "    <tr>\n",
       "      <th>pdays</th>\n",
       "      <td>-0.033785</td>\n",
       "      <td>-0.044087</td>\n",
       "      <td>0.054159</td>\n",
       "      <td>1.000000</td>\n",
       "      <td>-0.586289</td>\n",
       "      <td>0.268983</td>\n",
       "      <td>0.077936</td>\n",
       "      <td>-0.087054</td>\n",
       "      <td>0.295745</td>\n",
       "      <td>0.370658</td>\n",
       "    </tr>\n",
       "    <tr>\n",
       "      <th>previous</th>\n",
       "      <td>0.028606</td>\n",
       "      <td>0.020867</td>\n",
       "      <td>-0.081778</td>\n",
       "      <td>-0.586289</td>\n",
       "      <td>1.000000</td>\n",
       "      <td>-0.422226</td>\n",
       "      <td>-0.203558</td>\n",
       "      <td>-0.049921</td>\n",
       "      <td>-0.457293</td>\n",
       "      <td>-0.503885</td>\n",
       "    </tr>\n",
       "    <tr>\n",
       "      <th>emp.var.rate</th>\n",
       "      <td>-0.008147</td>\n",
       "      <td>-0.034308</td>\n",
       "      <td>0.152108</td>\n",
       "      <td>0.268983</td>\n",
       "      <td>-0.422226</td>\n",
       "      <td>1.000000</td>\n",
       "      <td>0.773356</td>\n",
       "      <td>0.197029</td>\n",
       "      <td>0.971966</td>\n",
       "      <td>0.906407</td>\n",
       "    </tr>\n",
       "    <tr>\n",
       "      <th>cons.price.idx</th>\n",
       "      <td>-0.003434</td>\n",
       "      <td>0.001166</td>\n",
       "      <td>0.129243</td>\n",
       "      <td>0.077936</td>\n",
       "      <td>-0.203558</td>\n",
       "      <td>0.773356</td>\n",
       "      <td>1.000000</td>\n",
       "      <td>0.058647</td>\n",
       "      <td>0.685298</td>\n",
       "      <td>0.519069</td>\n",
       "    </tr>\n",
       "    <tr>\n",
       "      <th>cons.conf.idx</th>\n",
       "      <td>0.127855</td>\n",
       "      <td>-0.012445</td>\n",
       "      <td>-0.014175</td>\n",
       "      <td>-0.087054</td>\n",
       "      <td>-0.049921</td>\n",
       "      <td>0.197029</td>\n",
       "      <td>0.058647</td>\n",
       "      <td>1.000000</td>\n",
       "      <td>0.277765</td>\n",
       "      <td>0.100704</td>\n",
       "    </tr>\n",
       "    <tr>\n",
       "      <th>euribor3m</th>\n",
       "      <td>0.002453</td>\n",
       "      <td>-0.039330</td>\n",
       "      <td>0.136463</td>\n",
       "      <td>0.295745</td>\n",
       "      <td>-0.457293</td>\n",
       "      <td>0.971966</td>\n",
       "      <td>0.685298</td>\n",
       "      <td>0.277765</td>\n",
       "      <td>1.000000</td>\n",
       "      <td>0.945204</td>\n",
       "    </tr>\n",
       "    <tr>\n",
       "      <th>nr.employed</th>\n",
       "      <td>-0.027026</td>\n",
       "      <td>-0.049034</td>\n",
       "      <td>0.144706</td>\n",
       "      <td>0.370658</td>\n",
       "      <td>-0.503885</td>\n",
       "      <td>0.906407</td>\n",
       "      <td>0.519069</td>\n",
       "      <td>0.100704</td>\n",
       "      <td>0.945204</td>\n",
       "      <td>1.000000</td>\n",
       "    </tr>\n",
       "  </tbody>\n",
       "</table>\n",
       "</div>"
      ],
      "text/plain": [
       "                     age  duration  campaign     pdays  previous  \\\n",
       "age             1.000000  0.001599  0.003293 -0.033785  0.028606   \n",
       "duration        0.001599  1.000000 -0.075007 -0.044087  0.020867   \n",
       "campaign        0.003293 -0.075007  1.000000  0.054159 -0.081778   \n",
       "pdays          -0.033785 -0.044087  0.054159  1.000000 -0.586289   \n",
       "previous        0.028606  0.020867 -0.081778 -0.586289  1.000000   \n",
       "emp.var.rate   -0.008147 -0.034308  0.152108  0.268983 -0.422226   \n",
       "cons.price.idx -0.003434  0.001166  0.129243  0.077936 -0.203558   \n",
       "cons.conf.idx   0.127855 -0.012445 -0.014175 -0.087054 -0.049921   \n",
       "euribor3m       0.002453 -0.039330  0.136463  0.295745 -0.457293   \n",
       "nr.employed    -0.027026 -0.049034  0.144706  0.370658 -0.503885   \n",
       "\n",
       "                emp.var.rate  cons.price.idx  cons.conf.idx  euribor3m  \\\n",
       "age                -0.008147       -0.003434       0.127855   0.002453   \n",
       "duration           -0.034308        0.001166      -0.012445  -0.039330   \n",
       "campaign            0.152108        0.129243      -0.014175   0.136463   \n",
       "pdays               0.268983        0.077936      -0.087054   0.295745   \n",
       "previous           -0.422226       -0.203558      -0.049921  -0.457293   \n",
       "emp.var.rate        1.000000        0.773356       0.197029   0.971966   \n",
       "cons.price.idx      0.773356        1.000000       0.058647   0.685298   \n",
       "cons.conf.idx       0.197029        0.058647       1.000000   0.277765   \n",
       "euribor3m           0.971966        0.685298       0.277765   1.000000   \n",
       "nr.employed         0.906407        0.519069       0.100704   0.945204   \n",
       "\n",
       "                nr.employed  \n",
       "age               -0.027026  \n",
       "duration          -0.049034  \n",
       "campaign           0.144706  \n",
       "pdays              0.370658  \n",
       "previous          -0.503885  \n",
       "emp.var.rate       0.906407  \n",
       "cons.price.idx     0.519069  \n",
       "cons.conf.idx      0.100704  \n",
       "euribor3m          0.945204  \n",
       "nr.employed        1.000000  "
      ]
     },
     "execution_count": 7,
     "metadata": {},
     "output_type": "execute_result"
    }
   ],
   "source": [
    "train_data.corr()"
   ]
  },
  {
   "cell_type": "code",
   "execution_count": 8,
   "metadata": {
    "collapsed": false
   },
   "outputs": [
    {
     "data": {
      "text/html": [
       "<div>\n",
       "<table border=\"1\" class=\"dataframe\">\n",
       "  <thead>\n",
       "    <tr style=\"text-align: right;\">\n",
       "      <th></th>\n",
       "      <th>age</th>\n",
       "      <th>duration</th>\n",
       "      <th>campaign</th>\n",
       "      <th>pdays</th>\n",
       "      <th>previous</th>\n",
       "      <th>emp.var.rate</th>\n",
       "      <th>cons.price.idx</th>\n",
       "      <th>cons.conf.idx</th>\n",
       "      <th>euribor3m</th>\n",
       "      <th>nr.employed</th>\n",
       "      <th>target</th>\n",
       "    </tr>\n",
       "  </thead>\n",
       "  <tbody>\n",
       "    <tr>\n",
       "      <th>age</th>\n",
       "      <td>1.000000</td>\n",
       "      <td>0.001599</td>\n",
       "      <td>0.003293</td>\n",
       "      <td>-0.033785</td>\n",
       "      <td>0.028606</td>\n",
       "      <td>-0.008147</td>\n",
       "      <td>-0.003434</td>\n",
       "      <td>0.127855</td>\n",
       "      <td>0.002453</td>\n",
       "      <td>-0.027026</td>\n",
       "      <td>0.032164</td>\n",
       "    </tr>\n",
       "    <tr>\n",
       "      <th>duration</th>\n",
       "      <td>0.001599</td>\n",
       "      <td>1.000000</td>\n",
       "      <td>-0.075007</td>\n",
       "      <td>-0.044087</td>\n",
       "      <td>0.020867</td>\n",
       "      <td>-0.034308</td>\n",
       "      <td>0.001166</td>\n",
       "      <td>-0.012445</td>\n",
       "      <td>-0.039330</td>\n",
       "      <td>-0.049034</td>\n",
       "      <td>0.408124</td>\n",
       "    </tr>\n",
       "    <tr>\n",
       "      <th>campaign</th>\n",
       "      <td>0.003293</td>\n",
       "      <td>-0.075007</td>\n",
       "      <td>1.000000</td>\n",
       "      <td>0.054159</td>\n",
       "      <td>-0.081778</td>\n",
       "      <td>0.152108</td>\n",
       "      <td>0.129243</td>\n",
       "      <td>-0.014175</td>\n",
       "      <td>0.136463</td>\n",
       "      <td>0.144706</td>\n",
       "      <td>-0.071472</td>\n",
       "    </tr>\n",
       "    <tr>\n",
       "      <th>pdays</th>\n",
       "      <td>-0.033785</td>\n",
       "      <td>-0.044087</td>\n",
       "      <td>0.054159</td>\n",
       "      <td>1.000000</td>\n",
       "      <td>-0.586289</td>\n",
       "      <td>0.268983</td>\n",
       "      <td>0.077936</td>\n",
       "      <td>-0.087054</td>\n",
       "      <td>0.295745</td>\n",
       "      <td>0.370658</td>\n",
       "      <td>-0.326604</td>\n",
       "    </tr>\n",
       "    <tr>\n",
       "      <th>previous</th>\n",
       "      <td>0.028606</td>\n",
       "      <td>0.020867</td>\n",
       "      <td>-0.081778</td>\n",
       "      <td>-0.586289</td>\n",
       "      <td>1.000000</td>\n",
       "      <td>-0.422226</td>\n",
       "      <td>-0.203558</td>\n",
       "      <td>-0.049921</td>\n",
       "      <td>-0.457293</td>\n",
       "      <td>-0.503885</td>\n",
       "      <td>0.233072</td>\n",
       "    </tr>\n",
       "    <tr>\n",
       "      <th>emp.var.rate</th>\n",
       "      <td>-0.008147</td>\n",
       "      <td>-0.034308</td>\n",
       "      <td>0.152108</td>\n",
       "      <td>0.268983</td>\n",
       "      <td>-0.422226</td>\n",
       "      <td>1.000000</td>\n",
       "      <td>0.773356</td>\n",
       "      <td>0.197029</td>\n",
       "      <td>0.971966</td>\n",
       "      <td>0.906407</td>\n",
       "      <td>-0.299526</td>\n",
       "    </tr>\n",
       "    <tr>\n",
       "      <th>cons.price.idx</th>\n",
       "      <td>-0.003434</td>\n",
       "      <td>0.001166</td>\n",
       "      <td>0.129243</td>\n",
       "      <td>0.077936</td>\n",
       "      <td>-0.203558</td>\n",
       "      <td>0.773356</td>\n",
       "      <td>1.000000</td>\n",
       "      <td>0.058647</td>\n",
       "      <td>0.685298</td>\n",
       "      <td>0.519069</td>\n",
       "      <td>-0.136918</td>\n",
       "    </tr>\n",
       "    <tr>\n",
       "      <th>cons.conf.idx</th>\n",
       "      <td>0.127855</td>\n",
       "      <td>-0.012445</td>\n",
       "      <td>-0.014175</td>\n",
       "      <td>-0.087054</td>\n",
       "      <td>-0.049921</td>\n",
       "      <td>0.197029</td>\n",
       "      <td>0.058647</td>\n",
       "      <td>1.000000</td>\n",
       "      <td>0.277765</td>\n",
       "      <td>0.100704</td>\n",
       "      <td>0.051229</td>\n",
       "    </tr>\n",
       "    <tr>\n",
       "      <th>euribor3m</th>\n",
       "      <td>0.002453</td>\n",
       "      <td>-0.039330</td>\n",
       "      <td>0.136463</td>\n",
       "      <td>0.295745</td>\n",
       "      <td>-0.457293</td>\n",
       "      <td>0.971966</td>\n",
       "      <td>0.685298</td>\n",
       "      <td>0.277765</td>\n",
       "      <td>1.000000</td>\n",
       "      <td>0.945204</td>\n",
       "      <td>-0.308978</td>\n",
       "    </tr>\n",
       "    <tr>\n",
       "      <th>nr.employed</th>\n",
       "      <td>-0.027026</td>\n",
       "      <td>-0.049034</td>\n",
       "      <td>0.144706</td>\n",
       "      <td>0.370658</td>\n",
       "      <td>-0.503885</td>\n",
       "      <td>0.906407</td>\n",
       "      <td>0.519069</td>\n",
       "      <td>0.100704</td>\n",
       "      <td>0.945204</td>\n",
       "      <td>1.000000</td>\n",
       "      <td>-0.353859</td>\n",
       "    </tr>\n",
       "    <tr>\n",
       "      <th>target</th>\n",
       "      <td>0.032164</td>\n",
       "      <td>0.408124</td>\n",
       "      <td>-0.071472</td>\n",
       "      <td>-0.326604</td>\n",
       "      <td>0.233072</td>\n",
       "      <td>-0.299526</td>\n",
       "      <td>-0.136918</td>\n",
       "      <td>0.051229</td>\n",
       "      <td>-0.308978</td>\n",
       "      <td>-0.353859</td>\n",
       "      <td>1.000000</td>\n",
       "    </tr>\n",
       "  </tbody>\n",
       "</table>\n",
       "</div>"
      ],
      "text/plain": [
       "                     age  duration  campaign     pdays  previous  \\\n",
       "age             1.000000  0.001599  0.003293 -0.033785  0.028606   \n",
       "duration        0.001599  1.000000 -0.075007 -0.044087  0.020867   \n",
       "campaign        0.003293 -0.075007  1.000000  0.054159 -0.081778   \n",
       "pdays          -0.033785 -0.044087  0.054159  1.000000 -0.586289   \n",
       "previous        0.028606  0.020867 -0.081778 -0.586289  1.000000   \n",
       "emp.var.rate   -0.008147 -0.034308  0.152108  0.268983 -0.422226   \n",
       "cons.price.idx -0.003434  0.001166  0.129243  0.077936 -0.203558   \n",
       "cons.conf.idx   0.127855 -0.012445 -0.014175 -0.087054 -0.049921   \n",
       "euribor3m       0.002453 -0.039330  0.136463  0.295745 -0.457293   \n",
       "nr.employed    -0.027026 -0.049034  0.144706  0.370658 -0.503885   \n",
       "target          0.032164  0.408124 -0.071472 -0.326604  0.233072   \n",
       "\n",
       "                emp.var.rate  cons.price.idx  cons.conf.idx  euribor3m  \\\n",
       "age                -0.008147       -0.003434       0.127855   0.002453   \n",
       "duration           -0.034308        0.001166      -0.012445  -0.039330   \n",
       "campaign            0.152108        0.129243      -0.014175   0.136463   \n",
       "pdays               0.268983        0.077936      -0.087054   0.295745   \n",
       "previous           -0.422226       -0.203558      -0.049921  -0.457293   \n",
       "emp.var.rate        1.000000        0.773356       0.197029   0.971966   \n",
       "cons.price.idx      0.773356        1.000000       0.058647   0.685298   \n",
       "cons.conf.idx       0.197029        0.058647       1.000000   0.277765   \n",
       "euribor3m           0.971966        0.685298       0.277765   1.000000   \n",
       "nr.employed         0.906407        0.519069       0.100704   0.945204   \n",
       "target             -0.299526       -0.136918       0.051229  -0.308978   \n",
       "\n",
       "                nr.employed    target  \n",
       "age               -0.027026  0.032164  \n",
       "duration          -0.049034  0.408124  \n",
       "campaign           0.144706 -0.071472  \n",
       "pdays              0.370658 -0.326604  \n",
       "previous          -0.503885  0.233072  \n",
       "emp.var.rate       0.906407 -0.299526  \n",
       "cons.price.idx     0.519069 -0.136918  \n",
       "cons.conf.idx      0.100704  0.051229  \n",
       "euribor3m          0.945204 -0.308978  \n",
       "nr.employed        1.000000 -0.353859  \n",
       "target            -0.353859  1.000000  "
      ]
     },
     "execution_count": 8,
     "metadata": {},
     "output_type": "execute_result"
    }
   ],
   "source": [
    "# корреляция с ответом\n",
    "\n",
    "train_data['target'] = train_target\n",
    "train_data.corr()"
   ]
  },
  {
   "cell_type": "code",
   "execution_count": 9,
   "metadata": {
    "collapsed": true
   },
   "outputs": [],
   "source": [
    "train_data = train_data.drop(['target'], axis=1)"
   ]
  },
  {
   "cell_type": "code",
   "execution_count": 10,
   "metadata": {
    "collapsed": false
   },
   "outputs": [
    {
     "name": "stdout",
     "output_type": "stream",
     "text": [
      "['contact'] \n",
      "\n",
      "['job', 'marital', 'education', 'default', 'housing', 'loan', 'month', 'day_of_week', 'poutcome']\n"
     ]
    }
   ],
   "source": [
    "# находим бинарные и небинарные признаки\n",
    "\n",
    "binary = [c for c in categorical if len(train_data[c].unique()) == 2]\n",
    "nonbinary = [c for c in categorical if len(train_data[c].unique()) > 2]\n",
    "\n",
    "print (binary, '\\n')\n",
    "print (nonbinary)"
   ]
  },
  {
   "cell_type": "code",
   "execution_count": 11,
   "metadata": {
    "collapsed": true
   },
   "outputs": [],
   "source": [
    "# бинарные признаки\n",
    "\n",
    "from sklearn import preprocessing\n",
    "\n",
    "label_encoder = preprocessing.LabelEncoder()\n",
    "\n",
    "for i in binary:\n",
    "    tr_data_label_encoded = label_encoder.fit_transform(train_data[i])\n",
    "    train_data[i] = tr_data_label_encoded\n",
    "    test_data_label_encoded = label_encoder.fit_transform(test_data[i])\n",
    "    test_data[i] = test_data_label_encoded"
   ]
  },
  {
   "cell_type": "code",
   "execution_count": 12,
   "metadata": {
    "collapsed": false
   },
   "outputs": [
    {
     "data": {
      "text/html": [
       "<div>\n",
       "<table border=\"1\" class=\"dataframe\">\n",
       "  <thead>\n",
       "    <tr style=\"text-align: right;\">\n",
       "      <th></th>\n",
       "      <th>age</th>\n",
       "      <th>job</th>\n",
       "      <th>marital</th>\n",
       "      <th>education</th>\n",
       "      <th>default</th>\n",
       "      <th>housing</th>\n",
       "      <th>loan</th>\n",
       "      <th>contact</th>\n",
       "      <th>month</th>\n",
       "      <th>day_of_week</th>\n",
       "      <th>duration</th>\n",
       "      <th>campaign</th>\n",
       "      <th>pdays</th>\n",
       "      <th>previous</th>\n",
       "      <th>poutcome</th>\n",
       "      <th>emp.var.rate</th>\n",
       "      <th>cons.price.idx</th>\n",
       "      <th>cons.conf.idx</th>\n",
       "      <th>euribor3m</th>\n",
       "      <th>nr.employed</th>\n",
       "    </tr>\n",
       "  </thead>\n",
       "  <tbody>\n",
       "    <tr>\n",
       "      <th>0</th>\n",
       "      <td>26</td>\n",
       "      <td>student</td>\n",
       "      <td>single</td>\n",
       "      <td>high.school</td>\n",
       "      <td>no</td>\n",
       "      <td>no</td>\n",
       "      <td>no</td>\n",
       "      <td>1</td>\n",
       "      <td>jun</td>\n",
       "      <td>mon</td>\n",
       "      <td>901</td>\n",
       "      <td>1</td>\n",
       "      <td>999</td>\n",
       "      <td>0</td>\n",
       "      <td>nonexistent</td>\n",
       "      <td>1.4</td>\n",
       "      <td>94.465</td>\n",
       "      <td>-41.8</td>\n",
       "      <td>4.961</td>\n",
       "      <td>5228.1</td>\n",
       "    </tr>\n",
       "    <tr>\n",
       "      <th>1</th>\n",
       "      <td>46</td>\n",
       "      <td>admin.</td>\n",
       "      <td>married</td>\n",
       "      <td>university.degree</td>\n",
       "      <td>no</td>\n",
       "      <td>yes</td>\n",
       "      <td>no</td>\n",
       "      <td>0</td>\n",
       "      <td>aug</td>\n",
       "      <td>tue</td>\n",
       "      <td>208</td>\n",
       "      <td>2</td>\n",
       "      <td>999</td>\n",
       "      <td>0</td>\n",
       "      <td>nonexistent</td>\n",
       "      <td>1.4</td>\n",
       "      <td>93.444</td>\n",
       "      <td>-36.1</td>\n",
       "      <td>4.963</td>\n",
       "      <td>5228.1</td>\n",
       "    </tr>\n",
       "    <tr>\n",
       "      <th>2</th>\n",
       "      <td>49</td>\n",
       "      <td>blue-collar</td>\n",
       "      <td>married</td>\n",
       "      <td>basic.4y</td>\n",
       "      <td>unknown</td>\n",
       "      <td>yes</td>\n",
       "      <td>yes</td>\n",
       "      <td>1</td>\n",
       "      <td>jun</td>\n",
       "      <td>tue</td>\n",
       "      <td>131</td>\n",
       "      <td>5</td>\n",
       "      <td>999</td>\n",
       "      <td>0</td>\n",
       "      <td>nonexistent</td>\n",
       "      <td>1.4</td>\n",
       "      <td>94.465</td>\n",
       "      <td>-41.8</td>\n",
       "      <td>4.864</td>\n",
       "      <td>5228.1</td>\n",
       "    </tr>\n",
       "    <tr>\n",
       "      <th>3</th>\n",
       "      <td>31</td>\n",
       "      <td>technician</td>\n",
       "      <td>married</td>\n",
       "      <td>university.degree</td>\n",
       "      <td>no</td>\n",
       "      <td>no</td>\n",
       "      <td>no</td>\n",
       "      <td>0</td>\n",
       "      <td>jul</td>\n",
       "      <td>tue</td>\n",
       "      <td>404</td>\n",
       "      <td>1</td>\n",
       "      <td>999</td>\n",
       "      <td>0</td>\n",
       "      <td>nonexistent</td>\n",
       "      <td>-2.9</td>\n",
       "      <td>92.469</td>\n",
       "      <td>-33.6</td>\n",
       "      <td>1.044</td>\n",
       "      <td>5076.2</td>\n",
       "    </tr>\n",
       "    <tr>\n",
       "      <th>4</th>\n",
       "      <td>42</td>\n",
       "      <td>housemaid</td>\n",
       "      <td>married</td>\n",
       "      <td>university.degree</td>\n",
       "      <td>no</td>\n",
       "      <td>yes</td>\n",
       "      <td>no</td>\n",
       "      <td>1</td>\n",
       "      <td>nov</td>\n",
       "      <td>mon</td>\n",
       "      <td>85</td>\n",
       "      <td>1</td>\n",
       "      <td>999</td>\n",
       "      <td>0</td>\n",
       "      <td>nonexistent</td>\n",
       "      <td>-0.1</td>\n",
       "      <td>93.200</td>\n",
       "      <td>-42.0</td>\n",
       "      <td>4.191</td>\n",
       "      <td>5195.8</td>\n",
       "    </tr>\n",
       "  </tbody>\n",
       "</table>\n",
       "</div>"
      ],
      "text/plain": [
       "   age          job  marital          education  default housing loan  \\\n",
       "0   26      student   single        high.school       no      no   no   \n",
       "1   46       admin.  married  university.degree       no     yes   no   \n",
       "2   49  blue-collar  married           basic.4y  unknown     yes  yes   \n",
       "3   31   technician  married  university.degree       no      no   no   \n",
       "4   42    housemaid  married  university.degree       no     yes   no   \n",
       "\n",
       "   contact month day_of_week  duration  campaign  pdays  previous  \\\n",
       "0        1   jun         mon       901         1    999         0   \n",
       "1        0   aug         tue       208         2    999         0   \n",
       "2        1   jun         tue       131         5    999         0   \n",
       "3        0   jul         tue       404         1    999         0   \n",
       "4        1   nov         mon        85         1    999         0   \n",
       "\n",
       "      poutcome  emp.var.rate  cons.price.idx  cons.conf.idx  euribor3m  \\\n",
       "0  nonexistent           1.4          94.465          -41.8      4.961   \n",
       "1  nonexistent           1.4          93.444          -36.1      4.963   \n",
       "2  nonexistent           1.4          94.465          -41.8      4.864   \n",
       "3  nonexistent          -2.9          92.469          -33.6      1.044   \n",
       "4  nonexistent          -0.1          93.200          -42.0      4.191   \n",
       "\n",
       "   nr.employed  \n",
       "0       5228.1  \n",
       "1       5228.1  \n",
       "2       5228.1  \n",
       "3       5076.2  \n",
       "4       5195.8  "
      ]
     },
     "execution_count": 12,
     "metadata": {},
     "output_type": "execute_result"
    }
   ],
   "source": [
    "train_data.head()"
   ]
  },
  {
   "cell_type": "code",
   "execution_count": 13,
   "metadata": {
    "collapsed": false
   },
   "outputs": [],
   "source": [
    "# небинарные\n",
    "\n",
    "data_nonbinary = pd.get_dummies(train_data[nonbinary])\n",
    "test_data_nonbinary = pd.get_dummies(test_data[nonbinary])"
   ]
  },
  {
   "cell_type": "code",
   "execution_count": 15,
   "metadata": {
    "collapsed": false
   },
   "outputs": [
    {
     "data": {
      "text/html": [
       "<div>\n",
       "<table border=\"1\" class=\"dataframe\">\n",
       "  <thead>\n",
       "    <tr style=\"text-align: right;\">\n",
       "      <th></th>\n",
       "      <th>age</th>\n",
       "      <th>duration</th>\n",
       "      <th>campaign</th>\n",
       "      <th>pdays</th>\n",
       "      <th>previous</th>\n",
       "      <th>emp.var.rate</th>\n",
       "      <th>cons.price.idx</th>\n",
       "      <th>cons.conf.idx</th>\n",
       "      <th>euribor3m</th>\n",
       "      <th>nr.employed</th>\n",
       "    </tr>\n",
       "  </thead>\n",
       "  <tbody>\n",
       "    <tr>\n",
       "      <th>count</th>\n",
       "      <td>2.759500e+04</td>\n",
       "      <td>2.759500e+04</td>\n",
       "      <td>2.759500e+04</td>\n",
       "      <td>2.759500e+04</td>\n",
       "      <td>2.759500e+04</td>\n",
       "      <td>2.759500e+04</td>\n",
       "      <td>2.759500e+04</td>\n",
       "      <td>2.759500e+04</td>\n",
       "      <td>2.759500e+04</td>\n",
       "      <td>2.759500e+04</td>\n",
       "    </tr>\n",
       "    <tr>\n",
       "      <th>mean</th>\n",
       "      <td>2.343156e-16</td>\n",
       "      <td>-1.022234e-16</td>\n",
       "      <td>-2.240160e-17</td>\n",
       "      <td>2.842686e-16</td>\n",
       "      <td>-6.849225e-17</td>\n",
       "      <td>-8.848375e-15</td>\n",
       "      <td>6.120046e-12</td>\n",
       "      <td>-6.091665e-13</td>\n",
       "      <td>-1.921779e-13</td>\n",
       "      <td>2.414671e-11</td>\n",
       "    </tr>\n",
       "    <tr>\n",
       "      <th>std</th>\n",
       "      <td>1.000000e+00</td>\n",
       "      <td>1.000000e+00</td>\n",
       "      <td>1.000000e+00</td>\n",
       "      <td>1.000000e+00</td>\n",
       "      <td>1.000000e+00</td>\n",
       "      <td>1.000000e+00</td>\n",
       "      <td>1.000000e+00</td>\n",
       "      <td>1.000000e+00</td>\n",
       "      <td>1.000000e+00</td>\n",
       "      <td>1.000000e+00</td>\n",
       "    </tr>\n",
       "    <tr>\n",
       "      <th>min</th>\n",
       "      <td>-2.202747e+00</td>\n",
       "      <td>-9.937174e-01</td>\n",
       "      <td>-5.670921e-01</td>\n",
       "      <td>-5.165440e+00</td>\n",
       "      <td>-3.492531e-01</td>\n",
       "      <td>-2.224919e+00</td>\n",
       "      <td>-2.380593e+00</td>\n",
       "      <td>-2.230404e+00</td>\n",
       "      <td>-1.731039e+00</td>\n",
       "      <td>-2.820408e+00</td>\n",
       "    </tr>\n",
       "    <tr>\n",
       "      <th>25%</th>\n",
       "      <td>-7.715240e-01</td>\n",
       "      <td>-6.060182e-01</td>\n",
       "      <td>-5.670921e-01</td>\n",
       "      <td>1.948085e-01</td>\n",
       "      <td>-3.492531e-01</td>\n",
       "      <td>-1.204083e+00</td>\n",
       "      <td>-8.689877e-01</td>\n",
       "      <td>-4.758815e-01</td>\n",
       "      <td>-1.320655e+00</td>\n",
       "      <td>-9.444460e-01</td>\n",
       "    </tr>\n",
       "    <tr>\n",
       "      <th>50%</th>\n",
       "      <td>-1.990348e-01</td>\n",
       "      <td>-3.066069e-01</td>\n",
       "      <td>-2.055018e-01</td>\n",
       "      <td>1.948085e-01</td>\n",
       "      <td>-3.492531e-01</td>\n",
       "      <td>6.461818e-01</td>\n",
       "      <td>2.967123e-01</td>\n",
       "      <td>-2.809346e-01</td>\n",
       "      <td>7.098826e-01</td>\n",
       "      <td>3.278855e-01</td>\n",
       "    </tr>\n",
       "    <tr>\n",
       "      <th>75%</th>\n",
       "      <td>6.596989e-01</td>\n",
       "      <td>2.346365e-01</td>\n",
       "      <td>1.560886e-01</td>\n",
       "      <td>1.948085e-01</td>\n",
       "      <td>-3.492531e-01</td>\n",
       "      <td>8.375885e-01</td>\n",
       "      <td>7.204460e-01</td>\n",
       "      <td>8.887470e-01</td>\n",
       "      <td>7.699953e-01</td>\n",
       "      <td>8.415254e-01</td>\n",
       "    </tr>\n",
       "    <tr>\n",
       "      <th>max</th>\n",
       "      <td>5.144197e+00</td>\n",
       "      <td>1.512459e+01</td>\n",
       "      <td>1.461970e+01</td>\n",
       "      <td>1.948085e-01</td>\n",
       "      <td>1.386256e+01</td>\n",
       "      <td>8.375885e-01</td>\n",
       "      <td>2.057369e+00</td>\n",
       "      <td>2.946520e+00</td>\n",
       "      <td>8.185479e-01</td>\n",
       "      <td>8.415254e-01</td>\n",
       "    </tr>\n",
       "  </tbody>\n",
       "</table>\n",
       "</div>"
      ],
      "text/plain": [
       "                age      duration      campaign         pdays      previous  \\\n",
       "count  2.759500e+04  2.759500e+04  2.759500e+04  2.759500e+04  2.759500e+04   \n",
       "mean   2.343156e-16 -1.022234e-16 -2.240160e-17  2.842686e-16 -6.849225e-17   \n",
       "std    1.000000e+00  1.000000e+00  1.000000e+00  1.000000e+00  1.000000e+00   \n",
       "min   -2.202747e+00 -9.937174e-01 -5.670921e-01 -5.165440e+00 -3.492531e-01   \n",
       "25%   -7.715240e-01 -6.060182e-01 -5.670921e-01  1.948085e-01 -3.492531e-01   \n",
       "50%   -1.990348e-01 -3.066069e-01 -2.055018e-01  1.948085e-01 -3.492531e-01   \n",
       "75%    6.596989e-01  2.346365e-01  1.560886e-01  1.948085e-01 -3.492531e-01   \n",
       "max    5.144197e+00  1.512459e+01  1.461970e+01  1.948085e-01  1.386256e+01   \n",
       "\n",
       "       emp.var.rate  cons.price.idx  cons.conf.idx     euribor3m   nr.employed  \n",
       "count  2.759500e+04    2.759500e+04   2.759500e+04  2.759500e+04  2.759500e+04  \n",
       "mean  -8.848375e-15    6.120046e-12  -6.091665e-13 -1.921779e-13  2.414671e-11  \n",
       "std    1.000000e+00    1.000000e+00   1.000000e+00  1.000000e+00  1.000000e+00  \n",
       "min   -2.224919e+00   -2.380593e+00  -2.230404e+00 -1.731039e+00 -2.820408e+00  \n",
       "25%   -1.204083e+00   -8.689877e-01  -4.758815e-01 -1.320655e+00 -9.444460e-01  \n",
       "50%    6.461818e-01    2.967123e-01  -2.809346e-01  7.098826e-01  3.278855e-01  \n",
       "75%    8.375885e-01    7.204460e-01   8.887470e-01  7.699953e-01  8.415254e-01  \n",
       "max    8.375885e-01    2.057369e+00   2.946520e+00  8.185479e-01  8.415254e-01  "
      ]
     },
     "execution_count": 15,
     "metadata": {},
     "output_type": "execute_result"
    }
   ],
   "source": [
    "from sklearn.preprocessing import StandardScaler\n",
    "\n",
    "scaler = StandardScaler()\n",
    "train_data[numerical] = scaler.fit_transform(train_data[numerical])\n",
    "test_data[numerical] = scaler.fit_transform(test_data[numerical])\n",
    "train_data[numerical].describe()"
   ]
  },
  {
   "cell_type": "code",
   "execution_count": 14,
   "metadata": {
    "collapsed": false
   },
   "outputs": [
    {
     "data": {
      "text/html": [
       "<div>\n",
       "<table border=\"1\" class=\"dataframe\">\n",
       "  <thead>\n",
       "    <tr style=\"text-align: right;\">\n",
       "      <th></th>\n",
       "      <th>age</th>\n",
       "      <th>duration</th>\n",
       "      <th>campaign</th>\n",
       "      <th>pdays</th>\n",
       "      <th>previous</th>\n",
       "      <th>emp.var.rate</th>\n",
       "      <th>cons.price.idx</th>\n",
       "      <th>cons.conf.idx</th>\n",
       "      <th>euribor3m</th>\n",
       "      <th>nr.employed</th>\n",
       "    </tr>\n",
       "  </thead>\n",
       "  <tbody>\n",
       "    <tr>\n",
       "      <th>count</th>\n",
       "      <td>27595.000000</td>\n",
       "      <td>27595.000000</td>\n",
       "      <td>27595.000000</td>\n",
       "      <td>27595.000000</td>\n",
       "      <td>27595.000000</td>\n",
       "      <td>27595.000000</td>\n",
       "      <td>27595.000000</td>\n",
       "      <td>27595.000000</td>\n",
       "      <td>27595.000000</td>\n",
       "      <td>27595.00000</td>\n",
       "    </tr>\n",
       "    <tr>\n",
       "      <th>mean</th>\n",
       "      <td>40.085994</td>\n",
       "      <td>258.874542</td>\n",
       "      <td>2.568328</td>\n",
       "      <td>962.693169</td>\n",
       "      <td>0.172024</td>\n",
       "      <td>0.087211</td>\n",
       "      <td>93.577443</td>\n",
       "      <td>-40.503026</td>\n",
       "      <td>3.628844</td>\n",
       "      <td>5167.31696</td>\n",
       "    </tr>\n",
       "    <tr>\n",
       "      <th>std</th>\n",
       "      <td>10.480548</td>\n",
       "      <td>260.511236</td>\n",
       "      <td>2.765561</td>\n",
       "      <td>186.371948</td>\n",
       "      <td>0.492548</td>\n",
       "      <td>1.567343</td>\n",
       "      <td>0.578193</td>\n",
       "      <td>4.616641</td>\n",
       "      <td>1.730084</td>\n",
       "      <td>72.22960</td>\n",
       "    </tr>\n",
       "    <tr>\n",
       "      <th>min</th>\n",
       "      <td>17.000000</td>\n",
       "      <td>0.000000</td>\n",
       "      <td>1.000000</td>\n",
       "      <td>0.000000</td>\n",
       "      <td>0.000000</td>\n",
       "      <td>-3.400000</td>\n",
       "      <td>92.201000</td>\n",
       "      <td>-50.800000</td>\n",
       "      <td>0.634000</td>\n",
       "      <td>4963.60000</td>\n",
       "    </tr>\n",
       "    <tr>\n",
       "      <th>25%</th>\n",
       "      <td>32.000000</td>\n",
       "      <td>101.000000</td>\n",
       "      <td>1.000000</td>\n",
       "      <td>999.000000</td>\n",
       "      <td>0.000000</td>\n",
       "      <td>-1.800000</td>\n",
       "      <td>93.075000</td>\n",
       "      <td>-42.700000</td>\n",
       "      <td>1.344000</td>\n",
       "      <td>5099.10000</td>\n",
       "    </tr>\n",
       "    <tr>\n",
       "      <th>50%</th>\n",
       "      <td>38.000000</td>\n",
       "      <td>179.000000</td>\n",
       "      <td>2.000000</td>\n",
       "      <td>999.000000</td>\n",
       "      <td>0.000000</td>\n",
       "      <td>1.100000</td>\n",
       "      <td>93.749000</td>\n",
       "      <td>-41.800000</td>\n",
       "      <td>4.857000</td>\n",
       "      <td>5191.00000</td>\n",
       "    </tr>\n",
       "    <tr>\n",
       "      <th>75%</th>\n",
       "      <td>47.000000</td>\n",
       "      <td>320.000000</td>\n",
       "      <td>3.000000</td>\n",
       "      <td>999.000000</td>\n",
       "      <td>0.000000</td>\n",
       "      <td>1.400000</td>\n",
       "      <td>93.994000</td>\n",
       "      <td>-36.400000</td>\n",
       "      <td>4.961000</td>\n",
       "      <td>5228.10000</td>\n",
       "    </tr>\n",
       "    <tr>\n",
       "      <th>max</th>\n",
       "      <td>94.000000</td>\n",
       "      <td>4199.000000</td>\n",
       "      <td>43.000000</td>\n",
       "      <td>999.000000</td>\n",
       "      <td>7.000000</td>\n",
       "      <td>1.400000</td>\n",
       "      <td>94.767000</td>\n",
       "      <td>-26.900000</td>\n",
       "      <td>5.045000</td>\n",
       "      <td>5228.10000</td>\n",
       "    </tr>\n",
       "  </tbody>\n",
       "</table>\n",
       "</div>"
      ],
      "text/plain": [
       "                age      duration      campaign         pdays      previous  \\\n",
       "count  27595.000000  27595.000000  27595.000000  27595.000000  27595.000000   \n",
       "mean      40.085994    258.874542      2.568328    962.693169      0.172024   \n",
       "std       10.480548    260.511236      2.765561    186.371948      0.492548   \n",
       "min       17.000000      0.000000      1.000000      0.000000      0.000000   \n",
       "25%       32.000000    101.000000      1.000000    999.000000      0.000000   \n",
       "50%       38.000000    179.000000      2.000000    999.000000      0.000000   \n",
       "75%       47.000000    320.000000      3.000000    999.000000      0.000000   \n",
       "max       94.000000   4199.000000     43.000000    999.000000      7.000000   \n",
       "\n",
       "       emp.var.rate  cons.price.idx  cons.conf.idx     euribor3m  nr.employed  \n",
       "count  27595.000000    27595.000000   27595.000000  27595.000000  27595.00000  \n",
       "mean       0.087211       93.577443     -40.503026      3.628844   5167.31696  \n",
       "std        1.567343        0.578193       4.616641      1.730084     72.22960  \n",
       "min       -3.400000       92.201000     -50.800000      0.634000   4963.60000  \n",
       "25%       -1.800000       93.075000     -42.700000      1.344000   5099.10000  \n",
       "50%        1.100000       93.749000     -41.800000      4.857000   5191.00000  \n",
       "75%        1.400000       93.994000     -36.400000      4.961000   5228.10000  \n",
       "max        1.400000       94.767000     -26.900000      5.045000   5228.10000  "
      ]
     },
     "execution_count": 14,
     "metadata": {},
     "output_type": "execute_result"
    }
   ],
   "source": [
    "data_numerical = train_data[numerical]\n",
    "test_data_numerical = test_data[numerical]"
   ]
  },
  {
   "cell_type": "code",
   "execution_count": 16,
   "metadata": {
    "collapsed": false
   },
   "outputs": [
    {
     "data": {
      "text/html": [
       "<div>\n",
       "<table border=\"1\" class=\"dataframe\">\n",
       "  <thead>\n",
       "    <tr style=\"text-align: right;\">\n",
       "      <th></th>\n",
       "      <th>age</th>\n",
       "      <th>duration</th>\n",
       "      <th>campaign</th>\n",
       "      <th>pdays</th>\n",
       "      <th>previous</th>\n",
       "      <th>emp.var.rate</th>\n",
       "      <th>cons.price.idx</th>\n",
       "      <th>cons.conf.idx</th>\n",
       "      <th>euribor3m</th>\n",
       "      <th>nr.employed</th>\n",
       "      <th>...</th>\n",
       "      <th>month_oct</th>\n",
       "      <th>month_sep</th>\n",
       "      <th>day_of_week_fri</th>\n",
       "      <th>day_of_week_mon</th>\n",
       "      <th>day_of_week_thu</th>\n",
       "      <th>day_of_week_tue</th>\n",
       "      <th>day_of_week_wed</th>\n",
       "      <th>poutcome_failure</th>\n",
       "      <th>poutcome_nonexistent</th>\n",
       "      <th>poutcome_success</th>\n",
       "    </tr>\n",
       "  </thead>\n",
       "  <tbody>\n",
       "    <tr>\n",
       "      <th>0</th>\n",
       "      <td>-1.344013</td>\n",
       "      <td>2.464867</td>\n",
       "      <td>-0.567092</td>\n",
       "      <td>0.194808</td>\n",
       "      <td>-0.349253</td>\n",
       "      <td>0.837589</td>\n",
       "      <td>1.535052</td>\n",
       "      <td>-0.280935</td>\n",
       "      <td>0.769995</td>\n",
       "      <td>0.841525</td>\n",
       "      <td>...</td>\n",
       "      <td>0.0</td>\n",
       "      <td>0.0</td>\n",
       "      <td>0.0</td>\n",
       "      <td>1.0</td>\n",
       "      <td>0.0</td>\n",
       "      <td>0.0</td>\n",
       "      <td>0.0</td>\n",
       "      <td>0.0</td>\n",
       "      <td>1.0</td>\n",
       "      <td>0.0</td>\n",
       "    </tr>\n",
       "    <tr>\n",
       "      <th>1</th>\n",
       "      <td>0.564284</td>\n",
       "      <td>-0.195287</td>\n",
       "      <td>-0.205502</td>\n",
       "      <td>0.194808</td>\n",
       "      <td>-0.349253</td>\n",
       "      <td>0.837589</td>\n",
       "      <td>-0.230793</td>\n",
       "      <td>0.953729</td>\n",
       "      <td>0.771151</td>\n",
       "      <td>0.841525</td>\n",
       "      <td>...</td>\n",
       "      <td>0.0</td>\n",
       "      <td>0.0</td>\n",
       "      <td>0.0</td>\n",
       "      <td>0.0</td>\n",
       "      <td>0.0</td>\n",
       "      <td>1.0</td>\n",
       "      <td>0.0</td>\n",
       "      <td>0.0</td>\n",
       "      <td>1.0</td>\n",
       "      <td>0.0</td>\n",
       "    </tr>\n",
       "    <tr>\n",
       "      <th>2</th>\n",
       "      <td>0.850529</td>\n",
       "      <td>-0.490860</td>\n",
       "      <td>0.879269</td>\n",
       "      <td>0.194808</td>\n",
       "      <td>-0.349253</td>\n",
       "      <td>0.837589</td>\n",
       "      <td>1.535052</td>\n",
       "      <td>-0.280935</td>\n",
       "      <td>0.713929</td>\n",
       "      <td>0.841525</td>\n",
       "      <td>...</td>\n",
       "      <td>0.0</td>\n",
       "      <td>0.0</td>\n",
       "      <td>0.0</td>\n",
       "      <td>0.0</td>\n",
       "      <td>0.0</td>\n",
       "      <td>1.0</td>\n",
       "      <td>0.0</td>\n",
       "      <td>0.0</td>\n",
       "      <td>1.0</td>\n",
       "      <td>0.0</td>\n",
       "    </tr>\n",
       "    <tr>\n",
       "      <th>3</th>\n",
       "      <td>-0.866939</td>\n",
       "      <td>0.557079</td>\n",
       "      <td>-0.567092</td>\n",
       "      <td>0.194808</td>\n",
       "      <td>-0.349253</td>\n",
       "      <td>-1.905908</td>\n",
       "      <td>-1.917080</td>\n",
       "      <td>1.495249</td>\n",
       "      <td>-1.494057</td>\n",
       "      <td>-1.261491</td>\n",
       "      <td>...</td>\n",
       "      <td>0.0</td>\n",
       "      <td>0.0</td>\n",
       "      <td>0.0</td>\n",
       "      <td>0.0</td>\n",
       "      <td>0.0</td>\n",
       "      <td>1.0</td>\n",
       "      <td>0.0</td>\n",
       "      <td>0.0</td>\n",
       "      <td>1.0</td>\n",
       "      <td>0.0</td>\n",
       "    </tr>\n",
       "    <tr>\n",
       "      <th>4</th>\n",
       "      <td>0.182625</td>\n",
       "      <td>-0.667436</td>\n",
       "      <td>-0.567092</td>\n",
       "      <td>0.194808</td>\n",
       "      <td>-0.349253</td>\n",
       "      <td>-0.119445</td>\n",
       "      <td>-0.652797</td>\n",
       "      <td>-0.324256</td>\n",
       "      <td>0.324930</td>\n",
       "      <td>0.394340</td>\n",
       "      <td>...</td>\n",
       "      <td>0.0</td>\n",
       "      <td>0.0</td>\n",
       "      <td>0.0</td>\n",
       "      <td>1.0</td>\n",
       "      <td>0.0</td>\n",
       "      <td>0.0</td>\n",
       "      <td>0.0</td>\n",
       "      <td>0.0</td>\n",
       "      <td>1.0</td>\n",
       "      <td>0.0</td>\n",
       "    </tr>\n",
       "  </tbody>\n",
       "</table>\n",
       "<p>5 rows × 62 columns</p>\n",
       "</div>"
      ],
      "text/plain": [
       "        age  duration  campaign     pdays  previous  emp.var.rate  \\\n",
       "0 -1.344013  2.464867 -0.567092  0.194808 -0.349253      0.837589   \n",
       "1  0.564284 -0.195287 -0.205502  0.194808 -0.349253      0.837589   \n",
       "2  0.850529 -0.490860  0.879269  0.194808 -0.349253      0.837589   \n",
       "3 -0.866939  0.557079 -0.567092  0.194808 -0.349253     -1.905908   \n",
       "4  0.182625 -0.667436 -0.567092  0.194808 -0.349253     -0.119445   \n",
       "\n",
       "   cons.price.idx  cons.conf.idx  euribor3m  nr.employed        ...         \\\n",
       "0        1.535052      -0.280935   0.769995     0.841525        ...          \n",
       "1       -0.230793       0.953729   0.771151     0.841525        ...          \n",
       "2        1.535052      -0.280935   0.713929     0.841525        ...          \n",
       "3       -1.917080       1.495249  -1.494057    -1.261491        ...          \n",
       "4       -0.652797      -0.324256   0.324930     0.394340        ...          \n",
       "\n",
       "   month_oct  month_sep  day_of_week_fri  day_of_week_mon  day_of_week_thu  \\\n",
       "0        0.0        0.0              0.0              1.0              0.0   \n",
       "1        0.0        0.0              0.0              0.0              0.0   \n",
       "2        0.0        0.0              0.0              0.0              0.0   \n",
       "3        0.0        0.0              0.0              0.0              0.0   \n",
       "4        0.0        0.0              0.0              1.0              0.0   \n",
       "\n",
       "   day_of_week_tue  day_of_week_wed  poutcome_failure  poutcome_nonexistent  \\\n",
       "0              0.0              0.0               0.0                   1.0   \n",
       "1              1.0              0.0               0.0                   1.0   \n",
       "2              1.0              0.0               0.0                   1.0   \n",
       "3              1.0              0.0               0.0                   1.0   \n",
       "4              0.0              0.0               0.0                   1.0   \n",
       "\n",
       "   poutcome_success  \n",
       "0               0.0  \n",
       "1               0.0  \n",
       "2               0.0  \n",
       "3               0.0  \n",
       "4               0.0  \n",
       "\n",
       "[5 rows x 62 columns]"
      ]
     },
     "execution_count": 16,
     "metadata": {},
     "output_type": "execute_result"
    }
   ],
   "source": [
    "tr_data = pd.concat((data_numerical, train_data[binary], data_nonbinary), axis=1)\n",
    "tr_data = pd.DataFrame(tr_data, dtype=float)\n",
    "ts_data = pd.concat((test_data_numerical, test_data[binary], test_data_nonbinary), axis=1)\n",
    "ts_data = pd.DataFrame(ts_data, dtype=float)\n",
    "tr_data.head()\n",
    "\n",
    "# не хватает еще одной колонки!"
   ]
  },
  {
   "cell_type": "code",
   "execution_count": 17,
   "metadata": {
    "collapsed": true
   },
   "outputs": [],
   "source": [
    "from sklearn.model_selection import train_test_split\n",
    "\n",
    "RANDOM_SEED = 42                                                                                 \n",
    "\n",
    "X_train, X_test, y_train, y_test = train_test_split(np.array(tr_data), train_target, test_size=0.2, random_state=RANDOM_SEED) "
   ]
  },
  {
   "cell_type": "code",
   "execution_count": 18,
   "metadata": {
    "collapsed": false
   },
   "outputs": [
    {
     "name": "stdout",
     "output_type": "stream",
     "text": [
      "1.0\n",
      "0.939161312205\n"
     ]
    }
   ],
   "source": [
    "from sklearn.ensemble import RandomForestClassifier\n",
    "from sklearn.metrics import roc_auc_score, make_scorer\n",
    "\n",
    "\n",
    "rfc = RandomForestClassifier(n_estimators=100, random_state=42).fit(X_train, y_train)\n",
    "\n",
    "y_tr_predict = rfc.predict_proba(X_train)[:,1]\n",
    "y_test_pred = rfc.predict_proba(X_test)[:,1]\n",
    "\n",
    "print(roc_auc_score(y_train, y_tr_predict))\n",
    "print(roc_auc_score(y_test, y_test_pred))"
   ]
  },
  {
   "cell_type": "code",
   "execution_count": null,
   "metadata": {
    "collapsed": false
   },
   "outputs": [],
   "source": [
    "from sklearn.model_selection import StratifiedKFold\n",
    "from sklearn.model_selection import GridSearchCV\n",
    "\n",
    "\n",
    "param_grid = {'n_estimators': range(10,1001,20),\n",
    "                    'max_depth': [3, 5, 7, 9, 11, 13, 15, None],\n",
    "                    'min_samples_leaf': range(1,61,10),\n",
    "             \"max_features\": ['auto','log2', 1, 5, 10, 20, 30, 40 , 50, 60], \n",
    "             \"criterion\": [\"gini\", \"entropy\"]}\n",
    "\n",
    "rfc = RandomForestClassifier()\n",
    "    \n",
    "grid_rfc = GridSearchCV(rfc, param_grid=param_grid, cv=StratifiedKFold(), scoring='roc_auc').fit(X_train, y_train)"
   ]
  },
  {
   "cell_type": "code",
   "execution_count": 27,
   "metadata": {
    "collapsed": false
   },
   "outputs": [
    {
     "name": "stdout",
     "output_type": "stream",
     "text": [
      "0.971808701447\n",
      "0.945858780198\n"
     ]
    }
   ],
   "source": [
    "# смотрим как изменилось\n",
    "\n",
    "rfc = RandomForestClassifier(n_estimators=grid_rfc.best_estimator_.n_estimators, max_depth=grid_rfc.best_estimator_.max_depth,\n",
    "                             max_features=grid_rfc.best_estimator_.max_features, criterion=grid_rfc.best_estimator_.criterion,\n",
    "                             min_samples_leaf=grid_rfc.best_estimator_.min_samples_leaf, random_state=42).fit(X_train, y_train)\n",
    "\n",
    "y_tr_predict = rfc.predict_proba(X_train)[:,1]\n",
    "y_test_pred = rfc.predict_proba(X_test)[:,1]\n",
    "\n",
    "print(roc_auc_score(y_train, y_tr_predict))\n",
    "print(roc_auc_score(y_test, y_test_pred))"
   ]
  },
  {
   "cell_type": "code",
   "execution_count": 39,
   "metadata": {
    "collapsed": false
   },
   "outputs": [
    {
     "name": "stdout",
     "output_type": "stream",
     "text": [
      "0.972015011301\n",
      "0.946393427858\n"
     ]
    }
   ],
   "source": [
    "rfc = RandomForestClassifier(n_estimators=1000, max_depth=None,\n",
    "                             max_features=10, criterion='entropy',\n",
    "                             min_samples_leaf=10, random_state=42).fit(X_train, y_train)\n",
    "\n",
    "y_tr_predict = rfc.predict_proba(X_train)[:,1]\n",
    "y_test_pred = rfc.predict_proba(X_test)[:,1]\n",
    "\n",
    "print(roc_auc_score(y_train, y_tr_predict))\n",
    "print(roc_auc_score(y_test, y_test_pred))"
   ]
  },
  {
   "cell_type": "code",
   "execution_count": 29,
   "metadata": {
    "collapsed": false
   },
   "outputs": [
    {
     "name": "stdout",
     "output_type": "stream",
     "text": [
      "Feature importances:\n",
      " 1. feature 'duration' (0.4096)\n",
      " 2. feature 'euribor3m' (0.1052)\n",
      " 3. feature 'nr.employed' (0.0943)\n",
      " 4. feature 'emp.var.rate' (0.0650)\n",
      " 5. feature 'pdays' (0.0428)\n",
      " 6. feature 'cons.conf.idx' (0.0367)\n",
      " 7. feature 'age  ' (0.0308)\n",
      " 8. feature 'poutcome_success' (0.0261)\n",
      " 9. feature 'cons.price.idx' (0.0254)\n",
      "10. feature 'campaign' (0.0133)\n",
      "11. feature 'month_may' (0.0123)\n",
      "12. feature 'previous' (0.0114)\n",
      "13. feature 'contact' (0.0090)\n",
      "14. feature 'month_oct' (0.0067)\n",
      "15. feature 'poutcome_nonexistent' (0.0055)\n",
      "16. feature 'education_university.degree' (0.0054)\n",
      "17. feature 'poutcome_failure' (0.0050)\n",
      "18. feature 'day_of_week_mon' (0.0050)\n",
      "19. feature 'default_no' (0.0050)\n",
      "20. feature 'housing_yes' (0.0048)\n",
      "21. feature 'marital_married' (0.0046)\n",
      "22. feature 'housing_no' (0.0046)\n",
      "23. feature 'month_mar' (0.0044)\n",
      "24. feature 'day_of_week_thu' (0.0040)\n",
      "25. feature 'marital_single' (0.0040)\n",
      "26. feature 'month_apr' (0.0039)\n",
      "27. feature 'default_unknown' (0.0038)\n",
      "28. feature 'job_admin.' (0.0038)\n",
      "29. feature 'education_high.school' (0.0035)\n",
      "30. feature 'day_of_week_fri' (0.0034)\n",
      "31. feature 'day_of_week_wed' (0.0033)\n",
      "32. feature 'job_blue-collar' (0.0032)\n",
      "33. feature 'day_of_week_tue' (0.0032)\n",
      "34. feature 'job_technician' (0.0029)\n",
      "35. feature 'loan_no' (0.0022)\n",
      "36. feature 'education_professional.course' (0.0022)\n",
      "37. feature 'education_basic.9y' (0.0022)\n",
      "38. feature 'month_jun' (0.0022)\n",
      "39. feature 'loan_yes' (0.0019)\n",
      "40. feature 'education_basic.4y' (0.0019)\n",
      "41. feature 'marital_divorced' (0.0016)\n",
      "42. feature 'job_retired' (0.0015)\n",
      "43. feature 'job_services' (0.0014)\n",
      "44. feature 'month_aug' (0.0013)\n",
      "45. feature 'job_student' (0.0012)\n",
      "46. feature 'month_nov' (0.0012)\n",
      "47. feature 'month_jul' (0.0011)\n",
      "48. feature 'job_management' (0.0011)\n",
      "49. feature 'month_sep' (0.0008)\n",
      "50. feature 'education_basic.6y' (0.0007)\n",
      "51. feature 'education_unknown' (0.0007)\n",
      "52. feature 'job_entrepreneur' (0.0006)\n",
      "53. feature 'job_self-employed' (0.0006)\n",
      "54. feature 'month_dec' (0.0003)\n",
      "55. feature 'job_unemployed' (0.0003)\n",
      "56. feature 'job_housemaid' (0.0003)\n",
      "57. feature 'housing_unknown' (0.0002)\n",
      "58. feature 'loan_unknown' (0.0001)\n",
      "59. feature 'job_unknown' (0.0001)\n",
      "60. feature 'marital_unknown' (0.0000)\n",
      "61. feature 'education_illiterate' (0.0000)\n",
      "62. feature 'default_yes' (0.0000)\n"
     ]
    }
   ],
   "source": [
    "# таблица важных признаков\n",
    "\n",
    "feature_names = tr_data.columns\n",
    "importances = rfc.feature_importances_\n",
    "indices = np.argsort(importances)[::-1]\n",
    "\n",
    "print(\"Feature importances:\")\n",
    "for f, idx in enumerate(indices):\n",
    "    print(\"{:2d}. feature '{:5s}' ({:.4f})\".format(f + 1, feature_names[idx], importances[idx]))"
   ]
  },
  {
   "cell_type": "code",
   "execution_count": 30,
   "metadata": {
    "collapsed": false
   },
   "outputs": [
    {
     "data": {
      "text/plain": [
       "(-1, 20)"
      ]
     },
     "execution_count": 30,
     "metadata": {},
     "output_type": "execute_result"
    }
   ],
   "source": [
    "d_first = 20\n",
    "plt.figure(figsize=(8, 8))\n",
    "plt.title(\"Feature importances\")\n",
    "plt.bar(range(d_first), importances[indices[:d_first]], align='center')\n",
    "plt.xticks(range(d_first), np.array(feature_names)[indices[:d_first]], rotation=90)\n",
    "plt.xlim([-1, d_first])"
   ]
  },
  {
   "cell_type": "code",
   "execution_count": 31,
   "metadata": {
    "collapsed": false
   },
   "outputs": [
    {
     "name": "stdout",
     "output_type": "stream",
     "text": [
      "Index(['duration', 'euribor3m', 'nr.employed', 'emp.var.rate', 'pdays',\n",
      "       'cons.conf.idx', 'age', 'poutcome_success', 'cons.price.idx',\n",
      "       'campaign'],\n",
      "      dtype='object')\n"
     ]
    }
   ],
   "source": [
    "best_features = indices[:10]\n",
    "best_features_names = feature_names[best_features] #!!!!!!!!!!1\n",
    "tram = []\n",
    "for i, elem in enumerate(feature_names):\n",
    "    if elem in best_features_names:\n",
    "        tram.append(i)\n",
    "print(best_features_names)"
   ]
  },
  {
   "cell_type": "code",
   "execution_count": 32,
   "metadata": {
    "collapsed": false
   },
   "outputs": [
    {
     "name": "stdout",
     "output_type": "stream",
     "text": [
      "0 age\n",
      "1 duration\n",
      "2 campaign\n",
      "3 pdays\n",
      "5 emp.var.rate\n",
      "6 cons.price.idx\n",
      "7 cons.conf.idx\n",
      "8 euribor3m\n",
      "9 nr.employed\n",
      "61 poutcome_success\n"
     ]
    }
   ],
   "source": [
    "ind = []\n",
    "\n",
    "for i, elem in enumerate(feature_names):\n",
    "    if elem in best_features_names:\n",
    "        ind.append(i)\n",
    "        print(i, elem)"
   ]
  },
  {
   "cell_type": "code",
   "execution_count": 35,
   "metadata": {
    "collapsed": false
   },
   "outputs": [
    {
     "name": "stdout",
     "output_type": "stream",
     "text": [
      "0.975928491329\n",
      "0.944857513524\n"
     ]
    }
   ],
   "source": [
    "# только с важными признаками\n",
    "\n",
    "rfc = RandomForestClassifier(n_estimators=grid_rfc.best_estimator_.n_estimators, max_depth=grid_rfc.best_estimator_.max_depth,\n",
    "                             max_features=grid_rfc.best_estimator_.max_features, criterion=grid_rfc.best_estimator_.criterion,\n",
    "                             min_samples_leaf=grid_rfc.best_estimator_.min_samples_leaf, random_state=42).fit(X_train[:, ind], y_train)\n",
    "\n",
    "y_tr_predict = rfc.predict_proba(X_train[:,ind])[:,1]\n",
    "y_test_pred = rfc.predict_proba(X_test[:,ind])[:,1]\n",
    "\n",
    "print(roc_auc_score(y_train, y_tr_predict))\n",
    "print(roc_auc_score(y_test, y_test_pred))"
   ]
  },
  {
   "cell_type": "code",
   "execution_count": 33,
   "metadata": {
    "collapsed": false
   },
   "outputs": [
    {
     "name": "stdout",
     "output_type": "stream",
     "text": [
      "0.95413747211\n",
      "0.94469111482\n"
     ]
    }
   ],
   "source": [
    "from sklearn.ensemble import AdaBoostClassifier, GradientBoostingClassifier\n",
    "from sklearn.metrics import roc_auc_score, make_scorer\n",
    "\n",
    "gbt = GradientBoostingClassifier(n_estimators=100, random_state=42).fit(X_train, y_train)\n",
    "\n",
    "y_tr_predict = gbt.predict_proba(X_train)[:,1]\n",
    "y_test_pred = gbt.predict_proba(X_test)[:,1]\n",
    "\n",
    "print(roc_auc_score(y_train, y_tr_predict))\n",
    "print(roc_auc_score(y_test, y_test_pred))"
   ]
  },
  {
   "cell_type": "code",
   "execution_count": 73,
   "metadata": {
    "collapsed": false
   },
   "outputs": [],
   "source": [
    "from sklearn.model_selection import StratifiedKFold\n",
    "from sklearn.model_selection import GridSearchCV\n",
    "\n",
    "\n",
    "param_grid = {'n_estimators': range(20,101,10),\n",
    "                    'max_depth': range(5,16,2),\n",
    "                    'min_samples_leaf': range(10,71,10), \n",
    "             'subsample':[0.6,0.7,0.75,0.8,0.85,0.9,1.0]}\n",
    "\n",
    "gbt = GradientBoostingClassifier()\n",
    "grid_gbt = GridSearchCV(gbt, param_grid=param_grid, cv=StratifiedKFold(), scoring='roc_auc').fit(X_train, y_train)"
   ]
  },
  {
   "cell_type": "code",
   "execution_count": 72,
   "metadata": {
    "collapsed": false
   },
   "outputs": [
    {
     "name": "stdout",
     "output_type": "stream",
     "text": [
      "0.97568923221\n",
      "0.94829166827\n"
     ]
    }
   ],
   "source": [
    "# лучший результат\n",
    "\n",
    "gbt = GradientBoostingClassifier(n_estimators=80, max_depth=11, \n",
    "                             min_samples_leaf=70, random_state=42).fit(X_train, y_train)\n",
    "\n",
    "y_tr_predict = gbt.predict_proba(X_train)[:,1]\n",
    "y_test_pred = gbt.predict_proba(X_test)[:,1]\n",
    "\n",
    "print(roc_auc_score(y_train, y_tr_predict))\n",
    "print(roc_auc_score(y_test, y_test_pred))"
   ]
  },
  {
   "cell_type": "code",
   "execution_count": 21,
   "metadata": {
    "collapsed": false
   },
   "outputs": [
    {
     "name": "stdout",
     "output_type": "stream",
     "text": [
      "Feature importances:\n",
      " 1. feature 'duration' (0.2875)\n",
      " 2. feature 'euribor3m' (0.1717)\n",
      " 3. feature 'age  ' (0.1144)\n",
      " 4. feature 'nr.employed' (0.0607)\n",
      " 5. feature 'pdays' (0.0479)\n",
      " 6. feature 'cons.price.idx' (0.0365)\n",
      " 7. feature 'cons.conf.idx' (0.0324)\n",
      " 8. feature 'campaign' (0.0271)\n",
      " 9. feature 'month_oct' (0.0208)\n",
      "10. feature 'poutcome_failure' (0.0197)\n",
      "11. feature 'day_of_week_fri' (0.0143)\n",
      "12. feature 'emp.var.rate' (0.0140)\n",
      "13. feature 'education_university.degree' (0.0105)\n",
      "14. feature 'day_of_week_tue' (0.0094)\n",
      "15. feature 'month_apr' (0.0092)\n",
      "16. feature 'education_basic.4y' (0.0084)\n",
      "17. feature 'day_of_week_wed' (0.0081)\n",
      "18. feature 'day_of_week_mon' (0.0080)\n",
      "19. feature 'job_admin.' (0.0078)\n",
      "20. feature 'previous' (0.0078)\n",
      "21. feature 'contact' (0.0076)\n",
      "22. feature 'marital_married' (0.0074)\n",
      "23. feature 'job_blue-collar' (0.0071)\n",
      "24. feature 'day_of_week_thu' (0.0069)\n",
      "25. feature 'month_mar' (0.0058)\n",
      "26. feature 'month_jun' (0.0056)\n",
      "27. feature 'housing_no' (0.0048)\n",
      "28. feature 'default_no' (0.0038)\n",
      "29. feature 'education_professional.course' (0.0037)\n",
      "30. feature 'marital_single' (0.0033)\n",
      "31. feature 'default_unknown' (0.0024)\n",
      "32. feature 'housing_yes' (0.0024)\n",
      "33. feature 'job_retired' (0.0024)\n",
      "34. feature 'poutcome_success' (0.0022)\n",
      "35. feature 'education_high.school' (0.0020)\n",
      "36. feature 'loan_no' (0.0020)\n",
      "37. feature 'month_may' (0.0020)\n",
      "38. feature 'job_services' (0.0019)\n",
      "39. feature 'job_student' (0.0017)\n",
      "40. feature 'education_basic.9y' (0.0016)\n",
      "41. feature 'job_unemployed' (0.0015)\n",
      "42. feature 'month_sep' (0.0014)\n",
      "43. feature 'poutcome_nonexistent' (0.0012)\n",
      "44. feature 'month_nov' (0.0009)\n",
      "45. feature 'job_self-employed' (0.0006)\n",
      "46. feature 'month_aug' (0.0006)\n",
      "47. feature 'job_technician' (0.0006)\n",
      "48. feature 'loan_unknown' (0.0005)\n",
      "49. feature 'loan_yes' (0.0002)\n",
      "50. feature 'month_jul' (0.0000)\n",
      "51. feature 'month_dec' (0.0000)\n",
      "52. feature 'education_basic.6y' (0.0000)\n",
      "53. feature 'housing_unknown' (0.0000)\n",
      "54. feature 'default_yes' (0.0000)\n",
      "55. feature 'education_unknown' (0.0000)\n",
      "56. feature 'marital_unknown' (0.0000)\n",
      "57. feature 'job_housemaid' (0.0000)\n",
      "58. feature 'job_management' (0.0000)\n",
      "59. feature 'education_illiterate' (0.0000)\n",
      "60. feature 'job_unknown' (0.0000)\n",
      "61. feature 'marital_divorced' (0.0000)\n",
      "62. feature 'job_entrepreneur' (0.0000)\n"
     ]
    }
   ],
   "source": [
    "# таблица важных признаков\n",
    "\n",
    "feature_names = tr_data.columns\n",
    "importances_gbt = gbt.feature_importances_\n",
    "indices_gbt = np.argsort(importances_gbt)[::-1]\n",
    "\n",
    "print(\"Feature importances:\")\n",
    "for f, idx in enumerate(indices_gbt):\n",
    "    print(\"{:2d}. feature '{:5s}' ({:.4f})\".format(f + 1, feature_names[idx], importances_gbt[idx]))"
   ]
  },
  {
   "cell_type": "code",
   "execution_count": 26,
   "metadata": {
    "collapsed": false
   },
   "outputs": [
    {
     "data": {
      "text/plain": [
       "(-1, 20)"
      ]
     },
     "execution_count": 26,
     "metadata": {},
     "output_type": "execute_result"
    }
   ],
   "source": [
    "d_first = 20\n",
    "plt.figure(figsize=(8, 8))\n",
    "plt.title(\"Feature importances\")\n",
    "plt.bar(range(d_first), importances_gbt[indices_gbt[:d_first]], align='center')\n",
    "plt.xticks(range(d_first), np.array(feature_names)[indices_gbt[:d_first]], rotation=90)\n",
    "plt.xlim([-1, d_first])"
   ]
  },
  {
   "cell_type": "code",
   "execution_count": 22,
   "metadata": {
    "collapsed": false
   },
   "outputs": [
    {
     "name": "stdout",
     "output_type": "stream",
     "text": [
      "Index(['duration', 'euribor3m', 'age', 'nr.employed', 'pdays',\n",
      "       'cons.price.idx', 'cons.conf.idx', 'campaign', 'month_oct',\n",
      "       'poutcome_failure'],\n",
      "      dtype='object')\n"
     ]
    }
   ],
   "source": [
    "best_features_gbt = indices_gbt[:10]\n",
    "best_features_names_gbt = feature_names[best_features_gbt] #!!!!!!!!!!1\n",
    "tram = []                                                    #зачем трам?\n",
    "for i, elem in enumerate(feature_names):\n",
    "    if elem in best_features_names_gbt:\n",
    "        tram.append(i)\n",
    "print(best_features_names_gbt)"
   ]
  },
  {
   "cell_type": "code",
   "execution_count": 23,
   "metadata": {
    "collapsed": false
   },
   "outputs": [
    {
     "name": "stdout",
     "output_type": "stream",
     "text": [
      "0 age\n",
      "1 duration\n",
      "2 campaign\n",
      "3 pdays\n",
      "6 cons.price.idx\n",
      "7 cons.conf.idx\n",
      "8 euribor3m\n",
      "9 nr.employed\n",
      "52 month_oct\n",
      "59 poutcome_failure\n"
     ]
    }
   ],
   "source": [
    "ind_gbt = []\n",
    "\n",
    "for i, elem in enumerate(feature_names):\n",
    "    if elem in best_features_names_gbt:\n",
    "        ind_gbt.append(i)\n",
    "        print(i, elem)"
   ]
  },
  {
   "cell_type": "code",
   "execution_count": 46,
   "metadata": {
    "collapsed": false
   },
   "outputs": [
    {
     "name": "stdout",
     "output_type": "stream",
     "text": [
      "0.954800243128\n",
      "0.943669988968\n"
     ]
    }
   ],
   "source": [
    "# только с важными признаками\n",
    "\n",
    "gbt = GradientBoostingClassifier(n_estimators=100, random_state=42).fit(X_train[:,ind_gbt], y_train)\n",
    "\n",
    "y_tr_predict = gbt.predict_proba(X_train[:,ind_gbt])[:,1]\n",
    "y_test_pred = gbt.predict_proba(X_test[:,ind_gbt])[:,1]\n",
    "\n",
    "print(roc_auc_score(y_train, y_tr_predict))\n",
    "print(roc_auc_score(y_test, y_test_pred))"
   ]
  },
  {
   "cell_type": "code",
   "execution_count": 84,
   "metadata": {
    "collapsed": false
   },
   "outputs": [
    {
     "name": "stdout",
     "output_type": "stream",
     "text": [
      "0.970151184582\n",
      "0.946512905988\n"
     ]
    }
   ],
   "source": [
    "# лучший результат с важными свойствами\n",
    "\n",
    "gbt = GradientBoostingClassifier(n_estimators=80, max_depth=11, \n",
    "                             min_samples_leaf=70, random_state=42).fit(X_train[:,ind_gbt], y_train)\n",
    "\n",
    "y_tr_predict = gbt.predict_proba(X_train[:,ind_gbt])[:,1]\n",
    "y_test_pred = gbt.predict_proba(X_test[:,ind_gbt])[:,1]\n",
    "\n",
    "print(roc_auc_score(y_train, y_tr_predict))\n",
    "print(roc_auc_score(y_test, y_test_pred))"
   ]
  },
  {
   "cell_type": "code",
   "execution_count": 82,
   "metadata": {
    "collapsed": false
   },
   "outputs": [],
   "source": [
    "# ИТОГОВЫЙ ФАЙЛ\n",
    "\n",
    "ts_data['default_yes'] = 0\n",
    "\n",
    "output = gbt.predict_proba(np.array(ts_data))[:,1]\n",
    "\n",
    "d = {'Id': np.arange(len(output)), 'Prediction': output}\n",
    "df = pd.DataFrame(d)\n",
    "\n",
    "df.to_csv('output.csv', index=False)\n",
    "\n",
    "\n",
    "#y_tr_predict = gbt.predict_proba(X_train[:,ind])[:,1]"
   ]
  },
  {
   "cell_type": "code",
   "execution_count": 61,
   "metadata": {
    "collapsed": false
   },
   "outputs": [
    {
     "name": "stdout",
     "output_type": "stream",
     "text": [
      "0.945220961\n",
      "0.938065969817\n"
     ]
    }
   ],
   "source": [
    "ada = AdaBoostClassifier(n_estimators=100, random_state=42).fit(X_train, y_train)\n",
    "\n",
    "y_tr_predict = ada.predict_proba(X_train)[:,1]\n",
    "y_test_pred = ada.predict_proba(X_test)[:,1]\n",
    "\n",
    "print(roc_auc_score(y_train, y_tr_predict))\n",
    "print(roc_auc_score(y_test, y_test_pred))"
   ]
  },
  {
   "cell_type": "code",
   "execution_count": 64,
   "metadata": {
    "collapsed": false
   },
   "outputs": [
    {
     "ename": "NameError",
     "evalue": "name 'GridSearchCV' is not defined",
     "output_type": "error",
     "traceback": [
      "\u001b[0;31m---------------------------------------------------------------------------\u001b[0m",
      "\u001b[0;31mNameError\u001b[0m                                 Traceback (most recent call last)",
      "\u001b[0;32m<ipython-input-64-8b5fc057ff18>\u001b[0m in \u001b[0;36m<module>\u001b[0;34m()\u001b[0m\n\u001b[1;32m      3\u001b[0m \u001b[1;33m\u001b[0m\u001b[0m\n\u001b[1;32m      4\u001b[0m \u001b[0mada\u001b[0m \u001b[1;33m=\u001b[0m \u001b[0mAdaBoostClassifier\u001b[0m\u001b[1;33m(\u001b[0m\u001b[1;33m)\u001b[0m\u001b[1;33m\u001b[0m\u001b[0m\n\u001b[0;32m----> 5\u001b[0;31m grid_ada = GridSearchCV(ada, param_grid=param_grid, cv=StratifiedKFold(), \n\u001b[0m\u001b[1;32m      6\u001b[0m                         scoring=make_scorer(roc_auc_score)).fit(X_train[:, ind], y_train)\n",
      "\u001b[0;31mNameError\u001b[0m: name 'GridSearchCV' is not defined"
     ]
    }
   ],
   "source": [
    "param_grid = {'n_estimators': [10, 30, 100, 300],\n",
    "                  'learning_rate': [0.1, 0.3, 1.0, 3.0]}\n",
    "\n",
    "ada = AdaBoostClassifier()\n",
    "grid_ada = GridSearchCV(ada, param_grid=param_grid, cv=StratifiedKFold(), \n",
    "                        scoring=make_scorer(roc_auc_score)).fit(X_train[:, ind], y_train)"
   ]
  },
  {
   "cell_type": "code",
   "execution_count": 42,
   "metadata": {
    "collapsed": false
   },
   "outputs": [
    {
     "name": "stdout",
     "output_type": "stream",
     "text": [
      "0.948601263827\n",
      "0.938197891814\n"
     ]
    }
   ],
   "source": [
    "# смотрим как изменилось\n",
    "\n",
    "ada = AdaBoostClassifier(n_estimators=grid_ada.best_estimator_.n_estimators, learning_rate=grid_ada.best_estimator_.learning_rate,\n",
    "                         random_state=42).fit(X_train[:, ind], y_train)\n",
    "\n",
    "y_tr_predict = ada.predict_proba(X_train[:,ind])[:,1]\n",
    "y_test_pred = ada.predict_proba(X_test[:,ind])[:,1]\n",
    "\n",
    "print(roc_auc_score(y_train, y_tr_predict))\n",
    "print(roc_auc_score(y_test, y_test_pred))"
   ]
  },
  {
   "cell_type": "code",
   "execution_count": 94,
   "metadata": {
    "collapsed": false
   },
   "outputs": [
    {
     "name": "stdout",
     "output_type": "stream",
     "text": [
      "0.922715855508\n",
      "0.919653250789\n"
     ]
    }
   ],
   "source": [
    "from sklearn.tree import DecisionTreeClassifier\n",
    "\n",
    "dtc = DecisionTreeClassifier(max_depth=4, random_state=42).fit(X_train, y_train)\n",
    "\n",
    "y_tr_predict = dtc.predict_proba(X_train)[:,1]\n",
    "y_test_pred = dtc.predict_proba(X_test)[:,1]\n",
    "\n",
    "print(roc_auc_score(y_train, y_tr_predict))\n",
    "print(roc_auc_score(y_test, y_test_pred))"
   ]
  },
  {
   "cell_type": "code",
   "execution_count": null,
   "metadata": {
    "collapsed": true
   },
   "outputs": [],
   "source": [
    "param_grid = {'n_estimators': range(20,101,10),\n",
    "                    'max_depth': range(5,16,2),\n",
    "                    'min_samples_leaf': range(10,71,10), 'criterion':['gini', 'entropy']}\n",
    "\n",
    "etc = ExtraTreesClassifier()\n",
    "grid_etc = GridSearchCV(etc, param_grid=param_grid, cv=StratifiedKFold(), scoring=make_scorer(roc_auc_score)).fit(X_train, y_train)"
   ]
  },
  {
   "cell_type": "code",
   "execution_count": null,
   "metadata": {
    "collapsed": true
   },
   "outputs": [],
   "source": [
    "dtc = DecisionTreeClassifier(n_estimators=30, max_depth=13, min_samples_leaf=10, criterion='entropy').fit(X_train, y_train)\n",
    "\n",
    "y_tr_predict = dtc.predict_proba(X_train)[:,1]\n",
    "y_test_pred = dtc.predict_proba(X_test)[:,1]\n",
    "\n",
    "print(roc_auc_score(y_train, y_tr_predict))\n",
    "print(roc_auc_score(y_test, y_test_pred))"
   ]
  },
  {
   "cell_type": "code",
   "execution_count": 76,
   "metadata": {
    "collapsed": false
   },
   "outputs": [
    {
     "name": "stdout",
     "output_type": "stream",
     "text": [
      "1.0\n",
      "0.910453425242\n"
     ]
    }
   ],
   "source": [
    "from sklearn.ensemble import ExtraTreesClassifier\n",
    "\n",
    "etc = ExtraTreesClassifier(n_estimators=200, random_state=42).fit(X_train, y_train)\n",
    "\n",
    "y_tr_predict = etc.predict_proba(X_train)[:,1]\n",
    "y_test_pred = etc.predict_proba(X_test)[:,1]\n",
    "\n",
    "print(roc_auc_score(y_train, y_tr_predict))\n",
    "print(roc_auc_score(y_test, y_test_pred))"
   ]
  },
  {
   "cell_type": "code",
   "execution_count": 85,
   "metadata": {
    "collapsed": true
   },
   "outputs": [],
   "source": [
    "from sklearn.model_selection import StratifiedKFold\n",
    "from sklearn.model_selection import GridSearchCV\n",
    "\n",
    "\n",
    "param_grid = {'n_estimators': range(20,101,10),\n",
    "                    'max_depth': range(5,16,2),\n",
    "                    'min_samples_leaf': range(10,71,10), 'criterion':['gini', 'entropy']}\n",
    "\n",
    "etc = ExtraTreesClassifier()\n",
    "grid_etc = GridSearchCV(etc, param_grid=param_grid, cv=StratifiedKFold(), scoring='roc_auc').fit(X_train, y_train)"
   ]
  },
  {
   "cell_type": "code",
   "execution_count": 87,
   "metadata": {
    "collapsed": false
   },
   "outputs": [
    {
     "data": {
      "text/plain": [
       "ExtraTreesClassifier(bootstrap=False, class_weight=None, criterion='entropy',\n",
       "           max_depth=13, max_features='auto', max_leaf_nodes=None,\n",
       "           min_impurity_split=1e-07, min_samples_leaf=10,\n",
       "           min_samples_split=2, min_weight_fraction_leaf=0.0,\n",
       "           n_estimators=30, n_jobs=1, oob_score=False, random_state=None,\n",
       "           verbose=0, warm_start=False)"
      ]
     },
     "execution_count": 87,
     "metadata": {},
     "output_type": "execute_result"
    }
   ],
   "source": [
    "grid_etc.best_estimator_"
   ]
  },
  {
   "cell_type": "code",
   "execution_count": 91,
   "metadata": {
    "collapsed": false
   },
   "outputs": [
    {
     "name": "stdout",
     "output_type": "stream",
     "text": [
      "0.939223163773\n",
      "0.913807955887\n"
     ]
    }
   ],
   "source": [
    "etc = ExtraTreesClassifier(n_estimators=30, max_depth=13, min_samples_leaf=10, criterion='entropy').fit(X_train, y_train)\n",
    "\n",
    "y_tr_predict = etc.predict_proba(X_train)[:,1]\n",
    "y_test_pred = etc.predict_proba(X_test)[:,1]\n",
    "\n",
    "print(roc_auc_score(y_train, y_tr_predict))\n",
    "print(roc_auc_score(y_test, y_test_pred))"
   ]
  },
  {
   "cell_type": "code",
   "execution_count": 92,
   "metadata": {
    "collapsed": false
   },
   "outputs": [
    {
     "name": "stdout",
     "output_type": "stream",
     "text": [
      "0.9956510633\n",
      "0.943988429667\n",
      "0.993468085179\n",
      "0.946948116293\n"
     ]
    }
   ],
   "source": [
    "from sklearn.ensemble import VotingClassifier\n",
    "\n",
    "\n",
    "eclf2 = VotingClassifier(estimators=[\n",
    "        ('gbt', gbt), ('rfc', rfc), ('ada', ada), ('etc', etc)],\n",
    "        voting='soft').fit(X_train, y_train)\n",
    "\n",
    "y_tr_predict2 = eclf2.predict_proba(X_train)[:,1]\n",
    "y_test_pred2 = eclf2.predict_proba(X_test)[:,1]\n",
    "\n",
    "print(roc_auc_score(y_train, y_tr_predict2))\n",
    "print(roc_auc_score(y_test, y_test_pred2))\n",
    "\n",
    "eclf3 = VotingClassifier(estimators=[\n",
    "       ('gbt', gbt), ('rfc', rfc), ('ada', ada), ('etc', etc)],\n",
    "       voting='soft', weights=[4,2,2,1]).fit(X_train, y_train)\n",
    "\n",
    "y_tr_predict3 = eclf3.predict_proba(X_train)[:,1]\n",
    "y_test_pred3 = eclf3.predict_proba(X_test)[:,1]\n",
    "\n",
    "print(roc_auc_score(y_train, y_tr_predict3))\n",
    "print(roc_auc_score(y_test, y_test_pred3))"
   ]
  },
  {
   "cell_type": "code",
   "execution_count": null,
   "metadata": {
    "collapsed": true
   },
   "outputs": [],
   "source": []
  }
 ],
 "metadata": {
  "kernelspec": {
   "display_name": "Python 3",
   "language": "python",
   "name": "python3"
  },
  "language_info": {
   "codemirror_mode": {
    "name": "ipython",
    "version": 3
   },
   "file_extension": ".py",
   "mimetype": "text/x-python",
   "name": "python",
   "nbconvert_exporter": "python",
   "pygments_lexer": "ipython3",
   "version": "3.4.3"
  }
 },
 "nbformat": 4,
 "nbformat_minor": 1
}
