{
 "cells": [
  {
   "cell_type": "code",
   "execution_count": 1,
   "metadata": {
    "collapsed": true
   },
   "outputs": [],
   "source": [
    "import os\n",
    "import nltk\n",
    "from nltk.tokenize import WhitespaceTokenizer\n",
    "from nltk.corpus import stopwords\n",
    "from string import punctuation\n",
    "from collections import defaultdict\n",
    "from pymorphy2 import MorphAnalyzer\n",
    "import json"
   ]
  },
  {
   "cell_type": "code",
   "execution_count": 2,
   "metadata": {
    "collapsed": true
   },
   "outputs": [],
   "source": [
    "def lemmatisation(text):\n",
    "    morph = MorphAnalyzer()\n",
    "    stop_words = stopwords.words('russian')\n",
    "    exclude = set(punctuation + '0123456789'+'–—'+'«»')\n",
    "    text = ''.join(ch for ch in text if ch not in exclude)\n",
    "    tokens = WhitespaceTokenizer().tokenize(text.lower()) \n",
    "    tokens = [i.strip() for i in tokens if i not in stop_words]\n",
    "    lemmas = [morph.parse(i)[0].normal_form for i in tokens]\n",
    "    return lemmas"
   ]
  },
  {
   "cell_type": "code",
   "execution_count": 3,
   "metadata": {
    "collapsed": false
   },
   "outputs": [],
   "source": [
    "inv_index = defaultdict(set)  # словарь ключ-лемма, значение - список кортежей, состоящих из ссылки и fq\n",
    "url_info = defaultdict(list)   # словарь ключ-ссылка на статью, значение - лист, состоящий из длины статьи и заголовка\n",
    "#num_words = 0\n",
    "#N = 0\n",
    "\n",
    "for root, dirs, files in os.walk('./corpus_susnov/'):\n",
    "    for fname in files:\n",
    "        if fname[-4:] == '.txt':\n",
    "            with open(root+'/'+fname, 'r', encoding='utf-8') as f:\n",
    "                lines = f.readlines()\n",
    "                url = lines[4].lstrip('@url').strip()\n",
    "                title = lines[1].lstrip('@ti').strip()\n",
    "                lemmas = lemmatisation(' '.join(lines[5:]))\n",
    "                url_info[url] = [len(lemmas), title]\n",
    "                #num_words += len(lemmas)\n",
    "                #N += 1\n",
    "                for lemma in lemmas:\n",
    "                    fq = lemmas.count(lemma)\n",
    "                    inv_index[lemma].add((url, fq))\n",
    "                \n",
    "#avgdl = num_words/N    # средняя длина документа в коллекции"
   ]
  },
  {
   "cell_type": "code",
   "execution_count": 4,
   "metadata": {
    "collapsed": false
   },
   "outputs": [],
   "source": [
    "for key in inv_index.keys():\n",
    "    inv_index[key] = list(inv_index[key])"
   ]
  },
  {
   "cell_type": "code",
   "execution_count": 5,
   "metadata": {
    "collapsed": false
   },
   "outputs": [],
   "source": [
    "with open('inv_index.json', 'w', encoding='utf-8-sig') as f:\n",
    "    f.write(json.dumps(inv_index, ensure_ascii=False))\n",
    "    \n",
    "with open('url_info.json', 'w', encoding='utf-8-sig') as f:\n",
    "    f.write(json.dumps(url_info, ensure_ascii=False))"
   ]
  },
  {
   "cell_type": "code",
   "execution_count": null,
   "metadata": {
    "collapsed": true
   },
   "outputs": [],
   "source": []
  }
 ],
 "metadata": {
  "kernelspec": {
   "display_name": "Python 3",
   "language": "python",
   "name": "python3"
  },
  "language_info": {
   "codemirror_mode": {
    "name": "ipython",
    "version": 3
   },
   "file_extension": ".py",
   "mimetype": "text/x-python",
   "name": "python",
   "nbconvert_exporter": "python",
   "pygments_lexer": "ipython3",
   "version": "3.5.3"
  }
 },
 "nbformat": 4,
 "nbformat_minor": 2
}
