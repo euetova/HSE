{
 "cells": [
  {
   "cell_type": "markdown",
   "metadata": {},
   "source": [
    "**Задание по проекту.** \n",
    "Для его выполнения вам понадобится собранная коллекция документов и функция, составляющая обратный индекс по словам в коллекции.\n",
    "\n",
    "Напишите функцию (или несколько отдельных логичный функций), которая по запросу $Q = q_1,..., g_n$ и коллекции $D$ сортирует выдачу подходящих документов. Будем считать документ подходящим, если он содержит хотя бы одно слово из запроса (из которого удалены стоп-слова). В качестве метрики используйте *Okapi BM25*.\n",
    "\n",
    "Для проверки работы функции на вашем корпусе используйте запрос **каникулы на новый год и рождество**. Выведите ссылки в ipynb на первые десять докуменов в отсортированной выдаче(как во втором семинаре с помощью IPython.display) и их оценку BM25. Напомню, что ссылки на документы хрянятся в самих доках под тэгом @url."
   ]
  },
  {
   "cell_type": "markdown",
   "metadata": {},
   "source": [
    "Про что не забыть:\n",
    "1. Лемматизируем запрос, удаляем стоп-слова => запрос готов\n",
    "2. Лемматизируем слова в документах => документы готовы к подсчетам статистик по запросу"
   ]
  },
  {
   "cell_type": "code",
   "execution_count": 1,
   "metadata": {
    "collapsed": true
   },
   "outputs": [],
   "source": [
    "import os\n",
    "import nltk\n",
    "from nltk.tokenize import WhitespaceTokenizer\n",
    "from nltk.corpus import stopwords\n",
    "from string import punctuation\n",
    "from collections import defaultdict\n",
    "from pymorphy2 import MorphAnalyzer\n",
    "from math import log\n",
    "from IPython.display import HTML, display\n",
    "import json"
   ]
  },
  {
   "cell_type": "code",
   "execution_count": 2,
   "metadata": {
    "collapsed": true
   },
   "outputs": [],
   "source": [
    "k1 = 2.0\n",
    "b = 0.75\n",
    "\n",
    "def score_BM25(n, fq, N, dl, avdl):\n",
    "    K = compute_K(dl, avdl)\n",
    "    IDF = log((N - n + 0.5) / (n + 0.5))\n",
    "    frac = ((k1 + 1) * fq) / (K + fq)\n",
    "    return IDF * frac\n",
    "\n",
    "\n",
    "def compute_K(dl, avdl):\n",
    "    return k1 * ((1-b) + b * (float(dl)/float(avdl)))"
   ]
  },
  {
   "cell_type": "code",
   "execution_count": 3,
   "metadata": {
    "collapsed": true
   },
   "outputs": [],
   "source": [
    "def lemmatisation(text):\n",
    "    morph = MorphAnalyzer()\n",
    "    stop_words = stopwords.words('russian')\n",
    "    exclude = set(punctuation + '0123456789'+'–—'+'«»')\n",
    "    text = ''.join(ch for ch in text if ch not in exclude)\n",
    "    tokens = WhitespaceTokenizer().tokenize(text.lower()) \n",
    "    tokens = [i.strip() for i in tokens if i not in stop_words]\n",
    "    lemmas = [morph.parse(i)[0].normal_form for i in tokens]\n",
    "    return lemmas"
   ]
  },
  {
   "cell_type": "code",
   "execution_count": 4,
   "metadata": {
    "collapsed": true
   },
   "outputs": [],
   "source": [
    "def search(query):\n",
    "    query = lemmatisation(query)\n",
    "    relevant_urls = defaultdict(float)\n",
    "    for lemma in query:\n",
    "        if lemma in inv_index:\n",
    "            lemma_info = inv_index[lemma]\n",
    "            n = len(lemma_info)\n",
    "            for i in lemma_info:\n",
    "                fq = i[1]\n",
    "                dl = url_info[i[0]][0]\n",
    "                link = '<a href=\"' + i[0] + '\">' + url_info[i[0]][1] + '</a>'\n",
    "                relevant_urls[link] += score_BM25(n, fq, N, dl, avgdl)\n",
    "    res = sorted(relevant_urls.items(),key=lambda x: x[1],reverse=True)\n",
    "    return res"
   ]
  },
  {
   "cell_type": "code",
   "execution_count": 5,
   "metadata": {
    "collapsed": false
   },
   "outputs": [],
   "source": [
    "with open('inv_index.json','r',encoding='utf-8-sig') as f:\n",
    "    inv_index = json.loads(f.read())\n",
    "with open('url_info.json','r',encoding='utf-8-sig') as f:\n",
    "    url_info = json.loads(f.read())"
   ]
  },
  {
   "cell_type": "code",
   "execution_count": 6,
   "metadata": {
    "collapsed": false
   },
   "outputs": [],
   "source": [
    "N = len(url_info)\n",
    "num_words = sum([i[0] for i in url_info.values()])\n",
    "avgdl = num_words/N"
   ]
  },
  {
   "cell_type": "code",
   "execution_count": 7,
   "metadata": {
    "collapsed": false
   },
   "outputs": [
    {
     "data": {
      "text/html": [
       "9.519325346729048 - <a href=\"http://susnov.ru/segodnya-v-gazete/122-chitat-gazetu/3268-novyj-god-volshebnyj-prazdnik.html\">Новый год - волшебный праздник</a>"
      ],
      "text/plain": [
       "<IPython.core.display.HTML object>"
      ]
     },
     "metadata": {},
     "output_type": "display_data"
    },
    {
     "data": {
      "text/html": [
       "9.32992748142211 - <a href=\"http://susnov.ru/segodnya-v-gazete/122-chitat-gazetu/2308-prezident-rf-vladimir-putin-pozdravil-s-novym-godom.html\">Президент РФ Владимир Путин поздравил с Новым годом</a>"
      ],
      "text/plain": [
       "<IPython.core.display.HTML object>"
      ]
     },
     "metadata": {},
     "output_type": "display_data"
    },
    {
     "data": {
      "text/html": [
       "9.290516120212727 - <a href=\"http://susnov.ru/segodnya-v-gazete/122-chitat-gazetu/322-vozrozhdenie-khrama.html\">Возрождение храма</a>"
      ],
      "text/plain": [
       "<IPython.core.display.HTML object>"
      ]
     },
     "metadata": {},
     "output_type": "display_data"
    },
    {
     "data": {
      "text/html": [
       "9.149018614803127 - <a href=\"http://susnov.ru/segodnya-v-gazete/122-chitat-gazetu/1320-podari-rebjonku-novyj-god-i-rozhdestvo.html\">Подари ребёнку Новый год и Рождество</a>"
      ],
      "text/plain": [
       "<IPython.core.display.HTML object>"
      ]
     },
     "metadata": {},
     "output_type": "display_data"
    },
    {
     "data": {
      "text/html": [
       "8.858691568016429 - <a href=\"http://susnov.ru/segodnya-v-gazete/122-chitat-gazetu/3290-s-novym-godom-i-rozhdestvom-pozdravil-prezident-rf.html\">С Новым годом и Рождеством поздравил Президент РФ</a>"
      ],
      "text/plain": [
       "<IPython.core.display.HTML object>"
      ]
     },
     "metadata": {},
     "output_type": "display_data"
    },
    {
     "data": {
      "text/html": [
       "8.749089325216794 - <a href=\"http://susnov.ru/segodnya-v-gazete/122-chitat-gazetu/2626-initsiativa-gubernatora-o-nalogovykh-lgotakh.html\">Инициатива губернатора о налоговых льготах</a>"
      ],
      "text/plain": [
       "<IPython.core.display.HTML object>"
      ]
     },
     "metadata": {},
     "output_type": "display_data"
    },
    {
     "data": {
      "text/html": [
       "8.608378494667122 - <a href=\"http://susnov.ru/segodnya-v-gazete/122-chitat-gazetu/2330-otkliknulis-i-podderzhali.html\">Откликнулись и поддержали</a>"
      ],
      "text/plain": [
       "<IPython.core.display.HTML object>"
      ]
     },
     "metadata": {},
     "output_type": "display_data"
    },
    {
     "data": {
      "text/html": [
       "8.146366829003284 - <a href=\"http://susnov.ru/4389-nachalas-podgotovka-k-provedeniyu-festivalya-snezhno-ledovykh-skulptur-kostroma-zimnyaya-skazka.html\">Началась подготовка к проведению фестиваля снежно-ледовых скульптур «Кострома – зимняя сказка»</a>"
      ],
      "text/plain": [
       "<IPython.core.display.HTML object>"
      ]
     },
     "metadata": {},
     "output_type": "display_data"
    },
    {
     "data": {
      "text/html": [
       "8.063457407203156 - <a href=\"http://susnov.ru/segodnya-v-gazete/122-chitat-gazetu/4791-povestka-komissii-byla-nasyshchennoj.html\">Повестка комиссии была насыщенной</a>"
      ],
      "text/plain": [
       "<IPython.core.display.HTML object>"
      ]
     },
     "metadata": {},
     "output_type": "display_data"
    },
    {
     "data": {
      "text/html": [
       "7.7685570753267745 - <a href=\"http://susnov.ru/4496-v-khramakh-organizovano-dezhurstvo-sotrudnikov-mchs.html\">В храмах организовано дежурство сотрудников МЧС и полиции</a>"
      ],
      "text/plain": [
       "<IPython.core.display.HTML object>"
      ]
     },
     "metadata": {},
     "output_type": "display_data"
    }
   ],
   "source": [
    "res = search('каникулы на новый год и рождество')\n",
    "\n",
    "for link, score in res[:10]:\n",
    "    url = '{} - {}'.format(score, link)\n",
    "    display(HTML(str(url)))"
   ]
  },
  {
   "cell_type": "code",
   "execution_count": null,
   "metadata": {
    "collapsed": true
   },
   "outputs": [],
   "source": []
  }
 ],
 "metadata": {
  "kernelspec": {
   "display_name": "Python 3",
   "language": "python",
   "name": "python3"
  },
  "language_info": {
   "codemirror_mode": {
    "name": "ipython",
    "version": 3
   },
   "file_extension": ".py",
   "mimetype": "text/x-python",
   "name": "python",
   "nbconvert_exporter": "python",
   "pygments_lexer": "ipython3",
   "version": "3.5.3"
  }
 },
 "nbformat": 4,
 "nbformat_minor": 2
}
