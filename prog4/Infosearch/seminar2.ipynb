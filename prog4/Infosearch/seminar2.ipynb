{
 "cells": [
  {
   "cell_type": "code",
   "execution_count": 1,
   "metadata": {
    "collapsed": true
   },
   "outputs": [],
   "source": [
    "import requests\n",
    "from bs4 import BeautifulSoup\n",
    "from IPython.display import HTML, display"
   ]
  },
  {
   "cell_type": "markdown",
   "metadata": {},
   "source": [
    "Написать краулер, который собирает ссылки со страниц румынской Википедии."
   ]
  },
  {
   "cell_type": "code",
   "execution_count": 2,
   "metadata": {
    "collapsed": true
   },
   "outputs": [],
   "source": [
    "url = 'http://mo.wikipedia.org'"
   ]
  },
  {
   "cell_type": "code",
   "execution_count": 3,
   "metadata": {
    "collapsed": true
   },
   "outputs": [],
   "source": [
    "def links_from_page(url, link = url):\n",
    "    \"\"\"Находит все неслужебные ссылки с одной страницы румынской Википедии.\n",
    "    \n",
    "    Args:\n",
    "        url: site domain\n",
    "        link: set of links\n",
    "      \n",
    "    Returns:\n",
    "        Set of links that were found.\n",
    "    \"\"\"\n",
    "    req = requests.get(link)\n",
    "    soup = BeautifulSoup(req.text, 'lxml')\n",
    "    links = []\n",
    "    \n",
    "    for h in soup.findAll('a', href = True):\n",
    "        if h['href'].startswith('/wiki/') and ':' not in h['href']:\n",
    "            links.append(url + h['href'])\n",
    "            \n",
    "    return set(links)"
   ]
  },
  {
   "cell_type": "code",
   "execution_count": 4,
   "metadata": {
    "collapsed": true
   },
   "outputs": [],
   "source": [
    "def mo_wiki_parser(url):\n",
    "    \"\"\"Находит все неслужебные ссылки румынской Википедии.\n",
    "    \n",
    "    Args:\n",
    "        url: site domain\n",
    "      \n",
    "    Returns:\n",
    "        Set of links that were found.\n",
    "    \"\"\"\n",
    "    links = links_from_page(url)\n",
    "    all_links = set()\n",
    "    \n",
    "    while links:\n",
    "        new_links = set()\n",
    "        for link in links:\n",
    "            new_links |= links_from_page(url, link)\n",
    "        links = new_links.difference(all_links)\n",
    "        all_links |= new_links\n",
    "        \n",
    "    return all_links"
   ]
  },
  {
   "cell_type": "code",
   "execution_count": 5,
   "metadata": {
    "collapsed": true
   },
   "outputs": [],
   "source": [
    "links = mo_wiki_parser(url)"
   ]
  },
  {
   "cell_type": "code",
   "execution_count": 6,
   "metadata": {
    "collapsed": false
   },
   "outputs": [
    {
     "data": {
      "text/plain": [
       "319"
      ]
     },
     "execution_count": 6,
     "metadata": {},
     "output_type": "execute_result"
    }
   ],
   "source": [
    "len(links)"
   ]
  },
  {
   "cell_type": "code",
   "execution_count": null,
   "metadata": {
    "collapsed": true
   },
   "outputs": [],
   "source": []
  }
 ],
 "metadata": {
  "kernelspec": {
   "display_name": "Python 3",
   "language": "python",
   "name": "python3"
  },
  "language_info": {
   "codemirror_mode": {
    "name": "ipython",
    "version": 3
   },
   "file_extension": ".py",
   "mimetype": "text/x-python",
   "name": "python",
   "nbconvert_exporter": "python",
   "pygments_lexer": "ipython3",
   "version": "3.5.3"
  }
 },
 "nbformat": 4,
 "nbformat_minor": 2
}
