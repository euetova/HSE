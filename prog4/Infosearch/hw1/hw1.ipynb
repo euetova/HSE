{
 "cells": [
  {
   "cell_type": "code",
   "execution_count": 1,
   "metadata": {
    "collapsed": true
   },
   "outputs": [],
   "source": [
    "import pandas as pd\n",
    "import os\n",
    "import nltk\n",
    "from nltk.tokenize import WhitespaceTokenizer\n",
    "from string import punctuation\n",
    "from collections import defaultdict"
   ]
  },
  {
   "cell_type": "code",
   "execution_count": 2,
   "metadata": {
    "collapsed": true
   },
   "outputs": [],
   "source": [
    "alltxt = ''         #все тексты в одной переменной\n",
    "file_doc = {}\n",
    "\n",
    "for root, dirs, files in os.walk('.'):\n",
    "    for fname in files:\n",
    "        point = fname.rfind('.')\n",
    "        extension = fname[point + 1:]\n",
    "        if extension == 'txt':\n",
    "            file = open(root+'/'+fname, 'r+')\n",
    "            f = file.read()\n",
    "            file_doc[fname] = f\n",
    "            alltxt += f\n",
    "            file.close()"
   ]
  },
  {
   "cell_type": "code",
   "execution_count": 3,
   "metadata": {
    "collapsed": true
   },
   "outputs": [],
   "source": [
    "def tokens(file):  # находит токены\n",
    "    exclude = set(punctuation + '0123456789'+'–—'+'«»')\n",
    "    file = ''.join(ch for ch in file if ch not in exclude)\n",
    "    tkns = WhitespaceTokenizer().tokenize(file.lower()) \n",
    "    return tkns"
   ]
  },
  {
   "cell_type": "code",
   "execution_count": 4,
   "metadata": {
    "collapsed": false
   },
   "outputs": [],
   "source": [
    "set_of_words = list(set(tokens(alltxt))) # уникальные токены"
   ]
  },
  {
   "cell_type": "code",
   "execution_count": 5,
   "metadata": {
    "collapsed": false
   },
   "outputs": [],
   "source": [
    "word_doc = defaultdict(list)\n",
    "all_doc = list(file_doc.keys())\n",
    "\n",
    "for i in range(len(set_of_words)):\n",
    "    for d in all_doc:\n",
    "        if set_of_words[i] in file_doc[d]:\n",
    "            word_doc[set_of_words[i]].append(d)"
   ]
  },
  {
   "cell_type": "code",
   "execution_count": 14,
   "metadata": {
    "collapsed": false
   },
   "outputs": [],
   "source": [
    "inverse_id = pd.DataFrame(columns=['words', 'docs'])\n",
    "\n",
    "inverse_id['words'] = word_doc.keys()\n",
    "inverse_id['docs'] = word_doc.values()"
   ]
  },
  {
   "cell_type": "code",
   "execution_count": 16,
   "metadata": {
    "collapsed": true
   },
   "outputs": [],
   "source": [
    "inverse_id.docs = [\", \".join(inverse_id.docs[i]) for i in range(len(inverse_id))] # чтобы не печатались скобки в таблице"
   ]
  },
  {
   "cell_type": "code",
   "execution_count": 17,
   "metadata": {
    "collapsed": false
   },
   "outputs": [
    {
     "data": {
      "text/html": [
       "<div>\n",
       "<table border=\"1\" class=\"dataframe\">\n",
       "  <thead>\n",
       "    <tr style=\"text-align: right;\">\n",
       "      <th></th>\n",
       "      <th>words</th>\n",
       "      <th>docs</th>\n",
       "    </tr>\n",
       "  </thead>\n",
       "  <tbody>\n",
       "    <tr>\n",
       "      <th>0</th>\n",
       "      <td>простого</td>\n",
       "      <td>ak2.txt</td>\n",
       "    </tr>\n",
       "    <tr>\n",
       "      <th>1</th>\n",
       "      <td>протеста</td>\n",
       "      <td>fl3.txt, fl2.txt</td>\n",
       "    </tr>\n",
       "    <tr>\n",
       "      <th>2</th>\n",
       "      <td>заглянул</td>\n",
       "      <td>mumi.txt, fl3.txt, ak4.txt, mumi2.txt</td>\n",
       "    </tr>\n",
       "    <tr>\n",
       "      <th>3</th>\n",
       "      <td>эти</td>\n",
       "      <td>ak1.txt, mumi.txt, fl3.txt, ak5.txt, ak2.txt, ...</td>\n",
       "    </tr>\n",
       "    <tr>\n",
       "      <th>4</th>\n",
       "      <td>стеклянных</td>\n",
       "      <td>ak1.txt</td>\n",
       "    </tr>\n",
       "    <tr>\n",
       "      <th>5</th>\n",
       "      <td>охотничий</td>\n",
       "      <td>fl3.txt, fl2.txt</td>\n",
       "    </tr>\n",
       "    <tr>\n",
       "      <th>6</th>\n",
       "      <td>обошлось</td>\n",
       "      <td>mumi.txt, fl3.txt, fl2.txt</td>\n",
       "    </tr>\n",
       "    <tr>\n",
       "      <th>7</th>\n",
       "      <td>пилой</td>\n",
       "      <td>fl3.txt, fl1.txt</td>\n",
       "    </tr>\n",
       "    <tr>\n",
       "      <th>8</th>\n",
       "      <td>привычным</td>\n",
       "      <td>ak1.txt, ak5.txt, ak4.txt, ak3.txt</td>\n",
       "    </tr>\n",
       "    <tr>\n",
       "      <th>9</th>\n",
       "      <td>мотоцикл</td>\n",
       "      <td>fl3.txt, fl1.txt, fl2.txt</td>\n",
       "    </tr>\n",
       "    <tr>\n",
       "      <th>10</th>\n",
       "      <td>храбрым</td>\n",
       "      <td>mumi.txt, mumi2.txt</td>\n",
       "    </tr>\n",
       "    <tr>\n",
       "      <th>11</th>\n",
       "      <td>богобоязненного</td>\n",
       "      <td>fl3.txt</td>\n",
       "    </tr>\n",
       "    <tr>\n",
       "      <th>12</th>\n",
       "      <td>сувениры</td>\n",
       "      <td>fl3.txt, fl2.txt</td>\n",
       "    </tr>\n",
       "    <tr>\n",
       "      <th>13</th>\n",
       "      <td>веры</td>\n",
       "      <td>fl3.txt, fl1.txt</td>\n",
       "    </tr>\n",
       "    <tr>\n",
       "      <th>14</th>\n",
       "      <td>печи</td>\n",
       "      <td>ak4.txt</td>\n",
       "    </tr>\n",
       "    <tr>\n",
       "      <th>15</th>\n",
       "      <td>гармошке</td>\n",
       "      <td>mumi.txt</td>\n",
       "    </tr>\n",
       "    <tr>\n",
       "      <th>16</th>\n",
       "      <td>брожу</td>\n",
       "      <td>mumi.txt</td>\n",
       "    </tr>\n",
       "    <tr>\n",
       "      <th>17</th>\n",
       "      <td>прошедшему</td>\n",
       "      <td>ak4.txt</td>\n",
       "    </tr>\n",
       "    <tr>\n",
       "      <th>18</th>\n",
       "      <td>звенькали</td>\n",
       "      <td>mumi.txt</td>\n",
       "    </tr>\n",
       "    <tr>\n",
       "      <th>19</th>\n",
       "      <td>выступавшему</td>\n",
       "      <td>mumi.txt, mumi2.txt</td>\n",
       "    </tr>\n",
       "  </tbody>\n",
       "</table>\n",
       "</div>"
      ],
      "text/plain": [
       "              words                                               docs\n",
       "0          простого                                            ak2.txt\n",
       "1          протеста                                   fl3.txt, fl2.txt\n",
       "2          заглянул              mumi.txt, fl3.txt, ak4.txt, mumi2.txt\n",
       "3               эти  ak1.txt, mumi.txt, fl3.txt, ak5.txt, ak2.txt, ...\n",
       "4        стеклянных                                            ak1.txt\n",
       "5         охотничий                                   fl3.txt, fl2.txt\n",
       "6          обошлось                         mumi.txt, fl3.txt, fl2.txt\n",
       "7             пилой                                   fl3.txt, fl1.txt\n",
       "8         привычным                 ak1.txt, ak5.txt, ak4.txt, ak3.txt\n",
       "9          мотоцикл                          fl3.txt, fl1.txt, fl2.txt\n",
       "10          храбрым                                mumi.txt, mumi2.txt\n",
       "11  богобоязненного                                            fl3.txt\n",
       "12         сувениры                                   fl3.txt, fl2.txt\n",
       "13             веры                                   fl3.txt, fl1.txt\n",
       "14             печи                                            ak4.txt\n",
       "15         гармошке                                           mumi.txt\n",
       "16            брожу                                           mumi.txt\n",
       "17       прошедшему                                            ak4.txt\n",
       "18        звенькали                                           mumi.txt\n",
       "19     выступавшему                                mumi.txt, mumi2.txt"
      ]
     },
     "execution_count": 17,
     "metadata": {},
     "output_type": "execute_result"
    }
   ],
   "source": [
    "inverse_id.head(20)"
   ]
  },
  {
   "cell_type": "code",
   "execution_count": null,
   "metadata": {
    "collapsed": true
   },
   "outputs": [],
   "source": []
  }
 ],
 "metadata": {
  "anaconda-cloud": {},
  "kernelspec": {
   "display_name": "Python [conda root]",
   "language": "python",
   "name": "conda-root-py"
  },
  "language_info": {
   "codemirror_mode": {
    "name": "ipython",
    "version": 3
   },
   "file_extension": ".py",
   "mimetype": "text/x-python",
   "name": "python",
   "nbconvert_exporter": "python",
   "pygments_lexer": "ipython3",
   "version": "3.5.2"
  }
 },
 "nbformat": 4,
 "nbformat_minor": 1
}
