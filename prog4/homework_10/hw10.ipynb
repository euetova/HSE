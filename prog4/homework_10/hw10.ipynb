{
 "cells": [
  {
   "cell_type": "markdown",
   "metadata": {},
   "source": [
    "По материалам 16 семинара провести исследование по тематическому моделированию и разработать рекомендательную систему.\n",
    "\n",
    "1. рекомендательная система обучается на корпусе текстов, в качестве корпуса текстов использовать 20 news groups из scikit-learn\n",
    "2. пользователь предъявляет образец текста (не обязательно из обучающего корпуса) и просит показать k похожих по тематике текстов\n",
    "3. в качестве моделей для тематического моделирования рассмотреть NMF, LSA, LDA\n",
    "4. в качестве метрик topic coherence рассмотреть TC-W2C, UCI, Umass для топ-20 слов-дескрипторов тем\n",
    "5. для каждой тематической модели определить оптимальное кол-во тем, а затем сравнить сами модели с помощью метрик topic coherence\n",
    "6. при выборе оптимального кол-ва тем постройте проверяйте дескрипторы тем\n",
    "7. таким образом, для каждой метрики вы получите свою оптимальную модель. Сравните дескрипторы тем у этих моделей, и выберите\n",
    "8. таким образом, вы получите тематическое представление для каждого документа. Выберите функцию расстояния между документами, посмотрите sklearn.metrics\n",
    "9. при поиске ближайших соседей используйте sklearn.neighbors\n",
    "10. работу оформить в виде ноутбука *.ipynb\n",
    "11. продемонстрируйте работу вашей рекомендательной системы на текстах из обучающего корпуса и текстах из bbc news за 2017 год\n"
   ]
  },
  {
   "cell_type": "code",
   "execution_count": 9,
   "metadata": {
    "collapsed": true
   },
   "outputs": [],
   "source": [
    "import numpy as np\n",
    "import pandas as pd\n",
    "import matplotlib.pyplot as plt\n",
    "from sklearn.datasets import fetch_20newsgroups\n",
    "from sklearn.feature_extraction.text import TfidfVectorizer, CountVectorizer\n",
    "from sklearn.decomposition import NMF\n",
    "from sklearn.decomposition import LatentDirichletAllocation\n",
    "from sklearn.decomposition import TruncatedSVD\n",
    "from sklearn.externals import joblib\n",
    "from sklearn import metrics\n",
    "from tqdm import tqdm"
   ]
  },
  {
   "cell_type": "code",
   "execution_count": 10,
   "metadata": {
    "collapsed": true
   },
   "outputs": [],
   "source": [
    "# show topic descriptors\n",
    "def get_descriptor( terms, H, topic_index, top ):\n",
    "    top_indices = np.argsort( H[topic_index,:] )[::-1]\n",
    "    top_terms = []\n",
    "    for term_index in top_indices[0:top]:\n",
    "        top_terms.append( terms[term_index] )\n",
    "    return top_terms\n",
    "\n",
    "def get_top_snippets( all_snippets, W, topic_index, top ):\n",
    "    top_indices = np.argsort( W[:,topic_index] )[::-1]\n",
    "    top_snippets = []\n",
    "    for doc_index in top_indices[0:top]:\n",
    "        top_snippets.append( all_snippets[doc_index] )\n",
    "    return top_snippets"
   ]
  },
  {
   "cell_type": "markdown",
   "metadata": {},
   "source": [
    "## Preprocess data"
   ]
  },
  {
   "cell_type": "code",
   "execution_count": 11,
   "metadata": {
    "collapsed": false
   },
   "outputs": [],
   "source": [
    "newsgroups = fetch_20newsgroups()\n",
    "data = newsgroups.data"
   ]
  },
  {
   "cell_type": "code",
   "execution_count": 12,
   "metadata": {
    "collapsed": false
   },
   "outputs": [
    {
     "name": "stdout",
     "output_type": "stream",
     "text": [
      "Read 11314 raw text documents\n"
     ]
    }
   ],
   "source": [
    "raw_documents = []\n",
    "snippets = []\n",
    "for line in data:\n",
    "    text = line.strip()\n",
    "    raw_documents.append( text.lower() )\n",
    "    snippets.append( text[0:min(len(text),100)] )\n",
    "print(\"Read %d raw text documents\" % len(raw_documents))"
   ]
  },
  {
   "cell_type": "code",
   "execution_count": 13,
   "metadata": {
    "collapsed": false
   },
   "outputs": [
    {
     "name": "stdout",
     "output_type": "stream",
     "text": [
      "Stopword list has 350 entries\n"
     ]
    }
   ],
   "source": [
    "# custom stopwords\n",
    "custom_stop_words = []\n",
    "with open( \"stopwords.txt\", \"r\" ) as f:\n",
    "    for line in f.readlines():\n",
    "        custom_stop_words.append( line.strip().lower() )\n",
    "        \n",
    "print(\"Stopword list has %d entries\" % len(custom_stop_words) )"
   ]
  },
  {
   "cell_type": "code",
   "execution_count": 14,
   "metadata": {
    "collapsed": false
   },
   "outputs": [
    {
     "name": "stdout",
     "output_type": "stream",
     "text": [
      "Created 11314 X 8889 TF-IDF-normalized document-term matrix\n"
     ]
    },
    {
     "name": "stderr",
     "output_type": "stream",
     "text": [
      "/home/katya/anaconda3/lib/python3.5/site-packages/sklearn/feature_extraction/text.py:1089: FutureWarning: Conversion of the second argument of issubdtype from `float` to `np.floating` is deprecated. In future, it will be treated as `np.float64 == np.dtype(float).type`.\n",
      "  if hasattr(X, 'dtype') and np.issubdtype(X.dtype, np.float):\n"
     ]
    }
   ],
   "source": [
    "# create BoW + tf-idf model\n",
    "vectorizer = TfidfVectorizer(stop_words=custom_stop_words, min_df = 20)\n",
    "A = vectorizer.fit_transform(raw_documents)\n",
    "print( \"Created %d X %d TF-IDF-normalized document-term matrix\" % (A.shape[0], A.shape[1]) )\n",
    "\n",
    "terms = vectorizer.get_feature_names()\n",
    "#joblib.dump((A,terms,snippets), \"articles-tfidf.pkl\")"
   ]
  },
  {
   "cell_type": "code",
   "execution_count": 15,
   "metadata": {
    "collapsed": false
   },
   "outputs": [
    {
     "name": "stdout",
     "output_type": "stream",
     "text": [
      "edu (476.15)\n",
      "com (343.46)\n",
      "subject (213.89)\n",
      "lines (212.11)\n",
      "organization (209.69)\n",
      "writes (193.92)\n",
      "article (191.88)\n",
      "university (183.79)\n",
      "posting (167.86)\n",
      "host (160.93)\n",
      "nntp (159.33)\n",
      "ca (151.82)\n",
      "know (151.48)\n",
      "people (150.03)\n",
      "get (143.27)\n",
      "cs (131.41)\n",
      "think (131.30)\n",
      "good (120.71)\n",
      "time (114.49)\n",
      "distribution (113.65)\n"
     ]
    }
   ],
   "source": [
    "# top features from tf-idf model\n",
    "import operator\n",
    "\n",
    "\n",
    "sums = np.array(A.sum(axis=0)).ravel()\n",
    "# map weights to the terms\n",
    "weights = { term: sums[col] for col, term in enumerate(terms)}\n",
    "ranking = sorted(weights.items(), key=operator.itemgetter(1), reverse=True)\n",
    "for i, pair in enumerate( ranking[0:20] ):\n",
    "    print( \"%s (%.2f)\" % ( pair[0], pair[1] ) )"
   ]
  },
  {
   "cell_type": "code",
   "execution_count": 16,
   "metadata": {
    "collapsed": false
   },
   "outputs": [
    {
     "name": "stdout",
     "output_type": "stream",
     "text": [
      "Model has 12267 terms\n"
     ]
    }
   ],
   "source": [
    "import re\n",
    "import gensim\n",
    "\n",
    "\n",
    "class TokenGenerator:\n",
    "    def __init__( self, documents, stopwords ):\n",
    "        self.documents = documents\n",
    "        self.stopwords = stopwords\n",
    "        self.tokenizer = re.compile( r\"(?u)\\b\\w\\w+\\b\" )\n",
    "\n",
    "    def __iter__( self ):\n",
    "        for doc in self.documents:\n",
    "            tokens = []\n",
    "            for tok in self.tokenizer.findall( doc ):\n",
    "                if tok in self.stopwords:\n",
    "                    tokens.append( \"<stopword>\" )\n",
    "                elif len(tok) >= 2:\n",
    "                    tokens.append( tok )\n",
    "            yield tokens\n",
    "            \n",
    "\n",
    "docgen = TokenGenerator( raw_documents, custom_stop_words )\n",
    "w2v_model = gensim.models.Word2Vec(docgen, size=500, min_count=20, sg=1)\n",
    "print( \"Model has %d terms\" % len(w2v_model.wv.vocab) )\n",
    "#w2v_model.save(\"w2v-model.bin\")"
   ]
  },
  {
   "cell_type": "markdown",
   "metadata": {},
   "source": [
    "## NMF, LSA, LDA"
   ]
  },
  {
   "cell_type": "code",
   "execution_count": 17,
   "metadata": {
    "collapsed": false
   },
   "outputs": [
    {
     "name": "stderr",
     "output_type": "stream",
     "text": [
      "100%|██████████| 12/12 [00:29<00:00,  2.47s/it]\n",
      "100%|██████████| 12/12 [00:02<00:00,  4.43it/s]\n",
      "100%|██████████| 12/12 [04:15<00:00, 21.27s/it]\n"
     ]
    }
   ],
   "source": [
    "#(A,terms,snippets) = joblib.load( \"articles-tfidf.pkl\")\n",
    "\n",
    "kmin, kmax = 4, 15\n",
    "\n",
    "topic_models_NMF = []\n",
    "for k in tqdm(range(kmin,kmax+1)):\n",
    "    model = NMF( init=\"nndsvd\", n_components=k ) \n",
    "    W = model.fit_transform( A )\n",
    "    H = model.components_    \n",
    "    topic_models_NMF.append( (k,W,H) )\n",
    "    \n",
    "topic_models_LSA = []\n",
    "for k in tqdm(range(kmin,kmax+1)):\n",
    "    model = TruncatedSVD(n_components=k ) \n",
    "    W = model.fit_transform( A )\n",
    "    H = model.components_    \n",
    "    topic_models_LSA.append( (k,W,H) )\n",
    "    \n",
    "topic_models_LDA = []\n",
    "for k in tqdm(range(kmin,kmax+1)):\n",
    "    model = LatentDirichletAllocation(n_components=k, max_iter=5,\n",
    "                                learning_method='batch',\n",
    "                                learning_offset=50.,\n",
    "                                random_state=1)\n",
    "    W = model.fit_transform( A )\n",
    "    H = model.components_    \n",
    "    topic_models_LDA.append( (k,W,H) )"
   ]
  },
  {
   "cell_type": "code",
   "execution_count": 18,
   "metadata": {
    "collapsed": false
   },
   "outputs": [],
   "source": [
    "from itertools import combinations\n",
    "\n",
    "\n",
    "def calculate_coherence_tc_w2c( w2v_model, term_rankings ):\n",
    "    overall_coherence = 0.0\n",
    "    for topic_index in range(len(term_rankings)):\n",
    "        # check each pair of terms\n",
    "        pair_scores = []\n",
    "        for pair in combinations( term_rankings[topic_index], 2 ):\n",
    "            pair_scores.append( w2v_model.similarity(pair[0], pair[1]) )\n",
    "        # get the mean for all pairs in this topic\n",
    "        topic_score = sum(pair_scores) / len(pair_scores)\n",
    "        overall_coherence += topic_score\n",
    "    # get the mean score across all topics\n",
    "    return overall_coherence / len(term_rankings)    \n",
    "\n",
    "def calculate_tc_w2c(topic_models, w2v_model):\n",
    "    k_values = []\n",
    "    coherences = []\n",
    "    for (k,W,H) in topic_models:\n",
    "    # Get all of the topic descriptors - the term_rankings, based on top 10 terms\n",
    "        term_rankings = []\n",
    "        for topic_index in range(k):\n",
    "            term_rankings.append( get_descriptor( terms, H, topic_index, 10 ) )\n",
    "    # Now calculate the coherence based on our Word2vec model\n",
    "        k_values.append( k )\n",
    "        coherences.append( calculate_coherence_tc_w2c( w2v_model, term_rankings ) )\n",
    "        #print(\"K=%02d: Coherence=%.4f\" % ( k, coherences[-1] ) )\n",
    "    return k_values, coherences\n",
    "\n",
    "\n",
    "k_values_nmf_tc_w2c, coherences_nmf_tc_w2c = calculate_tc_w2c(topic_models_NMF, w2v_model)\n",
    "k_values_lsa_tc_w2c, coherences_lsa_tc_w2c = calculate_tc_w2c(topic_models_LSA, w2v_model)\n",
    "k_values_lda_tc_w2c, coherences_lda_tc_w2c = calculate_tc_w2c(topic_models_LDA, w2v_model)"
   ]
  },
  {
   "cell_type": "code",
   "execution_count": 19,
   "metadata": {
    "collapsed": true
   },
   "outputs": [],
   "source": [
    "def plot_coherences(k1, k2, k3, c1, c2, c3):\n",
    "    fig = plt.figure(figsize=(13,7))\n",
    "    # create the line plot\n",
    "    plt.plot( k1, c1, 'r', label = 'NMF' )\n",
    "    plt.plot( k2, c2, 'b', label = 'LSA' )\n",
    "    plt.plot( k3, c3, 'g', label = 'LDA' )\n",
    "    plt.xticks(k1)\n",
    "    plt.xticks(k2)\n",
    "    plt.xticks(k3)\n",
    "    plt.xlabel(\"Number of Topics\")\n",
    "    plt.ylabel(\"Mean Coherence\")\n",
    "    # add the points\n",
    "    plt.scatter( k1, c1, s=50, color ='r')\n",
    "    plt.scatter( k2, c2, s=50, color ='b')\n",
    "    plt.scatter( k3, c3, s=50, color ='g')\n",
    "    # find and annotate the maximum point on the plot\n",
    "    ymax = max(c1)\n",
    "    ymax2 = max(c2)\n",
    "    ymax3 = max(c3)\n",
    "    xpos1 = c1.index(ymax)\n",
    "    xpos2 = c2.index(ymax2)\n",
    "    xpos3 = c3.index(ymax3)\n",
    "    best_k1 = k1[xpos1]\n",
    "    best_k2 = k2[xpos2]\n",
    "    best_k3 = k3[xpos3]\n",
    "    plt.annotate( \"k=%d\" % best_k1, xy=(best_k1, ymax), xytext=(best_k1, ymax), textcoords=\"offset points\", fontsize=16)\n",
    "    plt.annotate( \"k=%d\" % best_k2, xy=(best_k2, ymax2), xytext=(best_k2, ymax2), textcoords=\"offset points\", fontsize=16)\n",
    "    plt.annotate( \"k=%d\" % best_k3, xy=(best_k3, ymax3), xytext=(best_k3, ymax3), textcoords=\"offset points\", fontsize=16)\n",
    "    plt.legend()\n",
    "    plt.grid()\n",
    "    # show the plot\n",
    "    plt.show()"
   ]
  },
  {
   "cell_type": "code",
   "execution_count": 20,
   "metadata": {
    "collapsed": false
   },
   "outputs": [
    {
     "data": {
      "image/png": "[encoded data removed]",
      "text/plain": [
       "<matplotlib.figure.Figure at 0x7fb04203bef0>"
      ]
     },
     "metadata": {},
     "output_type": "display_data"
    }
   ],
   "source": [
    "plot_coherences(k_values_nmf_tc_w2c, k_values_lsa_tc_w2c, k_values_lda_tc_w2c,\n",
    "                coherences_nmf_tc_w2c, coherences_lsa_tc_w2c, coherences_lda_tc_w2c)"
   ]
  },
  {
   "cell_type": "code",
   "execution_count": null,
   "metadata": {
    "collapsed": true
   },
   "outputs": [],
   "source": []
  },
  {
   "cell_type": "code",
   "execution_count": 21,
   "metadata": {
    "collapsed": true
   },
   "outputs": [],
   "source": [
    "from collections import defaultdict\n",
    "\n",
    "def reversed_index(docs):\n",
    "    reverse = defaultdict(set)\n",
    "    for i,doc in enumerate(docs):\n",
    "        for token in doc:\n",
    "            reverse[token].add(i)\n",
    "    return reverse, i+1"
   ]
  },
  {
   "cell_type": "code",
   "execution_count": 22,
   "metadata": {
    "collapsed": true
   },
   "outputs": [],
   "source": [
    "index, all_docs = reversed_index(docgen)"
   ]
  },
  {
   "cell_type": "code",
   "execution_count": 23,
   "metadata": {
    "collapsed": true
   },
   "outputs": [],
   "source": [
    "def calculate_coherence_uci(index, term_rankings):\n",
    "    overall_coherence = 0.0\n",
    "    for topic_index in range(len(term_rankings)):\n",
    "        # check each pair of terms\n",
    "        pair_scores = []\n",
    "        for pair in combinations( term_rankings[topic_index], 2 ):\n",
    "            bi_prob = len(index[pair[0]] & index[pair[1]]) / all_docs\n",
    "            first_prob = len(index[pair[0]]) / all_docs\n",
    "            second_prob = len(index[pair[1]]) / all_docs\n",
    "            score = np.log((bi_prob + pow(10,-12)) / (first_prob * second_prob)) \n",
    "                                      # small constant to avoid bi_prob = 0\n",
    "            pair_scores.append(score)\n",
    "        # get the mean for all pairs in this topic\n",
    "        topic_score = sum(pair_scores) * (2 / (len(term_rankings[topic_index]) * (len(term_rankings[topic_index])-1)))\n",
    "        overall_coherence += topic_score\n",
    "    # get the mean score across all topics\n",
    "    return overall_coherence / len(term_rankings)\n",
    "\n",
    "def calculate_uci(topic_models, index):\n",
    "    k_values = []\n",
    "    coherences = []\n",
    "    for (k,W,H) in topic_models:\n",
    "        # Get all of the topic descriptors - the term_rankings, based on top 20 terms\n",
    "        term_rankings = []\n",
    "        for topic_index in range(k):\n",
    "            term_rankings.append( get_descriptor( terms, H, topic_index, 20 ) )\n",
    "        # Now calculate the coherence based on our Word2vec model\n",
    "        k_values.append( k )\n",
    "        coherences.append( calculate_coherence_uci(index, term_rankings) )\n",
    "        #print(\"K=%02d: Coherence=%.4f\" % ( k, coherences[-1] ) )\n",
    "    return k_values, coherences\n",
    "\n",
    "\n",
    "k_values_nmf_uci, coherences_nmf_uci = calculate_uci(topic_models_NMF, index)\n",
    "k_values_lsa_uci, coherences_lsa_uci = calculate_uci(topic_models_LSA, index)\n",
    "k_values_lda_uci, coherences_lda_uci = calculate_uci(topic_models_LDA, index)"
   ]
  },
  {
   "cell_type": "code",
   "execution_count": 24,
   "metadata": {
    "collapsed": false
   },
   "outputs": [
    {
     "data": {
      "image/png": "[encoded data removed]",
      "text/plain": [
       "<matplotlib.figure.Figure at 0x7fb00df29358>"
      ]
     },
     "metadata": {},
     "output_type": "display_data"
    }
   ],
   "source": [
    "plot_coherences(k_values_nmf_uci, k_values_lsa_uci, k_values_lda_uci,\n",
    "                coherences_nmf_uci, coherences_lsa_uci, coherences_lda_uci)"
   ]
  },
  {
   "cell_type": "code",
   "execution_count": null,
   "metadata": {
    "collapsed": true
   },
   "outputs": [],
   "source": []
  },
  {
   "cell_type": "code",
   "execution_count": 25,
   "metadata": {
    "collapsed": true
   },
   "outputs": [],
   "source": [
    "def calculate_coherence_umass(index, term_rankings):\n",
    "    overall_coherence = 0.0\n",
    "    for topic_index in range(len(term_rankings)):\n",
    "        # check each pair of terms\n",
    "        pair_scores = []\n",
    "        for pair in combinations( term_rankings[topic_index], 2 ):\n",
    "            bi_prob = len(index[pair[0]] & index[pair[1]]) / all_docs\n",
    "            first_prob = len(index[pair[0]]) / all_docs\n",
    "            second_prob = len(index[pair[1]]) / all_docs\n",
    "            score = np.log((bi_prob + pow(10,-12)) / first_prob) \n",
    "                                      # small constant to avoid bi_prob = 0\n",
    "            pair_scores.append(score)\n",
    "        # get the mean for all pairs in this topic\n",
    "        topic_score = sum(pair_scores) * (2 / (len(term_rankings[topic_index]) * (len(term_rankings[topic_index])-1)))\n",
    "        overall_coherence += topic_score\n",
    "    # get the mean score across all topics\n",
    "    return overall_coherence / len(term_rankings)\n",
    "\n",
    "def calculate_umass(topic_models, index):\n",
    "    k_values = []\n",
    "    coherences = []\n",
    "    for (k,W,H) in topic_models:\n",
    "        # Get all of the topic descriptors - the term_rankings, based on top 20 terms\n",
    "        term_rankings = []\n",
    "        for topic_index in range(k):\n",
    "            term_rankings.append( get_descriptor( terms, H, topic_index, 20 ) )\n",
    "        # Now calculate the coherence based on our Word2vec model\n",
    "        k_values.append( k )\n",
    "        coherences.append( calculate_coherence_umass(index, term_rankings) )\n",
    "        #print(\"K=%02d: Coherence=%.4f\" % ( k, coherences[-1] ) )\n",
    "    return k_values, coherences\n",
    "\n",
    "\n",
    "k_values_nmf_umass, coherences_nmf_umass = calculate_umass(topic_models_NMF, index)\n",
    "k_values_lsa_umass, coherences_lsa_umass = calculate_umass(topic_models_LSA, index)\n",
    "k_values_lda_umass, coherences_lda_umass = calculate_umass(topic_models_LDA, index)"
   ]
  },
  {
   "cell_type": "code",
   "execution_count": 26,
   "metadata": {
    "collapsed": false
   },
   "outputs": [
    {
     "data": {
      "image/png": "[encoded data removed]",
      "text/plain": [
       "<matplotlib.figure.Figure at 0x7fb00d9f1160>"
      ]
     },
     "metadata": {},
     "output_type": "display_data"
    }
   ],
   "source": [
    "plot_coherences(k_values_nmf_umass, k_values_lsa_umass, k_values_lda_umass,\n",
    "                coherences_nmf_umass, coherences_lsa_umass, coherences_lda_umass)"
   ]
  },
  {
   "cell_type": "markdown",
   "metadata": {},
   "source": [
    "NMF лучше по всем метрикам"
   ]
  },
  {
   "cell_type": "code",
   "execution_count": null,
   "metadata": {
    "collapsed": true
   },
   "outputs": [],
   "source": []
  },
  {
   "cell_type": "code",
   "execution_count": 27,
   "metadata": {
    "collapsed": true
   },
   "outputs": [],
   "source": [
    "def all_descriptors(k, H, terms):\n",
    "    descriptors = []\n",
    "    for topic_index in range(k):\n",
    "        descriptors.append( get_descriptor( terms, H, topic_index, 10 ) )\n",
    "        str_descriptor = \", \".join( descriptors[topic_index] )\n",
    "        print(\"Topic %02d: %s\" % ( topic_index+1, str_descriptor ) )"
   ]
  },
  {
   "cell_type": "code",
   "execution_count": 28,
   "metadata": {
    "collapsed": false
   },
   "outputs": [
    {
     "name": "stdout",
     "output_type": "stream",
     "text": [
      "Topic 01: com, netcom, hp, article, writes, ibm, sun, car, organization, subject\n",
      "Topic 02: god, jesus, people, bible, christian, christians, believe, faith, christ, think\n",
      "Topic 03: edu, university, posting, host, nntp, cc, cs, organization, subject, lines\n",
      "Topic 04: windows, window, file, dos, files, program, card, graphics, help, mouse\n",
      "Topic 05: pitt, geb, gordon, banks, cs, cadre, dsl, n3jxp, chastity, shameful\n",
      "Topic 06: key, clipper, chip, encryption, keys, escrow, government, algorithm, security, crypto\n",
      "Topic 07: ca, team, game, hockey, players, games, play, nhl, season, toronto\n",
      "Topic 08: nasa, gov, space, larc, jpl, henry, jsc, moon, alaska, gsfc\n",
      "Topic 09: armenian, turkish, armenians, armenia, argic, serdar, turks, turkey, people, genocide\n",
      "Topic 10: scsi, drive, ide, controller, drives, disk, hard, bus, mac, card\n",
      "Topic 11: uk, ac, __, dcs, university, cam, ed, ___, 44, subject\n",
      "Topic 12: keith, caltech, sgi, livesey, morality, wpd, cco, solntze, jon, objective\n",
      "Topic 13: israel, israeli, jews, arab, arabs, jewish, lebanese, peace, jake, people\n",
      "Topic 14: ohio, state, magnus, acs, edu, university, ryan, drugs, cis, magnusug\n"
     ]
    }
   ],
   "source": [
    "k = 14   # 14 is best_k for nmf_tc_w2v\n",
    "H = topic_models_NMF[k-kmin][2]  \n",
    "\n",
    "all_descriptors(k, H, terms)"
   ]
  },
  {
   "cell_type": "code",
   "execution_count": 29,
   "metadata": {
    "collapsed": false
   },
   "outputs": [
    {
     "name": "stdout",
     "output_type": "stream",
     "text": [
      "Topic 01: com, netcom, hp, article, writes, ibm, car, sun, organization, subject\n",
      "Topic 02: god, jesus, people, bible, christian, christians, believe, faith, christ, think\n",
      "Topic 03: edu, university, posting, host, nntp, cc, state, organization, article, cs\n",
      "Topic 04: windows, window, file, dos, files, program, card, graphics, help, thanks\n",
      "Topic 05: pitt, geb, gordon, banks, cs, cadre, dsl, n3jxp, chastity, shameful\n",
      "Topic 06: key, clipper, chip, encryption, keys, escrow, government, algorithm, security, crypto\n",
      "Topic 07: ca, team, game, hockey, players, games, play, nhl, season, toronto\n",
      "Topic 08: nasa, gov, space, larc, jpl, henry, moon, jsc, alaska, gsfc\n",
      "Topic 09: armenian, turkish, armenians, armenia, argic, serdar, turks, turkey, people, genocide\n",
      "Topic 10: scsi, drive, ide, controller, drives, disk, hard, bus, mac, card\n",
      "Topic 11: uk, ac, __, dcs, university, cam, ed, ___, 44, subject\n",
      "Topic 12: keith, caltech, sgi, livesey, morality, wpd, cco, solntze, jon, objective\n",
      "Topic 13: israel, israeli, jews, arab, arabs, jewish, people, lebanese, peace, jake\n"
     ]
    }
   ],
   "source": [
    "k = 13   # 13 is best_k for nmf_uci\n",
    "H = topic_models_NMF[k-kmin][2]  \n",
    "\n",
    "all_descriptors(k, H, terms)"
   ]
  },
  {
   "cell_type": "code",
   "execution_count": 30,
   "metadata": {
    "collapsed": false
   },
   "outputs": [
    {
     "name": "stdout",
     "output_type": "stream",
     "text": [
      "Topic 01: com, article, writes, netcom, hp, nasa, ibm, car, organization, sun\n",
      "Topic 02: god, people, jesus, think, believe, bible, christian, christians, life, faith\n",
      "Topic 03: edu, university, posting, host, nntp, article, cs, organization, writes, subject\n",
      "Topic 04: windows, drive, card, dos, uk, scsi, file, ac, thanks, window\n",
      "Topic 05: pitt, geb, gordon, banks, cs, cadre, dsl, n3jxp, chastity, shameful\n",
      "Topic 06: key, clipper, chip, encryption, keys, escrow, government, security, algorithm, crypto\n"
     ]
    }
   ],
   "source": [
    "k = 6   # 6 is best_k for nmf_umass\n",
    "H = topic_models_NMF[k-kmin][2]  \n",
    "\n",
    "all_descriptors(k, H, terms)"
   ]
  },
  {
   "cell_type": "markdown",
   "metadata": {
    "collapsed": false
   },
   "source": [
    "#### Я выбираю NMF TC, k = 14"
   ]
  },
  {
   "cell_type": "code",
   "execution_count": null,
   "metadata": {
    "collapsed": true
   },
   "outputs": [],
   "source": []
  },
  {
   "cell_type": "code",
   "execution_count": 31,
   "metadata": {
    "collapsed": true
   },
   "outputs": [],
   "source": [
    "from sklearn.neighbors import NearestNeighbors"
   ]
  },
  {
   "cell_type": "code",
   "execution_count": 42,
   "metadata": {
    "collapsed": true
   },
   "outputs": [],
   "source": [
    "class NewsRecommender:\n",
    "    def __init__(self):\n",
    "        self.model = NMF(init=\"nndsvd\", n_components=14, random_state=42)\n",
    "        self.nneighbors = NearestNeighbors(metric='cosine')\n",
    "        custom_stop_words = []\n",
    "        with open( \"stopwords.txt\", \"r\" ) as f:\n",
    "            for line in f.readlines():\n",
    "                custom_stop_words.append( line.strip().lower() )\n",
    "        self.tfidf = TfidfVectorizer(stop_words=custom_stop_words, min_df = 20)\n",
    "        \n",
    "    def train(self, texts):\n",
    "        self.texts = [i.lower() for i in texts]\n",
    "        A = self.tfidf.fit_transform(self.texts)\n",
    "        W = self.model.fit_transform(A)\n",
    "        self.nneighbors.fit(W)\n",
    "\n",
    "    def recommend(self, text_sample, k):\n",
    "        A = self.tfidf.transform([text_sample.lower()])\n",
    "        W = self.model.transform(A)   \n",
    "        idx = self.nneighbors.kneighbors(W, k, return_distance=False) \n",
    "        return [self.texts[i] for i in idx[0]]"
   ]
  },
  {
   "cell_type": "code",
   "execution_count": 43,
   "metadata": {
    "collapsed": false
   },
   "outputs": [
    {
     "name": "stderr",
     "output_type": "stream",
     "text": [
      "/home/katya/anaconda3/lib/python3.5/site-packages/sklearn/feature_extraction/text.py:1089: FutureWarning: Conversion of the second argument of issubdtype from `float` to `np.floating` is deprecated. In future, it will be treated as `np.float64 == np.dtype(float).type`.\n",
      "  if hasattr(X, 'dtype') and np.issubdtype(X.dtype, np.float):\n"
     ]
    }
   ],
   "source": [
    "recom = NewsRecommender()\n",
    "recom.train(data)"
   ]
  },
  {
   "cell_type": "code",
   "execution_count": 49,
   "metadata": {
    "collapsed": false
   },
   "outputs": [
    {
     "name": "stderr",
     "output_type": "stream",
     "text": [
      "/home/katya/anaconda3/lib/python3.5/site-packages/sklearn/feature_extraction/text.py:1089: FutureWarning: Conversion of the second argument of issubdtype from `float` to `np.floating` is deprecated. In future, it will be treated as `np.float64 == np.dtype(float).type`.\n",
      "  if hasattr(X, 'dtype') and np.issubdtype(X.dtype, np.float):\n"
     ]
    }
   ],
   "source": [
    "r_text = recom.recommend(\"Many of us have our special ways of dealing with our feelings and emotions. For instance, when 2017, scientists detected Einstein's gravitational waves from a new source - the collision of two dead stars, or neutron stars. The first direct detection of these waves was announced in 2016, when the Advanced LIGO laboratories described the warping of space from the merger of two distant black holes. The result was hailed as the starting point for a new branch of astronomy, using gravitational waves to collect data about distant phenomena.\", 5)"
   ]
  },
  {
   "cell_type": "code",
   "execution_count": 52,
   "metadata": {
    "collapsed": false,
    "scrolled": false
   },
   "outputs": [
    {
     "name": "stdout",
     "output_type": "stream",
     "text": [
      "from: thomsonal@cpva.saic.com\n",
      "subject: cosmos 2238: an eorsat\n",
      "article-i.d.: cpva.15337.2bc16ada\n",
      "organization: science applications int'l corp./san diego\n",
      "lines: 48\n",
      "\n",
      ">date: tue, 6 apr 1993 15:40:47 gmt\n",
      "\n",
      ">i need as much information about cosmos 2238 and its rocket fragment (1993-\n",
      ">018b) as possible. both its purpose, launch date, location, in short,\n",
      ">everything! can you help?\n",
      "\n",
      ">-tony ryan, \"astronomy & space\", new international magazine, available from:\n",
      "\n",
      "------------------------------------------------------------------------------\n",
      "\n",
      "ocean reconnaissance launch surprises west\n",
      "space news, april 5-11, 1993, p.2\n",
      "[excerpts]\n",
      "     russia launched its first ocean reconnaissance satellite in 26 months \n",
      "march 30, confounding western analysts who had proclaimed the program dead. \n",
      "     the itar-tass news agency announced the launch of cosmos 2238 from \n",
      "plesetsk cosmodrome, but provided little description of the payload's mission. \n",
      "     however, based on the satellite's trajectory, western observers \n",
      " \n",
      "---------------------------------------------------------------------------\n",
      "\n",
      "from: leech@cs.unc.edu (jon leech)\n",
      "subject: space faq 10/15 - planetary probe history\n",
      "supersedes: <probe_730956556@cs.unc.edu>\n",
      "organization: university of north carolina, chapel hill\n",
      "lines: 527\n",
      "distribution: world\n",
      "expires: 6 may 1993 19:59:36 gmt\n",
      "nntp-posting-host: mahler.cs.unc.edu\n",
      "keywords: frequently asked questions\n",
      "\n",
      "archive-name: space/probe\n",
      "last-modified: $date: 93/04/01 14:39:19 $\n",
      "\n",
      "planetary probes - historical missions\n",
      "\n",
      "    this section was lightly adapted from an original posting by larry klaes\n",
      "    (klaes@verga.enet.dec.com), mostly minor formatting changes. matthew\n",
      "    wiener (weemba@libra.wistar.upenn.edu) contributed the section on\n",
      "    voyager, and the section on sakigake was obtained from isas material\n",
      "    posted by yoshiro yamada (yamada@yscvax.ysc.go.jp).\n",
      "\n",
      "us planetary missions\n",
      "\n",
      "\n",
      "    mariner (venus, mars, & mercury flybys and orbiters)\n",
      "\n",
      "    mariner 1, the first u.s. attempt to send a spacecraft to venus, failed\n",
      "    minutes after launch in 1962. the guidance instructions f \n",
      "---------------------------------------------------------------------------\n",
      "\n",
      "from: mailrp%esa.bitnet@vm.gmd.de\n",
      "subject: message from space digest\n",
      "x-added: forwarded by space digest\n",
      "organization: [via international space university]\n",
      "original-sender: isu@vacation.venari.cs.cmu.edu\n",
      "distribution: sci\n",
      "lines: 62\n",
      "\n",
      "\n",
      "\n",
      "\n",
      "\n",
      "press release no.19-93\n",
      "paris, 22 april 1993\n",
      "\n",
      "users of esa's olympus satellite report on the outcome of\n",
      "their experiments\n",
      "\n",
      "\"today europe's space telecommunications sector would not\n",
      "be blossoming as it now does, had olympus not provided\n",
      "a testbed for the technologies and services of the 1990s\". this\n",
      "summarises the general conclusions of 135 speakers and 300\n",
      "participants at the conference on olympus utilisation held in\n",
      "seville on 20-22-april 1993. the conference was organised by\n",
      "the european space agency (esa) and the spanish centre for\n",
      "the development of industrial technology (cdti).\n",
      "\n",
      "olympus has been particularly useful :\n",
      "-      in bringing satellite telecommunications to thousands of\n",
      "       new users, thanks to satellite terminals with very small\n",
      "        \n",
      "---------------------------------------------------------------------------\n",
      "\n",
      "from: wales.larrison@ofa123.fidonet.org\n",
      "subject: commercial space news #22\n",
      "x-sender: newtout 0.08 feb 23 1993\n",
      "lines: 666\n",
      "\n",
      "commercial space news/space technology investor number 22\n",
      "\n",
      "   this is number twenty-two in an irregular series on commercial \n",
      "space activities.  the commentaries included are my thoughts on \n",
      "these developments.  \n",
      "\n",
      "   sigh... as usual, i've gotten behind in getting this column \n",
      "written.  i can only plead the exigency of the current dynamics in \n",
      "the space biz.  this column is put together at lunch hour and after \n",
      "the house quiets down at night, so data can quickly build up if \n",
      "there's a lot of other stuff going on.  i've complied a lot of \n",
      "information and happenings since the last column, so i'm going to \n",
      "have to work to keep this one down to a readable length.  have fun! \n",
      "\n",
      "contents:\n",
      "1- us commercial space sales flatten in 1993\n",
      "2- delta wins two key launch contracts\n",
      "3- commercial remote sensing venture gets doc \"go-ahead\"\n",
      "4- investment firm calls gd's space biz \"still \n",
      "---------------------------------------------------------------------------\n",
      "\n",
      "from: mailrp%esa.bitnet@vm.gmd.de\n",
      "subject: message from space digest\n",
      "x-added: forwarded by space digest\n",
      "organization: [via international space university]\n",
      "original-sender: isu@vacation.venari.cs.cmu.edu\n",
      "distribution: sci\n",
      "lines: 58\n",
      "\n",
      "\n",
      "\n",
      "\n",
      "\n",
      "joint press release esa/un no 18-93\n",
      "paris, 19 april 1993\n",
      "\n",
      "un/esa joint training course on satellite applications\n",
      "to be held in italy, 19-30 april\n",
      "\n",
      "the united nations and the european space agency (esa)\n",
      "are jointly organising a training course on the applications of\n",
      "satellite data gathered by the european remote sensing\n",
      "satellite (ers-1), to be held in frascati, italy, from 19 to 30\n",
      "april. the training course will discuss the applications of\n",
      "satellite data concerning natural resources, renewable energy\n",
      "and the environment.\n",
      "\n",
      "the training course, organised for the benefit of francophone\n",
      "african experts, will be hosted by esrin, the european space\n",
      "agency's establishment in frascati, which is responsible for\n",
      "coordination with the users of data from esa's remo \n",
      "---------------------------------------------------------------------------\n",
      "\n"
     ]
    }
   ],
   "source": [
    "for i in r_text:\n",
    "    print(i[:1000], '\\n---------------------------------------------------------------------------\\n')"
   ]
  },
  {
   "cell_type": "code",
   "execution_count": null,
   "metadata": {
    "collapsed": true
   },
   "outputs": [],
   "source": []
  }
 ],
 "metadata": {
  "kernelspec": {
   "display_name": "Python 3",
   "language": "python",
   "name": "python3"
  },
  "language_info": {
   "codemirror_mode": {
    "name": "ipython",
    "version": 3
   },
   "file_extension": ".py",
   "mimetype": "text/x-python",
   "name": "python",
   "nbconvert_exporter": "python",
   "pygments_lexer": "ipython3",
   "version": "3.5.3"
  }
 },
 "nbformat": 4,
 "nbformat_minor": 2
}
