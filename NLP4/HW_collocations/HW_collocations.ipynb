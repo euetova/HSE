{
 "cells": [
  {
   "cell_type": "code",
   "execution_count": 27,
   "metadata": {
    "collapsed": false
   },
   "outputs": [],
   "source": [
    "import pandas as pd\n",
    "import nltk\n",
    "from nltk.collocations import *\n",
    "from scipy.stats import spearmanr"
   ]
  },
  {
   "cell_type": "code",
   "execution_count": 7,
   "metadata": {
    "collapsed": false
   },
   "outputs": [
    {
     "data": {
      "text/plain": [
       "5100"
      ]
     },
     "execution_count": 7,
     "metadata": {},
     "output_type": "execute_result"
    }
   ],
   "source": [
    "df = pd.read_csv('court-V-N.csv', header=None) # corpus\n",
    "rows = list(map(list, df.values)) # list of rows in corpus\n",
    "bigram_measures = nltk.collocations.BigramAssocMeasures()\n",
    "finder = BigramCollocationFinder.from_documents(rows)\n",
    "len([item for sublist in rows for item in sublist]) # количесство токенов"
   ]
  },
  {
   "cell_type": "markdown",
   "metadata": {},
   "source": [
    "Пользуясь словарями, интуицией и т.п. составляете золотой стандарт – ранжированный топ 10 коллокаций"
   ]
  },
  {
   "cell_type": "code",
   "execution_count": 21,
   "metadata": {
    "collapsed": true
   },
   "outputs": [],
   "source": [
    "golden_stand = [('ПРИНЯТЬ', 'РЕШЕНИЕ'),('СУД', 'ПРИЗНАТЬ'),('СУД', 'ВЫНЕСТИ'),('УДОВЛЕТВОРИТЬ', 'ИСК'),\n",
    "                 ('УДОВЛЕТВОРИТЬ', 'ХОДАТАЙСТВО'),('ПРИЗНАТЬ', 'ВИНОВНАЯ'),('ВЫНЕСТИ', 'РЕШЕНИЕ'),\n",
    "                 ('СУД', 'ОТКАЗАТЬ'),('СУД', 'ПРИГОВОРИТЬ'),('НАЛОЖИТЬ', 'АРЕСТ')]"
   ]
  },
  {
   "cell_type": "markdown",
   "metadata": {},
   "source": [
    "Выделить наиболее типичные для суда действия (словосочетания типа *принять решение*), применив два различных метода.\n",
    "Я взяла likelihood_ratio и raw_freq"
   ]
  },
  {
   "cell_type": "code",
   "execution_count": 11,
   "metadata": {
    "collapsed": false
   },
   "outputs": [
    {
     "data": {
      "text/plain": [
       "[('СУД ', 'ПРИЗНАТЬ '),\n",
       " ('ВЫДАТЬ ', 'САНКЦИЯ '),\n",
       " ('СУД ', 'УДОВЛЕТВОРИТЬ '),\n",
       " ('УДОВЛЕТВОРИТЬ ', 'ИСК '),\n",
       " ('УДОВЛЕТВОРИТЬ ', 'ХОДАТАЙСТВО '),\n",
       " ('ПРИНЯТЬ ', 'РЕШЕНИЕ '),\n",
       " ('САНКЦИЯ ', 'АРЕСТ '),\n",
       " ('МЕРА ', 'ПРЕСЕЧЕНИЕ '),\n",
       " ('НАЛОЖИТЬ ', 'АРЕСТ '),\n",
       " ('СУД ', 'ВЫНЕСТИ ')]"
      ]
     },
     "execution_count": 11,
     "metadata": {},
     "output_type": "execute_result"
    }
   ],
   "source": [
    "top_lr = finder.nbest(bigram_measures.likelihood_ratio, 10)\n",
    "top_lr"
   ]
  },
  {
   "cell_type": "markdown",
   "metadata": {},
   "source": [
    "**(а) какие коллокации, полученные методом lr, не входят в Ваш золотой стандарт:**<br>\n",
    "не вошли 4 коллокации: ('ВЫДАТЬ ', 'САНКЦИЯ '), ('СУД ', 'УДОВЛЕТВОРИТЬ '), ('САНКЦИЯ ', 'АРЕСТ '), ('МЕРА ', 'ПРЕСЕЧЕНИЕ ')<br>\n",
    "**(б) какие попали ошибочно (предложите объяснение - откуда взялась такая ошибка, что можно сделать, чтобы ее устранить)**<br>\n",
    "мне кажется, все коллокации хорошие<br>\n",
    "**(в) какие у Вас не попоали в ЗС, но вы думаете, что это полезные коллокации**<br>\n",
    "все 4, которые не попали в ЗС"
   ]
  },
  {
   "cell_type": "code",
   "execution_count": 14,
   "metadata": {
    "collapsed": false
   },
   "outputs": [
    {
     "data": {
      "text/plain": [
       "[('СУД ', 'ПРИЗНАТЬ '),\n",
       " ('СУД ', 'УДОВЛЕТВОРИТЬ '),\n",
       " ('СУД ', 'ВЫНЕСТИ '),\n",
       " ('СУД ', 'ПРИНЯТЬ '),\n",
       " ('СУД ', 'ОТКАЗАТЬ '),\n",
       " ('СУД ', 'ПРИГОВОРИТЬ '),\n",
       " ('СУД ', 'РАССМОТРЕТЬ '),\n",
       " ('УДОВЛЕТВОРИТЬ ', 'ИСК '),\n",
       " ('СУД ', 'ОТКЛОНИТЬ '),\n",
       " ('ПРИНЯТЬ ', 'РЕШЕНИЕ ')]"
      ]
     },
     "execution_count": 14,
     "metadata": {},
     "output_type": "execute_result"
    }
   ],
   "source": [
    "top_rf = finder.nbest(bigram_measures.raw_freq, 10)\n",
    "top_rf"
   ]
  },
  {
   "cell_type": "markdown",
   "metadata": {},
   "source": [
    "**(а) какие коллокации, полученные методом rf, не входят в Ваш золотой стандарт:**<br>\n",
    "не вошли тоже 4 коллокации: ('СУД ', 'УДОВЛЕТВОРИТЬ '), ('СУД ', 'ПРИНЯТЬ '), ('СУД ', 'РАССМОТРЕТЬ '), ('СУД ', 'ОТКЛОНИТЬ ')<br>\n",
    "**(б) какие попали ошибочно (предложите объяснение - откуда взялась такая ошибка, что можно сделать, чтобы ее устранить)**<br>\n",
    "мне кажется, все коллокации хорошие<br>\n",
    "**(в) какие у Вас не попоали в ЗС, но вы думаете, что это полезные коллокации**<br>\n",
    "точно ('СУД ', 'УДОВЛЕТВОРИТЬ '), а над остальными стоит подумать"
   ]
  },
  {
   "cell_type": "code",
   "execution_count": 26,
   "metadata": {
    "collapsed": false
   },
   "outputs": [
    {
     "name": "stdout",
     "output_type": "stream",
     "text": [
      "gold [0, 1, 2, 3, 4, 5, 6, 7, 8, 9]\n",
      "lr [5, 0, 9, 3, 4, 12, 16, 15, 24, 8]\n",
      "rf [9, 0, 2, 7, 10, 20, 14, 4, 5, 25]\n"
     ]
    }
   ],
   "source": [
    "list_with_scores_lr = list(finder.score_ngrams(bigram_measures.likelihood_ratio))\n",
    "list_with_scores_rf = list(finder.score_ngrams(bigram_measures.raw_freq))\n",
    "list_no_scores_lr = [(x[0][0].strip(' '), x[0][1].strip(' ')) for x in list_with_scores_lr]\n",
    "list_no_scores_rf = [(x[0][0].strip(' '), x[0][1].strip(' ')) for x in list_with_scores_rf]\n",
    "ranks_golden = list(range(0,10))\n",
    "ranks_lr = [list_no_scores_lr.index(i) for i in golden_stand]\n",
    "ranks_rf = [list_no_scores_rf.index(i) for i in golden_stand]\n",
    "print('gold', ranks_golden)\n",
    "print('lr', ranks_lr)\n",
    "print('rf', ranks_rf)"
   ]
  },
  {
   "cell_type": "code",
   "execution_count": 42,
   "metadata": {
    "collapsed": false
   },
   "outputs": [
    {
     "name": "stdout",
     "output_type": "stream",
     "text": [
      "lr gs SpearmanrResult(correlation=0.6484848484848483, pvalue=0.04254012768448945)\n",
      "rf gs SpearmanrResult(correlation=0.4424242424242424, pvalue=0.20042268671194224)\n",
      "lr rf SpearmanrResult(correlation=0.17575757575757575, pvalue=0.6271883447764844)\n"
     ]
    }
   ],
   "source": [
    "# Spearman\n",
    "\n",
    "print('lr gs', spearmanr(ranks_lr,ranks_golden))\n",
    "print('rf gs', spearmanr(ranks_rf,ranks_golden))\n",
    "print('lr rf', spearmanr(ranks_lr,ranks_rf))"
   ]
  },
  {
   "cell_type": "code",
   "execution_count": null,
   "metadata": {
    "collapsed": true
   },
   "outputs": [],
   "source": []
  }
 ],
 "metadata": {
  "kernelspec": {
   "display_name": "Python 3",
   "language": "python",
   "name": "python3"
  },
  "language_info": {
   "codemirror_mode": {
    "name": "ipython",
    "version": 3
   },
   "file_extension": ".py",
   "mimetype": "text/x-python",
   "name": "python",
   "nbconvert_exporter": "python",
   "pygments_lexer": "ipython3",
   "version": "3.5.3"
  }
 },
 "nbformat": 4,
 "nbformat_minor": 2
}
