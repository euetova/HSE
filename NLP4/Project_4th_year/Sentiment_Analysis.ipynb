{
 "cells": [
  {
   "cell_type": "code",
   "execution_count": 2,
   "metadata": {
    "collapsed": true
   },
   "outputs": [],
   "source": [
    "file = open('reviews.txt', 'r', encoding='utf-8')\n",
    "corpus = file.read()"
   ]
  },
  {
   "cell_type": "code",
   "execution_count": 25,
   "metadata": {
    "collapsed": true
   },
   "outputs": [],
   "source": [
    "file2 = open('seed.txt', 'r', encoding='utf-8')\n",
    "seed = file2.read()"
   ]
  },
  {
   "cell_type": "code",
   "execution_count": 30,
   "metadata": {
    "collapsed": true
   },
   "outputs": [],
   "source": [
    "with open('sentiment_dict.csv','r',encoding='utf-8') as file3:\n",
    "    sentiment_dict = {word.split(',')[0] for word in file3.readlines()}"
   ]
  },
  {
   "cell_type": "code",
   "execution_count": 59,
   "metadata": {
    "collapsed": true
   },
   "outputs": [],
   "source": [
    "seed = set(seed.split('\\n'))"
   ]
  },
  {
   "cell_type": "code",
   "execution_count": 3,
   "metadata": {},
   "outputs": [
    {
     "data": {
      "text/plain": [
       "'И пускай на меня не обижается наш прославленный защитник - франкофон «Монреаль Канадиенс» Maxime – я'"
      ]
     },
     "execution_count": 3,
     "metadata": {},
     "output_type": "execute_result"
    }
   ],
   "source": [
    "corpus[:100]"
   ]
  },
  {
   "cell_type": "code",
   "execution_count": 4,
   "metadata": {
    "collapsed": true
   },
   "outputs": [],
   "source": [
    "from sklearn.pipeline import Pipeline\n",
    "from sklearn.feature_extraction.text import TfidfVectorizer\n",
    "from sklearn.base import TransformerMixin\n",
    "from nltk.stem import SnowballStemmer\n",
    "from nltk.corpus import stopwords\n",
    "import string\n",
    "import re\n",
    "import numpy as np\n",
    "\n",
    "SEED = 1337\n",
    "\n",
    "class TextNormalizer(TransformerMixin):\n",
    "    def __init__(self, stop_words=stopwords.words('english'), \n",
    "                 stemmer=SnowballStemmer(\"english\")):\n",
    "        self.stop_words_ = stop_words\n",
    "        self.stemmer_ = stemmer\n",
    "        self.regex_ = re.compile('[%s]' % re.escape(string.punctuation))\n",
    "\n",
    "    # by convention, must return self\n",
    "    def fit(self, X, y):\n",
    "        return self\n",
    "    \n",
    "    def _normalize(self, text):\n",
    "        text = text.lower()\n",
    "        text = self.regex_.sub(' ', text)\n",
    "        text = [self.stemmer_.stem(word) for word in text.split() if word not in self.stop_words_]\n",
    "        return \" \".join(text)\n",
    "\n",
    "    def transform(self, X):\n",
    "        return np.array(list(map(lambda x: self._normalize(x), X)))"
   ]
  },
  {
   "cell_type": "code",
   "execution_count": 5,
   "metadata": {
    "collapsed": true
   },
   "outputs": [],
   "source": [
    "# some wrappers to work with word2vec\n",
    "from gensim.models.word2vec import Word2Vec\n",
    "from sklearn.feature_extraction.text import TfidfVectorizer\n",
    "from collections import defaultdict\n",
    "#from glove import Corpus, Glove\n",
    "\n",
    "\n",
    "# convert words from tweet to vectors and average them over tweet\n",
    "# or use weighted average according to idf\n",
    "class Text2Vec(TransformerMixin):\n",
    "    def __init__(self, vectorizer, use_idf=False):\n",
    "        self.use_idf_ = use_idf\n",
    "        self.w2v = vectorizer\n",
    "        self.size_ = self.w2v.get_size()\n",
    "        self.weights_ = None\n",
    "\n",
    "    def fit(self, X, y=None):\n",
    "        self.w2v.fit(X)\n",
    "        \n",
    "        if self.use_idf_:\n",
    "            tfidf = TfidfVectorizer(analyzer=lambda x: x)\n",
    "            tfidf.fit(X)\n",
    "            # if a word was never seen - it must be at least as infrequent\n",
    "            # as any of the known words - so the default idf is the max of known idf's\n",
    "            max_idf = max(tfidf.idf_)\n",
    "            self.weights_ = defaultdict(lambda: max_idf, [(w, tfidf.idf_[i]) for w, i in tfidf.vocabulary_.items()])\n",
    "\n",
    "        return self\n",
    "\n",
    "    def transform(self, X):\n",
    "        if self.w2v is None:\n",
    "            raise Exception('model not fitted')\n",
    "            \n",
    "        if self.use_idf_:\n",
    "            if self.weights_ is None:\n",
    "                raise Exception('model not fitted')\n",
    "                \n",
    "            result = np.array([np.mean([self.w2v.transform(w) * self.weights_[w] for w in sentence.split() if self.w2v.has(w)]\n",
    "                                       or [np.zeros(self.size_)], axis=0) for sentence in X])\n",
    "        else:\n",
    "            result = np.array([np.mean([self.w2v.transform(w) for w in sentence.split() if self.w2v.has(w)] \n",
    "                                       or [np.zeros(self.size_)], axis=0) for sentence in X])\n",
    "        return result\n",
    "    \n",
    "    \n",
    "class Word2VecWrapper(TransformerMixin):\n",
    "    def __init__(self, window=5,negative=5, size=100, iter=100, is_cbow=False, random_state=SEED):\n",
    "        self.window_ = window\n",
    "        self.negative_ = negative\n",
    "        self.size_ = size\n",
    "        self.iter_ = iter\n",
    "        self.is_cbow_ = is_cbow\n",
    "        self.w2v = None\n",
    "        self.random_state = random_state\n",
    "        \n",
    "    def get_size(self):\n",
    "        return self.size_\n",
    "\n",
    "    def fit(self, X, y=None):\n",
    "        \"\"\"\n",
    "        X: list of strings\n",
    "        \"\"\"\n",
    "        sentences_list = [x.split() for x in X]\n",
    "        self.w2v = Word2Vec(sentences_list, \n",
    "                            window=self.window_,\n",
    "                            negative=self.negative_, \n",
    "                            size=self.size_, \n",
    "                            iter=self.iter_,\n",
    "                            sg=not self.is_cbow_, seed=self.random_state)\n",
    "\n",
    "        return self\n",
    "    \n",
    "    def has(self, word):\n",
    "        return word in self.w2v\n",
    "\n",
    "    def transform(self, X):\n",
    "        \"\"\"\n",
    "        X: a word\n",
    "        \"\"\"\n",
    "        if self.w2v is None:\n",
    "            raise Exception('model not fitted')\n",
    "        return self.w2v[X] if X in self.w2v else np.zeros(self.size_)\n",
    "    \n",
    "\n",
    "class WordEmbeddingFabric:\n",
    "    @classmethod\n",
    "    def create(cls, method, size, cbow, n_iter=300):\n",
    "        if method == 'word2vec':\n",
    "            return Word2VecWrapper(window=3, negative=5, size=size, iter=n_iter, is_cbow=cbow)\n",
    "                    \n",
    "        if method == 'glove':\n",
    "            return GloveWrapper(window=3, learning_rate=0.05, size=size, epochs=n_iter, verbose=False)"
   ]
  },
  {
   "cell_type": "code",
   "execution_count": 6,
   "metadata": {},
   "outputs": [
    {
     "name": "stdout",
     "output_type": "stream",
     "text": [
      "{'едва', 'этот', 'четыре', 'я', 'с', 'он', 'а', 'по-прежнему', 'пока', 'лишь', 'здесь', 'еще', 'даже', 'и', 'восемь', 'каждый', 'самый', 'она', 'год', 'ещё', 'два', 'рамка', 'над', 'примечательно', 'уже', 'стать', 'после', 'во', 'со', 'главный', 'что', 'по', 'первый', 'в', 'ли', 'на', 'свой'}\n"
     ]
    }
   ],
   "source": [
    "def load_stop_words(stop_filename):\n",
    "\t''' загрузить список стоп-слов из файла, одно слово на строке '''\n",
    "\twith open(stop_filename, encoding = 'utf-8') as f:\n",
    "\t\tstopwords = [w.strip() for w in f.readlines()]\n",
    "\treturn set(stopwords)\n",
    "\n",
    "stop_words = load_stop_words(\"stoplist_russian.txt\")\n",
    "print(stop_words)"
   ]
  },
  {
   "cell_type": "code",
   "execution_count": 7,
   "metadata": {
    "collapsed": true
   },
   "outputs": [],
   "source": [
    "from pymystem3 import Mystem\n",
    "m = Mystem()\n",
    "def preprocessing(raw_text):\n",
    "    clean_text = re.sub('\\W+', ' ', raw_text) # \\W = [^a-zA-Z0-9_]\n",
    "    return clean_text\n",
    "\n",
    "def lemmatize(input):\n",
    "    return [lemma.strip() for lemma in m.lemmatize(input.lower()) if lemma.strip()]\n",
    "\n",
    "def remove_stop_words(lemmas, stopwords):\n",
    "    return ' '.join([word for word in lemmas if word not in stopwords])"
   ]
  },
  {
   "cell_type": "code",
   "execution_count": 64,
   "metadata": {
    "collapsed": true
   },
   "outputs": [],
   "source": [
    "#remove_stop_words(lemmatize(corpus), stop_words)"
   ]
  },
  {
   "cell_type": "code",
   "execution_count": 8,
   "metadata": {
    "collapsed": true
   },
   "outputs": [],
   "source": [
    "import pandas as pd\n",
    "corpus_lemm = pd.read_csv(\"reviews_score.csv\")"
   ]
  },
  {
   "cell_type": "code",
   "execution_count": 20,
   "metadata": {},
   "outputs": [
    {
     "data": {
      "text/html": [
       "<div>\n",
       "<style scoped>\n",
       "    .dataframe tbody tr th:only-of-type {\n",
       "        vertical-align: middle;\n",
       "    }\n",
       "\n",
       "    .dataframe tbody tr th {\n",
       "        vertical-align: top;\n",
       "    }\n",
       "\n",
       "    .dataframe thead th {\n",
       "        text-align: right;\n",
       "    }\n",
       "</style>\n",
       "<table border=\"1\" class=\"dataframe\">\n",
       "  <thead>\n",
       "    <tr style=\"text-align: right;\">\n",
       "      <th></th>\n",
       "      <th>Unnamed: 0</th>\n",
       "      <th>review</th>\n",
       "      <th>food</th>\n",
       "      <th>interior</th>\n",
       "      <th>service</th>\n",
       "    </tr>\n",
       "  </thead>\n",
       "  <tbody>\n",
       "    <tr>\n",
       "      <th>0</th>\n",
       "      <td>0</td>\n",
       "      <td>и пускай на я не обижаться наш прославленный з...</td>\n",
       "      <td>8</td>\n",
       "      <td>8</td>\n",
       "      <td>8</td>\n",
       "    </tr>\n",
       "    <tr>\n",
       "      <th>1</th>\n",
       "      <td>1</td>\n",
       "      <td>- здравствовать. виа д’арженто! - добрый вечер...</td>\n",
       "      <td>9</td>\n",
       "      <td>7</td>\n",
       "      <td>10</td>\n",
       "    </tr>\n",
       "    <tr>\n",
       "      <th>2</th>\n",
       "      <td>2</td>\n",
       "      <td>советовать вы увольнять ваш метродотель елена,...</td>\n",
       "      <td>9</td>\n",
       "      <td>9</td>\n",
       "      <td>1</td>\n",
       "    </tr>\n",
       "    <tr>\n",
       "      <th>3</th>\n",
       "      <td>3</td>\n",
       "      <td>отличный средне вековый интеръер. приятный обс...</td>\n",
       "      <td>8</td>\n",
       "      <td>10</td>\n",
       "      <td>9</td>\n",
       "    </tr>\n",
       "    <tr>\n",
       "      <th>4</th>\n",
       "      <td>4</td>\n",
       "      <td>ужинать в ресторан баден-баден 6 март . импоза...</td>\n",
       "      <td>10</td>\n",
       "      <td>8</td>\n",
       "      <td>8</td>\n",
       "    </tr>\n",
       "  </tbody>\n",
       "</table>\n",
       "</div>"
      ],
      "text/plain": [
       "   Unnamed: 0                                             review  food  \\\n",
       "0           0  и пускай на я не обижаться наш прославленный з...     8   \n",
       "1           1  - здравствовать. виа д’арженто! - добрый вечер...     9   \n",
       "2           2  советовать вы увольнять ваш метродотель елена,...     9   \n",
       "3           3  отличный средне вековый интеръер. приятный обс...     8   \n",
       "4           4  ужинать в ресторан баден-баден 6 март . импоза...    10   \n",
       "\n",
       "   interior  service  \n",
       "0         8        8  \n",
       "1         7       10  \n",
       "2         9        1  \n",
       "3        10        9  \n",
       "4         8        8  "
      ]
     },
     "execution_count": 20,
     "metadata": {},
     "output_type": "execute_result"
    }
   ],
   "source": [
    "corpus_lemm.head()"
   ]
  },
  {
   "cell_type": "code",
   "execution_count": null,
   "metadata": {
    "collapsed": true
   },
   "outputs": [],
   "source": []
  },
  {
   "cell_type": "code",
   "execution_count": 9,
   "metadata": {
    "collapsed": true
   },
   "outputs": [],
   "source": [
    "text = '.'.join(corpus_lemm['review'])"
   ]
  },
  {
   "cell_type": "code",
   "execution_count": 18,
   "metadata": {
    "collapsed": true
   },
   "outputs": [],
   "source": [
    "sentences_list = [x.strip() for x in text.split('.')]"
   ]
  },
  {
   "cell_type": "code",
   "execution_count": 78,
   "metadata": {},
   "outputs": [
    {
     "data": {
      "text/plain": [
       "<__main__.Word2VecWrapper at 0x121800438>"
      ]
     },
     "execution_count": 78,
     "metadata": {},
     "output_type": "execute_result"
    }
   ],
   "source": [
    "from gensim.models.word2vec import Word2Vec\n",
    "\n",
    "# notice, that our dataset has window=2\n",
    "\n",
    "w2v_cbow = Word2VecWrapper(window=2, negative=5, size=300, iter=300, is_cbow=True, random_state=SEED)\n",
    "w2v_cbow.fit(sentences_list)"
   ]
  },
  {
   "cell_type": "code",
   "execution_count": 10,
   "metadata": {
    "collapsed": true
   },
   "outputs": [],
   "source": [
    "import pickle\n",
    "# pickle.dump(w2v_cbow, open(\"w2v_cbow\", \"wb\"))\n",
    "w2v_cbow = pickle.load(open(\"w2v_cbow\", \"rb\"))"
   ]
  },
  {
   "cell_type": "code",
   "execution_count": 16,
   "metadata": {},
   "outputs": [
    {
     "data": {
      "text/plain": [
       "True"
      ]
     },
     "execution_count": 16,
     "metadata": {},
     "output_type": "execute_result"
    }
   ],
   "source": [
    "w2v_cbow.has('еда')"
   ]
  },
  {
   "cell_type": "code",
   "execution_count": null,
   "metadata": {
    "collapsed": true
   },
   "outputs": [],
   "source": [
    "columns = ['pos','next-pos','next-next-pos','prev-pos','prev-prev-pos']"
   ]
  }
 ],
 "metadata": {
  "kernelspec": {
   "display_name": "Python 3",
   "language": "python",
   "name": "python3"
  },
  "language_info": {
   "codemirror_mode": {
    "name": "ipython",
    "version": 3
   },
   "file_extension": ".py",
   "mimetype": "text/x-python",
   "name": "python",
   "nbconvert_exporter": "python",
   "pygments_lexer": "ipython3",
   "version": "3.6.3"
  }
 },
 "nbformat": 4,
 "nbformat_minor": 2
}
