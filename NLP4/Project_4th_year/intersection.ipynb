{
 "cells": [
  {
   "cell_type": "code",
   "execution_count": 1,
   "metadata": {
    "collapsed": true
   },
   "outputs": [],
   "source": [
    "import pandas as pd\n",
    "import re\n",
    "corpus_lemm = pd.read_csv(\"reviews_score.csv\", engine='python')"
   ]
  },
  {
   "cell_type": "code",
   "execution_count": 3,
   "metadata": {
    "collapsed": true
   },
   "outputs": [],
   "source": [
    "text = '.'.join(corpus_lemm['review'])\n",
    "sentences_list = [x.strip() for x in text.split('.')]"
   ]
  },
  {
   "cell_type": "markdown",
   "metadata": {},
   "source": [
    "### Идея 2"
   ]
  },
  {
   "cell_type": "code",
   "execution_count": 4,
   "metadata": {
    "collapsed": true
   },
   "outputs": [],
   "source": [
    "words_sentences_list = [x.split(' ') for x in sentences_list]"
   ]
  },
  {
   "cell_type": "code",
   "execution_count": 8,
   "metadata": {
    "collapsed": true
   },
   "outputs": [],
   "source": [
    "from pymystem3 import Mystem\n",
    "m = Mystem()\n",
    "def preprocessing(raw_text):\n",
    "    clean_text = re.sub('\\W+', ' ', raw_text) # \\W = [^a-zA-Z0-9_]\n",
    "    return clean_text\n",
    "\n",
    "for i in range(len(words_sentences_list)):\n",
    "    for j in range(len(words_sentences_list[i])):\n",
    "        words_sentences_list[i][j] = preprocessing(words_sentences_list[i][j])"
   ]
  },
  {
   "cell_type": "code",
   "execution_count": 9,
   "metadata": {
    "collapsed": true
   },
   "outputs": [],
   "source": [
    "words_sentences_list = [word for word in words_sentences_list if word != ' ']"
   ]
  },
  {
   "cell_type": "code",
   "execution_count": 10,
   "metadata": {
    "collapsed": true
   },
   "outputs": [],
   "source": [
    "import gensim\n",
    "model = gensim.models.Word2Vec(words_sentences_list, size=500, window=10, min_count=2, sg=0)"
   ]
  },
  {
   "cell_type": "code",
   "execution_count": 11,
   "metadata": {
    "collapsed": false
   },
   "outputs": [
    {
     "data": {
      "text/plain": [
       "<gensim.models.word2vec.Word2Vec at 0x7ffae54dbe80>"
      ]
     },
     "execution_count": 11,
     "metadata": {},
     "output_type": "execute_result"
    }
   ],
   "source": [
    "model"
   ]
  },
  {
   "cell_type": "code",
   "execution_count": 12,
   "metadata": {
    "collapsed": true
   },
   "outputs": [],
   "source": [
    "import pickle\n",
    "pickle.dump(model, open(\"w2v_model\", \"wb\"))\n",
    "#model = pickle.load(open(\"w2v_model\", \"rb\"))"
   ]
  },
  {
   "cell_type": "code",
   "execution_count": 13,
   "metadata": {
    "collapsed": true
   },
   "outputs": [],
   "source": [
    "model.wv.save_word2vec_format('model.bin', binary=True)"
   ]
  },
  {
   "cell_type": "markdown",
   "metadata": {},
   "source": [
    "## пересечение со словарем"
   ]
  },
  {
   "cell_type": "code",
   "execution_count": 2,
   "metadata": {
    "collapsed": true
   },
   "outputs": [],
   "source": [
    "with open('sentiment_list.txt','r',encoding='utf-8') as file4:\n",
    "    new_sent_words = {word.split('\\t')[0].strip() for word in file4.readlines()}"
   ]
  },
  {
   "cell_type": "code",
   "execution_count": 3,
   "metadata": {
    "collapsed": true
   },
   "outputs": [],
   "source": [
    "with open('rusentilex.txt','r',encoding='utf-8') as file3:\n",
    "    sentiment_dict = {word.split(',')[0] for word in file3.readlines()}"
   ]
  },
  {
   "cell_type": "code",
   "execution_count": 4,
   "metadata": {
    "collapsed": false
   },
   "outputs": [
    {
     "name": "stdout",
     "output_type": "stream",
     "text": [
      "Всего найдено  168  слов\n",
      "Пересечение со словарем оценочных выражений:  69 слов,  40.0 % списка\n"
     ]
    }
   ],
   "source": [
    "print('Всего найдено ', len(new_sent_words), ' слов')\n",
    "print('Пересечение со словарем оценочных выражений: ', len(sentiment_dict & new_sent_words), 'слов, ',\n",
    "      round(len(sentiment_dict & new_sent_words)/len(new_sent_words), 1)*100, '% списка')"
   ]
  },
  {
   "cell_type": "code",
   "execution_count": 5,
   "metadata": {
    "collapsed": false
   },
   "outputs": [
    {
     "name": "stdout",
     "output_type": "stream",
     "text": [
      "душевный\n",
      "умеренный\n",
      "стильный\n",
      "красивый\n",
      "улыбчивый\n",
      "приятный\n",
      "плохой\n",
      "тихий\n",
      "прекрасный\n",
      "оригинальный\n",
      "достойный\n",
      "грубить\n",
      "предупредительный\n",
      "осадок\n",
      "потрясать\n",
      "отменный\n",
      "восторженный\n",
      "классный\n",
      "превосходный\n",
      "посредственный\n",
      "двойственный\n",
      "дешевый\n",
      "умница\n",
      "вкусный\n",
      "разумный\n",
      "симпатичный\n",
      "благодарность\n",
      "изумительный\n",
      "приветливый\n",
      "улыбаться\n",
      "неплохой\n",
      "признательность\n",
      "обширный\n",
      "благодарный\n",
      "отличный\n",
      "дружелюбный\n",
      "правильный\n",
      "удивительный\n",
      "испортиться\n",
      "демократичный\n",
      "бедненький\n",
      "средний\n",
      "хороший\n",
      "внимательный\n",
      "шикарный\n",
      "обходительный\n",
      "восхитительный\n",
      "отвратительный\n",
      "гуманный\n",
      "уютный\n",
      "великолепный\n",
      "позитивный\n",
      "негативный\n",
      "орать\n",
      "доброжелательный\n",
      "замечательный\n",
      "ужасный\n",
      "живой\n",
      "положительный\n",
      "спокойный\n",
      "качественный\n",
      "чудесный\n",
      "противоречивый\n",
      "приличный\n",
      "милый\n",
      "отрицательный\n",
      "потрясающий\n",
      "нормальный\n",
      "вежливый\n"
     ]
    }
   ],
   "source": [
    "for word in sentiment_dict & new_sent_words:\n",
    "    print(word)"
   ]
  },
  {
   "cell_type": "code",
   "execution_count": 6,
   "metadata": {
    "collapsed": false
   },
   "outputs": [
    {
     "name": "stdout",
     "output_type": "stream",
     "text": [
      "ребята\n",
      "окраина\n",
      "спасибо\n",
      "бегать\n",
      "девочка\n",
      "Вю\n",
      "обслуживание\n",
      "бейджик\n",
      "кавказский\n",
      "молодец\n",
      "витражный\n",
      "вкусно\n",
      "организованный\n",
      "клиент\n",
      "атмосферный\n",
      "официанка\n",
      "подготовка\n",
      "ненавязчивый\n",
      "оформлять\n",
      "выражать\n",
      "соня\n",
      "китайский\n",
      "периодически\n",
      "девушка\n",
      "врубать\n",
      "выступать\n",
      "парень\n",
      "администратор\n",
      "благодарить\n",
      "обычный\n",
      "итальянский\n",
      "хромать\n",
      "топтаться\n",
      "официант\n",
      "четко\n",
      "уединенный\n",
      "музыка\n",
      "петь\n",
      "вежливо\n",
      "громкий\n",
      "супер\n",
      "кофейня\n",
      "объяснять\n",
      "обалденный\n",
      "quot оставлять\n",
      "мексикан\n",
      "играть\n",
      "320р\n",
      "басс\n",
      "бармен\n",
      "японский\n",
      "персонал\n",
      "купчино\n",
      "хата\n",
      "гауд\n",
      "умничек\n",
      "фоновый\n",
      "менеджер\n",
      "пепперони\n",
      "суша бар\n",
      "обслуживать\n",
      "ачма\n",
      "обстоятельно\n",
      "доброжелательно\n",
      "бейдж\n",
      "отвечать\n",
      "мероприятие\n",
      "разнообразный\n",
      "громко\n",
      "манта\n",
      "впечатление\n",
      "разнообразие\n",
      "коллектив\n",
      "официантка\n",
      "айс\n",
      "сервис\n",
      "стараться\n",
      "эмоция\n",
      "мильфей\n",
      "приемлимый\n",
      "пытаться\n",
      "марципановый\n",
      "сытно\n",
      "грузинский\n",
      "хостесса\n",
      "узбекский\n",
      "поблагодарить\n",
      "тетка quot\n",
      "выключать\n",
      "разнообразно\n",
      "подстреливать\n",
      "свадебный\n",
      "изменяться\n",
      "вопрос\n",
      "задавать\n",
      "мальчик\n",
      "разговаривать\n",
      "воспоминание\n",
      "управляющий\n"
     ]
    }
   ],
   "source": [
    "for word in (new_sent_words - sentiment_dict):\n",
    "    print(word)"
   ]
  },
  {
   "cell_type": "code",
   "execution_count": 7,
   "metadata": {
    "collapsed": true
   },
   "outputs": [],
   "source": [
    "xlWriter = pd.ExcelWriter('sentiment_new.xlsx', engine='xlsxwriter')\n",
    "workbook = xlWriter.book\n",
    "new = [('word', list(new_sent_words - sentiment_dict))]\n",
    "df2 = pd.DataFrame.from_items(new)\n",
    "df2.to_excel(xlWriter)\n",
    "xlWriter.save()"
   ]
  },
  {
   "cell_type": "code",
   "execution_count": null,
   "metadata": {
    "collapsed": true
   },
   "outputs": [],
   "source": []
  }
 ],
 "metadata": {
  "kernelspec": {
   "display_name": "Python 3",
   "language": "python",
   "name": "python3"
  },
  "language_info": {
   "codemirror_mode": {
    "name": "ipython",
    "version": 3
   },
   "file_extension": ".py",
   "mimetype": "text/x-python",
   "name": "python",
   "nbconvert_exporter": "python",
   "pygments_lexer": "ipython3",
   "version": "3.5.3"
  }
 },
 "nbformat": 4,
 "nbformat_minor": 2
}
