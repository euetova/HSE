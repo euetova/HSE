{
 "cells": [
  {
   "cell_type": "markdown",
   "metadata": {},
   "source": [
    "### Словарь оценочных слов \n",
    "#### перевести его в dataframe для более удобной работы"
   ]
  },
  {
   "cell_type": "code",
   "execution_count": 52,
   "metadata": {
    "collapsed": true
   },
   "outputs": [],
   "source": [
    "import pandas as pd\n",
    "import numpy as np\n",
    "from pymystem3 import Mystem\n",
    "import tqdm\n",
    "import re"
   ]
  },
  {
   "cell_type": "code",
   "execution_count": 3,
   "metadata": {
    "collapsed": true
   },
   "outputs": [],
   "source": [
    "m = Mystem()"
   ]
  },
  {
   "cell_type": "code",
   "execution_count": 156,
   "metadata": {
    "collapsed": true
   },
   "outputs": [],
   "source": [
    "df = pd.read_table('rusentilex.txt', sep=',',  encoding = 'utf-8', names=['Word', 'POS', 'InitialLem', 'Sentiment','Source', 'Ambiguity'])"
   ]
  },
  {
   "cell_type": "code",
   "execution_count": 157,
   "metadata": {
    "collapsed": true
   },
   "outputs": [],
   "source": [
    "df['POS'] = df['POS'].apply(lambda x: x.strip())\n",
    "df['Sentiment'] = df['Sentiment'].apply(lambda x: x.strip())\n",
    "df['Source'] = df['Source'].apply(lambda x: str(x).strip())"
   ]
  },
  {
   "cell_type": "markdown",
   "metadata": {},
   "source": [
    "#### Нам нужны оценночные слова, так что фильтруем по opinion"
   ]
  },
  {
   "cell_type": "code",
   "execution_count": 160,
   "metadata": {
    "collapsed": true
   },
   "outputs": [],
   "source": [
    "sent = df.loc[df['Source'] == 'opinion']"
   ]
  },
  {
   "cell_type": "code",
   "execution_count": 161,
   "metadata": {
    "scrolled": true
   },
   "outputs": [
    {
     "data": {
      "text/html": [
       "<div>\n",
       "<style>\n",
       "    .dataframe thead tr:only-child th {\n",
       "        text-align: right;\n",
       "    }\n",
       "\n",
       "    .dataframe thead th {\n",
       "        text-align: left;\n",
       "    }\n",
       "\n",
       "    .dataframe tbody tr th {\n",
       "        vertical-align: top;\n",
       "    }\n",
       "</style>\n",
       "<table border=\"1\" class=\"dataframe\">\n",
       "  <thead>\n",
       "    <tr style=\"text-align: right;\">\n",
       "      <th></th>\n",
       "      <th>Word</th>\n",
       "      <th>POS</th>\n",
       "      <th>InitialLem</th>\n",
       "      <th>Sentiment</th>\n",
       "      <th>Source</th>\n",
       "      <th>Ambiguity</th>\n",
       "    </tr>\n",
       "  </thead>\n",
       "  <tbody>\n",
       "    <tr>\n",
       "      <th>2</th>\n",
       "      <td>абракадабра</td>\n",
       "      <td>Noun</td>\n",
       "      <td>абракадабра</td>\n",
       "      <td>negative</td>\n",
       "      <td>opinion</td>\n",
       "      <td>NaN</td>\n",
       "    </tr>\n",
       "    <tr>\n",
       "      <th>3</th>\n",
       "      <td>абсурд</td>\n",
       "      <td>Noun</td>\n",
       "      <td>абсурд</td>\n",
       "      <td>negative</td>\n",
       "      <td>opinion</td>\n",
       "      <td>NaN</td>\n",
       "    </tr>\n",
       "    <tr>\n",
       "      <th>4</th>\n",
       "      <td>абсурдность</td>\n",
       "      <td>Noun</td>\n",
       "      <td>абсурдность</td>\n",
       "      <td>negative</td>\n",
       "      <td>opinion</td>\n",
       "      <td>NaN</td>\n",
       "    </tr>\n",
       "    <tr>\n",
       "      <th>5</th>\n",
       "      <td>абсурдный</td>\n",
       "      <td>Adj</td>\n",
       "      <td>абсурдный</td>\n",
       "      <td>negative</td>\n",
       "      <td>opinion</td>\n",
       "      <td>NaN</td>\n",
       "    </tr>\n",
       "    <tr>\n",
       "      <th>6</th>\n",
       "      <td>авантюра</td>\n",
       "      <td>Noun</td>\n",
       "      <td>авантюра</td>\n",
       "      <td>negative</td>\n",
       "      <td>opinion</td>\n",
       "      <td>NaN</td>\n",
       "    </tr>\n",
       "  </tbody>\n",
       "</table>\n",
       "</div>"
      ],
      "text/plain": [
       "          Word   POS    InitialLem Sentiment   Source Ambiguity\n",
       "2  абракадабра  Noun   абракадабра  negative  opinion       NaN\n",
       "3       абсурд  Noun        абсурд  negative  opinion       NaN\n",
       "4  абсурдность  Noun   абсурдность  negative  opinion       NaN\n",
       "5    абсурдный   Adj     абсурдный  negative  opinion       NaN\n",
       "6     авантюра  Noun      авантюра  negative  opinion       NaN"
      ]
     },
     "execution_count": 161,
     "metadata": {},
     "output_type": "execute_result"
    }
   ],
   "source": [
    "sent.head()"
   ]
  },
  {
   "cell_type": "markdown",
   "metadata": {},
   "source": [
    "#### Смотрим, что у нас в seed. Пригодится для последующего анализа"
   ]
  },
  {
   "cell_type": "code",
   "execution_count": 55,
   "metadata": {
    "scrolled": true
   },
   "outputs": [
    {
     "data": {
      "text/plain": [
       "['аналогов нет',\n",
       " 'подошва',\n",
       " 'вежливый',\n",
       " 'великолепный',\n",
       " 'вкусный',\n",
       " 'внимательный',\n",
       " 'большой выбор',\n",
       " 'вау',\n",
       " 'неплохой',\n",
       " 'идеальный',\n",
       " 'неприятный',\n",
       " 'понравилось',\n",
       " 'рекомендуем',\n",
       " 'на ура',\n",
       " 'советуем',\n",
       " 'отвратительный',\n",
       " 'отличный',\n",
       " 'положительный',\n",
       " 'отрицательный',\n",
       " 'приятный',\n",
       " 'напоминать о себе',\n",
       " 'спасибо',\n",
       " 'радовать глаз',\n",
       " 'на совесть',\n",
       " 'молодцы',\n",
       " 'придти еще раз',\n",
       " 'орать',\n",
       " 'улыбаться',\n",
       " 'приветливый',\n",
       " 'отличный',\n",
       " 'замечательный']"
      ]
     },
     "execution_count": 55,
     "metadata": {},
     "output_type": "execute_result"
    }
   ],
   "source": [
    "with open('seed.txt', 'r', encoding='utf-8') as f:\n",
    "    text = f.readlines()\n",
    "sentiment_list = [line.strip() for line in text]\n",
    "sentiment_list"
   ]
  },
  {
   "cell_type": "markdown",
   "metadata": {},
   "source": [
    "### Тестовый корпус\n",
    "#### извлекаем из xml id отзыва, сам отзыв, оценки за еду, интерьер и сервис. Создаём из извлечённых данных dataframe"
   ]
  },
  {
   "cell_type": "code",
   "execution_count": 120,
   "metadata": {
    "collapsed": true
   },
   "outputs": [],
   "source": [
    "with open('sent_train.txt', 'r', encoding='utf-8') as f:\n",
    "    text = f.read()\n",
    "    #text = text.split('</review>')\n",
    "    "
   ]
  },
  {
   "cell_type": "code",
   "execution_count": 121,
   "metadata": {
    "collapsed": true
   },
   "outputs": [],
   "source": [
    "import re\n",
    "id_rew = re.findall('<review id=\"(.+?)\">', text)\n",
    "reviews = re.findall('<text>(.+?)</text>', text)\n",
    "food =  re.findall('<food>(.+?)</food>', text)\n",
    "interior = re.findall('<interior>(.+?)</interior>', text)\n",
    "service = re.findall('<service>(.+?)</service>', text)"
   ]
  },
  {
   "cell_type": "code",
   "execution_count": 62,
   "metadata": {
    "collapsed": true
   },
   "outputs": [],
   "source": [
    "with open('reviews.txt', 'a', encoding='utf-8') as f:\n",
    "    for r in reviews:\n",
    "        f.write(r)"
   ]
  },
  {
   "cell_type": "code",
   "execution_count": 154,
   "metadata": {
    "collapsed": true
   },
   "outputs": [],
   "source": [
    "text_score = pd.DataFrame(np.column_stack([id_rew,reviews, food, interior, service]), \n",
    "                               columns=['id','review', 'food', 'interior', 'service'])"
   ]
  },
  {
   "cell_type": "code",
   "execution_count": 155,
   "metadata": {
    "scrolled": true
   },
   "outputs": [
    {
     "data": {
      "text/html": [
       "<div>\n",
       "<style>\n",
       "    .dataframe thead tr:only-child th {\n",
       "        text-align: right;\n",
       "    }\n",
       "\n",
       "    .dataframe thead th {\n",
       "        text-align: left;\n",
       "    }\n",
       "\n",
       "    .dataframe tbody tr th {\n",
       "        vertical-align: top;\n",
       "    }\n",
       "</style>\n",
       "<table border=\"1\" class=\"dataframe\">\n",
       "  <thead>\n",
       "    <tr style=\"text-align: right;\">\n",
       "      <th></th>\n",
       "      <th>id</th>\n",
       "      <th>review</th>\n",
       "      <th>food</th>\n",
       "      <th>interior</th>\n",
       "      <th>service</th>\n",
       "    </tr>\n",
       "  </thead>\n",
       "  <tbody>\n",
       "    <tr>\n",
       "      <th>0</th>\n",
       "      <td>17600</td>\n",
       "      <td>И пускай на меня не обижается наш прославленны...</td>\n",
       "      <td>8</td>\n",
       "      <td>8</td>\n",
       "      <td>8</td>\n",
       "    </tr>\n",
       "    <tr>\n",
       "      <th>1</th>\n",
       "      <td>23518</td>\n",
       "      <td>- Здравствуйте. Виа Д’Арженто! - Добрый вечер,...</td>\n",
       "      <td>9</td>\n",
       "      <td>7</td>\n",
       "      <td>10</td>\n",
       "    </tr>\n",
       "    <tr>\n",
       "      <th>2</th>\n",
       "      <td>27221</td>\n",
       "      <td>Советую вам уволить Вашего метродотеля Елену, ...</td>\n",
       "      <td>9</td>\n",
       "      <td>9</td>\n",
       "      <td>1</td>\n",
       "    </tr>\n",
       "    <tr>\n",
       "      <th>3</th>\n",
       "      <td>29097</td>\n",
       "      <td>отличный средне вековый интеръер. Приятное обс...</td>\n",
       "      <td>8</td>\n",
       "      <td>10</td>\n",
       "      <td>9</td>\n",
       "    </tr>\n",
       "    <tr>\n",
       "      <th>4</th>\n",
       "      <td>23065</td>\n",
       "      <td>Ужинали в ресторане Баден-Баден 6 марта . Импо...</td>\n",
       "      <td>10</td>\n",
       "      <td>8</td>\n",
       "      <td>8</td>\n",
       "    </tr>\n",
       "  </tbody>\n",
       "</table>\n",
       "</div>"
      ],
      "text/plain": [
       "      id                                             review food interior  \\\n",
       "0  17600  И пускай на меня не обижается наш прославленны...    8        8   \n",
       "1  23518  - Здравствуйте. Виа Д’Арженто! - Добрый вечер,...    9        7   \n",
       "2  27221  Советую вам уволить Вашего метродотеля Елену, ...    9        9   \n",
       "3  29097  отличный средне вековый интеръер. Приятное обс...    8       10   \n",
       "4  23065  Ужинали в ресторане Баден-Баден 6 марта . Импо...   10        8   \n",
       "\n",
       "  service  \n",
       "0       8  \n",
       "1      10  \n",
       "2       1  \n",
       "3       9  \n",
       "4       8  "
      ]
     },
     "execution_count": 155,
     "metadata": {},
     "output_type": "execute_result"
    }
   ],
   "source": [
    "text_score.head()"
   ]
  },
  {
   "cell_type": "markdown",
   "metadata": {},
   "source": [
    "#### Лемматизируем, переводим оценки в int"
   ]
  },
  {
   "cell_type": "code",
   "execution_count": 158,
   "metadata": {
    "collapsed": true
   },
   "outputs": [],
   "source": [
    "text_score['review'] = text_score['review'].apply(lambda x: m.lemmatize(x))"
   ]
  },
  {
   "cell_type": "code",
   "execution_count": 159,
   "metadata": {
    "collapsed": true
   },
   "outputs": [],
   "source": [
    "text_score['food'] = text_score['food'].apply(lambda x: int(x))\n",
    "text_score['interior'] = text_score['interior'].apply(lambda x: int(x))\n",
    "text_score['service'] = text_score['service'].apply(lambda x: int(x))"
   ]
  },
  {
   "cell_type": "code",
   "execution_count": 164,
   "metadata": {
    "collapsed": true
   },
   "outputs": [],
   "source": [
    "text_score['review'] = text_score['review'].apply(lambda x: ''.join(x))"
   ]
  },
  {
   "cell_type": "markdown",
   "metadata": {},
   "source": [
    "#### Делим условно отзывы на позитивные и негативные по оценке за еду. Всё, что между 4 и 7, считаем нейтральными"
   ]
  },
  {
   "cell_type": "code",
   "execution_count": 163,
   "metadata": {
    "collapsed": true,
    "scrolled": false
   },
   "outputs": [],
   "source": [
    "pos = text_score.loc[text_score['food'] > 7]\n",
    "neg = text_score.loc[text_score['food'] < 4]"
   ]
  },
  {
   "cell_type": "markdown",
   "metadata": {},
   "source": [
    "#### Сохраняем в csv нашу таблицу"
   ]
  },
  {
   "cell_type": "code",
   "execution_count": 165,
   "metadata": {
    "collapsed": true
   },
   "outputs": [],
   "source": [
    "text_score.to_csv('reviews_score.csv', sep=';',encoding='utf-8', header=True)"
   ]
  },
  {
   "cell_type": "code",
   "execution_count": 5,
   "metadata": {
    "collapsed": true
   },
   "outputs": [],
   "source": [
    "df = pd.read_csv('reviews_score.csv', sep=';',  encoding = 'utf-8')"
   ]
  },
  {
   "cell_type": "markdown",
   "metadata": {},
   "source": [
    "### W2V model"
   ]
  },
  {
   "cell_type": "code",
   "execution_count": 66,
   "metadata": {
    "collapsed": true
   },
   "outputs": [],
   "source": [
    "text = '.'.join(df['review'])\n",
    "sentences_list = [x.strip() for x in text.split('.')]"
   ]
  },
  {
   "cell_type": "code",
   "execution_count": 68,
   "metadata": {
    "collapsed": true
   },
   "outputs": [],
   "source": [
    "def preprocessing(raw_text):\n",
    "    clean_text = re.sub('\\W+', ' ', raw_text) # \\W = [^a-zA-Z0-9_]\n",
    "    return clean_text"
   ]
  },
  {
   "cell_type": "code",
   "execution_count": 69,
   "metadata": {},
   "outputs": [],
   "source": [
    "words_sentences_list = [x.split(' ') for x in sentences_list]\n",
    "\n",
    "for i in range(len(words_sentences_list)):\n",
    "    for j in range(len(words_sentences_list[i])):\n",
    "        words_sentences_list[i][j] = preprocessing(words_sentences_list[i][j])\n",
    "\n",
    "words_sentences_list = [word for word in words_sentences_list if word != ' ']"
   ]
  },
  {
   "cell_type": "code",
   "execution_count": 70,
   "metadata": {
    "collapsed": true
   },
   "outputs": [],
   "source": [
    "import gensim\n",
    "model = gensim.models.Word2Vec(words_sentences_list, size=500, window=10, min_count=2, sg=0)"
   ]
  },
  {
   "cell_type": "markdown",
   "metadata": {},
   "source": [
    "### Topic modeling"
   ]
  },
  {
   "cell_type": "code",
   "execution_count": 71,
   "metadata": {
    "collapsed": true
   },
   "outputs": [],
   "source": [
    "from sklearn.feature_extraction.text import TfidfVectorizer\n",
    "from sklearn.decomposition import NMF\n",
    "from nltk.corpus import stopwords"
   ]
  },
  {
   "cell_type": "code",
   "execution_count": 72,
   "metadata": {},
   "outputs": [
    {
     "data": {
      "text/html": [
       "<div>\n",
       "<style>\n",
       "    .dataframe thead tr:only-child th {\n",
       "        text-align: right;\n",
       "    }\n",
       "\n",
       "    .dataframe thead th {\n",
       "        text-align: left;\n",
       "    }\n",
       "\n",
       "    .dataframe tbody tr th {\n",
       "        vertical-align: top;\n",
       "    }\n",
       "</style>\n",
       "<table border=\"1\" class=\"dataframe\">\n",
       "  <thead>\n",
       "    <tr style=\"text-align: right;\">\n",
       "      <th></th>\n",
       "      <th>Unnamed: 0</th>\n",
       "      <th>id</th>\n",
       "      <th>review</th>\n",
       "      <th>food</th>\n",
       "      <th>interior</th>\n",
       "      <th>service</th>\n",
       "    </tr>\n",
       "  </thead>\n",
       "  <tbody>\n",
       "    <tr>\n",
       "      <th>0</th>\n",
       "      <td>0</td>\n",
       "      <td>17600</td>\n",
       "      <td>и пускай на я не обижаться наш прославленный з...</td>\n",
       "      <td>8</td>\n",
       "      <td>8</td>\n",
       "      <td>8</td>\n",
       "    </tr>\n",
       "    <tr>\n",
       "      <th>1</th>\n",
       "      <td>1</td>\n",
       "      <td>23518</td>\n",
       "      <td>- здравствовать. виа д’арженто! - добрый вечер...</td>\n",
       "      <td>9</td>\n",
       "      <td>7</td>\n",
       "      <td>10</td>\n",
       "    </tr>\n",
       "    <tr>\n",
       "      <th>2</th>\n",
       "      <td>2</td>\n",
       "      <td>27221</td>\n",
       "      <td>советовать вы увольнять ваш метродотель елена,...</td>\n",
       "      <td>9</td>\n",
       "      <td>9</td>\n",
       "      <td>1</td>\n",
       "    </tr>\n",
       "    <tr>\n",
       "      <th>3</th>\n",
       "      <td>3</td>\n",
       "      <td>29097</td>\n",
       "      <td>отличный средне вековый интеръер. приятный обс...</td>\n",
       "      <td>8</td>\n",
       "      <td>10</td>\n",
       "      <td>9</td>\n",
       "    </tr>\n",
       "    <tr>\n",
       "      <th>4</th>\n",
       "      <td>4</td>\n",
       "      <td>23065</td>\n",
       "      <td>ужинать в ресторан баден-баден 6 март . импоза...</td>\n",
       "      <td>10</td>\n",
       "      <td>8</td>\n",
       "      <td>8</td>\n",
       "    </tr>\n",
       "  </tbody>\n",
       "</table>\n",
       "</div>"
      ],
      "text/plain": [
       "   Unnamed: 0     id                                             review  food  \\\n",
       "0           0  17600  и пускай на я не обижаться наш прославленный з...     8   \n",
       "1           1  23518  - здравствовать. виа д’арженто! - добрый вечер...     9   \n",
       "2           2  27221  советовать вы увольнять ваш метродотель елена,...     9   \n",
       "3           3  29097  отличный средне вековый интеръер. приятный обс...     8   \n",
       "4           4  23065  ужинать в ресторан баден-баден 6 март . импоза...    10   \n",
       "\n",
       "   interior  service  \n",
       "0         8        8  \n",
       "1         7       10  \n",
       "2         9        1  \n",
       "3        10        9  \n",
       "4         8        8  "
      ]
     },
     "execution_count": 72,
     "metadata": {},
     "output_type": "execute_result"
    }
   ],
   "source": [
    "df.head()"
   ]
  },
  {
   "cell_type": "code",
   "execution_count": 73,
   "metadata": {
    "collapsed": true
   },
   "outputs": [],
   "source": [
    "text = df['review'].tolist()"
   ]
  },
  {
   "cell_type": "code",
   "execution_count": 28,
   "metadata": {
    "collapsed": true
   },
   "outputs": [],
   "source": [
    "vectorizer = TfidfVectorizer(min_df = 10, stop_words=stopwords.words('russian'))\n",
    "A = vectorizer.fit_transform(text)\n",
    "terms = vectorizer.get_feature_names()"
   ]
  },
  {
   "cell_type": "markdown",
   "metadata": {},
   "source": [
    "#### Get descriptors with NMF"
   ]
  },
  {
   "cell_type": "code",
   "execution_count": 29,
   "metadata": {
    "collapsed": true
   },
   "outputs": [],
   "source": [
    "k = 25\n",
    "model = NMF( init=\"nndsvd\", n_components=k) \n",
    "\n",
    "W = model.fit_transform( A )\n",
    "H = model.components_"
   ]
  },
  {
   "cell_type": "code",
   "execution_count": 32,
   "metadata": {
    "scrolled": true
   },
   "outputs": [
    {
     "name": "stdout",
     "output_type": "stream",
     "text": [
      "Topic 01: салат, соус, суп, блюдо, вкус, мясо, меню, десерт, овощ, заказывать, чай, тарелка, большой, сыр, вино, горячий, креветка, лосось, кусочек, порция\n",
      "Topic 02: quot, вопрос, название, цезарь, сегодня, слово, ответ, официантка, который, спрашивать, становиться, меню, отвечать, оценка, русский, новый, палочка, получать, коктейль, чебурек\n",
      "Topic 03: очень, понравиться, обязательно, долго, интерьер, особенно, уютно, официант, прийти, милый, порадовать, внимательный, приветливый, обслуживать, красивый, единственный, нравиться, вежливый, подруга, муж\n",
      "Topic 04: свадьба, спасибо, наш, гость, весь, банкет, праздник, зал, огромный, отмечать, отдельный, администратор, благодарность, торт, персонал, праздновать, банкетный, организация, свой, торжество\n",
      "Topic 05: это, мочь, сказать, который, весь, человек, свой, стол, знать, понимать, ничто, вообще, девушка, хотя, зал, говорить, кафе, самый, сидеть, время\n",
      "Topic 06: приносить, минута, заказ, ждать, официант, заказывать, столик, официантка, час, счет, долго, 15, подходить, 20, приходиться, принимать, 10, попросить, уходить, администратор\n",
      "Topic 07: ресторан, блюдо, посещать, любимый, ваш, отзыв, год, повар, официант, город, прекрасный, который, петербург, муж, китайский, удивлять, посещение, рекомендовать, шеф, новый\n",
      "Topic 08: пиво, паб, пивной, сорт, закуска, бар, попить, футбол, гренок, колбаска, пить, выпивать, выбор, темный, стейк, бармен, официантка, неплохой, большой, бельгийский\n",
      "Topic 09: отличный, рекомендовать, кухня, сервис, советовать, персонал, уютно, атмосфера, отлично, отдых, классный, обстановка, шоу, молодец, приемлемый, великолепный, замечательный, отменный, это, превосходный\n",
      "Topic 10: вкусно, быстро, готовить, уютно, кормить, очень, порция, поесть, красиво, приятно, недорого, большой, сытно, дорого, цена, спасибо, главное, любить, кафе, достаточно\n",
      "Topic 11: вкусный, еда, обслуживание, порция, большой, цена, пробовать, самый, свежий, красивый, интерьер, вежливый, действительно, официант, шашлык, торт, это, любить, нормальный, брать\n",
      "Topic 12: приятный, атмосфера, музыка, уютный, персонал, обстановка, вечер, живой, интерьер, вежливый, спасибо, проводить, обязательно, ненавязчивый, впечатление, приятно, замечательный, приветливый, прекрасный, играть\n",
      "Topic 13: просто, весь, класс, официант, восторг, объедение, отвратительный, облизывать, пальчик, слово, замечательно, обожать, сказка, прелесть, попробовать, везти, ужасно, огромный, потрясать, молодец\n",
      "Topic 14: заведение, данный, посещать, персонал, цена, качество, ваш, клиент, работа, посещение, соответствовать, подобный, блюдо, посетитель, район, свой, приветливый, удивлять, выбор, работать\n",
      "Topic 15: пицца, паста, заказывать, итальянский, тесто, доставка, пиццерия, сыр, хата, италия, вкусный, привозить, начинка, тонкий, дом, карбонар, доставлять, лазание, цезарь, самый\n",
      "Topic 16: день, рождение, отмечать, свой, компания, праздновать, праздник, программа, заказывать, человек, год, понравиться, подруга, приходить, музыка, будний, заранее, добрый, справлять, обслуживать\n",
      "Topic 17: суша, ролл, японский, бар, угорь, рис, филадельфия, лосось, запекать, евразия, суп, свежий, васаби, акция, самый, палочка, мисо, коктейль, острый, вкусный\n",
      "Topic 18: хороший, самый, город, желать, сервис, оставлять, впечатление, рекомендовать, бывать, цена, паб, вино, выбор, питер, кальян, качество, мнение, стейк, порция, особенно\n",
      "Topic 19: супер, спасибо, прийти, советовать, обязательно, замечательный, молодец, держать, бармен, отлично, класс, особенно, классный, новый, весь, кухня, бар, питер, свинина, вечеринка\n",
      "Topic 20: ходить, туда, нравиться, часто, год, бывать, постоянно, каждый, рано, очень, любить, ланч, пойти, сюда, бизнес, последний, заходить, назад, любимый, рядом\n",
      "Topic 21: место, замечательный, любимый, город, прекрасный, центр, советовать, находить, романтический, уютный, свободный, посидеть, отдых, достойный, столик, любить, район, идеальный, встреча, самый\n",
      "Topic 22: кухня, обслуживание, интерьер, уровень, цена, высокий, качество, неплохой, сервис, официант, замечательный, вполне, плохой, мочь, японский, средний, достойный, посещать, блюдо, прекрасный\n",
      "Topic 23: ребенок, детский, комната, семья, взрослый, муж, няня, родитель, зал, столик, семейный, приходить, восторг, праздник, весь, маленький, меню, игрушка, заниматься, большой\n",
      "Topic 24: друг, посидеть, компания, коктейль, бар, столик, вечер, приходить, сюда, большой, зайти, сидеть, отдыхать, прийти, приятно, проводить, часто, приглашать, свой, бармен\n",
      "Topic 25: оставаться, довольный, впечатление, очень, обслуживать, положительный, гость, целое, сытый, отмечать, блюдо, быстро, муж, заказывать, внимательный, снова, общий, уходить, разнообразный, юбилей\n"
     ]
    }
   ],
   "source": [
    "# show topic descriptors\n",
    "def get_descriptor( terms, H, topic_index, top ):\n",
    "    top_indices = np.argsort( H[topic_index,:] )[::-1]\n",
    "    top_terms = []\n",
    "    for term_index in top_indices[0:top]:\n",
    "        top_terms.append( terms[term_index] )\n",
    "    return top_terms\n",
    "\n",
    "descriptors = []\n",
    "for topic_index in range(k):\n",
    "    descriptors.append( get_descriptor( terms, H, topic_index, 20 ) )\n",
    "    str_descriptor = \", \".join( descriptors[topic_index] )\n",
    "    print(\"Topic %02d: %s\" % ( topic_index+1, str_descriptor ) )"
   ]
  },
  {
   "cell_type": "markdown",
   "metadata": {},
   "source": [
    "#### to make words searchable in W2V model"
   ]
  },
  {
   "cell_type": "code",
   "execution_count": 133,
   "metadata": {},
   "outputs": [],
   "source": [
    "with open('SEED.txt', 'r', encoding='utf-8') as f:\n",
    "    golden = f.readlines()"
   ]
  },
  {
   "cell_type": "code",
   "execution_count": 134,
   "metadata": {},
   "outputs": [],
   "source": [
    "golden = [i.strip() for i in golden]"
   ]
  },
  {
   "cell_type": "code",
   "execution_count": 122,
   "metadata": {},
   "outputs": [],
   "source": [
    "topic_descriptors = [item for sublist in descriptors[1:] for item in sublist]"
   ]
  },
  {
   "cell_type": "code",
   "execution_count": 40,
   "metadata": {
    "collapsed": true
   },
   "outputs": [],
   "source": [
    "## ищем векторы для seed, ищем векторы для дескрипторов\n",
    "## ищем по дескрипторам наиболее похожие к сиду, а потом ищем по всей модельки более похожие и делаем список"
   ]
  },
  {
   "cell_type": "code",
   "execution_count": 144,
   "metadata": {
    "collapsed": true
   },
   "outputs": [],
   "source": [
    "new_golden = []"
   ]
  },
  {
   "cell_type": "code",
   "execution_count": 145,
   "metadata": {},
   "outputs": [
    {
     "data": {
      "text/plain": [
       "480"
      ]
     },
     "execution_count": 145,
     "metadata": {},
     "output_type": "execute_result"
    }
   ],
   "source": [
    "len(topic_descriptors)"
   ]
  },
  {
   "cell_type": "code",
   "execution_count": 146,
   "metadata": {},
   "outputs": [
    {
     "name": "stderr",
     "output_type": "stream",
     "text": [
      "/Users/Inga/anaconda3/lib/python3.6/site-packages/ipykernel_launcher.py:2: DeprecationWarning: Call to deprecated `__contains__` (Method will be removed in 4.0.0, use self.wv.__contains__() instead).\n",
      "  \n",
      "/Users/Inga/anaconda3/lib/python3.6/site-packages/ipykernel_launcher.py:4: DeprecationWarning: Call to deprecated `__contains__` (Method will be removed in 4.0.0, use self.wv.__contains__() instead).\n",
      "  after removing the cwd from sys.path.\n"
     ]
    },
    {
     "name": "stdout",
     "output_type": "stream",
     "text": [
      "Sorry\n",
      "Sorry\n",
      "Sorry\n",
      "Sorry\n",
      "Sorry\n",
      "Sorry\n",
      "Sorry\n",
      "Sorry\n",
      "Sorry\n",
      "Sorry\n",
      "Sorry\n",
      "Sorry\n",
      "Sorry\n",
      "Sorry\n",
      "Sorry\n",
      "Sorry\n",
      "Sorry\n",
      "Sorry\n",
      "Sorry\n",
      "Sorry\n",
      "Sorry\n",
      "Sorry\n",
      "Sorry\n",
      "Sorry\n",
      "Sorry\n",
      "Sorry\n",
      "Sorry\n",
      "Sorry\n",
      "Sorry\n",
      "Sorry\n"
     ]
    }
   ],
   "source": [
    "for g in golden:\n",
    "    if model.__contains__(g) is True:\n",
    "        for t in topic_descriptors:\n",
    "            if model.__contains__(t) is True:\n",
    "                if model.wv.similarity(g, t) > 0.6:\n",
    "                    new_golden.append(t)\n",
    "            else:\n",
    "                print('Sorry')\n",
    "        new_golden.append(g)\n",
    "    else:\n",
    "                print('Sorry')"
   ]
  },
  {
   "cell_type": "code",
   "execution_count": 147,
   "metadata": {},
   "outputs": [],
   "source": [
    "new_golden = set(new_golden)"
   ]
  },
  {
   "cell_type": "code",
   "execution_count": 148,
   "metadata": {},
   "outputs": [
    {
     "data": {
      "text/plain": [
       "57"
      ]
     },
     "execution_count": 148,
     "metadata": {},
     "output_type": "execute_result"
    }
   ],
   "source": [
    "len(new_golden)"
   ]
  },
  {
   "cell_type": "code",
   "execution_count": 149,
   "metadata": {},
   "outputs": [
    {
     "data": {
      "text/plain": [
       "{'администратор',\n",
       " 'бармен',\n",
       " 'благодарность',\n",
       " 'вау',\n",
       " 'вежливый',\n",
       " 'великолепный',\n",
       " 'вкусно',\n",
       " 'вкусный',\n",
       " 'внимательный',\n",
       " 'впечатление',\n",
       " 'девушка',\n",
       " 'достойный',\n",
       " 'живой',\n",
       " 'замечательный',\n",
       " 'играть',\n",
       " 'идеальный',\n",
       " 'китайский',\n",
       " 'классный',\n",
       " 'красивый',\n",
       " 'милый',\n",
       " 'молодец',\n",
       " 'ненавязчивый',\n",
       " 'неплохой',\n",
       " 'неприятный',\n",
       " 'нормальный',\n",
       " 'обслуживание',\n",
       " 'обслуживать',\n",
       " 'объедение',\n",
       " 'орать',\n",
       " 'организация',\n",
       " 'отвечать',\n",
       " 'отвратительный',\n",
       " 'отличный',\n",
       " 'отменный',\n",
       " 'отрицательный',\n",
       " 'официант',\n",
       " 'официантка',\n",
       " 'персонал',\n",
       " 'пиццерия',\n",
       " 'плохой',\n",
       " 'положительный',\n",
       " 'понравилось',\n",
       " 'постоянно',\n",
       " 'потрясать',\n",
       " 'превосходный',\n",
       " 'прекрасный',\n",
       " 'приветливый',\n",
       " 'приемлемый',\n",
       " 'приятный',\n",
       " 'разнообразный',\n",
       " 'спасибо',\n",
       " 'супер',\n",
       " 'улыбаться',\n",
       " 'уютный',\n",
       " 'хата',\n",
       " 'хороший',\n",
       " 'японский'}"
      ]
     },
     "execution_count": 149,
     "metadata": {},
     "output_type": "execute_result"
    }
   ],
   "source": [
    "new_golden"
   ]
  },
  {
   "cell_type": "code",
   "execution_count": null,
   "metadata": {
    "collapsed": true
   },
   "outputs": [],
   "source": [
    "for word in words:\n",
    "    # есть ли слово в модели? Может быть, и нет\n",
    "    if word in model:\n",
    "        print(word)\n",
    "        # смотрим на вектор слова (его размерность 300, смотрим на первые 10 чисел)\n",
    "        print(model[word][:10])\n",
    "        # выдаем 10 ближайших соседей слова:\n",
    "        for i in model.most_similar(positive=[word], topn=10):\n",
    "            # слово + коэффициент косинусной близости\n",
    "            print(i[0], i[1])\n",
    "        print('\\n')\n",
    "    else:\n",
    "        # Увы!\n",
    "        print(word + ' is not present in the model')"
   ]
  },
  {
   "cell_type": "code",
   "execution_count": 179,
   "metadata": {
    "collapsed": true
   },
   "outputs": [],
   "source": [
    "sentiment_list = {}"
   ]
  },
  {
   "cell_type": "code",
   "execution_count": 180,
   "metadata": {},
   "outputs": [
    {
     "name": "stderr",
     "output_type": "stream",
     "text": [
      "/Users/Inga/anaconda3/lib/python3.6/site-packages/ipykernel_launcher.py:2: DeprecationWarning: Call to deprecated `most_similar` (Method will be removed in 4.0.0, use self.wv.most_similar() instead).\n",
      "  \n"
     ]
    }
   ],
   "source": [
    "for word in new_golden:\n",
    "    for i in model.most_similar(positive=[word], topn=5):\n",
    "            # слово + коэффициент косинусной близости\n",
    "            #print(word, i[0], i[1])\n",
    "            sentiment_list[i[0]]=i[1]#sentiment_list.append(i[0])\n",
    "    #print('\\n')"
   ]
  },
  {
   "cell_type": "code",
   "execution_count": 181,
   "metadata": {},
   "outputs": [],
   "source": [
    "with open('sentiment_list.txt', 'a', encoding='utf-8') as f:\n",
    "    for i in set(sentiment_list):\n",
    "        f.write(i + '\\t' + str(sentiment_list[i]) + '\\n')"
   ]
  }
 ],
 "metadata": {
  "kernelspec": {
   "display_name": "Python 3",
   "language": "python",
   "name": "python3"
  },
  "language_info": {
   "codemirror_mode": {
    "name": "ipython",
    "version": 3
   },
   "file_extension": ".py",
   "mimetype": "text/x-python",
   "name": "python",
   "nbconvert_exporter": "python",
   "pygments_lexer": "ipython3",
   "version": "3.6.3"
  }
 },
 "nbformat": 4,
 "nbformat_minor": 2
}
