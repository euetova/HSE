{
 "cells": [
  {
   "cell_type": "markdown",
   "metadata": {},
   "source": [
    "### Словарь оценочных слов \n",
    "#### перевести его в dataframe для более удобной работы"
   ]
  },
  {
   "cell_type": "code",
   "execution_count": 2,
   "metadata": {
    "collapsed": true
   },
   "outputs": [],
   "source": [
    "import pandas as pd\n",
    "import numpy as np\n",
    "from pymystem3 import Mystem\n",
    "import tqdm"
   ]
  },
  {
   "cell_type": "code",
   "execution_count": 3,
   "metadata": {
    "collapsed": true
   },
   "outputs": [],
   "source": [
    "m = Mystem()"
   ]
  },
  {
   "cell_type": "code",
   "execution_count": 4,
   "metadata": {},
   "outputs": [],
   "source": [
    "df = pd.read_table('rusentilex.txt', sep=',',  encoding = 'utf-8', names=['Word', 'POS', 'InitialLem', 'Sentiment','Source', 'Ambiguity'])"
   ]
  },
  {
   "cell_type": "code",
   "execution_count": 5,
   "metadata": {
    "collapsed": true
   },
   "outputs": [],
   "source": [
    "df['POS'] = df['POS'].apply(lambda x: x.strip())\n",
    "df['Sentiment'] = df['Sentiment'].apply(lambda x: x.strip())\n",
    "df['Source'] = df['Source'].apply(lambda x: str(x).strip())"
   ]
  },
  {
   "cell_type": "markdown",
   "metadata": {},
   "source": [
    "#### Нам нужны оценночные слова, так что фильтруем по opinion"
   ]
  },
  {
   "cell_type": "code",
   "execution_count": 6,
   "metadata": {
    "collapsed": true
   },
   "outputs": [],
   "source": [
    "df = df.loc[df['Source'] == 'opinion']"
   ]
  },
  {
   "cell_type": "code",
   "execution_count": 7,
   "metadata": {
    "scrolled": true
   },
   "outputs": [
    {
     "data": {
      "text/html": [
       "<div>\n",
       "<style>\n",
       "    .dataframe thead tr:only-child th {\n",
       "        text-align: right;\n",
       "    }\n",
       "\n",
       "    .dataframe thead th {\n",
       "        text-align: left;\n",
       "    }\n",
       "\n",
       "    .dataframe tbody tr th {\n",
       "        vertical-align: top;\n",
       "    }\n",
       "</style>\n",
       "<table border=\"1\" class=\"dataframe\">\n",
       "  <thead>\n",
       "    <tr style=\"text-align: right;\">\n",
       "      <th></th>\n",
       "      <th>Word</th>\n",
       "      <th>POS</th>\n",
       "      <th>InitialLem</th>\n",
       "      <th>Sentiment</th>\n",
       "      <th>Source</th>\n",
       "      <th>Ambiguity</th>\n",
       "    </tr>\n",
       "  </thead>\n",
       "  <tbody>\n",
       "    <tr>\n",
       "      <th>2</th>\n",
       "      <td>абракадабра</td>\n",
       "      <td>Noun</td>\n",
       "      <td>абракадабра</td>\n",
       "      <td>negative</td>\n",
       "      <td>opinion</td>\n",
       "      <td>NaN</td>\n",
       "    </tr>\n",
       "    <tr>\n",
       "      <th>3</th>\n",
       "      <td>абсурд</td>\n",
       "      <td>Noun</td>\n",
       "      <td>абсурд</td>\n",
       "      <td>negative</td>\n",
       "      <td>opinion</td>\n",
       "      <td>NaN</td>\n",
       "    </tr>\n",
       "    <tr>\n",
       "      <th>4</th>\n",
       "      <td>абсурдность</td>\n",
       "      <td>Noun</td>\n",
       "      <td>абсурдность</td>\n",
       "      <td>negative</td>\n",
       "      <td>opinion</td>\n",
       "      <td>NaN</td>\n",
       "    </tr>\n",
       "    <tr>\n",
       "      <th>5</th>\n",
       "      <td>абсурдный</td>\n",
       "      <td>Adj</td>\n",
       "      <td>абсурдный</td>\n",
       "      <td>negative</td>\n",
       "      <td>opinion</td>\n",
       "      <td>NaN</td>\n",
       "    </tr>\n",
       "    <tr>\n",
       "      <th>6</th>\n",
       "      <td>авантюра</td>\n",
       "      <td>Noun</td>\n",
       "      <td>авантюра</td>\n",
       "      <td>negative</td>\n",
       "      <td>opinion</td>\n",
       "      <td>NaN</td>\n",
       "    </tr>\n",
       "  </tbody>\n",
       "</table>\n",
       "</div>"
      ],
      "text/plain": [
       "          Word   POS    InitialLem Sentiment   Source Ambiguity\n",
       "2  абракадабра  Noun   абракадабра  negative  opinion       NaN\n",
       "3       абсурд  Noun        абсурд  negative  opinion       NaN\n",
       "4  абсурдность  Noun   абсурдность  negative  opinion       NaN\n",
       "5    абсурдный   Adj     абсурдный  negative  opinion       NaN\n",
       "6     авантюра  Noun      авантюра  negative  opinion       NaN"
      ]
     },
     "execution_count": 7,
     "metadata": {},
     "output_type": "execute_result"
    }
   ],
   "source": [
    "df.head()"
   ]
  },
  {
   "cell_type": "markdown",
   "metadata": {},
   "source": [
    "#### Смотрим, что у нас в seed. Пригодится для последующего анализа"
   ]
  },
  {
   "cell_type": "code",
   "execution_count": 55,
   "metadata": {
    "scrolled": true
   },
   "outputs": [
    {
     "data": {
      "text/plain": [
       "['аналогов нет',\n",
       " 'подошва',\n",
       " 'вежливый',\n",
       " 'великолепный',\n",
       " 'вкусный',\n",
       " 'внимательный',\n",
       " 'большой выбор',\n",
       " 'вау',\n",
       " 'неплохой',\n",
       " 'идеальный',\n",
       " 'неприятный',\n",
       " 'понравилось',\n",
       " 'рекомендуем',\n",
       " 'на ура',\n",
       " 'советуем',\n",
       " 'отвратительный',\n",
       " 'отличный',\n",
       " 'положительный',\n",
       " 'отрицательный',\n",
       " 'приятный',\n",
       " 'напоминать о себе',\n",
       " 'спасибо',\n",
       " 'радовать глаз',\n",
       " 'на совесть',\n",
       " 'молодцы',\n",
       " 'придти еще раз',\n",
       " 'орать',\n",
       " 'улыбаться',\n",
       " 'приветливый',\n",
       " 'отличный',\n",
       " 'замечательный']"
      ]
     },
     "execution_count": 55,
     "metadata": {},
     "output_type": "execute_result"
    }
   ],
   "source": [
    "with open('seed.txt', 'r', encoding='utf-8') as f:\n",
    "    text = f.readlines()\n",
    "sentiment_list = [line.strip() for line in text]\n",
    "sentiment_list"
   ]
  },
  {
   "cell_type": "markdown",
   "metadata": {},
   "source": [
    "### Тестовый корпус\n",
    "#### извлекаем из xml id отзыва, сам отзыв, оценки за еду, интерьер и сервис. Создаём из извлечённых данных dataframe"
   ]
  },
  {
   "cell_type": "code",
   "execution_count": 120,
   "metadata": {
    "collapsed": true
   },
   "outputs": [],
   "source": [
    "with open('sent_train.txt', 'r', encoding='utf-8') as f:\n",
    "    text = f.read()\n",
    "    #text = text.split('</review>')\n",
    "    "
   ]
  },
  {
   "cell_type": "code",
   "execution_count": 121,
   "metadata": {
    "collapsed": true
   },
   "outputs": [],
   "source": [
    "import re\n",
    "id_rew = re.findall('<review id=\"(.+?)\">', text)\n",
    "reviews = re.findall('<text>(.+?)</text>', text)\n",
    "food =  re.findall('<food>(.+?)</food>', text)\n",
    "interior = re.findall('<interior>(.+?)</interior>', text)\n",
    "service = re.findall('<service>(.+?)</service>', text)"
   ]
  },
  {
   "cell_type": "code",
   "execution_count": 62,
   "metadata": {
    "collapsed": true
   },
   "outputs": [],
   "source": [
    "with open('reviews.txt', 'a', encoding='utf-8') as f:\n",
    "    for r in reviews:\n",
    "        f.write(r)"
   ]
  },
  {
   "cell_type": "code",
   "execution_count": 154,
   "metadata": {
    "collapsed": true
   },
   "outputs": [],
   "source": [
    "text_score = pd.DataFrame(np.column_stack([id_rew,reviews, food, interior, service]), \n",
    "                               columns=['id','review', 'food', 'interior', 'service'])"
   ]
  },
  {
   "cell_type": "code",
   "execution_count": 155,
   "metadata": {
    "scrolled": true
   },
   "outputs": [
    {
     "data": {
      "text/html": [
       "<div>\n",
       "<style>\n",
       "    .dataframe thead tr:only-child th {\n",
       "        text-align: right;\n",
       "    }\n",
       "\n",
       "    .dataframe thead th {\n",
       "        text-align: left;\n",
       "    }\n",
       "\n",
       "    .dataframe tbody tr th {\n",
       "        vertical-align: top;\n",
       "    }\n",
       "</style>\n",
       "<table border=\"1\" class=\"dataframe\">\n",
       "  <thead>\n",
       "    <tr style=\"text-align: right;\">\n",
       "      <th></th>\n",
       "      <th>id</th>\n",
       "      <th>review</th>\n",
       "      <th>food</th>\n",
       "      <th>interior</th>\n",
       "      <th>service</th>\n",
       "    </tr>\n",
       "  </thead>\n",
       "  <tbody>\n",
       "    <tr>\n",
       "      <th>0</th>\n",
       "      <td>17600</td>\n",
       "      <td>И пускай на меня не обижается наш прославленны...</td>\n",
       "      <td>8</td>\n",
       "      <td>8</td>\n",
       "      <td>8</td>\n",
       "    </tr>\n",
       "    <tr>\n",
       "      <th>1</th>\n",
       "      <td>23518</td>\n",
       "      <td>- Здравствуйте. Виа Д’Арженто! - Добрый вечер,...</td>\n",
       "      <td>9</td>\n",
       "      <td>7</td>\n",
       "      <td>10</td>\n",
       "    </tr>\n",
       "    <tr>\n",
       "      <th>2</th>\n",
       "      <td>27221</td>\n",
       "      <td>Советую вам уволить Вашего метродотеля Елену, ...</td>\n",
       "      <td>9</td>\n",
       "      <td>9</td>\n",
       "      <td>1</td>\n",
       "    </tr>\n",
       "    <tr>\n",
       "      <th>3</th>\n",
       "      <td>29097</td>\n",
       "      <td>отличный средне вековый интеръер. Приятное обс...</td>\n",
       "      <td>8</td>\n",
       "      <td>10</td>\n",
       "      <td>9</td>\n",
       "    </tr>\n",
       "    <tr>\n",
       "      <th>4</th>\n",
       "      <td>23065</td>\n",
       "      <td>Ужинали в ресторане Баден-Баден 6 марта . Импо...</td>\n",
       "      <td>10</td>\n",
       "      <td>8</td>\n",
       "      <td>8</td>\n",
       "    </tr>\n",
       "  </tbody>\n",
       "</table>\n",
       "</div>"
      ],
      "text/plain": [
       "      id                                             review food interior  \\\n",
       "0  17600  И пускай на меня не обижается наш прославленны...    8        8   \n",
       "1  23518  - Здравствуйте. Виа Д’Арженто! - Добрый вечер,...    9        7   \n",
       "2  27221  Советую вам уволить Вашего метродотеля Елену, ...    9        9   \n",
       "3  29097  отличный средне вековый интеръер. Приятное обс...    8       10   \n",
       "4  23065  Ужинали в ресторане Баден-Баден 6 марта . Импо...   10        8   \n",
       "\n",
       "  service  \n",
       "0       8  \n",
       "1      10  \n",
       "2       1  \n",
       "3       9  \n",
       "4       8  "
      ]
     },
     "execution_count": 155,
     "metadata": {},
     "output_type": "execute_result"
    }
   ],
   "source": [
    "text_score.head()"
   ]
  },
  {
   "cell_type": "markdown",
   "metadata": {},
   "source": [
    "#### Лемматизируем, переводим оценки в int"
   ]
  },
  {
   "cell_type": "code",
   "execution_count": 158,
   "metadata": {
    "collapsed": true
   },
   "outputs": [],
   "source": [
    "text_score['review'] = text_score['review'].apply(lambda x: m.lemmatize(x))"
   ]
  },
  {
   "cell_type": "code",
   "execution_count": 159,
   "metadata": {
    "collapsed": true
   },
   "outputs": [],
   "source": [
    "text_score['food'] = text_score['food'].apply(lambda x: int(x))\n",
    "text_score['interior'] = text_score['interior'].apply(lambda x: int(x))\n",
    "text_score['service'] = text_score['service'].apply(lambda x: int(x))"
   ]
  },
  {
   "cell_type": "code",
   "execution_count": 164,
   "metadata": {
    "collapsed": true
   },
   "outputs": [],
   "source": [
    "text_score['review'] = text_score['review'].apply(lambda x: ''.join(x))"
   ]
  },
  {
   "cell_type": "markdown",
   "metadata": {},
   "source": [
    "#### Делим условно отзывы на позитивные и негативные по оценке за еду. Всё, что между 4 и 7, считаем нейтральными"
   ]
  },
  {
   "cell_type": "code",
   "execution_count": 163,
   "metadata": {
    "collapsed": true,
    "scrolled": false
   },
   "outputs": [],
   "source": [
    "pos = text_score.loc[text_score['food'] > 7]\n",
    "neg = text_score.loc[text_score['food'] < 4]"
   ]
  },
  {
   "cell_type": "markdown",
   "metadata": {},
   "source": [
    "#### Попытка рассчитать idf"
   ]
  },
  {
   "cell_type": "code",
   "execution_count": null,
   "metadata": {
    "collapsed": true
   },
   "outputs": [],
   "source": [
    "text = text_score['review'].tolist()"
   ]
  },
  {
   "cell_type": "code",
   "execution_count": 131,
   "metadata": {
    "collapsed": true
   },
   "outputs": [],
   "source": [
    "import math\n",
    "def compute_idf(word, corpus):\n",
    "        return math.log(len(corpus)/sum([1.0 for i in corpus if word in i]))"
   ]
  },
  {
   "cell_type": "code",
   "execution_count": 127,
   "metadata": {
    "collapsed": true
   },
   "outputs": [],
   "source": [
    "text = ''.join(text)"
   ]
  },
  {
   "cell_type": "code",
   "execution_count": 128,
   "metadata": {
    "collapsed": true
   },
   "outputs": [],
   "source": [
    "words = text.split()"
   ]
  },
  {
   "cell_type": "code",
   "execution_count": 133,
   "metadata": {
    "collapsed": true
   },
   "outputs": [],
   "source": [
    "dic = {}"
   ]
  },
  {
   "cell_type": "code",
   "execution_count": null,
   "metadata": {
    "scrolled": false
   },
   "outputs": [],
   "source": [
    "for i in words:\n",
    "    dic[i] = compute_idf(i, words)"
   ]
  },
  {
   "cell_type": "markdown",
   "metadata": {},
   "source": [
    "#### Сохраняем в csv нашу таблицу"
   ]
  },
  {
   "cell_type": "code",
   "execution_count": 165,
   "metadata": {
    "collapsed": true
   },
   "outputs": [],
   "source": [
    "text_score.to_csv('reviews_score.csv', sep=';',encoding='utf-8', header=True)"
   ]
  }
 ],
 "metadata": {
  "kernelspec": {
   "display_name": "Python 3",
   "language": "python",
   "name": "python3"
  },
  "language_info": {
   "codemirror_mode": {
    "name": "ipython",
    "version": 3
   },
   "file_extension": ".py",
   "mimetype": "text/x-python",
   "name": "python",
   "nbconvert_exporter": "python",
   "pygments_lexer": "ipython3",
   "version": "3.6.3"
  }
 },
 "nbformat": 4,
 "nbformat_minor": 2
}
