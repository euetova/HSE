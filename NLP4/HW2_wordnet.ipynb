{
 "cells": [
  {
   "cell_type": "code",
   "execution_count": 1,
   "metadata": {
    "collapsed": false
   },
   "outputs": [],
   "source": [
    "from nltk.corpus import wordnet"
   ]
  },
  {
   "cell_type": "markdown",
   "metadata": {},
   "source": [
    "<b>1) Найти все значения (синсеты) для лексемы glass<b>"
   ]
  },
  {
   "cell_type": "code",
   "execution_count": 19,
   "metadata": {
    "collapsed": false
   },
   "outputs": [
    {
     "name": "stdout",
     "output_type": "stream",
     "text": [
      "Synset('glass.n.01') a brittle transparent solid with irregular atomic structure\n",
      "Synset('glass.n.02') a container for holding liquids while drinking\n",
      "Synset('glass.n.03') the quantity a glass will hold\n",
      "Synset('field_glass.n.01') a small refracting telescope\n",
      "Synset('methamphetamine.n.01') an amphetamine derivative (trade name Methedrine) used in the form of a crystalline hydrochloride; used as a stimulant to the nervous system and as an appetite suppressant\n",
      "Synset('looking_glass.n.01') a mirror; usually a ladies' dressing mirror\n",
      "Synset('glass.n.07') glassware collectively\n",
      "Synset('glass.v.01') furnish with glass\n",
      "Synset('glass.v.02') scan (game in the forest) with binoculars\n",
      "Synset('glass.v.03') enclose with glass\n",
      "Synset('glass.v.04') put in a glass container\n",
      "Synset('glaze.v.02') become glassy or take on a glass-like appearance\n"
     ]
    }
   ],
   "source": [
    "glass = wordnet.synsets('glass')\n",
    "for ss in glass:\n",
    "    print(ss, ss.definition())"
   ]
  },
  {
   "cell_type": "markdown",
   "metadata": {},
   "source": [
    "<b>2) Найти определение для лексемы glass в значении (а) \"стекло\" и в значении (b) \"стакан\"</b>"
   ]
  },
  {
   "cell_type": "code",
   "execution_count": 20,
   "metadata": {
    "collapsed": false
   },
   "outputs": [
    {
     "name": "stdout",
     "output_type": "stream",
     "text": [
      "Synset('glass.n.01') a brittle transparent solid with irregular atomic structure\n",
      "Synset('glass.n.02') a container for holding liquids while drinking\n"
     ]
    }
   ],
   "source": [
    "print(glass[0], glass[0].definition())\n",
    "print(glass[1], glass[1].definition())"
   ]
  },
  {
   "cell_type": "markdown",
   "metadata": {},
   "source": [
    "<b>3) Найдите два произвольных контекста для слова glass в значениях (a) \"стекло\" и (b) \"стакан\"; продемонстрируйте на них действие алгоритма Леска для разрешения неоднозначности</b>"
   ]
  },
  {
   "cell_type": "code",
   "execution_count": 25,
   "metadata": {
    "collapsed": false
   },
   "outputs": [
    {
     "name": "stdout",
     "output_type": "stream",
     "text": [
      "['If', 'you', 'plan', 'to', 'install', 'the', 'painting', 'opposite', 'the', 'window', 'and', 'it', 'is', 'near', 'enough', 'the', 'matte', 'glass', 'is', 'better']\n",
      "['Now', 'a', 'glass', 'of', 'tea', 'and', 'a', 'slice', 'of', 'bread', 'a', 'given', 'for', 'a', 'breakfast']\n"
     ]
    }
   ],
   "source": [
    "sent1 = 'If you plan to install the painting opposite the window and it is near enough, the matte glass is better.'\n",
    "sent2 = 'Now a glass of tea and a slice of bread a given for a breakfast.'\n",
    "sent1_tokens = [word.strip('.,') for word in sent1.split(' ')]\n",
    "sent2_tokens = [word.strip('.,') for word in sent2.split(' ')]\n",
    "print(sent1_tokens)\n",
    "print(sent2_tokens)"
   ]
  },
  {
   "cell_type": "code",
   "execution_count": 26,
   "metadata": {
    "collapsed": false
   },
   "outputs": [
    {
     "name": "stdout",
     "output_type": "stream",
     "text": [
      "an amphetamine derivative (trade name Methedrine) used in the form of a crystalline hydrochloride; used as a stimulant to the nervous system and as an appetite suppressant\n",
      "an amphetamine derivative (trade name Methedrine) used in the form of a crystalline hydrochloride; used as a stimulant to the nervous system and as an appetite suppressant\n"
     ]
    }
   ],
   "source": [
    "from nltk.wsd import lesk\n",
    "print(lesk(sent1_tokens, 'glass').definition())\n",
    "print(lesk(sent2_tokens, 'glass').definition())"
   ]
  },
  {
   "cell_type": "markdown",
   "metadata": {},
   "source": [
    "Алгоритм Леска ошибся в обоих случаях, но хотя бы определил часть речи."
   ]
  },
  {
   "cell_type": "markdown",
   "metadata": {},
   "source": [
    "<b>4) Найдите гиперонимы для значения (a) и гиперонимы для значения (b)</b>"
   ]
  },
  {
   "cell_type": "code",
   "execution_count": 27,
   "metadata": {
    "collapsed": false
   },
   "outputs": [
    {
     "name": "stdout",
     "output_type": "stream",
     "text": [
      "Synset('solid.n.01') matter that is solid at room temperature and pressure\n",
      "Synset('container.n.01') any object that can be used to hold things (especially a large metal boxlike object of standardized dimensions that can be loaded from one form of transport to another)\n"
     ]
    }
   ],
   "source": [
    "for ss in glass[0].hypernyms():\n",
    "    print(ss, ss.definition())\n",
    "for ss in glass[1].hypernyms():\n",
    "    print(ss, ss.definition())"
   ]
  },
  {
   "cell_type": "markdown",
   "metadata": {},
   "source": [
    "<b>5) Вычислите наименьшее расстояние между значением glass \"стекло\" и значениями лексемы material, а также glass \"стакан\" и значениями лексемы dishes.\n",
    "Найти min (d(glass: \"стекло\", material), d(glass: \"стекло\", dishes)), а также min (d(glass: \"стакан\", material), d(glass: \"стакан\", dishes))</b>"
   ]
  },
  {
   "cell_type": "code",
   "execution_count": 29,
   "metadata": {
    "collapsed": false
   },
   "outputs": [
    {
     "name": "stdout",
     "output_type": "stream",
     "text": [
      "min d(glass: \"стекло\", material): 4\n",
      "closest lemma definition: the tangible substance that goes into the makeup of a physical object\n",
      "\n",
      "min d(glass: \"стекло\", dishes): 6\n",
      "closest lemma definition: a particular item of prepared food\n",
      "\n",
      "min d(glass: \"стакан\", material): 4\n",
      "closest lemma definition: artifact made by weaving or felting or knitting or crocheting natural or synthetic fibers\n",
      "\n",
      "min d(glass: \"стакан\", dishes): 2\n",
      "closest lemma definition: a piece of dishware normally used as a container for holding or serving food\n",
      "\n",
      "min (d(glass: \"стекло\", material), d(glass: \"стекло\", dishes)): 4\n",
      "min (d(glass: \"стакан\", material), d(glass: \"стакан\", dishes)): 2\n"
     ]
    }
   ],
   "source": [
    "material = wordnet.synsets('material')\n",
    "dishes = wordnet.synsets('dishes')\n",
    "\n",
    "def get_dist_sim(ss1, lexeme):\n",
    "    distances = []\n",
    "    similarities = []\n",
    "    for ss2 in lexeme:\n",
    "        dist = ss1.shortest_path_distance(ss2)\n",
    "        if dist is not None:\n",
    "            distances.append(dist)\n",
    "            sim = ss1.path_similarity(ss2)\n",
    "            similarities.append(sim)\n",
    "    return distances, similarities\n",
    "\n",
    "# min d(glass: \"стекло\", material)\n",
    "dist1 = get_dist_sim(glass[0], material)[0]\n",
    "print('min d(glass: \"стекло\", material): {}'.format(min(dist1)))\n",
    "print('closest lemma definition: {}\\n'.format(material[dist1.index(min(dist1))].definition()))\n",
    "# Правда, здесь выводится только одно ближайшее значение. Их может быть несколько.\n",
    "\n",
    "# min d(glass: \"стекло\", dishes)\n",
    "dist2 = get_dist_sim(glass[0], dishes)[0]\n",
    "print('min d(glass: \"стекло\", dishes): {}'.format(min(dist2)))\n",
    "print('closest lemma definition: {}\\n'.format(dishes[dist2.index(min(dist2))].definition()))\n",
    "\n",
    "# min d(glass: \"стакан\", material)\n",
    "dist3 = get_dist_sim(glass[1], material)[0]\n",
    "print('min d(glass: \"стакан\", material): {}'.format(min(dist3)))\n",
    "print('closest lemma definition: {}\\n'.format(material[dist3.index(min(dist3))].definition()))\n",
    "\n",
    "# min d(glass: \"стакан\", dishes)\n",
    "dist4 = get_dist_sim(glass[1], dishes)[0]\n",
    "print('min d(glass: \"стакан\", dishes): {}'.format(min(dist4)))\n",
    "print('closest lemma definition: {}\\n'.format(dishes[dist4.index(min(dist4))].definition()))\n",
    "\n",
    "print('min (d(glass: \"стекло\", material), d(glass: \"стекло\", dishes)): {}'.format(min(min(dist1), min(dist2))))\n",
    "print('min (d(glass: \"стакан\", material), d(glass: \"стакан\", dishes)): {}'.format(min(min(dist3), min(dist4))))"
   ]
  },
  {
   "cell_type": "markdown",
   "metadata": {},
   "source": [
    "Кратчайшее расстояние от стекла до material - 4, до dishes - 6.\n",
    "Кратчайшее расстояние от стакана до material - 4, до dishes - 2. Выглядит хорошо."
   ]
  },
  {
   "cell_type": "markdown",
   "metadata": {},
   "source": [
    "<b>6) Вычислить двумя разными способами расстояние:\n",
    "d(glass: \"стакан\", cup) и d(organism, whole)\n",
    "Есть ли разница в расстояниях? Какое из расстояний, по Вашему мнению, в лучшей степени отражает интуитивное представление о семантчиеской близости слов?</b>"
   ]
  },
  {
   "cell_type": "code",
   "execution_count": 32,
   "metadata": {
    "collapsed": false
   },
   "outputs": [
    {
     "name": "stdout",
     "output_type": "stream",
     "text": [
      "Synset('cup.n.01') a small open container usually used for drinking; usually has a handle\n",
      "Synset('cup.n.02') the quantity a cup will hold\n",
      "Synset('cup.n.03') any cup-shaped concavity\n",
      "Synset('cup.n.04') a United States liquid unit equal to 8 fluid ounces\n",
      "Synset('cup.n.05') cup-shaped plant organ\n",
      "Synset('cup.n.06') a punch served in a pitcher instead of a punch bowl\n",
      "Synset('cup.n.07') the hole (or metal container in the hole) on a golf green\n",
      "Synset('cup.n.08') a large metal vessel with two handles that is awarded as a trophy to the winner of a competition\n",
      "Synset('cup.v.01') form into the shape of a cup\n",
      "Synset('cup.v.02') put into a cup\n",
      "Synset('cup.v.03') treat by applying evacuated cups to the patient's skin\n"
     ]
    }
   ],
   "source": [
    "cup = wordnet.synsets(\"cup\")\n",
    "for ss in cup:\n",
    "    print(ss, ss.definition())"
   ]
  },
  {
   "cell_type": "markdown",
   "metadata": {},
   "source": [
    "Посчитаем близость с помощью критериев Path Similarity, Leacock-Chodorow Similarity, Wu-Palmer Similarity, Resnik Similarity, Jiang-Conrath Similarity и Lin Similarity. Для последних трех будем использовать Information Content корпуса Brown."
   ]
  },
  {
   "cell_type": "code",
   "execution_count": 34,
   "metadata": {
    "collapsed": false
   },
   "outputs": [
    {
     "name": "stdout",
     "output_type": "stream",
     "text": [
      "0.3333333333333333\n",
      "2.538973871058276\n",
      "0.875\n",
      "5.205612601196791\n",
      "0.10673543596263503\n",
      "0.5263462017356473\n"
     ]
    }
   ],
   "source": [
    "from nltk.corpus import wordnet_ic\n",
    "ic = wordnet_ic.ic('ic-brown.dat')\n",
    "\n",
    "print(glass[1].path_similarity(cup[0]))\n",
    "\n",
    "#Leacock-Chodorow Similarity\n",
    "print(glass[1].lch_similarity(cup[0]))\n",
    "\n",
    "#Wu-Palmer Similarity\n",
    "print(glass[1].wup_similarity(cup[0]))\n",
    "    \n",
    "#Resnik Similarity\n",
    "print(glass[1].res_similarity(cup[0], ic))\n",
    "    \n",
    "#Jiang-Conrath Similarity\n",
    "print(glass[1].jcn_similarity(cup[0], ic))\n",
    "    \n",
    "#Lin Similarity\n",
    "print(glass[1].lin_similarity(cup[0], ic))\n"
   ]
  },
  {
   "cell_type": "code",
   "execution_count": 35,
   "metadata": {
    "collapsed": false
   },
   "outputs": [
    {
     "name": "stdout",
     "output_type": "stream",
     "text": [
      "Synset('organism.n.01') a living thing that has (or can develop) the ability to act or function independently\n",
      "Synset('organism.n.01') []\n",
      "Synset('organism.n.02') a system considered analogous in structure or function to a living body\n",
      "Synset('organism.n.02') ['the social organism']\n"
     ]
    }
   ],
   "source": [
    "organism = wordnet.synsets('organism')\n",
    "for ss in organism:\n",
    "    print(ss, ss.definition())\n",
    "    print(ss, ss.examples())"
   ]
  },
  {
   "cell_type": "code",
   "execution_count": 36,
   "metadata": {
    "collapsed": false
   },
   "outputs": [
    {
     "name": "stdout",
     "output_type": "stream",
     "text": [
      "Synset('whole.n.01') all of something including all its component elements or parts\n",
      "Synset('whole.n.01') ['Europe considered as a whole', 'the whole of American literature']\n",
      "Synset('whole.n.02') an assemblage of parts that is regarded as a single entity\n",
      "Synset('whole.n.02') ['how big is that part compared to the whole?', 'the team is a unit']\n"
     ]
    }
   ],
   "source": [
    "whole = wordnet.synsets('whole', 'n')\n",
    "for ss in whole:\n",
    "    print(ss, ss.definition())\n",
    "    print(ss, ss.examples())"
   ]
  },
  {
   "cell_type": "code",
   "execution_count": 37,
   "metadata": {
    "collapsed": false
   },
   "outputs": [
    {
     "name": "stdout",
     "output_type": "stream",
     "text": [
      "a living thing that has (or can develop) the ability to act or function independently\n",
      "all of something including all its component elements or parts\n",
      "0.07692307692307693\n",
      "1.072636802264849\n",
      "0.14285714285714285\n",
      "-0.0\n",
      "0.11927453545173074\n",
      "-0.0\n",
      "an assemblage of parts that is regarded as a single entity\n",
      "0.3333333333333333\n",
      "2.538973871058276\n",
      "0.8\n",
      "1.5318337432196856\n",
      "1.4444255924181877\n",
      "0.8156763478002892\n",
      "a system considered analogous in structure or function to a living body\n",
      "all of something including all its component elements or parts\n",
      "0.1\n",
      "1.3350010667323402\n",
      "0.3076923076923077\n",
      "0.5962292078977726\n",
      "0.05928363701403374\n",
      "0.0660256991738309\n",
      "an assemblage of parts that is regarded as a single entity\n",
      "0.125\n",
      "1.55814461804655\n",
      "0.2222222222222222\n",
      "-0.0\n",
      "0.07444639262208605\n",
      "-0.0\n"
     ]
    }
   ],
   "source": [
    "for ss1 in organism:\n",
    "    print(ss1.definition())\n",
    "    for ss2 in whole:\n",
    "        print(ss2.definition())\n",
    "        print(ss1.path_similarity(ss2))\n",
    "\n",
    "        #Leacock-Chodorow Similarity\n",
    "        print(ss1.lch_similarity(ss2))\n",
    "\n",
    "        #Wu-Palmer Similarity\n",
    "        print(ss1.wup_similarity(ss2))\n",
    "\n",
    "        #Resnik Similarity\n",
    "        print(ss1.res_similarity(ss2, ic))\n",
    "\n",
    "        #Jiang-Conrath Similarity\n",
    "        print(ss1.jcn_similarity(ss2, ic))\n",
    "\n",
    "        #Lin Similarity\n",
    "        print(ss1.lin_similarity(ss2, ic))"
   ]
  },
  {
   "cell_type": "markdown",
   "metadata": {},
   "source": [
    "<style type=\"text/css\">\n",
    "\ttable.tableizer-table {\n",
    "\t\tfont-size: 12px;\n",
    "\t\tborder: 1px solid #CCC; \n",
    "\t\tfont-family: Arial, Helvetica, sans-serif;\n",
    "\t} \n",
    "\t.tableizer-table td {\n",
    "\t\tpadding: 4px;\n",
    "\t\tmargin: 3px;\n",
    "\t\tborder: 1px solid #CCC;\n",
    "\t}\n",
    "\t.tableizer-table th {\n",
    "\t\tbackground-color: #104E8B; \n",
    "\t\tcolor: #FFF;\n",
    "\t\tfont-weight: bold;\n",
    "\t}\n",
    "</style>\n",
    "<table class=\"tableizer-table\">\n",
    "<thead><tr class=\"tableizer-firstrow\"><th>Similarity Index</th><th>стакан/cup</th><th>a living thing / all of something</th><th>a living thing / an assemblage</th><th>a system / all of something</th><th>a system / an assemblage</th></tr></thead><tbody>\n",
    " <tr><td>Path Similarity</td><td>0.3333333333</td><td>0.07692307692</td><td>0.3333333333</td><td>0.1</td><td>0.125</td></tr>\n",
    " <tr><td>Leacock-Chodorow Similarity</td><td>2.538973871058276</td><td>1.072636802</td><td>2.538973871</td><td>1.335001067</td><td>1.558144618</td></tr>\n",
    " <tr><td>Wu-Palmer Similarity</td><td>0.875</td><td>0.1428571429</td><td>0.8</td><td>0.3076923077</td><td>0.2222222222</td></tr>\n",
    " <tr><td>Resnik Similarity</td><td>5.205612601196791</td><td>0</td><td>1.531833743</td><td>0.5962292079</td><td>0</td></tr>\n",
    " <tr><td>Jiang-Conrath Similarity</td><td>0.10673543596263503</td><td>0.1192745355</td><td>1.444425592</td><td>0.05928363701</td><td>0.07444639262</td></tr>\n",
    " <tr><td>Lin Similarity</td><td>0.5263462017356473</td><td>0</td><td>0.8156763478</td><td>0.06602569917</td><td>0</td></tr>\n",
    "</tbody></table>"
   ]
  },
  {
   "cell_type": "markdown",
   "metadata": {},
   "source": [
    "Интуитивно кажется, что стакан/cup должен обладать наиболее высокими показателями, чем другие пары. А на втором месте за ним должен идти a living thing / an assemblage.\n",
    "\n",
    "Значения первых трех индексов для стакан/cup и a living thing / an assemblage одинаковы. Значение Resnik Similarity для стакан/cup намного больше, чем у других пар, в том числе и a living thing / an assemblage. А значения последних двух индексов, наоборот, для стакан/cup меньше, чем для a living thing / an assemblage, и мне кажется, это странно.\n",
    "\n",
    "Получается, первые 4 метрики лучше отражают интуитивное представление о близости понятий."
   ]
  },
  {
   "cell_type": "code",
   "execution_count": null,
   "metadata": {
    "collapsed": true
   },
   "outputs": [],
   "source": []
  }
 ],
 "metadata": {
  "kernelspec": {
   "display_name": "Python 3",
   "language": "python",
   "name": "python3"
  },
  "language_info": {
   "codemirror_mode": {
    "name": "ipython",
    "version": 3
   },
   "file_extension": ".py",
   "mimetype": "text/x-python",
   "name": "python",
   "nbconvert_exporter": "python",
   "pygments_lexer": "ipython3",
   "version": "3.5.3"
  }
 },
 "nbformat": 4,
 "nbformat_minor": 0
}
