{
 "cells": [
  {
   "cell_type": "code",
   "execution_count": 19,
   "metadata": {
    "collapsed": false
   },
   "outputs": [],
   "source": [
    "from nltk.corpus import wordnet"
   ]
  },
  {
   "cell_type": "markdown",
   "metadata": {},
   "source": [
    "<b>1) Найти все значения (синсеты) для лексемы bass<b>"
   ]
  },
  {
   "cell_type": "code",
   "execution_count": 10,
   "metadata": {
    "collapsed": false
   },
   "outputs": [
    {
     "name": "stdout",
     "output_type": "stream",
     "text": [
      "Synset('bass.n.01') the lowest part of the musical range\n",
      "Synset('bass.n.02') the lowest part in polyphonic music\n",
      "Synset('bass.n.03') an adult male singer with the lowest voice\n",
      "Synset('sea_bass.n.01') the lean flesh of a saltwater fish of the family Serranidae\n",
      "Synset('freshwater_bass.n.01') any of various North American freshwater fish with lean flesh (especially of the genus Micropterus)\n",
      "Synset('bass.n.06') the lowest adult male singing voice\n",
      "Synset('bass.n.07') the member with the lowest range of a family of musical instruments\n",
      "Synset('bass.n.08') nontechnical name for any of numerous edible marine and freshwater spiny-finned fishes\n",
      "Synset('bass.s.01') having or denoting a low vocal or instrumental range\n"
     ]
    }
   ],
   "source": [
    "bass = wordnet.synsets('bass')\n",
    "for ss in bass:\n",
    "    print(ss, ss.definition())"
   ]
  },
  {
   "cell_type": "markdown",
   "metadata": {},
   "source": [
    "<b>2) найти гиперонимы для значения лексемы bass - fish</b>"
   ]
  },
  {
   "cell_type": "code",
   "execution_count": 11,
   "metadata": {
    "collapsed": false
   },
   "outputs": [
    {
     "name": "stdout",
     "output_type": "stream",
     "text": [
      "Synset('percoid_fish.n.01') any of numerous spiny-finned fishes of the order Perciformes\n"
     ]
    }
   ],
   "source": [
    "for ss in bass[7].hypernyms():\n",
    "    print(ss, ss.definition())"
   ]
  },
  {
   "cell_type": "markdown",
   "metadata": {},
   "source": [
    "<b>3) вычислите одним из сопобов расстояние: (bass, fish), (fish, vertebrate (позвоночное))</b>"
   ]
  },
  {
   "cell_type": "code",
   "execution_count": 15,
   "metadata": {
    "collapsed": true
   },
   "outputs": [],
   "source": [
    "vert = wordnet.synsets('vertebrate', 'n')\n",
    "fish = wordnet.synsets('fish', 'n')\n",
    "bass = wordnet.synsets('bass', 'n')"
   ]
  },
  {
   "cell_type": "code",
   "execution_count": 17,
   "metadata": {
    "collapsed": false
   },
   "outputs": [
    {
     "name": "stdout",
     "output_type": "stream",
     "text": [
      "the lowest part of the musical range\n",
      "any of various mostly cold-blooded aquatic vertebrates usually having scales and breathing through gills\n",
      "0.058823529411764705\n",
      "0.8043728156701697\n",
      "the flesh of fish used as food\n",
      "0.08333333333333333\n",
      "1.1526795099383855\n",
      "(astrology) a person who is born while the sun is in Pisces\n",
      "0.09090909090909091\n",
      "1.2396908869280152\n",
      "the twelfth sign of the zodiac; the sun is in this sign from about February 19 to March 20\n",
      "0.07692307692307693\n",
      "1.072636802264849\n",
      "the lowest part in polyphonic music\n",
      "any of various mostly cold-blooded aquatic vertebrates usually having scales and breathing through gills\n",
      "0.05555555555555555\n",
      "0.7472144018302211\n",
      "the flesh of fish used as food\n",
      "0.07692307692307693\n",
      "1.072636802264849\n",
      "(astrology) a person who is born while the sun is in Pisces\n",
      "0.08333333333333333\n",
      "1.1526795099383855\n",
      "the twelfth sign of the zodiac; the sun is in this sign from about February 19 to March 20\n",
      "0.07142857142857142\n",
      "0.9985288301111273\n",
      "an adult male singer with the lowest voice\n",
      "any of various mostly cold-blooded aquatic vertebrates usually having scales and breathing through gills\n",
      "0.08333333333333333\n",
      "1.1526795099383855\n",
      "the flesh of fish used as food\n",
      "0.08333333333333333\n",
      "1.1526795099383855\n",
      "(astrology) a person who is born while the sun is in Pisces\n",
      "0.14285714285714285\n",
      "1.6916760106710724\n",
      "the twelfth sign of the zodiac; the sun is in this sign from about February 19 to March 20\n",
      "0.07692307692307693\n",
      "1.072636802264849\n",
      "the lean flesh of a saltwater fish of the family Serranidae\n",
      "any of various mostly cold-blooded aquatic vertebrates usually having scales and breathing through gills\n",
      "0.0625\n",
      "0.8649974374866046\n",
      "the flesh of fish used as food\n",
      "0.2\n",
      "2.0281482472922856\n",
      "(astrology) a person who is born while the sun is in Pisces\n",
      "0.1\n",
      "1.3350010667323402\n",
      "the twelfth sign of the zodiac; the sun is in this sign from about February 19 to March 20\n",
      "0.08333333333333333\n",
      "1.1526795099383855\n",
      "any of various North American freshwater fish with lean flesh (especially of the genus Micropterus)\n",
      "any of various mostly cold-blooded aquatic vertebrates usually having scales and breathing through gills\n",
      "0.0625\n",
      "0.8649974374866046\n",
      "the flesh of fish used as food\n",
      "0.2\n",
      "2.0281482472922856\n",
      "(astrology) a person who is born while the sun is in Pisces\n",
      "0.1\n",
      "1.3350010667323402\n",
      "the twelfth sign of the zodiac; the sun is in this sign from about February 19 to March 20\n",
      "0.08333333333333333\n",
      "1.1526795099383855\n",
      "the lowest adult male singing voice\n",
      "any of various mostly cold-blooded aquatic vertebrates usually having scales and breathing through gills\n",
      "0.0625\n",
      "0.8649974374866046\n",
      "the flesh of fish used as food\n",
      "0.09090909090909091\n",
      "1.2396908869280152\n",
      "(astrology) a person who is born while the sun is in Pisces\n",
      "0.1\n",
      "1.3350010667323402\n",
      "the twelfth sign of the zodiac; the sun is in this sign from about February 19 to March 20\n",
      "0.08333333333333333\n",
      "1.1526795099383855\n",
      "the member with the lowest range of a family of musical instruments\n",
      "any of various mostly cold-blooded aquatic vertebrates usually having scales and breathing through gills\n",
      "0.07692307692307693\n",
      "1.072636802264849\n",
      "the flesh of fish used as food\n",
      "0.08333333333333333\n",
      "1.1526795099383855\n",
      "(astrology) a person who is born while the sun is in Pisces\n",
      "0.1\n",
      "1.3350010667323402\n",
      "the twelfth sign of the zodiac; the sun is in this sign from about February 19 to March 20\n",
      "0.09090909090909091\n",
      "1.2396908869280152\n",
      "nontechnical name for any of numerous edible marine and freshwater spiny-finned fishes\n",
      "any of various mostly cold-blooded aquatic vertebrates usually having scales and breathing through gills\n",
      "0.16666666666666666\n",
      "1.845826690498331\n",
      "the flesh of fish used as food\n",
      "0.05263157894736842\n",
      "0.6931471805599453\n",
      "(astrology) a person who is born while the sun is in Pisces\n",
      "0.07692307692307693\n",
      "1.072636802264849\n",
      "the twelfth sign of the zodiac; the sun is in this sign from about February 19 to March 20\n",
      "0.05555555555555555\n",
      "0.7472144018302211\n"
     ]
    }
   ],
   "source": [
    "for ss1 in bass:\n",
    "    print(ss1.definition())\n",
    "    for ss2 in fish:\n",
    "        print(ss2.definition())\n",
    "        print(ss1.path_similarity(ss2))\n",
    "\n",
    "        #Leacock-Chodorow Similarity\n",
    "        print(ss1.lch_similarity(ss2))\n"
   ]
  },
  {
   "cell_type": "code",
   "execution_count": 18,
   "metadata": {
    "collapsed": false
   },
   "outputs": [
    {
     "name": "stdout",
     "output_type": "stream",
     "text": [
      "any of various mostly cold-blooded aquatic vertebrates usually having scales and breathing through gills\n",
      "animals having a bony or cartilaginous skeleton with a segmented spinal column and a large brain enclosed in a skull or cranium\n",
      "0.3333333333333333\n",
      "2.538973871058276\n",
      "the flesh of fish used as food\n",
      "animals having a bony or cartilaginous skeleton with a segmented spinal column and a large brain enclosed in a skull or cranium\n",
      "0.08333333333333333\n",
      "1.1526795099383855\n",
      "(astrology) a person who is born while the sun is in Pisces\n",
      "animals having a bony or cartilaginous skeleton with a segmented spinal column and a large brain enclosed in a skull or cranium\n",
      "0.16666666666666666\n",
      "1.845826690498331\n",
      "the twelfth sign of the zodiac; the sun is in this sign from about February 19 to March 20\n",
      "animals having a bony or cartilaginous skeleton with a segmented spinal column and a large brain enclosed in a skull or cranium\n",
      "0.09090909090909091\n",
      "1.2396908869280152\n"
     ]
    }
   ],
   "source": [
    "for ss1 in fish:\n",
    "    print(ss1.definition())\n",
    "    for ss2 in vert:\n",
    "        print(ss2.definition())\n",
    "        print(ss1.path_similarity(ss2))\n",
    "\n",
    "        #Leacock-Chodorow Similarity\n",
    "        print(ss1.lch_similarity(ss2))"
   ]
  },
  {
   "cell_type": "markdown",
   "metadata": {},
   "source": [
    "Расстояния для bass-fish наибольшее для значений \"the lean flesh of a saltwater fish of the family Serranidae\" и \"\"the flesh of fish used as food\", соответственно. Для fish-vertebrate - \"any of various mostly cold-blooded aquatic vertebrates usually having scales and breathing through gills\", \"animals having a bony or cartilaginous skeleton with a segmented spinal column and a large brain enclosed in a skull or cranium\". Я с этим согласна."
   ]
  },
  {
   "cell_type": "code",
   "execution_count": null,
   "metadata": {
    "collapsed": true
   },
   "outputs": [],
   "source": []
  }
 ],
 "metadata": {
  "kernelspec": {
   "display_name": "Python 3",
   "language": "python",
   "name": "python3"
  },
  "language_info": {
   "codemirror_mode": {
    "name": "ipython",
    "version": 3
   },
   "file_extension": ".py",
   "mimetype": "text/x-python",
   "name": "python",
   "nbconvert_exporter": "python",
   "pygments_lexer": "ipython3",
   "version": "3.5.3"
  }
 },
 "nbformat": 4,
 "nbformat_minor": 0
}
