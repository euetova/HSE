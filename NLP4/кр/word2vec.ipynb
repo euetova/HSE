{
 "cells": [
  {
   "cell_type": "code",
   "execution_count": 12,
   "metadata": {
    "collapsed": false
   },
   "outputs": [
    {
     "name": "stderr",
     "output_type": "stream",
     "text": [
      "2018-03-28 14:15:47,480 : INFO : loading Word2Vec object from my.model\n",
      "2018-03-28 14:15:47,532 : INFO : loading wv recursively from my.model.wv.* with mmap=None\n",
      "2018-03-28 14:15:47,533 : INFO : setting ignored attribute syn0norm to None\n",
      "2018-03-28 14:15:47,534 : INFO : setting ignored attribute cum_table to None\n",
      "2018-03-28 14:15:47,534 : INFO : loaded my.model\n"
     ]
    }
   ],
   "source": [
    "import gensim\n",
    "\n",
    "m = 'my.model'\n",
    "if m.endswith('.vec.gz'):\n",
    "    model = gensim.models.Word2Vec.load_word2vec_format(m, binary=False)\n",
    "elif m.endswith('.bin'):\n",
    "    model = gensim.models.KeyedVectors.load_word2vec_format(m, binary=True)\n",
    "else:\n",
    "    model = gensim.models.Word2Vec.load(m)"
   ]
  },
  {
   "cell_type": "markdown",
   "metadata": {},
   "source": [
    "### лишнее слово"
   ]
  },
  {
   "cell_type": "code",
   "execution_count": 15,
   "metadata": {
    "collapsed": false
   },
   "outputs": [
    {
     "name": "stdout",
     "output_type": "stream",
     "text": [
      "сервис\n"
     ]
    }
   ],
   "source": [
    "print(model.doesnt_match('официант обслуживание сервис блюдо'.split()))"
   ]
  },
  {
   "cell_type": "code",
   "execution_count": 28,
   "metadata": {
    "collapsed": false
   },
   "outputs": [],
   "source": [
    "f = open('stopwords.txt')\n",
    "stopwords = f.read()\n",
    "stopwords = stopwords.split('\\n')"
   ]
  },
  {
   "cell_type": "markdown",
   "metadata": {},
   "source": [
    "### топ похожий слов"
   ]
  },
  {
   "cell_type": "code",
   "execution_count": 31,
   "metadata": {
    "collapsed": false
   },
   "outputs": [
    {
     "name": "stdout",
     "output_type": "stream",
     "text": [
      "('блюдо', 0.9999698400497437)\n",
      "('ресторан', 0.9999690055847168)\n",
      "('зал', 0.9999676942825317)\n",
      "('меню', 0.9999673366546631)\n",
      "('официант', 0.9999667406082153)\n",
      "('приносить', 0.999964714050293)\n",
      "('кухня', 0.9999641180038452)\n",
      "('салат', 0.999963641166687)\n",
      "('заведение', 0.9999632835388184)\n",
      "('интерьер', 0.9999626874923706)\n",
      "('понравиться', 0.9999610781669617)\n",
      "('официантка', 0.9999573230743408)\n",
      "('заказывать', 0.9999561309814453)\n",
      "('мясо', 0.9999555945396423)\n",
      "('обслуживание', 0.9999550580978394)\n",
      "('гость', 0.9999524354934692)\n",
      "('приятный', 0.9999509453773499)\n",
      "('хотеться', 0.9999507665634155)\n",
      "('девушка', 0.9999499917030334)\n",
      "('оставаться', 0.9999498128890991)\n",
      "('пиво', 0.9999477863311768)\n",
      "('чай', 0.999947190284729)\n",
      "('оказываться', 0.9999451041221619)\n"
     ]
    }
   ],
   "source": [
    "similar = model.most_similar(positive=['вкусный'], topn=100)\n",
    "for s in similar:\n",
    "    if s[0] not in stopwords:\n",
    "        print(s)"
   ]
  },
  {
   "cell_type": "markdown",
   "metadata": {},
   "source": [
    "### топ похожих слов к слову *вкусный* по русскому ворд-нету или по РуТез\n",
    "\n",
    "По ворднету: <br>\n",
    "+ слова из того же синсета: ЛАКОМЫЙ, ПРИЯТНЫЙ НА ВКУС\n",
    "+ гиперонимы: ПРИЯТНЫЙ, ГОДНЫЙ В ПИЩУСЪЕДОБНЫЙ\n",
    "+ гипоним: АРОМАТНЫЙ, АРОМАТНЫЙ НА ВКУС"
   ]
  },
  {
   "cell_type": "markdown",
   "metadata": {},
   "source": [
    "### пропорция"
   ]
  },
  {
   "cell_type": "code",
   "execution_count": 47,
   "metadata": {
    "collapsed": false
   },
   "outputs": [
    {
     "data": {
      "text/plain": [
       "[('приятный', 0.9988096952438354),\n",
       " ('весь', 0.9988093972206116),\n",
       " ('кухня', 0.9988031983375549),\n",
       " ('по', 0.998802900314331),\n",
       " ('она', 0.9988023042678833),\n",
       " ('вкусный', 0.9988013505935669),\n",
       " ('а', 0.9988005757331848),\n",
       " ('мы', 0.9987999200820923),\n",
       " ('все', 0.998799204826355),\n",
       " ('много', 0.9987983703613281)]"
      ]
     },
     "execution_count": 47,
     "metadata": {},
     "output_type": "execute_result"
    }
   ],
   "source": [
    "model.most_similar(positive=['обслуживание', 'быстрый'], negative=['ролл'])"
   ]
  },
  {
   "cell_type": "code",
   "execution_count": null,
   "metadata": {
    "collapsed": true
   },
   "outputs": [],
   "source": []
  },
  {
   "cell_type": "markdown",
   "metadata": {},
   "source": [
    " Для лексемы \"конструкция\" выберите 2 контекста со значением политическая партия и 2 контекста со значением партия товара длиной 8-12 слов. Из каждого контекста выберите значимые леммы. Вычислите коэффициент Дайса для попарной близости контекстов (для 3-х пар). Упорядочите контексты по близости. В ответе приведите подсчеты, а также получившийся порядок. Можно сделать вручную. Нужно учитывать только наличие слов в контексте"
   ]
  },
  {
   "cell_type": "markdown",
   "metadata": {},
   "source": [
    "значимые лексемы выделенны жирным"
   ]
  },
  {
   "cell_type": "markdown",
   "metadata": {},
   "source": [
    "конструкция в языке: <br>\n",
    "1 В **русском** есть **аналогичные конструкции, помещающие говорящего** в **некоторую социальную иерархию**, вроде \"их **высокородие соизволили завтракать**\".  16w - без стоп-слов 11w <br>\n",
    "2 **Имеется** в **виду слово** не как **фонетическая конструкция, принадлежность** того или иного **языка**, а **Слово** в **первоначальном, библейском, смысле**.  19w - 10w (одно \"слово\")\n",
    "\n",
    "строительная конструкция: <br>\n",
    "3 **Конструкция** очень **проста ― верхнюю часть выколачиваем** уже **известным** нам **способом** по **шаблону, нижнюю сворачиваем** из **листового металла**.  17w - 12w <br>\n",
    "4 Потом эта **конструкция обкладывается выпускаемыми** нашим **заводом керамзитобетонными блоками, утепляется пенополистиролом** и **облицовывается**. 13w - 9w"
   ]
  },
  {
   "cell_type": "code",
   "execution_count": 70,
   "metadata": {
    "collapsed": false
   },
   "outputs": [],
   "source": [
    "dice_coef = {}\n",
    "\n",
    "# близость 1 и 2 контекста \n",
    "\n",
    "# повторяющиеся леммы (без стоп-слов): конструкция \n",
    "\n",
    "dice_coef ['12'] = 2*1/(11+10)\n",
    "\n",
    "# близость 2 и 3 контекста \n",
    "\n",
    "# повторяющиеся леммы (без стоп-слов): конструкция \n",
    "\n",
    "dice_coef ['23'] = 2*1/(10+12)\n",
    "\n",
    "# близость 3 и 4 контекста \n",
    "\n",
    "# повторяющиеся леммы (без стоп-слов): конструкция \n",
    "\n",
    "dice_coef ['34'] = 2*1/(12+9)"
   ]
  },
  {
   "cell_type": "code",
   "execution_count": 71,
   "metadata": {
    "collapsed": false
   },
   "outputs": [
    {
     "data": {
      "text/plain": [
       "{'12': 0.09523809523809523,\n",
       " '23': 0.09090909090909091,\n",
       " '34': 0.09523809523809523}"
      ]
     },
     "execution_count": 71,
     "metadata": {},
     "output_type": "execute_result"
    }
   ],
   "source": [
    "dice_coef"
   ]
  },
  {
   "cell_type": "code",
   "execution_count": null,
   "metadata": {
    "collapsed": true
   },
   "outputs": [],
   "source": []
  }
 ],
 "metadata": {
  "kernelspec": {
   "display_name": "Python 3",
   "language": "python",
   "name": "python3"
  },
  "language_info": {
   "codemirror_mode": {
    "name": "ipython",
    "version": 3
   },
   "file_extension": ".py",
   "mimetype": "text/x-python",
   "name": "python",
   "nbconvert_exporter": "python",
   "pygments_lexer": "ipython3",
   "version": "3.5.3"
  }
 },
 "nbformat": 4,
 "nbformat_minor": 2
}
