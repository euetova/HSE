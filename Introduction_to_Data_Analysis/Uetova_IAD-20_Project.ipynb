{
 "cells": [
  {
   "cell_type": "markdown",
   "metadata": {},
   "source": [
    "##### Текущий список вопросов к проектному заданию.\n",
    "Полные данные и подробное описание задачи можно найти здесь\n",
    "###### Признаки какого вида встречаются в данных?\n",
    "Открыть данные с помощью pandas и посмотреть на первые несколько строк таблицы.\n",
    "###### Найти самые популярные и редкие слова в тексте (здесь и далее речь идет о поле FullDescription). Объяснить почему именно эти слова встречаются так часто или так редко.\n",
    "Прочитать про класс sklearn.feature_extraction.text.CountVectorizer, его методы fit и transform. Понять как кодирующей матрице получить частоты слов.\n",
    "###### Построить распределение целевой переменной. Посчитать её среднее значение, медиану, дисперсию. Как выглядят объявления, в которых предлагается очень маленькая и очень большая зарплата? При выполнении задания полезным может оказаться метод pandas.DataFrame.quantile.\n",
    "Освежить в памяти занятия по pandas. Плотность можно построить с помощью метода pandas.DataFrame.hist, остальные функции не составит труда найти.\n",
    "###### Предлагаемый авторами задания критерий качества - среднее абсолютное отклонение предсказания. Вычислить значение ошибки предсказания, если в качестве предсказания будет использоваться среднее значение зарплаты.\n",
    "Подумайте, может ли какое-то другое число давать меньшее значение ошибки?\n",
    "###### Найти слова, которые часто встречаются рядом: пары, тройки. Можно ли как-то объяснить их соседство?\n",
    "Продолжить знакомство с классом sklearn.feature_extraction.text.CountVectorizer, обратить внимание на параметр ngram_range.\n",
    "###### Для нескольких слов постройте распределение числа их вхождений в текст. Каким известным распределением можно описать получившуюся зависимость?\n",
    "Некоторые слова встречаются в текстах редко. Можно попробовать строить распределение на основе только тех текстов, в которых встречается данное слово. Здесь может помочь функция numpy.nonzero()."
   ]
  },
  {
   "cell_type": "code",
   "execution_count": 1,
   "metadata": {
    "collapsed": true
   },
   "outputs": [],
   "source": [
    "import numpy as np\n",
    "import pandas as pd\n",
    "import matplotlib.pylab as plt\n",
    "import random\n",
    "from sklearn.feature_extraction.text import CountVectorizer\n",
    "%matplotlib inline"
   ]
  },
  {
   "cell_type": "code",
   "execution_count": 2,
   "metadata": {
    "collapsed": false
   },
   "outputs": [
    {
     "data": {
      "text/html": [
       "<div>\n",
       "<table border=\"1\" class=\"dataframe\">\n",
       "  <thead>\n",
       "    <tr style=\"text-align: right;\">\n",
       "      <th></th>\n",
       "      <th>shrinked_data.csv</th>\n",
       "      <th>Id</th>\n",
       "      <th>Title</th>\n",
       "      <th>FullDescription</th>\n",
       "      <th>LocationRaw</th>\n",
       "      <th>LocationNormalized</th>\n",
       "      <th>ContractType</th>\n",
       "      <th>ContractTime</th>\n",
       "      <th>Company</th>\n",
       "      <th>Category</th>\n",
       "      <th>SalaryRaw</th>\n",
       "      <th>SalaryNormalized</th>\n",
       "      <th>SourceName</th>\n",
       "    </tr>\n",
       "  </thead>\n",
       "  <tbody>\n",
       "    <tr>\n",
       "      <th>0</th>\n",
       "      <td>96318</td>\n",
       "      <td>69249293</td>\n",
       "      <td>Mobile Desktop Support Analyst</td>\n",
       "      <td>Introduction A Support Analyst with experience...</td>\n",
       "      <td>London</td>\n",
       "      <td>London</td>\n",
       "      <td>NaN</td>\n",
       "      <td>NaN</td>\n",
       "      <td>Matchtech Group plc.</td>\n",
       "      <td>Engineering Jobs</td>\n",
       "      <td>Up to 32/hr</td>\n",
       "      <td>61440</td>\n",
       "      <td>rengineeringjobs.com</td>\n",
       "    </tr>\n",
       "    <tr>\n",
       "      <th>1</th>\n",
       "      <td>166582</td>\n",
       "      <td>71298764</td>\n",
       "      <td>Occupational Therapist</td>\n",
       "      <td>OT Role  Birmingham At Recruiting for Care thi...</td>\n",
       "      <td>Birimingham, Birmingham</td>\n",
       "      <td>UK</td>\n",
       "      <td>part_time</td>\n",
       "      <td>contract</td>\n",
       "      <td>Recruiting for Care</td>\n",
       "      <td>Social work Jobs</td>\n",
       "      <td>20 - 30/hour</td>\n",
       "      <td>48000</td>\n",
       "      <td>cv-library.co.uk</td>\n",
       "    </tr>\n",
       "    <tr>\n",
       "      <th>2</th>\n",
       "      <td>36385</td>\n",
       "      <td>68256674</td>\n",
       "      <td>Regional Sales Executive</td>\n",
       "      <td>Our client, who is one of the UKs largest indu...</td>\n",
       "      <td>Leeds</td>\n",
       "      <td>Leeds</td>\n",
       "      <td>NaN</td>\n",
       "      <td>permanent</td>\n",
       "      <td>NaN</td>\n",
       "      <td>HR &amp; Recruitment Jobs</td>\n",
       "      <td>15k - 20k</td>\n",
       "      <td>17500</td>\n",
       "      <td>careersinrecruitment.com</td>\n",
       "    </tr>\n",
       "    <tr>\n",
       "      <th>3</th>\n",
       "      <td>80896</td>\n",
       "      <td>69023774</td>\n",
       "      <td>Domiciliary Branch Manager  Welwyn Garden City</td>\n",
       "      <td>Our client is currently recruiting for an expe...</td>\n",
       "      <td>Welwyn Garden City, Hertfordshire</td>\n",
       "      <td>Welwyn Garden City</td>\n",
       "      <td>NaN</td>\n",
       "      <td>permanent</td>\n",
       "      <td>Maxim recruitment Solutions</td>\n",
       "      <td>Social work Jobs</td>\n",
       "      <td>29000 - 31000/annum</td>\n",
       "      <td>30000</td>\n",
       "      <td>cv-library.co.uk</td>\n",
       "    </tr>\n",
       "    <tr>\n",
       "      <th>4</th>\n",
       "      <td>90305</td>\n",
       "      <td>69165486</td>\n",
       "      <td>Digital communities editor</td>\n",
       "      <td>We are a global charitable foundation dedicate...</td>\n",
       "      <td>London</td>\n",
       "      <td>London</td>\n",
       "      <td>NaN</td>\n",
       "      <td>NaN</td>\n",
       "      <td>Wellcome trust</td>\n",
       "      <td>Creative &amp; Design Jobs</td>\n",
       "      <td>28,000 dependant on experience</td>\n",
       "      <td>28000</td>\n",
       "      <td>journalism.co.uk</td>\n",
       "    </tr>\n",
       "  </tbody>\n",
       "</table>\n",
       "</div>"
      ],
      "text/plain": [
       "   shrinked_data.csv        Id  \\\n",
       "0              96318  69249293   \n",
       "1             166582  71298764   \n",
       "2              36385  68256674   \n",
       "3              80896  69023774   \n",
       "4              90305  69165486   \n",
       "\n",
       "                                            Title  \\\n",
       "0                  Mobile Desktop Support Analyst   \n",
       "1                          Occupational Therapist   \n",
       "2                        Regional Sales Executive   \n",
       "3  Domiciliary Branch Manager  Welwyn Garden City   \n",
       "4                      Digital communities editor   \n",
       "\n",
       "                                     FullDescription  \\\n",
       "0  Introduction A Support Analyst with experience...   \n",
       "1  OT Role  Birmingham At Recruiting for Care thi...   \n",
       "2  Our client, who is one of the UKs largest indu...   \n",
       "3  Our client is currently recruiting for an expe...   \n",
       "4  We are a global charitable foundation dedicate...   \n",
       "\n",
       "                         LocationRaw  LocationNormalized ContractType  \\\n",
       "0                             London              London          NaN   \n",
       "1            Birimingham, Birmingham                  UK    part_time   \n",
       "2                              Leeds               Leeds          NaN   \n",
       "3  Welwyn Garden City, Hertfordshire  Welwyn Garden City          NaN   \n",
       "4                             London              London          NaN   \n",
       "\n",
       "  ContractTime                      Company                Category  \\\n",
       "0          NaN         Matchtech Group plc.        Engineering Jobs   \n",
       "1     contract          Recruiting for Care        Social work Jobs   \n",
       "2    permanent                          NaN   HR & Recruitment Jobs   \n",
       "3    permanent  Maxim recruitment Solutions        Social work Jobs   \n",
       "4          NaN               Wellcome trust  Creative & Design Jobs   \n",
       "\n",
       "                        SalaryRaw  SalaryNormalized                SourceName  \n",
       "0                     Up to 32/hr             61440      rengineeringjobs.com  \n",
       "1                    20 - 30/hour             48000          cv-library.co.uk  \n",
       "2                       15k - 20k             17500  careersinrecruitment.com  \n",
       "3             29000 - 31000/annum             30000          cv-library.co.uk  \n",
       "4  28,000 dependant on experience             28000          journalism.co.uk  "
      ]
     },
     "execution_count": 2,
     "metadata": {},
     "output_type": "execute_result"
    }
   ],
   "source": [
    "#задание 1\n",
    "data = pd.read_csv('shrinked_data.csv.tar.gz')\n",
    "data.head()"
   ]
  },
  {
   "cell_type": "raw",
   "metadata": {},
   "source": [
    "shrinked_data.scv, id, SalaryNominalized - вещественные\n",
    "остальные категориальные"
   ]
  },
  {
   "cell_type": "code",
   "execution_count": null,
   "metadata": {
    "collapsed": false
   },
   "outputs": [],
   "source": [
    "#задание 2\n",
    "texts = data['FullDescription']\n",
    "vectorizer = CountVectorizer(analyzer = 'word', stop_words = 'english', lowercase = True)\n",
    "vocub = vectorizer.fit_transform(texts).toarray()\n",
    "words = np.sum(vocub, axis = 0)\n",
    "index = np.argsort(words)\n",
    "popular = np.array(vectorizer.get_feature_names())[index[-50:]]\n",
    "print('popular:', \", \".join(words_pop))\n",
    "rare = np.array(vectorizer.get_feature_names())[index[:50]]\n",
    "print('rare:', \", \".join(words_rare))"
   ]
  },
  {
   "cell_type": "raw",
   "metadata": {},
   "source": [
    "Частые слова - об успехе, работе\n",
    "Редкие - опечатки, ошибки"
   ]
  },
  {
   "cell_type": "code",
   "execution_count": 8,
   "metadata": {
    "collapsed": false
   },
   "outputs": [
    {
     "name": "stdout",
     "output_type": "stream",
     "text": [
      "mean =  34136.196674429055\n",
      "median =  30000.0\n",
      "variance =  316129147.81440276\n"
     ]
    },
    {
     "data": {
      "image/png": "[encoded data removed]",
      "text/plain": [
       "<matplotlib.figure.Figure at 0xba70b70>"
      ]
     },
     "metadata": {},
     "output_type": "display_data"
    }
   ],
   "source": [
    "#задание 3\n",
    "salary = data['SalaryNormalized']\n",
    "salary_hist = pd.DataFrame.hist(pd.DataFrame(salary), bins = 50)\n",
    "\n",
    "print('mean = ', salary.mean())\n",
    "print('median = ', salary.median())\n",
    "print('variance = ', salary.var())"
   ]
  },
  {
   "cell_type": "code",
   "execution_count": 57,
   "metadata": {
    "collapsed": false
   },
   "outputs": [
    {
     "data": {
      "text/html": [
       "<div>\n",
       "<table border=\"1\" class=\"dataframe\">\n",
       "  <thead>\n",
       "    <tr style=\"text-align: right;\">\n",
       "      <th></th>\n",
       "      <th>FullDescription</th>\n",
       "    </tr>\n",
       "  </thead>\n",
       "  <tbody>\n",
       "    <tr>\n",
       "      <th>287</th>\n",
       "      <td>An opportunity has arisen with an employer in ...</td>\n",
       "    </tr>\n",
       "    <tr>\n",
       "      <th>1454</th>\n",
       "      <td>This is for an Apprenticehip position based in...</td>\n",
       "    </tr>\n",
       "    <tr>\n",
       "      <th>4610</th>\n",
       "      <td>Apprenticeship in Diesel Fuel Injection Engine...</td>\n",
       "    </tr>\n",
       "    <tr>\n",
       "      <th>5308</th>\n",
       "      <td>The employer is looking for someone enthusiast...</td>\n",
       "    </tr>\n",
       "    <tr>\n",
       "      <th>6841</th>\n",
       "      <td>This is a government funded apprenticeship. Yo...</td>\n",
       "    </tr>\n",
       "    <tr>\n",
       "      <th>7306</th>\n",
       "      <td>This apprenticeship will be training as a chef...</td>\n",
       "    </tr>\n",
       "    <tr>\n",
       "      <th>7491</th>\n",
       "      <td>The employer has given the assurance that the ...</td>\n",
       "    </tr>\n",
       "    <tr>\n",
       "      <th>9374</th>\n",
       "      <td>Entry Requirements: You must have or are predi...</td>\n",
       "    </tr>\n",
       "    <tr>\n",
       "      <th>11108</th>\n",
       "      <td>Are you looking to kick start your career? Do ...</td>\n",
       "    </tr>\n",
       "    <tr>\n",
       "      <th>12076</th>\n",
       "      <td>Apprenticeship under the 'Government Apprentic...</td>\n",
       "    </tr>\n",
       "    <tr>\n",
       "      <th>12111</th>\n",
       "      <td>This is a government funded apprenticeship, th...</td>\n",
       "    </tr>\n",
       "    <tr>\n",
       "      <th>12213</th>\n",
       "      <td>Role: Business Admin Apprenticeship Location: ...</td>\n",
       "    </tr>\n",
       "    <tr>\n",
       "      <th>12846</th>\n",
       "      <td>Working for a busy company in Trafford Park. Y...</td>\n",
       "    </tr>\n",
       "    <tr>\n",
       "      <th>14245</th>\n",
       "      <td>Core Duties will include: **** Creating, devel...</td>\n",
       "    </tr>\n",
       "    <tr>\n",
       "      <th>16663</th>\n",
       "      <td>This is an Apprenticeship. To apply email C.Re...</td>\n",
       "    </tr>\n",
       "    <tr>\n",
       "      <th>18585</th>\n",
       "      <td>This small beauty salon is based in Attercliff...</td>\n",
       "    </tr>\n",
       "    <tr>\n",
       "      <th>21065</th>\n",
       "      <td>This is an Apprenticeship. The employer has gi...</td>\n",
       "    </tr>\n",
       "    <tr>\n",
       "      <th>21304</th>\n",
       "      <td>Are you aged between ****  **** and looking fo...</td>\n",
       "    </tr>\n",
       "    <tr>\n",
       "      <th>21505</th>\n",
       "      <td>The employer has given the assurance that the ...</td>\n",
       "    </tr>\n",
       "    <tr>\n",
       "      <th>22588</th>\n",
       "      <td>Working alongside a qualified technician, you ...</td>\n",
       "    </tr>\n",
       "    <tr>\n",
       "      <th>23301</th>\n",
       "      <td>This is an Apprenticeship. Day to day care to ...</td>\n",
       "    </tr>\n",
       "    <tr>\n",
       "      <th>24226</th>\n",
       "      <td>Food Service apprentice required. Duties inclu...</td>\n",
       "    </tr>\n",
       "  </tbody>\n",
       "</table>\n",
       "</div>"
      ],
      "text/plain": [
       "                                         FullDescription\n",
       "287    An opportunity has arisen with an employer in ...\n",
       "1454   This is for an Apprenticehip position based in...\n",
       "4610   Apprenticeship in Diesel Fuel Injection Engine...\n",
       "5308   The employer is looking for someone enthusiast...\n",
       "6841   This is a government funded apprenticeship. Yo...\n",
       "7306   This apprenticeship will be training as a chef...\n",
       "7491   The employer has given the assurance that the ...\n",
       "9374   Entry Requirements: You must have or are predi...\n",
       "11108  Are you looking to kick start your career? Do ...\n",
       "12076  Apprenticeship under the 'Government Apprentic...\n",
       "12111  This is a government funded apprenticeship, th...\n",
       "12213  Role: Business Admin Apprenticeship Location: ...\n",
       "12846  Working for a busy company in Trafford Park. Y...\n",
       "14245  Core Duties will include: **** Creating, devel...\n",
       "16663  This is an Apprenticeship. To apply email C.Re...\n",
       "18585  This small beauty salon is based in Attercliff...\n",
       "21065  This is an Apprenticeship. The employer has gi...\n",
       "21304  Are you aged between ****  **** and looking fo...\n",
       "21505  The employer has given the assurance that the ...\n",
       "22588  Working alongside a qualified technician, you ...\n",
       "23301  This is an Apprenticeship. Day to day care to ...\n",
       "24226  Food Service apprentice required. Duties inclu..."
      ]
     },
     "execution_count": 57,
     "metadata": {},
     "output_type": "execute_result"
    }
   ],
   "source": [
    "ind = data['SalaryNormalized'].min()\n",
    "data.loc[data['SalaryNormalized'] == ind, ['FullDescription']] #наименьшие зарплаты"
   ]
  },
  {
   "cell_type": "code",
   "execution_count": 58,
   "metadata": {
    "collapsed": false
   },
   "outputs": [
    {
     "data": {
      "text/html": [
       "<div>\n",
       "<table border=\"1\" class=\"dataframe\">\n",
       "  <thead>\n",
       "    <tr style=\"text-align: right;\">\n",
       "      <th></th>\n",
       "      <th>FullDescription</th>\n",
       "    </tr>\n",
       "  </thead>\n",
       "  <tbody>\n",
       "    <tr>\n",
       "      <th>5017</th>\n",
       "      <td>This City firm rsquo;s Hertfordshire office is...</td>\n",
       "    </tr>\n",
       "  </tbody>\n",
       "</table>\n",
       "</div>"
      ],
      "text/plain": [
       "                                        FullDescription\n",
       "5017  This City firm rsquo;s Hertfordshire office is..."
      ]
     },
     "execution_count": 58,
     "metadata": {},
     "output_type": "execute_result"
    }
   ],
   "source": [
    "ind = data['SalaryNormalized'].max()\n",
    "data.loc[data['SalaryNormalized'] == ind, ['FullDescription']] #наибольшие зарплаты"
   ]
  },
  {
   "cell_type": "raw",
   "metadata": {
    "collapsed": true
   },
   "source": [
    "Различаются должности\n",
    "В объявлениях о низких зарплатах более четкие требования, в объявлениях о высоких больше эпитетов"
   ]
  },
  {
   "cell_type": "code",
   "execution_count": 59,
   "metadata": {
    "collapsed": false
   },
   "outputs": [
    {
     "name": "stdout",
     "output_type": "stream",
     "text": [
      "13472.326592591642\n",
      "13039.709604935246\n",
      "26440.0\n"
     ]
    }
   ],
   "source": [
    "#задание 4\n",
    "g_mean = np.abs(salary - salary.mean()).mean()\n",
    "print(g_mean)\n",
    "g_median = np.abs(salary - salary.median()).mean()\n",
    "print(g_median)\n",
    "g_moda = np.abs(salary - salary.mode()).mean()\n",
    "print(g_moda)"
   ]
  },
  {
   "cell_type": "raw",
   "metadata": {},
   "source": [
    "Если взять медиану, то значение ошибки немного уменьшится, так как если брать среднее арифметическое, то оно смещается к большим зарплатам "
   ]
  },
  {
   "cell_type": "code",
   "execution_count": 7,
   "metadata": {
    "collapsed": false
   },
   "outputs": [
    {
     "name": "stdout",
     "output_type": "stream",
     "text": [
      "popular: previous experience, employment business, track record, send cv, employment agency, customer service, successful candidate, experience working, communication skills, totaljobs com, www totaljobs com, www totaljobs, posted www totaljobs, totaljobs com jobseeking, com jobseeking, originally posted www, posted www, job originally posted, job originally, originally posted\n"
     ]
    }
   ],
   "source": [
    "#задание 5\n",
    "texts = data['FullDescription']\n",
    "vectorizer = CountVectorizer(analyzer='word', stop_words='english', ngram_range=(2,3), max_features = 100, lowercase=True)\n",
    "vocub = vectorizer.fit_transform(texts).toarray()\n",
    "words = np.sum(vocub, axis = 0)\n",
    "index = np.argsort(words)\n",
    "popular = np.array(vectorizer.get_feature_names())[index[-20:]]\n",
    "print('popular:', \", \".join(popular))"
   ]
  },
  {
   "cell_type": "raw",
   "metadata": {
    "collapsed": true
   },
   "source": [
    "название сайтов и типичные устойчивые словосочетания для объявлений"
   ]
  }
 ],
 "metadata": {
  "kernelspec": {
   "display_name": "Python 3",
   "language": "python",
   "name": "python3"
  },
  "language_info": {
   "codemirror_mode": {
    "name": "ipython",
    "version": 3
   },
   "file_extension": ".py",
   "mimetype": "text/x-python",
   "name": "python",
   "nbconvert_exporter": "python",
   "pygments_lexer": "ipython3",
   "version": "3.5.1"
  }
 },
 "nbformat": 4,
 "nbformat_minor": 0
}
