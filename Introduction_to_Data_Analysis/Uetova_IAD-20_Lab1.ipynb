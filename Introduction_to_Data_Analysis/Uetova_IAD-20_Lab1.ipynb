{
 "cells": [
  {
   "cell_type": "code",
   "execution_count": 1,
   "metadata": {
    "collapsed": true
   },
   "outputs": [],
   "source": [
    "import numpy as np\n",
    "import pandas as pd"
   ]
  },
  {
   "cell_type": "code",
   "execution_count": 49,
   "metadata": {
    "collapsed": false
   },
   "outputs": [],
   "source": [
    "#Задание 1 numpy\n",
    "def checker(N):\n",
    "    row1 = np.r_[ (N//2)*[0,1], (N%2)*[0] ]       \n",
    "    row2 = np.r_[ (N//2)*[1,0], (N%2)*[1] ]        \n",
    "    return np.row_stack((N//2)*(row1, row2) + (N%2)*(row1,))"
   ]
  },
  {
   "cell_type": "code",
   "execution_count": 50,
   "metadata": {
    "collapsed": false
   },
   "outputs": [
    {
     "name": "stdout",
     "output_type": "stream",
     "text": [
      "4\n",
      "[[ 0.  1.  0.  1.]\n",
      " [ 1.  0.  1.  0.]\n",
      " [ 0.  1.  0.  1.]\n",
      " [ 1.  0.  1.  0.]]\n"
     ]
    }
   ],
   "source": [
    "N = int(input())\n",
    "print(checker(N))"
   ]
  },
  {
   "cell_type": "code",
   "execution_count": 51,
   "metadata": {
    "collapsed": false
   },
   "outputs": [],
   "source": [
    "#Задание 2 numpy\n",
    "def sub_diagonal_matrix(N):\n",
    "    return np.diag(np.arange(1, N, 1), k = -1)"
   ]
  },
  {
   "cell_type": "code",
   "execution_count": 52,
   "metadata": {
    "collapsed": false
   },
   "outputs": [
    {
     "name": "stdout",
     "output_type": "stream",
     "text": [
      "4\n",
      "[[0 0 0 0]\n",
      " [1 0 0 0]\n",
      " [0 2 0 0]\n",
      " [0 0 3 0]]\n"
     ]
    }
   ],
   "source": [
    "N = int(input())\n",
    "print(sub_diagonal_matrix(N))"
   ]
  },
  {
   "cell_type": "code",
   "execution_count": 53,
   "metadata": {
    "collapsed": true
   },
   "outputs": [],
   "source": [
    "#Зфдфние 3 numpy\n",
    "def scale(A):\n",
    "    Av_value = A.mean(axis = 0)\n",
    "    Std_deviation = A.std(axis = 0)\n",
    "    return (A-Av_value)/Std_deviation"
   ]
  },
  {
   "cell_type": "code",
   "execution_count": 54,
   "metadata": {
    "collapsed": false
   },
   "outputs": [
    {
     "name": "stdout",
     "output_type": "stream",
     "text": [
      "[[0 5 5 6 6]\n",
      " [7 4 4 6 4]\n",
      " [3 5 9 7 1]\n",
      " [1 0 6 3 1]\n",
      " [2 4 9 0 1]]\n",
      "[[-1.07588766  0.75482941 -0.77702869  0.62092042  1.65118597]\n",
      " [ 1.82073295  0.21566555 -1.26267162  0.62092042  0.6799001 ]\n",
      " [ 0.16552118  0.75482941  1.16554303  1.00899568 -0.77702869]\n",
      " [-0.66208471 -1.94098992 -0.29138576 -0.54330537 -0.77702869]\n",
      " [-0.24828177  0.21566555  1.16554303 -1.70753116 -0.77702869]]\n"
     ]
    }
   ],
   "source": [
    "A = np.random.randint(0, 10, size=(5,5))\n",
    "print(A)\n",
    "print(scale(A))"
   ]
  },
  {
   "cell_type": "code",
   "execution_count": 35,
   "metadata": {
    "collapsed": true
   },
   "outputs": [],
   "source": [
    "#Задание 4 numpy\n",
    "cameras = np.load('cams.npy')"
   ]
  },
  {
   "cell_type": "code",
   "execution_count": 11,
   "metadata": {
    "collapsed": false
   },
   "outputs": [
    {
     "data": {
      "text/plain": [
       "array([[  3.        ,  55.6885807 ,  37.58105588],\n",
       "       [  6.        ,  55.69109852,  37.59703611],\n",
       "       [  4.        ,  55.6867331 ,  37.59348567],\n",
       "       ..., \n",
       "       [  1.        ,  55.79639291,  37.46103259],\n",
       "       [  4.        ,  55.79553007,  37.45571975],\n",
       "       [  6.        ,  55.79630207,  37.46395768]])"
      ]
     },
     "execution_count": 11,
     "metadata": {},
     "output_type": "execute_result"
    }
   ],
   "source": [
    "cameras"
   ]
  },
  {
   "cell_type": "code",
   "execution_count": 12,
   "metadata": {
    "collapsed": false
   },
   "outputs": [
    {
     "name": "stdout",
     "output_type": "stream",
     "text": [
      "Расстояние от камер до Кремля [ 10.12967442   9.08164377   9.68243931 ...,  18.85463777  19.42103544\n",
      "  18.53235746]\n"
     ]
    }
   ],
   "source": [
    "def distance(cameras):\n",
    "    x = 55 + 45/60  + 6/360 \n",
    "    y = 37 + 37/60 + 4/360\n",
    "    km = 40075/360\n",
    "    dist = (np.sqrt((x-cameras[:,1]) ** 2 + (y-cameras[:,2]) ** 2)) * km\n",
    "    return dist\n",
    "print('Расстояние от камер до Кремля', distance(cameras))"
   ]
  },
  {
   "cell_type": "code",
   "execution_count": 36,
   "metadata": {
    "collapsed": true
   },
   "outputs": [],
   "source": [
    "#Задание 5 numpy\n",
    "%matplotlib inline\n",
    "import matplotlib.pyplot as plt\n",
    "def cam_heatmap(cameras, N):\n",
    "    cameras = np.column_stack((cameras[:,0], cameras[:, 1]/np.max(cameras[:,1]), cameras[:, 2]/np.max(cameras[:,2])))\n",
    "    matr = np.zeros((N, N))\n",
    "    for row in cameras:\n",
    "        x = int(round(row[1]*N - 1))\n",
    "        y = int(round(row[2]*N - 1))\n",
    "        matr[x][y] += row[0]\n",
    "    return matr "
   ]
  },
  {
   "cell_type": "code",
   "execution_count": 37,
   "metadata": {
    "collapsed": false
   },
   "outputs": [
    {
     "data": {
      "image/png": "[encoded data removed]",
      "text/plain": [
       "<matplotlib.figure.Figure at 0x9b27b70>"
      ]
     },
     "metadata": {},
     "output_type": "display_data"
    }
   ],
   "source": [
    "plt.clf()\n",
    "plt.imshow(cam_heatmap(cameras, 100))\n",
    "plt.show()"
   ]
  },
  {
   "cell_type": "code",
   "execution_count": 38,
   "metadata": {
    "collapsed": false
   },
   "outputs": [
    {
     "data": {
      "image/png": "[encoded data removed]",
      "text/plain": [
       "<matplotlib.figure.Figure at 0x9bcff60>"
      ]
     },
     "metadata": {},
     "output_type": "display_data"
    }
   ],
   "source": [
    "#если увеличить масштаб\n",
    "cameras = np.column_stack((cameras[:,0], cameras[:, 1]-np.min(cameras[:,1]), cameras[:, 2]-np.min(cameras[:,2])))\n",
    "%matplotlib inline\n",
    "import matplotlib.pyplot as plt\n",
    "def cam_heatmap(cameras, N):\n",
    "    cameras = np.column_stack((cameras[:,0], cameras[:, 1]/np.max(cameras[:,1]), cameras[:, 2]/np.max(cameras[:,2])))\n",
    "    matr = np.zeros((N, N))\n",
    "    for row in cameras:\n",
    "        x = int(round(row[1]*N - 1))\n",
    "        y = int(round(row[2]*N - 1))\n",
    "        matr[x][y] += row[0]\n",
    "    return matr \n",
    "plt.clf()\n",
    "plt.imshow(cam_heatmap(cameras, 100))\n",
    "plt.show()"
   ]
  },
  {
   "cell_type": "code",
   "execution_count": 39,
   "metadata": {
    "collapsed": false
   },
   "outputs": [
    {
     "name": "stdout",
     "output_type": "stream",
     "text": [
      "Самая частая причина -  B\n"
     ]
    }
   ],
   "source": [
    "#Задание 1 pandas\n",
    "data = pd.read_csv('data.csv')\n",
    "print('Самая частая причина - ', data['CancellationCode'].value_counts().axes[0][0])"
   ]
  },
  {
   "cell_type": "code",
   "execution_count": 41,
   "metadata": {
    "collapsed": false
   },
   "outputs": [
    {
     "name": "stdout",
     "output_type": "stream",
     "text": [
      "Среднее расстояние -  726.3870294253928\n"
     ]
    }
   ],
   "source": [
    "#Задание 2 pandas\n",
    "print('Среднее расстояние - ', np.mean(data['Distance']))"
   ]
  },
  {
   "cell_type": "code",
   "execution_count": 4,
   "metadata": {
    "collapsed": false
   },
   "outputs": [
    {
     "name": "stdout",
     "output_type": "stream",
     "text": [
      "Максимальное расстояние - 4962\n"
     ]
    }
   ],
   "source": [
    "print('Максимальное расстояние -', np.max(data['Distance']))"
   ]
  },
  {
   "cell_type": "code",
   "execution_count": 5,
   "metadata": {
    "collapsed": false
   },
   "outputs": [
    {
     "name": "stdout",
     "output_type": "stream",
     "text": [
      "Минимальное расстояние - 11\n"
     ]
    }
   ],
   "source": [
    "print('Минимальное расстояние -', np.min(data['Distance']))"
   ]
  },
  {
   "cell_type": "code",
   "execution_count": 13,
   "metadata": {
    "collapsed": false
   },
   "outputs": [
    {
     "data": {
      "text/html": [
       "<div>\n",
       "<table border=\"1\" class=\"dataframe\">\n",
       "  <thead>\n",
       "    <tr style=\"text-align: right;\">\n",
       "      <th></th>\n",
       "      <th>Year</th>\n",
       "      <th>Month</th>\n",
       "      <th>DayofMonth</th>\n",
       "      <th>DayOfWeek</th>\n",
       "      <th>DepTime</th>\n",
       "      <th>CRSDepTime</th>\n",
       "      <th>ArrTime</th>\n",
       "      <th>CRSArrTime</th>\n",
       "      <th>UniqueCarrier</th>\n",
       "      <th>FlightNum</th>\n",
       "      <th>...</th>\n",
       "      <th>TaxiIn</th>\n",
       "      <th>TaxiOut</th>\n",
       "      <th>Cancelled</th>\n",
       "      <th>CancellationCode</th>\n",
       "      <th>Diverted</th>\n",
       "      <th>CarrierDelay</th>\n",
       "      <th>WeatherDelay</th>\n",
       "      <th>NASDelay</th>\n",
       "      <th>SecurityDelay</th>\n",
       "      <th>LateAircraftDelay</th>\n",
       "    </tr>\n",
       "  </thead>\n",
       "  <tbody>\n",
       "    <tr>\n",
       "      <th>2547298</th>\n",
       "      <td>2008</td>\n",
       "      <td>5</td>\n",
       "      <td>15</td>\n",
       "      <td>4</td>\n",
       "      <td>2037</td>\n",
       "      <td>1800</td>\n",
       "      <td>2125</td>\n",
       "      <td>1900</td>\n",
       "      <td>OH</td>\n",
       "      <td>4988</td>\n",
       "      <td>...</td>\n",
       "      <td>10</td>\n",
       "      <td>7</td>\n",
       "      <td>0</td>\n",
       "      <td>NaN</td>\n",
       "      <td>0</td>\n",
       "      <td>145</td>\n",
       "      <td>0</td>\n",
       "      <td>0</td>\n",
       "      <td>0</td>\n",
       "      <td>0</td>\n",
       "    </tr>\n",
       "    <tr>\n",
       "      <th>4392215</th>\n",
       "      <td>2008</td>\n",
       "      <td>8</td>\n",
       "      <td>10</td>\n",
       "      <td>7</td>\n",
       "      <td>1315</td>\n",
       "      <td>1220</td>\n",
       "      <td>1415</td>\n",
       "      <td>1320</td>\n",
       "      <td>OH</td>\n",
       "      <td>5572</td>\n",
       "      <td>...</td>\n",
       "      <td>8</td>\n",
       "      <td>38</td>\n",
       "      <td>0</td>\n",
       "      <td>NaN</td>\n",
       "      <td>0</td>\n",
       "      <td>55</td>\n",
       "      <td>0</td>\n",
       "      <td>0</td>\n",
       "      <td>0</td>\n",
       "      <td>0</td>\n",
       "    </tr>\n",
       "  </tbody>\n",
       "</table>\n",
       "<p>2 rows × 29 columns</p>\n",
       "</div>"
      ],
      "text/plain": [
       "         Year  Month  DayofMonth  DayOfWeek  DepTime  CRSDepTime  ArrTime  \\\n",
       "2547298  2008      5          15          4     2037        1800     2125   \n",
       "4392215  2008      8          10          7     1315        1220     1415   \n",
       "\n",
       "         CRSArrTime UniqueCarrier  FlightNum        ...         TaxiIn  \\\n",
       "2547298        1900            OH       4988        ...             10   \n",
       "4392215        1320            OH       5572        ...              8   \n",
       "\n",
       "         TaxiOut  Cancelled  CancellationCode  Diverted  CarrierDelay  \\\n",
       "2547298        7          0               NaN         0           145   \n",
       "4392215       38          0               NaN         0            55   \n",
       "\n",
       "        WeatherDelay NASDelay  SecurityDelay  LateAircraftDelay  \n",
       "2547298            0        0              0                  0  \n",
       "4392215            0        0              0                  0  \n",
       "\n",
       "[2 rows x 29 columns]"
      ]
     },
     "execution_count": 13,
     "metadata": {},
     "output_type": "execute_result"
    }
   ],
   "source": [
    "#Задание 3 pandas\n",
    "#Выглядит странно \n",
    "data[data['Distance'] == 11]"
   ]
  },
  {
   "cell_type": "code",
   "execution_count": 37,
   "metadata": {
    "collapsed": false
   },
   "outputs": [
    {
     "data": {
      "text/html": [
       "<div>\n",
       "<table border=\"1\" class=\"dataframe\">\n",
       "  <thead>\n",
       "    <tr style=\"text-align: right;\">\n",
       "      <th></th>\n",
       "      <th>Year</th>\n",
       "      <th>Month</th>\n",
       "      <th>DayofMonth</th>\n",
       "      <th>FlightNum</th>\n",
       "    </tr>\n",
       "  </thead>\n",
       "  <tbody>\n",
       "    <tr>\n",
       "      <th>2547298</th>\n",
       "      <td>2008</td>\n",
       "      <td>5</td>\n",
       "      <td>15</td>\n",
       "      <td>4988</td>\n",
       "    </tr>\n",
       "    <tr>\n",
       "      <th>4392215</th>\n",
       "      <td>2008</td>\n",
       "      <td>8</td>\n",
       "      <td>10</td>\n",
       "      <td>5572</td>\n",
       "    </tr>\n",
       "  </tbody>\n",
       "</table>\n",
       "</div>"
      ],
      "text/plain": [
       "         Year  Month  DayofMonth  FlightNum\n",
       "2547298  2008      5          15       4988\n",
       "4392215  2008      8          10       5572"
      ]
     },
     "execution_count": 37,
     "metadata": {},
     "output_type": "execute_result"
    }
   ],
   "source": [
    "data.loc[data['Distance'] == 11,['Year','Month','DayofMonth','FlightNum']] #как вытащить значения?"
   ]
  },
  {
   "cell_type": "code",
   "execution_count": 38,
   "metadata": {
    "collapsed": false
   },
   "outputs": [
    {
     "data": {
      "text/plain": [
       "array([834,  96,  11, 414, 223, 712, 321, 903], dtype=int64)"
      ]
     },
     "execution_count": 38,
     "metadata": {},
     "output_type": "execute_result"
    }
   ],
   "source": [
    "data[data['FlightNum'] == 4988]['Distance'].unique()"
   ]
  },
  {
   "cell_type": "code",
   "execution_count": 39,
   "metadata": {
    "collapsed": false
   },
   "outputs": [
    {
     "data": {
      "text/plain": [
       "array([544, 329,  11, 363, 134, 669, 508], dtype=int64)"
      ]
     },
     "execution_count": 39,
     "metadata": {},
     "output_type": "execute_result"
    }
   ],
   "source": [
    "data[data['FlightNum'] == 5572]['Distance'].unique()"
   ]
  },
  {
   "cell_type": "code",
   "execution_count": 6,
   "metadata": {
    "collapsed": false
   },
   "outputs": [
    {
     "name": "stdout",
     "output_type": "stream",
     "text": [
      "Больше всего вылетов было из ATL\n"
     ]
    }
   ],
   "source": [
    "#Задание 4 pandas\n",
    "Flight = data['Origin'].value_counts()\n",
    "print('Больше всего вылетов было из', data['Origin'].value_counts().axes[0][0])"
   ]
  },
  {
   "cell_type": "code",
   "execution_count": 8,
   "metadata": {
    "collapsed": true
   },
   "outputs": [],
   "source": [
    "airports = pd.read_csv('airports.csv')"
   ]
  },
  {
   "cell_type": "code",
   "execution_count": 34,
   "metadata": {
    "collapsed": false
   },
   "outputs": [
    {
     "data": {
      "text/html": [
       "<div>\n",
       "<table border=\"1\" class=\"dataframe\">\n",
       "  <thead>\n",
       "    <tr style=\"text-align: right;\">\n",
       "      <th></th>\n",
       "      <th>city</th>\n",
       "    </tr>\n",
       "  </thead>\n",
       "  <tbody>\n",
       "    <tr>\n",
       "      <th>880</th>\n",
       "      <td>Atlanta</td>\n",
       "    </tr>\n",
       "  </tbody>\n",
       "</table>\n",
       "</div>"
      ],
      "text/plain": [
       "        city\n",
       "880  Atlanta"
      ]
     },
     "execution_count": 34,
     "metadata": {},
     "output_type": "execute_result"
    }
   ],
   "source": [
    "airports.loc[airports['iata'] == 'ATL',['city']]"
   ]
  },
  {
   "cell_type": "code",
   "execution_count": 38,
   "metadata": {
    "collapsed": false
   },
   "outputs": [
    {
     "name": "stdout",
     "output_type": "stream",
     "text": [
      "Среднее время полета:\n",
      "Origin\n",
      "ABE     89.057518\n",
      "ABI     36.789977\n",
      "ABQ     91.657166\n",
      "ABY     35.379759\n",
      "ACK     50.692124\n",
      "ACT     29.875977\n",
      "ACV     58.850658\n",
      "ACY    108.848214\n",
      "ADK    151.423913\n",
      "ADQ     41.987934\n",
      "AEX     68.543556\n",
      "AGS     36.933814\n",
      "AKN     37.321429\n",
      "ALB    101.860527\n",
      "ALO     36.373134\n",
      "AMA     56.196001\n",
      "ANC    156.163749\n",
      "ASE     48.307996\n",
      "ATL     93.320419\n",
      "ATW     50.696326\n",
      "AUS    101.266600\n",
      "AVL     69.899021\n",
      "AVP     94.665204\n",
      "AZO     34.846602\n",
      "BDL    118.701612\n",
      "BET     57.597815\n",
      "BFL     64.024511\n",
      "BGM     66.582260\n",
      "BGR     90.211095\n",
      "BHM     82.290713\n",
      "          ...    \n",
      "SPS     29.490040\n",
      "SRQ    103.083807\n",
      "STL     99.294409\n",
      "STT    168.681929\n",
      "STX    168.101176\n",
      "SUN     48.221851\n",
      "SUX     44.918919\n",
      "SWF    132.768826\n",
      "SYR     84.524087\n",
      "TEX     93.124183\n",
      "TLH     59.293080\n",
      "TOL     48.295047\n",
      "TPA    117.917963\n",
      "TRI     47.871046\n",
      "TUL     80.876802\n",
      "TUP     42.900000\n",
      "TUS     92.801864\n",
      "TVC     49.328770\n",
      "TWF     41.316563\n",
      "TXK     43.796312\n",
      "TYR     30.372715\n",
      "TYS     81.030894\n",
      "VLD     45.158351\n",
      "VPS     75.231116\n",
      "WRG     16.741606\n",
      "WYS     62.961977\n",
      "XNA     84.253180\n",
      "YAK     36.372159\n",
      "YKM     80.697329\n",
      "YUM     48.876952\n",
      "Name: AirTime, dtype: float64\n"
     ]
    }
   ],
   "source": [
    "#Задание 5 pandas\n",
    "gr = data.groupby('Origin')\n",
    "print('Среднее время полета:')\n",
    "AvTime = gr['AirTime'].mean()\n",
    "print(AvTime)"
   ]
  },
  {
   "cell_type": "code",
   "execution_count": 40,
   "metadata": {
    "collapsed": false
   },
   "outputs": [
    {
     "name": "stdout",
     "output_type": "stream",
     "text": [
      "Наибольшее время полета у SJU = 203.850842697\n"
     ]
    }
   ],
   "source": [
    "print('Наибольшее время полета у', AvTime.sort_values(ascending = False).axes[0][0], '=', np.max(AvTime))"
   ]
  }
 ],
 "metadata": {
  "kernelspec": {
   "display_name": "Python 3",
   "language": "python",
   "name": "python3"
  },
  "language_info": {
   "codemirror_mode": {
    "name": "ipython",
    "version": 3
   },
   "file_extension": ".py",
   "mimetype": "text/x-python",
   "name": "python",
   "nbconvert_exporter": "python",
   "pygments_lexer": "ipython3",
   "version": "3.5.1"
  }
 },
 "nbformat": 4,
 "nbformat_minor": 0
}
