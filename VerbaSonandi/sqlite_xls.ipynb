{
 "cells": [
  {
   "cell_type": "code",
   "execution_count": 1,
   "metadata": {
    "collapsed": true
   },
   "outputs": [],
   "source": [
    "import pandas as pd\n",
    "import numpy as np\n",
    "from collections import defaultdict\n",
    "import sqlite3"
   ]
  },
  {
   "cell_type": "code",
   "execution_count": 28,
   "metadata": {
    "collapsed": false
   },
   "outputs": [],
   "source": [
    "xl = pd.ExcelFile(\"Base serbe_02.10.2017.xlsx\")"
   ]
  },
  {
   "cell_type": "code",
   "execution_count": 29,
   "metadata": {
    "collapsed": false
   },
   "outputs": [
    {
     "data": {
      "text/plain": [
       "['Feuil1']"
      ]
     },
     "execution_count": 29,
     "metadata": {},
     "output_type": "execute_result"
    }
   ],
   "source": [
    "xl.sheet_names"
   ]
  },
  {
   "cell_type": "code",
   "execution_count": 30,
   "metadata": {
    "collapsed": true
   },
   "outputs": [],
   "source": [
    "df = xl.parse(\"Feuil1\")"
   ]
  },
  {
   "cell_type": "code",
   "execution_count": 5,
   "metadata": {
    "collapsed": true
   },
   "outputs": [],
   "source": [
    "conn = sqlite3.connect(\"animals_db.db\")\n",
    "fr_anim = pd.read_sql_query(\"select * from Animals;\", conn)\n",
    "fr_v = pd.read_sql_query(\"select * from Sounds;\", conn)"
   ]
  },
  {
   "cell_type": "code",
   "execution_count": 6,
   "metadata": {
    "collapsed": false
   },
   "outputs": [
    {
     "data": {
      "text/html": [
       "<div>\n",
       "<table border=\"1\" class=\"dataframe\">\n",
       "  <thead>\n",
       "    <tr style=\"text-align: right;\">\n",
       "      <th></th>\n",
       "      <th>n°</th>\n",
       "      <th>Nom de l’animal</th>\n",
       "      <th>Nom de l'animal en serbe</th>\n",
       "      <th>verbe à l'infinitif en (votre langue)</th>\n",
       "      <th>Autres animaux associés au verbe</th>\n",
       "      <th>Possibilités de traduction en français</th>\n",
       "      <th>Commentaire à la traduction</th>\n",
       "      <th>exemple d'emploi primaire</th>\n",
       "      <th>Traduction de l’exemple (en français)</th>\n",
       "      <th>Traduction de l'example (en russe)</th>\n",
       "      <th>...</th>\n",
       "      <th>Commentaires</th>\n",
       "      <th>Тэг</th>\n",
       "      <th>Possibilité de traduction d’emploi métaphorique en français</th>\n",
       "      <th>Hyper-catégorie de l'émetteur</th>\n",
       "      <th>Emetteur</th>\n",
       "      <th>exemple d'emploi métaphorique</th>\n",
       "      <th>Traduction de l’exemple (en français).1</th>\n",
       "      <th>Traduction du verbe en français à l'infinitif</th>\n",
       "      <th>Traduction de l'example (en russe).1</th>\n",
       "      <th>Construction d’emploi métaphorique</th>\n",
       "    </tr>\n",
       "  </thead>\n",
       "  <tbody>\n",
       "    <tr>\n",
       "      <th>0</th>\n",
       "      <td>11.0</td>\n",
       "      <td>chèvre</td>\n",
       "      <td>koza</td>\n",
       "      <td>beketati &gt;  bekeće</td>\n",
       "      <td>NaN</td>\n",
       "      <td>bêler</td>\n",
       "      <td>NaN</td>\n",
       "      <td>Na litici strmoj &lt;koza&gt; $bekeće$. [http://www....</td>\n",
       "      <td>&lt;La chèvre&gt; $bêle$ sur une falaise abrupte.</td>\n",
       "      <td>На крутой горе $блеет$ &lt;коза&gt;.</td>\n",
       "      <td>...</td>\n",
       "      <td>NaN</td>\n",
       "      <td>человек; пение; фальшивое пение</td>\n",
       "      <td>chanter faux</td>\n",
       "      <td>NaN</td>\n",
       "      <td>ljudi (oni) &gt; gens (ils</td>\n",
       "      <td>&lt;Većina&gt; onih kojima se ti diviš uglavnom meke...</td>\n",
       "      <td>&lt;La plupart&gt; de ceux que tu admires $chantent ...</td>\n",
       "      <td>chanter faux</td>\n",
       "      <td>Большинство тех, кем ты восхищаешь, поют плохо.</td>\n",
       "      <td>X V</td>\n",
       "    </tr>\n",
       "    <tr>\n",
       "      <th>1</th>\n",
       "      <td>6.0</td>\n",
       "      <td>brebis</td>\n",
       "      <td>ovca</td>\n",
       "      <td>blejati &gt; bleji</td>\n",
       "      <td>chèvre &gt; koza; mouton &gt; ovca</td>\n",
       "      <td>bêler, pousser un bêlement</td>\n",
       "      <td>NaN</td>\n",
       "      <td>Mi spremamo makaze za &lt;ovce&gt; dok one $bleju$. ...</td>\n",
       "      <td>Nous préparons les cisailles pour tondre &lt;les ...</td>\n",
       "      <td>Мы готовим ножницы, чтобы стричь &lt;овец&gt;, а они...</td>\n",
       "      <td>...</td>\n",
       "      <td>NaN</td>\n",
       "      <td>человек; не звуки; пристальный взгляд</td>\n",
       "      <td>fixer quelqu'un ou quelque chose du regard, re...</td>\n",
       "      <td>NaN</td>\n",
       "      <td>on &gt; il (être vivant\\n</td>\n",
       "      <td>&lt;On&gt; $bleji$ u mene kao idiot. [http://forum.s...</td>\n",
       "      <td>&lt;Il&gt; me $fixe constamment$ comme un idiot.</td>\n",
       "      <td>fixer constamment</td>\n",
       "      <td>Он уставился (вылупился) на меня как идиот.</td>\n",
       "      <td>X V sur Z</td>\n",
       "    </tr>\n",
       "    <tr>\n",
       "      <th>2</th>\n",
       "      <td>6.0</td>\n",
       "      <td>brebis</td>\n",
       "      <td>ovca</td>\n",
       "      <td>blejati &gt; bleji</td>\n",
       "      <td>chèvre &gt; koza; mouton &gt; ovca</td>\n",
       "      <td>bêler, pousser un bêlement</td>\n",
       "      <td>NaN</td>\n",
       "      <td>NaN</td>\n",
       "      <td>NaN</td>\n",
       "      <td>NaN</td>\n",
       "      <td>...</td>\n",
       "      <td>NaN</td>\n",
       "      <td>человек; не звуки; терять время</td>\n",
       "      <td>perdre son temps, gâcher un temps précieux que...</td>\n",
       "      <td>NaN</td>\n",
       "      <td>mi &gt; nous (êtres vivants\\n</td>\n",
       "      <td>Ne isplati se više kod Markove $blejati$ zbog ...</td>\n",
       "      <td>Cela ne vaut plus la peine de $traîner$ au mar...</td>\n",
       "      <td>traîner</td>\n",
       "      <td>Не стоит тратить время на рынок у церкви Сан-М...</td>\n",
       "      <td>X V C</td>\n",
       "    </tr>\n",
       "    <tr>\n",
       "      <th>3</th>\n",
       "      <td>1.0</td>\n",
       "      <td>abeille</td>\n",
       "      <td>pčela</td>\n",
       "      <td>brujati &gt; bruji (sg), bruje (pl)</td>\n",
       "      <td>insectes &gt; insekti</td>\n",
       "      <td>bourdonner</td>\n",
       "      <td>NaN</td>\n",
       "      <td>&lt;Pčele&gt; $bruje$, obilaze voće, sišu slatki sok...</td>\n",
       "      <td>&lt;Les abeilles&gt; $bourdonnent$ en butinant de fl...</td>\n",
       "      <td>&lt;Пчелы&gt; $жужжат$, перелетая от цветка к цветку...</td>\n",
       "      <td>...</td>\n",
       "      <td>NaN</td>\n",
       "      <td>природа; ветер</td>\n",
       "      <td>bruit du vent (souffler en émettant un bruit f...</td>\n",
       "      <td>NaN</td>\n",
       "      <td>vetar &gt; vent</td>\n",
       "      <td>Vetar bruji. [http://songoh.com/mp3/tu-no-veta...</td>\n",
       "      <td>Le vent souffle.</td>\n",
       "      <td>souffler</td>\n",
       "      <td>Ветер воет.</td>\n",
       "      <td>X V</td>\n",
       "    </tr>\n",
       "    <tr>\n",
       "      <th>4</th>\n",
       "      <td>1.0</td>\n",
       "      <td>abeille</td>\n",
       "      <td>pčela</td>\n",
       "      <td>brujati &gt; bruji (sg), bruje (pl)</td>\n",
       "      <td>insectes &gt; insekti</td>\n",
       "      <td>bourdonner</td>\n",
       "      <td>NaN</td>\n",
       "      <td>NaN</td>\n",
       "      <td>NaN</td>\n",
       "      <td>NaN</td>\n",
       "      <td>...</td>\n",
       "      <td>NaN</td>\n",
       "      <td>Человек; шум в голове</td>\n",
       "      <td>sensation localisée de malaise ou d'inconfort ...</td>\n",
       "      <td>NaN</td>\n",
       "      <td>glava &gt; tête</td>\n",
       "      <td>Mučne misli mi bruje u glavi: Hoću li imati do...</td>\n",
       "      <td>Les pensées angoissantes tournaient (litt. ‘vr...</td>\n",
       "      <td>tourner // avoir le bourdonnement</td>\n",
       "      <td>Мучительные мысли роились в моей голове: Будет...</td>\n",
       "      <td>X V Loc // X V loc</td>\n",
       "    </tr>\n",
       "    <tr>\n",
       "      <th>5</th>\n",
       "      <td>1.0</td>\n",
       "      <td>abeille</td>\n",
       "      <td>pčela</td>\n",
       "      <td>brujati &gt; bruji (sg), bruje (pl)</td>\n",
       "      <td>insectes &gt; insekti</td>\n",
       "      <td>bourdonner</td>\n",
       "      <td>NaN</td>\n",
       "      <td>NaN</td>\n",
       "      <td>NaN</td>\n",
       "      <td>NaN</td>\n",
       "      <td>...</td>\n",
       "      <td>NaN</td>\n",
       "      <td>множественный субъект; шум толпы</td>\n",
       "      <td>faire parler de quelqu'un, de quelque chose; p...</td>\n",
       "      <td>NaN</td>\n",
       "      <td>internet &gt; Internet</td>\n",
       "      <td>Celi internet bruji zbog njene fotografije.[h...</td>\n",
       "      <td>Tout Internet fait le buzz à cause de sa photo...</td>\n",
       "      <td>faire le buzz</td>\n",
       "      <td>Из-за этой фотографии шумит весь интернет.</td>\n",
       "      <td>X V C</td>\n",
       "    </tr>\n",
       "  </tbody>\n",
       "</table>\n",
       "<p>6 rows × 21 columns</p>\n",
       "</div>"
      ],
      "text/plain": [
       "     n° Nom de l’animal Nom de l'animal en serbe  \\\n",
       "0  11.0          chèvre                     koza   \n",
       "1   6.0          brebis                     ovca   \n",
       "2   6.0          brebis                     ovca   \n",
       "3   1.0         abeille                    pčela   \n",
       "4   1.0         abeille                    pčela   \n",
       "5   1.0         abeille                    pčela   \n",
       "\n",
       "  verbe à l'infinitif en (votre langue) Autres animaux associés au verbe  \\\n",
       "0                    beketati >  bekeće                              NaN   \n",
       "1                       blejati > bleji     chèvre > koza; mouton > ovca   \n",
       "2                       blejati > bleji     chèvre > koza; mouton > ovca   \n",
       "3      brujati > bruji (sg), bruje (pl)               insectes > insekti   \n",
       "4      brujati > bruji (sg), bruje (pl)               insectes > insekti   \n",
       "5      brujati > bruji (sg), bruje (pl)               insectes > insekti   \n",
       "\n",
       "  Possibilités de traduction en français Commentaire à la traduction  \\\n",
       "0                                  bêler                         NaN   \n",
       "1            bêler, pousser un bêlement                          NaN   \n",
       "2            bêler, pousser un bêlement                          NaN   \n",
       "3                             bourdonner                         NaN   \n",
       "4                             bourdonner                         NaN   \n",
       "5                             bourdonner                         NaN   \n",
       "\n",
       "                           exemple d'emploi primaire  \\\n",
       "0  Na litici strmoj <koza> $bekeće$. [http://www....   \n",
       "1  Mi spremamo makaze za <ovce> dok one $bleju$. ...   \n",
       "2                                                NaN   \n",
       "3  <Pčele> $bruje$, obilaze voće, sišu slatki sok...   \n",
       "4                                                NaN   \n",
       "5                                                NaN   \n",
       "\n",
       "               Traduction de l’exemple (en français)  \\\n",
       "0       <La chèvre> $bêle$ sur une falaise abrupte.    \n",
       "1  Nous préparons les cisailles pour tondre <les ...   \n",
       "2                                                NaN   \n",
       "3  <Les abeilles> $bourdonnent$ en butinant de fl...   \n",
       "4                                                NaN   \n",
       "5                                                NaN   \n",
       "\n",
       "                  Traduction de l'example (en russe)  \\\n",
       "0                     На крутой горе $блеет$ <коза>.   \n",
       "1  Мы готовим ножницы, чтобы стричь <овец>, а они...   \n",
       "2                                                NaN   \n",
       "3  <Пчелы> $жужжат$, перелетая от цветка к цветку...   \n",
       "4                                                NaN   \n",
       "5                                                NaN   \n",
       "\n",
       "                 ...                 Commentaires  \\\n",
       "0                ...                          NaN   \n",
       "1                ...                          NaN   \n",
       "2                ...                          NaN   \n",
       "3                ...                          NaN   \n",
       "4                ...                          NaN   \n",
       "5                ...                          NaN   \n",
       "\n",
       "                                     Тэг  \\\n",
       "0        человек; пение; фальшивое пение   \n",
       "1  человек; не звуки; пристальный взгляд   \n",
       "2        человек; не звуки; терять время   \n",
       "3                         природа; ветер   \n",
       "4                  Человек; шум в голове   \n",
       "5       множественный субъект; шум толпы   \n",
       "\n",
       "  Possibilité de traduction d’emploi métaphorique en français  \\\n",
       "0                                       chanter faux            \n",
       "1  fixer quelqu'un ou quelque chose du regard, re...            \n",
       "2  perdre son temps, gâcher un temps précieux que...            \n",
       "3  bruit du vent (souffler en émettant un bruit f...            \n",
       "4  sensation localisée de malaise ou d'inconfort ...            \n",
       "5  faire parler de quelqu'un, de quelque chose; p...            \n",
       "\n",
       "  Hyper-catégorie de l'émetteur                    Emetteur  \\\n",
       "0                           NaN     ljudi (oni) > gens (ils   \n",
       "1                           NaN      on > il (être vivant\\n   \n",
       "2                           NaN  mi > nous (êtres vivants\\n   \n",
       "3                           NaN               vetar > vent    \n",
       "4                           NaN                glava > tête   \n",
       "5                           NaN         internet > Internet   \n",
       "\n",
       "                       exemple d'emploi métaphorique  \\\n",
       "0  <Većina> onih kojima se ti diviš uglavnom meke...   \n",
       "1  <On> $bleji$ u mene kao idiot. [http://forum.s...   \n",
       "2  Ne isplati se više kod Markove $blejati$ zbog ...   \n",
       "3  Vetar bruji. [http://songoh.com/mp3/tu-no-veta...   \n",
       "4  Mučne misli mi bruje u glavi: Hoću li imati do...   \n",
       "5   Celi internet bruji zbog njene fotografije.[h...   \n",
       "\n",
       "             Traduction de l’exemple (en français).1  \\\n",
       "0  <La plupart> de ceux que tu admires $chantent ...   \n",
       "1         <Il> me $fixe constamment$ comme un idiot.   \n",
       "2  Cela ne vaut plus la peine de $traîner$ au mar...   \n",
       "3                                  Le vent souffle.    \n",
       "4  Les pensées angoissantes tournaient (litt. ‘vr...   \n",
       "5  Tout Internet fait le buzz à cause de sa photo...   \n",
       "\n",
       "  Traduction du verbe en français à l'infinitif  \\\n",
       "0                                  chanter faux   \n",
       "1                             fixer constamment   \n",
       "2                                       traîner   \n",
       "3                                      souffler   \n",
       "4             tourner // avoir le bourdonnement   \n",
       "5                                 faire le buzz   \n",
       "\n",
       "                Traduction de l'example (en russe).1  \\\n",
       "0    Большинство тех, кем ты восхищаешь, поют плохо.   \n",
       "1        Он уставился (вылупился) на меня как идиот.   \n",
       "2  Не стоит тратить время на рынок у церкви Сан-М...   \n",
       "3                                        Ветер воет.   \n",
       "4  Мучительные мысли роились в моей голове: Будет...   \n",
       "5         Из-за этой фотографии шумит весь интернет.   \n",
       "\n",
       "  Construction d’emploi métaphorique  \n",
       "0                               X V   \n",
       "1                          X V sur Z  \n",
       "2                              X V C  \n",
       "3                               X V   \n",
       "4                 X V Loc // X V loc  \n",
       "5                             X V C   \n",
       "\n",
       "[6 rows x 21 columns]"
      ]
     },
     "execution_count": 6,
     "metadata": {},
     "output_type": "execute_result"
    }
   ],
   "source": [
    "df.head(6)"
   ]
  },
  {
   "cell_type": "code",
   "execution_count": 7,
   "metadata": {
    "collapsed": false
   },
   "outputs": [
    {
     "data": {
      "text/plain": [
       "array(['n°', 'Nom\\xa0de l’animal', \"Nom de l'animal en serbe\",\n",
       "       \"verbe à l'infinitif en (votre langue)\",\n",
       "       'Autres animaux associés au verbe',\n",
       "       'Possibilités de traduction en français',\n",
       "       'Commentaire à la traduction', \"exemple d'emploi primaire\",\n",
       "       'Traduction de l’exemple (en français)',\n",
       "       \"Traduction de l'example (en russe)\", 'construction',\n",
       "       'Commentaires', 'Тэг',\n",
       "       'Possibilité de traduction d’emploi métaphorique en français',\n",
       "       \"Hyper-catégorie de l'émetteur\", 'Emetteur',\n",
       "       \"exemple d'emploi métaphorique\",\n",
       "       'Traduction de l’exemple (en français).1',\n",
       "       \"Traduction du verbe en français à l'infinitif\",\n",
       "       \"Traduction de l'example (en russe).1\",\n",
       "       'Construction d’emploi métaphorique'], dtype=object)"
      ]
     },
     "execution_count": 7,
     "metadata": {},
     "output_type": "execute_result"
    }
   ],
   "source": [
    "df.columns.values"
   ]
  },
  {
   "cell_type": "code",
   "execution_count": 31,
   "metadata": {
    "collapsed": false
   },
   "outputs": [],
   "source": [
    "example_serbe = pd.DataFrame(columns=['infin_id', 'subject', 'example', 'rus'])\n",
    "\n",
    "for i in range(len(df)):\n",
    "    example = df[\"exemple d'emploi métaphorique\"][i]\n",
    "    verb = df[\"verbe à l'infinitif en (votre langue)\"][i].split(' > ')[0]\n",
    "    subject = df[\"Nom de l'animal en serbe\"][i]\n",
    "    rus = df[\"Traduction de l'example (en russe).1\"][i]\n",
    "    example_serbe.loc[i] = [verb.strip(), subject, example, rus]"
   ]
  },
  {
   "cell_type": "code",
   "execution_count": 223,
   "metadata": {
    "collapsed": true
   },
   "outputs": [],
   "source": [
    "example_serbe = pd.DataFrame(columns=['infin_id', 'subject', 'subj_fr', 'example', 'fr'])\n",
    "\n",
    "for i in range(len(df)):\n",
    "    example = df[\"exemple d'emploi métaphorique\"][i]\n",
    "    verb = df[\"verbe à l'infinitif en (votre langue)\"][i].split(' > ')[0]\n",
    "    try:\n",
    "        subject, subj_fr = df[\"Emetteur\"][i].split(' > ')\n",
    "        subject = subject.split(' (')[0]\n",
    "        subj_fr = subj_fr.split(' (')[0]\n",
    "    except:\n",
    "        subject = df[\"Emetteur\"][i]\n",
    "        subj_fr = df[\"Emetteur\"][i]\n",
    "    fr = df[\"Traduction de l’exemple (en français).1\"][i]\n",
    "    example_serbe.loc[i] = [verb.strip(), subject, subj_fr, example, fr]"
   ]
  },
  {
   "cell_type": "code",
   "execution_count": 222,
   "metadata": {
    "collapsed": false
   },
   "outputs": [
    {
     "data": {
      "text/plain": [
       "56"
      ]
     },
     "execution_count": 222,
     "metadata": {},
     "output_type": "execute_result"
    }
   ],
   "source": [
    "len(example_serbe)"
   ]
  },
  {
   "cell_type": "code",
   "execution_count": 32,
   "metadata": {
    "collapsed": false
   },
   "outputs": [],
   "source": [
    "example_serbe = example_serbe.dropna()\n",
    "example_serbe = example_serbe.reset_index(drop=True)"
   ]
  },
  {
   "cell_type": "code",
   "execution_count": 33,
   "metadata": {
    "collapsed": false
   },
   "outputs": [
    {
     "data": {
      "text/html": [
       "<div>\n",
       "<table border=\"1\" class=\"dataframe\">\n",
       "  <thead>\n",
       "    <tr style=\"text-align: right;\">\n",
       "      <th></th>\n",
       "      <th>infin_id</th>\n",
       "      <th>subject</th>\n",
       "      <th>example</th>\n",
       "      <th>rus</th>\n",
       "    </tr>\n",
       "  </thead>\n",
       "  <tbody>\n",
       "    <tr>\n",
       "      <th>0</th>\n",
       "      <td>beketati</td>\n",
       "      <td>koza</td>\n",
       "      <td>&lt;Većina&gt; onih kojima se ti diviš uglavnom meke...</td>\n",
       "      <td>&lt;Большинство&gt; тех, кем ты восхищаешь, $поют$ п...</td>\n",
       "    </tr>\n",
       "    <tr>\n",
       "      <th>1</th>\n",
       "      <td>blejati</td>\n",
       "      <td>ovca</td>\n",
       "      <td>&lt;On&gt; $bleji$ u mene kao idiot. [http://forum.s...</td>\n",
       "      <td>&lt;Он&gt; $уставился (вылупился)$ на меня как идиот.</td>\n",
       "    </tr>\n",
       "    <tr>\n",
       "      <th>2</th>\n",
       "      <td>blejati</td>\n",
       "      <td>ovca</td>\n",
       "      <td>Ne isplati se više kod Markove $blejati$ zbog ...</td>\n",
       "      <td>Не стоит $тратить время$ на рынок у церкви Сан...</td>\n",
       "    </tr>\n",
       "    <tr>\n",
       "      <th>3</th>\n",
       "      <td>brujati</td>\n",
       "      <td>pčela</td>\n",
       "      <td>&lt;Vetar&gt; $bruji$. [http://songoh.com/mp3/tu-no-...</td>\n",
       "      <td>&lt;Ветер&gt; $воет$.</td>\n",
       "    </tr>\n",
       "    <tr>\n",
       "      <th>4</th>\n",
       "      <td>brujati</td>\n",
       "      <td>pčela</td>\n",
       "      <td>&lt;Mučne misli&gt; mi $bruje$ u glavi: Hoću li imat...</td>\n",
       "      <td>Мучительные &lt;мысли&gt; $роились$ в моей голове: Б...</td>\n",
       "    </tr>\n",
       "  </tbody>\n",
       "</table>\n",
       "</div>"
      ],
      "text/plain": [
       "   infin_id subject                                            example  \\\n",
       "0  beketati    koza  <Većina> onih kojima se ti diviš uglavnom meke...   \n",
       "1   blejati    ovca  <On> $bleji$ u mene kao idiot. [http://forum.s...   \n",
       "2   blejati    ovca  Ne isplati se više kod Markove $blejati$ zbog ...   \n",
       "3   brujati   pčela  <Vetar> $bruji$. [http://songoh.com/mp3/tu-no-...   \n",
       "4   brujati   pčela  <Mučne misli> mi $bruje$ u glavi: Hoću li imat...   \n",
       "\n",
       "                                                 rus  \n",
       "0  <Большинство> тех, кем ты восхищаешь, $поют$ п...  \n",
       "1    <Он> $уставился (вылупился)$ на меня как идиот.  \n",
       "2  Не стоит $тратить время$ на рынок у церкви Сан...  \n",
       "3                                    <Ветер> $воет$.  \n",
       "4  Мучительные <мысли> $роились$ в моей голове: Б...  "
      ]
     },
     "execution_count": 33,
     "metadata": {},
     "output_type": "execute_result"
    }
   ],
   "source": [
    "example_serbe.head()"
   ]
  },
  {
   "cell_type": "code",
   "execution_count": 34,
   "metadata": {
    "collapsed": true
   },
   "outputs": [],
   "source": [
    "verbs = pd.read_sql_query(\"select * from Verbs WHERE lang_id=2;\", conn)"
   ]
  },
  {
   "cell_type": "code",
   "execution_count": 35,
   "metadata": {
    "collapsed": true
   },
   "outputs": [],
   "source": [
    "def change(example):\n",
    "    example = example.replace(\">\", '</b></font>', 1)\n",
    "    example = example.replace(\"<\", '<font color=\"blue\"><b>', 1)\n",
    "    example = example.replace(\"$\", '<font color=\"red\"><b>', 1)\n",
    "    example = example.replace(\"$\", '</b></font>', 1)\n",
    "    example = example.replace(\"[\", '<font color=\"gray\" size=\"1\"><p align=\"right\">', 1)\n",
    "    example = example.replace(\"]\", '</font></p>', 1)\n",
    "    return example"
   ]
  },
  {
   "cell_type": "code",
   "execution_count": 36,
   "metadata": {
    "collapsed": false
   },
   "outputs": [],
   "source": [
    "for i in range(len(example_serbe)):\n",
    "    example_serbe.infin_id[i] = int(verbs[verbs.infin == example_serbe.infin_id[i]].id)\n",
    "    example = example_serbe.example[i]\n",
    "    example_serbe.example[i] = change(example)\n",
    "    rus = example_serbe.rus[i]\n",
    "    example_serbe.rus[i] = change(rus)"
   ]
  },
  {
   "cell_type": "code",
   "execution_count": 37,
   "metadata": {
    "collapsed": false
   },
   "outputs": [
    {
     "data": {
      "text/html": [
       "<div>\n",
       "<table border=\"1\" class=\"dataframe\">\n",
       "  <thead>\n",
       "    <tr style=\"text-align: right;\">\n",
       "      <th></th>\n",
       "      <th>infin_id</th>\n",
       "      <th>subject</th>\n",
       "      <th>example</th>\n",
       "      <th>rus</th>\n",
       "    </tr>\n",
       "  </thead>\n",
       "  <tbody>\n",
       "    <tr>\n",
       "      <th>0</th>\n",
       "      <td>116</td>\n",
       "      <td>koza</td>\n",
       "      <td>&lt;font color=\"blue\"&gt;&lt;b&gt;Većina&lt;/b&gt;&lt;/font&gt; onih k...</td>\n",
       "      <td>&lt;font color=\"blue\"&gt;&lt;b&gt;Большинство&lt;/b&gt;&lt;/font&gt; т...</td>\n",
       "    </tr>\n",
       "    <tr>\n",
       "      <th>1</th>\n",
       "      <td>117</td>\n",
       "      <td>ovca</td>\n",
       "      <td>&lt;font color=\"blue\"&gt;&lt;b&gt;On&lt;/b&gt;&lt;/font&gt; &lt;font colo...</td>\n",
       "      <td>&lt;font color=\"blue\"&gt;&lt;b&gt;Он&lt;/b&gt;&lt;/font&gt; &lt;font colo...</td>\n",
       "    </tr>\n",
       "    <tr>\n",
       "      <th>2</th>\n",
       "      <td>117</td>\n",
       "      <td>ovca</td>\n",
       "      <td>Ne isplati se više kod Markove &lt;font color=\"re...</td>\n",
       "      <td>Не стоит &lt;font color=\"red\"&gt;&lt;b&gt;тратить время&lt;/b...</td>\n",
       "    </tr>\n",
       "    <tr>\n",
       "      <th>3</th>\n",
       "      <td>111</td>\n",
       "      <td>pčela</td>\n",
       "      <td>&lt;font color=\"blue\"&gt;&lt;b&gt;Vetar&lt;/b&gt;&lt;/font&gt; &lt;font c...</td>\n",
       "      <td>&lt;font color=\"blue\"&gt;&lt;b&gt;Ветер&lt;/b&gt;&lt;/font&gt; &lt;font c...</td>\n",
       "    </tr>\n",
       "    <tr>\n",
       "      <th>4</th>\n",
       "      <td>111</td>\n",
       "      <td>pčela</td>\n",
       "      <td>&lt;font color=\"blue\"&gt;&lt;b&gt;Mučne misli&lt;/b&gt;&lt;/font&gt; m...</td>\n",
       "      <td>Мучительные &lt;font color=\"blue\"&gt;&lt;b&gt;мысли&lt;/b&gt;&lt;/f...</td>\n",
       "    </tr>\n",
       "  </tbody>\n",
       "</table>\n",
       "</div>"
      ],
      "text/plain": [
       "  infin_id subject                                            example  \\\n",
       "0      116    koza  <font color=\"blue\"><b>Većina</b></font> onih k...   \n",
       "1      117    ovca  <font color=\"blue\"><b>On</b></font> <font colo...   \n",
       "2      117    ovca  Ne isplati se više kod Markove <font color=\"re...   \n",
       "3      111   pčela  <font color=\"blue\"><b>Vetar</b></font> <font c...   \n",
       "4      111   pčela  <font color=\"blue\"><b>Mučne misli</b></font> m...   \n",
       "\n",
       "                                                 rus  \n",
       "0  <font color=\"blue\"><b>Большинство</b></font> т...  \n",
       "1  <font color=\"blue\"><b>Он</b></font> <font colo...  \n",
       "2  Не стоит <font color=\"red\"><b>тратить время</b...  \n",
       "3  <font color=\"blue\"><b>Ветер</b></font> <font c...  \n",
       "4  Мучительные <font color=\"blue\"><b>мысли</b></f...  "
      ]
     },
     "execution_count": 37,
     "metadata": {},
     "output_type": "execute_result"
    }
   ],
   "source": [
    "example_serbe.head()"
   ]
  },
  {
   "cell_type": "code",
   "execution_count": 229,
   "metadata": {
    "collapsed": false
   },
   "outputs": [],
   "source": [
    "# убираем уже сущ примеры\n",
    "\n",
    "example_serbe = example_serbe[~example_serbe.infin_id.isin([111, 112, 113, 114, 134])]\n",
    "example_serbe = example_serbe.reset_index(drop=True)"
   ]
  },
  {
   "cell_type": "code",
   "execution_count": 211,
   "metadata": {
    "collapsed": false
   },
   "outputs": [],
   "source": [
    "#example_serbe.example[12]"
   ]
  },
  {
   "cell_type": "code",
   "execution_count": 139,
   "metadata": {
    "collapsed": true
   },
   "outputs": [],
   "source": [
    "#example_serbe.example[12] = '<font color=\"blue\"><b>Grlica</b></font> <font color=\"red\"><b>guguče</b></font> u ladu o čempresa. [http://www.katolici.org/katekizam.php?action=c_vidi&id=10585] '"
   ]
  },
  {
   "cell_type": "code",
   "execution_count": 39,
   "metadata": {
    "collapsed": false
   },
   "outputs": [
    {
     "name": "stdout",
     "output_type": "stream",
     "text": [
      "586\n"
     ]
    }
   ],
   "source": [
    "# записываем в бд Examples_serbe\n",
    "\n",
    "ex_serbe = pd.read_sql_query(\"select * from Examples_russe;\", conn)\n",
    "\n",
    "c = conn.cursor()\n",
    "\n",
    "#index = ex_serbe['id'][len(ex_serbe)-1]\n",
    "sent = 670\n",
    "index = 586\n",
    "print(index)\n",
    "\n",
    "for i in range(len(example_serbe)):\n",
    "    index += 1\n",
    "    sent += 1\n",
    "    insert = \"REPLACE INTO Examples_russe VALUES (\"+str(index)+\",\"+str(sent)+\",\"+str(0)+\",' ',\"+str(0)+\",'\"+example_serbe.rus[i]+\"')\" \n",
    "    c.execute(insert)\n",
    "    conn.commit()"
   ]
  },
  {
   "cell_type": "code",
   "execution_count": 212,
   "metadata": {
    "collapsed": false
   },
   "outputs": [
    {
     "name": "stdout",
     "output_type": "stream",
     "text": [
      "215\n"
     ]
    },
    {
     "ename": "OperationalError",
     "evalue": "near \"čempresa\": syntax error",
     "output_type": "error",
     "traceback": [
      "\u001b[0;31m---------------------------------------------------------------------------\u001b[0m",
      "\u001b[0;31mOperationalError\u001b[0m                          Traceback (most recent call last)",
      "\u001b[0;32m<ipython-input-212-eb5a449e71aa>\u001b[0m in \u001b[0;36m<module>\u001b[0;34m()\u001b[0m\n\u001b[1;32m     11\u001b[0m     \u001b[0mindex\u001b[0m \u001b[1;33m+=\u001b[0m \u001b[1;36m1\u001b[0m\u001b[1;33m\u001b[0m\u001b[0m\n\u001b[1;32m     12\u001b[0m     \u001b[0minsert\u001b[0m \u001b[1;33m=\u001b[0m \u001b[1;34m\"REPLACE INTO Examples_serbe VALUES (\"\u001b[0m\u001b[1;33m+\u001b[0m\u001b[0mstr\u001b[0m\u001b[1;33m(\u001b[0m\u001b[0mindex\u001b[0m\u001b[1;33m)\u001b[0m\u001b[1;33m+\u001b[0m\u001b[1;34m\",\"\u001b[0m\u001b[1;33m+\u001b[0m\u001b[0mstr\u001b[0m\u001b[1;33m(\u001b[0m\u001b[0mindex\u001b[0m\u001b[1;33m)\u001b[0m\u001b[1;33m+\u001b[0m\u001b[1;34m\",\"\u001b[0m\u001b[1;33m+\u001b[0m\u001b[0mstr\u001b[0m\u001b[1;33m(\u001b[0m\u001b[0mexample_serbe\u001b[0m\u001b[1;33m.\u001b[0m\u001b[0minfin_id\u001b[0m\u001b[1;33m[\u001b[0m\u001b[0mi\u001b[0m\u001b[1;33m]\u001b[0m\u001b[1;33m)\u001b[0m\u001b[1;33m+\u001b[0m\u001b[1;34m\",'\"\u001b[0m\u001b[1;33m+\u001b[0m\u001b[0mexample_serbe\u001b[0m\u001b[1;33m.\u001b[0m\u001b[0msubject\u001b[0m\u001b[1;33m[\u001b[0m\u001b[0mi\u001b[0m\u001b[1;33m]\u001b[0m\u001b[1;33m+\u001b[0m\u001b[1;34m\"',\"\u001b[0m\u001b[1;33m+\u001b[0m\u001b[0mstr\u001b[0m\u001b[1;33m(\u001b[0m\u001b[1;36m0\u001b[0m\u001b[1;33m)\u001b[0m\u001b[1;33m+\u001b[0m\u001b[1;34m\",'\"\u001b[0m\u001b[1;33m+\u001b[0m\u001b[0mexample_serbe\u001b[0m\u001b[1;33m.\u001b[0m\u001b[0mexample\u001b[0m\u001b[1;33m[\u001b[0m\u001b[0mi\u001b[0m\u001b[1;33m]\u001b[0m\u001b[1;33m+\u001b[0m\u001b[1;34m\"')\"\u001b[0m\u001b[1;33m\u001b[0m\u001b[0m\n\u001b[0;32m---> 13\u001b[0;31m     \u001b[0mc\u001b[0m\u001b[1;33m.\u001b[0m\u001b[0mexecute\u001b[0m\u001b[1;33m(\u001b[0m\u001b[0minsert\u001b[0m\u001b[1;33m)\u001b[0m\u001b[1;33m\u001b[0m\u001b[0m\n\u001b[0m\u001b[1;32m     14\u001b[0m     \u001b[0mconn\u001b[0m\u001b[1;33m.\u001b[0m\u001b[0mcommit\u001b[0m\u001b[1;33m(\u001b[0m\u001b[1;33m)\u001b[0m\u001b[1;33m\u001b[0m\u001b[0m\n",
      "\u001b[0;31mOperationalError\u001b[0m: near \"čempresa\": syntax error"
     ]
    }
   ],
   "source": [
    "# записываем в бд Examples_serbe\n",
    "\n",
    "ex_serbe = pd.read_sql_query(\"select * from Examples_serbe;\", conn)\n",
    "\n",
    "c = conn.cursor()\n",
    "\n",
    "index = ex_serbe['id'][len(ex_serbe)-1]\n",
    "print(index)\n",
    "\n",
    "for i in range(len(example_serbe)):\n",
    "    index += 1\n",
    "    insert = \"REPLACE INTO Examples_serbe VALUES (\"+str(index)+\",\"+str(index)+\",\"+str(example_serbe.infin_id[i])+\",'\"+example_serbe.subject[i]+\"',\"+str(0)+\",'\"+example_serbe.example[i]+\"')\" \n",
    "    c.execute(insert)\n",
    "    conn.commit()"
   ]
  },
  {
   "cell_type": "code",
   "execution_count": 232,
   "metadata": {
    "collapsed": false
   },
   "outputs": [
    {
     "name": "stdout",
     "output_type": "stream",
     "text": [
      "REPLACE INTO Examples_français VALUES (147,139,0,'gens',0,'<font color=\"blue\"><b>La plupart</b></font> de ceux que tu admires <font color=\"red\"><b>chantent faux</b></font> (litt. 'bêlent'). ')\n",
      "REPLACE INTO Examples_français VALUES (150,142,0,'moto ',0,'Les 6-7 derniers jours j'ai l'impression que <font color=\"blue\"><b>ma moto</b></font> fait un bruit plus fort, elle <font color=\"red\"><b>gronde</b></font>. // Lorsque je roule à 50km par heure, derrière on entend un gros bruit. ')\n",
      "REPLACE INTO Examples_français VALUES (153,145,0,'Milica\n",
      "',0,'<font color=\"blue\"><b>Milica</b></font> a lu le message et s'est mise à <font color=\"red\"><b>crier</b></font> de joie. ')\n",
      "REPLACE INTO Examples_français VALUES (155,147,0,'viande',0,'Mettez la viande sur le feu et attendez qu'<font color=\"blue\"><b>elle</b></font> commence à <font color=\"red\"><b>grésiller</b></font>…')\n",
      "REPLACE INTO Examples_français VALUES (156,148,0,'enfant\n",
      "',0,'Quand <font color=\"blue\"><b>l'enfant</b></font> revoit sa maman absente depuis quelque temps, il peut aller vers elle, lui tendre ses bras et <font color=\"red\"><b>gazouiller</b></font> de joie, c'est-à-dire il  réagit de façon qui lui n'était pas propre auparavant. ')\n",
      "REPLACE INTO Examples_français VALUES (164,156,0,'je',0,'Tu es restée mon premier grand amour, <font color=\"blue\"><b>je</b></font> t'en ai <font color=\"red\"><b>chanté</b></font> en poésie. ')\n",
      "REPLACE INTO Examples_français VALUES (165,157,0,'océan',0,'<font color=\"blue\"><b>L'océan</b></font> <font color=\"red\"><b>se déchaîne</b></font>.')\n",
      "REPLACE INTO Examples_français VALUES (167,159,0,'bébés',0,'<font color=\"blue\"><b>Les bébés</b></font> m'entendent, se réjouissent, frôlent mes mains et <font color=\"red\"><b>sourient</b></font> drôlement. ')\n",
      "REPLACE INTO Examples_français VALUES (169,161,0,'mlin > moulin / ventil > valve\n",
      "',0,'<font color=\"blue\"><b>Le moulin</b></font> <font color=\"red\"><b>fonctionne bien</b></font> (litt. '$fait clic-clic$'), mais il n'y a pas de farine. //  <La valve hydrolique> $fait du bruit$ parce qu'il y a une fuite d'huile. ')\n",
      "REPLACE INTO Examples_français VALUES (171,163,0,'il',0,' Quand il a vu que j'avais ouvert les yeux, <font color=\"blue\"><b>il</b></font> s'est mis à <font color=\"red\"><b>chanter</b></font> de gratitude et de joie, ce qui provoquaient le rire et des larmes en même temps. ')\n",
      "REPLACE INTO Examples_français VALUES (172,164,0,'elle',0,'<font color=\"blue\"><b>Elle</b></font> este ici pour m'ennuyer, me <font color=\"red\"><b>fait un trou dans la tête avec ses remarques</b></font> et me rend folle.')\n",
      "REPLACE INTO Examples_français VALUES (175,167,0,'chanteuses',0,'Brena et JK sont connues pour leurs capacités vocales hors norme, c'est-à-dire <font color=\"blue\"><b>toutes les deux</b></font> <font color=\"red\"><b>chantent mal</b></font>. // Dieu merci, je ne suis pas obligé d'écouter <ce chant> (litt. coassement). ')\n",
      "REPLACE INTO Examples_français VALUES (176,168,0,'tu',0,'<font color=\"blue\"><b>Tu</b></font> as <font color=\"red\"><b>chanté faux</b></font>, plus personne ne voudra t'écouter de nouveau. ')\n",
      "REPLACE INTO Examples_français VALUES (177,169,0,'haut-parleurs',0,'Ce que tu as entendu, c'est un commutateur défaillant, normalement <font color=\"blue\"><b>les haut-parleurs</b></font> ne <font color=\"red\"><b>gresillent</b></font> pas. ')\n",
      "REPLACE INTO Examples_français VALUES (178,170,0,'ona > elle / žrtva > victime / beba > bébé',0,'<font color=\"blue\"><b>Elle</b></font> n'aime pas rester dans la poussette, après quelques minutes elle a commencé à <font color=\"red\"><b>crier</b></font> et à s'agiter. // Lors de la présentation du démon, le visage d'homme change, devint anormal et <la victime> peut crier, $hurler$. // On nous a dit que <le bébé> serait un monstre, qu'il ne ferait que $crier$ et rester couché. ')\n",
      "REPLACE INTO Examples_français VALUES (179,171,0,'devojka > copine; ona > elle;  ona > elle; ja > je;  Cvetković > Cvetkovic',0,'<font color=\"blue\"><b>Ma copine</b></font> <font color=\"red\"><b>se plaint</b></font> toujours en pensant être trop grosse. // <Il> commençait à pleurer et à $gémir$ pendant que les vagues portaient la balle toujours plus loin. // <Elle> est venue $se plaindre$ à moi. // <Je> $me plains$ à tout le monde de l'humidité apparue... // <Tsvetkovic> $se plaint$ à cause de la chaleur. ')\n",
      "REPLACE INTO Examples_français VALUES (182,174,0,'svekrva > belle-mère; ti > tu; muževi > hommes',0,' <font color=\"blue\"><b>Ma belle-mère</b></font> me déteste, elle <font color=\"red\"><b>est tout le temps sur mon dos</b></font>, entre dans mon appartement sans y être invitée. - Alors, toi aussi, <tu> n'as qu'à l'$embêter$! //  Ma femme m’$embête$ (‘caquète’) tout le temps.  // Il y a <des hommes> qui $se plaignent$ de tout à leurs femmes. ')\n",
      "REPLACE INTO Examples_français VALUES (184,176,0,'ventre\n",
      "',0,'J’ai quelque chose qui me tire sous la côte gauche, comme s'il bougeait, et sans cesse me <font color=\"red\"><b>lance</b></font> dans <font color=\"blue\"><b>le ventre</b></font>. ')\n",
      "REPLACE INTO Examples_français VALUES (185,177,0,'tu',0,'Et si par hasard tu <font color=\"blue\"><b>tu</b></font> n'es pas content, ne <font color=\"red\"><b>critique</b></font> pas le système americain, mais change d'abord toi-même. // Je $hurle$ justement à cause de mon village. ')\n",
      "REPLACE INTO Examples_français VALUES (188,180,0,'je',0,'Alors moi, pour ne pas échouer et ne pas perdre la face, je me mets à parler ainsi, c'est alors que l'enseignante commence à désespérer, tous composent déjà des syllabes, et moi, <font color=\"blue\"><b>je</b></font> ne fais qu' <font color=\"red\"><b>ânonner</b></font> (litt.'beugler').')\n",
      "REPLACE INTO Examples_français VALUES (189,181,0,'ivrognes',0,'J'ai rencontré <font color=\"blue\"><b>des ivrognes</b></font>, ils <font color=\"red\"><b>mâchaient les mots</b></font>, on n'y comprenait rien mais ils se comprenaient entre eux. ')\n",
      "REPLACE INTO Examples_français VALUES (191,183,0,'alarme',0,'<font color=\"blue\"><b>L'alarme</b></font> <font color=\"red\"><b>hurle</b></font> en signalant que la batterie est presque vide.')\n",
      "REPLACE INTO Examples_français VALUES (192,184,0,'je',0,'Pour le Nouvel An, j'ai bien graissé les moustaches, j'ai mangé comme il fallait, et maintenant <font color=\"blue\"><b>je</b></font> <font color=\"red\"><b>suis heureux</b></font>. ')\n",
      "REPLACE INTO Examples_français VALUES (194,186,0,'nous',0,'Ce qui compte, c'est de ne pas tirer la fumée du narguilé mais de <font color=\"red\"><b>faire d'épais ronds de fumée</b></font>. ')\n",
      "REPLACE INTO Examples_français VALUES (195,187,0,'marmite',0,'Devant la maison, bout sur le feu une marmite en glaise. <font color=\"blue\"><b>Le chou et les morceaux de porc</b></font> <font color=\"red\"><b>mijotent</b></font> là-dedans depuis l'aube.')\n",
      "REPLACE INTO Examples_français VALUES (197,189,0,'océan',0,'<font color=\"blue\"><b>L'océan</b></font> se déchaîne et <font color=\"red\"><b>hurle</b></font>, comme s'il tonnait. ')\n",
      "REPLACE INTO Examples_français VALUES (198,190,0,'chanteuse Vendi',0,'Vendi ne sait pas chanter, <font color=\"blue\"><b>elle</b></font> <font color=\"red\"><b>chante faux</b></font> (litt. 'mugit').')\n",
      "REPLACE INTO Examples_français VALUES (201,193,0,'vent ',0,'<font color=\"blue\"><b>Le vent sec</b></font> <font color=\"red\"><b>souffle</b></font> en sifflant entre l'herbe.')\n",
      "REPLACE INTO Examples_français VALUES (202,194,0,'elle',0,'Est-ce que tu dois toujours faire le contraire de ce que je te dis? - <font color=\"red\"><b>dit <font color=\"blue\"><b>elle</b></font> entre les dents</b></font> en s'adressant à lui. ')\n",
      "REPLACE INTO Examples_français VALUES (205,197,0,'eau',0,'Il s'agit d'une source dont <font color=\"blue\"><b>l'eau</b></font> jaillit sous pression et <font color=\"red\"><b>siffle</b></font>.')\n",
      "REPLACE INTO Examples_français VALUES (207,199,0,'véhicule à 3 roue',0,'La plus grande valeur de <font color=\"blue\"><b>ce vehicule à 3 roues</b></font> est un moteur léger qui possède un son caractéristique.  - <Il> <font color=\"red\"><b>fait le même bruit qu'une mitrailette</b></font>.  ')\n",
      "REPLACE INTO Examples_français VALUES (208,200,0,'autobus',0,'Depêche-toi car <font color=\"blue\"><b>l'autobus</b></font> <font color=\"red\"><b>claxonne</b></font> déjà. ')\n",
      "REPLACE INTO Examples_français VALUES (209,201,0,'il  \n",
      "',0,'Il a fallu qu' <font color=\"blue\"><b>il</b></font> agisse au lieu de ne faire qu'en <font color=\"red\"><b>parler partout</b></font>. // Attends en peu. N'était-ce pas, en fait, un milliard et deux cent euros que nous ont $promis$ <SNS et Mihajlovic>?! ')\n",
      "REPLACE INTO Examples_français VALUES (210,202,0,'ja > je / oni (muškarci) > ils (gens) ',0,'<font color=\"blue\"><b>Je</b></font> <font color=\"red\"><b>hurle</b></font> sur Damien pour qu’il me dise ce qui se passe. // Ce n'était jamais clair pour moi, le comportement de <ces gens> qui $hurlent$ les uns sur les autres. //  <Le public> $hurlait$ de plaisir. ')\n",
      "REPLACE INTO Examples_français VALUES (213,205,0,'bébé',0,' Il n'y a rien de pire qu'<font color=\"blue\"><b>un bébé</b></font> qui <font color=\"red\"><b>hurle</b></font> pendant des heures.   ')\n",
      "REPLACE INTO Examples_français VALUES (217,209,0,'soliste',0,'<font color=\"blue\"><b>Le soliste</b></font> <font color=\"red\"><b>hurle</b></font> en essayant d'atteindre la hauteur souhaitée.')\n",
      "REPLACE INTO Examples_français VALUES (218,210,0,'il',0,'Le même jour, après l'intervention chirurgicale, <font color=\"blue\"><b>il</b></font> a mangé et a arrêté de <font color=\"red\"><b>hurler</b></font> de douleur. ')\n",
      "REPLACE INTO Examples_français VALUES (220,212,0,'grenade',0,'J'entends <font color=\"blue\"><b>une grenade</b></font> <font color=\"red\"><b>siffler</b></font>. ')\n"
     ]
    }
   ],
   "source": [
    "# записываем в бд Examples_français\n",
    "\n",
    "ex_fr = pd.read_sql_query(\"select * from Examples_français;\", conn)\n",
    "\n",
    "c = conn.cursor()\n",
    "\n",
    "#index = ex_fr['id'][len(ex_fr)-1]\n",
    "#print(index)\n",
    "sent = 138\n",
    "index = 146\n",
    "\n",
    "for i in range(len(example_serbe)):\n",
    "    index += 1\n",
    "    sent += 1\n",
    "    insert = \"REPLACE INTO Examples_français VALUES (\"+str(index)+\",\"+str(sent)+\",\"+str(0)+\",'\"+example_serbe.subj_fr[i]+\"',\"+str(0)+\",'\"+example_serbe.fr[i]+\"')\" \n",
    "    try:\n",
    "        c.execute(insert)\n",
    "    except:\n",
    "        print(insert)\n",
    "        insert = \"REPLACE INTO Examples_français VALUES (\"+str(index)+\",\"+str(sent)+\",\"+str(0)+\",'\"+example_serbe.subj_fr[i]+\"',\"+str(0)+\",'\"+''+\"')\" \n",
    "        c.execute(insert)\n",
    "    conn.commit()"
   ]
  },
  {
   "cell_type": "code",
   "execution_count": 214,
   "metadata": {
    "collapsed": false
   },
   "outputs": [
    {
     "name": "stdout",
     "output_type": "stream",
     "text": [
      "REPLACE INTO Examples_français VALUES (99,91,0,'',0,'Nous préparons les cisailles pour tondre <font color=\"blue\"><b>les brebis</b></font> tandis qu'elles <font color=\"red\"><b>bêlent</b></font>. ')\n",
      "REPLACE INTO Examples_français VALUES (103,95,0,'',0,'J'entends <font color=\"blue\"><b>une souris</b></font> qui <font color=\"red\"><b>chicote</b></font> dans la cave. ')\n",
      "REPLACE INTO Examples_français VALUES (104,96,0,'',0,'Dans l'herbe, <font color=\"red\"><b>stridule</b></font> <font color=\"blue\"><b>une cigale</b></font>. ')\n",
      "REPLACE INTO Examples_français VALUES (105,97,0,'',0,'<font color=\"blue\"><b>Les grillons</b></font> <font color=\"red\"><b>chantent</b></font> tristement dans l'herbe.')\n",
      "REPLACE INTO Examples_français VALUES (106,98,0,'',0,' Les cerisiers sont en fleurs dans mon jardin, <font color=\"blue\"><b>les rossignols</b></font> y <font color=\"red\"><b>chantent</b></font> et d'autres oiseaux encore jamais vus jusqu'à présent. ')\n",
      "REPLACE INTO Examples_français VALUES (110,102,0,'',0,'<font color=\"blue\"><b>La tourterelle</b></font> <font color=\"red\"><b>roucoule</b></font> à l'ombre des cyprès. ')\n",
      "REPLACE INTO Examples_français VALUES (111,103,0,'',0,'<font color=\"blue\"><b>La colombe</b></font> <font color=\"red\"><b>roucoule</b></font> sur la branche d'un murier.  ')\n",
      "REPLACE INTO Examples_français VALUES (112,104,0,'',0,'La colombe roucoule sur la branche d'un murier.  ')\n",
      "REPLACE INTO Examples_français VALUES (113,105,0,'',0,'Comme <font color=\"blue\"><b>la chouette</b></font> <font color=\"red\"><b>ulule</b></font> dans l'arbre! ')\n",
      "REPLACE INTO Examples_français VALUES (119,111,0,'',0,'<font color=\"blue\"><b>La grenouille</b></font> a l'habitude de rester sur une grande feuille de nénuphar dans un étang et de <font color=\"red\"><b>coasser</b></font>.  ')\n",
      "REPLACE INTO Examples_français VALUES (121,113,0,'',0,'Au-dessus de nous, <font color=\"blue\"><b>les corbeaux</b></font> et une multitude d'autres oiseaux <font color=\"red\"><b>poussaient des cris</b></font> qui faisaient penser à des cris de singes et à des aboiements de chiens.')\n",
      "REPLACE INTO Examples_français VALUES (124,116,0,'',0,' J'entends <font color=\"red\"><b>cancaner</b></font> <font color=\"blue\"><b>les canards</b></font> dans la volière : quelqu'un les pourchasse.  ')\n",
      "REPLACE INTO Examples_français VALUES (132,124,0,'',0,'<font color=\"blue\"><b>Le poulet</b></font> est en train de mourir, le pauvre, il n'arrête pas de <font color=\"red\"><b>piauler</b></font>. ')\n",
      "REPLACE INTO Examples_français VALUES (133,125,0,'',0,'<font color=\"blue\"><b>Le chat</b></font> <font color=\"red\"><b>ronronne</b></font> et ne s'intéresse pas aux souris qui circulent partout dans la chambre. ')\n",
      "REPLACE INTO Examples_français VALUES (134,126,0,'',0,'On n'entend pas <font color=\"red\"><b>margoter (ou carcailler)</b></font> <font color=\"blue\"><b>la caille</b></font> dans l'herbe jaunie. ')\n",
      "REPLACE INTO Examples_français VALUES (135,127,0,'',0,'A l'aube, <font color=\"blue\"><b>la caille</b></font> <font color=\"red\"><b>margote</b></font> à tue-tête. ')\n",
      "REPLACE INTO Examples_français VALUES (142,134,0,'',0,'<font color=\"blue\"><b>Le cochon</b></font> s'est mis à <font color=\"red\"><b>couiner</b></font> à tue-tête. ')\n",
      "REPLACE INTO Examples_français VALUES (143,135,0,'',0,'La nuit, vous entendez <font color=\"blue\"><b>le renard</b></font> <font color=\"red\"><b>glapir</b></font> et s'approcher du poulailler, les chiens le sentent et se mettent à hurler. ')\n",
      "REPLACE INTO Examples_français VALUES (148,140,0,'',0,'On sait que <font color=\"blue\"><b>les perroquets</b></font> savent imiter le parler mais ils n'arrivent pas à <font color=\"red\"><b>siffler</b></font> une chanson entière. ')\n"
     ]
    }
   ],
   "source": [
    "ex_fr = pd.read_sql_query(\"select * from Examples_français;\", conn)\n",
    "\n",
    "c = conn.cursor()\n",
    "\n",
    "#index = ex_fr['id'][len(ex_fr)-1]\n",
    "#print(index)\n",
    "sent = 89\n",
    "index = 97\n",
    "\n",
    "for i in range(len(example_serbe)):\n",
    "    index += 1\n",
    "    sent += 1\n",
    "    insert = \"REPLACE INTO Examples_français VALUES (\"+str(index)+\",\"+str(sent)+\",\"+str(0)+\",'\"+''+\"',\"+str(0)+\",'\"+example_serbe.fr[i]+\"')\" \n",
    "    try:\n",
    "        c.execute(insert)\n",
    "    except:\n",
    "        print(insert)\n",
    "        insert = \"REPLACE INTO Examples_français VALUES (\"+str(index)+\",\"+str(sent)+\",\"+str(0)+\",'\"+''+\"',\"+str(0)+\",'\"+''+\"')\" \n",
    "        c.execute(insert)\n",
    "    conn.commit()"
   ]
  },
  {
   "cell_type": "code",
   "execution_count": null,
   "metadata": {
    "collapsed": true
   },
   "outputs": [],
   "source": []
  },
  {
   "cell_type": "code",
   "execution_count": null,
   "metadata": {
    "collapsed": true
   },
   "outputs": [],
   "source": []
  },
  {
   "cell_type": "code",
   "execution_count": null,
   "metadata": {
    "collapsed": true
   },
   "outputs": [],
   "source": []
  },
  {
   "cell_type": "code",
   "execution_count": null,
   "metadata": {
    "collapsed": true
   },
   "outputs": [],
   "source": []
  },
  {
   "cell_type": "code",
   "execution_count": null,
   "metadata": {
    "collapsed": true
   },
   "outputs": [],
   "source": []
  },
  {
   "cell_type": "code",
   "execution_count": null,
   "metadata": {
    "collapsed": true
   },
   "outputs": [],
   "source": []
  },
  {
   "cell_type": "markdown",
   "metadata": {},
   "source": [
    "Польский"
   ]
  },
  {
   "cell_type": "code",
   "execution_count": 425,
   "metadata": {
    "collapsed": false
   },
   "outputs": [
    {
     "name": "stdout",
     "output_type": "stream",
     "text": [
      "177\n",
      "[['baranek, jagnię; owca; baran ', 'beczeć - bekać / beknąć'], ['baranek, jagnię; owca; baran ', 'beczeć - bekać / beknąć'], ['baranek, jagnię; owca; baran ', 'beczeć - bekać / beknąć'], ['baranek, jagnię; owca; baran ', 'beczeć - bekać / beknąć'], ['baranek, jagnię; owca; baran ', 'beczeć - bekać / beknąć'], ['pszczoła ', 'brzęczeć'], ['pszczoła ', 'brzęczeć'], ['pszczoła ', 'brzęczeć'], ['trzmiel ', 'buczeć'], ['trzmiel  ', 'buczeć'], ['trzmiel  ', 'buczeć'], ['indyk ', 'bulgotać'], ['indyk ', 'bulgotać'], ['indyk ', 'bulgotać'], ['pszczoła ', 'bzyczeć, bzykać / bzyknąć'], ['pszczoła ', 'bzyczeć, bzykać / bzyknąć'], ['pszczoła ', 'bzyczeć, bzykać / bzyknąć'], ['świnia ', 'chrumkać / chrumknąć (familier)'], ['dzik  [chrum, krum]', 'chrumkać / chrumknąć (familier)'], ['dzik', 'chrząkać / chrząknąć'], ['dzik', 'chrząkać / chrząknąć'], ['dzik', 'chrząkać / chrząknąć'], ['ptak [ciur]', 'ciurkać'], ['dzięcioł', 'ciurkać'], ['słowik', 'ciurkać'], ['gil ', 'ćwierkać / ćwierknąć'], ['kanarek ', 'ćwierkać / ćwierknąć'], ['świerszcz ', 'ćwierkać / ćwierknąć'], ['sikora', 'ćwierkać / ćwierknąć'], ['wróbel  ', 'ćwierkać / ćwierknąć'], ['ptak', 'ćwierkać / ćwierknąć'], ['papuga, papużka falista ', 'ćwierkać / ćwierknąć'], ['kanarek', 'ćwierkać / ćwierknąć'], ['cykada', 'cykać / cyknąć'], ['cykada', 'cykać / cyknąć'], ['świerszcz ', 'cykać / cyknąć'], ['świerszcz ', 'cykać / cyknąć'], ['konik polny [cyk / cyku]', 'cykać / cyknąć'], ['derkacz [der]', 'derkać'], ['ptak [fiu, fiuu / fiut, fiuut]', 'fiukać / fiuknąć'], ['słowik [fiu, fiuu / fiut, fiuut]', 'fiukać / fiuknąć'], ['czapla', 'gdakać / gdaknąć'], ['kura [gdak]', 'gdakać / gdaknąć'], ['kura [gdak]', 'gdakać / gdaknąć'], ['gąsior, gęś ', 'gęgać / gęgnąć, gęgotać (intensivement infix: -ota-)'], ['gąsior, gęś [gę, gęę / gęgu]', 'gęgać / gęgnąć, gęgotać (intensivement infix: -ota-)'], ['gołąb [gru, gruu / gruchu, gruuchu]', 'gruchać'], ['indyk ', 'gulgotać'], ['indyk ', 'gulgotać'], ['gil', 'gwizdać / gwizdnąć'], ['gil', 'gwizdać / gwizdnąć'], ['gil', 'gwizdać / gwizdnąć'], ['kos', 'gwizdać / gwizdnąć'], ['papużka falista', 'gwizdać / gwizdnąć'], ['sowa ', 'huczeć / hukać'], ['sowa ', 'huczeć / hukać'], ['sowa ', 'huczeć / hukać'], ['puszczyk  [hu, huu]', 'huczeć / hukać'], ['pies; szczeniak, szczenię', 'jazgotać'], ['pies; szczeniak, szczenię', 'jazgotać'], ['drozd', 'kląskać'], ['ptak', 'kląskać'], ['słowik', 'kląskać'], ['bocian ', 'klekotać'], ['bocian ', 'klekotać'], ['kawka ', 'krakać'], ['kruk ', 'krakać'], ['wrona', 'krakać'], ['kukułka (male) ', 'kukać / kuknąć'], ['ropucha, żaba', 'kumkać'], ['kaczor; kaczę, kaczątko ', 'kwakać / kwaknąć'], ['świnia [chrum, krum]', 'kwiczeć / kwiknąć'], ['chomik ', 'kwiczeć / kwiknąć'], ['kura [ko-ko]', 'kwokać / kwoktać'], ['baranek, jagnię; owca; baran ', 'meczeć'], ['kozioł (cap) ', 'meczeć'], ['kot ', 'miauczeć / miauknąć'], ['kot ', 'mruczeć / mruknąć'], ['kot ', 'mruczeć / mruknąć'], ['kot ', 'mruczeć / mruknąć'], ['kot ', 'mruczeć / mruknąć'], ['kot ', 'mruczeć / mruknąć'], ['krowa [mu, muu]', 'muczeć'], ['koń', 'parskać / parsknąć'], ['koń', 'parskać / parsknąć'], ['koń', 'parskać / parsknąć'], ['kogut ', 'piać'], ['kogut ', 'piać'], ['kogut ', 'piać'], ['bażant', 'piać'], ['nietoperz ', 'piszczeć / pisnąć'], ['pies; szczeniak, szczenię ', 'piszczeć / pisnąć'], ['pies; szczeniak, szczenię', 'piszczeć / pisnąć'], ['świnka morska ', 'piszczeć / pisnąć'], ['królik', 'piszczeć / pisnąć'], ['kurczak, kurczątko ', 'piszczeć / pisnąć'], ['mysz', 'piszczeć / pisnąć'], ['kawka', 'plegotać'], ['ptak', 'poświstywać'], ['ptak', 'poświstywać'], ['kot', 'prychać'], ['kot', 'prychać'], ['koń', 'prychać'], ['koń', 'prychać'], ['koń', 'prychać'], ['koń', 'prychać'], ['chomik', 'prychać'], ['ropucha, żaba', 'rechotać'], ['osioł', 'ryczeć'], ['wieloryb', 'ryczeć'], ['byk, wół', 'ryczeć'], ['jeleń', 'ryczeć'], ['niedźwiedź', 'ryczeć'], ['tygrys', 'ryczeć'], ['koń', 'ryczeć'], ['daniel', 'ryczeć'], ['łoś', 'ryczeć'], ['słoń', 'ryczeć'], ['jelonek, sarnię', 'ryczeć'], ['czapla', 'ryczeć'], ['lew', 'ryczeć'], ['małpa', 'ryczeć'], ['krowa', 'ryczeć'], ['koń', 'rżeć'], ['pies; szczeniak, szczenię', 'skomleć'], ['pies; szczeniak, szczenię', 'skowyczeć'], ['wilk', 'skowyczeć'], ['sójka', 'skrzeczeć'], ['ropucha, żaba', 'skrzeczeć'], ['chomik', 'skrzeczeć'], ['papużka falista', 'skrzeczeć'], ['sroka', 'skrzeczeć'], ['małpa', 'skrzeczeć'], ['wieloryb', 'śpiewać'], ['łabędź', 'śpiewać'], ['kanarek', 'świergotać'], ['wróbel', 'świergotać'], ['papużka falista', 'świergotać'], ['kanarek', 'świergotać'], ['świstak', 'świstać, świszczeć / świsnąć'], ['świstak', 'świstać, świszczeć / świsnąć'], ['kos', 'świstać, świszczeć / świsnąć'], ['kos', 'świstać, świszczeć / świsnąć'], ['kos', 'świstać, świszczeć / świsnąć'], ['kos', 'świstać, świszczeć / świsnąć'], ['kos', 'świstać, świszczeć / świsnąć'], ['kos', 'świstać, świszczeć / świsnąć'], ['wąż ', 'syczeć / syknąć'], ['wąż ', 'syczeć / syknąć'], ['wąż ', 'syczeć / syknąć'], ['pliszka', 'szczebiotać'], ['drozd', 'szczebiotać'], ['ptak', 'szczebiotać'], ['pies; szczeniak, szczenię ', 'szczekać / szczeknąć'], ['hiena', 'szczekać / szczeknąć'], ['lis', 'szczekać / szczeknąć'], ['skowronek', 'terlikać'], ['kanarek', 'terlikać'], ['sikora', 'terlikać'], ['ptak', 'terlikać'], ['słowik', 'terlikać'], ['kanarek', 'terlikać'], ['pies', 'ujadać'], ['pies', 'ujadać'], ['pies', 'ujadać'], ['pies; szczeniak, szczenię ', 'warczeć / warknąć'], ['pies; szczeniak, szczenię ', 'warczeć / warknąć'], ['pies; szczeniak, szczenię ', 'warczeć / warknąć'], ['pies; szczeniak, szczenię  ', 'wyć'], ['hiena', 'wyć'], ['wilk ', 'wyć'], ['wilk ', 'wyć'], ['wilk ', 'wyć'], ['wilk ', 'wyć'], ['ptak', nan], ['szpak', nan], ['sokół', nan]]\n"
     ]
    }
   ],
   "source": [
    "pairs = []\n",
    "for i in range(len(df)):\n",
    "    temp = ['', '']\n",
    "    temp[0] = df[\"Nom\\xa0de l’animal en polonais\"][i]    \n",
    "    temp[1] = df[\"Verbe en polonais\"][i]\n",
    "    pairs.append(temp)\n",
    "\n",
    "print(len(pairs))\n",
    "print(pairs)"
   ]
  },
  {
   "cell_type": "code",
   "execution_count": 427,
   "metadata": {
    "collapsed": false
   },
   "outputs": [],
   "source": [
    "uniq_fr = []\n",
    "url_set = set()\n",
    "\n",
    "for item in pairs:\n",
    "    if item[1] not in url_set:\n",
    "        url_set.add(item[1])\n",
    "        uniq_fr.append(item)\n",
    "    else:\n",
    "        pass\n"
   ]
  },
  {
   "cell_type": "code",
   "execution_count": 428,
   "metadata": {
    "collapsed": false
   },
   "outputs": [
    {
     "name": "stdout",
     "output_type": "stream",
     "text": [
      "90\n",
      "54\n"
     ]
    }
   ],
   "source": [
    "print(len(uniq_pol))\n",
    "print(len(uniq_fr))"
   ]
  },
  {
   "cell_type": "code",
   "execution_count": 429,
   "metadata": {
    "collapsed": false
   },
   "outputs": [
    {
     "name": "stdout",
     "output_type": "stream",
     "text": [
      "['trzmiel  ', 'buczeć']\n",
      "['dzik  [chrum, krum]', 'chrumkać / chrumknąć (familier)']\n",
      "['dzięcioł', 'ciurkać']\n",
      "['słowik', 'ciurkać']\n",
      "['kanarek ', 'ćwierkać / ćwierknąć']\n",
      "['świerszcz ', 'ćwierkać / ćwierknąć']\n",
      "['sikora', 'ćwierkać / ćwierknąć']\n",
      "['wróbel  ', 'ćwierkać / ćwierknąć']\n",
      "['ptak', 'ćwierkać / ćwierknąć']\n",
      "['papuga, papużka falista ', 'ćwierkać / ćwierknąć']\n",
      "['kanarek', 'ćwierkać / ćwierknąć']\n",
      "['konik polny [cyk / cyku]', 'cykać / cyknąć']\n",
      "['słowik [fiu, fiuu / fiut, fiuut]', 'fiukać / fiuknąć']\n",
      "['kura [gdak]', 'gdakać / gdaknąć']\n",
      "['gąsior, gęś [gę, gęę / gęgu]', 'gęgać / gęgnąć, gęgotać (intensivement infix: -ota-)']\n",
      "['kos', 'gwizdać / gwizdnąć']\n",
      "['papużka falista', 'gwizdać / gwizdnąć']\n",
      "['puszczyk  [hu, huu]', 'huczeć / hukać']\n",
      "['kruk ', 'krakać']\n",
      "['wrona', 'krakać']\n",
      "['chomik ', 'kwiczeć / kwiknąć']\n",
      "['kozioł (cap) ', 'meczeć']\n",
      "['bażant', 'piać']\n",
      "['pies; szczeniak, szczenię ', 'piszczeć / pisnąć']\n",
      "['świnka morska ', 'piszczeć / pisnąć']\n",
      "['królik', 'piszczeć / pisnąć']\n",
      "['kurczak, kurczątko ', 'piszczeć / pisnąć']\n",
      "['mysz', 'piszczeć / pisnąć']\n",
      "['chomik', 'prychać']\n",
      "['wieloryb', 'ryczeć']\n",
      "['byk, wół', 'ryczeć']\n",
      "['jeleń', 'ryczeć']\n",
      "['niedźwiedź', 'ryczeć']\n",
      "['tygrys', 'ryczeć']\n",
      "['daniel', 'ryczeć']\n",
      "['łoś', 'ryczeć']\n",
      "['słoń', 'ryczeć']\n",
      "['jelonek, sarnię', 'ryczeć']\n",
      "['lew', 'ryczeć']\n",
      "['małpa', 'ryczeć']\n",
      "['krowa', 'ryczeć']\n",
      "['wilk', 'skowyczeć']\n",
      "['sroka', 'skrzeczeć']\n",
      "['łabędź', 'śpiewać']\n",
      "['wróbel', 'świergotać']\n",
      "['hiena', 'szczekać / szczeknąć']\n",
      "['lis', 'szczekać / szczeknąć']\n",
      "['wilk ', 'wyć']\n",
      "['szpak', nan]\n",
      "['sokół', nan]\n"
     ]
    }
   ],
   "source": [
    "for i in uniq_pol:\n",
    "    if i not in uniq_fr:\n",
    "        print(i)"
   ]
  },
  {
   "cell_type": "code",
   "execution_count": 521,
   "metadata": {
    "collapsed": true
   },
   "outputs": [],
   "source": [
    "pol_fr = pd.DataFrame(columns=['polonais', 'verb'])\n",
    "uniq_pol = sorted(uniq_pol)\n",
    "for i in range(len(uniq_pol)):\n",
    "    pol_fr.loc[i] = uniq_pol[i]"
   ]
  },
  {
   "cell_type": "code",
   "execution_count": 522,
   "metadata": {
    "collapsed": false
   },
   "outputs": [
    {
     "data": {
      "text/html": [
       "<div>\n",
       "<table border=\"1\" class=\"dataframe\">\n",
       "  <thead>\n",
       "    <tr style=\"text-align: right;\">\n",
       "      <th></th>\n",
       "      <th>polonais</th>\n",
       "      <th>verb</th>\n",
       "    </tr>\n",
       "  </thead>\n",
       "  <tbody>\n",
       "    <tr>\n",
       "      <th>0</th>\n",
       "      <td>baranek, jagnię; owca; baran</td>\n",
       "      <td>beczeć - bekać / beknąć</td>\n",
       "    </tr>\n",
       "    <tr>\n",
       "      <th>1</th>\n",
       "      <td>bażant</td>\n",
       "      <td>piać</td>\n",
       "    </tr>\n",
       "    <tr>\n",
       "      <th>2</th>\n",
       "      <td>bocian</td>\n",
       "      <td>klekotać</td>\n",
       "    </tr>\n",
       "    <tr>\n",
       "      <th>3</th>\n",
       "      <td>byk, wół</td>\n",
       "      <td>ryczeć</td>\n",
       "    </tr>\n",
       "    <tr>\n",
       "      <th>4</th>\n",
       "      <td>chomik</td>\n",
       "      <td>prychać</td>\n",
       "    </tr>\n",
       "    <tr>\n",
       "      <th>5</th>\n",
       "      <td>chomik</td>\n",
       "      <td>kwiczeć / kwiknąć</td>\n",
       "    </tr>\n",
       "    <tr>\n",
       "      <th>6</th>\n",
       "      <td>cykada</td>\n",
       "      <td>cykać / cyknąć</td>\n",
       "    </tr>\n",
       "    <tr>\n",
       "      <th>7</th>\n",
       "      <td>czapla</td>\n",
       "      <td>gdakać / gdaknąć</td>\n",
       "    </tr>\n",
       "    <tr>\n",
       "      <th>8</th>\n",
       "      <td>daniel</td>\n",
       "      <td>ryczeć</td>\n",
       "    </tr>\n",
       "    <tr>\n",
       "      <th>9</th>\n",
       "      <td>derkacz [der]</td>\n",
       "      <td>derkać</td>\n",
       "    </tr>\n",
       "  </tbody>\n",
       "</table>\n",
       "</div>"
      ],
      "text/plain": [
       "                        polonais                     verb\n",
       "0  baranek, jagnię; owca; baran   beczeć - bekać / beknąć\n",
       "1                         bażant                     piać\n",
       "2                        bocian                  klekotać\n",
       "3                       byk, wół                   ryczeć\n",
       "4                         chomik                  prychać\n",
       "5                        chomik         kwiczeć / kwiknąć\n",
       "6                         cykada           cykać / cyknąć\n",
       "7                         czapla         gdakać / gdaknąć\n",
       "8                         daniel                   ryczeć\n",
       "9                  derkacz [der]                   derkać"
      ]
     },
     "execution_count": 522,
     "metadata": {},
     "output_type": "execute_result"
    }
   ],
   "source": [
    "pol_fr.head(10)"
   ]
  },
  {
   "cell_type": "code",
   "execution_count": 525,
   "metadata": {
    "collapsed": false
   },
   "outputs": [],
   "source": [
    "# убираем скобки [] и пробелы\n",
    "\n",
    "for i in range(len(pol_fr)):\n",
    "    if '[' in pol_fr['polonais'][i]:\n",
    "        pol_fr['polonais'][i] = pol_fr['polonais'][i].split(' [')[0]\n",
    "    pol_fr['polonais'][i] = pol_fr['polonais'][i].strip()\n",
    "#    pol_fr['francais'][i] = pol_fr['francais'][i].strip()"
   ]
  },
  {
   "cell_type": "code",
   "execution_count": 213,
   "metadata": {
    "collapsed": false
   },
   "outputs": [
    {
     "data": {
      "text/html": [
       "<div>\n",
       "<table border=\"1\" class=\"dataframe\">\n",
       "  <thead>\n",
       "    <tr style=\"text-align: right;\">\n",
       "      <th></th>\n",
       "      <th>polonais</th>\n",
       "      <th>francais</th>\n",
       "    </tr>\n",
       "  </thead>\n",
       "  <tbody>\n",
       "    <tr>\n",
       "      <th>0</th>\n",
       "      <td>baranek, jagnię; owca; baran</td>\n",
       "      <td>agneau; brebis; mouton (voir aussi le bélier e...</td>\n",
       "    </tr>\n",
       "    <tr>\n",
       "      <th>1</th>\n",
       "      <td>bażant</td>\n",
       "      <td>faisan</td>\n",
       "    </tr>\n",
       "    <tr>\n",
       "      <th>2</th>\n",
       "      <td>bocian</td>\n",
       "      <td>cigogne</td>\n",
       "    </tr>\n",
       "    <tr>\n",
       "      <th>3</th>\n",
       "      <td>byk, wół</td>\n",
       "      <td>bœuf, taureau</td>\n",
       "    </tr>\n",
       "    <tr>\n",
       "      <th>4</th>\n",
       "      <td>chomik</td>\n",
       "      <td>cochon d’Inde, hamster</td>\n",
       "    </tr>\n",
       "    <tr>\n",
       "      <th>5</th>\n",
       "      <td>chomik</td>\n",
       "      <td>cochon d’Inde, hamster</td>\n",
       "    </tr>\n",
       "    <tr>\n",
       "      <th>6</th>\n",
       "      <td>cykada</td>\n",
       "      <td>cigale</td>\n",
       "    </tr>\n",
       "    <tr>\n",
       "      <th>7</th>\n",
       "      <td>czapla</td>\n",
       "      <td>héron</td>\n",
       "    </tr>\n",
       "    <tr>\n",
       "      <th>8</th>\n",
       "      <td>daniel</td>\n",
       "      <td>daim</td>\n",
       "    </tr>\n",
       "    <tr>\n",
       "      <th>9</th>\n",
       "      <td>derkacz</td>\n",
       "      <td>roi caille</td>\n",
       "    </tr>\n",
       "  </tbody>\n",
       "</table>\n",
       "</div>"
      ],
      "text/plain": [
       "                       polonais  \\\n",
       "0  baranek, jagnię; owca; baran   \n",
       "1                        bażant   \n",
       "2                        bocian   \n",
       "3                      byk, wół   \n",
       "4                        chomik   \n",
       "5                        chomik   \n",
       "6                        cykada   \n",
       "7                        czapla   \n",
       "8                        daniel   \n",
       "9                       derkacz   \n",
       "\n",
       "                                            francais  \n",
       "0  agneau; brebis; mouton (voir aussi le bélier e...  \n",
       "1                                             faisan  \n",
       "2                                            cigogne  \n",
       "3                                      bœuf, taureau  \n",
       "4                             cochon d’Inde, hamster  \n",
       "5                             cochon d’Inde, hamster  \n",
       "6                                             cigale  \n",
       "7                                              héron  \n",
       "8                                               daim  \n",
       "9                                         roi caille  "
      ]
     },
     "execution_count": 213,
     "metadata": {},
     "output_type": "execute_result"
    }
   ],
   "source": [
    "pol_fr.head(10)"
   ]
  },
  {
   "cell_type": "code",
   "execution_count": 214,
   "metadata": {
    "collapsed": false
   },
   "outputs": [
    {
     "name": "stdout",
     "output_type": "stream",
     "text": [
      "chomik 5\n",
      "dzik 12\n",
      "gil 15\n",
      "gąsior, gęś 18\n",
      "kawka 27\n",
      "kot 32\n",
      "krowa 36\n",
      "kura 41\n",
      "pies; szczeniak, szczenię 54\n",
      "pies; szczeniak, szczenię 55\n",
      "ptak 59\n",
      "ptak 60\n",
      "słowik 71\n",
      "trzmiel 74\n",
      "wilk 78\n",
      "wróbel 81\n",
      "świnia 87\n"
     ]
    }
   ],
   "source": [
    "drops = []\n",
    "for i in range(1, len(pol_fr)):\n",
    "    if pol_fr['polonais'][i] == pol_fr['polonais'][i-1] and pol_fr['francais'][i] == pol_fr['francais'][i-1]:\n",
    "        print(pol_fr['polonais'][i], i)\n",
    "        drops.append(i)"
   ]
  },
  {
   "cell_type": "code",
   "execution_count": 215,
   "metadata": {
    "collapsed": false
   },
   "outputs": [],
   "source": [
    "# удаляем повторяющиеся\n",
    "\n",
    "pol_fr = pol_fr.drop(pol_fr.index[drops])\n",
    "pol_fr = pol_fr.reset_index(drop=True)"
   ]
  },
  {
   "cell_type": "code",
   "execution_count": 216,
   "metadata": {
    "collapsed": false
   },
   "outputs": [],
   "source": [
    "# два дф: 1 - одно название животного, 2-несколько\n",
    "\n",
    "pol_fr_one = pd.DataFrame(columns=['polonais', 'francais'])\n",
    "pol_fr_mult = pd.DataFrame(columns=['polonais', 'francais'])\n",
    "\n",
    "punkt = [',', ';', '(']\n",
    "\n",
    "for i in range(len(pol_fr)):\n",
    "    if any(x in pol_fr['polonais'][i] for x in punkt) or any(x in pol_fr['francais'][i] for x in punkt):\n",
    "        pol_fr_mult.loc[len(pol_fr_mult)] = list(pol_fr.iloc[i])\n",
    "    else:\n",
    "        pol_fr_one.loc[len(pol_fr_one)] = list(pol_fr.iloc[i])"
   ]
  },
  {
   "cell_type": "code",
   "execution_count": 220,
   "metadata": {
    "collapsed": false
   },
   "outputs": [
    {
     "data": {
      "text/html": [
       "<div>\n",
       "<table border=\"1\" class=\"dataframe\">\n",
       "  <thead>\n",
       "    <tr style=\"text-align: right;\">\n",
       "      <th></th>\n",
       "      <th>polonais</th>\n",
       "      <th>francais</th>\n",
       "    </tr>\n",
       "  </thead>\n",
       "  <tbody>\n",
       "    <tr>\n",
       "      <th>0</th>\n",
       "      <td>baranek, jagnię; owca; baran</td>\n",
       "      <td>agneau; brebis; mouton (voir aussi le bélier e...</td>\n",
       "    </tr>\n",
       "    <tr>\n",
       "      <th>1</th>\n",
       "      <td>byk, wół</td>\n",
       "      <td>bœuf, taureau</td>\n",
       "    </tr>\n",
       "    <tr>\n",
       "      <th>2</th>\n",
       "      <td>chomik</td>\n",
       "      <td>cochon d’Inde, hamster</td>\n",
       "    </tr>\n",
       "    <tr>\n",
       "      <th>3</th>\n",
       "      <td>gołąb</td>\n",
       "      <td>pigeon, colombe</td>\n",
       "    </tr>\n",
       "    <tr>\n",
       "      <th>4</th>\n",
       "      <td>gąsior, gęś</td>\n",
       "      <td>jars, oie</td>\n",
       "    </tr>\n",
       "  </tbody>\n",
       "</table>\n",
       "</div>"
      ],
      "text/plain": [
       "                       polonais  \\\n",
       "0  baranek, jagnię; owca; baran   \n",
       "1                      byk, wół   \n",
       "2                        chomik   \n",
       "3                         gołąb   \n",
       "4                   gąsior, gęś   \n",
       "\n",
       "                                            francais  \n",
       "0  agneau; brebis; mouton (voir aussi le bélier e...  \n",
       "1                                      bœuf, taureau  \n",
       "2                             cochon d’Inde, hamster  \n",
       "3                                    pigeon, colombe  \n",
       "4                                          jars, oie  "
      ]
     },
     "execution_count": 220,
     "metadata": {},
     "output_type": "execute_result"
    }
   ],
   "source": [
    "pol_fr_mult.head()"
   ]
  },
  {
   "cell_type": "code",
   "execution_count": 221,
   "metadata": {
    "collapsed": false
   },
   "outputs": [
    {
     "data": {
      "text/html": [
       "<div>\n",
       "<table border=\"1\" class=\"dataframe\">\n",
       "  <thead>\n",
       "    <tr style=\"text-align: right;\">\n",
       "      <th></th>\n",
       "      <th>polonais</th>\n",
       "      <th>francais</th>\n",
       "    </tr>\n",
       "  </thead>\n",
       "  <tbody>\n",
       "    <tr>\n",
       "      <th>0</th>\n",
       "      <td>bażant</td>\n",
       "      <td>faisan</td>\n",
       "    </tr>\n",
       "    <tr>\n",
       "      <th>1</th>\n",
       "      <td>bocian</td>\n",
       "      <td>cigogne</td>\n",
       "    </tr>\n",
       "    <tr>\n",
       "      <th>2</th>\n",
       "      <td>cykada</td>\n",
       "      <td>cigale</td>\n",
       "    </tr>\n",
       "    <tr>\n",
       "      <th>3</th>\n",
       "      <td>czapla</td>\n",
       "      <td>héron</td>\n",
       "    </tr>\n",
       "    <tr>\n",
       "      <th>4</th>\n",
       "      <td>daniel</td>\n",
       "      <td>daim</td>\n",
       "    </tr>\n",
       "  </tbody>\n",
       "</table>\n",
       "</div>"
      ],
      "text/plain": [
       "  polonais francais\n",
       "0   bażant   faisan\n",
       "1   bocian  cigogne\n",
       "2   cykada   cigale\n",
       "3   czapla    héron\n",
       "4   daniel     daim"
      ]
     },
     "execution_count": 221,
     "metadata": {},
     "output_type": "execute_result"
    }
   ],
   "source": [
    "pol_fr_one.head()"
   ]
  },
  {
   "cell_type": "code",
   "execution_count": 381,
   "metadata": {
    "collapsed": false
   },
   "outputs": [
    {
     "name": "stdout",
     "output_type": "stream",
     "text": [
      "cochon d’Inde\n"
     ]
    }
   ],
   "source": [
    "# дф polonais-francais-animal_id\n",
    "\n",
    "#new_pol_fr_mult['animal_id'] = [0 for i in range(len(new_pol_fr_mult))]\n",
    "new_anim = []\n",
    "\n",
    "for i in range(len(new_pol_fr_mult)):\n",
    "    anim = new_pol_fr_mult['francais'][i]\n",
    "    if anim not in list(fr_anim['name']):\n",
    "        print(anim)\n",
    "        new_anim.append(anim)"
   ]
  },
  {
   "cell_type": "code",
   "execution_count": 382,
   "metadata": {
    "collapsed": false
   },
   "outputs": [
    {
     "data": {
      "text/plain": [
       "['cochon d’Inde']"
      ]
     },
     "execution_count": 382,
     "metadata": {},
     "output_type": "execute_result"
    }
   ],
   "source": [
    "new_anim"
   ]
  },
  {
   "cell_type": "code",
   "execution_count": 324,
   "metadata": {
    "collapsed": false
   },
   "outputs": [],
   "source": [
    "# добавляем недостающих животных в бд Animals\n",
    "\n",
    "c = conn.cursor()\n",
    "\n",
    "index = fr_anim['id'][len(fr_anim)-1]\n",
    "\n",
    "for i in new_anim:\n",
    "    index += 1\n",
    "    insert = \"INSERT INTO Animals VALUES (\" + str(index) + \",'\" + i + \"')\"\n",
    "    c.execute(insert)\n",
    "    conn.commit()"
   ]
  },
  {
   "cell_type": "code",
   "execution_count": 297,
   "metadata": {
    "collapsed": false
   },
   "outputs": [],
   "source": [
    "fr_anim2 = pd.read_sql_query(\"select * from Animals;\", conn)"
   ]
  },
  {
   "cell_type": "code",
   "execution_count": 298,
   "metadata": {
    "collapsed": false
   },
   "outputs": [
    {
     "data": {
      "text/html": [
       "<div>\n",
       "<table border=\"1\" class=\"dataframe\">\n",
       "  <thead>\n",
       "    <tr style=\"text-align: right;\">\n",
       "      <th></th>\n",
       "      <th>id</th>\n",
       "      <th>name</th>\n",
       "    </tr>\n",
       "  </thead>\n",
       "  <tbody>\n",
       "    <tr>\n",
       "      <th>174</th>\n",
       "      <td>175</td>\n",
       "      <td>roi caille</td>\n",
       "    </tr>\n",
       "  </tbody>\n",
       "</table>\n",
       "</div>"
      ],
      "text/plain": [
       "      id        name\n",
       "174  175  roi caille"
      ]
     },
     "execution_count": 298,
     "metadata": {},
     "output_type": "execute_result"
    }
   ],
   "source": [
    "fr_anim2[fr_anim2['id'] == 175]"
   ]
  },
  {
   "cell_type": "code",
   "execution_count": 391,
   "metadata": {
    "collapsed": false
   },
   "outputs": [
    {
     "name": "stderr",
     "output_type": "stream",
     "text": [
      "E:\\programs\\Anaconda3\\lib\\site-packages\\ipykernel\\__main__.py:5: SettingWithCopyWarning: \n",
      "A value is trying to be set on a copy of a slice from a DataFrame\n",
      "\n",
      "See the caveats in the documentation: http://pandas.pydata.org/pandas-docs/stable/indexing.html#indexing-view-versus-copy\n"
     ]
    }
   ],
   "source": [
    "for i in range(len(new_pol_fr_mult)):\n",
    "    anim = new_pol_fr_mult['francais'][i]\n",
    "    if anim in list(fr_anim['name']):\n",
    "        d = fr_anim[fr_anim['name']==anim]\n",
    "        new_pol_fr_mult['animal_id'][i] = int(d['id'])"
   ]
  },
  {
   "cell_type": "code",
   "execution_count": 300,
   "metadata": {
    "collapsed": false
   },
   "outputs": [
    {
     "data": {
      "text/html": [
       "<div>\n",
       "<table border=\"1\" class=\"dataframe\">\n",
       "  <thead>\n",
       "    <tr style=\"text-align: right;\">\n",
       "      <th></th>\n",
       "      <th>polonais</th>\n",
       "      <th>francais</th>\n",
       "      <th>animal_id</th>\n",
       "    </tr>\n",
       "  </thead>\n",
       "  <tbody>\n",
       "    <tr>\n",
       "      <th>0</th>\n",
       "      <td>bażant</td>\n",
       "      <td>faisan</td>\n",
       "      <td>65</td>\n",
       "    </tr>\n",
       "    <tr>\n",
       "      <th>1</th>\n",
       "      <td>bocian</td>\n",
       "      <td>cigogne</td>\n",
       "      <td>41</td>\n",
       "    </tr>\n",
       "    <tr>\n",
       "      <th>2</th>\n",
       "      <td>cykada</td>\n",
       "      <td>cigale</td>\n",
       "      <td>40</td>\n",
       "    </tr>\n",
       "    <tr>\n",
       "      <th>3</th>\n",
       "      <td>czapla</td>\n",
       "      <td>héron</td>\n",
       "      <td>82</td>\n",
       "    </tr>\n",
       "    <tr>\n",
       "      <th>4</th>\n",
       "      <td>daniel</td>\n",
       "      <td>daim</td>\n",
       "      <td>56</td>\n",
       "    </tr>\n",
       "  </tbody>\n",
       "</table>\n",
       "</div>"
      ],
      "text/plain": [
       "  polonais francais  animal_id\n",
       "0   bażant   faisan         65\n",
       "1   bocian  cigogne         41\n",
       "2   cykada   cigale         40\n",
       "3   czapla    héron         82\n",
       "4   daniel     daim         56"
      ]
     },
     "execution_count": 300,
     "metadata": {},
     "output_type": "execute_result"
    }
   ],
   "source": [
    "pol_fr_one.head()"
   ]
  },
  {
   "cell_type": "code",
   "execution_count": 402,
   "metadata": {
    "collapsed": false,
    "scrolled": true
   },
   "outputs": [],
   "source": [
    "# удаляем столбец francais, добавляем lang_id и ставим в правильном порядке\n",
    "\n",
    "new_pol_fr_mult.drop('francais', axis=1, inplace=True)\n",
    "\n",
    "new_pol_fr_mult['lang_id'] = [4 for i in range(len(new_pol_fr_mult))]\n",
    "\n",
    "new_pol_fr_mult = new_pol_fr_mult[['polonais', 'lang_id', 'animal_id']]"
   ]
  },
  {
   "cell_type": "code",
   "execution_count": 403,
   "metadata": {
    "collapsed": false
   },
   "outputs": [
    {
     "data": {
      "text/html": [
       "<div>\n",
       "<table border=\"1\" class=\"dataframe\">\n",
       "  <thead>\n",
       "    <tr style=\"text-align: right;\">\n",
       "      <th></th>\n",
       "      <th>polonais</th>\n",
       "      <th>lang_id</th>\n",
       "      <th>animal_id</th>\n",
       "    </tr>\n",
       "  </thead>\n",
       "  <tbody>\n",
       "    <tr>\n",
       "      <th>0</th>\n",
       "      <td>baranek</td>\n",
       "      <td>4</td>\n",
       "      <td>2</td>\n",
       "    </tr>\n",
       "    <tr>\n",
       "      <th>1</th>\n",
       "      <td>jagnię</td>\n",
       "      <td>4</td>\n",
       "      <td>2</td>\n",
       "    </tr>\n",
       "    <tr>\n",
       "      <th>2</th>\n",
       "      <td>owca</td>\n",
       "      <td>4</td>\n",
       "      <td>17</td>\n",
       "    </tr>\n",
       "    <tr>\n",
       "      <th>3</th>\n",
       "      <td>baran</td>\n",
       "      <td>4</td>\n",
       "      <td>106</td>\n",
       "    </tr>\n",
       "    <tr>\n",
       "      <th>4</th>\n",
       "      <td>pies</td>\n",
       "      <td>4</td>\n",
       "      <td>36</td>\n",
       "    </tr>\n",
       "  </tbody>\n",
       "</table>\n",
       "</div>"
      ],
      "text/plain": [
       "  polonais  lang_id  animal_id\n",
       "0  baranek        4          2\n",
       "1   jagnię        4          2\n",
       "2     owca        4         17\n",
       "3    baran        4        106\n",
       "4     pies        4         36"
      ]
     },
     "execution_count": 403,
     "metadata": {},
     "output_type": "execute_result"
    }
   ],
   "source": [
    "new_pol_fr_mult.head()"
   ]
  },
  {
   "cell_type": "code",
   "execution_count": 404,
   "metadata": {
    "collapsed": true
   },
   "outputs": [],
   "source": [
    "# записываем в бд AnimalNames\n",
    "\n",
    "animal_names = pd.read_sql_query(\"select * from AnimalNames;\", conn)\n",
    "\n",
    "c = conn.cursor()\n",
    "\n",
    "index = animal_names['id'][len(animal_names)-1]\n",
    "\n",
    "for i in range(len(new_pol_fr_mult)):\n",
    "    index += 1\n",
    "    insert = \"INSERT INTO AnimalNames VALUES (\"+str(index)+\",'\"+new_pol_fr_mult['polonais'][i]+\"',\"+str(new_pol_fr_mult['lang_id'][i])+\",\"+str(new_pol_fr_mult['animal_id'][i])+\")\"\n",
    "    c.execute(insert)\n",
    "    conn.commit()"
   ]
  },
  {
   "cell_type": "code",
   "execution_count": 406,
   "metadata": {
    "collapsed": false
   },
   "outputs": [
    {
     "data": {
      "text/plain": [
       "'świnka morska'"
      ]
     },
     "execution_count": 406,
     "metadata": {},
     "output_type": "execute_result"
    }
   ],
   "source": [
    "animal_names = pd.read_sql_query(\"select * from AnimalNames;\", conn)\n",
    "animal_names['name'][len(animal_names)-1]"
   ]
  },
  {
   "cell_type": "code",
   "execution_count": 322,
   "metadata": {
    "collapsed": false
   },
   "outputs": [
    {
     "data": {
      "text/plain": [
       "['bażant', 4, 65]"
      ]
     },
     "execution_count": 322,
     "metadata": {},
     "output_type": "execute_result"
    }
   ],
   "source": [
    "list(pol_fr_one.loc[0])"
   ]
  },
  {
   "cell_type": "code",
   "execution_count": 371,
   "metadata": {
    "collapsed": false
   },
   "outputs": [],
   "source": [
    "# новый дф с одиночными словами\n",
    "\n",
    "new_pol_fr_mult = pd.DataFrame(columns=['polonais', 'francais'])\n",
    "\n",
    "\n",
    "for i in range(len(pol_fr_mult)):\n",
    "    pol_str = pol_fr_mult['polonais'][i]\n",
    "    fr_str = pol_fr_mult['francais'][i]\n",
    "    if ',' in pol_str:\n",
    "        pol = pol_str.split(', ')\n",
    "    else:\n",
    "        pol = []\n",
    "        pol.append(pol_fr_mult['polonais'][i])\n",
    "    if ',' in fr_str:\n",
    "        fr = fr_str.split(', ')\n",
    "    else:\n",
    "        fr = []\n",
    "        fr.append(pol_fr_mult['francais'][i])\n",
    "    if len(fr) == len(pol):\n",
    "        for l in range(len(pol)):\n",
    "            new_pol_fr_mult.loc[len(new_pol_fr_mult)] = [pol[l], fr[l]]\n",
    "    else:\n",
    "        for x in range(len(pol)):\n",
    "            for y in range(len(fr)):\n",
    "                new_pol_fr_mult.loc[len(new_pol_fr_mult)] = [pol[x], fr[y]]"
   ]
  },
  {
   "cell_type": "code",
   "execution_count": 373,
   "metadata": {
    "collapsed": true
   },
   "outputs": [],
   "source": [
    "new_pol_fr_mult = new_pol_fr_mult.drop(pol_fr.index[[38,14]])\n",
    "new_pol_fr_mult = new_pol_fr_mult.reset_index(drop=True)"
   ]
  },
  {
   "cell_type": "code",
   "execution_count": 398,
   "metadata": {
    "collapsed": false
   },
   "outputs": [
    {
     "name": "stderr",
     "output_type": "stream",
     "text": [
      "E:\\programs\\Anaconda3\\lib\\site-packages\\ipykernel\\__main__.py:1: SettingWithCopyWarning: \n",
      "A value is trying to be set on a copy of a slice from a DataFrame\n",
      "\n",
      "See the caveats in the documentation: http://pandas.pydata.org/pandas-docs/stable/indexing.html#indexing-view-versus-copy\n",
      "  if __name__ == '__main__':\n"
     ]
    }
   ],
   "source": [
    "new_pol_fr_mult['animal_id'][36] = 42"
   ]
  },
  {
   "cell_type": "code",
   "execution_count": 407,
   "metadata": {
    "collapsed": false
   },
   "outputs": [
    {
     "data": {
      "text/html": [
       "<div>\n",
       "<table border=\"1\" class=\"dataframe\">\n",
       "  <thead>\n",
       "    <tr style=\"text-align: right;\">\n",
       "      <th></th>\n",
       "      <th>polonais</th>\n",
       "      <th>lang_id</th>\n",
       "      <th>animal_id</th>\n",
       "    </tr>\n",
       "  </thead>\n",
       "  <tbody>\n",
       "    <tr>\n",
       "      <th>0</th>\n",
       "      <td>baranek</td>\n",
       "      <td>4</td>\n",
       "      <td>2</td>\n",
       "    </tr>\n",
       "    <tr>\n",
       "      <th>1</th>\n",
       "      <td>jagnię</td>\n",
       "      <td>4</td>\n",
       "      <td>2</td>\n",
       "    </tr>\n",
       "    <tr>\n",
       "      <th>2</th>\n",
       "      <td>owca</td>\n",
       "      <td>4</td>\n",
       "      <td>17</td>\n",
       "    </tr>\n",
       "    <tr>\n",
       "      <th>3</th>\n",
       "      <td>baran</td>\n",
       "      <td>4</td>\n",
       "      <td>106</td>\n",
       "    </tr>\n",
       "    <tr>\n",
       "      <th>4</th>\n",
       "      <td>pies</td>\n",
       "      <td>4</td>\n",
       "      <td>36</td>\n",
       "    </tr>\n",
       "  </tbody>\n",
       "</table>\n",
       "</div>"
      ],
      "text/plain": [
       "  polonais  lang_id  animal_id\n",
       "0  baranek        4          2\n",
       "1   jagnię        4          2\n",
       "2     owca        4         17\n",
       "3    baran        4        106\n",
       "4     pies        4         36"
      ]
     },
     "execution_count": 407,
     "metadata": {},
     "output_type": "execute_result"
    }
   ],
   "source": [
    "new_pol_fr_mult.head()"
   ]
  },
  {
   "cell_type": "code",
   "execution_count": 408,
   "metadata": {
    "collapsed": true
   },
   "outputs": [],
   "source": [
    "polonais = pd.ExcelFile(\"polonais.xlsx\")"
   ]
  },
  {
   "cell_type": "code",
   "execution_count": 409,
   "metadata": {
    "collapsed": false
   },
   "outputs": [
    {
     "data": {
      "text/plain": [
       "['Sheet1']"
      ]
     },
     "execution_count": 409,
     "metadata": {},
     "output_type": "execute_result"
    }
   ],
   "source": [
    "polonais.sheet_names"
   ]
  },
  {
   "cell_type": "code",
   "execution_count": 410,
   "metadata": {
    "collapsed": true
   },
   "outputs": [],
   "source": [
    "verbes = polonais.parse('Sheet1')"
   ]
  },
  {
   "cell_type": "code",
   "execution_count": 416,
   "metadata": {
    "collapsed": false
   },
   "outputs": [],
   "source": [
    "verbes = verbes.reset_index(drop=True)"
   ]
  },
  {
   "cell_type": "code",
   "execution_count": 418,
   "metadata": {
    "collapsed": false
   },
   "outputs": [
    {
     "data": {
      "text/plain": [
       "'beczy'"
      ]
     },
     "execution_count": 418,
     "metadata": {},
     "output_type": "execute_result"
    }
   ],
   "source": [
    "verbes['3e personne du sg'][0]"
   ]
  },
  {
   "cell_type": "code",
   "execution_count": 421,
   "metadata": {
    "collapsed": false
   },
   "outputs": [],
   "source": [
    "# добавляем глаголы в бд Verbs\n",
    "\n",
    "vrbs = pd.read_sql_query(\"select * from Verbs;\", conn)\n",
    "\n",
    "c = conn.cursor()\n",
    "\n",
    "index = vrbs['id'][len(vrbs)-1]\n",
    "\n",
    "for i in range(len(verbes)):\n",
    "    index += 1\n",
    "    insert = \"INSERT INTO Verbs VALUES (\"+str(index)+\",'\"+verbes['3e personne du sg'][i]+\"','\"+verbes['Verbe en polonais'][i]+\"',4)\"\n",
    "    c.execute(insert)\n",
    "    conn.commit()"
   ]
  },
  {
   "cell_type": "code",
   "execution_count": 422,
   "metadata": {
    "collapsed": true
   },
   "outputs": [],
   "source": [
    "vrbs = pd.read_sql_query(\"select * from Verbs;\", conn)"
   ]
  },
  {
   "cell_type": "code",
   "execution_count": 526,
   "metadata": {
    "collapsed": false
   },
   "outputs": [
    {
     "data": {
      "text/html": [
       "<div>\n",
       "<table border=\"1\" class=\"dataframe\">\n",
       "  <thead>\n",
       "    <tr style=\"text-align: right;\">\n",
       "      <th></th>\n",
       "      <th>polonais</th>\n",
       "      <th>verb</th>\n",
       "    </tr>\n",
       "  </thead>\n",
       "  <tbody>\n",
       "    <tr>\n",
       "      <th>0</th>\n",
       "      <td>baranek, jagnię; owca; baran</td>\n",
       "      <td>beczeć - bekać / beknąć</td>\n",
       "    </tr>\n",
       "    <tr>\n",
       "      <th>1</th>\n",
       "      <td>bażant</td>\n",
       "      <td>piać</td>\n",
       "    </tr>\n",
       "    <tr>\n",
       "      <th>2</th>\n",
       "      <td>bocian</td>\n",
       "      <td>klekotać</td>\n",
       "    </tr>\n",
       "    <tr>\n",
       "      <th>3</th>\n",
       "      <td>byk, wół</td>\n",
       "      <td>ryczeć</td>\n",
       "    </tr>\n",
       "    <tr>\n",
       "      <th>4</th>\n",
       "      <td>chomik</td>\n",
       "      <td>prychać</td>\n",
       "    </tr>\n",
       "  </tbody>\n",
       "</table>\n",
       "</div>"
      ],
      "text/plain": [
       "                       polonais                     verb\n",
       "0  baranek, jagnię; owca; baran  beczeć - bekać / beknąć\n",
       "1                        bażant                     piać\n",
       "2                        bocian                 klekotać\n",
       "3                      byk, wół                   ryczeć\n",
       "4                        chomik                  prychać"
      ]
     },
     "execution_count": 526,
     "metadata": {},
     "output_type": "execute_result"
    }
   ],
   "source": [
    "pol_fr.head()"
   ]
  },
  {
   "cell_type": "code",
   "execution_count": 537,
   "metadata": {
    "collapsed": false
   },
   "outputs": [
    {
     "name": "stdout",
     "output_type": "stream",
     "text": [
      "nan sokół 65\n",
      "nan szpak 68\n"
     ]
    }
   ],
   "source": [
    "verb_anim = pd.DataFrame(columns=['verb_id','anim_id'])\n",
    "animal_names = pd.read_sql_query(\"select * from AnimalNames;\", conn)\n",
    "\n",
    "for i in range(len(pol_fr)):\n",
    "#    pol_fr['polonais'][i] = pol_fr['polonais'][i].replace(\";\", \"\")\n",
    "#    pol_fr['polonais'][i] = pol_fr['polonais'][i].replace(\",\", \"\")\n",
    "    p = pol_fr['polonais'][i].split(' ')\n",
    "    num = []\n",
    "    for x in range(len(p)):\n",
    "        a = animal_names[animal_names['name']==p[x]]\n",
    "        for n in list(a['animal_id']):\n",
    "            num.append(str(n))\n",
    "    v = vrbs[vrbs['infin']==pol_fr['verb'][i]]\n",
    "    for j in num:\n",
    "        try:\n",
    "            verb_anim.loc[len(verb_anim)] = [str(int(v['id'])), j]\n",
    "        except TypeError:\n",
    "            print(pol_fr['verb'][i], pol_fr['polonais'][i], i)"
   ]
  },
  {
   "cell_type": "code",
   "execution_count": 547,
   "metadata": {
    "collapsed": false
   },
   "outputs": [
    {
     "data": {
      "text/html": [
       "<div>\n",
       "<table border=\"1\" class=\"dataframe\">\n",
       "  <thead>\n",
       "    <tr style=\"text-align: right;\">\n",
       "      <th></th>\n",
       "      <th>verb_id</th>\n",
       "      <th>anim_id</th>\n",
       "    </tr>\n",
       "  </thead>\n",
       "  <tbody>\n",
       "    <tr>\n",
       "      <th>0</th>\n",
       "      <td>217</td>\n",
       "      <td>2</td>\n",
       "    </tr>\n",
       "    <tr>\n",
       "      <th>1</th>\n",
       "      <td>217</td>\n",
       "      <td>106</td>\n",
       "    </tr>\n",
       "    <tr>\n",
       "      <th>2</th>\n",
       "      <td>217</td>\n",
       "      <td>12</td>\n",
       "    </tr>\n",
       "    <tr>\n",
       "      <th>3</th>\n",
       "      <td>217</td>\n",
       "      <td>17</td>\n",
       "    </tr>\n",
       "    <tr>\n",
       "      <th>4</th>\n",
       "      <td>248</td>\n",
       "      <td>65</td>\n",
       "    </tr>\n",
       "  </tbody>\n",
       "</table>\n",
       "</div>"
      ],
      "text/plain": [
       "  verb_id anim_id\n",
       "0     217       2\n",
       "1     217     106\n",
       "2     217      12\n",
       "3     217      17\n",
       "4     248      65"
      ]
     },
     "execution_count": 547,
     "metadata": {},
     "output_type": "execute_result"
    }
   ],
   "source": [
    "verb_anim.head()"
   ]
  },
  {
   "cell_type": "code",
   "execution_count": 544,
   "metadata": {
    "collapsed": false
   },
   "outputs": [],
   "source": [
    "for i in range(1, len(verb_anim)):\n",
    "    if verb_anim['verb_id'][i]==verb_anim['verb_id'][i-1] and verb_anim['anim_id'][i]==verb_anim['anim_id'][i-1]:\n",
    "        print(i-1, verb_anim['verb_id'][i-1], verb_anim['anim_id'][i-1])\n",
    "        print(i, verb_anim['verb_id'][i], verb_anim['anim_id'][i])\n",
    "        print()"
   ]
  },
  {
   "cell_type": "code",
   "execution_count": 549,
   "metadata": {
    "collapsed": false
   },
   "outputs": [],
   "source": [
    "sounds = pd.read_sql_query(\"select * from SoundsTrans;\", conn)\n",
    "\n",
    "c = conn.cursor()\n",
    "\n",
    "index = sounds['id'][len(sounds)-1]\n",
    "\n",
    "for i in range(len(verb_anim)):\n",
    "    index += 1\n",
    "    insert = \"INSERT INTO SoundsTrans VALUES (\"+str(index)+\",\"+verb_anim['verb_id'][i]+\",0,4,\"+verb_anim['anim_id'][i]+\")\"\n",
    "    c.execute(insert)\n",
    "    conn.commit()"
   ]
  },
  {
   "cell_type": "code",
   "execution_count": null,
   "metadata": {
    "collapsed": true
   },
   "outputs": [],
   "source": []
  }
 ],
 "metadata": {
  "anaconda-cloud": {},
  "kernelspec": {
   "display_name": "Python [conda root]",
   "language": "python",
   "name": "conda-root-py"
  },
  "language_info": {
   "codemirror_mode": {
    "name": "ipython",
    "version": 3
   },
   "file_extension": ".py",
   "mimetype": "text/x-python",
   "name": "python",
   "nbconvert_exporter": "python",
   "pygments_lexer": "ipython3",
   "version": "3.5.2"
  }
 },
 "nbformat": 4,
 "nbformat_minor": 1
}
