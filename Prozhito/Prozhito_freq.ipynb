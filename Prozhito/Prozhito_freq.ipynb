{
 "cells": [
  {
   "cell_type": "code",
   "execution_count": 11,
   "metadata": {
    "collapsed": true
   },
   "outputs": [],
   "source": [
    "from collections import defaultdict"
   ]
  },
  {
   "cell_type": "code",
   "execution_count": 12,
   "metadata": {
    "collapsed": true
   },
   "outputs": [],
   "source": [
    "rows = []\n",
    "with open('places.csv', 'r', encoding='utf-8') as f:\n",
    "    train = f.readlines()\n",
    "for line in train:\n",
    "    line = line.strip('\\n')\n",
    "    sets = line.split(',#')\n",
    "    for setr in range(len(sets)):\n",
    "        sets[setr] = sets[setr].strip(',#')\n",
    "    rows.append(sets)"
   ]
  },
  {
   "cell_type": "code",
   "execution_count": 13,
   "metadata": {
    "collapsed": true
   },
   "outputs": [],
   "source": [
    "name_col = []\n",
    "for row in rows[1:]:\n",
    "    if len(row[4]) != 0:\n",
    "        name_col.append(row[4])"
   ]
  },
  {
   "cell_type": "code",
   "execution_count": 14,
   "metadata": {
    "collapsed": true
   },
   "outputs": [],
   "source": [
    "for row in name_col:\n",
    "    row1 = row.strip('\"')\n",
    "    row1 = row1.split(',')\n",
    "    name_col[name_col.index(row)] = row1"
   ]
  },
  {
   "cell_type": "code",
   "execution_count": 15,
   "metadata": {
    "collapsed": true
   },
   "outputs": [],
   "source": [
    "stop_words = ['то', 'нея', 'куда', 'ляля', 'вся', 'самый', 'который', 'красный', 'великое', 'красная', 'май',\n",
    "             'сфаят', 'пушкин', 'сережа', 'лена', 'нева', 'кан', 'пара', 'дон', 'особый', 'район', 'велик', 'стессель',\n",
    "             'красных', 'волга', 'запад', 'восток', 'советская', 'бывшая']"
   ]
  },
  {
   "cell_type": "code",
   "execution_count": 16,
   "metadata": {
    "collapsed": false
   },
   "outputs": [],
   "source": [
    "names_freq = []\n",
    "for name_set in name_col:\n",
    "    dic = {}\n",
    "    for name in name_set:\n",
    "        name = name.split('->')\n",
    "        #place = re.findall(\"name='(.+?)'\", name[0])[0]\n",
    "        place = name[0]\n",
    "        place_list = place.split()\n",
    "        if len(place_list) == 1 and place not in stop_words:\n",
    "            dic[place] = name[1]\n",
    "        else:\n",
    "            pl2 = [p for p in place_list if p not in stop_words]\n",
    "            pl2 = ' '.join(pl2)\n",
    "            if pl2 != '':\n",
    "                dic[pl2] = name[1]\n",
    "    names_freq.append(dic)"
   ]
  },
  {
   "cell_type": "code",
   "execution_count": 17,
   "metadata": {
    "collapsed": false
   },
   "outputs": [],
   "source": [
    "cases = defaultdict(int)\n",
    "for name_frq in names_freq:\n",
    "    for name in name_frq:\n",
    "        cases[name] += int(name_frq[name])"
   ]
  },
  {
   "cell_type": "code",
   "execution_count": 18,
   "metadata": {
    "collapsed": false
   },
   "outputs": [
    {
     "data": {
      "text/plain": [
       "9947"
      ]
     },
     "execution_count": 18,
     "metadata": {},
     "output_type": "execute_result"
    }
   ],
   "source": [
    "len(cases)"
   ]
  },
  {
   "cell_type": "code",
   "execution_count": 20,
   "metadata": {
    "collapsed": false
   },
   "outputs": [
    {
     "name": "stdout",
     "output_type": "stream",
     "text": [
      "5471\tмосква\n",
      "2532\tленинград\n",
      "2307\tроссия\n",
      "1287\tгермания\n",
      "780\tанглия\n",
      "744\tкитай\n",
      "638\tберлин\n",
      "636\tпетроград\n",
      "596\tяпония\n",
      "583\tкиев\n",
      "577\tсша\n",
      "506\tевропа\n",
      "479\tамерика\n",
      "474\tфранция\n",
      "457\tсталинград\n",
      "447\tпариж\n",
      "401\tукраина\n",
      "366\tпольша\n",
      "359\tсевастополь\n",
      "341\tвладимир\n",
      "316\tкрым\n",
      "307\tростов\n",
      "293\tиталия\n",
      "292\tялта\n",
      "284\tодесса\n",
      "276\tхарьков\n",
      "276\tпетербург\n",
      "272\tсибирь\n",
      "261\tсахара\n",
      "248\tкронштадт\n",
      "236\tлондон\n",
      "229\tурал\n",
      "221\tболгария\n",
      "215\tкалинин\n",
      "213\tльвов\n",
      "212\tташкент\n",
      "210\tфинляндия\n",
      "205\tчайковский\n",
      "204\tомск\n",
      "202\tчерчилль\n",
      "202\tчжоу\n",
      "199\tяньани\n",
      "197\tднепр\n",
      "197\tсимбирск\n",
      "194\tрумыния\n",
      "192\tмирный\n",
      "184\tкавказ\n",
      "182\tалупка\n",
      "181\tдальний\n",
      "175\tказань\n",
      "170\tиванов\n",
      "169\tпаллада\n",
      "164\tворонеж\n",
      "163\tукраинский\n",
      "159\tорёл\n",
      "153\tкарман\n",
      "152\tчехов\n",
      "151\tтурция\n",
      "146\tлида\n",
      "139\tваршава\n",
      "139\tконстантинополь\n",
      "138\tсоветский\n",
      "138\tмихайлов\n",
      "137\tгрозный\n",
      "135\tиндия\n",
      "134\tпокровский\n",
      "129\tсеверный\n",
      "128\tрусь\n",
      "125\tпрага\n",
      "123\tкиров\n",
      "123\tсвердловск\n",
      "123\tдонбасс\n",
      "123\tрига\n",
      "121\tвладивосток\n",
      "120\tчех\n",
      "117\tминск\n",
      "112\tниколаев\n",
      "110\tвенгрия\n",
      "109\tманьчжурия\n",
      "109\tчунцин\n",
      "107\tюра\n",
      "106\tладога\n",
      "106\tсмоленск\n",
      "104\tпубалта\n",
      "100\tрим\n",
      "99\tюгославия\n",
      "99\tпятницкий\n",
      "99\tпередний край\n",
      "98\tворкута\n",
      "97\tсофия\n",
      "97\tпсков\n",
      "96\tтверская\n",
      "95\tчкалов\n",
      "95\tреж\n",
      "94\tсухаревка\n",
      "93\tсена\n",
      "93\tкуйбышев\n",
      "93\tкампания\n",
      "93\tталлин\n",
      "93\tпермь\n"
     ]
    }
   ],
   "source": [
    "for case in sorted(cases, key=lambda w: cases[w], reverse=True)[:100]:\n",
    "        print('{}\\t{}'.format(cases[case], case))\n",
    "    \n",
    "# нужно еще чистить"
   ]
  },
  {
   "cell_type": "code",
   "execution_count": null,
   "metadata": {
    "collapsed": true
   },
   "outputs": [],
   "source": []
  },
  {
   "cell_type": "code",
   "execution_count": null,
   "metadata": {
    "collapsed": true
   },
   "outputs": [],
   "source": []
  }
 ],
 "metadata": {
  "kernelspec": {
   "display_name": "Python 3",
   "language": "python",
   "name": "python3"
  },
  "language_info": {
   "codemirror_mode": {
    "name": "ipython",
    "version": 3
   },
   "file_extension": ".py",
   "mimetype": "text/x-python",
   "name": "python",
   "nbconvert_exporter": "python",
   "pygments_lexer": "ipython3",
   "version": "3.5.3"
  }
 },
 "nbformat": 4,
 "nbformat_minor": 2
}
