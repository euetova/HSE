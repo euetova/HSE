{
 "cells": [
  {
   "cell_type": "code",
   "execution_count": 1,
   "metadata": {
    "collapsed": true
   },
   "outputs": [],
   "source": [
    "from natasha import LocationExtractor\n",
    "from collections import defaultdict\n",
    "import re\n",
    "from datetime import datetime\n",
    "from itertools import islice\n",
    "import tqdm"
   ]
  },
  {
   "cell_type": "code",
   "execution_count": 2,
   "metadata": {
    "collapsed": true
   },
   "outputs": [],
   "source": [
    "def Make_matches(text):\n",
    "    ne = LocationExtractor()\n",
    "    matches = ne(text)\n",
    "    return matches"
   ]
  },
  {
   "cell_type": "code",
   "execution_count": 21,
   "metadata": {
    "collapsed": true
   },
   "outputs": [],
   "source": [
    "def file_walker(file):\n",
    "    rows = []\n",
    "    not_proper = []\n",
    "    with open(file, 'r', encoding='utf-8') as f:\n",
    "        train = list(islice(f, 25000))\n",
    "    for line in train:\n",
    "        line = line.strip('\\n')\n",
    "        sets = line.split(',#')\n",
    "        for setr in range(len(sets)):\n",
    "            sets[setr] = sets[setr].strip(',#')\n",
    "        if len(sets) == 10:\n",
    "            rows.append(sets)\n",
    "        else:\n",
    "            not_proper.append(sets)\n",
    "    return rows, not_proper"
   ]
  },
  {
   "cell_type": "code",
   "execution_count": 22,
   "metadata": {
    "collapsed": false
   },
   "outputs": [],
   "source": [
    "notes, not_proper = file_walker('notes_beautiful_all.csv')"
   ]
  },
  {
   "cell_type": "code",
   "execution_count": 23,
   "metadata": {
    "collapsed": true,
    "scrolled": true
   },
   "outputs": [],
   "source": [
    "def Extract_places(notes, all_names):\n",
    "    \n",
    "    for note in tqdm.tqdm_notebook(notes[1:]):            \n",
    "        cases = defaultdict(int)\n",
    "        note_names = []\n",
    "        try:\n",
    "            matches = Make_matches(note[2])\n",
    "        except IndexError:\n",
    "            print(note)\n",
    "        \n",
    "        for match in matches:\n",
    "            name = match.fact\n",
    "            string = ''\n",
    "            if name != None:\n",
    "                string += str(name) + ' '\n",
    "            note_names.append(string[:-1])\n",
    "        \n",
    "        for name in note_names:\n",
    "            cases[name] += 1\n",
    "            \n",
    "        if len(note) >= 4:\n",
    "            arr = [note[0], note[1], note[3]]\n",
    "        else:\n",
    "            arr = [note[0], note[1], \"Not known\"]\n",
    "        tups = []\n",
    "        \n",
    "        for key in cases:\n",
    "            place = re.findall(\"name='(.+?)'\", key)[0]\n",
    "            tups.append((place, cases[key]))\n",
    "        arr.append(tups)\n",
    "        all_names.append(arr)\n",
    "    return(all_names)"
   ]
  },
  {
   "cell_type": "code",
   "execution_count": 24,
   "metadata": {
    "collapsed": false,
    "scrolled": true
   },
   "outputs": [
    {
     "name": "stdout",
     "output_type": "stream",
     "text": [
      "\n",
      "Duration: 1:29:53.760924\n"
     ]
    }
   ],
   "source": [
    "start_time = datetime.now()\n",
    "all_names = []\n",
    "names_all = Extract_places(notes, all_names)\n",
    "end_time = datetime.now()\n",
    "print('Duration: {}'.format(end_time - start_time))"
   ]
  },
  {
   "cell_type": "code",
   "execution_count": 25,
   "metadata": {
    "collapsed": false
   },
   "outputs": [
    {
     "data": {
      "text/plain": [
       "24999"
      ]
     },
     "execution_count": 25,
     "metadata": {},
     "output_type": "execute_result"
    }
   ],
   "source": [
    "len(names_all)"
   ]
  },
  {
   "cell_type": "code",
   "execution_count": 26,
   "metadata": {
    "collapsed": true
   },
   "outputs": [],
   "source": [
    "def file_walker(file):\n",
    "    rows = []\n",
    "    with open(file, 'r', encoding='utf-8') as f:\n",
    "        train = f.readlines()\n",
    "    for line in train:\n",
    "        line = line.strip('\\n')\n",
    "        sets = line.split(',#')\n",
    "        for setr in range(len(sets)):\n",
    "            sets[setr] = sets[setr].strip(',#')\n",
    "        rows.append(sets)\n",
    "    return rows"
   ]
  },
  {
   "cell_type": "code",
   "execution_count": 27,
   "metadata": {
    "collapsed": false
   },
   "outputs": [],
   "source": [
    "diary = file_walker('diary_beautiful.csv')\n",
    "diaryid_persid = {}\n",
    "for diar in diary[1:]:\n",
    "    diaryid_persid[diar[0]] = diar[1]"
   ]
  },
  {
   "cell_type": "code",
   "execution_count": 33,
   "metadata": {
    "collapsed": false,
    "scrolled": true
   },
   "outputs": [],
   "source": [
    "final_data = [['note_id', 'diary_id', 'author_id', 'note_date', 'places']]\n",
    "for name in names_all:\n",
    "    if name[1] != '\"2\"': # почему-то в файле нет id == 2\n",
    "        final_data.append([name[0], name[1], diaryid_persid[name[1]], name[2], name[3]])\n",
    "    else:\n",
    "        final_data.append([name[0], \"2\", \"Not known\", name[2], name[3]])"
   ]
  },
  {
   "cell_type": "code",
   "execution_count": 19,
   "metadata": {
    "collapsed": false
   },
   "outputs": [
    {
     "data": {
      "text/plain": [
       "['\"39085\"',\n",
       " '\"234\"',\n",
       " '\"241\"',\n",
       " '\"1933-01-15\"',\n",
       " [('калинин', 1),\n",
       "  ('нея', 1),\n",
       "  ('то', 1),\n",
       "  ('красный', 1),\n",
       "  ('ленинград', 1),\n",
       "  ('реж', 1),\n",
       "  ('кавказ', 1),\n",
       "  ('москва', 3),\n",
       "  ('сена', 2)]]"
      ]
     },
     "execution_count": 19,
     "metadata": {},
     "output_type": "execute_result"
    }
   ],
   "source": [
    "final_data[5]"
   ]
  },
  {
   "cell_type": "code",
   "execution_count": 34,
   "metadata": {
    "collapsed": false
   },
   "outputs": [
    {
     "name": "stdout",
     "output_type": "stream",
     "text": [
      "Duration: 0:00:00.173691\n"
     ]
    }
   ],
   "source": [
    "start_time = datetime.now()\n",
    "with open(\"places.csv\", 'w', encoding='utf-8') as f:\n",
    "    for header in final_data[0]:\n",
    "        if header != final_data[0][-1]:\n",
    "            f.write(str(header)+',#')\n",
    "        if header == final_data[0][-1]:\n",
    "            f.write(str(header)+'\\n')\n",
    "    for data in final_data[1:]:\n",
    "        if len(data[-1]) != 0:\n",
    "            for content in data:\n",
    "                if content != data[-1]:\n",
    "                    f.write(str(content)+',#')\n",
    "                if content == data[-1]:\n",
    "                    f.write('\"')\n",
    "                    for tup in content:\n",
    "                        if tup != content[-1]:\n",
    "                            f.write(str(tup[0])+'->'+str(tup[1])+',')\n",
    "                        else:\n",
    "                            f.write(str(tup[0])+'->'+str(tup[1])+'\"\\n')\n",
    "        else:\n",
    "            for content in data:\n",
    "                if content != data[-1]:\n",
    "                    f.write(str(content)+',#')\n",
    "                if content == data[-1]:\n",
    "                    f.write('\\n')\n",
    "end_time = datetime.now()\n",
    "print('Duration: {}'.format(end_time - start_time))"
   ]
  },
  {
   "cell_type": "code",
   "execution_count": null,
   "metadata": {
    "collapsed": true
   },
   "outputs": [],
   "source": []
  }
 ],
 "metadata": {
  "kernelspec": {
   "display_name": "Python 3",
   "language": "python",
   "name": "python3"
  },
  "language_info": {
   "codemirror_mode": {
    "name": "ipython",
    "version": 3
   },
   "file_extension": ".py",
   "mimetype": "text/x-python",
   "name": "python",
   "nbconvert_exporter": "python",
   "pygments_lexer": "ipython3",
   "version": "3.5.3"
  },
  "widgets": {
   "state": {
    "438ad8de82f54e70af254e6367335446": {
     "views": [
      {
       "cell_index": 5
      }
     ]
    }
   },
   "version": "1.2.0"
  }
 },
 "nbformat": 4,
 "nbformat_minor": 2
}
