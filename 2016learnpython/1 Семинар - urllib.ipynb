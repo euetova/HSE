{
 "cells": [
  {
   "cell_type": "markdown",
   "metadata": {},
   "source": [
    "# Семинар 1. Выкачиваем Интернет.\n",
    "\n",
    "## Введение\n",
    "Современный Интернет предоставляет лингвистам большое количество языковых данных: электронные газеты и журналы, блоги, форумы, социальные сети и т.д. Например, можно найти в сети много-много текстов и собрать корпус, или найти все газетные статьи и блог-посты про какую-нибудь корпорацию и проанализировать тональность сообщений. Сейчас мы научимся заниматься выкачиванием страниц из интернета с помощью Python.\n",
    "\n",
    "Для скачивания HTML-страниц в питоне есть специальный модуль **urllib.request**. \n",
    "\n",
    "## Минимальный пример\n",
    "Допустим, мы хотим скачать главную страницу Хабрахабра.  \n",
    "На самом деле, когда мы хотим открыть какую-то страницу в интернете, наш браузер отправляет на сервер запрос (\"Привет, сервер! я хочу код страницы по вот такому адресу!\"), а сервер затем отправляет ответ (\"Привет! Вот код страницы: ...\").\n",
    "Чтобы получить страницу через питон, нужно сформировать запрос на сервер так же, как это делает браузер:"
   ]
  },
  {
   "cell_type": "code",
   "execution_count": 12,
   "metadata": {
    "collapsed": true
   },
   "outputs": [],
   "source": [
    "import urllib.request  # импортируем модуль \n",
    "req = urllib.request.Request('https://habrahabr.ru/')\n",
    "with urllib.request.urlopen(req) as response:\n",
    "   html = response.read().decode('utf-8')"
   ]
  },
  {
   "cell_type": "markdown",
   "metadata": {},
   "source": [
    "В переменной **req** у нас как раз находится запрос.\n",
    "Функция **urlopen** получает ответ сервера и скачивает страницу по ссылке https://habrahabr.ru/ в переменную **response**. **response** ведет себя как файл: например мы можем прочитать его содержимое с помощью **.read()** в другую переменную. \n",
    "Вот так просто мы сохранили код страницы в переменной **html**. Убедимся, что в там лежит html-код:"
   ]
  },
  {
   "cell_type": "code",
   "execution_count": 13,
   "metadata": {
    "collapsed": false
   },
   "outputs": [
    {
     "name": "stdout",
     "output_type": "stream",
     "text": [
      "<!DOCTYPE html>\n",
      "<html >\n",
      "  <head>\n",
      "    <meta http-equiv=\"content-type\" content=\"text/html; charset=utf-8\" />\n",
      "    <meta content='width=1024' name='viewport'>\n",
      "    <title>Интересные публикации / Хабрахабр</title>\n",
      "\n",
      "\n",
      "\n"
     ]
    }
   ],
   "source": [
    "print(html[:210])"
   ]
  },
  {
   "cell_type": "markdown",
   "metadata": {},
   "source": [
    "Иногда сайт блокирует запросы, если их посылает не настоящий браузер с пользователем, а какой-то бот (например, так делает Гугл или Википедия). Иногда сайты присылают разные версии страниц, разным браузерам.  \n",
    "По этим причинам полезно бывает писать скрипт, который умеет притворяться то одним, то другим браузером.\n",
    "Когда мы пытаемся получить страницу с помощью **urllib**, наш код по умолчанию честно сообщает серверу, что он является программой на питоне. Он говорит что-то вроде \"Привет, я Python-urllib/3.5\". \n",
    "Но можно, например, представиться Мозиллой:"
   ]
  },
  {
   "cell_type": "code",
   "execution_count": null,
   "metadata": {
    "collapsed": true
   },
   "outputs": [],
   "source": [
    "url = 'https://habrahabr.ru/'  # адрес страницы, которую мы хотим скачать\n",
    "user_agent = 'Mozilla/5.0 (Windows NT 6.1; Win64; x64)'  # хотим притворяться браузером\n",
    "\n",
    "req = urllib.request.Request('https://habrahabr.ru/', headers={'User-Agent':user_agent})  \n",
    "# добавили в запрос информацию о том, что мы браузер Мозилла\n",
    "\n",
    "with urllib.request.urlopen(req) as response:\n",
    "   html = response.read().decode('utf-8')"
   ]
  },
  {
   "cell_type": "markdown",
   "metadata": {},
   "source": [
    "## Напоминание: как найти на странице что-нибудь\n",
    "Теперь предположим, что мы хотим выкачивать заголовки статей с главной страницы Хабрахабра. Код страницы у нас уже есть, но как из него что-то вытащить. Для начала нужно посмотреть в [исходник](view-source:https://habrahabr.ru/) и заметить, что заголовки хранятся в тэге **h2** с классом **post__title**. Заголовок выглядит примерно так:\n",
    "\n",
    "<h2 class=\"post__title\">\n",
    "      <a href=\"https://habrahabr.ru/flows/admin/\" class=\"post__flow\"  onclick=\"if (typeof ga === 'function') { ga('send', 'event', 'flow', 'feed page', 'Администрирование'); }\">Администрирование</a><span class=\"post__title-arrow\">&nbsp;&rarr;</span>\n",
    "      <a href=\"https://habrahabr.ru/company/okmeter/blog/309600/\" class=\"post__title_link\">Мониторинг сетевого стэка linux</a>\n",
    "    </h2>\n",
    " \n",
    "А код у него такой:"
   ]
  },
  {
   "cell_type": "code",
   "execution_count": null,
   "metadata": {
    "collapsed": true
   },
   "outputs": [],
   "source": [
    "<h2 class=\"post__title\">\n",
    "      <a href=\"https://habrahabr.ru/flows/admin/\" class=\"post__flow\"  onclick=\"if (typeof ga === 'function') { ga('send', 'event', 'flow', 'feed page', 'Администрирование'); }\">Администрирование</a><span class=\"post__title-arrow\">&nbsp;&rarr;</span>\n",
    "      <a href=\"https://habrahabr.ru/company/okmeter/blog/309600/\" class=\"post__title_link\">Мониторинг сетевого стэка linux</a>\n",
    "    </h2>"
   ]
  },
  {
   "cell_type": "markdown",
   "metadata": {},
   "source": [
    "Чтобы вытащить все такие заголовки, воспользуемся регулярным выражением."
   ]
  },
  {
   "cell_type": "code",
   "execution_count": 19,
   "metadata": {
    "collapsed": false
   },
   "outputs": [],
   "source": [
    "import re\n",
    "regPostTitle = re.compile('<h2 class=\"post__title\">.*?</h2>', flags=re.U | re.DOTALL)\n",
    "titles = regPostTitle.findall(html)"
   ]
  },
  {
   "cell_type": "markdown",
   "metadata": {},
   "source": [
    "Посмотрим, сколько там заголовков. И взглянем, например, на первые три."
   ]
  },
  {
   "cell_type": "code",
   "execution_count": 20,
   "metadata": {
    "collapsed": false
   },
   "outputs": [
    {
     "name": "stdout",
     "output_type": "stream",
     "text": [
      "10\n"
     ]
    }
   ],
   "source": [
    "print(len(titles))"
   ]
  },
  {
   "cell_type": "code",
   "execution_count": 21,
   "metadata": {
    "collapsed": false
   },
   "outputs": [
    {
     "name": "stdout",
     "output_type": "stream",
     "text": [
      "['<h2 class=\"post__title\">\\n      <a href=\"https://habrahabr.ru/flows/develop/\" class=\"post__flow\"  onclick=\"if (typeof ga === \\'function\\') { ga(\\'send\\', \\'event\\', \\'flow\\', \\'feed page\\', \\'Разработка\\'); }\">Разработка</a><span class=\"post__title-arrow\">&nbsp;&rarr;</span>\\n      <a href=\"https://habrahabr.ru/company/yandex/blog/309652/\" class=\"post__title_link\">Выявление проблем дорожной сети с помощью Яндекс.Пробок. Лекция в Яндексе</a>\\n      \\n\\n\\n\\n\\n\\n\\n\\n\\n    </h2>', '<h2 class=\"post__title\">\\n      <a href=\"https://habrahabr.ru/flows/develop/\" class=\"post__flow\"  onclick=\"if (typeof ga === \\'function\\') { ga(\\'send\\', \\'event\\', \\'flow\\', \\'feed page\\', \\'Разработка\\'); }\">Разработка</a><span class=\"post__title-arrow\">&nbsp;&rarr;</span>\\n      <a href=\"https://habrahabr.ru/post/309660/\" class=\"post__title_link\">Plug-and-Get-Security I, мониторинг настроек TLS в роще доменов</a>\\n      \\n\\n\\n\\n<a href=\"/sandbox/\" class=\"flag flag_sandbox\" title=\"Перейти в песочницу\">из песочницы</a>\\n\\n\\n\\n\\n    </h2>', '<h2 class=\"post__title\">\\n      <a href=\"https://habrahabr.ru/flows/admin/\" class=\"post__flow\"  onclick=\"if (typeof ga === \\'function\\') { ga(\\'send\\', \\'event\\', \\'flow\\', \\'feed page\\', \\'Администрирование\\'); }\">Администрирование</a><span class=\"post__title-arrow\">&nbsp;&rarr;</span>\\n      <a href=\"https://habrahabr.ru/company/okmeter/blog/309600/\" class=\"post__title_link\">Мониторинг сетевого стэка linux</a>\\n      \\n\\n\\n\\n\\n\\n\\n\\n\\n    </h2>']\n"
     ]
    }
   ],
   "source": [
    "print(titles[:3])"
   ]
  },
  {
   "cell_type": "markdown",
   "metadata": {},
   "source": [
    "Теперь давайте очистим заголовки от лишних переносов строк, лишних тэгов и распечатаем их подряд."
   ]
  },
  {
   "cell_type": "code",
   "execution_count": 28,
   "metadata": {
    "collapsed": false
   },
   "outputs": [
    {
     "name": "stdout",
     "output_type": "stream",
     "text": [
      "Разработка&nbsp;&rarr;Выявление проблем дорожной сети с помощью Яндекс.Пробок. Лекция в Яндексе\n",
      "Разработка&nbsp;&rarr;Plug-and-Get-Security I, мониторинг настроек TLS в роще доменовиз песочницы\n",
      "Администрирование&nbsp;&rarr;Мониторинг сетевого стэка linux\n",
      "Управление&nbsp;&rarr;Квалификация коллег-программистов: ожидание и реальностьиз песочницы\n",
      "Разработка&nbsp;&rarr;Немного о ARM Security Extensions (aka ARM TrustZone)\n",
      "Разработка&nbsp;&rarr;Offline-first приложение с Hoodie & React. Часть вторая: авторизацияtutorial\n",
      "Администрирование&nbsp;&rarr;Кабель-менеджмент и PUE: как они связаны?\n",
      "Разработка&nbsp;&rarr;Функциональная безопасность, Часть 2 из 2. МЭК 61508: кем быть, Шерлоком Холмсом или Дата Туташхиа?\n",
      "Управление&nbsp;&rarr;Дорогие стартапы, хватит задавать математические задачки, чтобы понять умею-ли я программироватьперевод\n",
      "Управление&nbsp;&rarr;Мнения экспертов об ушедшем в историю «правиле 20%» Google\n"
     ]
    }
   ],
   "source": [
    "new_titles = []\n",
    "regTag = re.compile('<.*?>', flags=re.U | re.DOTALL)\n",
    "regSpace = re.compile('\\s{2,}', flags=re.U | re.DOTALL)\n",
    "for t in titles:\n",
    "    clean_t = regSpace.sub(\"\", t)\n",
    "    clean_t = regTag.sub(\"\", clean_t)\n",
    "    new_titles.append(clean_t)\n",
    "for t in new_titles:\n",
    "    print(t)"
   ]
  },
  {
   "cell_type": "markdown",
   "metadata": {},
   "source": [
    "Ну и осталось убрать некрасивые кусочки html, а именно заменить специальные html-последовательности nbsp и rarr на стрелочку, например."
   ]
  },
  {
   "cell_type": "code",
   "execution_count": 29,
   "metadata": {
    "collapsed": false
   },
   "outputs": [
    {
     "name": "stdout",
     "output_type": "stream",
     "text": [
      "Разработка -> Выявление проблем дорожной сети с помощью Яндекс.Пробок. Лекция в Яндексе\n",
      "Разработка -> Plug-and-Get-Security I, мониторинг настроек TLS в роще доменовиз песочницы\n",
      "Администрирование -> Мониторинг сетевого стэка linux\n",
      "Управление -> Квалификация коллег-программистов: ожидание и реальностьиз песочницы\n",
      "Разработка -> Немного о ARM Security Extensions (aka ARM TrustZone)\n",
      "Разработка -> Offline-first приложение с Hoodie & React. Часть вторая: авторизацияtutorial\n",
      "Администрирование -> Кабель-менеджмент и PUE: как они связаны?\n",
      "Разработка -> Функциональная безопасность, Часть 2 из 2. МЭК 61508: кем быть, Шерлоком Холмсом или Дата Туташхиа?\n",
      "Управление -> Дорогие стартапы, хватит задавать математические задачки, чтобы понять умею-ли я программироватьперевод\n",
      "Управление -> Мнения экспертов об ушедшем в историю «правиле 20%» Google\n"
     ]
    }
   ],
   "source": [
    "for t in new_titles:\n",
    "    print(t.replace(\"&nbsp;&rarr;\", \" -> \"))"
   ]
  },
  {
   "cell_type": "markdown",
   "metadata": {},
   "source": [
    "### Ура! Мы умеем скачивать страницу и вытаскивать из нее какую-то интересную информацию.\n",
    "\n",
    "## Задания\n",
    "\n",
    "1. Скачать главную страницу Яндекс.Погоды и <br>\n",
    "    \n",
    "    &nbsp;&nbsp;&nbsp;&nbsp;а) распечатать сегодняшнюю температуру и облачность<br>\n",
    "    \n",
    "    &nbsp;&nbsp;&nbsp;&nbsp;б) распечатать время восхода и заката<br>\n",
    "    \n",
    "    &nbsp;&nbsp;&nbsp;&nbsp;в) погоду на завтра<br>\n",
    "    \n",
    "2. Скачать главную страницу waitbutwhy.com. Распечатать заголовки популярных постов (которые в колонке справа с надписью Popular Posts) и колличество комментариев у каждого из них."
   ]
  },
  {
   "cell_type": "markdown",
   "metadata": {},
   "source": [
    "## Некоторые объяснения про регулярные выражения\n",
    "\n",
    "* Что такое `re.compile`? <br><br>\n",
    "Грубо говоря, `compile()` позволяет запомнить регулярное выражение и использовать его несколько раз. Суть в том, что перед тем как прогнать регулярку через строку, питон должен ее \"скомпилировать\" - превратить **строку** с регулярным выражением в специальный **объект**.<br>\n",
    "Строчка `re.search(..., ...)` сначала компилирует регулярное выражение, а потом выполняет поиск. Если нужно поискать что-то один раз, то такая строчка очень удобна. А если нужно поискать что-то много раз, то получится что одно и то же выражение мы компилируем много раз. А хочется один раз скомпилировать и потом много раз пользоваться. Поэтому пишут так:"
   ]
  },
  {
   "cell_type": "code",
   "execution_count": null,
   "metadata": {
    "collapsed": true
   },
   "outputs": [],
   "source": [
    "text = 'тут текст, внутри которого мы что-то ищем'\n",
    "regName = re.compile('тут регулярное выражение') # скомпилировали\n",
    "toSearch = regName.search(text) # теперь можно искать в тексте\n",
    "toFindAll = regName.findall(text)  # можно использовать скомпилированное выражение много раз\n",
    "toSub = regName.sub('на.что.заменить', text) # и так тоже можно использовать"
   ]
  },
  {
   "cell_type": "markdown",
   "metadata": {},
   "source": [
    "* Что делает `regName.sub(..., ...)`?<br><br>\n",
    "Выражение  `regName.sub('на_что_заменить', text)` значит: возьми скомпилированное выражение из переменной `regName`, и замени все, что соответствует этому выражению в переменной `text`, на строку `'на_что_заменить'`. Если первый аргумент в этом случае - пустая строка, то все найденные регуляркой куски заменятся на пустую строку, короче говоря, удалятся.<br><br>\n",
    "\n",
    "* Что такое `re.DOTALL`?<br><br>\n",
    "Обычно точка в регулярном выражении означает любой символ КРОМЕ символа новой строки.  Чтобы изменить такое поведение, в компиляцию регулярки можно добавить параметры-флаги вот так: `flags = re.DOTALL`, и тогда точка будет ловить вообще любой символ, включая новую строку. Эти флаги слегка меняют поведение функции, вот и все.<br><br>\n",
    "\n",
    "* Что такое `re.U`?<br><br>\n",
    "U я написала зря, потому что я обычно пишу на втором питоне: во втором питоне по умолчанию выражения типа `\\w`, `\\W`, `\\s` и подобные работают только на строках ASCII, и чтобы они работали на юникодных строках нужно написать re.U. В третьем питоне все строки и так юникодные, поэтому необходимости в таком флаге больше нет. Но если вдруг вам придется использовать регулярки из второго питона, запомните про такую штуку.\n"
   ]
  }
 ],
 "metadata": {
  "celltoolbar": "Raw Cell Format",
  "kernelspec": {
   "display_name": "Python 3",
   "language": "python",
   "name": "python3"
  },
  "language_info": {
   "codemirror_mode": {
    "name": "ipython",
    "version": 3
   },
   "file_extension": ".py",
   "mimetype": "text/x-python",
   "name": "python",
   "nbconvert_exporter": "python",
   "pygments_lexer": "ipython3",
   "version": "3.4.3"
  }
 },
 "nbformat": 4,
 "nbformat_minor": 0
}
