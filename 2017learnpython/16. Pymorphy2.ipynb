{
 "cells": [
  {
   "cell_type": "markdown",
   "metadata": {},
   "source": [
    "# Модуль Pymorphy2\n",
    "\n",
    "Кроме майстема для работы с русской морфологией можно использовать модуль pymorphy2. Он умеет не только составлять морфологический разбор слова, но и ставить слово в нужную форму, т.е. спрягать и склонять (причем и незнакомые слова тоже).\n",
    "\n",
    "[Основная документация](https://pymorphy2.readthedocs.io/en/latest/)\n",
    "\n",
    "__Установка__\n",
    "\n",
    "`pip install pymorphy2`\n",
    "\n",
    "__Начало работы__\n",
    "\n",
    "Импортируем модуль и создаем экземпляр класса `MorphAnalyzer`. Экземпляр класса нужно создать один раз и работать с этим единственным экземпляром. Из документации:\n",
    "> Экземпляры класса MorphAnalyzer обычно занимают порядка 15Мб оперативной памяти (т.к. загружают в память словари, данные для предсказателя и т.д.); старайтесь организовать свой код так, чтобы создавать экземпляр MorphAnalyzer заранее и работать с этим единственным экземпляром в дальнейшем."
   ]
  },
  {
   "cell_type": "code",
   "execution_count": 1,
   "metadata": {
    "collapsed": true
   },
   "outputs": [],
   "source": [
    "import pymorphy2\n",
    "morph = pymorphy2.MorphAnalyzer()  "
   ]
  },
  {
   "cell_type": "markdown",
   "metadata": {},
   "source": [
    "__Разбор слова__ \n",
    "\n",
    "Метод `parse()` возвращает массив разборов."
   ]
  },
  {
   "cell_type": "code",
   "execution_count": 2,
   "metadata": {
    "collapsed": false
   },
   "outputs": [
    {
     "data": {
      "text/plain": [
       "[Parse(word='стекло', tag=OpencorporaTag('NOUN,inan,neut sing,nomn'), normal_form='стекло', score=0.75, methods_stack=((<DictionaryAnalyzer>, 'стекло', 545, 0),)),\n",
       " Parse(word='стекло', tag=OpencorporaTag('NOUN,inan,neut sing,accs'), normal_form='стекло', score=0.1875, methods_stack=((<DictionaryAnalyzer>, 'стекло', 545, 3),)),\n",
       " Parse(word='стекло', tag=OpencorporaTag('VERB,perf,intr neut,sing,past,indc'), normal_form='стечь', score=0.0625, methods_stack=((<DictionaryAnalyzer>, 'стекло', 968, 3),))]"
      ]
     },
     "execution_count": 2,
     "metadata": {},
     "output_type": "execute_result"
    }
   ],
   "source": [
    "ana = morph.parse('стекло')\n",
    "ana"
   ]
  },
  {
   "cell_type": "markdown",
   "metadata": {},
   "source": [
    "У каждого разбора есть в виде атрибутов само разобранное слово, тег, лемма, вероятность разбора:"
   ]
  },
  {
   "cell_type": "code",
   "execution_count": 3,
   "metadata": {
    "collapsed": false
   },
   "outputs": [
    {
     "name": "stdout",
     "output_type": "stream",
     "text": [
      "Слово: стекло\n",
      "Тэг: NOUN,inan,neut sing,nomn\n",
      "Лемма: стекло\n",
      "Вероятность: 0.75\n"
     ]
    }
   ],
   "source": [
    "first = ana[0]  # первый разбор\n",
    "print('Слово:', first.word)\n",
    "print('Тэг:', first.tag)\n",
    "print('Лемма:', first.normal_form)\n",
    "print('Вероятность:', first.score)"
   ]
  },
  {
   "cell_type": "markdown",
   "metadata": {},
   "source": [
    "Для каждого разбора можно получить лемму и всю информацию о ней (т.е. еще один разбор, только уже для леммы):"
   ]
  },
  {
   "cell_type": "code",
   "execution_count": 4,
   "metadata": {
    "collapsed": false
   },
   "outputs": [
    {
     "data": {
      "text/plain": [
       "Parse(word='стекло', tag=OpencorporaTag('NOUN,inan,neut sing,nomn'), normal_form='стекло', score=0.75, methods_stack=((<DictionaryAnalyzer>, 'стекло', 545, 0),))"
      ]
     },
     "execution_count": 4,
     "metadata": {},
     "output_type": "execute_result"
    }
   ],
   "source": [
    "first.normalized"
   ]
  },
  {
   "cell_type": "code",
   "execution_count": 5,
   "metadata": {
    "collapsed": false
   },
   "outputs": [
    {
     "name": "stdout",
     "output_type": "stream",
     "text": [
      "Разбор слова:  Parse(word='стекло', tag=OpencorporaTag('VERB,perf,intr neut,sing,past,indc'), normal_form='стечь', score=0.0625, methods_stack=((<DictionaryAnalyzer>, 'стекло', 968, 3),))\n",
      "\n",
      "Разбор леммы:  Parse(word='стечь', tag=OpencorporaTag('INFN,perf,intr'), normal_form='стечь', score=1.0, methods_stack=((<DictionaryAnalyzer>, 'стечь', 968, 0),))\n"
     ]
    }
   ],
   "source": [
    "last = ana[-1] # последний разбор\n",
    "print('Разбор слова: ', last)\n",
    "print()\n",
    "print('Разбор леммы: ', last.normalized)"
   ]
  },
  {
   "cell_type": "markdown",
   "metadata": {},
   "source": [
    "__Теги__\n",
    "\n",
    "Если распечатать тег разбора, то может показаться, что это строка:"
   ]
  },
  {
   "cell_type": "code",
   "execution_count": 6,
   "metadata": {
    "collapsed": false
   },
   "outputs": [
    {
     "name": "stdout",
     "output_type": "stream",
     "text": [
      "NOUN,inan,neut sing,nomn\n"
     ]
    }
   ],
   "source": [
    "first = ana[0]  # первый разбор\n",
    "print(first.tag)"
   ]
  },
  {
   "cell_type": "markdown",
   "metadata": {},
   "source": [
    "Но на самом деле это объект класса OpencorporaTag, так что некоторые вещи, которые можно делать со строками, с тэгами делать нельзя. А некоторые все-таки можно.\n",
    "\n",
    "Например, можно проверить, есть ли какая-то граммема в теге:"
   ]
  },
  {
   "cell_type": "code",
   "execution_count": 7,
   "metadata": {
    "collapsed": false
   },
   "outputs": [
    {
     "data": {
      "text/plain": [
       "True"
      ]
     },
     "execution_count": 7,
     "metadata": {},
     "output_type": "execute_result"
    }
   ],
   "source": [
    "'NOUN' in first.tag"
   ]
  },
  {
   "cell_type": "code",
   "execution_count": 8,
   "metadata": {
    "collapsed": false
   },
   "outputs": [
    {
     "data": {
      "text/plain": [
       "False"
      ]
     },
     "execution_count": 8,
     "metadata": {},
     "output_type": "execute_result"
    }
   ],
   "source": [
    "'VERB' in first.tag"
   ]
  },
  {
   "cell_type": "code",
   "execution_count": 9,
   "metadata": {
    "collapsed": false
   },
   "outputs": [
    {
     "data": {
      "text/plain": [
       "False"
      ]
     },
     "execution_count": 9,
     "metadata": {},
     "output_type": "execute_result"
    }
   ],
   "source": [
    "{'NOUN', 'plur'} in first.tag"
   ]
  },
  {
   "cell_type": "code",
   "execution_count": 10,
   "metadata": {
    "collapsed": false
   },
   "outputs": [
    {
     "data": {
      "text/plain": [
       "False"
      ]
     },
     "execution_count": 10,
     "metadata": {},
     "output_type": "execute_result"
    }
   ],
   "source": [
    "{'VERB'} in first.tag"
   ]
  },
  {
   "cell_type": "code",
   "execution_count": 11,
   "metadata": {
    "collapsed": false
   },
   "outputs": [
    {
     "data": {
      "text/plain": [
       "True"
      ]
     },
     "execution_count": 11,
     "metadata": {},
     "output_type": "execute_result"
    }
   ],
   "source": [
    "{'NOUN', 'sing'} in first.tag"
   ]
  },
  {
   "cell_type": "markdown",
   "metadata": {},
   "source": [
    "Из каждого тега можно достать более дробную информацию. Если граммема есть в разборе, то вернется ее значение, если ее нет, то вернется None."
   ]
  },
  {
   "cell_type": "code",
   "execution_count": null,
   "metadata": {
    "collapsed": true
   },
   "outputs": [],
   "source": [
    "p.tag.POS           # Part of Speech, часть речи\n",
    "p.tag.animacy       # одушевленность\n",
    "p.tag.aspect        # вид: совершенный или несовершенный\n",
    "p.tag.case          # падеж\n",
    "p.tag.gender        # род (мужской, женский, средний)\n",
    "p.tag.involvement   # включенность говорящего в действие\n",
    "p.tag.mood          # наклонение (повелительное, изъявительное)\n",
    "p.tag.number        # число (единственное, множественное)\n",
    "p.tag.person        # лицо (1, 2, 3)\n",
    "p.tag.tense         # время (настоящее, прошедшее, будущее)\n",
    "p.tag.transitivity  # переходность (переходный, непереходный)\n",
    "p.tag.voice         # залог (действительный, страдательный)"
   ]
  },
  {
   "cell_type": "code",
   "execution_count": 13,
   "metadata": {
    "collapsed": false
   },
   "outputs": [
    {
     "name": "stdout",
     "output_type": "stream",
     "text": [
      "NOUN,inan,neut sing,nomn\n",
      "Время:  None\n",
      "Падеж:  nomn\n"
     ]
    }
   ],
   "source": [
    "print(first.tag)\n",
    "print('Время: ', first.tag.tense)\n",
    "print('Падеж: ', first.tag.case)"
   ]
  },
  {
   "cell_type": "markdown",
   "metadata": {},
   "source": [
    "Список граммем, которые используются в модуле, находится здесь - https://pymorphy2.readthedocs.io/en/latest/user/grammemes.html. Если искать какую-то граммему, которой нет в этом списке, возникнет ошибка.\n",
    "\n",
    "Можно получить *строку* с кириллическими обозначениями граммем:"
   ]
  },
  {
   "cell_type": "code",
   "execution_count": 14,
   "metadata": {
    "collapsed": false
   },
   "outputs": [
    {
     "data": {
      "text/plain": [
       "'СУЩ,неод,ср ед,им'"
      ]
     },
     "execution_count": 14,
     "metadata": {},
     "output_type": "execute_result"
    }
   ],
   "source": [
    "first.tag.cyr_repr"
   ]
  },
  {
   "cell_type": "markdown",
   "metadata": {},
   "source": [
    "__Словоизменение__\n",
    "\n",
    "Если у нас есть разбор слова, то мы можем это слово поставить в другую форму с помощью функции `inflect`. Эта функция получает на вход множество граммем и пытается применить их к нашему разбору."
   ]
  },
  {
   "cell_type": "code",
   "execution_count": 15,
   "metadata": {
    "collapsed": false
   },
   "outputs": [
    {
     "data": {
      "text/plain": [
       "[Parse(word='программирую', tag=OpencorporaTag('VERB,impf,tran sing,1per,pres,indc'), normal_form='программировать', score=1.0, methods_stack=((<DictionaryAnalyzer>, 'программирую', 168, 1),))]"
      ]
     },
     "execution_count": 15,
     "metadata": {},
     "output_type": "execute_result"
    }
   ],
   "source": [
    "morph.parse('программирую')"
   ]
  },
  {
   "cell_type": "code",
   "execution_count": 16,
   "metadata": {
    "collapsed": false
   },
   "outputs": [
    {
     "data": {
      "text/plain": [
       "Parse(word='программируем', tag=OpencorporaTag('VERB,impf,tran plur,1per,pres,indc'), normal_form='программировать', score=1.0, methods_stack=((<DictionaryAnalyzer>, 'программируем', 168, 2),))"
      ]
     },
     "execution_count": 16,
     "metadata": {},
     "output_type": "execute_result"
    }
   ],
   "source": [
    "prog = morph.parse('программирую')[0]\n",
    "prog.inflect({'plur'})"
   ]
  },
  {
   "cell_type": "code",
   "execution_count": 17,
   "metadata": {
    "collapsed": false
   },
   "outputs": [
    {
     "data": {
      "text/plain": [
       "Parse(word='программировали', tag=OpencorporaTag('VERB,impf,tran plur,past,indc'), normal_form='программировать', score=1.0, methods_stack=((<DictionaryAnalyzer>, 'программировали', 168, 10),))"
      ]
     },
     "execution_count": 17,
     "metadata": {},
     "output_type": "execute_result"
    }
   ],
   "source": [
    "prog.inflect({'plur', 'past'})"
   ]
  },
  {
   "cell_type": "code",
   "execution_count": 18,
   "metadata": {
    "collapsed": false
   },
   "outputs": [
    {
     "data": {
      "text/plain": [
       "Parse(word='программировал', tag=OpencorporaTag('VERB,impf,tran masc,sing,past,indc'), normal_form='программировать', score=1.0, methods_stack=((<DictionaryAnalyzer>, 'программировал', 168, 7),))"
      ]
     },
     "execution_count": 18,
     "metadata": {},
     "output_type": "execute_result"
    }
   ],
   "source": [
    "prog.inflect({'past'})"
   ]
  },
  {
   "cell_type": "code",
   "execution_count": 19,
   "metadata": {
    "collapsed": false
   },
   "outputs": [
    {
     "data": {
      "text/plain": [
       "Parse(word='программировала', tag=OpencorporaTag('VERB,impf,tran femn,sing,past,indc'), normal_form='программировать', score=1.0, methods_stack=((<DictionaryAnalyzer>, 'программировала', 168, 8),))"
      ]
     },
     "execution_count": 19,
     "metadata": {},
     "output_type": "execute_result"
    }
   ],
   "source": [
    "prog.inflect({'past', 'femn'})"
   ]
  },
  {
   "cell_type": "markdown",
   "metadata": {},
   "source": [
    "__Формы слова__\n",
    "\n",
    "С помощью атрибута `lexeme` можно получить массив всех форм слова:"
   ]
  },
  {
   "cell_type": "code",
   "execution_count": 20,
   "metadata": {
    "collapsed": false
   },
   "outputs": [
    {
     "data": {
      "text/plain": [
       "[Parse(word='программировать', tag=OpencorporaTag('INFN,impf,tran'), normal_form='программировать', score=1.0, methods_stack=((<DictionaryAnalyzer>, 'программировать', 168, 0),)),\n",
       " Parse(word='программирую', tag=OpencorporaTag('VERB,impf,tran sing,1per,pres,indc'), normal_form='программировать', score=1.0, methods_stack=((<DictionaryAnalyzer>, 'программирую', 168, 1),)),\n",
       " Parse(word='программируем', tag=OpencorporaTag('VERB,impf,tran plur,1per,pres,indc'), normal_form='программировать', score=1.0, methods_stack=((<DictionaryAnalyzer>, 'программируем', 168, 2),)),\n",
       " Parse(word='программируешь', tag=OpencorporaTag('VERB,impf,tran sing,2per,pres,indc'), normal_form='программировать', score=1.0, methods_stack=((<DictionaryAnalyzer>, 'программируешь', 168, 3),)),\n",
       " Parse(word='программируете', tag=OpencorporaTag('VERB,impf,tran plur,2per,pres,indc'), normal_form='программировать', score=1.0, methods_stack=((<DictionaryAnalyzer>, 'программируете', 168, 4),)),\n",
       " Parse(word='программирует', tag=OpencorporaTag('VERB,impf,tran sing,3per,pres,indc'), normal_form='программировать', score=1.0, methods_stack=((<DictionaryAnalyzer>, 'программирует', 168, 5),)),\n",
       " Parse(word='программируют', tag=OpencorporaTag('VERB,impf,tran plur,3per,pres,indc'), normal_form='программировать', score=1.0, methods_stack=((<DictionaryAnalyzer>, 'программируют', 168, 6),)),\n",
       " Parse(word='программировал', tag=OpencorporaTag('VERB,impf,tran masc,sing,past,indc'), normal_form='программировать', score=1.0, methods_stack=((<DictionaryAnalyzer>, 'программировал', 168, 7),)),\n",
       " Parse(word='программировала', tag=OpencorporaTag('VERB,impf,tran femn,sing,past,indc'), normal_form='программировать', score=1.0, methods_stack=((<DictionaryAnalyzer>, 'программировала', 168, 8),)),\n",
       " Parse(word='программировало', tag=OpencorporaTag('VERB,impf,tran neut,sing,past,indc'), normal_form='программировать', score=1.0, methods_stack=((<DictionaryAnalyzer>, 'программировало', 168, 9),)),\n",
       " Parse(word='программировали', tag=OpencorporaTag('VERB,impf,tran plur,past,indc'), normal_form='программировать', score=1.0, methods_stack=((<DictionaryAnalyzer>, 'программировали', 168, 10),)),\n",
       " Parse(word='программируй', tag=OpencorporaTag('VERB,impf,tran sing,impr,excl'), normal_form='программировать', score=1.0, methods_stack=((<DictionaryAnalyzer>, 'программируй', 168, 11),)),\n",
       " Parse(word='программируйте', tag=OpencorporaTag('VERB,impf,tran plur,impr,excl'), normal_form='программировать', score=1.0, methods_stack=((<DictionaryAnalyzer>, 'программируйте', 168, 12),)),\n",
       " Parse(word='программирующий', tag=OpencorporaTag('PRTF,impf,tran,pres,actv masc,sing,nomn'), normal_form='программировать', score=1.0, methods_stack=((<DictionaryAnalyzer>, 'программирующий', 168, 13),)),\n",
       " Parse(word='программирующего', tag=OpencorporaTag('PRTF,impf,tran,pres,actv masc,sing,gent'), normal_form='программировать', score=1.0, methods_stack=((<DictionaryAnalyzer>, 'программирующего', 168, 14),)),\n",
       " Parse(word='программирующему', tag=OpencorporaTag('PRTF,impf,tran,pres,actv masc,sing,datv'), normal_form='программировать', score=1.0, methods_stack=((<DictionaryAnalyzer>, 'программирующему', 168, 15),)),\n",
       " Parse(word='программирующего', tag=OpencorporaTag('PRTF,impf,tran,pres,actv anim,masc,sing,accs'), normal_form='программировать', score=1.0, methods_stack=((<DictionaryAnalyzer>, 'программирующего', 168, 16),)),\n",
       " Parse(word='программирующий', tag=OpencorporaTag('PRTF,impf,tran,pres,actv inan,masc,sing,accs'), normal_form='программировать', score=1.0, methods_stack=((<DictionaryAnalyzer>, 'программирующий', 168, 17),)),\n",
       " Parse(word='программирующим', tag=OpencorporaTag('PRTF,impf,tran,pres,actv masc,sing,ablt'), normal_form='программировать', score=1.0, methods_stack=((<DictionaryAnalyzer>, 'программирующим', 168, 18),)),\n",
       " Parse(word='программирующем', tag=OpencorporaTag('PRTF,impf,tran,pres,actv masc,sing,loct'), normal_form='программировать', score=1.0, methods_stack=((<DictionaryAnalyzer>, 'программирующем', 168, 19),)),\n",
       " Parse(word='программирующая', tag=OpencorporaTag('PRTF,impf,tran,pres,actv femn,sing,nomn'), normal_form='программировать', score=1.0, methods_stack=((<DictionaryAnalyzer>, 'программирующая', 168, 20),)),\n",
       " Parse(word='программирующей', tag=OpencorporaTag('PRTF,impf,tran,pres,actv femn,sing,gent'), normal_form='программировать', score=1.0, methods_stack=((<DictionaryAnalyzer>, 'программирующей', 168, 21),)),\n",
       " Parse(word='программирующей', tag=OpencorporaTag('PRTF,impf,tran,pres,actv femn,sing,datv'), normal_form='программировать', score=1.0, methods_stack=((<DictionaryAnalyzer>, 'программирующей', 168, 22),)),\n",
       " Parse(word='программирующую', tag=OpencorporaTag('PRTF,impf,tran,pres,actv femn,sing,accs'), normal_form='программировать', score=1.0, methods_stack=((<DictionaryAnalyzer>, 'программирующую', 168, 23),)),\n",
       " Parse(word='программирующей', tag=OpencorporaTag('PRTF,impf,tran,pres,actv femn,sing,ablt'), normal_form='программировать', score=1.0, methods_stack=((<DictionaryAnalyzer>, 'программирующей', 168, 24),)),\n",
       " Parse(word='программирующею', tag=OpencorporaTag('PRTF,impf,tran,pres,actv femn,sing,ablt,V-ey'), normal_form='программировать', score=1.0, methods_stack=((<DictionaryAnalyzer>, 'программирующею', 168, 25),)),\n",
       " Parse(word='программирующей', tag=OpencorporaTag('PRTF,impf,tran,pres,actv femn,sing,loct'), normal_form='программировать', score=1.0, methods_stack=((<DictionaryAnalyzer>, 'программирующей', 168, 26),)),\n",
       " Parse(word='программирующее', tag=OpencorporaTag('PRTF,impf,tran,pres,actv neut,sing,nomn'), normal_form='программировать', score=1.0, methods_stack=((<DictionaryAnalyzer>, 'программирующее', 168, 27),)),\n",
       " Parse(word='программирующего', tag=OpencorporaTag('PRTF,impf,tran,pres,actv neut,sing,gent'), normal_form='программировать', score=1.0, methods_stack=((<DictionaryAnalyzer>, 'программирующего', 168, 28),)),\n",
       " Parse(word='программирующему', tag=OpencorporaTag('PRTF,impf,tran,pres,actv neut,sing,datv'), normal_form='программировать', score=1.0, methods_stack=((<DictionaryAnalyzer>, 'программирующему', 168, 29),)),\n",
       " Parse(word='программирующее', tag=OpencorporaTag('PRTF,impf,tran,pres,actv neut,sing,accs'), normal_form='программировать', score=1.0, methods_stack=((<DictionaryAnalyzer>, 'программирующее', 168, 30),)),\n",
       " Parse(word='программирующим', tag=OpencorporaTag('PRTF,impf,tran,pres,actv neut,sing,ablt'), normal_form='программировать', score=1.0, methods_stack=((<DictionaryAnalyzer>, 'программирующим', 168, 31),)),\n",
       " Parse(word='программирующем', tag=OpencorporaTag('PRTF,impf,tran,pres,actv neut,sing,loct'), normal_form='программировать', score=1.0, methods_stack=((<DictionaryAnalyzer>, 'программирующем', 168, 32),)),\n",
       " Parse(word='программирующие', tag=OpencorporaTag('PRTF,impf,tran,pres,actv plur,nomn'), normal_form='программировать', score=1.0, methods_stack=((<DictionaryAnalyzer>, 'программирующие', 168, 33),)),\n",
       " Parse(word='программирующих', tag=OpencorporaTag('PRTF,impf,tran,pres,actv plur,gent'), normal_form='программировать', score=1.0, methods_stack=((<DictionaryAnalyzer>, 'программирующих', 168, 34),)),\n",
       " Parse(word='программирующим', tag=OpencorporaTag('PRTF,impf,tran,pres,actv plur,datv'), normal_form='программировать', score=1.0, methods_stack=((<DictionaryAnalyzer>, 'программирующим', 168, 35),)),\n",
       " Parse(word='программирующих', tag=OpencorporaTag('PRTF,impf,tran,pres,actv anim,plur,accs'), normal_form='программировать', score=1.0, methods_stack=((<DictionaryAnalyzer>, 'программирующих', 168, 36),)),\n",
       " Parse(word='программирующие', tag=OpencorporaTag('PRTF,impf,tran,pres,actv inan,plur,accs'), normal_form='программировать', score=1.0, methods_stack=((<DictionaryAnalyzer>, 'программирующие', 168, 37),)),\n",
       " Parse(word='программирующими', tag=OpencorporaTag('PRTF,impf,tran,pres,actv plur,ablt'), normal_form='программировать', score=1.0, methods_stack=((<DictionaryAnalyzer>, 'программирующими', 168, 38),)),\n",
       " Parse(word='программирующих', tag=OpencorporaTag('PRTF,impf,tran,pres,actv plur,loct'), normal_form='программировать', score=1.0, methods_stack=((<DictionaryAnalyzer>, 'программирующих', 168, 39),)),\n",
       " Parse(word='программировавший', tag=OpencorporaTag('PRTF,impf,tran,past,actv masc,sing,nomn'), normal_form='программировать', score=1.0, methods_stack=((<DictionaryAnalyzer>, 'программировавший', 168, 40),)),\n",
       " Parse(word='программировавшего', tag=OpencorporaTag('PRTF,impf,tran,past,actv masc,sing,gent'), normal_form='программировать', score=1.0, methods_stack=((<DictionaryAnalyzer>, 'программировавшего', 168, 41),)),\n",
       " Parse(word='программировавшему', tag=OpencorporaTag('PRTF,impf,tran,past,actv masc,sing,datv'), normal_form='программировать', score=1.0, methods_stack=((<DictionaryAnalyzer>, 'программировавшему', 168, 42),)),\n",
       " Parse(word='программировавшего', tag=OpencorporaTag('PRTF,impf,tran,past,actv anim,masc,sing,accs'), normal_form='программировать', score=1.0, methods_stack=((<DictionaryAnalyzer>, 'программировавшего', 168, 43),)),\n",
       " Parse(word='программировавший', tag=OpencorporaTag('PRTF,impf,tran,past,actv inan,masc,sing,accs'), normal_form='программировать', score=1.0, methods_stack=((<DictionaryAnalyzer>, 'программировавший', 168, 44),)),\n",
       " Parse(word='программировавшим', tag=OpencorporaTag('PRTF,impf,tran,past,actv masc,sing,ablt'), normal_form='программировать', score=1.0, methods_stack=((<DictionaryAnalyzer>, 'программировавшим', 168, 45),)),\n",
       " Parse(word='программировавшем', tag=OpencorporaTag('PRTF,impf,tran,past,actv masc,sing,loct'), normal_form='программировать', score=1.0, methods_stack=((<DictionaryAnalyzer>, 'программировавшем', 168, 46),)),\n",
       " Parse(word='программировавшая', tag=OpencorporaTag('PRTF,impf,tran,past,actv femn,sing,nomn'), normal_form='программировать', score=1.0, methods_stack=((<DictionaryAnalyzer>, 'программировавшая', 168, 47),)),\n",
       " Parse(word='программировавшей', tag=OpencorporaTag('PRTF,impf,tran,past,actv femn,sing,gent'), normal_form='программировать', score=1.0, methods_stack=((<DictionaryAnalyzer>, 'программировавшей', 168, 48),)),\n",
       " Parse(word='программировавшей', tag=OpencorporaTag('PRTF,impf,tran,past,actv femn,sing,datv'), normal_form='программировать', score=1.0, methods_stack=((<DictionaryAnalyzer>, 'программировавшей', 168, 49),)),\n",
       " Parse(word='программировавшую', tag=OpencorporaTag('PRTF,impf,tran,past,actv femn,sing,accs'), normal_form='программировать', score=1.0, methods_stack=((<DictionaryAnalyzer>, 'программировавшую', 168, 50),)),\n",
       " Parse(word='программировавшей', tag=OpencorporaTag('PRTF,impf,tran,past,actv femn,sing,ablt'), normal_form='программировать', score=1.0, methods_stack=((<DictionaryAnalyzer>, 'программировавшей', 168, 51),)),\n",
       " Parse(word='программировавшею', tag=OpencorporaTag('PRTF,impf,tran,past,actv femn,sing,ablt,V-ey'), normal_form='программировать', score=1.0, methods_stack=((<DictionaryAnalyzer>, 'программировавшею', 168, 52),)),\n",
       " Parse(word='программировавшей', tag=OpencorporaTag('PRTF,impf,tran,past,actv femn,sing,loct'), normal_form='программировать', score=1.0, methods_stack=((<DictionaryAnalyzer>, 'программировавшей', 168, 53),)),\n",
       " Parse(word='программировавшее', tag=OpencorporaTag('PRTF,impf,tran,past,actv neut,sing,nomn'), normal_form='программировать', score=1.0, methods_stack=((<DictionaryAnalyzer>, 'программировавшее', 168, 54),)),\n",
       " Parse(word='программировавшего', tag=OpencorporaTag('PRTF,impf,tran,past,actv neut,sing,gent'), normal_form='программировать', score=1.0, methods_stack=((<DictionaryAnalyzer>, 'программировавшего', 168, 55),)),\n",
       " Parse(word='программировавшему', tag=OpencorporaTag('PRTF,impf,tran,past,actv neut,sing,datv'), normal_form='программировать', score=1.0, methods_stack=((<DictionaryAnalyzer>, 'программировавшему', 168, 56),)),\n",
       " Parse(word='программировавшее', tag=OpencorporaTag('PRTF,impf,tran,past,actv neut,sing,accs'), normal_form='программировать', score=1.0, methods_stack=((<DictionaryAnalyzer>, 'программировавшее', 168, 57),)),\n",
       " Parse(word='программировавшим', tag=OpencorporaTag('PRTF,impf,tran,past,actv neut,sing,ablt'), normal_form='программировать', score=1.0, methods_stack=((<DictionaryAnalyzer>, 'программировавшим', 168, 58),)),\n",
       " Parse(word='программировавшем', tag=OpencorporaTag('PRTF,impf,tran,past,actv neut,sing,loct'), normal_form='программировать', score=1.0, methods_stack=((<DictionaryAnalyzer>, 'программировавшем', 168, 59),)),\n",
       " Parse(word='программировавшие', tag=OpencorporaTag('PRTF,impf,tran,past,actv plur,nomn'), normal_form='программировать', score=1.0, methods_stack=((<DictionaryAnalyzer>, 'программировавшие', 168, 60),)),\n",
       " Parse(word='программировавших', tag=OpencorporaTag('PRTF,impf,tran,past,actv plur,gent'), normal_form='программировать', score=1.0, methods_stack=((<DictionaryAnalyzer>, 'программировавших', 168, 61),)),\n",
       " Parse(word='программировавшим', tag=OpencorporaTag('PRTF,impf,tran,past,actv plur,datv'), normal_form='программировать', score=1.0, methods_stack=((<DictionaryAnalyzer>, 'программировавшим', 168, 62),)),\n",
       " Parse(word='программировавших', tag=OpencorporaTag('PRTF,impf,tran,past,actv anim,plur,accs'), normal_form='программировать', score=1.0, methods_stack=((<DictionaryAnalyzer>, 'программировавших', 168, 63),)),\n",
       " Parse(word='программировавшие', tag=OpencorporaTag('PRTF,impf,tran,past,actv inan,plur,accs'), normal_form='программировать', score=1.0, methods_stack=((<DictionaryAnalyzer>, 'программировавшие', 168, 64),)),\n",
       " Parse(word='программировавшими', tag=OpencorporaTag('PRTF,impf,tran,past,actv plur,ablt'), normal_form='программировать', score=1.0, methods_stack=((<DictionaryAnalyzer>, 'программировавшими', 168, 65),)),\n",
       " Parse(word='программировавших', tag=OpencorporaTag('PRTF,impf,tran,past,actv plur,loct'), normal_form='программировать', score=1.0, methods_stack=((<DictionaryAnalyzer>, 'программировавших', 168, 66),)),\n",
       " Parse(word='программируемый', tag=OpencorporaTag('PRTF,impf,tran,pres,pssv masc,sing,nomn'), normal_form='программировать', score=1.0, methods_stack=((<DictionaryAnalyzer>, 'программируемый', 168, 67),)),\n",
       " Parse(word='программируемого', tag=OpencorporaTag('PRTF,impf,tran,pres,pssv masc,sing,gent'), normal_form='программировать', score=1.0, methods_stack=((<DictionaryAnalyzer>, 'программируемого', 168, 68),)),\n",
       " Parse(word='программируемому', tag=OpencorporaTag('PRTF,impf,tran,pres,pssv masc,sing,datv'), normal_form='программировать', score=1.0, methods_stack=((<DictionaryAnalyzer>, 'программируемому', 168, 69),)),\n",
       " Parse(word='программируемого', tag=OpencorporaTag('PRTF,impf,tran,pres,pssv anim,masc,sing,accs'), normal_form='программировать', score=1.0, methods_stack=((<DictionaryAnalyzer>, 'программируемого', 168, 70),)),\n",
       " Parse(word='программируемый', tag=OpencorporaTag('PRTF,impf,tran,pres,pssv inan,masc,sing,accs'), normal_form='программировать', score=1.0, methods_stack=((<DictionaryAnalyzer>, 'программируемый', 168, 71),)),\n",
       " Parse(word='программируемым', tag=OpencorporaTag('PRTF,impf,tran,pres,pssv masc,sing,ablt'), normal_form='программировать', score=1.0, methods_stack=((<DictionaryAnalyzer>, 'программируемым', 168, 72),)),\n",
       " Parse(word='программируемом', tag=OpencorporaTag('PRTF,impf,tran,pres,pssv masc,sing,loct'), normal_form='программировать', score=1.0, methods_stack=((<DictionaryAnalyzer>, 'программируемом', 168, 73),)),\n",
       " Parse(word='программируемая', tag=OpencorporaTag('PRTF,impf,tran,pres,pssv femn,sing,nomn'), normal_form='программировать', score=1.0, methods_stack=((<DictionaryAnalyzer>, 'программируемая', 168, 74),)),\n",
       " Parse(word='программируемой', tag=OpencorporaTag('PRTF,impf,tran,pres,pssv femn,sing,gent'), normal_form='программировать', score=1.0, methods_stack=((<DictionaryAnalyzer>, 'программируемой', 168, 75),)),\n",
       " Parse(word='программируемой', tag=OpencorporaTag('PRTF,impf,tran,pres,pssv femn,sing,datv'), normal_form='программировать', score=1.0, methods_stack=((<DictionaryAnalyzer>, 'программируемой', 168, 76),)),\n",
       " Parse(word='программируемую', tag=OpencorporaTag('PRTF,impf,tran,pres,pssv femn,sing,accs'), normal_form='программировать', score=1.0, methods_stack=((<DictionaryAnalyzer>, 'программируемую', 168, 77),)),\n",
       " Parse(word='программируемой', tag=OpencorporaTag('PRTF,impf,tran,pres,pssv femn,sing,ablt'), normal_form='программировать', score=1.0, methods_stack=((<DictionaryAnalyzer>, 'программируемой', 168, 78),)),\n",
       " Parse(word='программируемою', tag=OpencorporaTag('PRTF,impf,tran,pres,pssv femn,sing,ablt,V-oy'), normal_form='программировать', score=1.0, methods_stack=((<DictionaryAnalyzer>, 'программируемою', 168, 79),)),\n",
       " Parse(word='программируемой', tag=OpencorporaTag('PRTF,impf,tran,pres,pssv femn,sing,loct'), normal_form='программировать', score=1.0, methods_stack=((<DictionaryAnalyzer>, 'программируемой', 168, 80),)),\n",
       " Parse(word='программируемое', tag=OpencorporaTag('PRTF,impf,tran,pres,pssv neut,sing,nomn'), normal_form='программировать', score=1.0, methods_stack=((<DictionaryAnalyzer>, 'программируемое', 168, 81),)),\n",
       " Parse(word='программируемого', tag=OpencorporaTag('PRTF,impf,tran,pres,pssv neut,sing,gent'), normal_form='программировать', score=1.0, methods_stack=((<DictionaryAnalyzer>, 'программируемого', 168, 82),)),\n",
       " Parse(word='программируемому', tag=OpencorporaTag('PRTF,impf,tran,pres,pssv neut,sing,datv'), normal_form='программировать', score=1.0, methods_stack=((<DictionaryAnalyzer>, 'программируемому', 168, 83),)),\n",
       " Parse(word='программируемое', tag=OpencorporaTag('PRTF,impf,tran,pres,pssv neut,sing,accs'), normal_form='программировать', score=1.0, methods_stack=((<DictionaryAnalyzer>, 'программируемое', 168, 84),)),\n",
       " Parse(word='программируемым', tag=OpencorporaTag('PRTF,impf,tran,pres,pssv neut,sing,ablt'), normal_form='программировать', score=1.0, methods_stack=((<DictionaryAnalyzer>, 'программируемым', 168, 85),)),\n",
       " Parse(word='программируемом', tag=OpencorporaTag('PRTF,impf,tran,pres,pssv neut,sing,loct'), normal_form='программировать', score=1.0, methods_stack=((<DictionaryAnalyzer>, 'программируемом', 168, 86),)),\n",
       " Parse(word='программируемые', tag=OpencorporaTag('PRTF,impf,tran,pres,pssv plur,nomn'), normal_form='программировать', score=1.0, methods_stack=((<DictionaryAnalyzer>, 'программируемые', 168, 87),)),\n",
       " Parse(word='программируемых', tag=OpencorporaTag('PRTF,impf,tran,pres,pssv plur,gent'), normal_form='программировать', score=1.0, methods_stack=((<DictionaryAnalyzer>, 'программируемых', 168, 88),)),\n",
       " Parse(word='программируемым', tag=OpencorporaTag('PRTF,impf,tran,pres,pssv plur,datv'), normal_form='программировать', score=1.0, methods_stack=((<DictionaryAnalyzer>, 'программируемым', 168, 89),)),\n",
       " Parse(word='программируемых', tag=OpencorporaTag('PRTF,impf,tran,pres,pssv anim,plur,accs'), normal_form='программировать', score=1.0, methods_stack=((<DictionaryAnalyzer>, 'программируемых', 168, 90),)),\n",
       " Parse(word='программируемые', tag=OpencorporaTag('PRTF,impf,tran,pres,pssv inan,plur,accs'), normal_form='программировать', score=1.0, methods_stack=((<DictionaryAnalyzer>, 'программируемые', 168, 91),)),\n",
       " Parse(word='программируемыми', tag=OpencorporaTag('PRTF,impf,tran,pres,pssv plur,ablt'), normal_form='программировать', score=1.0, methods_stack=((<DictionaryAnalyzer>, 'программируемыми', 168, 92),)),\n",
       " Parse(word='программируемых', tag=OpencorporaTag('PRTF,impf,tran,pres,pssv plur,loct'), normal_form='программировать', score=1.0, methods_stack=((<DictionaryAnalyzer>, 'программируемых', 168, 93),)),\n",
       " Parse(word='программированный', tag=OpencorporaTag('PRTF,impf,tran,past,pssv masc,sing,nomn'), normal_form='программировать', score=1.0, methods_stack=((<DictionaryAnalyzer>, 'программированный', 168, 94),)),\n",
       " Parse(word='программированного', tag=OpencorporaTag('PRTF,impf,tran,past,pssv masc,sing,gent'), normal_form='программировать', score=1.0, methods_stack=((<DictionaryAnalyzer>, 'программированного', 168, 95),)),\n",
       " Parse(word='программированному', tag=OpencorporaTag('PRTF,impf,tran,past,pssv masc,sing,datv'), normal_form='программировать', score=1.0, methods_stack=((<DictionaryAnalyzer>, 'программированному', 168, 96),)),\n",
       " Parse(word='программированного', tag=OpencorporaTag('PRTF,impf,tran,past,pssv anim,masc,sing,accs'), normal_form='программировать', score=1.0, methods_stack=((<DictionaryAnalyzer>, 'программированного', 168, 97),)),\n",
       " Parse(word='программированный', tag=OpencorporaTag('PRTF,impf,tran,past,pssv inan,masc,sing,accs'), normal_form='программировать', score=1.0, methods_stack=((<DictionaryAnalyzer>, 'программированный', 168, 98),)),\n",
       " Parse(word='программированным', tag=OpencorporaTag('PRTF,impf,tran,past,pssv masc,sing,ablt'), normal_form='программировать', score=1.0, methods_stack=((<DictionaryAnalyzer>, 'программированным', 168, 99),)),\n",
       " Parse(word='программированном', tag=OpencorporaTag('PRTF,impf,tran,past,pssv masc,sing,loct'), normal_form='программировать', score=1.0, methods_stack=((<DictionaryAnalyzer>, 'программированном', 168, 100),)),\n",
       " Parse(word='программированная', tag=OpencorporaTag('PRTF,impf,tran,past,pssv femn,sing,nomn'), normal_form='программировать', score=1.0, methods_stack=((<DictionaryAnalyzer>, 'программированная', 168, 101),)),\n",
       " Parse(word='программированной', tag=OpencorporaTag('PRTF,impf,tran,past,pssv femn,sing,gent'), normal_form='программировать', score=1.0, methods_stack=((<DictionaryAnalyzer>, 'программированной', 168, 102),)),\n",
       " Parse(word='программированной', tag=OpencorporaTag('PRTF,impf,tran,past,pssv femn,sing,datv'), normal_form='программировать', score=1.0, methods_stack=((<DictionaryAnalyzer>, 'программированной', 168, 103),)),\n",
       " Parse(word='программированную', tag=OpencorporaTag('PRTF,impf,tran,past,pssv femn,sing,accs'), normal_form='программировать', score=1.0, methods_stack=((<DictionaryAnalyzer>, 'программированную', 168, 104),)),\n",
       " Parse(word='программированной', tag=OpencorporaTag('PRTF,impf,tran,past,pssv femn,sing,ablt'), normal_form='программировать', score=1.0, methods_stack=((<DictionaryAnalyzer>, 'программированной', 168, 105),)),\n",
       " Parse(word='программированною', tag=OpencorporaTag('PRTF,impf,tran,past,pssv femn,sing,ablt,V-oy'), normal_form='программировать', score=1.0, methods_stack=((<DictionaryAnalyzer>, 'программированною', 168, 106),)),\n",
       " Parse(word='программированной', tag=OpencorporaTag('PRTF,impf,tran,past,pssv femn,sing,loct'), normal_form='программировать', score=1.0, methods_stack=((<DictionaryAnalyzer>, 'программированной', 168, 107),)),\n",
       " Parse(word='программированное', tag=OpencorporaTag('PRTF,impf,tran,past,pssv neut,sing,nomn'), normal_form='программировать', score=1.0, methods_stack=((<DictionaryAnalyzer>, 'программированное', 168, 108),)),\n",
       " Parse(word='программированного', tag=OpencorporaTag('PRTF,impf,tran,past,pssv neut,sing,gent'), normal_form='программировать', score=1.0, methods_stack=((<DictionaryAnalyzer>, 'программированного', 168, 109),)),\n",
       " Parse(word='программированному', tag=OpencorporaTag('PRTF,impf,tran,past,pssv neut,sing,datv'), normal_form='программировать', score=1.0, methods_stack=((<DictionaryAnalyzer>, 'программированному', 168, 110),)),\n",
       " Parse(word='программированное', tag=OpencorporaTag('PRTF,impf,tran,past,pssv neut,sing,accs'), normal_form='программировать', score=1.0, methods_stack=((<DictionaryAnalyzer>, 'программированное', 168, 111),)),\n",
       " Parse(word='программированным', tag=OpencorporaTag('PRTF,impf,tran,past,pssv neut,sing,ablt'), normal_form='программировать', score=1.0, methods_stack=((<DictionaryAnalyzer>, 'программированным', 168, 112),)),\n",
       " Parse(word='программированном', tag=OpencorporaTag('PRTF,impf,tran,past,pssv neut,sing,loct'), normal_form='программировать', score=1.0, methods_stack=((<DictionaryAnalyzer>, 'программированном', 168, 113),)),\n",
       " Parse(word='программированные', tag=OpencorporaTag('PRTF,impf,tran,past,pssv plur,nomn'), normal_form='программировать', score=1.0, methods_stack=((<DictionaryAnalyzer>, 'программированные', 168, 114),)),\n",
       " Parse(word='программированных', tag=OpencorporaTag('PRTF,impf,tran,past,pssv plur,gent'), normal_form='программировать', score=1.0, methods_stack=((<DictionaryAnalyzer>, 'программированных', 168, 115),)),\n",
       " Parse(word='программированным', tag=OpencorporaTag('PRTF,impf,tran,past,pssv plur,datv'), normal_form='программировать', score=1.0, methods_stack=((<DictionaryAnalyzer>, 'программированным', 168, 116),)),\n",
       " Parse(word='программированных', tag=OpencorporaTag('PRTF,impf,tran,past,pssv anim,plur,accs'), normal_form='программировать', score=1.0, methods_stack=((<DictionaryAnalyzer>, 'программированных', 168, 117),)),\n",
       " Parse(word='программированные', tag=OpencorporaTag('PRTF,impf,tran,past,pssv inan,plur,accs'), normal_form='программировать', score=1.0, methods_stack=((<DictionaryAnalyzer>, 'программированные', 168, 118),)),\n",
       " Parse(word='программированными', tag=OpencorporaTag('PRTF,impf,tran,past,pssv plur,ablt'), normal_form='программировать', score=1.0, methods_stack=((<DictionaryAnalyzer>, 'программированными', 168, 119),)),\n",
       " Parse(word='программированных', tag=OpencorporaTag('PRTF,impf,tran,past,pssv plur,loct'), normal_form='программировать', score=1.0, methods_stack=((<DictionaryAnalyzer>, 'программированных', 168, 120),)),\n",
       " Parse(word='программируя', tag=OpencorporaTag('GRND,impf,tran pres'), normal_form='программировать', score=1.0, methods_stack=((<DictionaryAnalyzer>, 'программируя', 168, 121),)),\n",
       " Parse(word='программировавши', tag=OpencorporaTag('GRND,impf,tran past,V-sh'), normal_form='программировать', score=1.0, methods_stack=((<DictionaryAnalyzer>, 'программировавши', 168, 122),)),\n",
       " Parse(word='программируем', tag=OpencorporaTag('PRTS,impf,pres,pssv masc,sing'), normal_form='программировать', score=1.0, methods_stack=((<DictionaryAnalyzer>, 'программируем', 168, 123),)),\n",
       " Parse(word='программируема', tag=OpencorporaTag('PRTS,impf,pres,pssv femn,sing'), normal_form='программировать', score=1.0, methods_stack=((<DictionaryAnalyzer>, 'программируема', 168, 124),)),\n",
       " Parse(word='программируемо', tag=OpencorporaTag('PRTS,impf,pres,pssv neut,sing'), normal_form='программировать', score=1.0, methods_stack=((<DictionaryAnalyzer>, 'программируемо', 168, 125),)),\n",
       " Parse(word='программируемы', tag=OpencorporaTag('PRTS,impf,pres,pssv plur'), normal_form='программировать', score=1.0, methods_stack=((<DictionaryAnalyzer>, 'программируемы', 168, 126),)),\n",
       " Parse(word='программирован', tag=OpencorporaTag('PRTS,impf,past,pssv masc,sing'), normal_form='программировать', score=1.0, methods_stack=((<DictionaryAnalyzer>, 'программирован', 168, 127),)),\n",
       " Parse(word='программирована', tag=OpencorporaTag('PRTS,impf,past,pssv femn,sing'), normal_form='программировать', score=1.0, methods_stack=((<DictionaryAnalyzer>, 'программирована', 168, 128),)),\n",
       " Parse(word='программировано', tag=OpencorporaTag('PRTS,impf,past,pssv neut,sing'), normal_form='программировать', score=1.0, methods_stack=((<DictionaryAnalyzer>, 'программировано', 168, 129),)),\n",
       " Parse(word='программированы', tag=OpencorporaTag('PRTS,impf,past,pssv plur'), normal_form='программировать', score=1.0, methods_stack=((<DictionaryAnalyzer>, 'программированы', 168, 130),))]"
      ]
     },
     "execution_count": 20,
     "metadata": {},
     "output_type": "execute_result"
    }
   ],
   "source": [
    "prog.lexeme"
   ]
  },
  {
   "cell_type": "markdown",
   "metadata": {},
   "source": [
    "__Согласование слов с числительными__\n",
    "\n",
    "Из документации:\n",
    "> Слово нужно ставить в разные формы в зависимости от числительного, к которому оно относится. Например: “1 бутявка”, “2 бутявки”, “5 бутявок”\n",
    "> Для этих целей используйте метод Parse.make_agree_with_number():"
   ]
  },
  {
   "cell_type": "code",
   "execution_count": 21,
   "metadata": {
    "collapsed": true
   },
   "outputs": [],
   "source": [
    "butyavka = morph.parse('бутявка')[0]"
   ]
  },
  {
   "cell_type": "code",
   "execution_count": 22,
   "metadata": {
    "collapsed": false
   },
   "outputs": [
    {
     "data": {
      "text/plain": [
       "'бутявка'"
      ]
     },
     "execution_count": 22,
     "metadata": {},
     "output_type": "execute_result"
    }
   ],
   "source": [
    "butyavka.make_agree_with_number(1).word"
   ]
  },
  {
   "cell_type": "code",
   "execution_count": 23,
   "metadata": {
    "collapsed": false
   },
   "outputs": [
    {
     "data": {
      "text/plain": [
       "'бутявки'"
      ]
     },
     "execution_count": 23,
     "metadata": {},
     "output_type": "execute_result"
    }
   ],
   "source": [
    "butyavka.make_agree_with_number(2).word"
   ]
  },
  {
   "cell_type": "code",
   "execution_count": 24,
   "metadata": {
    "collapsed": false
   },
   "outputs": [
    {
     "data": {
      "text/plain": [
       "'бутявок'"
      ]
     },
     "execution_count": 24,
     "metadata": {},
     "output_type": "execute_result"
    }
   ],
   "source": [
    "butyavka.make_agree_with_number(5).word"
   ]
  },
  {
   "cell_type": "markdown",
   "metadata": {},
   "source": [
    "__Резюмируем__\n",
    "\n",
    "pymorphy2\n",
    "* основан на словарях и разборах проекта [OpenCorpora](http://opencorpora.org/)\n",
    "* умеет составлять разборы, находить лемму, склонять и спрягать\n",
    "* генерирует гипотезы для незнакомых слов\n",
    "* работает только на уровне отдельных слов\n",
    "* написан полностью на питоне (но есть ускоренная версия с вставками на c++)\n",
    "* может работать с украинским языком (но словари нужно отдельно устанавливать)\n",
    "\n",
    "__Задание__\n",
    "\n",
    "Написать программу-бота, с которой можно разговаривать: пользователь пишет ей реплику, а она отвечает предложением, в котором все слова заменены на какие-то случайные другие слова той же части речи и с теми же грамматическими характеристиками. Предложение-ответ должно быть согласованным.\n",
    " \n",
    "Например, на фразу \"Мама мыла раму\" программа может ответить \"Девочка пела песню\".\n",
    "\n",
    "Для такой программы вам понадобится большой список русских слов:\n",
    "* можно взять список словоформ с сайта НКРЯ - http://ruscorpora.ru/corpora-freq.html\n",
    "* можно взять просто любой большой текст, вытащить из него слова и использовать их.\n",
    "\n",
    "Из этого списка вам нужен только список разных лемм разных частей речи, и затем нужно будет использовать функции `parse` и `inflect`."
   ]
  }
 ],
 "metadata": {
  "kernelspec": {
   "display_name": "Python 3",
   "language": "python",
   "name": "python3"
  },
  "language_info": {
   "codemirror_mode": {
    "name": "ipython",
    "version": 3
   },
   "file_extension": ".py",
   "mimetype": "text/x-python",
   "name": "python",
   "nbconvert_exporter": "python",
   "pygments_lexer": "ipython3",
   "version": "3.5.3"
  }
 },
 "nbformat": 4,
 "nbformat_minor": 1
}
