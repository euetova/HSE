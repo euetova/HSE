{
 "cells": [
  {
   "cell_type": "markdown",
   "metadata": {},
   "source": [
    "# Тестирование\n",
    "\n",
    "Хорошая привычка - писать код и тесты к нему.  Если у вас уже есть тесты, то когда вы будете редактировать код и добавлять новую функциональность, вы сможете легко проверить, что вы не сломали что-то, что уже работало хорошо.\n",
    "\n",
    "Если код большой, то каждый тест должен проверять его небольшую логическую часть. \n",
    "\n",
    "## unittest\n",
    "\n",
    "Вспомним, как мы писали класс преподавателя и доставали информацию о преподавателях со страницы hse.ru/org/persons.  Предположим, у нашего преподавателя есть атрибуты *name* \"имя\", *surname* \"фамилия\", *patr* \"отчество\". На странице полное имя преподавателя записано как текст внутри одной ссылки, так что мы можем его легко достать, например \"Азизова Роза Мухамаджановна\". Представим себе, что мы написали функцию *parse_name* , которая получает на вход такую строку и делит ее на имя, фамилию и отчество."
   ]
  },
  {
   "cell_type": "code",
   "execution_count": 4,
   "metadata": {
    "collapsed": false
   },
   "outputs": [
    {
     "name": "stdout",
     "output_type": "stream",
     "text": [
      "('Азизова', 'Роза', 'Мухамаджановна')\n",
      "('', 'Вася', '')\n",
      "('Айано', 'Таканори', '')\n",
      "('Азизов', 'Анатолий Эмир', 'Алиевич')\n"
     ]
    }
   ],
   "source": [
    "def parse_name(name):\n",
    "    parts = name.strip().split()\n",
    "    surname, name, patr = '', '', ''\n",
    "    if len(parts) == 1:\n",
    "        name = parts[0]\n",
    "    elif len(parts) == 2:\n",
    "        surname, name = parts[0], parts[1]\n",
    "    elif len(parts) == 3:\n",
    "        surname, name, patr = parts\n",
    "    elif len(parts) > 3:\n",
    "        surname, name, patr = parts[0], ' '.join(parts[1:-1]), parts[-1]\n",
    "    return surname, name, patr"
   ]
  },
  {
   "cell_type": "markdown",
   "metadata": {},
   "source": [
    "А теперь напишем код, который эту функцию тестирует. Тесты в `unittest` организуются в группы внутри класса `TestCase`. \n",
    "\n",
    "Для каждой логической части функции нужно написать отдельный тест, который эту часть проверяет. Эти тесты оформляются в виде методов класса, названия методов начинаются со слова `test`. "
   ]
  },
  {
   "cell_type": "code",
   "execution_count": null,
   "metadata": {
    "collapsed": true
   },
   "outputs": [],
   "source": [
    "import unittest\n",
    "\n",
    "class ParseNameTestCase(unittest.TestCase):\n",
    "    def test_one_word(self):\n",
    "        self.assertEqual(('', 'Имя', ''), parse_name('Имя'))\n",
    "    def test_two_words(self):\n",
    "        self.assertEqual(('Фамилия', 'Имя', ''), parse_name('Фамилия Имя'))\n",
    "    def test_three_words(self):\n",
    "        self.assertEqual(('Фамилия', 'Имя', 'Отчество'), parse_name('Фамилия Имя Отчество'))\n",
    "    def test_more_words(self):\n",
    "        self.assertEqual(('Фамилия', 'Имя Имя', 'Отчество'), parse_name('Фамилия Имя Имя Отчество'))\n",
    "    def test_no_words(self):\n",
    "        self.assertEqual(('', '', ''), parse_name(''))\n",
    "        \n",
    "if __name__ == \"__main__\":\n",
    "    unittest.main()"
   ]
  },
  {
   "cell_type": "markdown",
   "metadata": {},
   "source": [
    "Работает:"
   ]
  },
  {
   "cell_type": "code",
   "execution_count": 6,
   "metadata": {
    "collapsed": false
   },
   "outputs": [
    {
     "name": "stdout",
     "output_type": "stream",
     "text": [
      "('Азизова', 'Роза', 'Мухамаджановна')\n",
      "('', 'Вася', '')\n",
      "('Айано', 'Таканори', '')\n",
      "('Азизов', 'Анатолий Эмир', 'Алиевич')\n"
     ]
    }
   ],
   "source": [
    "for i in ['Азизова Роза Мухамаджановна', 'Вася', 'Айано Таканори', 'Азизов Анатолий Эмир Алиевич']:\n",
    "    print(parse_name(i))"
   ]
  },
  {
   "cell_type": "markdown",
   "metadata": {},
   "source": [
    "Если при выполнении тестов не возникло ошибок, то ура - мы успешно протестировали наш код. \n",
    "\n",
    "В классе `TestCase` есть вспомогательные методы для проверки разных тестов: \n",
    "* `assertEqual` - для проверки равенства результата функции и заданного ответа,\n",
    "* `assertTrue` - для проверки булевых выражений, \n",
    "* `assertRaises` - чтобы проверить, что в нужных местах вызываются нужные исключения.\n",
    "\n",
    "Можно писать свои вспомогательные методы, главное, чтобы их называния не начинались с `test`.\n",
    "\n",
    "Например, есть еще два полезных вспомогательных метода, которые используются, чтобы настроить среду тестирования:\n",
    "* `setUp`\n",
    "* `tearDown` \n",
    "\n",
    "Эти методы вызываются соответственно до и после каждого теста и нужны для того, чтобы убедиться, что каждый тест работает изолированно и на него не влияет, например, результат работы прошлого теста.  В качестве примера - вот такой `TestCase`, который создает временную папку перед выполнением каждого теста и удаляет ее после завершения каждого теста:"
   ]
  },
  {
   "cell_type": "code",
   "execution_count": null,
   "metadata": {
    "collapsed": true
   },
   "outputs": [],
   "source": [
    "class MyTest(TestCase):\n",
    "    def setUp(self):\n",
    "    self.test_dir = TemporaryDirectory()\n",
    "    def tearDown(self):\n",
    "    self.test_dir.cleanup()\n",
    "    # а тут сами тесты\n",
    "    # …"
   ]
  },
  {
   "cell_type": "markdown",
   "metadata": {},
   "source": [
    "Обычно пишут один `TestCase` для набора связанных тестов. Иногда разумно написать один `TestCase` для одной функции, у которой много вариантов пограничных случаев. Иногда разумно написать один `TestCase` на все функции внутри одного модуля. Хорошо написать `TestCase` для тестирования отдельного класса и его методов. \n",
    "\n",
    "Еще пример - числа Фибоначчи:"
   ]
  },
  {
   "cell_type": "code",
   "execution_count": null,
   "metadata": {
    "collapsed": true
   },
   "outputs": [],
   "source": [
    "def fib(n):\n",
    "    if type(n) != int:\n",
    "        return -1\n",
    "    a,b = 1,1\n",
    "    for i in range(n-1):\n",
    "        a,b = b,a+b\n",
    "    return a\n",
    "\n",
    "\n",
    "class FibTest(unittest.TestCase):\n",
    "    def test_math(self):\n",
    "        self.assertEqual(fib(0), 1)\n",
    "        self.assertEqual(fib(1), 1)\n",
    "        self.assertEqual(fib(8), 21)\n",
    "\n",
    "    def test_bad_data(self):\n",
    "        self.assertEqual(fib('вауу'), -1)"
   ]
  },
  {
   "cell_type": "markdown",
   "metadata": {},
   "source": [
    "## doctest\n",
    "\n",
    "Модуль `doctest` находит кусочки кода, которые выглядят как интерактивные сессии питона, выполняет эти сессии и проверяет, что в коде все выглядит так же, как в реальной сессии. Доктесты обычно используют в документации к коду, чтобы быстро продемонстрировать как он работает. "
   ]
  },
  {
   "cell_type": "code",
   "execution_count": null,
   "metadata": {
    "collapsed": true
   },
   "outputs": [],
   "source": [
    "def find_position(s, text):\n",
    "    \"\"\"\n",
    "    Находит позицию строки s в строке text.\n",
    "    :param s: str - заданная подстрока\n",
    "    :param text: str - строка, в которой выполняется поиск\n",
    "    :return: int - позиция подстроки в строке text или -1, если подстрока не найдена\n",
    "\n",
    "    >>> find_position('1', '331')\n",
    "    2\n",
    "    >>> find_position('aa', 'abcd')\n",
    "    -1\n",
    "    >>> find_position('abcd', 'fabcdffff')\n",
    "    1\n",
    "    \"\"\"\n",
    "    return text.index(s)\n",
    "\n",
    "if __name__ == '__main__':\n",
    "    import doctest\n",
    "    doctest.testmod()"
   ]
  },
  {
   "cell_type": "markdown",
   "metadata": {},
   "source": [
    "# Документация\n",
    "\n",
    "Чтобы вашим кодом могли пользоваться другие люди (или даже вы сами через год), нужно куда-нибудь записать, что в нем происходит. В питоне можно прикреплять документацию прямо к соответствующему кусочку кода (классу, функции или модулю). Можно добавить документацию с помощью *docstring* после строчки с `def` (см. пример выше или ниже)."
   ]
  },
  {
   "cell_type": "code",
   "execution_count": 7,
   "metadata": {
    "collapsed": true
   },
   "outputs": [],
   "source": [
    "def palindrome(word):\n",
    "    \"\"\"Return True if the given word is a palindrome.\"\"\"\n",
    "    return word == word[::-1]"
   ]
  },
  {
   "cell_type": "markdown",
   "metadata": {},
   "source": [
    "*docstring* можно достать через атрибут `__doc__`."
   ]
  },
  {
   "cell_type": "code",
   "execution_count": 8,
   "metadata": {
    "collapsed": false
   },
   "outputs": [
    {
     "name": "stdout",
     "output_type": "stream",
     "text": [
      "Return True if the given word is a palindrome.\n"
     ]
    }
   ],
   "source": [
    "print(palindrome.__doc__)"
   ]
  },
  {
   "cell_type": "markdown",
   "metadata": {},
   "source": [
    "Существует руководство по написанию *docstring*: https://www.python.org/dev/peps/pep-0257/\n",
    "\n",
    "Докстринги нужно писать к каждому классу:\n",
    "* Первая строчка  -- одно предложение, описывающее смысл этого класса. Например, про класс преподавателя можно было написать \"Represents a professor.\"\n",
    "* Затем нужно описать важные детали для работы с этим классом: методы или важные атрибуты.\n",
    "\n",
    "Нужно писать докстринги к каждой функции или методу класса:\n",
    "* Первая строчка - краткое описание того, что делает функция.\n",
    "* Затем может быть более подробное описание.\n",
    "* Если функция принимает какие-то аргументы, нужно объяснить их значения.\n",
    "* Если функция что-то возвращает, нужно описать возвращаемое значение.\n",
    "* Если функция вызывает исключение, нужно это указать.\n",
    "\n",
    "Вот еще пример:"
   ]
  },
  {
   "cell_type": "code",
   "execution_count": null,
   "metadata": {
    "collapsed": true
   },
   "outputs": [],
   "source": [
    "def find_anagrams(word, dictionary):\n",
    "    \"\"\"Find all anagrams for a word.\n",
    "    \n",
    "    This function only runs as fast as the test for membership in the 'dictionary' container. \n",
    "    It will be slow if the dictionary is a list and fast if it’s a set.\n",
    "    \n",
    "    Args:\n",
    "        word: String of the target word.\n",
    "        dictionary: Container with all strings that are known to be actual words.\n",
    "      \n",
    "    Returns:\n",
    "        List of anagrams that were found. Empty if none were found.\n",
    "    \"\"\""
   ]
  },
  {
   "cell_type": "markdown",
   "metadata": {},
   "source": [
    "# Задание \n",
    "\n",
    "## `kwiq`\n",
    "\n",
    "1) Напишите, функцию `kwiq`, которая принимает на вход слово и текст, а возвращает сниппеты с этим словом из текста. Сниппет представляет собой фрагмент из нескольких слов, который содержит нужное слово и по три слова справа и слева от него (если такие есть). (3 балла)\n",
    "\n",
    "    а) Дополнительно: функция `kwiq` должна иметь keyword argument `num`, которое задает количество слов в сниппете вокруг искомого слова. По умолчанию `num` равен 3. (2 балла)\n",
    "\n",
    "    б) Дополнительно: напишите функцию `to_table`, которая красиво оформляет результат в виде таблицы keyword in context (см. ниже). Эту функцию можно вызывать внутри `kwiq`, после нее и вообще как вам будет представляться разумным. (2 балла)"
   ]
  },
  {
   "cell_type": "markdown",
   "metadata": {},
   "source": [
    "    читателям, что греческое    слово    анабазис означает военный\n",
    "    \"Домик\" ― правильное        слово    в адрес квартиры,\n",
    "    вставать. Это проклятое     слово    ― надо. Не хочешь\n",
    "    реагирует на любое          слово    хирурга, боится простейших"
   ]
  },
  {
   "cell_type": "markdown",
   "metadata": {},
   "source": [
    "2) К каждой функции, которую вы написали в коде, нужно обязательно добавить документацию (*docstring*). (1 балл)\n",
    "\n",
    "3) Напишите `TestCase` для тестирования функции `kwiq`. (2 балла)"
   ]
  }
 ],
 "metadata": {
  "kernelspec": {
   "display_name": "Python 2",
   "language": "python",
   "name": "python2"
  },
  "language_info": {
   "codemirror_mode": {
    "name": "ipython",
    "version": 3.0
   },
   "file_extension": ".py",
   "mimetype": "text/x-python",
   "name": "python",
   "nbconvert_exporter": "python",
   "pygments_lexer": "ipython3",
   "version": "3.4.3"
  }
 },
 "nbformat": 4,
 "nbformat_minor": 0
}