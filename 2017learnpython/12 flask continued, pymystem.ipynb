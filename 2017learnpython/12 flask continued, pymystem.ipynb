{
 "cells": [
  {
   "cell_type": "markdown",
   "metadata": {},
   "source": [
    "# Flask - продолжение\n",
    "\n",
    "## Словари в шаблонах\n",
    "\n",
    "Предположим, у нас есть словарь, в котором хранятся имена наших друзей и их почтовые адреса. И мы хотим выводить эти имена с адресами на нашем сайте. Мы можем написать что-то такое:"
   ]
  },
  {
   "cell_type": "code",
   "execution_count": null,
   "metadata": {
    "collapsed": true
   },
   "outputs": [],
   "source": [
    "from flask import Flask\n",
    "from flask import render_template\n",
    "\n",
    "app = Flask(__name__)\n",
    "\n",
    "\n",
    "@app.route('/')\n",
    "def index():\n",
    "    emailbook = {'Петя': 'petya@example.com',\n",
    "                 'Вася': 'vasya@example.com',\n",
    "                 'Катя': 'katya@example.com'}\n",
    "    return render_template('index.html', emails=emailbook)\n",
    "\n",
    "if __name__ == '__main__':\n",
    "    app.run()"
   ]
  },
  {
   "cell_type": "markdown",
   "metadata": {},
   "source": [
    "Тогда в папке `templates` нам нужно создать файл `index.html`, в котором будут перебираться элементы словаря. Делается это с помощью функции `items()`. Вот так будет выглядеть `index.html`:"
   ]
  },
  {
   "cell_type": "code",
   "execution_count": null,
   "metadata": {
    "collapsed": true
   },
   "outputs": [],
   "source": [
    "<!DOCTYPE html>\n",
    "<html lang=\"en\">\n",
    "<head>\n",
    "    <meta charset=\"UTF-8\">\n",
    "    <title>Почтовые адреса</title>\n",
    "</head>\n",
    "<body>\n",
    "<h1>Адреса моих друзей</h1>\n",
    "<ul>\n",
    "    {% for name, email in emails.items() %}\n",
    "        <li>{{ name }} - {{ email }}</li>\n",
    "    {% endfor %}\n",
    "</ul>\n",
    "</body>\n",
    "</html>"
   ]
  },
  {
   "cell_type": "markdown",
   "metadata": {},
   "source": [
    "## Перенаправление\n",
    "\n",
    "Для того, чтобы направить пользователя на другую страницу, используется функция `redirect`. Например, вот приложение, в котором есть страница /time. С помощью функции `redirect` можно, например, реализовать такое:\n",
    "\n",
    "- если пользователь заходит на страницу /time в рабочее время (с 10 до 18), то он перенаправляется на главную страницу сайта,\n",
    "- если пользователь заходит на страницу в другое время, то он перенаправляется на страницу /hi."
   ]
  },
  {
   "cell_type": "code",
   "execution_count": null,
   "metadata": {
    "collapsed": true
   },
   "outputs": [],
   "source": [
    "import datetime\n",
    "\n",
    "from flask import Flask\n",
    "from flask import url_for, render_template, request, redirect\n",
    "\n",
    "app = Flask(__name__)\n",
    "\n",
    "\n",
    "@app.route('/')\n",
    "def index():\n",
    "    return '<html><body><h1>Привет, мир!</h1></body></html>'\n",
    "\n",
    "\n",
    "@app.route('/hi')\n",
    "@app.route('/hi/<user>')\n",
    "def hi(user=None):\n",
    "    if user is None:\n",
    "        user = 'friend'\n",
    "    return '<html><body><p>Привет, ' + user + '!</p></body></html>'\n",
    "\n",
    "\n",
    "@app.route('/time')\n",
    "def time_redirect():\n",
    "    h = datetime.datetime.today().hour\n",
    "    if 10 < h < 18:\n",
    "        return redirect(url_for('index'))\n",
    "    return redirect(url_for('hi'))\n",
    "\n",
    "\n",
    "if __name__ == '__main__':\n",
    "    app.run(debug=True)"
   ]
  },
  {
   "cell_type": "markdown",
   "metadata": {},
   "source": [
    "# Русская морфология в питоне\n",
    "\n",
    "Есть два модуля для работы с русским языком - pymorphy2  и pymystem3. Сегодня мы разберем pymystem3."
   ]
  },
  {
   "cell_type": "markdown",
   "metadata": {},
   "source": [
    "## Pymystem3\n",
    "\n",
    "Устанавливаем pymystem3:\n",
    "\n",
    "`pip install pymystem3`\n",
    "\n",
    "И проверим, работает ли:"
   ]
  },
  {
   "cell_type": "code",
   "execution_count": 8,
   "metadata": {
    "collapsed": true
   },
   "outputs": [],
   "source": [
    "from pymystem3 import Mystem  # импортируем майстем\n",
    "m = Mystem()  # создаем экземпляр класса-анализатора"
   ]
  },
  {
   "cell_type": "markdown",
   "metadata": {},
   "source": [
    "У класса Mystem есть два метода:\n",
    "* lemmatize, возвращающий список лемм,\n",
    "* analyze, возвращающий полный морфологический разбор в виде словаря."
   ]
  },
  {
   "cell_type": "code",
   "execution_count": 9,
   "metadata": {
    "collapsed": true
   },
   "outputs": [],
   "source": [
    "text = \"\"\"\n",
    "Как там ваш блог?\n",
    "Да, неплохо, весьма неплохо.\n",
    "Вы ведь и слова там не написали?\n",
    "Вы только что написали:\n",
    "\"все еще осталась проблема доверия\".\n",
    "\"\"\""
   ]
  },
  {
   "cell_type": "markdown",
   "metadata": {},
   "source": [
    "Пример с `lemmatize`:"
   ]
  },
  {
   "cell_type": "code",
   "execution_count": 10,
   "metadata": {
    "collapsed": false
   },
   "outputs": [
    {
     "name": "stdout",
     "output_type": "stream",
     "text": [
      "\n",
      "как там ваш блог?\n",
      "да, неплохо, весьма неплохо.\n",
      "вы ведь и слово там не написать?\n",
      "вы только что написать:\n",
      "\"все еще оставаться проблема доверие\".\n",
      "\n"
     ]
    }
   ],
   "source": [
    "lemmas = m.lemmatize(text)\n",
    "print(''.join(lemmas))"
   ]
  },
  {
   "cell_type": "markdown",
   "metadata": {},
   "source": [
    "Пример с `analyze`:"
   ]
  },
  {
   "cell_type": "code",
   "execution_count": 11,
   "metadata": {
    "collapsed": false
   },
   "outputs": [
    {
     "name": "stdout",
     "output_type": "stream",
     "text": [
      "[{'text': '\\n'}, {'text': 'Как', 'analysis': [{'gr': 'ADVPRO=', 'lex': 'как'}]}, {'text': ' '}, {'text': 'там', 'analysis': [{'gr': 'ADVPRO=', 'lex': 'там'}]}, {'text': ' '}, {'text': 'ваш', 'analysis': [{'gr': 'APRO=(вин,ед,муж,неод|им,ед,муж)', 'lex': 'ваш'}]}, {'text': ' '}, {'text': 'блог', 'analysis': [{'gr': 'S,муж,неод=(вин,ед|им,ед)', 'lex': 'блог'}]}, {'text': '?'}, {'text': '\\n'}, {'text': 'Да', 'analysis': [{'gr': 'CONJ=', 'lex': 'да'}]}, {'text': ', '}, {'text': 'неплохо', 'analysis': [{'gr': 'ADV=', 'lex': 'неплохо'}]}, {'text': ', '}, {'text': 'весьма', 'analysis': [{'gr': 'ADV=', 'lex': 'весьма'}]}, {'text': ' '}, {'text': 'неплохо', 'analysis': [{'gr': 'ADV=', 'lex': 'неплохо'}]}, {'text': '.'}, {'text': '\\n'}, {'text': 'Вы', 'analysis': [{'gr': 'SPRO,мн,2-л=им', 'lex': 'вы'}]}, {'text': ' '}, {'text': 'ведь', 'analysis': [{'gr': 'PART=', 'lex': 'ведь'}]}, {'text': ' '}, {'text': 'и', 'analysis': [{'gr': 'CONJ=', 'lex': 'и'}]}, {'text': ' '}, {'text': 'слова', 'analysis': [{'gr': 'S,сред,неод=(вин,мн|род,ед|им,мн)', 'lex': 'слово'}]}, {'text': ' '}, {'text': 'там', 'analysis': [{'gr': 'ADVPRO=', 'lex': 'там'}]}, {'text': ' '}, {'text': 'не', 'analysis': [{'gr': 'PART=', 'lex': 'не'}]}, {'text': ' '}, {'text': 'написали', 'analysis': [{'gr': 'V,сов,пе=прош,мн,изъяв', 'lex': 'написать'}]}, {'text': '?'}, {'text': '\\n'}, {'text': 'Вы', 'analysis': [{'gr': 'SPRO,мн,2-л=им', 'lex': 'вы'}]}, {'text': ' '}, {'text': 'только', 'analysis': [{'gr': 'PART=', 'lex': 'только'}]}, {'text': ' '}, {'text': 'что', 'analysis': [{'gr': 'CONJ=', 'lex': 'что'}]}, {'text': ' '}, {'text': 'написали', 'analysis': [{'gr': 'V,сов,пе=прош,мн,изъяв', 'lex': 'написать'}]}, {'text': ':\\n'}, {'text': '\"'}, {'text': 'все', 'analysis': [{'gr': 'SPRO,мн=(вин|им)', 'lex': 'все'}]}, {'text': ' '}, {'text': 'еще', 'analysis': [{'gr': 'ADV=', 'lex': 'еще'}]}, {'text': ' '}, {'text': 'осталась', 'analysis': [{'gr': 'V,нп=прош,ед,изъяв,жен,сов', 'lex': 'оставаться'}]}, {'text': ' '}, {'text': 'проблема', 'analysis': [{'gr': 'S,жен,неод=им,ед', 'lex': 'проблема'}]}, {'text': ' '}, {'text': 'доверия', 'analysis': [{'gr': 'S,сред,неод=(вин,мн|род,ед|им,мн)', 'lex': 'доверие'}]}, {'text': '\"'}, {'text': '.'}, {'text': '\\n'}]\n"
     ]
    }
   ],
   "source": [
    "ana = m.analyze(text)\n",
    "print(ana)"
   ]
  },
  {
   "cell_type": "markdown",
   "metadata": {},
   "source": [
    "## Пример сайта\n",
    "\n",
    "Предположим мы пишем сайт, в котором есть форма для текста. Пользователь вставляет туда текст, отправляет форму, и получает в ответ тот же текст, в котором каждому слову приписана его часть речи. \n",
    "\n",
    "Вот код приложения на фласке, у меня он находится в файле `my_app.py`."
   ]
  },
  {
   "cell_type": "code",
   "execution_count": null,
   "metadata": {
    "collapsed": true
   },
   "outputs": [],
   "source": [
    "from flask import Flask\n",
    "from flask import url_for, render_template, request, redirect\n",
    "from pymystem3 import Mystem\n",
    "\n",
    "m = Mystem()\n",
    "app = Flask(__name__)\n",
    "\n",
    "\n",
    "def add_POS(text):\n",
    "    result = ''\n",
    "    ana = m.analyze(text)\n",
    "    for i in ana:\n",
    "        result += i['text']\n",
    "        if i['text'].strip() and 'analysis' in i and i['analysis']:\n",
    "            pos = i['analysis'][0]['gr'].split('=')[0].split(',')[0]\n",
    "            result += '<span class=\"pos\">{}</span>'.format(pos)\n",
    "    return result\n",
    "\n",
    "\n",
    "@app.route('/', methods=['get', 'post'])\n",
    "def index():\n",
    "    if request.form:\n",
    "        text = request.form['text']\n",
    "        result = add_POS(text).replace('\\n', '<br>')\n",
    "        return render_template('index_page.html', input=text, text=result)\n",
    "    return render_template('index_page.html')\n",
    "\n",
    "\n",
    "if __name__ == '__main__':\n",
    "    app.run(debug=True)"
   ]
  },
  {
   "cell_type": "markdown",
   "metadata": {},
   "source": [
    "А вот код шаблона `index_page.html`, который лежит  в папке `templates`:\n",
    "\n",
    "```\n",
    "<!DOCTYPE html>\n",
    "<html lang=\"ru\">\n",
    "<head>\n",
    "    <meta charset=\"UTF-8\">\n",
    "    <title>Части речи слов</title>\n",
    "\t<style>\n",
    "\t\t.pos {vertical-align: sub; color: blue; font-size: 70%;}\n",
    "\t\t.result {font-size: 24px;}\n",
    "\t</style>\n",
    "</head>\n",
    "<body>\n",
    "    <form method='post'>\n",
    "        <h1>Ваш текст:</h1>\n",
    "        <textarea rows=\"4\" cols=\"50\" name=\"text\">{{ input }}</textarea>\n",
    "        <br>\n",
    "        <input type=\"submit\" value=\"Разобрать\">\n",
    "    </form>\n",
    "\n",
    "    {% if text %}\n",
    "        <h1>Разбор:</h1>\n",
    "        <p class=\"result\"> {{ text | safe}}</p>\n",
    "    {% endif %}\n",
    "\n",
    "</body>\n",
    "</html>\n",
    "```"
   ]
  },
  {
   "cell_type": "markdown",
   "metadata": {},
   "source": [
    "# Выкладываем\n",
    "\n",
    "Мы с вами будем выкладывать сайты на [www.pythonanywhere.com/](https://www.pythonanywhere.com/user/2017learnpython/consoles/) - ресурс, где можно бесплатно хостить небольшие приложения. Выкладывать туда приложения очень просто:\n",
    "\n",
    "1. Нужно зайти на сайт и зарегистрироваться. \n",
    "\n",
    "    - Обратите внимание, что ваш юзернейм будет адресом вашего сайта. Например, если у вас юзернейм noname, то сайт будет доступен по адресу noname.pythonanywhere.com. \n",
    "    \n",
    "    - После регистрации нужно будет подтвердить свой почтовый адрес.\n",
    "    \n",
    "2. Когда вы заходите на сайт, вы автоматически попадаете в Консоли (__Consoles__). Чтобы выложить приложение на фласке, нужно перейти в Веб (__Web__) - или пройти по ссылке `https://www.pythonanywhere.com/user/ВАШ_ЮЗЕРНЕЙМ/webapps/` - и нажать кнопку __`Add a new web app`__\n",
    "\n",
    "    - Вам сообщат, что адрес сайта будет связан с вашим юзернеймом. Кликаем Next.\n",
    "    - Теперь нужно выбрать фреймворк, на котором написан сайт. Кликаем Flask.\n",
    "    - Теперь нужно выбрать версию питона. Кликаем на ту, которой вы пользовались, когда писали приложение. Например, Python 3.5.\n",
    "    - Нужно ввести путь к файлу с приложением на сервере. Вам автоматически предлагают что-то вроде `/home/ВАШ_ЮЗЕРНЕЙМ/mysite/flask_app.py`, но я, например, поменяю на  `/home/ЮЗЕРНЕЙМ/mysite/my_app.py`, потому что мой код приложения на фласке находится в файле my_app.py.\n",
    "    \n",
    "3. Теперь нужно загрузить наши файлы на сервер.  \n",
    "    \n",
    "    - Переходим во вкладку Файлы (__Files__), там в списке директорий слева (Directories) находим наш сайт (__mysite__) и переходим туда. \n",
    "    - В эту папку нужно загрузить наш файл `my_app.py` и папку `templates`. Интерфейс там довольно понятный: новую папку можно создать слева, загрузить файл - справа.\n",
    "    - (На самом деле, файлы можно не грузить руками. Вместо этого, можно сначала выложить весь ваш сайт на гитхаб, а потом зайти в Консоли (__Consoles__), и оттуда склонировать ваш реп с сайтом на сервер pythonanywhere в папку `mysite` командой `git clone ССЫЛКА_С_ГИТХАБА mysite`)\n",
    "    \n",
    "4. Теперь все готово, кроме одного - на сервере нет майстема. Для этого нам нужно создать виртуальное окружение\n",
    "\n",
    "    - Переходим в Консоли (__Consoles__) и нажимаем __Bash__. Пишем там команды:\n",
    "    - `mkvirtualenv myvirtualenv --python=/usr/bin/python3.5`  - это создаст виртуальное окружение, а именно папку myvirtualenv, в которой будет установлен ваш собственный новый отдельный питон3.5.\n",
    "    - `pip install pymystem3` - это установит в ваше виртуальное окружение майстем\n",
    "    - `pip install flask` - это установит в ваше виртуальное окружение фласк\n",
    "    - `which python` - эта команда распечатает путь к вашему питону. Например, `/home/ВАШ_ЮЗЕРНЕЙМ/.virtualenvs/myvirtualenv/bin/python`. Из этого пути нужно убрать `/bin/python`, скопировать полученное, вернуться во вкладку Веб (__Web__) и вставить наш путь в секции `Virtualenv`. Нужно вставить что-то такое - `/home/ВАШ_ЮЗЕРНЕЙМ/.virtualenvs/myvirtualenv`.\n",
    "    - Теперь нужно перезапустить приложение - кликаем большую зеленую кнопку Reload наверху. \n",
    "\n",
    "Готово! Мы можем перейти по ссылке - например, http://2017learnpython.pythonanywhere.com/ - и пользоваться нашим приложением!\n",
    "    \n",
    "\n",
    "\n",
    "\n",
    "    \n",
    "    \n"
   ]
  },
  {
   "cell_type": "markdown",
   "metadata": {},
   "source": [
    "# Домашнее задание\n",
    "\n",
    "1) Написать аналогичный сайт с формой, в которую пользователь вставляет текст. Ваш сайт должен выводить всю информацию о глаголах в данном тексте: \n",
    "\n",
    "   * Вывести, сколько всего глаголов в тексте и какова доля глаголов в тексте,\n",
    "   * Вывести, сколько переходных, сколько непереходных глаголов, сколько глаголов совершенного и несовершенного вида,\n",
    "   * Вывести список всех глагольных лемм в порядке убывания их частотности.\n",
    "    \n",
    "2) Зарегистрироваться на pythonanywhere и выложить туда ваш код. Убедитесь, что сайт заработал. Вставьте ссылку на ваш сайт в [гугл-форму](https://goo.gl/forms/BQg5cZbtP4KJlNs83). Этот сайт мы будем постепенно доделывать, и он станет вашим экзаменационным проектом.\n",
    "\n",
    "3) Кроме того, код вашего сайта нужно выложить на гитхаб.\n",
    "\n",
    "___________\n",
    "    \n",
    "Возможно, у вас есть какая-то идея интересного приложения на фласке с использованием mystem (например, вы хотите не про глаголы, а про существительные). В таком случае, напишите мне письмо с описанием идеи, и если идея подойдет, то вы сможете реализовать ее."
   ]
  }
 ],
 "metadata": {
  "kernelspec": {
   "display_name": "Python 3",
   "language": "python",
   "name": "python3"
  },
  "language_info": {
   "codemirror_mode": {
    "name": "ipython",
    "version": 3
   },
   "file_extension": ".py",
   "mimetype": "text/x-python",
   "name": "python",
   "nbconvert_exporter": "python",
   "pygments_lexer": "ipython3",
   "version": "3.5.3"
  }
 },
 "nbformat": 4,
 "nbformat_minor": 0
}
