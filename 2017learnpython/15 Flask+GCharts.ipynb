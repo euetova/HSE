{
 "cells": [
  {
   "cell_type": "markdown",
   "metadata": {},
   "source": [
    "# Графики\n",
    "\n",
    "Мы знаем, что графики можно рисовать в питоне с помощью Matplotlib. Но когда мы пишем сайт, удобнее использовать готовые инструменты, специально предназначенные для браузера, например, [D3.js](https://d3js.org/) или [Google Charts](https://developers.google.com/chart/).\n",
    "\n",
    "Мы поближе познакомимся с Google Charts. Рассмотрим пример [отсюда](https://developers.google.com/chart/interactive/docs/quick_start):"
   ]
  },
  {
   "cell_type": "code",
   "execution_count": null,
   "metadata": {
    "collapsed": true
   },
   "outputs": [],
   "source": [
    "<html>\n",
    "  <head>\n",
    "    <!--Load the AJAX API-->\n",
    "    <script type=\"text/javascript\" src=\"https://www.gstatic.com/charts/loader.js\"></script>\n",
    "    <script type=\"text/javascript\">\n",
    "\n",
    "      // Load the Visualization API and the corechart package.\n",
    "      // The first argument to google.charts.load is the version name or number, as a string. \n",
    "      // If you specify 'current', this causes the latest official release of Google Charts to be loaded. \n",
    "      google.charts.load('current', {'packages':['corechart'], 'language': 'ru'});\n",
    "      \n",
    "      // corechart contains: bar, column, line, area, stepped area, bubble, pie, donut, combo, candlestick, histogram, scatter\n",
    "      // you can add other packages as needed e.g., {packages: ['corechart', 'table', 'sankey']}\n",
    "      \n",
    "      // Locales are used to customize text for a country or language, \n",
    "      // affecting the formatting of values such as currencies, dates, and numbers.\n",
    "      // By default, the Google Charts is loaded with the \"en\" locale. \n",
    "\n",
    "      // Set a callback to run when the Google Visualization API is loaded.\n",
    "      google.charts.setOnLoadCallback(drawChart);\n",
    "\n",
    "      // Callback that creates and populates a data table,\n",
    "      // instantiates the pie chart, passes in the data and\n",
    "      // draws it.\n",
    "      function drawChart() {\n",
    "\n",
    "        // Create the data table.\n",
    "        var data = new google.visualization.DataTable();\n",
    "        data.addColumn('string', 'Topping');\n",
    "        data.addColumn('number', 'Slices');\n",
    "        data.addRows([\n",
    "          ['Mushrooms', 3],\n",
    "          ['Onions', 1],\n",
    "          ['Olives', 1],\n",
    "          ['Zucchini', 1],\n",
    "          ['Pepperoni', 2]\n",
    "        ]);\n",
    "\n",
    "        // Set chart options\n",
    "        var options = {'title':'How Much Pizza I Ate Last Night',\n",
    "                       'width':400,\n",
    "                       'height':300};\n",
    "\n",
    "        // Instantiate and draw our chart, passing in some options.\n",
    "        var chart = new google.visualization.PieChart(document.getElementById('chart_div'));\n",
    "        chart.draw(data, options);\n",
    "      }\n",
    "    </script>\n",
    "  </head>\n",
    "\n",
    "  <body>\n",
    "    <!--Div that will hold the pie chart-->\n",
    "    <div id=\"chart_div\"></div>\n",
    "  </body>\n",
    "</html>"
   ]
  },
  {
   "cell_type": "markdown",
   "metadata": {},
   "source": [
    "Гугл-графики рисуют картинку за нас, а нам лишь нужно написать в html-странице сами данные. А передавать в html-шаблон данные с помощью фласка мы как раз умеем.\n",
    "\n",
    "Данные нужно передать в JavaScript класс DataTable - это двумерная табличка. У каждой колонки должен быть тип (string, number etc), опционально - label и id.\n",
    "\n",
    "Существует много типов графиков, и у каждого есть документация, полностью его описывающая. Перед рисованием конкретной картинки, нужно изучить ее документацию, потому что:\n",
    "  * каждый тип графика ожидает разный формат DataTable,\n",
    "  * у разных графиков могут быть разные options,\n",
    "  * для некоторых графиков нужно подключать отдельный пакет, как тут: {packages: ['corechart', 'table']}."
   ]
  },
  {
   "cell_type": "markdown",
   "metadata": {},
   "source": [
    "# Flask + Charts\n",
    "\n",
    "Вспомним наше приложение, которое получало текст и возвращало его же, но каждому слову приписывалась часть речи. \n",
    "Отредактируем это приложение так, чтобы мы могли посмотреть в столбчатой диаграмме распределение частей речи."
   ]
  },
  {
   "cell_type": "code",
   "execution_count": null,
   "metadata": {
    "collapsed": true
   },
   "outputs": [],
   "source": [
    "from flask import Flask\n",
    "from flask import render_template, request\n",
    "from pymystem3 import Mystem\n",
    "from collections import defaultdict  # добавили defaultdict\n",
    "\n",
    "m = Mystem()\n",
    "app = Flask(__name__)\n",
    "\n",
    "\n",
    "def add_POS(text):\n",
    "    result = ''\n",
    "    ana = m.analyze(text)\n",
    "    d = defaultdict(int)  # добавили defaultdict\n",
    "    for i in ana:\n",
    "        result += i['text']\n",
    "        if i['text'].strip() and 'analysis' in i and i['analysis']:\n",
    "            pos = i['analysis'][0]['gr'].split('=')[0].split(',')[0]\n",
    "            d[pos] += 1  # собираем информацию о встречаемости частей речи\n",
    "            result += '<span class=\"pos\">{}</span>'.format(pos)\n",
    "    return result, d\n",
    "\n",
    "@app.route('/pos', methods=['get', 'post'])\n",
    "def pos_text():\n",
    "    if request.form:\n",
    "        text = request.form['text']\n",
    "        result, d = add_POS(text)  # не забыли отредактировать результат здесь\n",
    "        result = result.replace('\\n', '<br>')\n",
    "        return render_template('mystem_page.html', input=text, text=result, data=d)  # передаем новые данные в функцию\n",
    "    return render_template('mystem_page.html', data={}) # передаем пустую переменную в функцию\n",
    "\n",
    "\n",
    "if __name__ == '__main__':\n",
    "    app.run(debug=True)"
   ]
  },
  {
   "cell_type": "markdown",
   "metadata": {},
   "source": [
    "А вот так будет выглядеть html-шаблон:"
   ]
  },
  {
   "cell_type": "code",
   "execution_count": null,
   "metadata": {
    "collapsed": true
   },
   "outputs": [],
   "source": [
    "<!DOCTYPE html>\n",
    "<html lang=\"ru\">\n",
    "<head>\n",
    "    <meta charset=\"UTF-8\">\n",
    "    <title>Части речи слов</title>\n",
    "\t<style>\n",
    "\t\t.pos {vertical-align: sub; color: blue; font-size: 70%;}\n",
    "\t\t.result {font-size: 24px;}\n",
    "\t</style>\n",
    "    \n",
    "    \n",
    "    <script type=\"text/javascript\" src=\"https://www.gstatic.com/charts/loader.js\"></script>\n",
    "    <script type=\"text/javascript\">\n",
    "      google.charts.load('current', {'packages':['corechart'], 'language': 'ru'});\n",
    "      google.charts.setOnLoadCallback(drawChart);\n",
    "      function drawChart() {\n",
    "        var data = new google.visualization.DataTable();\n",
    "        data.addColumn('string', 'Часть речи');\n",
    "        data.addColumn('number', 'Количество');\n",
    "        data.addRows([\n",
    "          {% for pos, num in data.items() %}\n",
    "              ['{{ pos }}', {{ num }}],\n",
    "          {% endfor %}\n",
    "        ]);\n",
    "\n",
    "        var options = {'title':'Части речи',\n",
    "                       'width':600,\n",
    "                       'height':300,\n",
    "                        'legend': { position: \"none\" }};\n",
    "\n",
    "        var chart = new google.visualization.BarChart(document.getElementById('chart_div'));\n",
    "        chart.draw(data, options);\n",
    "      }\n",
    "    </script>\n",
    "    \n",
    "    \n",
    "    \n",
    "</head>\n",
    "<body>\n",
    "<a href=\"/\">На главную.</a>\n",
    "\t<form method='post'>\n",
    "\t\t<h1>Ваш текст:</h1>\n",
    "\t\t<textarea rows=\"4\" cols=\"50\" name=\"text\">{{ input }}</textarea>\n",
    "\t\t<br>\n",
    "\t\t<input type=\"submit\" value=\"Разобрать\">\n",
    "\t</form>\n",
    "\t{% if text %}\n",
    "        <div id=\"chart_div\"></div>\n",
    "\t\t<h1>Разбор:</h1>\n",
    "\t\t<p class=\"result\"> {{ text | safe}}</p>\n",
    "\t{% endif %}\n",
    "\n",
    "</body>\n",
    "</html>"
   ]
  },
  {
   "cell_type": "markdown",
   "metadata": {},
   "source": [
    "Действующий пример находится здесь - http://2017learnpython.pythonanywhere.com/pos.\n",
    "\n",
    "Google Charts позволяет легко рисовать даже сложные графики, например, [диаграммы Гантта](https://developers.google.com/chart/interactive/docs/gallery/ganttchart) или [географические карты](https://developers.google.com/chart/interactive/docs/gallery/geochart)."
   ]
  },
  {
   "cell_type": "markdown",
   "metadata": {},
   "source": [
    "# Задания на семинар\n",
    "\n",
    "1) Создайте html-страничку с [диаграммой Гантта](https://developers.google.com/chart/interactive/docs/gallery/ganttchart) с этапами работы над каким-либо вашим проектом (курсовой, дз по какому-то предмету, ваш будущий стартап и т.д.). (Это руками)\n",
    "\n",
    "2) Скачать список пользователей, состоящих в группе https://vk.com/hse_university (VK API). Нарисовать [столбчатую диаграмму](https://developers.google.com/chart/interactive/docs/gallery/columnchart), показывающую распределение пользователей по их году рождения.\n",
    "\n",
    "3) Нарисуйте [Calendar Chart](https://developers.google.com/chart/interactive/docs/gallery/calendar ), показывающую количество твитов в каждый день в [аккаунте сколково](https://github.com/elmiram/2017learnpython/blob/master/data/skolkovo_ru.csv)."
   ]
  }
 ],
 "metadata": {
  "kernelspec": {
   "display_name": "Python 3",
   "language": "python",
   "name": "python3"
  },
  "language_info": {
   "codemirror_mode": {
    "name": "ipython",
    "version": 3
   },
   "file_extension": ".py",
   "mimetype": "text/x-python",
   "name": "python",
   "nbconvert_exporter": "python",
   "pygments_lexer": "ipython3",
   "version": "3.5.3"
  }
 },
 "nbformat": 4,
 "nbformat_minor": 1
}
