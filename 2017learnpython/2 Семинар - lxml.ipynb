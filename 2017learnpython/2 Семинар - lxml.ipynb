{
 "cells": [
  {
   "cell_type": "markdown",
   "metadata": {},
   "source": [
    "# lxml\n",
    "\n",
    "`lxml` - это питоновский модуль для работы с XML и HTML: с его помощью можно как создавать, так и парсить XML/HTML.\n",
    "\n",
    "Давайте скачаем какую-нибудь страничку в интернете и попробуем попарсить ее с помощью `lxml`. \n",
    "\n",
    "Задача: \n",
    "Возьмем главную страницу Хабрахабра и вытащим оттуда заголовки статей и даты публикации. \n",
    "Плюс к этому мы хотим создать класс Статей и сохранить найденные данные в виде массива Статей."
   ]
  },
  {
   "cell_type": "code",
   "execution_count": 61,
   "metadata": {
    "collapsed": true
   },
   "outputs": [],
   "source": [
    "# пишем класс Статьи\n",
    "class Article:\n",
    "    def __init__(self, title, date):\n",
    "        self.title = title\n",
    "        self.date = date\n",
    "        \n",
    "    def __str__(self):\n",
    "        return self.title + ' [' + self.date + ']'"
   ]
  },
  {
   "cell_type": "code",
   "execution_count": 2,
   "metadata": {
    "collapsed": false
   },
   "outputs": [
    {
     "name": "stdout",
     "output_type": "stream",
     "text": [
      "\n",
      "<!DOCTYPE html>\n",
      "<html lang=\"ru\" class=\"no-js\">\n",
      "  <head>\n",
      "    <meta http-equiv=\"content-type\" content=\"text/html; charset=utf-8\" />\n",
      "<meta content='width=1024' name='viewport'>\n",
      "<title>Интересные публикации / Хабрахабр</title>\n",
      "\n",
      "\n",
      "  <meta property=\"og:imag\n"
     ]
    }
   ],
   "source": [
    "# скачиваем главную страницу Хабрахабра\n",
    "import requests\n",
    "page = requests.get('https://habrahabr.ru/')  \n",
    "\n",
    "print(page.text[:251]) # в атрибуте text  можно посмотреть текст страницы, которая скачалась"
   ]
  },
  {
   "cell_type": "code",
   "execution_count": 12,
   "metadata": {
    "collapsed": false
   },
   "outputs": [
    {
     "name": "stdout",
     "output_type": "stream",
     "text": [
      "\n",
      "<!DOCTYPE html>\n",
      "<html lang=\"ru\" class=\"no-js\">\n",
      "  <head>\n",
      "    <meta http-equiv=\"content-type\" content=\"text/html; charset=utf-8\" />\n",
      "<meta content='width=1024' name='viewport'>\n",
      "<title>Интересные публикации / Хабрахабр</title\n"
     ]
    }
   ],
   "source": [
    "print(page.content[:251].decode('utf-8'))  # в атрибуте content эта страница хранится в байтовом виде"
   ]
  },
  {
   "cell_type": "markdown",
   "metadata": {},
   "source": [
    "Дальше с этим текстом можно работать двумя способами, используя lxml: \n",
    "\n",
    "1) etree\n",
    "\n",
    "2) xpath\n",
    "\n",
    "## etree"
   ]
  },
  {
   "cell_type": "code",
   "execution_count": 46,
   "metadata": {
    "collapsed": false
   },
   "outputs": [
    {
     "name": "stdout",
     "output_type": "stream",
     "text": [
      "html\n"
     ]
    }
   ],
   "source": [
    "from lxml import etree\n",
    "\n",
    "root = etree.HTML(page.content)\n",
    "    # скармливаем парсеру хтмл страницу\n",
    "    # в этом месте парсер построил дерево элементов - какой элемент внутри какого и сохранил в переменную root корень этого дерева\n",
    "    \n",
    "print(root.tag) # с помощью атрибута tag можно посмотреть тэг корневого элемента"
   ]
  },
  {
   "cell_type": "code",
   "execution_count": 29,
   "metadata": {
    "collapsed": false
   },
   "outputs": [
    {
     "name": "stdout",
     "output_type": "stream",
     "text": [
      "head\n",
      "body\n"
     ]
    }
   ],
   "source": [
    "# в html внутри одних тэгов содержатся другие тэги. их можно воспринимать как массивы и проходить по ним с помощью цикла\n",
    "for element in root:  \n",
    "    print(element.tag)"
   ]
  },
  {
   "cell_type": "code",
   "execution_count": 31,
   "metadata": {
    "collapsed": false
   },
   "outputs": [
    {
     "name": "stdout",
     "output_type": "stream",
     "text": [
      "body\n"
     ]
    }
   ],
   "source": [
    "print(root[1].tag) # также можно получить какой-то элемент внутри корня по номеру"
   ]
  },
  {
   "cell_type": "code",
   "execution_count": 32,
   "metadata": {
    "collapsed": false
   },
   "outputs": [
    {
     "name": "stdout",
     "output_type": "stream",
     "text": [
      "{'lang': 'ru', 'class': 'no-js'}\n"
     ]
    }
   ],
   "source": [
    "print(root.attrib) # также можно получить все атрибуты внутри тэга - в питоне это представлено как словарь \n",
    "# (и можно с root.attrib) делать все то же самое, что со словарем"
   ]
  },
  {
   "cell_type": "markdown",
   "metadata": {},
   "source": [
    "Вернемся к нашей задаче:\n",
    " в коде страницы список заголовков находится в `/html/body/div[1]/div[3]/div[2]/div[1]/div[2]/div[1]`"
   ]
  },
  {
   "cell_type": "code",
   "execution_count": 47,
   "metadata": {
    "collapsed": false
   },
   "outputs": [
    {
     "name": "stdout",
     "output_type": "stream",
     "text": [
      "{'class': 'posts shortcuts_items'}\n"
     ]
    }
   ],
   "source": [
    "posts = root[1][0][2][1][0][1][0]\n",
    "print(posts.attrib) "
   ]
  },
  {
   "cell_type": "code",
   "execution_count": 55,
   "metadata": {
    "collapsed": false
   },
   "outputs": [
    {
     "name": "stdout",
     "output_type": "stream",
     "text": [
      "вчера в 23:47 Дайджест свежих материалов из мира фронтенда за последнюю неделю №245 (9 — 15 января 2017)\n",
      "сегодня в 00:04 PHP-Дайджест № 100 – интересные новости, материалы и инструменты (1 – 15 января 2017)\n",
      "вчера в 16:09 Нужна ли нам система оценок?\n",
      "вчера в 22:23 Год без единого байта\n",
      "вчера в 19:34 Чистый javascript.Функции\n",
      "вчера в 20:15 Налоговый cуслик — 2. «Налог на Google» и агентский НДС для российских предпринимателей и организаций\n",
      "вчера в 19:46 Android Tips and Tricks\n",
      "вчера в 14:12 Пошаговая настройка веб-сервисов в OTRS 5\n",
      "13 января в 18:53 Исследование IHS Markit: 145 компаний контролируют 40% общемирового рынка ЦОД\n",
      "14 января в 19:12 О сравнении объектов по значению — 6: Structure Equality Implementation\n"
     ]
    }
   ],
   "source": [
    "for post in posts:\n",
    "    if 'post' in post.attrib['class']:\n",
    "        header = post[0]\n",
    "        date = header[0].text\n",
    "        title = header[1][2].text\n",
    "        print(date.strip() +' ' + title.strip())\n",
    "        \n",
    "# проверяем, что распечатывается то, что нужно"
   ]
  },
  {
   "cell_type": "code",
   "execution_count": 56,
   "metadata": {
    "collapsed": false
   },
   "outputs": [
    {
     "name": "stdout",
     "output_type": "stream",
     "text": [
      "Дайджест свежих материалов из мира фронтенда за последнюю неделю №245 (9 — 15 января 2017) [вчера в 23:47]\n",
      "PHP-Дайджест № 100 – интересные новости, материалы и инструменты (1 – 15 января 2017) [сегодня в 00:04]\n",
      "Нужна ли нам система оценок? [вчера в 16:09]\n",
      "Год без единого байта [вчера в 22:23]\n",
      "Чистый javascript.Функции [вчера в 19:34]\n",
      "Налоговый cуслик — 2. «Налог на Google» и агентский НДС для российских предпринимателей и организаций [вчера в 20:15]\n",
      "Android Tips and Tricks [вчера в 19:46]\n",
      "Пошаговая настройка веб-сервисов в OTRS 5 [вчера в 14:12]\n",
      "Исследование IHS Markit: 145 компаний контролируют 40% общемирового рынка ЦОД [13 января в 18:53]\n",
      "О сравнении объектов по значению — 6: Structure Equality Implementation [14 января в 19:12]\n"
     ]
    }
   ],
   "source": [
    "# Выполняем задание\n",
    "\n",
    "articles = []\n",
    "\n",
    "for post in posts:\n",
    "    if 'post' in post.attrib['class']:\n",
    "        header = post[0]\n",
    "        date = header[0].text\n",
    "        title = header[1][2].text\n",
    "        article = Article(title.strip(), date.strip())\n",
    "        articles.append(article)\n",
    "        \n",
    "for a in articles:\n",
    "    print(a)"
   ]
  },
  {
   "cell_type": "markdown",
   "metadata": {},
   "source": [
    "Еще полезно знать, какие свойства есть у элементов дерева в `etree`:\n",
    "\n",
    "- `attrib` - словарь атрибутов хтмл-тэга\n",
    "- `tag` - тэг элемента\n",
    "- `tail` - текст после закрывающего тэга элемента, но _до_ открывающего тэга сестры этого элемента (либо строка, либо None)\n",
    "- `text` - текст внутри тэга _до_ первого вложенного тэга (либо строка, либо None)\n",
    "\n",
    "Подробнее про методы и свойства элементов можно почитать [тут](http://lxml.de/api/lxml.etree._Element-class.html)."
   ]
  },
  {
   "cell_type": "markdown",
   "metadata": {},
   "source": [
    "## XPath\n",
    "\n",
    "XPath  -  это способ представления пути к информации в структурированных документах типа XML/HTML. В XPath используются специальные выражения для того, чтобы выбирать какие-то узлы (элементы) в дереве XML. Есть туториал по XPath на [w3schools](http://www.w3schools.com/xml/xpath_nodes.asp), очень советую его почитать.\n",
    "\n",
    "Элементы XPath выражения:\n",
    "\n",
    "- _tag_ - выбрать все узлы с названием tag \n",
    "- `/` - указывает на узлы, которые являются прямыми потомками текущего\n",
    "- `//` - указывает на узлы, которые являются потомками текущего (где-то внутри текущего узла, но необязательно его потомок)\n",
    "- `.` - текущий узел\n",
    "- `..` - родитель текущего узла\n",
    "- `@` - указывает на атрибут\n",
    "- `text()` - выбирает весь текст внутри узла (и внутри дочерних узлов тоже)\n",
    "\n",
    "В XPath выражении могут быть предикаты, которые позволяют выбрать конкретный узел, предикаты пишутся в квадратных скобках.\n",
    "Например:\n",
    "\n",
    "- //p[1] - выбрать первый элемент, который является ребенком узла с тэгом p\n",
    "- //p[@style] - выбрать все узлы с тэгом p, у которых есть атрибут style\n",
    "- //td[@border=\"1\"] - выбрать все узлы с тэгом td, у которых атрибут border равен 1\n",
    "\n",
    "Также есть специальные знаки, означающие \"любой\":\n",
    "\n",
    "- * - любой узел  (например `//*` - все элементы дерева, `/body/*` - все дети тэга body)\n",
    "- @* - любой атрибут (например `//p[@*]` - все узлы с тэгом p, у которых есть хоть один какой-то атрибут)\n",
    "\n",
    "Например, если мы хотим найти все даты на нашей странице, мы соберем такое выражение:\n",
    "\n",
    "    //span[@class=\"post__time_published\"]/text()\n",
    "    \n",
    "Все заголовки:\n",
    "\n",
    "    //a[@class=\"post__title_link\"]/text()"
   ]
  },
  {
   "cell_type": "code",
   "execution_count": 3,
   "metadata": {
    "collapsed": false
   },
   "outputs": [
    {
     "name": "stdout",
     "output_type": "stream",
     "text": [
      "['\\n         сегодня в 09:48 \\n      ', '\\n         вчера в 15:34 \\n      ', '\\n         сегодня в 08:32 \\n      ', '\\n         сегодня в 01:46 \\n      ', '\\n         сегодня в 04:01 \\n      ', '\\n         вчера в 13:57 \\n      ', '\\n         вчера в 13:57 \\n      ', '\\n         сегодня в 01:27 \\n      ', '\\n         вчера в 23:44 \\n      ', '\\n         вчера в 18:30 \\n      ']\n"
     ]
    }
   ],
   "source": [
    "from lxml import html # для xpath импортируем html \n",
    "\n",
    "tree = html.fromstring(page.content) # в этом месте парсер построил дерево элементов\n",
    "\n",
    "# собираем список дат\n",
    "dates = tree.xpath('//span[@class=\"post__time_published\"]/text()')\n",
    "\n",
    "# собираем список заголовков\n",
    "titles = tree.xpath('//a[@class=\"post__title_link\"]/text()')\n",
    "\n",
    "# посмотрим, что получилось\n",
    "print(dates)"
   ]
  },
  {
   "cell_type": "code",
   "execution_count": 14,
   "metadata": {
    "collapsed": false
   },
   "outputs": [
    {
     "name": "stdout",
     "output_type": "stream",
     "text": [
      "['(Надеюсь) всё, что нужно знать о фотограмметрии', 'PyNSK #11 — первая встреча питонистов Новосибирска в 2017 году', 'Семейный бизнес в IT. Как мы продали свой стартап', 'Как перебрать все перестановки и о факториальном разложении натуральных чисел', 'Windows имеет внутренний список неудаляемых корневых сертификатов', 'VoIP телефония. Asterisk. Нестандартный подход ко всему. Часть 2', 'VoIP телефония. Asterisk. Нестандартный подход ко всему. Часть 1', 'Продолжение эпопеи с USB-стеком', 'Консоль в массы. Переход на светлую сторону. Bash', 'Удаленные AJAX компоненты для ReactJS']\n",
      "[1, 6, 7]\n"
     ]
    }
   ],
   "source": [
    "print(titles)\n",
    "print(sorted([1,6,7]))"
   ]
  },
  {
   "cell_type": "code",
   "execution_count": 12,
   "metadata": {
    "collapsed": false
   },
   "outputs": [
    {
     "name": "stdout",
     "output_type": "stream",
     "text": [
      "['bmenu_inner']\n",
      "['buttons']\n",
      "['buttons']\n",
      "['buttons']\n",
      "['buttons']\n",
      "['buttons']\n",
      "['shortcuts_item']\n",
      "['buttons']\n",
      "['buttons']\n",
      "['buttons']\n",
      "['buttons']\n",
      "['shortcuts_item']\n",
      "['buttons']\n",
      "['xyz_wrapper_inner']\n"
     ]
    }
   ],
   "source": [
    "divs = tree.xpath('//div[@class and @style]') \n",
    "for div in divs:\n",
    "    print(div.xpath('@class'))"
   ]
  },
  {
   "cell_type": "code",
   "execution_count": 60,
   "metadata": {
    "collapsed": false
   },
   "outputs": [
    {
     "name": "stdout",
     "output_type": "stream",
     "text": [
      "Дайджест свежих материалов из мира фронтенда за последнюю неделю №245 (9 — 15 января 2017) [вчера в 23:47]\n",
      "PHP-Дайджест № 100 – интересные новости, материалы и инструменты (1 – 15 января 2017) [сегодня в 00:04]\n",
      "Нужна ли нам система оценок? [вчера в 16:09]\n",
      "Год без единого байта [вчера в 22:23]\n",
      "Чистый javascript.Функции [вчера в 19:34]\n",
      "Налоговый cуслик — 2. «Налог на Google» и агентский НДС для российских предпринимателей и организаций [вчера в 20:15]\n",
      "Android Tips and Tricks [вчера в 19:46]\n",
      "Пошаговая настройка веб-сервисов в OTRS 5 [вчера в 14:12]\n",
      "Исследование IHS Markit: 145 компаний контролируют 40% общемирового рынка ЦОД [13 января в 18:53]\n",
      "О сравнении объектов по значению — 6: Structure Equality Implementation [14 января в 19:12]\n"
     ]
    }
   ],
   "source": [
    "# Выполняем задание\n",
    "\n",
    "articles = []\n",
    "\n",
    "for date, title in zip(dates, titles):\n",
    "    article = Article(title, date.strip())\n",
    "    articles.append(article)\n",
    "\n",
    "for a in articles:\n",
    "    print(a)"
   ]
  }
 ],
 "metadata": {
  "kernelspec": {
   "display_name": "Python 3",
   "language": "python",
   "name": "python3"
  },
  "language_info": {
   "codemirror_mode": {
    "name": "ipython",
    "version": 3
   },
   "file_extension": ".py",
   "mimetype": "text/x-python",
   "name": "python",
   "nbconvert_exporter": "python",
   "pygments_lexer": "ipython3",
   "version": "3.4.3"
  }
 },
 "nbformat": 4,
 "nbformat_minor": 0
}
