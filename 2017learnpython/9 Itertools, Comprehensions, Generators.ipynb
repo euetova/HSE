{
 "cells": [
  {
   "cell_type": "markdown",
   "metadata": {},
   "source": [
    "# Про некоторые полезные вещи\n",
    "\n",
    "## `itertools`"
   ]
  },
  {
   "cell_type": "markdown",
   "metadata": {},
   "source": [
    "Встроенный модуль `itertools` содержит функции для работы с итерируемыми объектами (списки, строки, и т.д). Функции там делятся на три категории:\n",
    "\n",
    "Последовательное соединение двух итераторов:\n",
    "* `chain`: соединяем несколько итераторов в единый длинный\n",
    "* `cycle`: заново повторяет элементы итератора\n",
    "* `tee`: разделяет один итератор на несколько параллельных\n",
    "* `zip_longest`: как zip, только умеет работать на итераторах разных длины\n",
    "\n",
    "Фильтр по итератору:\n",
    "* `islice`: как срезы в массивах, только без копирования\n",
    "* `takewhile`: возвращает элементы итератора до тех пор, пока функция-условие возвращает True\n",
    "* `dropwhile`: возвращает элементы итератора начиная с того момента, когда функция-условие возвращает False в первый раз\n",
    "* `filterfalse`: возвращает те элементы итератора, на которых функция-условие возвращает False\n",
    "\n",
    "Комбинирование двух итераторов:\n",
    "* `product`: декартово произведение \n",
    "* `permutations`: упорядоченные перестановки длины N \n",
    "* `combination`: неупорядоченные комбинации длины N (только из неповторяющихся элементов)\n",
    "\n",
    "В `itertools` море полезного. Каждый раз, когда вы видите, что у вас несколько вложенных циклов и много проходов по массиву, например, вспоминайте про `itertools`."
   ]
  },
  {
   "cell_type": "markdown",
   "metadata": {},
   "source": [
    "## Comprehensions"
   ]
  },
  {
   "cell_type": "markdown",
   "metadata": {},
   "source": [
    "Не забывайте использовать list comprehensions и dict comprehensions."
   ]
  },
  {
   "cell_type": "code",
   "execution_count": 1,
   "metadata": {
    "collapsed": false
   },
   "outputs": [
    {
     "name": "stdout",
     "output_type": "stream",
     "text": [
      "[1, 4, 9, 16, 25, 36, 49, 64, 81, 100]\n"
     ]
    }
   ],
   "source": [
    "a = [1, 2, 3, 4, 5, 6, 7, 8, 9, 10]\n",
    "squares = [x**2 for x in a]\n",
    "print(squares)"
   ]
  },
  {
   "cell_type": "code",
   "execution_count": 2,
   "metadata": {
    "collapsed": false
   },
   "outputs": [
    {
     "name": "stdout",
     "output_type": "stream",
     "text": [
      "[4, 16, 36, 64, 100]\n"
     ]
    }
   ],
   "source": [
    "even_squares = [x**2 for x in a if x % 2 == 0]\n",
    "print(even_squares)"
   ]
  },
  {
   "cell_type": "code",
   "execution_count": 4,
   "metadata": {
    "collapsed": false
   },
   "outputs": [
    {
     "name": "stdout",
     "output_type": "stream",
     "text": [
      "{1: 'elephant', 2: 'horse', 3: 'dog'}\n",
      "{8, 3, 5}\n"
     ]
    }
   ],
   "source": [
    "animals = {'dog': 3, 'horse': 2, 'elephant': 1}\n",
    "num_dict = {num: name for name, num in animals.items()}\n",
    "animals_len = {len(name) for name in num_dict.values()}\n",
    "print(num_dict)\n",
    "print(animals_len)"
   ]
  },
  {
   "cell_type": "code",
   "execution_count": 6,
   "metadata": {
    "collapsed": false
   },
   "outputs": [
    {
     "name": "stdout",
     "output_type": "stream",
     "text": [
      "[1, 2, 3, 4, 5, 6, 7, 8, 9]\n"
     ]
    }
   ],
   "source": [
    "matrix = [[1, 2, 3], [4, 5, 6], [7, 8, 9]]\n",
    "flat = [x for row in matrix for x in row]\n",
    "print(flat)"
   ]
  },
  {
   "cell_type": "markdown",
   "metadata": {},
   "source": [
    "Лучше не использовать больше двух выражений в одном comprehension. Код становится нечитаемым."
   ]
  },
  {
   "cell_type": "code",
   "execution_count": null,
   "metadata": {
    "collapsed": true
   },
   "outputs": [],
   "source": [
    "flat = [x\n",
    "        for sublist1 in my_lists\n",
    "        for sublist2 in sublist1\n",
    "        for x in sublist2]"
   ]
  },
  {
   "cell_type": "markdown",
   "metadata": {},
   "source": [
    "Пример ок:"
   ]
  },
  {
   "cell_type": "code",
   "execution_count": 8,
   "metadata": {
    "collapsed": true
   },
   "outputs": [],
   "source": [
    "a = [1, 2, 3, 4, 5, 6, 7, 8, 9, 10]\n",
    "b = [x for x in a if x > 4 if x % 2 == 0]\n",
    "c = [x for x in a if x > 4 and x % 2 == 0]"
   ]
  },
  {
   "cell_type": "markdown",
   "metadata": {},
   "source": [
    "Пример не ок:"
   ]
  },
  {
   "cell_type": "code",
   "execution_count": 9,
   "metadata": {
    "collapsed": false
   },
   "outputs": [
    {
     "name": "stdout",
     "output_type": "stream",
     "text": [
      "[[6], [9]]\n"
     ]
    }
   ],
   "source": [
    "matrix = [[1, 2, 3], [4, 5, 6], [7, 8, 9]]\n",
    "filtered = [[x for x in row if x % 3 == 0]\n",
    "            for row in matrix if sum(row) >= 10]\n",
    "print(filtered)"
   ]
  },
  {
   "cell_type": "markdown",
   "metadata": {},
   "source": [
    "## Генераторы"
   ]
  },
  {
   "cell_type": "markdown",
   "metadata": {},
   "source": [
    "Массивы занимают место. Так что иногда лучше пользоваться генераторами."
   ]
  },
  {
   "cell_type": "code",
   "execution_count": 10,
   "metadata": {
    "collapsed": false
   },
   "outputs": [
    {
     "name": "stdout",
     "output_type": "stream",
     "text": [
      "[208, 1, 8, 7, 14, 28, 28, 33, 28, 28, 28, 6, 8, 7, 28, 19, 25, 118, 19, 25, 118, 8, 7, 28, 19, 167, 14, 14, 14, 9, 6, 8, 7, 28, 19, 304, 118, 14, 14, 9, 6, 8, 196, 223, 7, 28, 14, 14, 14, 19, 167, 9, 6, 8, 7, 28, 19, 142, 24, 19, 304, 113, 6, 8, 9, 28, 19, 137, 24, 14, 14, 14, 8, 7, 28, 14, 14, 14, 19, 266, 36, 6, 8, 74, 223, 210, 8, 7, 28, 19, 38, 14, 19, 38, 9, 6, 8, 7, 28, 19, 15, 14, 14, 14, 9, 6, 8, 7, 28, 19, 15, 14, 19, 15, 9, 6, 8, 7, 28, 28, 23, 14, 14, 14, 9, 6, 8, 7, 28, 14, 14, 14, 19, 15, 9, 6, 8, 7, 28, 19, 16, 14, 19, 15, 9, 6, 8, 7, 28, 14, 14, 14, 19, 15, 9, 6, 8, 7, 28, 19, 39, 14, 19, 16, 9, 6, 8, 7, 28, 14, 14, 14, 19, 16, 9, 6, 8, 7, 28, 14, 14, 14, 19, 39, 9, 6, 8, 7, 14, 14, 14, 14, 14, 14, 9, 6, 8, 9]\n"
     ]
    }
   ],
   "source": [
    "value = [len(x) for x in open('README.md')]\n",
    "print(value)"
   ]
  },
  {
   "cell_type": "code",
   "execution_count": 11,
   "metadata": {
    "collapsed": false
   },
   "outputs": [
    {
     "name": "stdout",
     "output_type": "stream",
     "text": [
      "<generator object <genexpr> at 0x0000000004B323F0>\n"
     ]
    }
   ],
   "source": [
    "it = (len(x) for x in open('README.md'))\n",
    "print(it)"
   ]
  },
  {
   "cell_type": "code",
   "execution_count": 12,
   "metadata": {
    "collapsed": false
   },
   "outputs": [
    {
     "name": "stdout",
     "output_type": "stream",
     "text": [
      "208\n",
      "1\n"
     ]
    }
   ],
   "source": [
    "print(next(it))\n",
    "print(next(it))"
   ]
  },
  {
   "cell_type": "markdown",
   "metadata": {},
   "source": [
    "Генераторы можно комбинировать:"
   ]
  },
  {
   "cell_type": "code",
   "execution_count": 14,
   "metadata": {
    "collapsed": false
   },
   "outputs": [
    {
     "name": "stdout",
     "output_type": "stream",
     "text": [
      "(7, 2.6457513110645907)\n",
      "(14, 3.7416573867739413)\n"
     ]
    }
   ],
   "source": [
    "roots = ((x, x**0.5) for x in it)\n",
    "print(next(roots))\n",
    "print(next(roots))"
   ]
  },
  {
   "cell_type": "markdown",
   "metadata": {},
   "source": [
    "# Задания\n",
    "\n",
    "1) Анаграммой называется произвольное слово, полученное из данного слова перестановкой букв. Напишите функцию  `anagram(word)`, которая возвращает все анаграммы, которые можно составить из слова `word`.\n",
    "\n",
    "2) Дано уравнение: `rqtr + wrt = rwuu`. Разные буквы стоят на месте разных цифр. Сколько решений у этого уравнения?\n",
    "\n",
    "3) Взять какой-либо текст и посчитать количество вхождений кадого символа в нем с помощью Counter. Создать множество из 20 самых частотных символов, используя set comprehension и Counter.most_common.\n"
   ]
  }
 ],
 "metadata": {
  "kernelspec": {
   "display_name": "Python 3",
   "language": "python",
   "name": "python3"
  },
  "language_info": {
   "codemirror_mode": {
    "name": "ipython",
    "version": 3
   },
   "file_extension": ".py",
   "mimetype": "text/x-python",
   "name": "python",
   "nbconvert_exporter": "python",
   "pygments_lexer": "ipython3",
   "version": "3.5.3"
  }
 },
 "nbformat": 4,
 "nbformat_minor": 0
}
