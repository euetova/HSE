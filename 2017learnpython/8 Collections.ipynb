{
 "cells": [
  {
   "cell_type": "markdown",
   "metadata": {},
   "source": [
    "# Collections\n",
    "`Collections` - это модуль, который содержит разные полезные классы-контейнеры, которые часто удобнее использовать вместо обычных контейнеров (`dict`, `list`, `set`, `tuple`). [Документация](https://docs.python.org/3/library/collections.html)\n",
    "\n",
    "## `deque`\n",
    "`deque` = Double-Ended QUEue - это двусторонняя очередь. Ее удобно использовать, когда вам нужен класс стека или очереди. Уметь писать эти классы полезно, но легко сделать ошибку. Поэтому удобнее и надежнее на практике использовать класс `deque`."
   ]
  },
  {
   "cell_type": "code",
   "execution_count": 5,
   "metadata": {
    "collapsed": true
   },
   "outputs": [],
   "source": [
    "from collections import deque"
   ]
  },
  {
   "cell_type": "markdown",
   "metadata": {},
   "source": [
    "`deque` как стек:"
   ]
  },
  {
   "cell_type": "code",
   "execution_count": 6,
   "metadata": {
    "collapsed": false
   },
   "outputs": [
    {
     "name": "stdout",
     "output_type": "stream",
     "text": [
      "Y\n",
      "X\n"
     ]
    }
   ],
   "source": [
    "stack = deque()\n",
    "stack.append('X')  # вместо push обычный append, как у массивов\n",
    "stack.append('Y')\n",
    "print(stack.pop())\n",
    "print(stack.pop())"
   ]
  },
  {
   "cell_type": "markdown",
   "metadata": {},
   "source": [
    "`deque` как очередь:"
   ]
  },
  {
   "cell_type": "code",
   "execution_count": 7,
   "metadata": {
    "collapsed": false
   },
   "outputs": [
    {
     "name": "stdout",
     "output_type": "stream",
     "text": [
      "U\n",
      "V\n",
      "W\n"
     ]
    }
   ],
   "source": [
    "queue = deque()\n",
    "queue.append('U')  # append используется и вместо enqueue\n",
    "queue.append('V')\n",
    "queue.append('W')\n",
    "print(queue.popleft())   # вместо dequeue используется popleft\n",
    "print(queue.popleft())\n",
    "print(queue.popleft())"
   ]
  },
  {
   "cell_type": "markdown",
   "metadata": {},
   "source": [
    "Еще очень удобно использовать `deque`, когда вам нужно хранить заданное количество элементов, и удалять старые при появлении новых. Например, если мы делаем сайт с какой-то поисковой формой, и на отдельной странице мы хотим показывать 6 последних запросов пользователей. Классу  `deque` можно задать максимальную длину (`maxlen`), тогда старые элементы будут удалятся при добавлении новых, если длина `deque` достигла `maxlen`."
   ]
  },
  {
   "cell_type": "code",
   "execution_count": 8,
   "metadata": {
    "collapsed": false
   },
   "outputs": [
    {
     "name": "stdout",
     "output_type": "stream",
     "text": [
      "deque(['девчонку', 'велел', 'тащить', 'пеленку', 'падежи', 'этажи'], maxlen=6)\n"
     ]
    }
   ],
   "source": [
    "recent_words = deque(['Иван', 'родил', 'девчонку', 'велел', 'тащить', 'пеленку'], 6)  # максимальная длина = 6\n",
    "recent_words.append('падежи')\n",
    "recent_words.append('этажи')\n",
    "print(recent_words)"
   ]
  },
  {
   "cell_type": "markdown",
   "metadata": {},
   "source": [
    "В классе `deque` есть и другие удобные возможности. Вот некоторые методы, которые их реализуют:"
   ]
  },
  {
   "cell_type": "code",
   "execution_count": null,
   "metadata": {
    "collapsed": true
   },
   "outputs": [],
   "source": [
    "clear\n",
    "count\n",
    "extend, extendleft\n",
    "index\n",
    "insert\n",
    "remove\n",
    "reverse\n",
    "rotate"
   ]
  },
  {
   "cell_type": "markdown",
   "metadata": {},
   "source": [
    "## `defaultdict`\n",
    "Это словарь, в котором задано значение по умолчанию. Это значит, что такой словарь никогда не упадет, если попробовать достать из него ключ, которого там нет: он скажет, что ключ там есть и вернет значение по умолчанию.\n",
    "\n",
    "Например, если нам нужно посчитать вхождения каждого слова в тексте, мы можем вместо такого:"
   ]
  },
  {
   "cell_type": "code",
   "execution_count": 42,
   "metadata": {
    "collapsed": false
   },
   "outputs": [
    {
     "name": "stdout",
     "output_type": "stream",
     "text": [
      "{'do': 3, 'you': 2, 'true': 1, 'love': 5, 'always': 1, 'i': 2, 'me': 3, 'll': 1, 'so': 1, 'know': 1, 'please': 1, 'be': 1, 'oh': 1}\n"
     ]
    }
   ],
   "source": [
    "text = \"Love love me do You know I love you I ll always be true So please love me do Oh love me do\".lower().split()\n",
    "words = {}\n",
    "for word in text:\n",
    "    if word not in words:\n",
    "        words[word] = 0\n",
    "    words[word] += 1\n",
    "    \n",
    "print(words)"
   ]
  },
  {
   "cell_type": "markdown",
   "metadata": {},
   "source": [
    "...написать такое:"
   ]
  },
  {
   "cell_type": "code",
   "execution_count": 20,
   "metadata": {
    "collapsed": false
   },
   "outputs": [
    {
     "name": "stdout",
     "output_type": "stream",
     "text": [
      "defaultdict(<class 'int'>, {'do': 3, 'you': 2, 'true': 1, 'love': 5, 'always': 1, 'i': 2, 'me': 3, 'll': 1, 'so': 1, 'know': 1, 'please': 1, 'be': 1, 'oh': 1})\n"
     ]
    }
   ],
   "source": [
    "from collections import defaultdict\n",
    "\n",
    "words = defaultdict(int)\n",
    "for word in text:\n",
    "    words[word] += 1\n",
    "    \n",
    "print(words)"
   ]
  },
  {
   "cell_type": "markdown",
   "metadata": {},
   "source": [
    "Чтобы `defaultdict`　работал и не падал, нужно передать ему функцию, которая будет возвращать значение по умолчанию при отстутствии ключа. В примере выше используется встроенная функция `int`, которая по умолчанию возвращает 0. Кроме этого можно использовать, например, `list`, `dict` или какую-то свою функцию. "
   ]
  },
  {
   "cell_type": "markdown",
   "metadata": {},
   "source": [
    "## `OrderedDict`\n",
    "\n",
    "Стандартные словари в питоне неупорядочены. То есть если мы будем проходить по двум одинаковым словарям циклом и, например, распечатывать значения, то мы можем получить значения в разном порядке. \n",
    "\n",
    "Если нам важно хранить и сами пары ключ-значение, и порядок, в котором мы их получили, то нум понадобится `OrderedDict`. То, что распечается при проходе по такому словарю, всегда легко предсказуемо - это удобно при тестировании и дебаггинге, например.\n",
    "\n",
    "Поскольку, `OrderedDict` хранит порядок, то его можно использовать совместо с `sorted`, чтобы получить отсортированный словарь. Так что вместо такого:"
   ]
  },
  {
   "cell_type": "code",
   "execution_count": 50,
   "metadata": {
    "collapsed": false
   },
   "outputs": [
    {
     "name": "stdout",
     "output_type": "stream",
     "text": [
      "always - 1  be - 1  do - 3  i - 2  know - 1  ll - 1  love - 5  me - 3  oh - 1  please - 1  so - 1  true - 1  you - 2  "
     ]
    }
   ],
   "source": [
    "for i in sorted(words):\n",
    "    print(i, '-', words[i], end='  ')"
   ]
  },
  {
   "cell_type": "markdown",
   "metadata": {},
   "source": [
    "... или такого:"
   ]
  },
  {
   "cell_type": "code",
   "execution_count": 51,
   "metadata": {
    "collapsed": false
   },
   "outputs": [
    {
     "name": "stdout",
     "output_type": "stream",
     "text": [
      "always - 1  be - 1  know - 1  ll - 1  oh - 1  please - 1  so - 1  true - 1  i - 2  you - 2  do - 3  me - 3  love - 5  "
     ]
    }
   ],
   "source": [
    "for i in sorted(words, key=lambda t: (words[t], t)):\n",
    "    print(i, '-', words[i], end='  ')"
   ]
  },
  {
   "cell_type": "markdown",
   "metadata": {},
   "source": [
    "... можно написать так:"
   ]
  },
  {
   "cell_type": "code",
   "execution_count": 52,
   "metadata": {
    "collapsed": false
   },
   "outputs": [
    {
     "name": "stdout",
     "output_type": "stream",
     "text": [
      "OrderedDict([('always', 1), ('be', 1), ('do', 3), ('i', 2), ('know', 1), ('ll', 1), ('love', 5), ('me', 3), ('oh', 1), ('please', 1), ('so', 1), ('true', 1), ('you', 2)])\n"
     ]
    }
   ],
   "source": [
    "from collections import OrderedDict\n",
    "\n",
    "od = OrderedDict(sorted(words.items()))\n",
    "print(od)"
   ]
  },
  {
   "cell_type": "code",
   "execution_count": 53,
   "metadata": {
    "collapsed": false
   },
   "outputs": [
    {
     "name": "stdout",
     "output_type": "stream",
     "text": [
      "OrderedDict([('always', 1), ('be', 1), ('know', 1), ('ll', 1), ('oh', 1), ('please', 1), ('so', 1), ('true', 1), ('i', 2), ('you', 2), ('do', 3), ('me', 3), ('love', 5)])\n"
     ]
    }
   ],
   "source": [
    "od = OrderedDict(sorted(words.items(), key=lambda t: (t[1], t[0])))\n",
    "print(od)"
   ]
  },
  {
   "cell_type": "code",
   "execution_count": 49,
   "metadata": {
    "collapsed": false
   },
   "outputs": [
    {
     "name": "stdout",
     "output_type": "stream",
     "text": [
      "1\n"
     ]
    }
   ],
   "source": [
    "print(od['always'])"
   ]
  },
  {
   "cell_type": "markdown",
   "metadata": {},
   "source": [
    "## `Counter`\n",
    "\n",
    "`Counter` - это словарь, который, как следует из названия, умеет подсчитывать количество вхождений. \n",
    "\n",
    "`Counter` получает на вход итерируемый объект , например, массив (или строку, или итератор и т.д.), и возвращает словарь, в котором ключи - элементы массива, а значения - количество их вхождений. Значения могут принимать любое целое значение (т.е. можно отрицательные и ноль). \n",
    "\n",
    "Пример с текстом выше, можно было написать так:"
   ]
  },
  {
   "cell_type": "code",
   "execution_count": 58,
   "metadata": {
    "collapsed": false
   },
   "outputs": [
    {
     "name": "stdout",
     "output_type": "stream",
     "text": [
      "Counter({'love': 5, 'do': 3, 'me': 3, 'you': 2, 'i': 2, 'true': 1, 'always': 1, 'll': 1, 'so': 1, 'know': 1, 'please': 1, 'be': 1, 'oh': 1})\n"
     ]
    }
   ],
   "source": [
    "from collections import Counter\n",
    "\n",
    "words = Counter(text)\n",
    "print(words)"
   ]
  },
  {
   "cell_type": "markdown",
   "metadata": {},
   "source": [
    "Как `defaultdict`, `Counter` не падает, когда ключа нет в словаре, а возвращает 0."
   ]
  },
  {
   "cell_type": "code",
   "execution_count": 56,
   "metadata": {
    "collapsed": false
   },
   "outputs": [
    {
     "name": "stdout",
     "output_type": "stream",
     "text": [
      "0\n"
     ]
    }
   ],
   "source": [
    "c = Counter()\n",
    "print(c['hello'])"
   ]
  },
  {
   "cell_type": "markdown",
   "metadata": {},
   "source": [
    "Частые паттерны использования `Counter` (из документации):"
   ]
  },
  {
   "cell_type": "code",
   "execution_count": null,
   "metadata": {
    "collapsed": true
   },
   "outputs": [],
   "source": [
    "sum(c.values())                 # total of all counts\n",
    "c.clear()                       # reset all counts\n",
    "list(c)                         # list unique elements\n",
    "set(c)                          # convert to a set\n",
    "dict(c)                         # convert to a regular dictionary\n",
    "c.items()                       # convert to a list of (elem, cnt) pairs\n",
    "Counter(dict(list_of_pairs))    # convert from a list of (elem, cnt) pairs\n",
    "c.most_common()[:-n-1:-1]       # n least common elements\n",
    "+c                              # remove zero and negative counts"
   ]
  },
  {
   "cell_type": "markdown",
   "metadata": {},
   "source": [
    "# Задания\n",
    "Для заданий понадобится взять какой-то текст.\n",
    "\n",
    "1) Написать функцию, которая считает количество вхождений каждого символа в тексте.\n",
    "\n",
    "2) Предположим каждое слово в тексте пронумеровано. Написать функцию, которая для каждой словоформы в тексте распечатывает все номера, соответствующие ей. Регистр нужно игнорировать. Например:\n",
    "    \n",
    "    вход: `Love love me do You know I love you`\n",
    "    \n",
    "    выход:\n",
    "        "
   ]
  },
  {
   "cell_type": "raw",
   "metadata": {},
   "source": [
    "love - 0, 1, 7\n",
    "me - 2\n",
    "do - 3\n",
    "you - 4, 8\n",
    "know - 5\n",
    "i - 6"
   ]
  }
 ],
 "metadata": {
  "kernelspec": {
   "display_name": "Python 3",
   "language": "python",
   "name": "python3"
  },
  "language_info": {
   "codemirror_mode": {
    "name": "ipython",
    "version": 3
   },
   "file_extension": ".py",
   "mimetype": "text/x-python",
   "name": "python",
   "nbconvert_exporter": "python",
   "pygments_lexer": "ipython3",
   "version": "3.4.3"
  }
 },
 "nbformat": 4,
 "nbformat_minor": 0
}
