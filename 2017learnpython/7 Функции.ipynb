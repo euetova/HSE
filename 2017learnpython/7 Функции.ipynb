{
 "cells": [
  {
   "cell_type": "markdown",
   "metadata": {},
   "source": [
    "# Полезные мелочи"
   ]
  },
  {
   "cell_type": "markdown",
   "metadata": {},
   "source": [
    "## Функции с `*args`"
   ]
  },
  {
   "cell_type": "markdown",
   "metadata": {},
   "source": [
    "Обычно мы пишем функцию и задаем в ней определенное количество аргументов. Такая функция упадет, если мы дадим ей больше аргументов, чем она ждет."
   ]
  },
  {
   "cell_type": "code",
   "execution_count": 1,
   "metadata": {
    "collapsed": false
   },
   "outputs": [
    {
     "name": "stdout",
     "output_type": "stream",
     "text": [
      "(1, 2, 3)\n"
     ]
    },
    {
     "ename": "TypeError",
     "evalue": "f() takes 3 positional arguments but 5 were given",
     "output_type": "error",
     "traceback": [
      "\u001b[1;31m---------------------------------------------------------------------------\u001b[0m",
      "\u001b[1;31mTypeError\u001b[0m                                 Traceback (most recent call last)",
      "\u001b[1;32m<ipython-input-1-62f08a09694f>\u001b[0m in \u001b[0;36m<module>\u001b[1;34m()\u001b[0m\n\u001b[0;32m      3\u001b[0m \u001b[1;33m\u001b[0m\u001b[0m\n\u001b[0;32m      4\u001b[0m \u001b[0mprint\u001b[0m\u001b[1;33m(\u001b[0m\u001b[0mf\u001b[0m\u001b[1;33m(\u001b[0m\u001b[1;36m1\u001b[0m\u001b[1;33m,\u001b[0m \u001b[1;36m2\u001b[0m\u001b[1;33m,\u001b[0m \u001b[1;36m3\u001b[0m\u001b[1;33m)\u001b[0m\u001b[1;33m)\u001b[0m\u001b[1;33m\u001b[0m\u001b[0m\n\u001b[1;32m----> 5\u001b[1;33m \u001b[0mprint\u001b[0m\u001b[1;33m(\u001b[0m\u001b[0mf\u001b[0m\u001b[1;33m(\u001b[0m\u001b[1;36m1\u001b[0m\u001b[1;33m,\u001b[0m \u001b[1;36m2\u001b[0m\u001b[1;33m,\u001b[0m \u001b[1;36m3\u001b[0m\u001b[1;33m,\u001b[0m \u001b[1;36m4\u001b[0m\u001b[1;33m,\u001b[0m \u001b[1;36m5\u001b[0m\u001b[1;33m)\u001b[0m\u001b[1;33m)\u001b[0m\u001b[1;33m\u001b[0m\u001b[0m\n\u001b[0m",
      "\u001b[1;31mTypeError\u001b[0m: f() takes 3 positional arguments but 5 were given"
     ]
    }
   ],
   "source": [
    "def f(x, y, z):\n",
    "    return x, y, z\n",
    "\n",
    "print(f(1, 2, 3))\n",
    "print(f(1, 2, 3, 4, 5))"
   ]
  },
  {
   "cell_type": "markdown",
   "metadata": {},
   "source": [
    "Иногда нужно написать функцию, которая может принять любое количество аргументов, но мы не знаем сколько их. Для этого используется специальный синтаксис:"
   ]
  },
  {
   "cell_type": "code",
   "execution_count": 2,
   "metadata": {
    "collapsed": false
   },
   "outputs": [
    {
     "name": "stdout",
     "output_type": "stream",
     "text": [
      "(1, ())\n",
      "(1, (2, 3, 4))\n",
      "(1, (2, 3, 4, 100, 3000))\n"
     ]
    }
   ],
   "source": [
    "def f_with_arguments(x, *args):\n",
    "    return x, args\n",
    "print(f_with_arguments(1))\n",
    "print(f_with_arguments(1, 2, 3, 4))\n",
    "print(f_with_arguments(1, 2, 3, 4, 100, 3000))"
   ]
  },
  {
   "cell_type": "code",
   "execution_count": 5,
   "metadata": {
    "collapsed": false
   },
   "outputs": [
    {
     "name": "stdout",
     "output_type": "stream",
     "text": [
      "()\n",
      "(1,)\n",
      "(1, 2, 3, 4)\n"
     ]
    }
   ],
   "source": [
    "def f2(*args):\n",
    "    return args\n",
    "print(f2())\n",
    "print(f2(1))\n",
    "print(f2(1,2,3,4))"
   ]
  },
  {
   "cell_type": "markdown",
   "metadata": {},
   "source": [
    "Функции с опциональными аргументами (`*args`) позволяют писать более чистый код и уменьшают визуальный шум.\n",
    "\n",
    "Например, часто вам понадобится использовать функцию, которая записывает логи. Предположим, мы получаем сообщение и набор значений, и хотим записывать их в лог."
   ]
  },
  {
   "cell_type": "code",
   "execution_count": 24,
   "metadata": {
    "collapsed": false
   },
   "outputs": [
    {
     "name": "stdout",
     "output_type": "stream",
     "text": [
      "[03:05:50] Сообщение: Новые числа 1, 2\n",
      "[03:05:50] Сообщение: Привет! \n"
     ]
    }
   ],
   "source": [
    "import time\n",
    "def log(message, values):\n",
    "    print(time.strftime(\"[%H:%M:%S]\"), 'Сообщение:', message, ', '.join(str(i) for i in values))\n",
    "log('Новые числа', [1, 2])  # передаем массив\n",
    "log('Привет!', [])  # передаем пустой массив"
   ]
  },
  {
   "cell_type": "markdown",
   "metadata": {},
   "source": [
    "Когда у нас нет значений, приходится передавать функции пустой массив. Лучше все-таки совсем не писать второй аргумент. Использование `*args` как раз позволяет это сделать. "
   ]
  },
  {
   "cell_type": "code",
   "execution_count": 25,
   "metadata": {
    "collapsed": false
   },
   "outputs": [
    {
     "name": "stdout",
     "output_type": "stream",
     "text": [
      "[03:05:57] Сообщение: Новые числа 1, 2\n",
      "[03:05:57] Сообщение: Привет! \n"
     ]
    }
   ],
   "source": [
    "import time\n",
    "def log(message, *values):\n",
    "    print(time.strftime(\"[%H:%M:%S]\"), 'Сообщение:', message, ', '.join(str(i) for i in values))\n",
    "log('Новые числа', 1, 2)\n",
    "log('Привет!')"
   ]
  },
  {
   "cell_type": "markdown",
   "metadata": {},
   "source": [
    "Если у нас уже есть список и мы хотим передать его в нашу функцию `log`, мы снова можем использовать оператор `*`. Таким образом мы говорим питону передать функции не массив (как один объект), а элементы массива как позиционные аргументы."
   ]
  },
  {
   "cell_type": "code",
   "execution_count": 26,
   "metadata": {
    "collapsed": false
   },
   "outputs": [
    {
     "name": "stdout",
     "output_type": "stream",
     "text": [
      "[03:06:02] Сообщение: Новые данные 100, 3000, 27, 7787\n"
     ]
    }
   ],
   "source": [
    "data = [100, 3000, 27, 7787]\n",
    "log('Новые данные', *data)"
   ]
  },
  {
   "cell_type": "markdown",
   "metadata": {},
   "source": [
    "### Проблемы, которые могут быть у функций с неизвестным числом аргументов:\n",
    "\n",
    "1) Все дополнительные аргументы сначала добавляются в кортеж, и только потом передаются в нашу функцию. Так что если мы передаем в нашу функцию значения, возвращаемые генератором, то функция не запустится, пока генератор не закончит работать. В итоге наша программа может съесть много памяти и вообще может упасть. Поэтому функции с `*args` разумно использовать, когда мы не знаем количество аргументов, но при этом знаем, что это количество не супер-большое."
   ]
  },
  {
   "cell_type": "code",
   "execution_count": 21,
   "metadata": {
    "collapsed": false
   },
   "outputs": [
    {
     "name": "stdout",
     "output_type": "stream",
     "text": [
      "(0, 1, 2, 3, 4, 5, 6, 7, 8, 9)\n"
     ]
    }
   ],
   "source": [
    "def my_generator():\n",
    "    for i in range(10):\n",
    "        yield i\n",
    "        \n",
    "def my_func(*args):\n",
    "    print(args)\n",
    "    \n",
    "it = my_generator()\n",
    "my_func(*it)"
   ]
  },
  {
   "cell_type": "markdown",
   "metadata": {},
   "source": [
    "2) Если функция использует `*args` и при этом используется в каком-то коде, то мы не можем добавить в эту функцию новые позиционные аргументы. То есть можем, но для этого придется отредактировать кажду строчку, где эта функция вызывается."
   ]
  },
  {
   "cell_type": "code",
   "execution_count": 27,
   "metadata": {
    "collapsed": false
   },
   "outputs": [
    {
     "name": "stdout",
     "output_type": "stream",
     "text": [
      "[03:06:10] 1 Сообщение: Новые числа 7, 33\n",
      "[03:06:10] Новые числа Сообщение: 1 2\n"
     ]
    }
   ],
   "source": [
    "def log(new_arg, message, *values):\n",
    "    print(time.strftime(\"[%H:%M:%S]\"), new_arg, 'Сообщение:', message, ', '.join(str(i) for i in values))\n",
    "        \n",
    "log(1, 'Новые числа', 7, 33) # Отредактировали функцию и вызываем по-новому - все окей\n",
    "log('Новые числа', 1, 2)    # используем старый вызов - все срабатывает немножко не так"
   ]
  },
  {
   "cell_type": "markdown",
   "metadata": {},
   "source": [
    "Так появляются баги, которые сложно чинить: программа не падает с ошибкой, но начинает работать неожиданным образом. Чтобы этого избежать, часто пользуются функциями с keyword arguments.\n",
    "\n",
    "## Функции с именованными аргументами \n",
    "\n",
    "Позиционные аргументы всегда можно передавать по названию аргумента (keyword arguments):"
   ]
  },
  {
   "cell_type": "code",
   "execution_count": 29,
   "metadata": {
    "collapsed": false
   },
   "outputs": [
    {
     "name": "stdout",
     "output_type": "stream",
     "text": [
      "6\n",
      "6\n",
      "6\n",
      "6\n"
     ]
    }
   ],
   "source": [
    "def remainder(number, divisor):\n",
    "    return number % divisor\n",
    "\n",
    "print(remainder(20, 7))  # передаем аргументы в том же порядке, в котором они перечислены в определении функции\n",
    "print(remainder(20, divisor=7))  # можно передать некоторые аргументы по имени\n",
    "print(remainder(number=20, divisor=7))  # можно передать все аргументы по имени\n",
    "print(remainder(divisor=7, number=20))  # при этом не важно, в каком порядке"
   ]
  },
  {
   "cell_type": "markdown",
   "metadata": {},
   "source": [
    "Позиционные аргументы ВСЕГДА нужно передавать до keyword-аргументов, иначе все упадет."
   ]
  },
  {
   "cell_type": "code",
   "execution_count": 30,
   "metadata": {
    "collapsed": false
   },
   "outputs": [
    {
     "ename": "SyntaxError",
     "evalue": "non-keyword arg after keyword arg (<ipython-input-30-fa871e527313>, line 1)",
     "output_type": "error",
     "traceback": [
      "\u001b[1;36m  File \u001b[1;32m\"<ipython-input-30-fa871e527313>\"\u001b[1;36m, line \u001b[1;32m1\u001b[0m\n\u001b[1;33m    remainder(number=20, 7)\u001b[0m\n\u001b[1;37m                        ^\u001b[0m\n\u001b[1;31mSyntaxError\u001b[0m\u001b[1;31m:\u001b[0m non-keyword arg after keyword arg\n"
     ]
    }
   ],
   "source": [
    "remainder(number=20, 7)"
   ]
  },
  {
   "cell_type": "markdown",
   "metadata": {},
   "source": [
    "Каждый аргумент нужно передать только один раз."
   ]
  },
  {
   "cell_type": "code",
   "execution_count": 31,
   "metadata": {
    "collapsed": false
   },
   "outputs": [
    {
     "ename": "TypeError",
     "evalue": "remainder() got multiple values for argument 'number'",
     "output_type": "error",
     "traceback": [
      "\u001b[1;31m---------------------------------------------------------------------------\u001b[0m",
      "\u001b[1;31mTypeError\u001b[0m                                 Traceback (most recent call last)",
      "\u001b[1;32m<ipython-input-31-c1d457426b7b>\u001b[0m in \u001b[0;36m<module>\u001b[1;34m()\u001b[0m\n\u001b[1;32m----> 1\u001b[1;33m \u001b[0mremainder\u001b[0m\u001b[1;33m(\u001b[0m\u001b[1;36m20\u001b[0m\u001b[1;33m,\u001b[0m \u001b[0mnumber\u001b[0m\u001b[1;33m=\u001b[0m\u001b[1;36m7\u001b[0m\u001b[1;33m)\u001b[0m\u001b[1;33m\u001b[0m\u001b[0m\n\u001b[0m",
      "\u001b[1;31mTypeError\u001b[0m: remainder() got multiple values for argument 'number'"
     ]
    }
   ],
   "source": [
    "remainder(20, number=7)"
   ]
  },
  {
   "cell_type": "markdown",
   "metadata": {},
   "source": [
    "### Плюсы функций с keyword arguments:\n",
    "1) гибкость (передаем в любом порядке)\n",
    "\n",
    "2) ясность (например, в `remainder(20, 7)` не ясно, что делимое, а что делитель, а в `remainder(divisor=7, number=20)` все очевидно)\n",
    "\n",
    "3) каждому аргументу можно задать значение по умолчанию, которое будет использоваться чаще всего (!меньше повторяющегося кода!)\n",
    "\n",
    "Например, мы пишем функцию, которая делит предложения на слова. Этой функции можно задать какое-то поведение по умолчанию, которое можно менять с помощью именованных аргументов."
   ]
  },
  {
   "cell_type": "code",
   "execution_count": 32,
   "metadata": {
    "collapsed": false
   },
   "outputs": [
    {
     "name": "stdout",
     "output_type": "stream",
     "text": [
      "['привет', 'мир']\n",
      "['Привет,', 'мир!']\n"
     ]
    }
   ],
   "source": [
    "def split_to_words(sent, strip_punct=True, lower=True, punct=',.!?;:'):\n",
    "    if lower:\n",
    "        sent = sent.lower()\n",
    "    words = sent.split()\n",
    "    if strip_punct:\n",
    "        words = [i.strip(punct) for i in words]\n",
    "    return words\n",
    "\n",
    "print(split_to_words('Привет, мир!'))\n",
    "print(split_to_words('Привет, мир!', strip_punct=False, lower=False))"
   ]
  },
  {
   "cell_type": "markdown",
   "metadata": {},
   "source": [
    "Когда мы используем в функции значения по умолчанию, которые могут изменяться, лучше устанавливать в качестве их первого значения None. \n",
    "Примеры.\n",
    "1) массивы:"
   ]
  },
  {
   "cell_type": "code",
   "execution_count": 33,
   "metadata": {
    "collapsed": false
   },
   "outputs": [
    {
     "name": "stdout",
     "output_type": "stream",
     "text": [
      "['Первый вызов функции']\n",
      "['Первый вызов функции', 'Второй вызов']\n",
      "['Вызов с массивом']\n",
      "['Первый вызов функции', 'Второй вызов', 'Сюрприз!']\n"
     ]
    }
   ],
   "source": [
    "def func(x, arr=[]):\n",
    "    arr.append(x)\n",
    "    return arr\n",
    "\n",
    "print(func('Первый вызов функции'))\n",
    "print(func('Второй вызов'))  # добавляется в первый массив\n",
    "k = func('Вызов с массивом', arr=[]) # создается новый массив\n",
    "print(k) \n",
    "print(func('Сюрприз!')) # добавляется в первый массив"
   ]
  },
  {
   "cell_type": "markdown",
   "metadata": {},
   "source": [
    "Чтобы функция вела себя более предсказуемо, используем None."
   ]
  },
  {
   "cell_type": "code",
   "execution_count": 36,
   "metadata": {
    "collapsed": false
   },
   "outputs": [
    {
     "name": "stdout",
     "output_type": "stream",
     "text": [
      "['Первый вызов функции']\n",
      "['Второй вызов']\n",
      "['Вызов с массивом']\n",
      "['Вызов с массивом', 'Сюрприз!']\n"
     ]
    }
   ],
   "source": [
    "def func(x, arr=None):\n",
    "    if arr is None:\n",
    "        arr = []\n",
    "    arr.append(x)\n",
    "    return arr\n",
    "\n",
    "print(func('Первый вызов функции')) # создается новый массив\n",
    "print(func('Второй вызов'))  # создается новый массив \n",
    "k = func('Вызов с массивом', arr=[]) # создается новый массив\n",
    "print(k) \n",
    "print(func('Сюрприз!', arr=k)) # добавляется в предыдущий массив"
   ]
  },
  {
   "cell_type": "markdown",
   "metadata": {},
   "source": [
    "2) метка времени"
   ]
  },
  {
   "cell_type": "code",
   "execution_count": 41,
   "metadata": {
    "collapsed": false
   },
   "outputs": [
    {
     "name": "stdout",
     "output_type": "stream",
     "text": [
      "[03:41:04] Привет!\n",
      "[03:41:04] Привет еще раз!\n"
     ]
    }
   ],
   "source": [
    "def log(message, when=time.strftime(\"[%H:%M:%S]\")):\n",
    "    print(when, message)\n",
    "    \n",
    "log('Привет!')\n",
    "time.sleep(3)\n",
    "log('Привет еще раз!')"
   ]
  },
  {
   "cell_type": "markdown",
   "metadata": {},
   "source": [
    "Временная метка не поменялась, потому что функция `time.strftime(\"[%H:%M:%S]\")` запускается только при первом вызове функции, а не при каждом вызове!\n",
    "\n",
    "То же самое касается словарей, множеств и вообще любых типов, значение которых может изменяться. \n",
    "\n",
    "## Функции с `**kwargs`\n",
    "\n",
    "Так же как мы можем передвать функции любое количество аргументов с помощью `*args`, мы можем передавать ей любые именованные аргументы с помощью `**kwargs`. `**kwargs` представляется в питоне как словарь."
   ]
  },
  {
   "cell_type": "code",
   "execution_count": 42,
   "metadata": {
    "collapsed": false
   },
   "outputs": [
    {
     "name": "stdout",
     "output_type": "stream",
     "text": [
      "{'a': 1, 'b': 2}\n"
     ]
    }
   ],
   "source": [
    "def func(**kwargs):\n",
    "    return kwargs\n",
    "print(func(a=1, b=2))"
   ]
  },
  {
   "cell_type": "markdown",
   "metadata": {},
   "source": [
    "Можно использовать `*args` и `**kwargs` одновременно."
   ]
  },
  {
   "cell_type": "code",
   "execution_count": 43,
   "metadata": {
    "collapsed": false
   },
   "outputs": [
    {
     "name": "stdout",
     "output_type": "stream",
     "text": [
      "((1, 2), {'y': 3, 'x': 1})\n"
     ]
    }
   ],
   "source": [
    "def cool_func(*args, **kwargs):\n",
    "    return args, kwargs\n",
    "print(cool_func(1, 2, x=1, y=3))"
   ]
  },
  {
   "cell_type": "markdown",
   "metadata": {},
   "source": [
    "И точно так же, как со списками, мы можем передавать в функцию готовые словари в качестве `**kwargs`."
   ]
  },
  {
   "cell_type": "code",
   "execution_count": 44,
   "metadata": {
    "collapsed": false
   },
   "outputs": [
    {
     "name": "stdout",
     "output_type": "stream",
     "text": [
      "((), {'roses': 'red', 'grass': 'green', 'violets': 'blue'})\n"
     ]
    }
   ],
   "source": [
    "d = {'roses': 'red', 'violets': 'blue', 'grass': 'green'}\n",
    "print(cool_func(**d))"
   ]
  },
  {
   "cell_type": "markdown",
   "metadata": {},
   "source": [
    "Очень удобно использовать `**kwargs` при создании объектов. Почему? \n",
    "\n",
    "Атрибуты экземпляров объектов и их значения в питоне хранятся в словаре. Ко всем объектам можно применять функцию `vars()`, которая позволяет посмотреть этот словарь. А так же этот словарь можно менять на лету."
   ]
  },
  {
   "cell_type": "code",
   "execution_count": 46,
   "metadata": {
    "collapsed": false
   },
   "outputs": [
    {
     "name": "stdout",
     "output_type": "stream",
     "text": [
      "{'name': 'Linus', 'age': 48, 'surname': 'Torvalds', 'status': 'Software engineer'}\n"
     ]
    }
   ],
   "source": [
    "class Object:\n",
    "    def __init__(self):\n",
    "        pass\n",
    "\n",
    "\n",
    "def create_person(name, surname, age, status):\n",
    "    result = Object()\n",
    "    result.name = name\n",
    "    result.surname = surname\n",
    "    result.age = age\n",
    "    result.status = status\n",
    "    return result\n",
    "\n",
    "x = create_person('Linus', 'Torvalds', 48, 'Software engineer')\n",
    "print(vars(x))"
   ]
  },
  {
   "cell_type": "code",
   "execution_count": 47,
   "metadata": {
    "collapsed": false
   },
   "outputs": [
    {
     "name": "stdout",
     "output_type": "stream",
     "text": [
      "December 28\n"
     ]
    }
   ],
   "source": [
    "vars(x)['birthday'] = 'December 28'\n",
    "print(x.birthday)"
   ]
  },
  {
   "cell_type": "code",
   "execution_count": 48,
   "metadata": {
    "collapsed": false
   },
   "outputs": [
    {
     "name": "stdout",
     "output_type": "stream",
     "text": [
      "{'name': 'Linus', 'age': 48, 'surname': 'Torvalds', 'birthday': 'December 28', 'status': 'Software engineer'}\n"
     ]
    }
   ],
   "source": [
    "print(vars(x))"
   ]
  },
  {
   "cell_type": "markdown",
   "metadata": {},
   "source": [
    "Эти знания мы можем применять, чтобы легко и просто создавать объекты. Например так:"
   ]
  },
  {
   "cell_type": "code",
   "execution_count": 50,
   "metadata": {
    "collapsed": false
   },
   "outputs": [
    {
     "name": "stdout",
     "output_type": "stream",
     "text": [
      "Cat\n",
      "rainbow\n"
     ]
    }
   ],
   "source": [
    "class FurryAnimal:\n",
    "    pass\n",
    "\n",
    "def create(**values):\n",
    "    result = FurryAnimal()\n",
    "    vars(result).update(values)\n",
    "    return result\n",
    "\n",
    "x = create(species='Cat', furriness=100500, color='rainbow')\n",
    "print(x.species)\n",
    "print(x.color)"
   ]
  },
  {
   "cell_type": "markdown",
   "metadata": {},
   "source": [
    "Или даже еще проще:"
   ]
  },
  {
   "cell_type": "code",
   "execution_count": 51,
   "metadata": {
    "collapsed": false
   },
   "outputs": [
    {
     "name": "stdout",
     "output_type": "stream",
     "text": [
      "Nyan-Cat rainbow\n"
     ]
    }
   ],
   "source": [
    "class Struct:\n",
    "    def __init__(self, **values):\n",
    "        vars(self).update(values)\n",
    "        \n",
    "x = Struct(species='Nyan-Cat', furriness=100500, color='rainbow')\n",
    "print(x.species, x.color)"
   ]
  },
  {
   "cell_type": "markdown",
   "metadata": {},
   "source": [
    "# Задания\n",
    "\n",
    "Разберите какой-нибудь текст с помощью Mystem командой\n",
    "\n",
    "    mystem <input >output -cnisd --eng-gr --format json\n",
    "    \n",
    "(Или возьмите готовый файл - `python_mystem.json` в этом репозитории.)\n",
    "\n",
    "Создайте класс Word, в котором будут храниться словоформа, количество разборов, самая частая лемма данного слова, самая частая часть речи этого слова. \n",
    "\n",
    "Нужно создать массив экземпляров класса Word, при этом для каждой словоформы в массив должен быть добавлен только один экземпляр.\n",
    "\n",
    "В вашей программе должна быть хотя бы одна функция (или метод) с `*args` и хотя бы одна функция (или метод) с `**kwargs`."
   ]
  }
 ],
 "metadata": {
  "kernelspec": {
   "display_name": "Python 3",
   "language": "python",
   "name": "python3"
  },
  "language_info": {
   "codemirror_mode": {
    "name": "ipython",
    "version": 3
   },
   "file_extension": ".py",
   "mimetype": "text/x-python",
   "name": "python",
   "nbconvert_exporter": "python",
   "pygments_lexer": "ipython3",
   "version": "3.4.3"
  }
 },
 "nbformat": 4,
 "nbformat_minor": 0
}
